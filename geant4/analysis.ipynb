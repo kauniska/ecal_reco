{
 "cells": [
  {
   "cell_type": "code",
   "execution_count": 2,
   "metadata": {},
   "outputs": [],
   "source": [
    "sys.path.insert(1, '/Users/lucahartman/Documents/EPFL/MA1/project/ecal_reco/tracking/')\n",
    "sys.path.insert(1, '/Users/lucahartman/Documents/EPFL/MA1/project/ecal_reco/utils/')\n",
    "from data_loading import *\n",
    "from hit import Hit\n",
    "from track3D import Track3D\n",
    "from track import Track\n",
    "import pandas as pd\n",
    "import uproot\n",
    "#import uproot3\n",
    "import numpy as np\n",
    "# import track_time_calibration as ttc\n",
    "from matplotlib import pyplot as plt\n",
    "import sys\n",
    "from tqdm import tqdm\n",
    "\n"
   ]
  },
  {
   "cell_type": "code",
   "execution_count": 5,
   "metadata": {},
   "outputs": [],
   "source": [
    "# later, one can use concatenation of data_0001.root - data_0008.root files as well. One is enough for testing\n",
    "file_path = '/Users/lucahartman/Documents/EPFL/MA1/project/ecal_reco/geant4/data.root'\n",
    "\n",
    "branch_list = ['E', 'Edep', 'pdg', 'EcalEdep',\n",
    "               'layerID', 'barID', 'Nhits', 'theta', 'phi', 'x0', 'y0', 'n_sec', 'ProcessID']\n",
    "with uproot.open(file_path) as tree:\n",
    "        hits_dict = tree['events'].arrays(branch_list, library=\"np\")\n",
    "\n",
    "df_hits = pd.DataFrame.from_dict(hits_dict)"
   ]
  },
  {
   "cell_type": "code",
   "execution_count": 9,
   "metadata": {},
   "outputs": [],
   "source": [
    "def create_tracks(df, plot=False):\n",
    "    tracks = []\n",
    "    nb_events = len(df['E'])\n",
    "    steps = 9\n",
    "    buff_start = None\n",
    "    buff_evt_idx = None\n",
    "    dts = []\n",
    "    for index, row in tqdm(df.iterrows(), total=df.shape[0]):\n",
    "        layers = row['layerID']\n",
    "        bars = row['barID']\n",
    "        hitsX = [Hit((layers[i], bars[i]), True, 0, 0, 1) for i in range(len(layers)) if i % 2 == 0]\n",
    "        hitsY = [Hit((layers[i], bars[i]), False, 0, 0, 1) for i in range(len(layers)) if i % 2 == 1]\n",
    "\n",
    "        ## Some events don't have three hits on one of the two sides and are thus not considered\n",
    "        if len(hitsX) > 3 and len(hitsY) > 3:\n",
    "            # get track parameters\n",
    "            track = Track3D()\n",
    "            track.x = Track(hitsX)\n",
    "            track.y = Track(hitsY)\n",
    "            tracks.append(track)\n",
    "\n",
    "    return tracks\n"
   ]
  },
  {
   "cell_type": "code",
   "execution_count": 16,
   "metadata": {},
   "outputs": [
    {
     "name": "stderr",
     "output_type": "stream",
     "text": [
      "100%|██████████| 10/10 [00:03<00:00,  2.92it/s]\n"
     ]
    },
    {
     "name": "stdout",
     "output_type": "stream",
     "text": [
      "####### Track # 2\n",
      "Reduced chi^2 = 0.03\n",
      "t = -0.05,\t x0 = -1.39\n",
      "Reduced chi^2 = 0.03\n",
      "t = -0.05,\t x0 = -1.39\n"
     ]
    },
    {
     "data": {
      "image/png": "[encoded data removed]",
      "text/plain": [
       "<Figure size 1200x600 with 2 Axes>"
      ]
     },
     "metadata": {},
     "output_type": "display_data"
    }
   ],
   "source": [
    "tracks = create_tracks(df_hits.head(10))\n",
    "# testing individual outputs\n",
    "i = np.random.randint(0, len(tracks))\n",
    "print('####### Track # {}'.format(i))\n",
    "t = tracks[i]\n",
    "t.print(True)\n",
    "# t.precise_track()\n",
    "# print('after')\n",
    "# t.print(True)\n"
   ]
  }
 ],
 "metadata": {
  "kernelspec": {
   "display_name": "Python 3.9.15 ('TP4')",
   "language": "python",
   "name": "python3"
  },
  "language_info": {
   "codemirror_mode": {
    "name": "ipython",
    "version": 3
   },
   "file_extension": ".py",
   "mimetype": "text/x-python",
   "name": "python",
   "nbconvert_exporter": "python",
   "pygments_lexer": "ipython3",
   "version": "3.9.15"
  },
  "orig_nbformat": 4,
  "vscode": {
   "interpreter": {
    "hash": "c2fc402571b1c8980a8aa9602e4118b4eb726b15e7f70fdcdd8fa6c317436536"
   }
  }
 },
 "nbformat": 4,
 "nbformat_minor": 2
}
