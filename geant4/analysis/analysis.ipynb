{
 "cells": [
  {
   "cell_type": "code",
   "execution_count": 1,
   "metadata": {},
   "outputs": [],
   "source": [
    "sys.path.insert(1, '/Users/lucahartman/Documents/EPFL/MA1/project/ecal_reco/tracking/')\n",
    "sys.path.insert(1, '/Users/lucahartman/Documents/EPFL/MA1/project/ecal_reco/utils/')\n",
    "from data_loading import *\n",
    "from hit import Hit\n",
    "from track3D import Track3D\n",
    "from track import Track\n",
    "import pandas as pd\n",
    "import uproot\n",
    "#import uproot3\n",
    "import numpy as np\n",
    "# import track_time_calibration as ttc\n",
    "from matplotlib import pyplot as plt\n",
    "import sys\n",
    "from tqdm import tqdm\n",
    "\n"
   ]
  },
  {
   "cell_type": "code",
   "execution_count": 2,
   "metadata": {},
   "outputs": [],
   "source": [
    "# later, one can use concatenation of data_0001.root - data_0008.root files as well. One is enough for testing\n",
    "file_path = '/Users/lucahartman/Documents/EPFL/MA1/project/ecal_reco/geant4/data.root'\n",
    "\n",
    "branch_list = ['E', 'Edep', 'pdg', 'EcalEdep',\n",
    "               'layerID', 'barID', 'Nhits', 'theta', 'phi', 'x0', 'y0', 'n_sec', 'ProcessID']\n",
    "with uproot.open(file_path) as tree:\n",
    "        hits_dict = tree['events'].arrays(branch_list, library=\"np\")\n",
    "\n",
    "df_hits = pd.DataFrame.from_dict(hits_dict)"
   ]
  },
  {
   "cell_type": "code",
   "execution_count": 24,
   "metadata": {},
   "outputs": [],
   "source": [
    "def create_tracks(df, plot=False):\n",
    "    tracks = []\n",
    "    true_parameters = []\n",
    "    nb_events = len(df['E'])\n",
    "    steps = 9\n",
    "    buff_start = None\n",
    "    buff_evt_idx = None\n",
    "    dts = []\n",
    "    for index, row in tqdm(df.iterrows(), total=df.shape[0]):\n",
    "        layers = row['layerID']\n",
    "        bars = row['barID']\n",
    "        Edep = row['EcalEdep']\n",
    "        hitsX = [Hit((bars[i], layers[i]/2 + 1), True, 0, 0, 1) for i in range(len(layers)) if i % 2 == 0 and Edep[i] > 0]\n",
    "        hitsY = [Hit((bars[i], (layers[i]-1)/2 + 1), False, 0, 0, 1) for i in range(len(layers)) if i % 2 == 1 and Edep[i] > 0]\n",
    "\n",
    "        ## Some events don't have three hits on one of the two sides and are thus not considered\n",
    "        if len(hitsX) > 3 and len(hitsY) > 3:\n",
    "            # get track parameters\n",
    "            track = Track3D()\n",
    "            track.x = Track(hitsX)\n",
    "            track.y = Track(hitsY)\n",
    "            tracks.append(track)\n",
    "\n",
    "    return tracks\n"
   ]
  },
  {
   "cell_type": "code",
   "execution_count": 25,
   "metadata": {},
   "outputs": [
    {
     "name": "stderr",
     "output_type": "stream",
     "text": [
      "100%|██████████| 10/10 [00:00<00:00, 5599.87it/s]\n"
     ]
    }
   ],
   "source": [
    "tracks = create_tracks(df_hits.head(10))"
   ]
  },
  {
   "cell_type": "code",
   "execution_count": 26,
   "metadata": {},
   "outputs": [
    {
     "ename": "ValueError",
     "evalue": "high <= 0",
     "output_type": "error",
     "traceback": [
      "\u001b[0;31m---------------------------------------------------------------------------\u001b[0m",
      "\u001b[0;31mValueError\u001b[0m                                Traceback (most recent call last)",
      "Cell \u001b[0;32mIn [26], line 2\u001b[0m\n\u001b[1;32m      1\u001b[0m \u001b[39m# testing individual outputs\u001b[39;00m\n\u001b[0;32m----> 2\u001b[0m i \u001b[39m=\u001b[39m np\u001b[39m.\u001b[39;49mrandom\u001b[39m.\u001b[39;49mrandint(\u001b[39m0\u001b[39;49m, \u001b[39mlen\u001b[39;49m(tracks))\n\u001b[1;32m      3\u001b[0m \u001b[39mprint\u001b[39m(\u001b[39m'\u001b[39m\u001b[39m####### Track # \u001b[39m\u001b[39m{}\u001b[39;00m\u001b[39m'\u001b[39m\u001b[39m.\u001b[39mformat(i))\n\u001b[1;32m      4\u001b[0m t \u001b[39m=\u001b[39m tracks[i]\n",
      "File \u001b[0;32mmtrand.pyx:748\u001b[0m, in \u001b[0;36mnumpy.random.mtrand.RandomState.randint\u001b[0;34m()\u001b[0m\n",
      "File \u001b[0;32m_bounded_integers.pyx:1247\u001b[0m, in \u001b[0;36mnumpy.random._bounded_integers._rand_int64\u001b[0;34m()\u001b[0m\n",
      "\u001b[0;31mValueError\u001b[0m: high <= 0"
     ]
    }
   ],
   "source": [
    "# testing individual outputs\n",
    "i = np.random.randint(0, len(tracks))\n",
    "print('####### Track # {}'.format(i))\n",
    "t = tracks[i]\n",
    "t.print(True)\n",
    "# t.precise_track()\n",
    "# print('after')\n",
    "# t.print(True)\n"
   ]
  }
 ],
 "metadata": {
  "kernelspec": {
   "display_name": "Python 3.9.15 ('TP4')",
   "language": "python",
   "name": "python3"
  },
  "language_info": {
   "codemirror_mode": {
    "name": "ipython",
    "version": 3
   },
   "file_extension": ".py",
   "mimetype": "text/x-python",
   "name": "python",
   "nbconvert_exporter": "python",
   "pygments_lexer": "ipython3",
   "version": "3.9.15"
  },
  "orig_nbformat": 4,
  "vscode": {
   "interpreter": {
    "hash": "c2fc402571b1c8980a8aa9602e4118b4eb726b15e7f70fdcdd8fa6c317436536"
   }
  }
 },
 "nbformat": 4,
 "nbformat_minor": 2
}
