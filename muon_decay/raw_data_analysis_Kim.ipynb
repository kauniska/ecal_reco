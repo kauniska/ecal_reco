{
 "cells": [
  {
   "cell_type": "code",
   "execution_count": 1,
   "metadata": {},
   "outputs": [],
   "source": [
    "import pandas as pd\n",
    "import uproot\n",
    "#import uproot3\n",
    "import numpy as np\n",
    "# import track_time_calibration as ttc\n",
    "from matplotlib import pyplot as plt\n",
    "import sys\n",
    "import os \n",
    "import fnmatch\n",
    "sys.path.insert(1, r\"C:\\Users\\kimyk\\OneDrive\\Bureau\\Master 1\\Projet_LPHE_I\\ecal_reco\\utils\")\n",
    "sys.path.insert(1, r\"C:\\Users\\kimyk\\OneDrive\\Bureau\\Master 1\\Projet_LPHE_I\\ecal_reco\\tracking\")\n",
    "sys.path.insert(1, r\"C:\\Users\\kimyk\\OneDrive\\Bureau\\Master 1\\Projet_LPHE_I\\ecal_reco\\muon_decay\")\n",
    "from track import Track\n",
    "#from track3D import Track3D\n",
    "from hit import Hit\n",
    "from data_loading import *\n",
    "from parameters import *\n",
    "#from tqdm import tqdm\n",
    "from track_reconstruction import plot_hits\n",
    "#from physics import dist_line_rect\n",
    "#import pickle\n",
    "from IPython import display\n",
    "from find_muon_decay_Kim_all_tracks import find_muon_decay_kim_all_tracks\n",
    "#from find_muon_decay_Kim import find_muon_decay_kim\n"
   ]
  },
  {
   "cell_type": "code",
   "execution_count": 2,
   "metadata": {},
   "outputs": [],
   "source": [
    "# Define the paths needed\n",
    "raw_data_directory = r\"C:\\Users\\kimyk\\OneDrive\\Bureau\\Master 1\\Projet_LPHE_I\\ecal_reco\\test_import_root\\\\\" #path to the ecal data\n",
    "current_directory = os.getcwd()\n",
    "data_storage = current_directory+ r\"\\extracted_data\\\\\"\n",
    "runs = []  # List of the runs to analyse. If empty, the program will go through all the data available in the raw_data directory\n",
    "suffix = \"\" # If one wants to re-run on already analysed data without overwriting the extracted data\n",
    "separator = \"\\\\\" # \"/\" if linux or mac"
   ]
  },
  {
   "cell_type": "code",
   "execution_count": null,
   "metadata": {},
   "outputs": [],
   "source": []
  },
  {
   "cell_type": "code",
   "execution_count": 3,
   "metadata": {},
   "outputs": [
    {
     "name": "stdout",
     "output_type": "stream",
     "text": [
      "C:\\Users\\kimyk\\OneDrive\\Bureau\\Master 1\\Projet_LPHE_I\\ecal_reco\\test_import_root\\\\run_000007\n",
      "selected 74.62% of all events\n",
      "      evt_timestamp  evt_number  evt_flags  n_hits  \\\n",
      "0          40756270           0  134217728      16   \n",
      "2          46243369           0  134217728      16   \n",
      "3          46612617           0  134217728      15   \n",
      "4          48821867           0  134217728      22   \n",
      "6          64001295           0  134217728       7   \n",
      "...             ...         ...        ...     ...   \n",
      "1346     8015535180           0  134217728      13   \n",
      "1348     8029513311           0  134217728      11   \n",
      "1349     8038748820           0  134217728      16   \n",
      "1350     8040010220           0  134217728      16   \n",
      "1351     8041959508           0  134217728      16   \n",
      "\n",
      "                                              tofpet_id  \\\n",
      "0      [0, 0, 5, 4, 1, 6, 4, 0, 5, 6, 2, 6, 2, 7, 3, 2]   \n",
      "2      [0, 0, 3, 2, 4, 4, 6, 7, 5, 4, 2, 1, 0, 6, 6, 2]   \n",
      "3         [0, 0, 4, 5, 6, 1, 2, 3, 4, 0, 4, 6, 6, 2, 2]   \n",
      "4     [5, 4, 0, 2, 0, 7, 4, 2, 0, 0, 0, 5, 7, 0, 1, ...   \n",
      "6                                 [1, 4, 4, 3, 4, 2, 6]   \n",
      "...                                                 ...   \n",
      "1346            [4, 0, 2, 3, 4, 6, 4, 7, 6, 1, 5, 6, 3]   \n",
      "1348                  [5, 5, 7, 6, 5, 4, 6, 6, 4, 7, 6]   \n",
      "1349   [4, 0, 4, 5, 4, 0, 2, 3, 6, 7, 1, 6, 7, 0, 2, 2]   \n",
      "1350   [2, 1, 2, 5, 6, 4, 4, 0, 0, 3, 7, 0, 6, 2, 4, 6]   \n",
      "1351   [7, 5, 4, 5, 4, 2, 1, 6, 3, 2, 0, 0, 0, 7, 3, 6]   \n",
      "\n",
      "                                         tofpet_channel  \\\n",
      "0     [59, 31, 59, 47, 43, 57, 23, 3, 52, 37, 5, 13,...   \n",
      "2     [9, 33, 55, 15, 53, 5, 37, 53, 45, 29, 39, 49,...   \n",
      "3     [13, 39, 21, 57, 37, 49, 53, 49, 49, 59, 53, 6...   \n",
      "4     [35, 27, 33, 44, 37, 60, 55, 4, 57, 9, 13, 63,...   \n",
      "6                           [61, 25, 5, 61, 21, 21, 21]   \n",
      "...                                                 ...   \n",
      "1346  [27, 3, 18, 42, 3, 54, 51, 32, 34, 43, 43, 14,...   \n",
      "1348         [48, 36, 50, 22, 44, 24, 18, 42, 4, 62, 2]   \n",
      "1349  [9, 53, 57, 53, 33, 9, 53, 41, 21, 37, 49, 49,...   \n",
      "1350  [58, 50, 34, 36, 30, 16, 62, 30, 50, 46, 46, 6...   \n",
      "1351  [52, 63, 47, 35, 23, 32, 43, 56, 48, 52, 27, 5...   \n",
      "\n",
      "                                              timestamp  \\\n",
      "0     [0.5761249, 0.3408246, 0.5564536, 0.5423206, 0...   \n",
      "2     [0.40113014, 0.51814467, 0.6087374, 0.9203004,...   \n",
      "3     [0.89307535, 0.8646483, 0.959084, 0.879487, 1....   \n",
      "4     [0.863549, 1.1323805, 1.8152744, 1.511927, 1.5...   \n",
      "6     [0.8008301, 0.9212335, 1.0312631, 1.469082, 1....   \n",
      "...                                                 ...   \n",
      "1346  [0.2933698, 0.7511411, 0.65619195, 0.5587566, ...   \n",
      "1348  [0.5055021, 0.4415037, 0.6531268, 0.7309501, 0...   \n",
      "1349  [0.70204055, 0.9675688, 0.62220055, 0.7394233,...   \n",
      "1350  [0.9895822, 0.94860286, 0.9563284, 0.9531769, ...   \n",
      "1351  [0.6999016, 0.15140516, 0.17465086, 0.32288098...   \n",
      "\n",
      "                                               t_coarse  \\\n",
      "0      [0, 0, 0, 0, 0, 0, 0, 0, 0, 1, 1, 1, 1, 1, 1, 1]   \n",
      "2      [0, 0, 0, 0, 0, 0, 0, 0, 0, 0, 0, 0, 0, 0, 1, 1]   \n",
      "3         [0, 0, 0, 0, 1, 1, 1, 1, 1, 1, 1, 1, 1, 1, 1]   \n",
      "4     [0, 1, 1, 1, 1, 1, 1, 1, 1, 1, 1, 1, 1, 1, 1, ...   \n",
      "6                                 [0, 0, 1, 1, 1, 1, 1]   \n",
      "...                                                 ...   \n",
      "1346            [0, 0, 0, 0, 0, 0, 0, 0, 0, 0, 0, 0, 1]   \n",
      "1348                  [0, 0, 0, 0, 0, 0, 0, 1, 1, 1, 1]   \n",
      "1349   [0, 0, 0, 0, 0, 0, 1, 1, 1, 1, 1, 1, 1, 1, 1, 1]   \n",
      "1350   [0, 0, 0, 0, 0, 0, 0, 1, 1, 1, 1, 1, 1, 1, 1, 1]   \n",
      "1351   [0, 0, 0, 0, 0, 0, 0, 0, 0, 0, 0, 0, 0, 1, 1, 1]   \n",
      "\n",
      "                                                 t_fine  \\\n",
      "0     [258, 293, 263, 274, 298, 187, 247, 232, 281, ...   \n",
      "2     [303, 278, 254, 217, 288, 331, 200, 200, 262, ...   \n",
      "3     [198, 206, 190, 213, 265, 306, 281, 294, 276, ...   \n",
      "4     [213, 333, 226, 292, 261, 264, 296, 281, 235, ...   \n",
      "6                   [229, 213, 364, 276, 203, 218, 266]   \n",
      "...                                                 ...   \n",
      "1346  [316, 238, 245, 281, 252, 251, 255, 310, 280, ...   \n",
      "1348  [283, 288, 243, 217, 253, 185, 192, 325, 343, ...   \n",
      "1349  [242, 207, 247, 234, 209, 209, 321, 325, 236, ...   \n",
      "1350  [200, 190, 204, 205, 222, 229, 214, 318, 250, ...   \n",
      "1351  [231, 336, 327, 296, 294, 285, 323, 224, 216, ...   \n",
      "\n",
      "                                               v_coarse  \\\n",
      "0     [34, 34, 40, 52, 42, 38, 40, 36, 48, 37, 35, 3...   \n",
      "2     [41, 40, 40, 44, 40, 43, 38, 38, 42, 44, 32, 4...   \n",
      "3     [34, 32, 48, 42, 38, 41, 36, 38, 38, 33, 39, 3...   \n",
      "4     [40, 47, 40, 38, 44, 38, 56, 40, 32, 41, 33, 3...   \n",
      "6                          [38, 52, 43, 32, 48, 36, 38]   \n",
      "...                                                 ...   \n",
      "1346  [47, 36, 44, 42, 42, 38, 44, 38, 34, 41, 35, 3...   \n",
      "1348       [38, 39, 38, 36, 38, 42, 32, 33, 39, 36, 35]   \n",
      "1349  [42, 36, 56, 34, 56, 42, 35, 39, 38, 44, 41, 4...   \n",
      "1350  [38, 44, 38, 40, 36, 38, 44, 37, 42, 41, 40, 3...   \n",
      "1351  [38, 35, 51, 39, 40, 42, 41, 36, 38, 38, 40, 3...   \n",
      "\n",
      "                                                 v_fine  \\\n",
      "0     [56, 58, 51, 64, 54, 39, 47, 51, 48, 46, 48, 4...   \n",
      "2     [44, 44, 49, 50, 52, 46, 47, 45, 52, 48, 53, 4...   \n",
      "3     [54, 59, 52, 62, 50, 45, 58, 45, 56, 54, 48, 5...   \n",
      "4     [56, 46, 41, 56, 44, 51, 61, 56, 55, 44, 50, 5...   \n",
      "6                          [55, 63, 47, 52, 55, 55, 44]   \n",
      "...                                                 ...   \n",
      "1346  [47, 50, 48, 55, 48, 49, 46, 49, 50, 51, 53, 4...   \n",
      "1348       [59, 60, 47, 53, 60, 51, 47, 51, 48, 51, 46]   \n",
      "1349  [53, 49, 54, 55, 61, 46, 55, 46, 43, 44, 44, 3...   \n",
      "1350  [48, 44, 51, 48, 57, 50, 52, 57, 49, 41, 46, 4...   \n",
      "1351  [43, 57, 59, 49, 50, 49, 51, 44, 48, 47, 56, 5...   \n",
      "\n",
      "                                                  value  timestamp_event  \n",
      "0     [-0.67367697, 0.9843652, -0.9675708, -1.932119...         40756270  \n",
      "2     [0.030900648, -0.4026682, 1.2161347, -2.619820...         46243369  \n",
      "3     [1.1739556, 2.9778442, -1.842819, 0.5223973, -...         46612617  \n",
      "4     [0.9395916, -1.509778, -3.6363575, -2.2081628,...         48821867  \n",
      "6     [3.4986832, 5.604231, 0.9158384, 1.371552, -1....         64001295  \n",
      "...                                                 ...              ...  \n",
      "1346  [-0.40431693, -2.19048, -1.5274739, 0.7872926,...       8015535180  \n",
      "1348  [2.347213, 12.0949545, -1.6275992, 5.5178847, ...       8029513311  \n",
      "1349  [2.062825, -0.42202267, 0.6000185, -3.7480927,...       8038748820  \n",
      "1350  [-0.7287064, -0.7938886, -1.2469344, -0.619256...       8040010220  \n",
      "1351  [-2.6734998, -1.2623112, -1.278106, -1.6327038...       8041959508  \n",
      "\n",
      "[1000 rows x 13 columns] raw_data_directory\n"
     ]
    },
    {
     "name": "stderr",
     "output_type": "stream",
     "text": [
      "100%|██████████| 1000/1000 [00:07<00:00, 131.71it/s]\n"
     ]
    },
    {
     "name": "stdout",
     "output_type": "stream",
     "text": [
      "      evt_timestamp  evt_number  evt_flags  n_hits  \\\n",
      "0          40756270           0  134217728      16   \n",
      "2          46243369           0  134217728      16   \n",
      "3          46612617           0  134217728      15   \n",
      "4          48821867           0  134217728      22   \n",
      "6          64001295           0  134217728       7   \n",
      "...             ...         ...        ...     ...   \n",
      "1346     8015535180           0  134217728      13   \n",
      "1348     8029513311           0  134217728      11   \n",
      "1349     8038748820           0  134217728      16   \n",
      "1350     8040010220           0  134217728      16   \n",
      "1351     8041959508           0  134217728      16   \n",
      "\n",
      "                                              tofpet_id  \\\n",
      "0      [0, 0, 5, 4, 1, 6, 4, 0, 5, 6, 2, 6, 2, 7, 3, 2]   \n",
      "2      [0, 0, 3, 2, 4, 4, 6, 7, 5, 4, 2, 1, 0, 6, 6, 2]   \n",
      "3         [0, 0, 4, 5, 6, 1, 2, 3, 4, 0, 4, 6, 6, 2, 2]   \n",
      "4     [5, 4, 0, 2, 0, 7, 4, 2, 0, 0, 0, 5, 7, 0, 1, ...   \n",
      "6                                 [1, 4, 4, 3, 4, 2, 6]   \n",
      "...                                                 ...   \n",
      "1346            [4, 0, 2, 3, 4, 6, 4, 7, 6, 1, 5, 6, 3]   \n",
      "1348                  [5, 5, 7, 6, 5, 4, 6, 6, 4, 7, 6]   \n",
      "1349   [4, 0, 4, 5, 4, 0, 2, 3, 6, 7, 1, 6, 7, 0, 2, 2]   \n",
      "1350   [2, 1, 2, 5, 6, 4, 4, 0, 0, 3, 7, 0, 6, 2, 4, 6]   \n",
      "1351   [7, 5, 4, 5, 4, 2, 1, 6, 3, 2, 0, 0, 0, 7, 3, 6]   \n",
      "\n",
      "                                         tofpet_channel  \\\n",
      "0     [59, 31, 59, 47, 43, 57, 23, 3, 52, 37, 5, 13,...   \n",
      "2     [9, 33, 55, 15, 53, 5, 37, 53, 45, 29, 39, 49,...   \n",
      "3     [13, 39, 21, 57, 37, 49, 53, 49, 49, 59, 53, 6...   \n",
      "4     [35, 27, 33, 44, 37, 60, 55, 4, 57, 9, 13, 63,...   \n",
      "6                           [61, 25, 5, 61, 21, 21, 21]   \n",
      "...                                                 ...   \n",
      "1346  [27, 3, 18, 42, 3, 54, 51, 32, 34, 43, 43, 14,...   \n",
      "1348         [48, 36, 50, 22, 44, 24, 18, 42, 4, 62, 2]   \n",
      "1349  [9, 53, 57, 53, 33, 9, 53, 41, 21, 37, 49, 49,...   \n",
      "1350  [58, 50, 34, 36, 30, 16, 62, 30, 50, 46, 46, 6...   \n",
      "1351  [52, 63, 47, 35, 23, 32, 43, 56, 48, 52, 27, 5...   \n",
      "\n",
      "                                              timestamp  \\\n",
      "0     [0.5761249, 0.3408246, 0.5564536, 0.5423206, 0...   \n",
      "2     [0.40113014, 0.51814467, 0.6087374, 0.9203004,...   \n",
      "3     [0.89307535, 0.8646483, 0.959084, 0.879487, 1....   \n",
      "4     [0.863549, 1.1323805, 1.8152744, 1.511927, 1.5...   \n",
      "6     [0.8008301, 0.9212335, 1.0312631, 1.469082, 1....   \n",
      "...                                                 ...   \n",
      "1346  [0.2933698, 0.7511411, 0.65619195, 0.5587566, ...   \n",
      "1348  [0.5055021, 0.4415037, 0.6531268, 0.7309501, 0...   \n",
      "1349  [0.70204055, 0.9675688, 0.62220055, 0.7394233,...   \n",
      "1350  [0.9895822, 0.94860286, 0.9563284, 0.9531769, ...   \n",
      "1351  [0.6999016, 0.15140516, 0.17465086, 0.32288098...   \n",
      "\n",
      "                                               t_coarse  \\\n",
      "0      [0, 0, 0, 0, 0, 0, 0, 0, 0, 1, 1, 1, 1, 1, 1, 1]   \n",
      "2      [0, 0, 0, 0, 0, 0, 0, 0, 0, 0, 0, 0, 0, 0, 1, 1]   \n",
      "3         [0, 0, 0, 0, 1, 1, 1, 1, 1, 1, 1, 1, 1, 1, 1]   \n",
      "4     [0, 1, 1, 1, 1, 1, 1, 1, 1, 1, 1, 1, 1, 1, 1, ...   \n",
      "6                                 [0, 0, 1, 1, 1, 1, 1]   \n",
      "...                                                 ...   \n",
      "1346            [0, 0, 0, 0, 0, 0, 0, 0, 0, 0, 0, 0, 1]   \n",
      "1348                  [0, 0, 0, 0, 0, 0, 0, 1, 1, 1, 1]   \n",
      "1349   [0, 0, 0, 0, 0, 0, 1, 1, 1, 1, 1, 1, 1, 1, 1, 1]   \n",
      "1350   [0, 0, 0, 0, 0, 0, 0, 1, 1, 1, 1, 1, 1, 1, 1, 1]   \n",
      "1351   [0, 0, 0, 0, 0, 0, 0, 0, 0, 0, 0, 0, 0, 1, 1, 1]   \n",
      "\n",
      "                                                 t_fine  \\\n",
      "0     [258, 293, 263, 274, 298, 187, 247, 232, 281, ...   \n",
      "2     [303, 278, 254, 217, 288, 331, 200, 200, 262, ...   \n",
      "3     [198, 206, 190, 213, 265, 306, 281, 294, 276, ...   \n",
      "4     [213, 333, 226, 292, 261, 264, 296, 281, 235, ...   \n",
      "6                   [229, 213, 364, 276, 203, 218, 266]   \n",
      "...                                                 ...   \n",
      "1346  [316, 238, 245, 281, 252, 251, 255, 310, 280, ...   \n",
      "1348  [283, 288, 243, 217, 253, 185, 192, 325, 343, ...   \n",
      "1349  [242, 207, 247, 234, 209, 209, 321, 325, 236, ...   \n",
      "1350  [200, 190, 204, 205, 222, 229, 214, 318, 250, ...   \n",
      "1351  [231, 336, 327, 296, 294, 285, 323, 224, 216, ...   \n",
      "\n",
      "                                               v_coarse  \\\n",
      "0     [34, 34, 40, 52, 42, 38, 40, 36, 48, 37, 35, 3...   \n",
      "2     [41, 40, 40, 44, 40, 43, 38, 38, 42, 44, 32, 4...   \n",
      "3     [34, 32, 48, 42, 38, 41, 36, 38, 38, 33, 39, 3...   \n",
      "4     [40, 47, 40, 38, 44, 38, 56, 40, 32, 41, 33, 3...   \n",
      "6                          [38, 52, 43, 32, 48, 36, 38]   \n",
      "...                                                 ...   \n",
      "1346  [47, 36, 44, 42, 42, 38, 44, 38, 34, 41, 35, 3...   \n",
      "1348       [38, 39, 38, 36, 38, 42, 32, 33, 39, 36, 35]   \n",
      "1349  [42, 36, 56, 34, 56, 42, 35, 39, 38, 44, 41, 4...   \n",
      "1350  [38, 44, 38, 40, 36, 38, 44, 37, 42, 41, 40, 3...   \n",
      "1351  [38, 35, 51, 39, 40, 42, 41, 36, 38, 38, 40, 3...   \n",
      "\n",
      "                                                 v_fine  \\\n",
      "0     [56, 58, 51, 64, 54, 39, 47, 51, 48, 46, 48, 4...   \n",
      "2     [44, 44, 49, 50, 52, 46, 47, 45, 52, 48, 53, 4...   \n",
      "3     [54, 59, 52, 62, 50, 45, 58, 45, 56, 54, 48, 5...   \n",
      "4     [56, 46, 41, 56, 44, 51, 61, 56, 55, 44, 50, 5...   \n",
      "6                          [55, 63, 47, 52, 55, 55, 44]   \n",
      "...                                                 ...   \n",
      "1346  [47, 50, 48, 55, 48, 49, 46, 49, 50, 51, 53, 4...   \n",
      "1348       [59, 60, 47, 53, 60, 51, 47, 51, 48, 51, 46]   \n",
      "1349  [53, 49, 54, 55, 61, 46, 55, 46, 43, 44, 44, 3...   \n",
      "1350  [48, 44, 51, 48, 57, 50, 52, 57, 49, 41, 46, 4...   \n",
      "1351  [43, 57, 59, 49, 50, 49, 51, 44, 48, 47, 56, 5...   \n",
      "\n",
      "                                                  value  timestamp_event  \n",
      "0     [-0.67367697, 0.9843652, -0.9675708, -1.932119...         40756270  \n",
      "2     [0.030900648, -0.4026682, 1.2161347, -2.619820...         46243369  \n",
      "3     [1.1739556, 2.9778442, -1.842819, 0.5223973, -...         46612617  \n",
      "4     [0.9395916, -1.509778, -3.6363575, -2.2081628,...         48821867  \n",
      "6     [3.4986832, 5.604231, 0.9158384, 1.371552, -1....         64001295  \n",
      "...                                                 ...              ...  \n",
      "1346  [-0.40431693, -2.19048, -1.5274739, 0.7872926,...       8015535180  \n",
      "1348  [2.347213, 12.0949545, -1.6275992, 5.5178847, ...       8029513311  \n",
      "1349  [2.062825, -0.42202267, 0.6000185, -3.7480927,...       8038748820  \n",
      "1350  [-0.7287064, -0.7938886, -1.2469344, -0.619256...       8040010220  \n",
      "1351  [-2.6734998, -1.2623112, -1.278106, -1.6327038...       8041959508  \n",
      "\n",
      "[1000 rows x 13 columns] \n",
      " finish \n",
      " \n"
     ]
    }
   ],
   "source": [
    "# Analyse data\n",
    "if len(runs) == 0:\n",
    "    runs = fnmatch.filter(os.listdir(raw_data_directory), '*')\n",
    "\n",
    "for run in runs:\n",
    "    print(raw_data_directory +run)\n",
    "    df_hits_total, df_hits, og_len, new_len = load_run(raw_data_directory+run+ \"\\\\\" )\n",
    "    df_hits_total=df_hits_total[0:1000]\n",
    "    df_hits=df_hits[0:1000]\n",
    "    print(df_hits, \"raw_data_directory\")\n",
    "    #print(df_hits[6], '\\n\\n')\n",
    "    _ ,_ = find_muon_decay_kim_all_tracks(df_hits,df_hits_total, save_indices = True, save_time_intervals=True, save_hits = True, save_stats = True, \\\n",
    "                    run_name = \"_\"+run, storage_dir = data_storage, \\\n",
    "                    return_stats = False)\n",
    "    \n",
    "    #print(str(candidate_index)+ '\\n'+ str(time_intervals)+'\\n' )\n",
    "\n",
    "    print(df_hits, '\\n finish \\n ')\n",
    "    \n"
   ]
  },
  {
   "cell_type": "code",
   "execution_count": 4,
   "metadata": {},
   "outputs": [
    {
     "name": "stdout",
     "output_type": "stream",
     "text": [
      "selected 74.62% of all events\n"
     ]
    }
   ],
   "source": [
    "# Load of the data frame to visualize the decays\n",
    "run = \"run_000007\"\n",
    "\n",
    "# Load the data\n",
    "df_hits_total, df_hits, og_len, new_len = load_run(raw_data_directory+run+\"\\\\\")\n"
   ]
  },
  {
   "cell_type": "code",
   "execution_count": 5,
   "metadata": {},
   "outputs": [],
   "source": [
    "\n",
    "good_candidates = np.loadtxt(data_storage+\"events_indices_\"+run+\".txt\")"
   ]
  },
  {
   "cell_type": "code",
   "execution_count": 6,
   "metadata": {},
   "outputs": [
    {
     "data": {
      "image/png": "[encoded data removed]",
      "text/plain": [
       "<Figure size 960x400 with 1 Axes>"
      ]
     },
     "metadata": {},
     "output_type": "display_data"
    },
    {
     "data": {
      "image/png": "[encoded data removed]",
      "text/plain": [
       "<Figure size 960x400 with 1 Axes>"
      ]
     },
     "metadata": {},
     "output_type": "display_data"
    },
    {
     "data": {
      "image/png": "[encoded data removed]",
      "text/plain": [
       "<Figure size 960x400 with 1 Axes>"
      ]
     },
     "metadata": {},
     "output_type": "display_data"
    }
   ],
   "source": [
    "#This cell allows to plot the final candidates for muon decay (original track + next event)\n",
    "#press enter to plot the next candidate, press and caracter + enter to stop the loop\n",
    "%matplotlib inline\n",
    "\n",
    "i = 0\n",
    "\n",
    "kb = \"\"\n",
    "while kb == \"\":\n",
    "    event = df_hits.loc[good_candidates[i]]\n",
    "    next_event = df_hits_total.loc[good_candidates[i]+1]\n",
    "\n",
    "    hits = [Hit(event,i) for i in range(event['n_hits'])]\n",
    "    hitsX = [h for h in hits if h.is_sidex]\n",
    "    hits_next_event = [Hit(next_event,i) for i in range(next_event['n_hits'])]\n",
    "    hitsX_next_event = [h for h in hits_next_event if h.is_sidex]\n",
    "\n",
    "    track = Track(hitsX)\n",
    "    fig,ax = plot_hits(hits,True,True,scaling = 0.5)#,hits_next = hits_next_event)\n",
    "    z = np.linspace(0,16)\n",
    "    x = track.t*z+track.x0\n",
    "    ax.plot(x,z,'r-')\n",
    "    display.clear_output(wait=False)\n",
    "    print(\"i = \", i)\n",
    "    print(hits_next_event[0].evt_timestamp-hits_next_event[0].timestamp-hits[-1].evt_timestamp+hits[-1].timestamp)\n",
    "    fig.savefig(\"fig_muon_decay_problem.pdf\".format(i))\n",
    "    display.display(fig)\n",
    "    kb = input()\n",
    "    i = i+1\n",
    "\n",
    "display.clear_output(wait=False)"
   ]
  },
  {
   "cell_type": "code",
   "execution_count": 7,
   "metadata": {},
   "outputs": [
    {
     "name": "stdout",
     "output_type": "stream",
     "text": [
      "c:\\Users\\kimyk\\OneDrive\\Bureau\\Master 1\\Projet_LPHE_I\\ecal_reco\\muon_decay\\extracted_data\\\\\n",
      "\n"
     ]
    }
   ],
   "source": [
    "print(data_storage+'\\n')"
   ]
  },
  {
   "cell_type": "code",
   "execution_count": 8,
   "metadata": {},
   "outputs": [],
   "source": [
    "filtering = pd.read_pickle(data_storage+r\"filtering_data_\" +run)\n",
    "og_len = filtering['og_len'][0]\n",
    "new_len = filtering['new_len'][0]\n",
    "#low_number = filtering['low_number'][0]\n",
    "wrong_number = filtering['wrong_number'][0]\n",
    "not_pass_through = filtering['not_pass_through'][0]\n",
    "#bottom_touch = filtering['bottom_touch'][0]\n",
    "side_touch = filtering['side_touch'][0]\n",
    "bad_fit = filtering['bad_fit'][0]\n",
    "#too_large_time_interval = filtering['too_large_time_interval'][0]\n",
    "double_hit_same_z = filtering['double_hit_same_z'][0]\n",
    "hits_far_from_track = filtering['hits_far_from_track'][0]\n",
    "\n",
    "#no_spacial_correlation = filtering['no_spacial_correlation'][0]\n"
   ]
  },
  {
   "cell_type": "code",
   "execution_count": 9,
   "metadata": {},
   "outputs": [
    {
     "ename": "KeyError",
     "evalue": "'no_spacial_correlation'",
     "output_type": "error",
     "traceback": [
      "\u001b[1;31m---------------------------------------------------------------------------\u001b[0m",
      "\u001b[1;31mKeyError\u001b[0m                                  Traceback (most recent call last)",
      "File \u001b[1;32mc:\\Users\\kimyk\\mambaforge\\lib\\site-packages\\pandas\\core\\indexes\\base.py:3790\u001b[0m, in \u001b[0;36mIndex.get_loc\u001b[1;34m(self, key)\u001b[0m\n\u001b[0;32m   3789\u001b[0m \u001b[39mtry\u001b[39;00m:\n\u001b[1;32m-> 3790\u001b[0m     \u001b[39mreturn\u001b[39;00m \u001b[39mself\u001b[39;49m\u001b[39m.\u001b[39;49m_engine\u001b[39m.\u001b[39;49mget_loc(casted_key)\n\u001b[0;32m   3791\u001b[0m \u001b[39mexcept\u001b[39;00m \u001b[39mKeyError\u001b[39;00m \u001b[39mas\u001b[39;00m err:\n",
      "File \u001b[1;32mindex.pyx:152\u001b[0m, in \u001b[0;36mpandas._libs.index.IndexEngine.get_loc\u001b[1;34m()\u001b[0m\n",
      "File \u001b[1;32mindex.pyx:181\u001b[0m, in \u001b[0;36mpandas._libs.index.IndexEngine.get_loc\u001b[1;34m()\u001b[0m\n",
      "File \u001b[1;32mpandas\\_libs\\hashtable_class_helper.pxi:7080\u001b[0m, in \u001b[0;36mpandas._libs.hashtable.PyObjectHashTable.get_item\u001b[1;34m()\u001b[0m\n",
      "File \u001b[1;32mpandas\\_libs\\hashtable_class_helper.pxi:7088\u001b[0m, in \u001b[0;36mpandas._libs.hashtable.PyObjectHashTable.get_item\u001b[1;34m()\u001b[0m\n",
      "\u001b[1;31mKeyError\u001b[0m: 'no_spacial_correlation'",
      "\nThe above exception was the direct cause of the following exception:\n",
      "\u001b[1;31mKeyError\u001b[0m                                  Traceback (most recent call last)",
      "\u001b[1;32mc:\\Users\\kimyk\\OneDrive\\Bureau\\Master 1\\Projet_LPHE_I\\ecal_reco\\muon_decay\\raw_data_analysis_Kim.ipynb Cell 10\u001b[0m line \u001b[0;36m2\n\u001b[0;32m     <a href='vscode-notebook-cell:/c%3A/Users/kimyk/OneDrive/Bureau/Master%201/Projet_LPHE_I/ecal_reco/muon_decay/raw_data_analysis_Kim.ipynb#X10sZmlsZQ%3D%3D?line=25'>26</a>\u001b[0m \u001b[39m#too_large_time_interval += filtering['too_large_time_interval'][0]\u001b[39;00m\n\u001b[0;32m     <a href='vscode-notebook-cell:/c%3A/Users/kimyk/OneDrive/Bureau/Master%201/Projet_LPHE_I/ecal_reco/muon_decay/raw_data_analysis_Kim.ipynb#X10sZmlsZQ%3D%3D?line=26'>27</a>\u001b[0m hits_far_from_track \u001b[39m+\u001b[39m\u001b[39m=\u001b[39m filtering[\u001b[39m'\u001b[39m\u001b[39mhits_far_from_track\u001b[39m\u001b[39m'\u001b[39m][\u001b[39m0\u001b[39m]\n\u001b[1;32m---> <a href='vscode-notebook-cell:/c%3A/Users/kimyk/OneDrive/Bureau/Master%201/Projet_LPHE_I/ecal_reco/muon_decay/raw_data_analysis_Kim.ipynb#X10sZmlsZQ%3D%3D?line=27'>28</a>\u001b[0m no_spacial_correlation \u001b[39m+\u001b[39m\u001b[39m=\u001b[39m filtering[\u001b[39m'\u001b[39;49m\u001b[39mno_spacial_correlation\u001b[39;49m\u001b[39m'\u001b[39;49m][\u001b[39m0\u001b[39m]\n",
      "File \u001b[1;32mc:\\Users\\kimyk\\mambaforge\\lib\\site-packages\\pandas\\core\\frame.py:3896\u001b[0m, in \u001b[0;36mDataFrame.__getitem__\u001b[1;34m(self, key)\u001b[0m\n\u001b[0;32m   3894\u001b[0m \u001b[39mif\u001b[39;00m \u001b[39mself\u001b[39m\u001b[39m.\u001b[39mcolumns\u001b[39m.\u001b[39mnlevels \u001b[39m>\u001b[39m \u001b[39m1\u001b[39m:\n\u001b[0;32m   3895\u001b[0m     \u001b[39mreturn\u001b[39;00m \u001b[39mself\u001b[39m\u001b[39m.\u001b[39m_getitem_multilevel(key)\n\u001b[1;32m-> 3896\u001b[0m indexer \u001b[39m=\u001b[39m \u001b[39mself\u001b[39;49m\u001b[39m.\u001b[39;49mcolumns\u001b[39m.\u001b[39;49mget_loc(key)\n\u001b[0;32m   3897\u001b[0m \u001b[39mif\u001b[39;00m is_integer(indexer):\n\u001b[0;32m   3898\u001b[0m     indexer \u001b[39m=\u001b[39m [indexer]\n",
      "File \u001b[1;32mc:\\Users\\kimyk\\mambaforge\\lib\\site-packages\\pandas\\core\\indexes\\base.py:3797\u001b[0m, in \u001b[0;36mIndex.get_loc\u001b[1;34m(self, key)\u001b[0m\n\u001b[0;32m   3792\u001b[0m     \u001b[39mif\u001b[39;00m \u001b[39misinstance\u001b[39m(casted_key, \u001b[39mslice\u001b[39m) \u001b[39mor\u001b[39;00m (\n\u001b[0;32m   3793\u001b[0m         \u001b[39misinstance\u001b[39m(casted_key, abc\u001b[39m.\u001b[39mIterable)\n\u001b[0;32m   3794\u001b[0m         \u001b[39mand\u001b[39;00m \u001b[39many\u001b[39m(\u001b[39misinstance\u001b[39m(x, \u001b[39mslice\u001b[39m) \u001b[39mfor\u001b[39;00m x \u001b[39min\u001b[39;00m casted_key)\n\u001b[0;32m   3795\u001b[0m     ):\n\u001b[0;32m   3796\u001b[0m         \u001b[39mraise\u001b[39;00m InvalidIndexError(key)\n\u001b[1;32m-> 3797\u001b[0m     \u001b[39mraise\u001b[39;00m \u001b[39mKeyError\u001b[39;00m(key) \u001b[39mfrom\u001b[39;00m \u001b[39merr\u001b[39;00m\n\u001b[0;32m   3798\u001b[0m \u001b[39mexcept\u001b[39;00m \u001b[39mTypeError\u001b[39;00m:\n\u001b[0;32m   3799\u001b[0m     \u001b[39m# If we have a listlike key, _check_indexing_error will raise\u001b[39;00m\n\u001b[0;32m   3800\u001b[0m     \u001b[39m#  InvalidIndexError. Otherwise we fall through and re-raise\u001b[39;00m\n\u001b[0;32m   3801\u001b[0m     \u001b[39m#  the TypeError.\u001b[39;00m\n\u001b[0;32m   3802\u001b[0m     \u001b[39mself\u001b[39m\u001b[39m.\u001b[39m_check_indexing_error(key)\n",
      "\u001b[1;31mKeyError\u001b[0m: 'no_spacial_correlation'"
     ]
    }
   ],
   "source": [
    "# Stats on the whole set of analysed data\n",
    "og_len = 0\n",
    "new_len = 0\n",
    "low_number = 0\n",
    "bottom_touch = 0\n",
    "side_touch = 0\n",
    "bad_fit = 0\n",
    "too_large_time_interval = 0\n",
    "hits_far_from_track = 0\n",
    "no_spacial_correlation = 0\n",
    "\n",
    "n_good_candidates = 0\n",
    "\n",
    "runs = fnmatch.filter(os.listdir(raw_data_directory), '*')\n",
    "for run in runs:\n",
    "    time_intervals = np.loadtxt(data_storage+\"events_indices_\"+run+\".txt\")\n",
    "    n_good_candidates += len(time_intervals)\n",
    "\n",
    "    filtering = pd.read_pickle(data_storage+\"filtering_data\"+\"_\"+run)\n",
    "    og_len += filtering['og_len'][0]\n",
    "    new_len += filtering['new_len'][0]\n",
    "    #low_number += filtering['low_number'][0]\n",
    "    #bottom_touch += filtering['bottom_touch'][0]\n",
    "    side_touch += filtering['side_touch'][0]\n",
    "    bad_fit += filtering['bad_fit'][0]\n",
    "    #too_large_time_interval += filtering['too_large_time_interval'][0]\n",
    "    hits_far_from_track += filtering['hits_far_from_track'][0]\n",
    "    no_spacial_correlation += filtering['no_spacial_correlation'][0]\n",
    "\n"
   ]
  },
  {
   "cell_type": "code",
   "execution_count": null,
   "metadata": {},
   "outputs": [
    {
     "name": "stdout",
     "output_type": "stream",
     "text": [
      "original length :  1000\n",
      "n_hits between 6 and 50 :  1000\n",
      "⤷ Too low number of hits in one plane :  0  over  1000\n",
      " ⤷ Last layer touched : \t\t 0  over  1000\n",
      "  ⤷ Possible side exit : \t\t 0  over  1000\n",
      "   ⤷ Bad fit : \t\t\t\t 0  over  1000\n",
      "    ⤷ Too large time interval : \t 0  over  1000\n",
      "     ⤷ Hits far from track : \t\t 0  over  1000\n",
      "      ⤷ No spacial correlation : \t 0  over  1000\n",
      "Final number :  172\n"
     ]
    }
   ],
   "source": [
    "# Showcase of the numbers of rejection at each step of the filtering \n",
    "print(\"original length : \", og_len)\n",
    "print(\"n_hits between 6 and 50 : \", new_len)\n",
    "n = new_len\n",
    "print(\"\\u2937 Too low number of hits in one plane : \", low_number, \" over \", n)\n",
    "n -= low_number\n",
    "print(\" \\u2937 Last layer touched : \\t\\t\", bottom_touch, \" over \", n)\n",
    "n -= bottom_touch\n",
    "print(\"  \\u2937 Possible side exit : \\t\\t\", side_touch, \" over \", n)\n",
    "n -= side_touch\n",
    "print(\"   \\u2937 Bad fit : \\t\\t\\t\\t\", bad_fit, \" over \", n)\n",
    "n -= bad_fit\n",
    "print(\"    \\u2937 Too large time interval : \\t\", too_large_time_interval, \" over \", n)\n",
    "n -= too_large_time_interval\n",
    "print(\"     \\u2937 Hits far from track : \\t\\t\", hits_far_from_track, \" over \", n)\n",
    "n -= hits_far_from_track\n",
    "print(\"      \\u2937 No spacial correlation : \\t\", no_spacial_correlation, \" over \", n)\n",
    "print(\"Final number : \", n_good_candidates)"
   ]
  },
  {
   "cell_type": "code",
   "execution_count": null,
   "metadata": {},
   "outputs": [
    {
     "name": "stdout",
     "output_type": "stream",
     "text": [
      "selected 74.62% of all events\n"
     ]
    }
   ],
   "source": [
    "run = \"run_000007\"\n",
    "\n",
    "# Load the data\n",
    "df_hits_total, df_hits, og_len, new_len = load_run(raw_data_directory+run+\"\\\\\")"
   ]
  }
 ],
 "metadata": {
  "kernelspec": {
   "display_name": "TP4",
   "language": "python",
   "name": "python3"
  },
  "language_info": {
   "codemirror_mode": {
    "name": "ipython",
    "version": 3
   },
   "file_extension": ".py",
   "mimetype": "text/x-python",
   "name": "python",
   "nbconvert_exporter": "python",
   "pygments_lexer": "ipython3",
   "version": "3.10.12"
  },
  "orig_nbformat": 4,
  "vscode": {
   "interpreter": {
    "hash": "1867fa988200979088d84bc4ce438c40759f9afa4e246357d770a8bf50c98f50"
   }
  }
 },
 "nbformat": 4,
 "nbformat_minor": 2
}
