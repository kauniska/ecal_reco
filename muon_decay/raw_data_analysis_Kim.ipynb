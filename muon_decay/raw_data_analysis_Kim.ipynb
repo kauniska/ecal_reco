{
 "cells": [
  {
   "cell_type": "code",
   "execution_count": 33,
   "metadata": {},
   "outputs": [],
   "source": [
    "import pandas as pd\n",
    "import uproot\n",
    "#import uproot3\n",
    "import numpy as np\n",
    "# import track_time_calibration as ttc\n",
    "from matplotlib import pyplot as plt\n",
    "import sys\n",
    "import os \n",
    "import fnmatch\n",
    "sys.path.insert(1, r\"C:\\Users\\kimyk\\OneDrive\\Bureau\\Master 1\\Projet_LPHE_I\\ecal_reco\\utils\")\n",
    "sys.path.insert(1, r\"C:\\Users\\kimyk\\OneDrive\\Bureau\\Master 1\\Projet_LPHE_I\\ecal_reco\\tracking\")\n",
    "sys.path.insert(1, r\"C:\\Users\\kimyk\\OneDrive\\Bureau\\Master 1\\Projet_LPHE_I\\ecal_reco\\muon_decay\")\n",
    "from track import Track\n",
    "#from track3D import Track3D\n",
    "from hit import Hit\n",
    "from data_loading import *\n",
    "from parameters import *\n",
    "#from tqdm import tqdm\n",
    "from track_reconstruction import plot_hits\n",
    "#from physics import dist_line_rect\n",
    "#import pickle\n",
    "from IPython import display\n",
    "from find_muon_decay_Kim import find_muon_decay_kim\n"
   ]
  },
  {
   "cell_type": "code",
   "execution_count": 34,
   "metadata": {},
   "outputs": [],
   "source": [
    "# Define the paths needed\n",
    "raw_data_directory = r\"C:\\Users\\kimyk\\OneDrive\\Bureau\\Master 1\\Projet_LPHE_I\\ecal_reco\\test_import_root\\\\\" #path to the ecal data\n",
    "current_directory = os.getcwd()\n",
    "data_storage = current_directory+r\"\\extracted_data\"\n",
    "runs = []  # List of the runs to analyse. If empty, the program will go through all the data available in the raw_data directory\n",
    "suffix = \"\" # If one wants to re-run on already analysed data without overwriting the extracted data\n",
    "separator = \"\\\\\" # \"/\" if linux or mac"
   ]
  },
  {
   "cell_type": "code",
   "execution_count": 35,
   "metadata": {},
   "outputs": [
    {
     "name": "stdout",
     "output_type": "stream",
     "text": [
      "C:\\Users\\kimyk\\OneDrive\\Bureau\\Master 1\\Projet_LPHE_I\\ecal_reco\\test_import_root\\\\data_0000\n",
      "selected 51.28% of all events\n",
      "      evt_timestamp  evt_number  evt_flags  n_hits  \\\n",
      "0          23612625           0  134217728      10   \n",
      "1          27275293           1  134217728      11   \n",
      "5          41730672           5  134217728      13   \n",
      "6          42550820           6  134217728      10   \n",
      "7          44627144           7  134217728      11   \n",
      "...             ...         ...        ...     ...   \n",
      "2614     9735027210        2614  134217728      14   \n",
      "2616     9753486210        2616  134217728      17   \n",
      "2618     9764808499        2618  134217728      17   \n",
      "2619     9765954673        2619  134217728      15   \n",
      "2620     9770962109        2620  134217728      13   \n",
      "\n",
      "                                              tofpet_id  \\\n",
      "0                        [0, 1, 4, 2, 2, 1, 0, 0, 3, 2]   \n",
      "1                     [6, 7, 1, 5, 6, 4, 4, 4, 3, 4, 6]   \n",
      "5               [6, 4, 2, 1, 2, 1, 0, 6, 3, 0, 4, 2, 5]   \n",
      "6                        [2, 0, 4, 3, 2, 1, 2, 3, 0, 1]   \n",
      "7                     [5, 6, 6, 4, 7, 7, 6, 5, 4, 4, 4]   \n",
      "...                                                 ...   \n",
      "2614         [4, 4, 1, 5, 1, 0, 0, 2, 3, 6, 3, 2, 7, 6]   \n",
      "2616  [4, 0, 1, 3, 4, 6, 7, 0, 2, 3, 4, 5, 6, 0, 2, ...   \n",
      "2618  [1, 3, 6, 2, 0, 4, 4, 4, 2, 0, 2, 6, 0, 7, 4, ...   \n",
      "2619      [1, 6, 5, 4, 1, 7, 4, 6, 7, 4, 6, 7, 3, 1, 3]   \n",
      "2620            [3, 4, 7, 1, 3, 4, 5, 6, 1, 2, 4, 6, 4]   \n",
      "\n",
      "                                         tofpet_channel  \\\n",
      "0                [19, 59, 63, 1, 57, 47, 3, 56, 37, 29]   \n",
      "1            [57, 41, 33, 45, 29, 1, 45, 21, 49, 41, 5]   \n",
      "5     [58, 18, 42, 34, 2, 62, 46, 38, 46, 22, 42, 22...   \n",
      "6              [31, 22, 42, 53, 11, 62, 47, 55, 50, 34]   \n",
      "7           [54, 26, 50, 26, 34, 62, 22, 32, 42, 10, 6]   \n",
      "...                                                 ...   \n",
      "2614  [56, 32, 60, 52, 48, 32, 56, 41, 37, 45, 61, 2...   \n",
      "2616  [54, 54, 46, 63, 6, 35, 55, 6, 60, 43, 30, 46,...   \n",
      "2618  [45, 49, 29, 37, 33, 1, 28, 25, 63, 5, 13, 57,...   \n",
      "2619  [56, 32, 50, 48, 44, 59, 12, 44, 47, 20, 28, 6...   \n",
      "2620  [49, 30, 57, 38, 53, 50, 50, 53, 58, 15, 26, 2...   \n",
      "\n",
      "                                              timestamp  \\\n",
      "0     [0.71714854, 0.8543002, 0.67592627, 1.6058003,...   \n",
      "1     [0.9661601, 0.83019966, 0.5846706, 0.70174503,...   \n",
      "5     [0.91540015, 1.0089443, 0.9756159, 1.3799452, ...   \n",
      "6     [0.9576057, 0.84512675, 0.907295, 1.0553309, 1...   \n",
      "7     [0.39425907, 0.26307103, 0.031520158, 0.360207...   \n",
      "...                                                 ...   \n",
      "2614  [0.51836836, 0.41800958, 0.439225, 0.88210744,...   \n",
      "2616  [0.9848264, 1.419367, 1.320446, 1.3746648, 1.4...   \n",
      "2618  [0.3396998, 0.8316652, 0.7212652, 0.7903, 0.18...   \n",
      "2619  [0.9076179, 0.919715, 0.6917798, 0.85106605, 0...   \n",
      "2620  [0.92612076, 0.9633684, 0.6259079, 0.20741142,...   \n",
      "\n",
      "                                               t_coarse  \\\n",
      "0                        [0, 0, 0, 1, 1, 1, 1, 1, 1, 1]   \n",
      "1                     [0, 0, 0, 0, 0, 0, 0, 0, 0, 1, 2]   \n",
      "5               [0, 0, 0, 1, 1, 1, 1, 1, 1, 1, 1, 1, 1]   \n",
      "6                        [0, 0, 0, 1, 1, 1, 1, 1, 1, 1]   \n",
      "7                     [0, 0, 0, 0, 0, 0, 0, 0, 0, 0, 0]   \n",
      "...                                                 ...   \n",
      "2614         [0, 0, 0, 0, 0, 0, 0, 1, 1, 1, 1, 1, 1, 2]   \n",
      "2616  [0, 1, 1, 1, 1, 1, 1, 1, 1, 1, 1, 1, 1, 1, 1, ...   \n",
      "2618  [0, 0, 0, 0, 0, 0, 0, 0, 0, 0, 0, 0, 0, 0, 0, ...   \n",
      "2619      [0, 0, 0, 0, 0, 0, 0, 0, 0, 0, 1, 1, 1, 1, 1]   \n",
      "2620            [0, 0, 0, 0, 0, 0, 0, 0, 0, 0, 0, 0, 0]   \n",
      "\n",
      "                                                 t_fine  \\\n",
      "0     [238, 218, 238, 274, 279, 346, 349, 312, 273, ...   \n",
      "1     [201, 228, 269, 259, 207, 290, 288, 281, 198, ...   \n",
      "5     [210, 196, 205, 302, 303, 320, 300, 305, 320, ...   \n",
      "6     [202, 193, 188, 352, 365, 337, 295, 327, 190, ...   \n",
      "7     [289, 296, 325, 291, 274, 258, 266, 290, 290, ...   \n",
      "...                                                 ...   \n",
      "2614  [274, 278, 278, 215, 217, 249, 181, 245, 343, ...   \n",
      "2616  [192, 263, 298, 306, 284, 272, 302, 260, 327, ...   \n",
      "2618  [303, 218, 226, 251, 344, 290, 338, 335, 222, ...   \n",
      "2619  [200, 189, 243, 204, 229, 199, 249, 199, 214, ...   \n",
      "2620  [203, 199, 236, 300, 288, 297, 337, 268, 302, ...   \n",
      "\n",
      "                                               v_coarse  \\\n",
      "0              [38, 40, 52, 38, 38, 35, 35, 33, 34, 36]   \n",
      "1          [38, 44, 36, 42, 36, 43, 47, 48, 38, 42, 38]   \n",
      "5     [30, 42, 36, 37, 39, 39, 35, 38, 42, 40, 43, 4...   \n",
      "6              [40, 40, 44, 35, 37, 39, 40, 39, 42, 37]   \n",
      "7          [38, 35, 37, 51, 40, 36, 36, 43, 43, 46, 48]   \n",
      "...                                                 ...   \n",
      "2614  [38, 48, 36, 48, 40, 40, 34, 42, 33, 31, 31, 3...   \n",
      "2616  [46, 36, 40, 38, 48, 44, 37, 34, 39, 37, 42, 3...   \n",
      "2618  [39, 38, 36, 40, 39, 44, 47, 51, 34, 34, 38, 3...   \n",
      "2619  [40, 36, 36, 52, 42, 38, 48, 36, 42, 48, 40, 4...   \n",
      "2620  [38, 42, 38, 35, 36, 51, 35, 38, 51, 44, 51, 3...   \n",
      "\n",
      "                                                 v_fine  \\\n",
      "0              [47, 54, 54, 56, 49, 47, 48, 41, 49, 50]   \n",
      "1          [44, 46, 49, 51, 49, 55, 47, 59, 41, 44, 51]   \n",
      "5     [57, 56, 56, 55, 55, 50, 47, 53, 44, 50, 47, 5...   \n",
      "6              [51, 52, 50, 47, 57, 52, 52, 44, 48, 54]   \n",
      "7          [52, 48, 49, 44, 48, 51, 50, 47, 49, 49, 47]   \n",
      "...                                                 ...   \n",
      "2614  [46, 52, 63, 47, 54, 50, 42, 57, 43, 51, 46, 5...   \n",
      "2616  [50, 58, 53, 52, 45, 49, 49, 49, 44, 55, 54, 5...   \n",
      "2618  [48, 39, 48, 53, 43, 59, 55, 54, 53, 49, 54, 4...   \n",
      "2619  [56, 46, 51, 60, 55, 47, 49, 51, 48, 46, 44, 4...   \n",
      "2620  [37, 49, 48, 53, 48, 57, 45, 53, 51, 57, 43, 5...   \n",
      "\n",
      "                                                  value  timestamp_event  \n",
      "0     [2.5804403, -1.6836902, 0.85353595, -0.6369181...         23612625  \n",
      "1     [-0.4197436, 1.1023713, -3.9913654, -2.4423745...         27275293  \n",
      "5     [-0.66960245, 1.7276224, -1.938513, -2.0071847...         41730672  \n",
      "6     [0.5291524, 5.0304747, 0.43730345, -1.7320895,...         42550820  \n",
      "7     [-2.9684715, -1.6425964, 2.1442847, 0.6267082,...         44627144  \n",
      "...                                                 ...              ...  \n",
      "2614  [-3.412683, -1.8935939, -0.8577625, -1.9146228...       9735027210  \n",
      "2616  [-0.7786965, -1.2151963, -0.1161658, -3.038717...       9753486210  \n",
      "2618  [-1.8705255, -2.5865526, -0.58924216, -2.89706...       9764808499  \n",
      "2619  [-1.5652713, 0.09328436, 0.07948044, -0.735195...       9765954673  \n",
      "2620  [-4.840754, -1.8763186, -1.3504317, -1.5143882...       9770962109  \n",
      "\n",
      "[1344 rows x 13 columns] raw_data_directory\n"
     ]
    },
    {
     "ename": "TypeError",
     "evalue": "'module' object is not callable",
     "output_type": "error",
     "traceback": [
      "\u001b[1;31m---------------------------------------------------------------------------\u001b[0m",
      "\u001b[1;31mTypeError\u001b[0m                                 Traceback (most recent call last)",
      "\u001b[1;32mc:\\Users\\kimyk\\OneDrive\\Bureau\\Master 1\\Projet_LPHE_I\\ecal_reco\\muon_decay\\raw_data_analysis_Kim.ipynb Cell 3\u001b[0m line \u001b[0;36m1\n\u001b[0;32m      <a href='vscode-notebook-cell:/c%3A/Users/kimyk/OneDrive/Bureau/Master%201/Projet_LPHE_I/ecal_reco/muon_decay/raw_data_analysis_Kim.ipynb#W2sZmlsZQ%3D%3D?line=6'>7</a>\u001b[0m df_hits_total, df_hits, og_len, new_len \u001b[39m=\u001b[39m load_run(raw_data_directory\u001b[39m+\u001b[39mrun\u001b[39m+\u001b[39m\u001b[39m\"\u001b[39m\u001b[39m\\\\\u001b[39;00m\u001b[39m\"\u001b[39m)\n\u001b[0;32m      <a href='vscode-notebook-cell:/c%3A/Users/kimyk/OneDrive/Bureau/Master%201/Projet_LPHE_I/ecal_reco/muon_decay/raw_data_analysis_Kim.ipynb#W2sZmlsZQ%3D%3D?line=8'>9</a>\u001b[0m \u001b[39mprint\u001b[39m(df_hits, \u001b[39m\"\u001b[39m\u001b[39mraw_data_directory\u001b[39m\u001b[39m\"\u001b[39m)\n\u001b[1;32m---> <a href='vscode-notebook-cell:/c%3A/Users/kimyk/OneDrive/Bureau/Master%201/Projet_LPHE_I/ecal_reco/muon_decay/raw_data_analysis_Kim.ipynb#W2sZmlsZQ%3D%3D?line=9'>10</a>\u001b[0m _, _ \u001b[39m=\u001b[39m find_muon_decay_kim(df_hits,df_hits_total, save_indices \u001b[39m=\u001b[39;49m \u001b[39mTrue\u001b[39;49;00m, save_time_intervals\u001b[39m=\u001b[39;49m\u001b[39mTrue\u001b[39;49;00m, save_hits \u001b[39m=\u001b[39;49m \u001b[39mTrue\u001b[39;49;00m, save_stats \u001b[39m=\u001b[39;49m \u001b[39mTrue\u001b[39;49;00m, \\\n\u001b[0;32m     <a href='vscode-notebook-cell:/c%3A/Users/kimyk/OneDrive/Bureau/Master%201/Projet_LPHE_I/ecal_reco/muon_decay/raw_data_analysis_Kim.ipynb#W2sZmlsZQ%3D%3D?line=10'>11</a>\u001b[0m                 run_name \u001b[39m=\u001b[39;49m \u001b[39m\"\u001b[39;49m\u001b[39m_\u001b[39;49m\u001b[39m\"\u001b[39;49m\u001b[39m+\u001b[39;49mrun, storage_dir \u001b[39m=\u001b[39;49m data_storage, \\\n\u001b[0;32m     <a href='vscode-notebook-cell:/c%3A/Users/kimyk/OneDrive/Bureau/Master%201/Projet_LPHE_I/ecal_reco/muon_decay/raw_data_analysis_Kim.ipynb#W2sZmlsZQ%3D%3D?line=11'>12</a>\u001b[0m                 return_stats \u001b[39m=\u001b[39;49m \u001b[39mFalse\u001b[39;49;00m)\n",
      "File \u001b[1;32mc:\\Users\\kimyk\\OneDrive\\Bureau\\Master 1\\Projet_LPHE_I\\ecal_reco\\muon_decay\\find_muon_decay_Kim.py:60\u001b[0m, in \u001b[0;36mfind_muon_decay_kim\u001b[1;34m(df, df_total, time_cutoff, spacial_cutoff, save_indices, save_hits, save_stats, save_time_intervals, run_name, storage_dir, return_stats)\u001b[0m\n\u001b[0;32m     57\u001b[0m \u001b[39mif\u001b[39;00m save_hits:\n\u001b[0;32m     58\u001b[0m     decay_data \u001b[39m=\u001b[39m {\u001b[39m'\u001b[39m\u001b[39mevent_index\u001b[39m\u001b[39m'\u001b[39m: [], \u001b[39m'\u001b[39m\u001b[39mtrack_x0\u001b[39m\u001b[39m'\u001b[39m : [], \u001b[39m'\u001b[39m\u001b[39mtrack_tx\u001b[39m\u001b[39m'\u001b[39m : [], \u001b[39m'\u001b[39m\u001b[39mtrack_y0\u001b[39m\u001b[39m'\u001b[39m : [], \u001b[39m'\u001b[39m\u001b[39mtrack_ty\u001b[39m\u001b[39m'\u001b[39m : [], \u001b[39m'\u001b[39m\u001b[39mhits_muon\u001b[39m\u001b[39m'\u001b[39m: [], \u001b[39m'\u001b[39m\u001b[39mhits_electron\u001b[39m\u001b[39m'\u001b[39m: [], \u001b[39m'\u001b[39m\u001b[39mtime_interval\u001b[39m\u001b[39m'\u001b[39m : []}\n\u001b[1;32m---> 60\u001b[0m \u001b[39mfor\u001b[39;00m index, row \u001b[39min\u001b[39;00m tqdm(df\u001b[39m.\u001b[39;49miterrows(), total \u001b[39m=\u001b[39;49m df\u001b[39m.\u001b[39;49mshape[\u001b[39m0\u001b[39;49m]):\n\u001b[0;32m     61\u001b[0m     hits \u001b[39m=\u001b[39m [Hit(row,i) \u001b[39mfor\u001b[39;00m i \u001b[39min\u001b[39;00m \u001b[39mrange\u001b[39m(row[\u001b[39m'\u001b[39m\u001b[39mn_hits\u001b[39m\u001b[39m'\u001b[39m])]\n\u001b[0;32m     62\u001b[0m     hitsX \u001b[39m=\u001b[39m [h \u001b[39mfor\u001b[39;00m h \u001b[39min\u001b[39;00m hits \u001b[39mif\u001b[39;00m h\u001b[39m.\u001b[39mis_sidex]\n",
      "\u001b[1;31mTypeError\u001b[0m: 'module' object is not callable"
     ]
    }
   ],
   "source": [
    "# Analyse data\n",
    "if len(runs) == 0:\n",
    "    runs = fnmatch.filter(os.listdir(raw_data_directory), '*')\n",
    "\n",
    "for run in runs:\n",
    "    print(raw_data_directory +run)\n",
    "    df_hits_total, df_hits, og_len, new_len = load_run(raw_data_directory+run+\"\\\\\")\n",
    "    \n",
    "    print(df_hits, \"raw_data_directory\")\n",
    "    _, _ = find_muon_decay_kim(df_hits,df_hits_total, save_indices = True, save_time_intervals=True, save_hits = True, save_stats = True, \\\n",
    "                    run_name = \"_\"+run, storage_dir = data_storage, \\\n",
    "                    return_stats = False)\n",
    "\n",
    "    \n"
   ]
  },
  {
   "cell_type": "code",
   "execution_count": 37,
   "metadata": {},
   "outputs": [
    {
     "name": "stdout",
     "output_type": "stream",
     "text": [
      "selected 50.14% of all events\n"
     ]
    }
   ],
   "source": [
    "# Load of the data frame to visualize the decays\n",
    "run = \"run_000002\"\n",
    "\n",
    "# Load the data\n",
    "df_hits_total, df_hits, og_len, new_len = load_run(raw_data_directory+run+\"\\\\\")\n"
   ]
  },
  {
   "cell_type": "code",
   "execution_count": 40,
   "metadata": {},
   "outputs": [
    {
     "ename": "FileNotFoundError",
     "evalue": "c:\\Users\\kimyk\\OneDrive\\Bureau\\Master 1\\Projet_LPHE_I\\ecal_reco\\muon_decay\\extracted_datadta_events_indices\\run_000002.txt not found.",
     "output_type": "error",
     "traceback": [
      "\u001b[1;31m---------------------------------------------------------------------------\u001b[0m",
      "\u001b[1;31mFileNotFoundError\u001b[0m                         Traceback (most recent call last)",
      "\u001b[1;32mc:\\Users\\kimyk\\OneDrive\\Bureau\\Master 1\\Projet_LPHE_I\\ecal_reco\\muon_decay\\raw_data_analysis_Kim.ipynb Cell 5\u001b[0m line \u001b[0;36m1\n\u001b[1;32m----> <a href='vscode-notebook-cell:/c%3A/Users/kimyk/OneDrive/Bureau/Master%201/Projet_LPHE_I/ecal_reco/muon_decay/raw_data_analysis_Kim.ipynb#W4sZmlsZQ%3D%3D?line=0'>1</a>\u001b[0m good_candidates \u001b[39m=\u001b[39m np\u001b[39m.\u001b[39;49mloadtxt(data_storage\u001b[39m+\u001b[39;49m\u001b[39m\"\u001b[39;49m\u001b[39mdta_events_indices\u001b[39;49m\u001b[39m\\\\\u001b[39;49;00m\u001b[39m\"\u001b[39;49m\u001b[39m+\u001b[39;49mrun\u001b[39m+\u001b[39;49m\u001b[39m\"\u001b[39;49m\u001b[39m.txt\u001b[39;49m\u001b[39m\"\u001b[39;49m)\n",
      "File \u001b[1;32mc:\\Users\\kimyk\\mambaforge\\lib\\site-packages\\numpy\\lib\\npyio.py:1356\u001b[0m, in \u001b[0;36mloadtxt\u001b[1;34m(fname, dtype, comments, delimiter, converters, skiprows, usecols, unpack, ndmin, encoding, max_rows, quotechar, like)\u001b[0m\n\u001b[0;32m   1353\u001b[0m \u001b[39mif\u001b[39;00m \u001b[39misinstance\u001b[39m(delimiter, \u001b[39mbytes\u001b[39m):\n\u001b[0;32m   1354\u001b[0m     delimiter \u001b[39m=\u001b[39m delimiter\u001b[39m.\u001b[39mdecode(\u001b[39m'\u001b[39m\u001b[39mlatin1\u001b[39m\u001b[39m'\u001b[39m)\n\u001b[1;32m-> 1356\u001b[0m arr \u001b[39m=\u001b[39m _read(fname, dtype\u001b[39m=\u001b[39;49mdtype, comment\u001b[39m=\u001b[39;49mcomment, delimiter\u001b[39m=\u001b[39;49mdelimiter,\n\u001b[0;32m   1357\u001b[0m             converters\u001b[39m=\u001b[39;49mconverters, skiplines\u001b[39m=\u001b[39;49mskiprows, usecols\u001b[39m=\u001b[39;49musecols,\n\u001b[0;32m   1358\u001b[0m             unpack\u001b[39m=\u001b[39;49munpack, ndmin\u001b[39m=\u001b[39;49mndmin, encoding\u001b[39m=\u001b[39;49mencoding,\n\u001b[0;32m   1359\u001b[0m             max_rows\u001b[39m=\u001b[39;49mmax_rows, quote\u001b[39m=\u001b[39;49mquotechar)\n\u001b[0;32m   1361\u001b[0m \u001b[39mreturn\u001b[39;00m arr\n",
      "File \u001b[1;32mc:\\Users\\kimyk\\mambaforge\\lib\\site-packages\\numpy\\lib\\npyio.py:975\u001b[0m, in \u001b[0;36m_read\u001b[1;34m(fname, delimiter, comment, quote, imaginary_unit, usecols, skiplines, max_rows, converters, ndmin, unpack, dtype, encoding)\u001b[0m\n\u001b[0;32m    973\u001b[0m     fname \u001b[39m=\u001b[39m os\u001b[39m.\u001b[39mfspath(fname)\n\u001b[0;32m    974\u001b[0m \u001b[39mif\u001b[39;00m \u001b[39misinstance\u001b[39m(fname, \u001b[39mstr\u001b[39m):\n\u001b[1;32m--> 975\u001b[0m     fh \u001b[39m=\u001b[39m np\u001b[39m.\u001b[39;49mlib\u001b[39m.\u001b[39;49m_datasource\u001b[39m.\u001b[39;49mopen(fname, \u001b[39m'\u001b[39;49m\u001b[39mrt\u001b[39;49m\u001b[39m'\u001b[39;49m, encoding\u001b[39m=\u001b[39;49mencoding)\n\u001b[0;32m    976\u001b[0m     \u001b[39mif\u001b[39;00m encoding \u001b[39mis\u001b[39;00m \u001b[39mNone\u001b[39;00m:\n\u001b[0;32m    977\u001b[0m         encoding \u001b[39m=\u001b[39m \u001b[39mgetattr\u001b[39m(fh, \u001b[39m'\u001b[39m\u001b[39mencoding\u001b[39m\u001b[39m'\u001b[39m, \u001b[39m'\u001b[39m\u001b[39mlatin1\u001b[39m\u001b[39m'\u001b[39m)\n",
      "File \u001b[1;32mc:\\Users\\kimyk\\mambaforge\\lib\\site-packages\\numpy\\lib\\_datasource.py:193\u001b[0m, in \u001b[0;36mopen\u001b[1;34m(path, mode, destpath, encoding, newline)\u001b[0m\n\u001b[0;32m    156\u001b[0m \u001b[39m\u001b[39m\u001b[39m\"\"\"\u001b[39;00m\n\u001b[0;32m    157\u001b[0m \u001b[39mOpen `path` with `mode` and return the file object.\u001b[39;00m\n\u001b[0;32m    158\u001b[0m \n\u001b[1;32m   (...)\u001b[0m\n\u001b[0;32m    189\u001b[0m \n\u001b[0;32m    190\u001b[0m \u001b[39m\"\"\"\u001b[39;00m\n\u001b[0;32m    192\u001b[0m ds \u001b[39m=\u001b[39m DataSource(destpath)\n\u001b[1;32m--> 193\u001b[0m \u001b[39mreturn\u001b[39;00m ds\u001b[39m.\u001b[39;49mopen(path, mode, encoding\u001b[39m=\u001b[39;49mencoding, newline\u001b[39m=\u001b[39;49mnewline)\n",
      "File \u001b[1;32mc:\\Users\\kimyk\\mambaforge\\lib\\site-packages\\numpy\\lib\\_datasource.py:533\u001b[0m, in \u001b[0;36mDataSource.open\u001b[1;34m(self, path, mode, encoding, newline)\u001b[0m\n\u001b[0;32m    530\u001b[0m     \u001b[39mreturn\u001b[39;00m _file_openers[ext](found, mode\u001b[39m=\u001b[39mmode,\n\u001b[0;32m    531\u001b[0m                               encoding\u001b[39m=\u001b[39mencoding, newline\u001b[39m=\u001b[39mnewline)\n\u001b[0;32m    532\u001b[0m \u001b[39melse\u001b[39;00m:\n\u001b[1;32m--> 533\u001b[0m     \u001b[39mraise\u001b[39;00m \u001b[39mFileNotFoundError\u001b[39;00m(\u001b[39mf\u001b[39m\u001b[39m\"\u001b[39m\u001b[39m{\u001b[39;00mpath\u001b[39m}\u001b[39;00m\u001b[39m not found.\u001b[39m\u001b[39m\"\u001b[39m)\n",
      "\u001b[1;31mFileNotFoundError\u001b[0m: c:\\Users\\kimyk\\OneDrive\\Bureau\\Master 1\\Projet_LPHE_I\\ecal_reco\\muon_decay\\extracted_datadta_events_indices\\run_000002.txt not found."
     ]
    }
   ],
   "source": [
    "\n",
    "good_candidates = np.loadtxt(data_storage+\"dta_events_indices\\\\\"+run+\".txt\")"
   ]
  },
  {
   "cell_type": "code",
   "execution_count": null,
   "metadata": {},
   "outputs": [],
   "source": [
    "#This cell allows to plot the final candidates for muon decay (original track + next event)\n",
    "#press enter to plot the next candidate, press and caracter + enter to stop the loop\n",
    "%matplotlib inline\n",
    "\n",
    "i = 0\n",
    "\n",
    "kb = \"\"\n",
    "while kb == \"\":\n",
    "    event = df_hits.loc[good_candidates[i]]\n",
    "    next_event = df_hits_total.loc[good_candidates[i]+1]\n",
    "\n",
    "    hits = [Hit(event,i) for i in range(event['n_hits'\n",
    "    \n",
    "    ])]\n",
    "    hitsX = [h for h in hits if h.is_sidex]\n",
    "    hits_next_event = [Hit(next_event,i) for i in range(next_event['n_hits'])]\n",
    "    hitsX_next_event = [h for h in hits_next_event if h.is_sidex]\n",
    "\n",
    "    track = Track(hitsX)\n",
    "    fig,ax = plot_hits(hits,True,True,scaling = 0.5,hits_next = hits_next_event)\n",
    "    z = np.linspace(0,16)\n",
    "    x = track.t*z+track.x0\n",
    "    ax.plot(x,z,'r-')\n",
    "    display.clear_output(wait=False)\n",
    "    print(\"i = \", i)\n",
    "    print(hits_next_event[0].timestamp_event-hits_next_event[0].timestamp-hits[-1].timestamp_event+hits[-1].timestamp)\n",
    "    fig.savefig(\"fig_muon_decay_problem.pdf\".format(i))\n",
    "    display.display(fig)\n",
    "    kb = input()\n",
    "    i = i+1\n",
    "\n",
    "display.clear_output(wait=False)"
   ]
  },
  {
   "cell_type": "code",
   "execution_count": null,
   "metadata": {},
   "outputs": [],
   "source": [
    "filtering = pd.read_pickle(data_storage+\"filtering_data\"+run)\n",
    "og_len = filtering['og_len'][0]\n",
    "new_len = filtering['new_len'][0]\n",
    "low_number = filtering['low_number'][0]\n",
    "bottom_touch = filtering['bottom_touch'][0]\n",
    "side_touch = filtering['side_touch'][0]\n",
    "bad_fit = filtering['bad_fit'][0]\n",
    "too_large_time_interval = filtering['too_large_time_interval'][0]\n",
    "hits_far_from_track = filtering['hits_far_from_track'][0]\n",
    "no_spacial_correlation = filtering['no_spacial_correlation'][0]"
   ]
  },
  {
   "cell_type": "code",
   "execution_count": 44,
   "metadata": {},
   "outputs": [
    {
     "ename": "TypeError",
     "evalue": "filter() missing 1 required positional argument: 'pat'",
     "output_type": "error",
     "traceback": [
      "\u001b[1;31m---------------------------------------------------------------------------\u001b[0m",
      "\u001b[1;31mTypeError\u001b[0m                                 Traceback (most recent call last)",
      "\u001b[1;32mc:\\Users\\kimyk\\OneDrive\\Bureau\\Master 1\\Projet_LPHE_I\\ecal_reco\\muon_decay\\raw_data_analysis_Kim.ipynb Cell 8\u001b[0m line \u001b[0;36m1\n\u001b[0;32m     <a href='vscode-notebook-cell:/c%3A/Users/kimyk/OneDrive/Bureau/Master%201/Projet_LPHE_I/ecal_reco/muon_decay/raw_data_analysis_Kim.ipynb#X10sZmlsZQ%3D%3D?line=9'>10</a>\u001b[0m no_spacial_correlation \u001b[39m=\u001b[39m \u001b[39m0\u001b[39m\n\u001b[0;32m     <a href='vscode-notebook-cell:/c%3A/Users/kimyk/OneDrive/Bureau/Master%201/Projet_LPHE_I/ecal_reco/muon_decay/raw_data_analysis_Kim.ipynb#X10sZmlsZQ%3D%3D?line=11'>12</a>\u001b[0m n_good_candidates \u001b[39m=\u001b[39m \u001b[39m0\u001b[39m\n\u001b[1;32m---> <a href='vscode-notebook-cell:/c%3A/Users/kimyk/OneDrive/Bureau/Master%201/Projet_LPHE_I/ecal_reco/muon_decay/raw_data_analysis_Kim.ipynb#X10sZmlsZQ%3D%3D?line=13'>14</a>\u001b[0m runs \u001b[39m=\u001b[39m fnmatch\u001b[39m.\u001b[39;49mfilter(os\u001b[39m.\u001b[39;49mlistdir(raw_data_directory))\u001b[39m#, '*')\u001b[39;00m\n\u001b[0;32m     <a href='vscode-notebook-cell:/c%3A/Users/kimyk/OneDrive/Bureau/Master%201/Projet_LPHE_I/ecal_reco/muon_decay/raw_data_analysis_Kim.ipynb#X10sZmlsZQ%3D%3D?line=14'>15</a>\u001b[0m \u001b[39mfor\u001b[39;00m run \u001b[39min\u001b[39;00m runs:\n\u001b[0;32m     <a href='vscode-notebook-cell:/c%3A/Users/kimyk/OneDrive/Bureau/Master%201/Projet_LPHE_I/ecal_reco/muon_decay/raw_data_analysis_Kim.ipynb#X10sZmlsZQ%3D%3D?line=15'>16</a>\u001b[0m     time_intervals \u001b[39m=\u001b[39m np\u001b[39m.\u001b[39mloadtxt(data_storage\u001b[39m+\u001b[39m\u001b[39m\"\u001b[39m\u001b[39mevents_indices_.txt\u001b[39m\u001b[39m\"\u001b[39m)\n",
      "\u001b[1;31mTypeError\u001b[0m: filter() missing 1 required positional argument: 'pat'"
     ]
    }
   ],
   "source": [
    "# Stats on the whole set of analysed data\n",
    "og_len = 0\n",
    "new_len = 0\n",
    "low_number = 0\n",
    "bottom_touch = 0\n",
    "side_touch = 0\n",
    "bad_fit = 0\n",
    "too_large_time_interval = 0\n",
    "hits_far_from_track = 0\n",
    "no_spacial_correlation = 0\n",
    "\n",
    "n_good_candidates = 0\n",
    "\n",
    "runs = fnmatch.filter(os.listdir(raw_data_directory))#, '*')\n",
    "for run in runs:\n",
    "    time_intervals = np.loadtxt(data_storage+\"events_indices_.txt\")\n",
    "    n_good_candidates += len(time_intervals)\n",
    "\n",
    "    filtering = pd.read_pickle(data_storage+\"filtering_data\"+\"_\"+run)\n",
    "    og_len += filtering['og_len'][0]\n",
    "    new_len += filtering['new_len'][0]\n",
    "    low_number += filtering['low_number'][0]\n",
    "    bottom_touch += filtering['bottom_touch'][0]\n",
    "    side_touch += filtering['side_touch'][0]\n",
    "    bad_fit += filtering['bad_fit'][0]\n",
    "    too_large_time_interval += filtering['too_large_time_interval'][0]\n",
    "    hits_far_from_track += filtering['hits_far_from_track'][0]\n",
    "    no_spacial_correlation += filtering['no_spacial_correlation'][0]\n",
    "\n"
   ]
  },
  {
   "cell_type": "code",
   "execution_count": null,
   "metadata": {},
   "outputs": [
    {
     "name": "stdout",
     "output_type": "stream",
     "text": [
      "original length :  42843188\n",
      "n_hits between 6 and 50 :  4206698\n",
      "⤷ Too low number of hits in one plane :  919984  over  4206698\n",
      " ⤷ Last layer touched : \t\t 2499287  over  3286714\n",
      "  ⤷ Possible side exit : \t\t 349787  over  787427\n",
      "   ⤷ Bad fit : \t\t\t\t 266421  over  437640\n",
      "    ⤷ Too large time interval : \t 158564  over  171219\n",
      "     ⤷ Hits far from track : \t\t 0  over  12655\n",
      "      ⤷ No spacial correlation : \t 10403  over  12655\n",
      "Final number :  2374\n"
     ]
    }
   ],
   "source": [
    "# Showcase of the numbers of rejection at each step of the filtering \n",
    "print(\"original length : \", og_len)\n",
    "print(\"n_hits between 6 and 50 : \", new_len)\n",
    "n = new_len\n",
    "print(\"\\u2937 Too low number of hits in one plane : \", low_number, \" over \", n)\n",
    "n -= low_number\n",
    "print(\" \\u2937 Last layer touched : \\t\\t\", bottom_touch, \" over \", n)\n",
    "n -= bottom_touch\n",
    "print(\"  \\u2937 Possible side exit : \\t\\t\", side_touch, \" over \", n)\n",
    "n -= side_touch\n",
    "print(\"   \\u2937 Bad fit : \\t\\t\\t\\t\", bad_fit, \" over \", n)\n",
    "n -= bad_fit\n",
    "print(\"    \\u2937 Too large time interval : \\t\", too_large_time_interval, \" over \", n)\n",
    "n -= too_large_time_interval\n",
    "print(\"     \\u2937 Hits far from track : \\t\\t\", hits_far_from_track, \" over \", n)\n",
    "n -= hits_far_from_track\n",
    "print(\"      \\u2937 No spacial correlation : \\t\", no_spacial_correlation, \" over \", n)\n",
    "print(\"Final number : \", n_good_candidates)"
   ]
  },
  {
   "cell_type": "code",
   "execution_count": null,
   "metadata": {},
   "outputs": [
    {
     "name": "stdout",
     "output_type": "stream",
     "text": [
      "selected 4.55% of all events\n"
     ]
    }
   ],
   "source": [
    "run = \"10h\"\n",
    "\n",
    "# Load the data\n",
    "df_hits_total, df_hits, og_len, new_len = load_run(raw_data_directory+run+\"\\\\\")"
   ]
  },
  {
   "cell_type": "code",
   "execution_count": null,
   "metadata": {},
   "outputs": [
    {
     "data": {
      "image/png": "[encoded data removed]",
      "text/plain": [
       "<Figure size 960x400 with 1 Axes>"
      ]
     },
     "metadata": {},
     "output_type": "display_data"
    }
   ],
   "source": [
    "time_intervals = np.loadtxt(data_storage+\"time_intervals_\"+run+\".txt\")\n",
    "indices = np.loadtxt(data_storage+\"events_indices_\"+run+\".txt\").astype(int)\n",
    "# large_time = []\n",
    "# for i,t in enumerate(time_intervals):\n",
    "#     if t>1400:\n",
    "#         large_time.append(i)\n",
    "\n",
    "# large_time_indices = indices[large_time]\n",
    "\n",
    "%matplotlib inline\n",
    "\n",
    "i = 6\n",
    "\n",
    "kb = \"\"\n",
    "while kb == \"\":\n",
    "    # event = df_hits.loc[large_time_indices[i]]\n",
    "    # next_event = df_hits_total.loc[large_time_indices[i]+1]\n",
    "    event = df_hits.loc[indices[i]]\n",
    "    next_event = df_hits_total.loc[indices[i]+1]\n",
    "\n",
    "    hits = [Hit(event,i) for i in range(event['n_hits'\n",
    "    \n",
    "    ])]\n",
    "    hitsX = [h for h in hits if h.is_sidex]\n",
    "    hits_next_event = [Hit(next_event,i) for i in range(next_event['n_hits'])]\n",
    "    hitsX_next_event = [h for h in hits_next_event if h.is_sidex]\n",
    "\n",
    "    track = Track(hitsX)\n",
    "    fig,ax = plot_hits(hits,True,True,scaling = 0.5,hits_next = hits_next_event)\n",
    "    z = np.linspace(0,16)\n",
    "    x = track.t*z+track.x0\n",
    "    ax.plot(x,z,'r-')\n",
    "    display.clear_output(wait=False)\n",
    "    print(\"i = \", i)\n",
    "    print(hits_next_event[0].timestamp_event-hits_next_event[0].timestamp-hits[-1].timestamp_event+hits[-1].timestamp)\n",
    "    fig.savefig(\"fig_muon_decay_problem.pdf\".format(i))\n",
    "    display.display(fig)\n",
    "    kb = input()\n",
    "    i = i+1\n",
    "display.clear_output(wait=False)\n"
   ]
  },
  {
   "cell_type": "code",
   "execution_count": null,
   "metadata": {},
   "outputs": [],
   "source": [
    "fig.savefig(\"shower_section.pdf\")"
   ]
  }
 ],
 "metadata": {
  "kernelspec": {
   "display_name": "TP4",
   "language": "python",
   "name": "python3"
  },
  "language_info": {
   "codemirror_mode": {
    "name": "ipython",
    "version": 3
   },
   "file_extension": ".py",
   "mimetype": "text/x-python",
   "name": "python",
   "nbconvert_exporter": "python",
   "pygments_lexer": "ipython3",
   "version": "3.10.12"
  },
  "orig_nbformat": 4,
  "vscode": {
   "interpreter": {
    "hash": "1867fa988200979088d84bc4ce438c40759f9afa4e246357d770a8bf50c98f50"
   }
  }
 },
 "nbformat": 4,
 "nbformat_minor": 2
}
