{
 "cells": [
  {
   "cell_type": "code",
   "execution_count": 1,
   "metadata": {},
   "outputs": [],
   "source": [
    "import pandas as pd\n",
    "import uproot\n",
    "#import uproot3\n",
    "import numpy as np\n",
    "# import track_time_calibration as ttc\n",
    "from matplotlib import pyplot as plt\n",
    "import sys\n",
    "import os \n",
    "import fnmatch\n",
    "sys.path.insert(1, r\"C:\\Users\\nelg\\Desktop\\Cours\\Labo\\TP4\\Git\\utils\")\n",
    "sys.path.insert(1, r\"C:\\Users\\nelg\\Desktop\\Cours\\Labo\\TP4\\Git\\tracking\")\n",
    "from track import Track\n",
    "from track3D import Track3D\n",
    "from hit import Hit\n",
    "from data_loading import *\n",
    "from parameters import *\n",
    "from tqdm import tqdm\n",
    "from track_reconstruction import plot_hits\n",
    "from physics import dist_line_rect\n",
    "import pickle\n",
    "from IPython import display\n",
    "from find_muon_decay import find_muon_decay\n"
   ]
  },
  {
   "cell_type": "code",
   "execution_count": 2,
   "metadata": {},
   "outputs": [],
   "source": [
    "# Define the paths needed\n",
    "raw_data_directory = r\"C:\\Users\\nelg\\Desktop\\Cours\\Labo\\TP4\\raw_data\\\\\" #path to the ecal data\n",
    "current_directory = os.getcwd()\n",
    "data_storage = current_directory+r\"\\extracted_data\\\\\"\n",
    "runs = [\"10h\"]  # List of the runs to analyse. If empty, the program will go through all the data available in the raw_data directory\n",
    "suffix = \"\" # If one wants to re-run on already analysed data without overwriting the extracted data\n",
    "separator = \"\\\\\" # \"/\" if linux of mac"
   ]
  },
  {
   "cell_type": "code",
   "execution_count": 21,
   "metadata": {},
   "outputs": [
    {
     "name": "stdout",
     "output_type": "stream",
     "text": [
      "C:\\Users\\nelg\\Desktop\\Cours\\Labo\\TP4\\raw_data\\\\10h\n",
      "C:\\Users\\nelg\\Desktop\\Cours\\Labo\\TP4\\raw_data\\\\10h\\data_0000.root\n",
      "C:\\Users\\nelg\\Desktop\\Cours\\Labo\\TP4\\raw_data\\\\10h\\data_0001.root\n",
      "C:\\Users\\nelg\\Desktop\\Cours\\Labo\\TP4\\raw_data\\\\10h\\data_0002.root\n",
      "C:\\Users\\nelg\\Desktop\\Cours\\Labo\\TP4\\raw_data\\\\10h\\data_0003.root\n",
      "C:\\Users\\nelg\\Desktop\\Cours\\Labo\\TP4\\raw_data\\\\10h\\data_0004.root\n",
      "C:\\Users\\nelg\\Desktop\\Cours\\Labo\\TP4\\raw_data\\\\10h\\data_0005.root\n",
      "C:\\Users\\nelg\\Desktop\\Cours\\Labo\\TP4\\raw_data\\\\10h\\data_0006.root\n",
      "C:\\Users\\nelg\\Desktop\\Cours\\Labo\\TP4\\raw_data\\\\10h\\data_0007.root\n",
      "C:\\Users\\nelg\\Desktop\\Cours\\Labo\\TP4\\raw_data\\\\10h\\data_0008.root\n",
      "selected 4.55% of all events\n"
     ]
    },
    {
     "name": "stderr",
     "output_type": "stream",
     "text": [
      "100%|██████████| 409432/409432 [26:35<00:00, 256.59it/s] \n"
     ]
    }
   ],
   "source": [
    "# Analyse data\n",
    "if len(runs) == 0:\n",
    "    runs = fnmatch.filter(os.listdir(raw_data_directory), '*')\n",
    "\n",
    "for run in runs:\n",
    "    print(raw_data_directory+run)\n",
    "    df_hits_total, df_hits, og_len, new_len = load_run(raw_data_directory+run+\"\\\\\")\n",
    "\n",
    "    _, _ = find_muon_decay(df_hits,df_hits_total, save_indices = True, save_time_intervals=True, save_hits = True, save_stats = True, \\\n",
    "                    run_name = \"_\"+run, storage_dir = data_storage, \\\n",
    "                    return_stats = False)\n",
    "\n",
    "    \n"
   ]
  },
  {
   "cell_type": "code",
   "execution_count": 3,
   "metadata": {},
   "outputs": [
    {
     "name": "stdout",
     "output_type": "stream",
     "text": [
      "selected 17.49% of all events\n"
     ]
    }
   ],
   "source": [
    "# Load of the data frame to visualize the decays\n",
    "run = \"run_000420\"\n",
    "\n",
    "# Load the data\n",
    "df_hits_total, df_hits, og_len, new_len = load_run(raw_data_directory+run+\"\\\\\")\n"
   ]
  },
  {
   "cell_type": "code",
   "execution_count": 4,
   "metadata": {},
   "outputs": [],
   "source": [
    "\n",
    "good_candidates = np.loadtxt(data_storage+\"events_indices_\"+run+\".txt\")"
   ]
  },
  {
   "cell_type": "code",
   "execution_count": null,
   "metadata": {},
   "outputs": [],
   "source": [
    "#This cell allows to plot the final candidates for muon decay (original track + next event)\n",
    "#press enter to plot the next candidate, press and caracter + enter to stop the loop\n",
    "%matplotlib inline\n",
    "\n",
    "i = 0\n",
    "\n",
    "kb = \"\"\n",
    "while kb == \"\":\n",
    "    event = df_hits.loc[good_candidates[i]]\n",
    "    next_event = df_hits_total.loc[good_candidates[i]+1]\n",
    "\n",
    "    hits = [Hit(event,i) for i in range(event['n_hits'\n",
    "    \n",
    "    ])]\n",
    "    hitsX = [h for h in hits if h.is_sidex]\n",
    "    hits_next_event = [Hit(next_event,i) for i in range(next_event['n_hits'])]\n",
    "    hitsX_next_event = [h for h in hits_next_event if h.is_sidex]\n",
    "\n",
    "    track = Track(hitsX)\n",
    "    fig,ax = plot_hits(hits,True,True,scaling = 0.5,hits_next = hits_next_event)\n",
    "    z = np.linspace(0,16)\n",
    "    x = track.t*z+track.x0\n",
    "    ax.plot(x,z,'r-')\n",
    "    display.clear_output(wait=False)\n",
    "    print(\"i = \", i)\n",
    "    print(hits_next_event[0].timestamp_event-hits_next_event[0].timestamp-hits[-1].timestamp_event+hits[-1].timestamp)\n",
    "    fig.savefig(\"fig_muon_decay_problem.pdf\".format(i))\n",
    "    display.display(fig)\n",
    "    kb = input()\n",
    "    i = i+1\n",
    "\n",
    "display.clear_output(wait=False)"
   ]
  },
  {
   "cell_type": "code",
   "execution_count": 10,
   "metadata": {},
   "outputs": [],
   "source": [
    "filtering = pd.read_pickle(data_storage+\"filtering_data\"+run)\n",
    "og_len = filtering['og_len'][0]\n",
    "new_len = filtering['new_len'][0]\n",
    "low_number = filtering['low_number'][0]\n",
    "bottom_touch = filtering['bottom_touch'][0]\n",
    "side_touch = filtering['side_touch'][0]\n",
    "bad_fit = filtering['bad_fit'][0]\n",
    "too_large_time_interval = filtering['too_large_time_interval'][0]\n",
    "hits_far_from_track = filtering['hits_far_from_track'][0]\n",
    "no_spacial_correlation = filtering['no_spacial_correlation'][0]"
   ]
  },
  {
   "cell_type": "code",
   "execution_count": 33,
   "metadata": {},
   "outputs": [],
   "source": [
    "# Stats on the whole set of analysed data\n",
    "og_len = 0\n",
    "new_len = 0\n",
    "low_number = 0\n",
    "bottom_touch = 0\n",
    "side_touch = 0\n",
    "bad_fit = 0\n",
    "too_large_time_interval = 0\n",
    "hits_far_from_track = 0\n",
    "no_spacial_correlation = 0\n",
    "\n",
    "n_good_candidates = 0\n",
    "\n",
    "runs = fnmatch.filter(os.listdir(raw_data_directory), '*')\n",
    "for run in runs:\n",
    "    time_intervals = np.loadtxt(data_storage+\"events_indices_\"+run+\".txt\")\n",
    "    n_good_candidates += len(time_intervals)\n",
    "\n",
    "    filtering = pd.read_pickle(data_storage+\"filtering_data\"+\"_\"+run)\n",
    "    og_len += filtering['og_len'][0]\n",
    "    new_len += filtering['new_len'][0]\n",
    "    low_number += filtering['low_number'][0]\n",
    "    bottom_touch += filtering['bottom_touch'][0]\n",
    "    side_touch += filtering['side_touch'][0]\n",
    "    bad_fit += filtering['bad_fit'][0]\n",
    "    too_large_time_interval += filtering['too_large_time_interval'][0]\n",
    "    hits_far_from_track += filtering['hits_far_from_track'][0]\n",
    "    no_spacial_correlation += filtering['no_spacial_correlation'][0]\n",
    "\n"
   ]
  },
  {
   "cell_type": "code",
   "execution_count": 36,
   "metadata": {},
   "outputs": [
    {
     "name": "stdout",
     "output_type": "stream",
     "text": [
      "original length :  42843188\n",
      "n_hits between 6 and 50 :  4206698\n",
      "⤷ Too low number of hits in one plane :  919984  over  4206698\n",
      " ⤷ Last layer touched : \t\t 2499287  over  3286714\n",
      "  ⤷ Possible side exit : \t\t 349787  over  787427\n",
      "   ⤷ Bad fit : \t\t\t\t 266421  over  437640\n",
      "    ⤷ Too large time interval : \t 158564  over  171219\n",
      "     ⤷ Hits far from track : \t\t 0  over  12655\n",
      "      ⤷ No spacial correlation : \t 10403  over  12655\n",
      "Final number :  2374\n"
     ]
    }
   ],
   "source": [
    "# Showcase of the numbers of rejection at each step of the filtering \n",
    "print(\"original length : \", og_len)\n",
    "print(\"n_hits between 6 and 50 : \", new_len)\n",
    "n = new_len\n",
    "print(\"\\u2937 Too low number of hits in one plane : \", low_number, \" over \", n)\n",
    "n -= low_number\n",
    "print(\" \\u2937 Last layer touched : \\t\\t\", bottom_touch, \" over \", n)\n",
    "n -= bottom_touch\n",
    "print(\"  \\u2937 Possible side exit : \\t\\t\", side_touch, \" over \", n)\n",
    "n -= side_touch\n",
    "print(\"   \\u2937 Bad fit : \\t\\t\\t\\t\", bad_fit, \" over \", n)\n",
    "n -= bad_fit\n",
    "print(\"    \\u2937 Too large time interval : \\t\", too_large_time_interval, \" over \", n)\n",
    "n -= too_large_time_interval\n",
    "print(\"     \\u2937 Hits far from track : \\t\\t\", hits_far_from_track, \" over \", n)\n",
    "n -= hits_far_from_track\n",
    "print(\"      \\u2937 No spacial correlation : \\t\", no_spacial_correlation, \" over \", n)\n",
    "print(\"Final number : \", n_good_candidates)"
   ]
  },
  {
   "cell_type": "code",
   "execution_count": 5,
   "metadata": {},
   "outputs": [],
   "source": [
    "run = \"run_000154\"\n",
    "\n",
    "# Load the data\n",
    "df_hits_total, df_hits, og_len, new_len = load_run(raw_data_directory+run+\"\\\\\")\n",
    "\n",
    "time_intervals = np.loadtxt(data_storage+\"time_intervals_\"+run+\".txt\")\n",
    "indices = np.loadtxt(data_storage+\"events_indices_\"+run+\".txt\").astype(int)\n",
    "large_time = []\n",
    "for i,t in enumerate(time_intervals):\n",
    "    if t>1000:\n",
    "        large_time.append(i)\n",
    "\n",
    "large_time_indices = indices[large_time]\n",
    "\n",
    "%matplotlib inline\n",
    "\n",
    "i = 0\n",
    "\n",
    "kb = \"\"\n",
    "while kb == \"\":\n",
    "    event = df_hits.loc[large_time_indices[i]]\n",
    "    next_event = df_hits_total.loc[large_time_indices[i]+1]\n",
    "\n",
    "    hits = [Hit(event,i) for i in range(event['n_hits'\n",
    "    \n",
    "    ])]\n",
    "    hitsX = [h for h in hits if h.is_sidex]\n",
    "    hits_next_event = [Hit(next_event,i) for i in range(next_event['n_hits'])]\n",
    "    hitsX_next_event = [h for h in hits_next_event if h.is_sidex]\n",
    "\n",
    "    track = Track(hitsX)\n",
    "    fig,ax = plot_hits(hits,True,True,scaling = 0.5,hits_next = hits_next_event)\n",
    "    z = np.linspace(0,16)\n",
    "    x = track.t*z+track.x0\n",
    "    ax.plot(x,z,'r-')\n",
    "    display.clear_output(wait=False)\n",
    "    print(\"i = \", i)\n",
    "    print(hits_next_event[0].timestamp_event-hits_next_event[0].timestamp-hits[-1].timestamp_event+hits[-1].timestamp)\n",
    "    fig.savefig(\"fig_muon_decay_problem.pdf\".format(i))\n",
    "    display.display(fig)\n",
    "    kb = input()\n",
    "    i = i+1\n"
   ]
  }
 ],
 "metadata": {
  "kernelspec": {
   "display_name": "TP4",
   "language": "python",
   "name": "python3"
  },
  "language_info": {
   "codemirror_mode": {
    "name": "ipython",
    "version": 3
   },
   "file_extension": ".py",
   "mimetype": "text/x-python",
   "name": "python",
   "nbconvert_exporter": "python",
   "pygments_lexer": "ipython3",
   "version": "3.9.13 | packaged by conda-forge | (main, May 27 2022, 16:50:36) [MSC v.1929 64 bit (AMD64)]"
  },
  "orig_nbformat": 4,
  "vscode": {
   "interpreter": {
    "hash": "1867fa988200979088d84bc4ce438c40759f9afa4e246357d770a8bf50c98f50"
   }
  }
 },
 "nbformat": 4,
 "nbformat_minor": 2
}
