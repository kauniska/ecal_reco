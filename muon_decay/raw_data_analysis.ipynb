{
 "cells": [
  {
   "cell_type": "code",
   "execution_count": 13,
   "metadata": {},
   "outputs": [],
   "source": [
    "import pandas as pd\n",
    "import uproot\n",
    "#import uproot3\n",
    "import numpy as np\n",
    "# import track_time_calibration as ttc\n",
    "from matplotlib import pyplot as plt\n",
    "import sys\n",
    "import os \n",
    "import fnmatch\n",
    "sys.path.insert(1, r'C:\\Users\\eliot\\EPFL\\TP4_ECAL\\Code\\ecal_reco\\utils')\n",
    "sys.path.insert(1, r'C:\\Users\\eliot\\EPFL\\TP4_ECAL\\Code\\ecal_reco\\tracking')\n",
    "# sys.path.insert(1, r'C:\\Users\\eliot\\EPFL\\TP4_ECAL\\Code\\ecal_reco\\time_alignement')\n",
    "from track import Track\n",
    "from track3D import Track3D\n",
    "from hit import Hit\n",
    "from data_loading import *\n",
    "from parameters import *\n",
    "from tqdm import tqdm\n",
    "from track_reconstruction import plot_hits\n",
    "from physics import dist_line_rect\n",
    "import pickle\n",
    "from IPython import display\n",
    "from find_muon_decay import find_muon_decay\n",
    "# from find_muon_decay_Kim import find_muon_decay_kim\n"
   ]
  },
  {
   "cell_type": "code",
   "execution_count": 14,
   "metadata": {},
   "outputs": [],
   "source": [
    "# Define the paths needed\n",
    "raw_data_directory = \"C:\\\\Users\\\\eliot\\\\EPFL\\\\TP4_ECAL\\\\raw_data\\\\\" #path to the ecal data\n",
    "current_directory = os.getcwd()\n",
    "data_storage = current_directory+\"\\\\extracted_data\\\\\"\n",
    "runs = [\"run_000006\"]  # List of the runs to analyse. If empty, the program will go through all the data available in the raw_data directory\n",
    "suffix = \"\" # If one wants to re-run on already analysed data without overwriting the extracted data\n",
    "separator = \"\\\\\" # \"/\" if linux or mac"
   ]
  },
  {
   "cell_type": "code",
   "execution_count": 15,
   "metadata": {},
   "outputs": [
    {
     "name": "stdout",
     "output_type": "stream",
     "text": [
      "C:\\Users\\eliot\\EPFL\\TP4_ECAL\\raw_data\\run_000006\n",
      "C:\\Users\\eliot\\EPFL\\TP4_ECAL\\raw_data\\run_000006\\data_0000.root\n",
      "selected 74.85% of all events\n"
     ]
    },
    {
     "name": "stderr",
     "output_type": "stream",
     "text": [
      "100%|██████████| 33671/33671 [00:33<00:00, 1006.92it/s]\n"
     ]
    }
   ],
   "source": [
    "# Analyse data\n",
    "if len(runs) == 0:\n",
    "    runs = fnmatch.filter(os.listdir(raw_data_directory), '*')\n",
    "\n",
    "\n",
    "for run in runs:\n",
    "    print(raw_data_directory+run)\n",
    "    df_hits_total, df_hits, og_len, new_len = load_run(raw_data_directory+run+\"\\\\\")\n",
    "\n",
    "    _, _ = find_muon_decay(df_hits,df_hits_total, save_indices = True, save_time_intervals=True, save_hits = True, save_stats = True, \\\n",
    "                    run_name = \"_\"+run, storage_dir = data_storage, \\\n",
    "                    return_stats = False)\n",
    "\n",
    "\n",
    "\n",
    "\n",
    "# for run in runs:\n",
    "#     print(raw_data_directory+run+\"\\\\data_0000.root\")\n",
    "#     df= load_dataset(raw_data_directory+run+\"\\\\data_0000.root\")\n",
    "\n",
    "\n",
    " # Il manque ici la gestion si les données sont en plusieurs files ***********************************\n",
    "\n",
    "\n",
    "\n",
    "    # #fonction cassé donc à la place tout est ici *************************\n",
    "    # n_hits_min=6\n",
    "    # n_hits_max=50\n",
    "\n",
    "    # df_hits_total = df\n",
    "    # df_hits = pd.DataFrame.copy(df_hits_total, deep=True)\n",
    "\n",
    "    # og_len = len(df_hits_total)\n",
    "\n",
    "    # min_condition = \"n_hits > \"+str(n_hits_min)\n",
    "    # max_condition = \"n_hits < \"+str(n_hits_max)\n",
    "    # df_hits.query(min_condition, inplace=True)\n",
    "    # df_hits.query(max_condition, inplace=True)\n",
    "\n",
    "    # new_len = len(df_hits)\n",
    "    # **************************************************************\n",
    "\n",
    "    # _, _ = find_muon_decay(df_hits,df_hits_total, save_indices = True, save_time_intervals=True, save_hits = True, save_stats = True, \\\n",
    "    #                 run_name = \"_\"+run, storage_dir = data_storage, \\\n",
    "    #                 return_stats = False)\n"
   ]
  },
  {
   "cell_type": "code",
   "execution_count": 4,
   "metadata": {},
   "outputs": [
    {
     "name": "stdout",
     "output_type": "stream",
     "text": [
      "C:\\Users\\eliot\\EPFL\\TP4_ECAL\\raw_data\\run_000011\\data_0000.root\n",
      "selected 74.91% of all events\n"
     ]
    }
   ],
   "source": [
    "# Load of the data frame to visualize the decays\n",
    "run = \"run_000011\"\n",
    "\n",
    "# Load the data\n",
    "df_hits_total, df_hits, og_len, new_len = load_run(raw_data_directory+run+\"\\\\\")\n"
   ]
  },
  {
   "cell_type": "code",
   "execution_count": 5,
   "metadata": {},
   "outputs": [],
   "source": [
    "\n",
    "good_candidates = np.loadtxt(data_storage+\"events_indices_\"+run+\".txt\")"
   ]
  },
  {
   "cell_type": "code",
   "execution_count": 7,
   "metadata": {},
   "outputs": [
    {
     "ename": "NameError",
     "evalue": "name 'good_candidates' is not defined",
     "output_type": "error",
     "traceback": [
      "\u001b[1;31m---------------------------------------------------------------------------\u001b[0m",
      "\u001b[1;31mNameError\u001b[0m                                 Traceback (most recent call last)",
      "\u001b[1;32mc:\\Users\\eliot\\EPFL\\TP4_ECAL\\Code\\ecal_reco\\muon_decay\\raw_data_analysis.ipynb Cell 6\u001b[0m line \u001b[0;36m9\n\u001b[0;32m      <a href='vscode-notebook-cell:/c%3A/Users/eliot/EPFL/TP4_ECAL/Code/ecal_reco/muon_decay/raw_data_analysis.ipynb#W5sZmlsZQ%3D%3D?line=6'>7</a>\u001b[0m kb \u001b[39m=\u001b[39m \u001b[39m\"\u001b[39m\u001b[39m\"\u001b[39m\n\u001b[0;32m      <a href='vscode-notebook-cell:/c%3A/Users/eliot/EPFL/TP4_ECAL/Code/ecal_reco/muon_decay/raw_data_analysis.ipynb#W5sZmlsZQ%3D%3D?line=7'>8</a>\u001b[0m \u001b[39mwhile\u001b[39;00m kb \u001b[39m==\u001b[39m \u001b[39m\"\u001b[39m\u001b[39m\"\u001b[39m:\n\u001b[1;32m----> <a href='vscode-notebook-cell:/c%3A/Users/eliot/EPFL/TP4_ECAL/Code/ecal_reco/muon_decay/raw_data_analysis.ipynb#W5sZmlsZQ%3D%3D?line=8'>9</a>\u001b[0m     event \u001b[39m=\u001b[39m df_hits\u001b[39m.\u001b[39mloc[good_candidates[i]]\n\u001b[0;32m     <a href='vscode-notebook-cell:/c%3A/Users/eliot/EPFL/TP4_ECAL/Code/ecal_reco/muon_decay/raw_data_analysis.ipynb#W5sZmlsZQ%3D%3D?line=9'>10</a>\u001b[0m     next_event \u001b[39m=\u001b[39m df_hits_total\u001b[39m.\u001b[39mloc[good_candidates[i]\u001b[39m+\u001b[39m\u001b[39m1\u001b[39m]\n\u001b[0;32m     <a href='vscode-notebook-cell:/c%3A/Users/eliot/EPFL/TP4_ECAL/Code/ecal_reco/muon_decay/raw_data_analysis.ipynb#W5sZmlsZQ%3D%3D?line=11'>12</a>\u001b[0m     hits \u001b[39m=\u001b[39m [Hit(event,i) \u001b[39mfor\u001b[39;00m i \u001b[39min\u001b[39;00m \u001b[39mrange\u001b[39m(event[\u001b[39m'\u001b[39m\u001b[39mn_hits\u001b[39m\u001b[39m'\u001b[39m\n\u001b[0;32m     <a href='vscode-notebook-cell:/c%3A/Users/eliot/EPFL/TP4_ECAL/Code/ecal_reco/muon_decay/raw_data_analysis.ipynb#W5sZmlsZQ%3D%3D?line=12'>13</a>\u001b[0m     \n\u001b[0;32m     <a href='vscode-notebook-cell:/c%3A/Users/eliot/EPFL/TP4_ECAL/Code/ecal_reco/muon_decay/raw_data_analysis.ipynb#W5sZmlsZQ%3D%3D?line=13'>14</a>\u001b[0m     ])]\n",
      "\u001b[1;31mNameError\u001b[0m: name 'good_candidates' is not defined"
     ]
    }
   ],
   "source": [
    "#This cell allows to plot the final candidates for muon decay (original track + next event)\n",
    "#press enter to plot the next candidate, press and caracter + enter to stop the loop\n",
    "%matplotlib inline\n",
    "\n",
    "i = 0\n",
    "\n",
    "kb = \"\"\n",
    "while kb == \"\":\n",
    "    event = df_hits.loc[good_candidates[i]]\n",
    "    next_event = df_hits_total.loc[good_candidates[i]+1]\n",
    "\n",
    "    hits = [Hit(event,i) for i in range(event['n_hits'\n",
    "    \n",
    "    ])]\n",
    "\n",
    "\n",
    "\n",
    "    hitsX = [h for h in hits if h.is_sidex]\n",
    "    hits_next_event = [Hit(next_event,i) for i in range(next_event['n_hits'])]\n",
    "    hitsX_next_event = [h for h in hits_next_event if h.is_sidex]\n",
    "\n",
    "    track = Track(hitsX)\n",
    "\n",
    "\n",
    "\n",
    "\n",
    "\n",
    "\n",
    "    fig,ax = plot_hits(hits,True,True,scaling = 0.5,hits_next = hits_next_event)\n",
    "    z = np.linspace(0,16)\n",
    "    x = track.t*z+track.x0\n",
    "    ax.plot(x,z,'r-')\n",
    "    display.clear_output(wait=False)\n",
    "    print(\"i = \", i)\n",
    "    print(hits_next_event[0].timestamp_event-hits_next_event[0].timestamp-hits[-1].timestamp_event+hits[-1].timestamp)\n",
    "    fig.savefig(\"fig_muon_decay_problem.pdf\".format(i))\n",
    "    display.display(fig)\n",
    "    kb = input()\n",
    "    i = i+1\n",
    "\n",
    "\n",
    "\n",
    "\n",
    "\n",
    "\n",
    "display.clear_output(wait=False)"
   ]
  },
  {
   "cell_type": "code",
   "execution_count": null,
   "metadata": {},
   "outputs": [],
   "source": [
    "filtering = pd.read_pickle(data_storage+\"filtering_data_\"+run)\n",
    "og_len = filtering['og_len'][0]\n",
    "new_len = filtering['new_len'][0]\n",
    "low_number = filtering['low_number'][0]\n",
    "bottom_touch = filtering['bottom_touch'][0]\n",
    "side_touch = filtering['side_touch'][0]\n",
    "bad_fit = filtering['bad_fit'][0]\n",
    "too_large_time_interval = filtering['too_large_time_interval'][0]\n",
    "hits_far_from_track = filtering['hits_far_from_track'][0]\n",
    "no_spacial_correlation = filtering['no_spacial_correlation'][0]"
   ]
  },
  {
   "cell_type": "code",
   "execution_count": null,
   "metadata": {},
   "outputs": [],
   "source": [
    "# Stats on the whole set of analysed data\n",
    "og_len = 0\n",
    "new_len = 0\n",
    "low_number = 0\n",
    "bottom_touch = 0\n",
    "side_touch = 0\n",
    "bad_fit = 0\n",
    "too_large_time_interval = 0\n",
    "hits_far_from_track = 0\n",
    "no_spacial_correlation = 0\n",
    "\n",
    "n_good_candidates = 0\n",
    "\n",
    "runs = fnmatch.filter(os.listdir(raw_data_directory), '*')\n",
    "for run in runs:\n",
    "    time_intervals = np.loadtxt(data_storage+\"events_indices_\"+run+\".txt\")\n",
    "    n_good_candidates += len(time_intervals)\n",
    "\n",
    "    filtering = pd.read_pickle(data_storage+\"filtering_data\"+\"_\"+run)\n",
    "    og_len += filtering['og_len'][0]\n",
    "    new_len += filtering['new_len'][0]\n",
    "    low_number += filtering['low_number'][0]\n",
    "    bottom_touch += filtering['bottom_touch'][0]\n",
    "    side_touch += filtering['side_touch'][0]\n",
    "    bad_fit += filtering['bad_fit'][0]\n",
    "    too_large_time_interval += filtering['too_large_time_interval'][0]\n",
    "    hits_far_from_track += filtering['hits_far_from_track'][0]\n",
    "    no_spacial_correlation += filtering['no_spacial_correlation'][0]"
   ]
  },
  {
   "cell_type": "code",
   "execution_count": null,
   "metadata": {},
   "outputs": [],
   "source": [
    "# Showcase of the numbers of rejection at each step of the filtering \n",
    "print(\"original length : \", og_len)\n",
    "print(\"n_hits between 6 and 50 : \", new_len)\n",
    "n = new_len\n",
    "print(\"\\u2937 Too low number of hits in one plane : \", low_number, \" over \", n)\n",
    "n -= low_number\n",
    "print(\" \\u2937 Last layer touched : \\t\\t\", bottom_touch, \" over \", n)\n",
    "n -= bottom_touch\n",
    "print(\"  \\u2937 Possible side exit : \\t\\t\", side_touch, \" over \", n)\n",
    "n -= side_touch\n",
    "print(\"   \\u2937 Bad fit : \\t\\t\\t\\t\", bad_fit, \" over \", n)\n",
    "n -= bad_fit\n",
    "print(\"    \\u2937 Too large time interval : \\t\", too_large_time_interval, \" over \", n)\n",
    "n -= too_large_time_interval\n",
    "print(\"     \\u2937 Hits far from track : \\t\\t\", hits_far_from_track, \" over \", n)\n",
    "n -= hits_far_from_track\n",
    "print(\"      \\u2937 No spacial correlation : \\t\", no_spacial_correlation, \" over \", n)\n",
    "print(\"Final number : \", n_good_candidates)"
   ]
  },
  {
   "cell_type": "code",
   "execution_count": null,
   "metadata": {},
   "outputs": [],
   "source": [
    "run = \"run_000010\"\n",
    "\n",
    "# Load the data\n",
    "df_hits_total, df_hits, og_len, new_len = load_run(raw_data_directory+run+\"\\\\\")"
   ]
  },
  {
   "cell_type": "code",
   "execution_count": null,
   "metadata": {},
   "outputs": [],
   "source": [
    "time_intervals = np.loadtxt(data_storage+\"time_intervals_\"+run+\".txt\")\n",
    "indices = np.loadtxt(data_storage+\"events_indices_\"+run+\".txt\").astype(int)\n",
    "# large_time = []\n",
    "# for i,t in enumerate(time_intervals):\n",
    "#     if t>1400:\n",
    "#         large_time.append(i)\n",
    "\n",
    "# large_time_indices = indices[large_time]\n",
    "\n",
    "%matplotlib inline\n",
    "\n",
    "i = 1\n",
    "\n",
    "kb = \"\"\n",
    "while kb == \"\":\n",
    "    # event = df_hits.loc[large_time_indices[i]]\n",
    "    # next_event = df_hits_total.loc[large_time_indices[i]+1]\n",
    "    event = df_hits.loc[indices[i]]\n",
    "    next_event = df_hits_total.loc[indices[i]+1]\n",
    "\n",
    "    hits = [Hit(event,i) for i in range(event['n_hits'\n",
    "    \n",
    "    ])]\n",
    "    hitsX = [h for h in hits if h.is_sidex]\n",
    "    hits_next_event = [Hit(next_event,i) for i in range(next_event['n_hits'])]\n",
    "    hitsX_next_event = [h for h in hits_next_event if h.is_sidex]\n",
    "\n",
    "    track = Track(hitsX)\n",
    "    fig,ax = plot_hits(hits,True,True,scaling = 0.5,hits_next = hits_next_event)\n",
    "    z = np.linspace(0,16)\n",
    "    x = track.t*z+track.x0\n",
    "    ax.plot(x,z,'r-')\n",
    "    display.clear_output(wait=False)\n",
    "    print(\"i = \", i)\n",
    "    print(hits_next_event[0].timestamp_event-hits_next_event[0].timestamp-hits[-1].timestamp_event+hits[-1].timestamp)\n",
    "    fig.savefig(\"fig_muon_decay_problem.pdf\".format(i))\n",
    "    display.display(fig)\n",
    "    kb = input()\n",
    "    i = i+1\n",
    "display.clear_output(wait=False)\n",
    "\n"
   ]
  },
  {
   "cell_type": "code",
   "execution_count": null,
   "metadata": {},
   "outputs": [],
   "source": [
    "fig.savefig(\"shower_section.pdf\")"
   ]
  }
 ],
 "metadata": {
  "kernelspec": {
   "display_name": "TP4",
   "language": "python",
   "name": "python3"
  },
  "language_info": {
   "codemirror_mode": {
    "name": "ipython",
    "version": 3
   },
   "file_extension": ".py",
   "mimetype": "text/x-python",
   "name": "python",
   "nbconvert_exporter": "python",
   "pygments_lexer": "ipython3",
   "version": "3.12.0"
  },
  "orig_nbformat": 4,
  "vscode": {
   "interpreter": {
    "hash": "1867fa988200979088d84bc4ce438c40759f9afa4e246357d770a8bf50c98f50"
   }
  }
 },
 "nbformat": 4,
 "nbformat_minor": 2
}
