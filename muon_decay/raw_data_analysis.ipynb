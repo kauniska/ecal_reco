{
 "cells": [
  {
   "cell_type": "code",
   "execution_count": 1,
   "metadata": {},
   "outputs": [],
   "source": [
    "import pandas as pd\n",
    "import uproot\n",
    "#import uproot3\n",
    "import numpy as np\n",
    "# import track_time_calibration as ttc\n",
    "from matplotlib import pyplot as plt\n",
    "import sys\n",
    "import os \n",
    "import fnmatch\n",
    "sys.path.insert(1, r'C:\\Users\\eliot\\EPFL\\TP4_ECAL\\Code\\ecal_reco\\utils')\n",
    "sys.path.insert(1, r'C:\\Users\\eliot\\EPFL\\TP4_ECAL\\Code\\ecal_reco\\tracking')\n",
    "from track import Track\n",
    "from track3D import Track3D\n",
    "from hit import Hit\n",
    "from data_loading import *\n",
    "from parameters import *\n",
    "from tqdm import tqdm\n",
    "from track_reconstruction import plot_hits\n",
    "from physics import dist_line_rect\n",
    "import pickle\n",
    "from IPython import display\n",
    "from find_muon_decay import find_muon_decay\n"
   ]
  },
  {
   "cell_type": "code",
   "execution_count": 2,
   "metadata": {},
   "outputs": [],
   "source": [
    "# Define the paths needed\n",
    "raw_data_directory = \"C:\\\\Users\\\\eliot\\\\EPFL\\\\TP4_ECAL\\\\raw_data\\\\\" #path to the ecal data\n",
    "current_directory = os.getcwd()\n",
    "data_storage = current_directory+r\"\\extracted_data\\\\\"\n",
    "runs = [\"run_000006\"]  # List of the runs to analyse. If empty, the program will go through all the data available in the raw_data directory\n",
    "suffix = \"\" # If one wants to re-run on already analysed data without overwriting the extracted data\n",
    "separator = \"\\\\\" # \"/\" if linux or mac"
   ]
  },
  {
   "cell_type": "code",
   "execution_count": 4,
   "metadata": {},
   "outputs": [
    {
     "name": "stdout",
     "output_type": "stream",
     "text": [
      "C:\\Users\\eliot\\EPFL\\TP4_ECAL\\raw_data\\run_000006\\data_0000.root\n"
     ]
    },
    {
     "ename": "TypeError",
     "evalue": "'module' object is not callable",
     "output_type": "error",
     "traceback": [
      "\u001b[1;31m---------------------------------------------------------------------------\u001b[0m",
      "\u001b[1;31mTypeError\u001b[0m                                 Traceback (most recent call last)",
      "\u001b[1;32mc:\\Users\\eliot\\EPFL\\TP4_ECAL\\Code\\ecal_reco\\muon_decay\\raw_data_analysis.ipynb Cell 3\u001b[0m line \u001b[0;36m3\n\u001b[0;32m     <a href='vscode-notebook-cell:/c%3A/Users/eliot/EPFL/TP4_ECAL/Code/ecal_reco/muon_decay/raw_data_analysis.ipynb#W2sZmlsZQ%3D%3D?line=29'>30</a>\u001b[0m new_len \u001b[39m=\u001b[39m \u001b[39mlen\u001b[39m(df_hits)\n\u001b[0;32m     <a href='vscode-notebook-cell:/c%3A/Users/eliot/EPFL/TP4_ECAL/Code/ecal_reco/muon_decay/raw_data_analysis.ipynb#W2sZmlsZQ%3D%3D?line=30'>31</a>\u001b[0m \u001b[39m# **************************************************************\u001b[39;00m\n\u001b[1;32m---> <a href='vscode-notebook-cell:/c%3A/Users/eliot/EPFL/TP4_ECAL/Code/ecal_reco/muon_decay/raw_data_analysis.ipynb#W2sZmlsZQ%3D%3D?line=32'>33</a>\u001b[0m _, _ \u001b[39m=\u001b[39m find_muon_decay(df_hits,df_hits_total, save_indices \u001b[39m=\u001b[39;49m \u001b[39mTrue\u001b[39;49;00m, save_time_intervals\u001b[39m=\u001b[39;49m\u001b[39mTrue\u001b[39;49;00m, save_hits \u001b[39m=\u001b[39;49m \u001b[39mTrue\u001b[39;49;00m, save_stats \u001b[39m=\u001b[39;49m \u001b[39mTrue\u001b[39;49;00m, \\\n\u001b[0;32m     <a href='vscode-notebook-cell:/c%3A/Users/eliot/EPFL/TP4_ECAL/Code/ecal_reco/muon_decay/raw_data_analysis.ipynb#W2sZmlsZQ%3D%3D?line=33'>34</a>\u001b[0m                 run_name \u001b[39m=\u001b[39;49m \u001b[39m\"\u001b[39;49m\u001b[39m_\u001b[39;49m\u001b[39m\"\u001b[39;49m\u001b[39m+\u001b[39;49mrun, storage_dir \u001b[39m=\u001b[39;49m data_storage, \\\n\u001b[0;32m     <a href='vscode-notebook-cell:/c%3A/Users/eliot/EPFL/TP4_ECAL/Code/ecal_reco/muon_decay/raw_data_analysis.ipynb#W2sZmlsZQ%3D%3D?line=34'>35</a>\u001b[0m                 return_stats \u001b[39m=\u001b[39;49m \u001b[39mFalse\u001b[39;49;00m)\n",
      "File \u001b[1;32mc:\\Users\\eliot\\EPFL\\TP4_ECAL\\Code\\ecal_reco\\muon_decay\\find_muon_decay.py:60\u001b[0m, in \u001b[0;36mfind_muon_decay\u001b[1;34m(df, df_total, time_cutoff, spacial_cutoff, save_indices, save_hits, save_stats, save_time_intervals, run_name, storage_dir, return_stats)\u001b[0m\n\u001b[0;32m     57\u001b[0m \u001b[39mif\u001b[39;00m save_hits:\n\u001b[0;32m     58\u001b[0m     decay_data \u001b[39m=\u001b[39m {\u001b[39m'\u001b[39m\u001b[39mevent_index\u001b[39m\u001b[39m'\u001b[39m: [], \u001b[39m'\u001b[39m\u001b[39mtrack_x0\u001b[39m\u001b[39m'\u001b[39m : [], \u001b[39m'\u001b[39m\u001b[39mtrack_tx\u001b[39m\u001b[39m'\u001b[39m : [], \u001b[39m'\u001b[39m\u001b[39mtrack_y0\u001b[39m\u001b[39m'\u001b[39m : [], \u001b[39m'\u001b[39m\u001b[39mtrack_ty\u001b[39m\u001b[39m'\u001b[39m : [], \u001b[39m'\u001b[39m\u001b[39mhits_muon\u001b[39m\u001b[39m'\u001b[39m: [], \u001b[39m'\u001b[39m\u001b[39mhits_electron\u001b[39m\u001b[39m'\u001b[39m: [], \u001b[39m'\u001b[39m\u001b[39mtime_interval\u001b[39m\u001b[39m'\u001b[39m : []}\n\u001b[1;32m---> 60\u001b[0m \u001b[39mfor\u001b[39;00m index, row \u001b[39min\u001b[39;00m tqdm(df\u001b[39m.\u001b[39;49miterrows(), total \u001b[39m=\u001b[39;49m df\u001b[39m.\u001b[39;49mshape[\u001b[39m0\u001b[39;49m]):\n\u001b[0;32m     61\u001b[0m     hits \u001b[39m=\u001b[39m [Hit(row,i) \u001b[39mfor\u001b[39;00m i \u001b[39min\u001b[39;00m \u001b[39mrange\u001b[39m(row[\u001b[39m'\u001b[39m\u001b[39mn_hits\u001b[39m\u001b[39m'\u001b[39m])]\n\u001b[0;32m     62\u001b[0m     hitsX \u001b[39m=\u001b[39m [h \u001b[39mfor\u001b[39;00m h \u001b[39min\u001b[39;00m hits \u001b[39mif\u001b[39;00m h\u001b[39m.\u001b[39mis_sidex]\n",
      "\u001b[1;31mTypeError\u001b[0m: 'module' object is not callable"
     ]
    }
   ],
   "source": [
    "# Analyse data\n",
    "if len(runs) == 0:\n",
    "    runs = fnmatch.filter(os.listdir(raw_data_directory), '*')\n",
    "\n",
    "for run in runs:\n",
    "    print(raw_data_directory+run+\"\\\\data_0000.root\")\n",
    "    df= load_dataset(raw_data_directory+run+\"\\\\data_0000.root\")\n",
    "\n",
    "\n",
    " # Il manque ici la gestion si les données sont en plusieurs files ***********************************\n",
    "\n",
    "\n",
    "\n",
    "    #fonction cassé donc à la place tout est ici *************************\n",
    "\n",
    "    n_hits_min=6\n",
    "    n_hits_max=50\n",
    "\n",
    "\n",
    "    df_hits_total = df\n",
    "    df_hits = pd.DataFrame.copy(df_hits_total, deep=True)\n",
    "\n",
    "    og_len = len(df_hits_total)\n",
    "\n",
    "    min_condition = \"n_hits > \"+str(n_hits_min)\n",
    "    max_condition = \"n_hits < \"+str(n_hits_max)\n",
    "    df_hits.query(min_condition, inplace=True)\n",
    "    df_hits.query(max_condition, inplace=True)\n",
    "\n",
    "    new_len = len(df_hits)\n",
    "    # **************************************************************\n",
    "\n",
    "    _, _ = find_muon_decay(df_hits,df_hits_total, save_indices = True, save_time_intervals=True, save_hits = True, save_stats = True, \\\n",
    "                    run_name = \"_\"+run, storage_dir = data_storage, \\\n",
    "                    return_stats = False)\n"
   ]
  },
  {
   "cell_type": "code",
   "execution_count": null,
   "metadata": {},
   "outputs": [
    {
     "ename": "KeyInFileError",
     "evalue": "not found: 'evt_timestamp'\nin file C:\\Users\\eliot\\EPFL\\TP4_ECAL\\raw_data\\run_000001\\data_0000.root\nin object /event;1",
     "output_type": "error",
     "traceback": [
      "\u001b[1;31m---------------------------------------------------------------------------\u001b[0m",
      "\u001b[1;31mKeyError\u001b[0m                                  Traceback (most recent call last)",
      "File \u001b[1;32mc:\\Users\\eliot\\mambaforge\\envs\\ecal-env\\Lib\\site-packages\\uproot\\language\\python.py:379\u001b[0m, in \u001b[0;36mPythonLanguage.free_symbols\u001b[1;34m(self, expression, keys, aliases, file_path, object_path)\u001b[0m\n\u001b[0;32m    378\u001b[0m \u001b[39mtry\u001b[39;00m:\n\u001b[1;32m--> 379\u001b[0m     \u001b[39mreturn\u001b[39;00m \u001b[39mlist\u001b[39;49m(\n\u001b[0;32m    380\u001b[0m         _walk_ast_yield_symbols(\n\u001b[0;32m    381\u001b[0m             node, keys, aliases, \u001b[39mself\u001b[39;49m\u001b[39m.\u001b[39;49m_functions, \u001b[39mself\u001b[39;49m\u001b[39m.\u001b[39;49m_getter\n\u001b[0;32m    382\u001b[0m         )\n\u001b[0;32m    383\u001b[0m     )\n\u001b[0;32m    384\u001b[0m \u001b[39mexcept\u001b[39;00m \u001b[39mKeyError\u001b[39;00m \u001b[39mas\u001b[39;00m err:\n",
      "File \u001b[1;32mc:\\Users\\eliot\\mambaforge\\envs\\ecal-env\\Lib\\site-packages\\uproot\\language\\python.py:91\u001b[0m, in \u001b[0;36m_walk_ast_yield_symbols\u001b[1;34m(node, keys, aliases, functions, getter)\u001b[0m\n\u001b[0;32m     90\u001b[0m         x \u001b[39m=\u001b[39m \u001b[39mgetattr\u001b[39m(node, field_name)\n\u001b[1;32m---> 91\u001b[0m         \u001b[39myield from\u001b[39;00m _walk_ast_yield_symbols(x, keys, aliases, functions, getter)\n\u001b[0;32m     93\u001b[0m \u001b[39melif\u001b[39;00m \u001b[39misinstance\u001b[39m(node, \u001b[39mlist\u001b[39m):\n",
      "File \u001b[1;32mc:\\Users\\eliot\\mambaforge\\envs\\ecal-env\\Lib\\site-packages\\uproot\\language\\python.py:95\u001b[0m, in \u001b[0;36m_walk_ast_yield_symbols\u001b[1;34m(node, keys, aliases, functions, getter)\u001b[0m\n\u001b[0;32m     94\u001b[0m     \u001b[39mfor\u001b[39;00m x \u001b[39min\u001b[39;00m node:\n\u001b[1;32m---> 95\u001b[0m         \u001b[39myield from\u001b[39;00m _walk_ast_yield_symbols(x, keys, aliases, functions, getter)\n\u001b[0;32m     97\u001b[0m \u001b[39melse\u001b[39;00m:\n",
      "File \u001b[1;32mc:\\Users\\eliot\\mambaforge\\envs\\ecal-env\\Lib\\site-packages\\uproot\\language\\python.py:91\u001b[0m, in \u001b[0;36m_walk_ast_yield_symbols\u001b[1;34m(node, keys, aliases, functions, getter)\u001b[0m\n\u001b[0;32m     90\u001b[0m         x \u001b[39m=\u001b[39m \u001b[39mgetattr\u001b[39m(node, field_name)\n\u001b[1;32m---> 91\u001b[0m         \u001b[39myield from\u001b[39;00m _walk_ast_yield_symbols(x, keys, aliases, functions, getter)\n\u001b[0;32m     93\u001b[0m \u001b[39melif\u001b[39;00m \u001b[39misinstance\u001b[39m(node, \u001b[39mlist\u001b[39m):\n",
      "File \u001b[1;32mc:\\Users\\eliot\\mambaforge\\envs\\ecal-env\\Lib\\site-packages\\uproot\\language\\python.py:74\u001b[0m, in \u001b[0;36m_walk_ast_yield_symbols\u001b[1;34m(node, keys, aliases, functions, getter)\u001b[0m\n\u001b[0;32m     73\u001b[0m     \u001b[39melse\u001b[39;00m:\n\u001b[1;32m---> 74\u001b[0m         \u001b[39mraise\u001b[39;00m \u001b[39mKeyError\u001b[39;00m(node\u001b[39m.\u001b[39mid)\n\u001b[0;32m     76\u001b[0m \u001b[39melif\u001b[39;00m \u001b[39misinstance\u001b[39m(node, ast\u001b[39m.\u001b[39mAttribute):\n",
      "\u001b[1;31mKeyError\u001b[0m: 'evt_timestamp'",
      "\nThe above exception was the direct cause of the following exception:\n",
      "\u001b[1;31mKeyInFileError\u001b[0m                            Traceback (most recent call last)",
      "\u001b[1;32mc:\\Users\\eliot\\EPFL\\TP4_ECAL\\Code\\ecal_reco\\muon_decay\\raw_data_analysis.ipynb Cell 4\u001b[0m line \u001b[0;36m5\n\u001b[0;32m      <a href='vscode-notebook-cell:/c%3A/Users/eliot/EPFL/TP4_ECAL/Code/ecal_reco/muon_decay/raw_data_analysis.ipynb#W3sZmlsZQ%3D%3D?line=1'>2</a>\u001b[0m run \u001b[39m=\u001b[39m \u001b[39m\"\u001b[39m\u001b[39mrun_000001\u001b[39m\u001b[39m\"\u001b[39m\n\u001b[0;32m      <a href='vscode-notebook-cell:/c%3A/Users/eliot/EPFL/TP4_ECAL/Code/ecal_reco/muon_decay/raw_data_analysis.ipynb#W3sZmlsZQ%3D%3D?line=3'>4</a>\u001b[0m \u001b[39m# Load the data\u001b[39;00m\n\u001b[1;32m----> <a href='vscode-notebook-cell:/c%3A/Users/eliot/EPFL/TP4_ECAL/Code/ecal_reco/muon_decay/raw_data_analysis.ipynb#W3sZmlsZQ%3D%3D?line=4'>5</a>\u001b[0m df_hits_total, df_hits, og_len, new_len \u001b[39m=\u001b[39m load_run(raw_data_directory\u001b[39m+\u001b[39;49mrun\u001b[39m+\u001b[39;49m\u001b[39m\"\u001b[39;49m\u001b[39m\\\\\u001b[39;49;00m\u001b[39m\"\u001b[39;49m)\n",
      "File \u001b[1;32m~\\EPFL\\TP4_ECAL\\Code\\ecal_reco\\utils\\data_loading.py:51\u001b[0m, in \u001b[0;36mload_run\u001b[1;34m(run_path, n_hits_min, n_hits_max)\u001b[0m\n\u001b[0;32m     49\u001b[0m \u001b[39mfor\u001b[39;00m i,file \u001b[39min\u001b[39;00m \u001b[39menumerate\u001b[39m(files):\n\u001b[0;32m     50\u001b[0m     \u001b[39mif\u001b[39;00m i \u001b[39m==\u001b[39m \u001b[39m0\u001b[39m:\n\u001b[1;32m---> 51\u001b[0m         df \u001b[39m=\u001b[39m [load_dataset(run_path\u001b[39m+\u001b[39;49mfile)]\n\u001b[0;32m     52\u001b[0m     \u001b[39melse\u001b[39;00m:\n\u001b[0;32m     53\u001b[0m         df_i \u001b[39m=\u001b[39m load_dataset(run_path\u001b[39m+\u001b[39mfile)\n",
      "File \u001b[1;32m~\\EPFL\\TP4_ECAL\\Code\\ecal_reco\\utils\\data_loading.py:27\u001b[0m, in \u001b[0;36mload_dataset\u001b[1;34m(file_path)\u001b[0m\n\u001b[0;32m     16\u001b[0m \u001b[39m \u001b[39m\u001b[39m\"\"\"\u001b[39;00m\n\u001b[0;32m     17\u001b[0m \u001b[39m Load single .root file containing events and hits (board_x) tree\u001b[39;00m\n\u001b[0;32m     18\u001b[0m \u001b[39m ## events tree is global\u001b[39;00m\n\u001b[1;32m   (...)\u001b[0m\n\u001b[0;32m     21\u001b[0m \u001b[39m Extract global time from events df and add to the one with hits\u001b[39;00m\n\u001b[0;32m     22\u001b[0m \u001b[39m \"\"\"\u001b[39;00m\n\u001b[0;32m     25\u001b[0m  \u001b[39mwith\u001b[39;00m uproot\u001b[39m.\u001b[39mopen(file_path) \u001b[39mas\u001b[39;00m tree:\n\u001b[0;32m     26\u001b[0m      \u001b[39m# hits_dict = tree[hits_tree].arrays(br_list_data, library=\"np\")\u001b[39;00m\n\u001b[1;32m---> 27\u001b[0m      hits_dict \u001b[39m=\u001b[39m tree[hits_tree]\u001b[39m.\u001b[39;49marrays(br_list_data, library\u001b[39m=\u001b[39;49m\u001b[39m\"\u001b[39;49m\u001b[39mnp\u001b[39;49m\u001b[39m\"\u001b[39;49m)\n\u001b[0;32m     28\u001b[0m      \u001b[39m#evts_dict = tree[evt_tree].arrays(br_list_evt, library=\"np\")\u001b[39;00m\n\u001b[0;32m     29\u001b[0m  \n\u001b[0;32m     30\u001b[0m \u001b[39m# df_evts = pd.DataFrame.from_dict(evts_dict)\u001b[39;00m\n\u001b[0;32m     31\u001b[0m  df_hits \u001b[39m=\u001b[39m pd\u001b[39m.\u001b[39mDataFrame\u001b[39m.\u001b[39mfrom_dict(hits_dict)\n",
      "File \u001b[1;32mc:\\Users\\eliot\\mambaforge\\envs\\ecal-env\\Lib\\site-packages\\uproot\\behaviors\\TBranch.py:814\u001b[0m, in \u001b[0;36mHasBranches.arrays\u001b[1;34m(self, expressions, cut, filter_name, filter_typename, filter_branch, aliases, language, entry_start, entry_stop, decompression_executor, interpretation_executor, array_cache, library, ak_add_doc, how)\u001b[0m\n\u001b[0;32m    811\u001b[0m         \u001b[39mreturn\u001b[39;00m \u001b[39mNone\u001b[39;00m\n\u001b[0;32m    813\u001b[0m aliases \u001b[39m=\u001b[39m _regularize_aliases(\u001b[39mself\u001b[39m, aliases)\n\u001b[1;32m--> 814\u001b[0m arrays, expression_context, branchid_interpretation \u001b[39m=\u001b[39m _regularize_expressions(\n\u001b[0;32m    815\u001b[0m     \u001b[39mself\u001b[39;49m,\n\u001b[0;32m    816\u001b[0m     expressions,\n\u001b[0;32m    817\u001b[0m     cut,\n\u001b[0;32m    818\u001b[0m     filter_name,\n\u001b[0;32m    819\u001b[0m     filter_typename,\n\u001b[0;32m    820\u001b[0m     filter_branch,\n\u001b[0;32m    821\u001b[0m     keys,\n\u001b[0;32m    822\u001b[0m     aliases,\n\u001b[0;32m    823\u001b[0m     language,\n\u001b[0;32m    824\u001b[0m     get_from_cache,\n\u001b[0;32m    825\u001b[0m )\n\u001b[0;32m    827\u001b[0m ranges_or_baskets \u001b[39m=\u001b[39m []\n\u001b[0;32m    828\u001b[0m checked \u001b[39m=\u001b[39m \u001b[39mset\u001b[39m()\n",
      "File \u001b[1;32mc:\\Users\\eliot\\mambaforge\\envs\\ecal-env\\Lib\\site-packages\\uproot\\behaviors\\TBranch.py:2931\u001b[0m, in \u001b[0;36m_regularize_expressions\u001b[1;34m(hasbranches, expressions, cut, filter_name, filter_typename, filter_branch, keys, aliases, language, get_from_cache)\u001b[0m\n\u001b[0;32m   2929\u001b[0m \u001b[39mfor\u001b[39;00m expression, interp \u001b[39min\u001b[39;00m items:\n\u001b[0;32m   2930\u001b[0m     \u001b[39mif\u001b[39;00m interp \u001b[39mis\u001b[39;00m \u001b[39mNone\u001b[39;00m:\n\u001b[1;32m-> 2931\u001b[0m         _regularize_expression(\n\u001b[0;32m   2932\u001b[0m             hasbranches,\n\u001b[0;32m   2933\u001b[0m             expression,\n\u001b[0;32m   2934\u001b[0m             keys,\n\u001b[0;32m   2935\u001b[0m             aliases,\n\u001b[0;32m   2936\u001b[0m             language,\n\u001b[0;32m   2937\u001b[0m             get_from_cache,\n\u001b[0;32m   2938\u001b[0m             arrays,\n\u001b[0;32m   2939\u001b[0m             expression_context,\n\u001b[0;32m   2940\u001b[0m             branchid_interpretation,\n\u001b[0;32m   2941\u001b[0m             (),\n\u001b[0;32m   2942\u001b[0m             \u001b[39mFalse\u001b[39;49;00m,\n\u001b[0;32m   2943\u001b[0m             \u001b[39mNone\u001b[39;49;00m,\n\u001b[0;32m   2944\u001b[0m         )\n\u001b[0;32m   2945\u001b[0m     \u001b[39melse\u001b[39;00m:\n\u001b[0;32m   2946\u001b[0m         branch \u001b[39m=\u001b[39m hasbranches[expression]\n",
      "File \u001b[1;32mc:\\Users\\eliot\\mambaforge\\envs\\ecal-env\\Lib\\site-packages\\uproot\\behaviors\\TBranch.py:2799\u001b[0m, in \u001b[0;36m_regularize_expression\u001b[1;34m(hasbranches, expression, keys, aliases, language, get_from_cache, arrays, expression_context, branchid_interpretation, symbol_path, is_cut, rename)\u001b[0m\n\u001b[0;32m   2797\u001b[0m is_jagged \u001b[39m=\u001b[39m \u001b[39mFalse\u001b[39;00m\n\u001b[0;32m   2798\u001b[0m expression_branches \u001b[39m=\u001b[39m []\n\u001b[1;32m-> 2799\u001b[0m \u001b[39mfor\u001b[39;00m symbol \u001b[39min\u001b[39;00m language\u001b[39m.\u001b[39;49mfree_symbols(\n\u001b[0;32m   2800\u001b[0m     to_compute,\n\u001b[0;32m   2801\u001b[0m     keys,\n\u001b[0;32m   2802\u001b[0m     aliases,\n\u001b[0;32m   2803\u001b[0m     hasbranches\u001b[39m.\u001b[39;49mfile\u001b[39m.\u001b[39;49mfile_path,\n\u001b[0;32m   2804\u001b[0m     hasbranches\u001b[39m.\u001b[39;49mobject_path,\n\u001b[0;32m   2805\u001b[0m ):\n\u001b[0;32m   2806\u001b[0m     \u001b[39mif\u001b[39;00m symbol \u001b[39min\u001b[39;00m symbol_path:\n\u001b[0;32m   2807\u001b[0m         \u001b[39mraise\u001b[39;00m \u001b[39mValueError\u001b[39;00m(\n\u001b[0;32m   2808\u001b[0m \u001b[39m            \u001b[39m\u001b[39m\"\"\"symbol {} is recursively defined with aliases:\u001b[39;00m\n\u001b[0;32m   2809\u001b[0m \n\u001b[1;32m   (...)\u001b[0m\n\u001b[0;32m   2817\u001b[0m             )\n\u001b[0;32m   2818\u001b[0m         )\n",
      "File \u001b[1;32mc:\\Users\\eliot\\mambaforge\\envs\\ecal-env\\Lib\\site-packages\\uproot\\language\\python.py:385\u001b[0m, in \u001b[0;36mPythonLanguage.free_symbols\u001b[1;34m(self, expression, keys, aliases, file_path, object_path)\u001b[0m\n\u001b[0;32m    379\u001b[0m     \u001b[39mreturn\u001b[39;00m \u001b[39mlist\u001b[39m(\n\u001b[0;32m    380\u001b[0m         _walk_ast_yield_symbols(\n\u001b[0;32m    381\u001b[0m             node, keys, aliases, \u001b[39mself\u001b[39m\u001b[39m.\u001b[39m_functions, \u001b[39mself\u001b[39m\u001b[39m.\u001b[39m_getter\n\u001b[0;32m    382\u001b[0m         )\n\u001b[0;32m    383\u001b[0m     )\n\u001b[0;32m    384\u001b[0m \u001b[39mexcept\u001b[39;00m \u001b[39mKeyError\u001b[39;00m \u001b[39mas\u001b[39;00m err:\n\u001b[1;32m--> 385\u001b[0m     \u001b[39mraise\u001b[39;00m uproot\u001b[39m.\u001b[39mKeyInFileError(\n\u001b[0;32m    386\u001b[0m         err\u001b[39m.\u001b[39margs[\u001b[39m0\u001b[39m], file_path\u001b[39m=\u001b[39mfile_path, object_path\u001b[39m=\u001b[39mobject_path\n\u001b[0;32m    387\u001b[0m     ) \u001b[39mfrom\u001b[39;00m \u001b[39merr\u001b[39;00m\n",
      "\u001b[1;31mKeyInFileError\u001b[0m: not found: 'evt_timestamp'\nin file C:\\Users\\eliot\\EPFL\\TP4_ECAL\\raw_data\\run_000001\\data_0000.root\nin object /event;1"
     ]
    }
   ],
   "source": [
    "# Load of the data frame to visualize the decays\n",
    "run = \"run_000001\"\n",
    "\n",
    "# Load the data\n",
    "df_hits_total, df_hits, og_len, new_len = load_run(raw_data_directory+run+\"\\\\\")\n"
   ]
  },
  {
   "cell_type": "code",
   "execution_count": null,
   "metadata": {},
   "outputs": [],
   "source": [
    "\n",
    "good_candidates = np.loadtxt(data_storage+\"events_indices_\"+run+\".txt\")"
   ]
  },
  {
   "cell_type": "code",
   "execution_count": null,
   "metadata": {},
   "outputs": [],
   "source": [
    "#This cell allows to plot the final candidates for muon decay (original track + next event)\n",
    "#press enter to plot the next candidate, press and caracter + enter to stop the loop\n",
    "%matplotlib inline\n",
    "\n",
    "i = 0\n",
    "\n",
    "kb = \"\"\n",
    "while kb == \"\":\n",
    "    event = df_hits.loc[good_candidates[i]]\n",
    "    next_event = df_hits_total.loc[good_candidates[i]+1]\n",
    "\n",
    "    hits = [Hit(event,i) for i in range(event['n_hits'\n",
    "    \n",
    "    ])]\n",
    "    hitsX = [h for h in hits if h.is_sidex]\n",
    "    hits_next_event = [Hit(next_event,i) for i in range(next_event['n_hits'])]\n",
    "    hitsX_next_event = [h for h in hits_next_event if h.is_sidex]\n",
    "\n",
    "    track = Track(hitsX)\n",
    "    fig,ax = plot_hits(hits,True,True,scaling = 0.5,hits_next = hits_next_event)\n",
    "    z = np.linspace(0,16)\n",
    "    x = track.t*z+track.x0\n",
    "    ax.plot(x,z,'r-')\n",
    "    display.clear_output(wait=False)\n",
    "    print(\"i = \", i)\n",
    "    print(hits_next_event[0].timestamp_event-hits_next_event[0].timestamp-hits[-1].timestamp_event+hits[-1].timestamp)\n",
    "    fig.savefig(\"fig_muon_decay_problem.pdf\".format(i))\n",
    "    display.display(fig)\n",
    "    kb = input()\n",
    "    i = i+1\n",
    "\n",
    "display.clear_output(wait=False)"
   ]
  },
  {
   "cell_type": "code",
   "execution_count": null,
   "metadata": {},
   "outputs": [],
   "source": [
    "filtering = pd.read_pickle(data_storage+\"filtering_data\"+run)\n",
    "og_len = filtering['og_len'][0]\n",
    "new_len = filtering['new_len'][0]\n",
    "low_number = filtering['low_number'][0]\n",
    "bottom_touch = filtering['bottom_touch'][0]\n",
    "side_touch = filtering['side_touch'][0]\n",
    "bad_fit = filtering['bad_fit'][0]\n",
    "too_large_time_interval = filtering['too_large_time_interval'][0]\n",
    "hits_far_from_track = filtering['hits_far_from_track'][0]\n",
    "no_spacial_correlation = filtering['no_spacial_correlation'][0]"
   ]
  },
  {
   "cell_type": "code",
   "execution_count": null,
   "metadata": {},
   "outputs": [],
   "source": [
    "# Stats on the whole set of analysed data\n",
    "og_len = 0\n",
    "new_len = 0\n",
    "low_number = 0\n",
    "bottom_touch = 0\n",
    "side_touch = 0\n",
    "bad_fit = 0\n",
    "too_large_time_interval = 0\n",
    "hits_far_from_track = 0\n",
    "no_spacial_correlation = 0\n",
    "\n",
    "n_good_candidates = 0\n",
    "\n",
    "runs = fnmatch.filter(os.listdir(raw_data_directory), '*')\n",
    "for run in runs:\n",
    "    time_intervals = np.loadtxt(data_storage+\"events_indices_\"+run+\".txt\")\n",
    "    n_good_candidates += len(time_intervals)\n",
    "\n",
    "    filtering = pd.read_pickle(data_storage+\"filtering_data\"+\"_\"+run)\n",
    "    og_len += filtering['og_len'][0]\n",
    "    new_len += filtering['new_len'][0]\n",
    "    low_number += filtering['low_number'][0]\n",
    "    bottom_touch += filtering['bottom_touch'][0]\n",
    "    side_touch += filtering['side_touch'][0]\n",
    "    bad_fit += filtering['bad_fit'][0]\n",
    "    too_large_time_interval += filtering['too_large_time_interval'][0]\n",
    "    hits_far_from_track += filtering['hits_far_from_track'][0]\n",
    "    no_spacial_correlation += filtering['no_spacial_correlation'][0]\n",
    "\n"
   ]
  },
  {
   "cell_type": "code",
   "execution_count": null,
   "metadata": {},
   "outputs": [
    {
     "name": "stdout",
     "output_type": "stream",
     "text": [
      "original length :  42843188\n",
      "n_hits between 6 and 50 :  4206698\n",
      "⤷ Too low number of hits in one plane :  919984  over  4206698\n",
      " ⤷ Last layer touched : \t\t 2499287  over  3286714\n",
      "  ⤷ Possible side exit : \t\t 349787  over  787427\n",
      "   ⤷ Bad fit : \t\t\t\t 266421  over  437640\n",
      "    ⤷ Too large time interval : \t 158564  over  171219\n",
      "     ⤷ Hits far from track : \t\t 0  over  12655\n",
      "      ⤷ No spacial correlation : \t 10403  over  12655\n",
      "Final number :  2374\n"
     ]
    }
   ],
   "source": [
    "# Showcase of the numbers of rejection at each step of the filtering \n",
    "print(\"original length : \", og_len)\n",
    "print(\"n_hits between 6 and 50 : \", new_len)\n",
    "n = new_len\n",
    "print(\"\\u2937 Too low number of hits in one plane : \", low_number, \" over \", n)\n",
    "n -= low_number\n",
    "print(\" \\u2937 Last layer touched : \\t\\t\", bottom_touch, \" over \", n)\n",
    "n -= bottom_touch\n",
    "print(\"  \\u2937 Possible side exit : \\t\\t\", side_touch, \" over \", n)\n",
    "n -= side_touch\n",
    "print(\"   \\u2937 Bad fit : \\t\\t\\t\\t\", bad_fit, \" over \", n)\n",
    "n -= bad_fit\n",
    "print(\"    \\u2937 Too large time interval : \\t\", too_large_time_interval, \" over \", n)\n",
    "n -= too_large_time_interval\n",
    "print(\"     \\u2937 Hits far from track : \\t\\t\", hits_far_from_track, \" over \", n)\n",
    "n -= hits_far_from_track\n",
    "print(\"      \\u2937 No spacial correlation : \\t\", no_spacial_correlation, \" over \", n)\n",
    "print(\"Final number : \", n_good_candidates)"
   ]
  },
  {
   "cell_type": "code",
   "execution_count": null,
   "metadata": {},
   "outputs": [
    {
     "name": "stdout",
     "output_type": "stream",
     "text": [
      "selected 4.55% of all events\n"
     ]
    }
   ],
   "source": [
    "run = \"10h\"\n",
    "\n",
    "# Load the data\n",
    "df_hits_total, df_hits, og_len, new_len = load_run(raw_data_directory+run+\"\\\\\")"
   ]
  },
  {
   "cell_type": "code",
   "execution_count": null,
   "metadata": {},
   "outputs": [
    {
     "data": {
      "image/png": "[encoded data removed]",
      "text/plain": [
       "<Figure size 960x400 with 1 Axes>"
      ]
     },
     "metadata": {},
     "output_type": "display_data"
    }
   ],
   "source": [
    "time_intervals = np.loadtxt(data_storage+\"time_intervals_\"+run+\".txt\")\n",
    "indices = np.loadtxt(data_storage+\"events_indices_\"+run+\".txt\").astype(int)\n",
    "# large_time = []\n",
    "# for i,t in enumerate(time_intervals):\n",
    "#     if t>1400:\n",
    "#         large_time.append(i)\n",
    "\n",
    "# large_time_indices = indices[large_time]\n",
    "\n",
    "%matplotlib inline\n",
    "\n",
    "i = 6\n",
    "\n",
    "kb = \"\"\n",
    "while kb == \"\":\n",
    "    # event = df_hits.loc[large_time_indices[i]]\n",
    "    # next_event = df_hits_total.loc[large_time_indices[i]+1]\n",
    "    event = df_hits.loc[indices[i]]\n",
    "    next_event = df_hits_total.loc[indices[i]+1]\n",
    "\n",
    "    hits = [Hit(event,i) for i in range(event['n_hits'\n",
    "    \n",
    "    ])]\n",
    "    hitsX = [h for h in hits if h.is_sidex]\n",
    "    hits_next_event = [Hit(next_event,i) for i in range(next_event['n_hits'])]\n",
    "    hitsX_next_event = [h for h in hits_next_event if h.is_sidex]\n",
    "\n",
    "    track = Track(hitsX)\n",
    "    fig,ax = plot_hits(hits,True,True,scaling = 0.5,hits_next = hits_next_event)\n",
    "    z = np.linspace(0,16)\n",
    "    x = track.t*z+track.x0\n",
    "    ax.plot(x,z,'r-')\n",
    "    display.clear_output(wait=False)\n",
    "    print(\"i = \", i)\n",
    "    print(hits_next_event[0].timestamp_event-hits_next_event[0].timestamp-hits[-1].timestamp_event+hits[-1].timestamp)\n",
    "    fig.savefig(\"fig_muon_decay_problem.pdf\".format(i))\n",
    "    display.display(fig)\n",
    "    kb = input()\n",
    "    i = i+1\n",
    "display.clear_output(wait=False)\n"
   ]
  },
  {
   "cell_type": "code",
   "execution_count": null,
   "metadata": {},
   "outputs": [],
   "source": [
    "fig.savefig(\"shower_section.pdf\")"
   ]
  }
 ],
 "metadata": {
  "kernelspec": {
   "display_name": "TP4",
   "language": "python",
   "name": "python3"
  },
  "language_info": {
   "codemirror_mode": {
    "name": "ipython",
    "version": 3
   },
   "file_extension": ".py",
   "mimetype": "text/x-python",
   "name": "python",
   "nbconvert_exporter": "python",
   "pygments_lexer": "ipython3",
   "version": "3.11.6"
  },
  "orig_nbformat": 4,
  "vscode": {
   "interpreter": {
    "hash": "1867fa988200979088d84bc4ce438c40759f9afa4e246357d770a8bf50c98f50"
   }
  }
 },
 "nbformat": 4,
 "nbformat_minor": 2
}
