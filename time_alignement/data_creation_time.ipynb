{
 "cells": [
  {
   "cell_type": "code",
   "execution_count": 1,
   "metadata": {},
   "outputs": [
    {
     "name": "stderr",
     "output_type": "stream",
     "text": [
      "C:\\Users\\eliot\\EPFL\\TP4_ECAL\\Code\\ecal_reco\\tracking\\hit.py:12: SyntaxWarning: invalid escape sequence '\\E'\n",
      "  sys.path.insert(1, 'C:\\\\Users\\\\eliot\\\\OneDrive\\\\Documents\\EPFL\\\\TP4_ECAL\\\\Code\\\\ecal_reco\\\\utils')\n"
     ]
    },
    {
     "name": "stdout",
     "output_type": "stream",
     "text": [
      "selected 75.80% of all events\n"
     ]
    }
   ],
   "source": [
    "import pandas as pd\n",
    "import uproot\n",
    "#import uproot3\n",
    "import numpy as np\n",
    "# import track_time_calibration as ttc\n",
    "from matplotlib import pyplot as plt\n",
    "import sys\n",
    "import os \n",
    "import fnmatch\n",
    "sys.path.insert(1, r'C:\\Users\\eliot\\EPFL\\TP4_ECAL\\Code\\ecal_reco\\utils')\n",
    "sys.path.insert(1, r'C:\\Users\\eliot\\EPFL\\TP4_ECAL\\Code\\ecal_reco\\tracking')\n",
    "sys.path.insert(1, r'C:\\Users\\eliot\\EPFL\\TP4_ECAL\\Code\\ecal_reco\\muon_decay')\n",
    "from track import Track\n",
    "from track3D import Track3D\n",
    "from hit import Hit\n",
    "from data_loading import *\n",
    "from parameters import *\n",
    "from tqdm import tqdm\n",
    "from track_reconstruction import plot_hits\n",
    "from physics import dist_line_rect\n",
    "import pickle\n",
    "from IPython import display\n",
    "from find_muon_track import find_muon_track\n",
    "from find_muon_decay import find_muon_decay\n",
    "# from find_muon_decay_Kim import find_muon_decay_kim\n",
    "\n"
   ]
  },
  {
   "cell_type": "code",
   "execution_count": 2,
   "metadata": {},
   "outputs": [],
   "source": [
    "# Define the paths needed\n",
    "raw_data_directory = \"C:\\\\Users\\\\eliot\\\\EPFL\\\\TP4_ECAL\\\\raw_data\\\\\" #path to the ecal data\n",
    "current_directory = os.getcwd()\n",
    "data_storage = current_directory+\"\\\\extracted_data\\\\\"\n",
    "runs = [\"run_000007\"]  # List of the runs to analyse. If empty, the program will go through all the data available in the raw_data directory\n",
    "suffix = \"\" # If one wants to re-run on already analysed data without overwriting the extracted data\n",
    "separator = \"\\\\\" # \"/\" if linux or mac"
   ]
  },
  {
   "cell_type": "code",
   "execution_count": 3,
   "metadata": {},
   "outputs": [
    {
     "name": "stdout",
     "output_type": "stream",
     "text": [
      "C:\\Users\\eliot\\EPFL\\TP4_ECAL\\raw_data\\run_000007\n",
      "C:\\Users\\eliot\\EPFL\\TP4_ECAL\\raw_data\\run_000007\\data_0000.root\n",
      "selected 74.62% of all events\n"
     ]
    },
    {
     "name": "stderr",
     "output_type": "stream",
     "text": [
      "100%|██████████| 48267/48267 [02:07<00:00, 377.86it/s]\n"
     ]
    }
   ],
   "source": [
    "# Analyse data\n",
    "if len(runs) == 0:\n",
    "    runs = fnmatch.filter(os.listdir(raw_data_directory), '*')\n",
    "\n",
    "\n",
    "for run in runs:\n",
    "    print(raw_data_directory+run)\n",
    "    df_hits_total, df_hits, og_len, new_len = load_run(raw_data_directory+run+\"\\\\\")\n",
    "\n",
    "    _, _ = find_muon_track(df_hits,df_hits_total, save_indices = True, save_time_intervals=False, save_hits = False, save_stats = False, \\\n",
    "                    run_name = \"_\"+run, storage_dir = data_storage, return_stats = False)\n",
    "\n",
    "\n"
   ]
  },
  {
   "cell_type": "code",
   "execution_count": 11,
   "metadata": {},
   "outputs": [
    {
     "name": "stdout",
     "output_type": "stream",
     "text": [
      "C:\\Users\\eliot\\EPFL\\TP4_ECAL\\raw_data\\run_000010\\data_0000.root\n",
      "selected 74.89% of all events\n"
     ]
    }
   ],
   "source": [
    "# Load of the data frame to visualize the decays\n",
    "run = \"run_000007\"\n",
    "\n",
    "# Load the data\n",
    "df_hits_total, df_hits, og_len, new_len = load_run(raw_data_directory+run+\"\\\\\")\n"
   ]
  },
  {
   "cell_type": "code",
   "execution_count": 12,
   "metadata": {},
   "outputs": [],
   "source": [
    "\n",
    "good_candidates = np.loadtxt(data_storage+\"events_indices_\"+run+\".txt\")"
   ]
  },
  {
   "cell_type": "code",
   "execution_count": 13,
   "metadata": {},
   "outputs": [
    {
     "data": {
      "image/png": "[encoded data removed]",
      "text/plain": [
       "<Figure size 960x400 with 1 Axes>"
      ]
     },
     "metadata": {},
     "output_type": "display_data"
    }
   ],
   "source": [
    "#This cell allows to plot the final candidates for muon track \n",
    "#press enter to plot the next candidate, press and caracter + enter to stop the loop\n",
    "%matplotlib inline\n",
    "\n",
    "i = 0\n",
    "\n",
    "kb = \"\"\n",
    "while kb == \"\":\n",
    "    event = df_hits.loc[good_candidates[i]]\n",
    "    next_event = df_hits_total.loc[good_candidates[i]+1]\n",
    "\n",
    "    hits = [Hit(event,i) for i in range(event['n_hits' ])]\n",
    "\n",
    "\n",
    "    hitsX = [h for h in hits if h.is_sidex]\n",
    "    hits_next_event = [Hit(next_event,i) for i in range(next_event['n_hits'])]\n",
    "    hitsX_next_event = [h for h in hits_next_event if h.is_sidex]\n",
    "\n",
    "    track = Track(hitsX)\n",
    "\n",
    "\n",
    "\n",
    "    fig,ax = plot_hits(hits,True,True,scaling = 0.5,hits_next = hits_next_event)\n",
    "    z = np.linspace(0,16)\n",
    "    x = track.t*z+track.x0\n",
    "    ax.plot(x,z,'r-')\n",
    "    display.clear_output(wait=False)\n",
    "    print(\"i = \", i)\n",
    "    print(hits_next_event[0].timestamp_event-hits_next_event[0].timestamp-hits[-1].timestamp_event+hits[-1].timestamp)\n",
    "    fig.savefig(\"fig_muon_decay_problem.pdf\".format(i))\n",
    "    display.display(fig)\n",
    "    kb = input()\n",
    "    i = i+1\n",
    "\n",
    "\n",
    "\n",
    "display.clear_output(wait=False)"
   ]
  },
  {
   "cell_type": "code",
   "execution_count": 14,
   "metadata": {},
   "outputs": [],
   "source": [
    "filtering = pd.read_pickle(data_storage+\"filtering_data_\"+run)\n",
    "og_len = filtering['og_len'][0]\n",
    "new_len = filtering['new_len'][0]\n",
    "low_number = filtering['low_number'][0]\n",
    "bottom_touch = filtering['bottom_touch'][0]\n",
    "side_touch = filtering['side_touch'][0]\n",
    "bad_fit = filtering['bad_fit'][0]\n",
    "too_large_time_interval = filtering['too_large_time_interval'][0]\n",
    "hits_far_from_track = filtering['hits_far_from_track'][0]\n",
    "no_spacial_correlation = filtering['no_spacial_correlation'][0]"
   ]
  },
  {
   "cell_type": "code",
   "execution_count": 16,
   "metadata": {},
   "outputs": [
    {
     "ename": "FileNotFoundError",
     "evalue": "c:\\Users\\eliot\\EPFL\\TP4_ECAL\\Code\\ecal_reco\\time_alignement\\extracted_data\\events_indices_run_000004.txt not found.",
     "output_type": "error",
     "traceback": [
      "\u001b[1;31m---------------------------------------------------------------------------\u001b[0m",
      "\u001b[1;31mFileNotFoundError\u001b[0m                         Traceback (most recent call last)",
      "\u001b[1;32mc:\\Users\\eliot\\EPFL\\TP4_ECAL\\Code\\ecal_reco\\time_alignement\\data_creation_time.ipynb Cell 8\u001b[0m line \u001b[0;36m1\n\u001b[0;32m     <a href='vscode-notebook-cell:/c%3A/Users/eliot/EPFL/TP4_ECAL/Code/ecal_reco/time_alignement/data_creation_time.ipynb#X10sZmlsZQ%3D%3D?line=13'>14</a>\u001b[0m runs \u001b[39m=\u001b[39m fnmatch\u001b[39m.\u001b[39mfilter(os\u001b[39m.\u001b[39mlistdir(raw_data_directory), \u001b[39m'\u001b[39m\u001b[39m*\u001b[39m\u001b[39m'\u001b[39m)\n\u001b[0;32m     <a href='vscode-notebook-cell:/c%3A/Users/eliot/EPFL/TP4_ECAL/Code/ecal_reco/time_alignement/data_creation_time.ipynb#X10sZmlsZQ%3D%3D?line=14'>15</a>\u001b[0m \u001b[39mfor\u001b[39;00m run \u001b[39min\u001b[39;00m runs:\n\u001b[1;32m---> <a href='vscode-notebook-cell:/c%3A/Users/eliot/EPFL/TP4_ECAL/Code/ecal_reco/time_alignement/data_creation_time.ipynb#X10sZmlsZQ%3D%3D?line=15'>16</a>\u001b[0m     time_intervals \u001b[39m=\u001b[39m np\u001b[39m.\u001b[39;49mloadtxt(data_storage\u001b[39m+\u001b[39;49m\u001b[39m\"\u001b[39;49m\u001b[39mevents_indices_\u001b[39;49m\u001b[39m\"\u001b[39;49m\u001b[39m+\u001b[39;49mrun\u001b[39m+\u001b[39;49m\u001b[39m\"\u001b[39;49m\u001b[39m.txt\u001b[39;49m\u001b[39m\"\u001b[39;49m)\n\u001b[0;32m     <a href='vscode-notebook-cell:/c%3A/Users/eliot/EPFL/TP4_ECAL/Code/ecal_reco/time_alignement/data_creation_time.ipynb#X10sZmlsZQ%3D%3D?line=16'>17</a>\u001b[0m     n_good_candidates \u001b[39m+\u001b[39m\u001b[39m=\u001b[39m \u001b[39mlen\u001b[39m(time_intervals)\n\u001b[0;32m     <a href='vscode-notebook-cell:/c%3A/Users/eliot/EPFL/TP4_ECAL/Code/ecal_reco/time_alignement/data_creation_time.ipynb#X10sZmlsZQ%3D%3D?line=18'>19</a>\u001b[0m     filtering \u001b[39m=\u001b[39m pd\u001b[39m.\u001b[39mread_pickle(data_storage\u001b[39m+\u001b[39m\u001b[39m\"\u001b[39m\u001b[39mfiltering_data\u001b[39m\u001b[39m\"\u001b[39m\u001b[39m+\u001b[39m\u001b[39m\"\u001b[39m\u001b[39m_\u001b[39m\u001b[39m\"\u001b[39m\u001b[39m+\u001b[39mrun)\n",
      "File \u001b[1;32mc:\\Users\\eliot\\mambaforge\\envs\\ecal-env\\Lib\\site-packages\\numpy\\lib\\npyio.py:1373\u001b[0m, in \u001b[0;36mloadtxt\u001b[1;34m(fname, dtype, comments, delimiter, converters, skiprows, usecols, unpack, ndmin, encoding, max_rows, quotechar, like)\u001b[0m\n\u001b[0;32m   1370\u001b[0m \u001b[39mif\u001b[39;00m \u001b[39misinstance\u001b[39m(delimiter, \u001b[39mbytes\u001b[39m):\n\u001b[0;32m   1371\u001b[0m     delimiter \u001b[39m=\u001b[39m delimiter\u001b[39m.\u001b[39mdecode(\u001b[39m'\u001b[39m\u001b[39mlatin1\u001b[39m\u001b[39m'\u001b[39m)\n\u001b[1;32m-> 1373\u001b[0m arr \u001b[39m=\u001b[39m _read(fname, dtype\u001b[39m=\u001b[39;49mdtype, comment\u001b[39m=\u001b[39;49mcomment, delimiter\u001b[39m=\u001b[39;49mdelimiter,\n\u001b[0;32m   1374\u001b[0m             converters\u001b[39m=\u001b[39;49mconverters, skiplines\u001b[39m=\u001b[39;49mskiprows, usecols\u001b[39m=\u001b[39;49musecols,\n\u001b[0;32m   1375\u001b[0m             unpack\u001b[39m=\u001b[39;49munpack, ndmin\u001b[39m=\u001b[39;49mndmin, encoding\u001b[39m=\u001b[39;49mencoding,\n\u001b[0;32m   1376\u001b[0m             max_rows\u001b[39m=\u001b[39;49mmax_rows, quote\u001b[39m=\u001b[39;49mquotechar)\n\u001b[0;32m   1378\u001b[0m \u001b[39mreturn\u001b[39;00m arr\n",
      "File \u001b[1;32mc:\\Users\\eliot\\mambaforge\\envs\\ecal-env\\Lib\\site-packages\\numpy\\lib\\npyio.py:992\u001b[0m, in \u001b[0;36m_read\u001b[1;34m(fname, delimiter, comment, quote, imaginary_unit, usecols, skiplines, max_rows, converters, ndmin, unpack, dtype, encoding)\u001b[0m\n\u001b[0;32m    990\u001b[0m     fname \u001b[39m=\u001b[39m os\u001b[39m.\u001b[39mfspath(fname)\n\u001b[0;32m    991\u001b[0m \u001b[39mif\u001b[39;00m \u001b[39misinstance\u001b[39m(fname, \u001b[39mstr\u001b[39m):\n\u001b[1;32m--> 992\u001b[0m     fh \u001b[39m=\u001b[39m np\u001b[39m.\u001b[39;49mlib\u001b[39m.\u001b[39;49m_datasource\u001b[39m.\u001b[39;49mopen(fname, \u001b[39m'\u001b[39;49m\u001b[39mrt\u001b[39;49m\u001b[39m'\u001b[39;49m, encoding\u001b[39m=\u001b[39;49mencoding)\n\u001b[0;32m    993\u001b[0m     \u001b[39mif\u001b[39;00m encoding \u001b[39mis\u001b[39;00m \u001b[39mNone\u001b[39;00m:\n\u001b[0;32m    994\u001b[0m         encoding \u001b[39m=\u001b[39m \u001b[39mgetattr\u001b[39m(fh, \u001b[39m'\u001b[39m\u001b[39mencoding\u001b[39m\u001b[39m'\u001b[39m, \u001b[39m'\u001b[39m\u001b[39mlatin1\u001b[39m\u001b[39m'\u001b[39m)\n",
      "File \u001b[1;32mc:\\Users\\eliot\\mambaforge\\envs\\ecal-env\\Lib\\site-packages\\numpy\\lib\\_datasource.py:193\u001b[0m, in \u001b[0;36mopen\u001b[1;34m(path, mode, destpath, encoding, newline)\u001b[0m\n\u001b[0;32m    156\u001b[0m \u001b[39m\u001b[39m\u001b[39m\"\"\"\u001b[39;00m\n\u001b[0;32m    157\u001b[0m \u001b[39mOpen `path` with `mode` and return the file object.\u001b[39;00m\n\u001b[0;32m    158\u001b[0m \n\u001b[1;32m   (...)\u001b[0m\n\u001b[0;32m    189\u001b[0m \n\u001b[0;32m    190\u001b[0m \u001b[39m\"\"\"\u001b[39;00m\n\u001b[0;32m    192\u001b[0m ds \u001b[39m=\u001b[39m DataSource(destpath)\n\u001b[1;32m--> 193\u001b[0m \u001b[39mreturn\u001b[39;00m ds\u001b[39m.\u001b[39;49mopen(path, mode, encoding\u001b[39m=\u001b[39;49mencoding, newline\u001b[39m=\u001b[39;49mnewline)\n",
      "File \u001b[1;32mc:\\Users\\eliot\\mambaforge\\envs\\ecal-env\\Lib\\site-packages\\numpy\\lib\\_datasource.py:533\u001b[0m, in \u001b[0;36mDataSource.open\u001b[1;34m(self, path, mode, encoding, newline)\u001b[0m\n\u001b[0;32m    530\u001b[0m     \u001b[39mreturn\u001b[39;00m _file_openers[ext](found, mode\u001b[39m=\u001b[39mmode,\n\u001b[0;32m    531\u001b[0m                               encoding\u001b[39m=\u001b[39mencoding, newline\u001b[39m=\u001b[39mnewline)\n\u001b[0;32m    532\u001b[0m \u001b[39melse\u001b[39;00m:\n\u001b[1;32m--> 533\u001b[0m     \u001b[39mraise\u001b[39;00m \u001b[39mFileNotFoundError\u001b[39;00m(\u001b[39mf\u001b[39m\u001b[39m\"\u001b[39m\u001b[39m{\u001b[39;00mpath\u001b[39m}\u001b[39;00m\u001b[39m not found.\u001b[39m\u001b[39m\"\u001b[39m)\n",
      "\u001b[1;31mFileNotFoundError\u001b[0m: c:\\Users\\eliot\\EPFL\\TP4_ECAL\\Code\\ecal_reco\\time_alignement\\extracted_data\\events_indices_run_000004.txt not found."
     ]
    }
   ],
   "source": [
    "# Stats on the whole set of analysed data\n",
    "og_len = 0\n",
    "new_len = 0\n",
    "low_number = 0\n",
    "bottom_touch = 0\n",
    "side_touch = 0\n",
    "bad_fit = 0\n",
    "too_large_time_interval = 0\n",
    "hits_far_from_track = 0\n",
    "no_spacial_correlation = 0\n",
    "\n",
    "n_good_candidates = 0\n",
    "\n",
    "runs = fnmatch.filter(os.listdir(raw_data_directory), '*')\n",
    "for run in runs:\n",
    "    time_intervals = np.loadtxt(data_storage+\"events_indices_\"+run+\".txt\")\n",
    "    n_good_candidates += len(time_intervals)\n",
    "\n",
    "    filtering = pd.read_pickle(data_storage+\"filtering_data\"+\"_\"+run)\n",
    "    og_len += filtering['og_len'][0]\n",
    "    new_len += filtering['new_len'][0]\n",
    "    low_number += filtering['low_number'][0]\n",
    "    bottom_touch += filtering['bottom_touch'][0]\n",
    "    side_touch += filtering['side_touch'][0]\n",
    "    bad_fit += filtering['bad_fit'][0]\n",
    "    too_large_time_interval += filtering['too_large_time_interval'][0]\n",
    "    hits_far_from_track += filtering['hits_far_from_track'][0]\n",
    "    no_spacial_correlation += filtering['no_spacial_correlation'][0]"
   ]
  },
  {
   "cell_type": "code",
   "execution_count": null,
   "metadata": {},
   "outputs": [],
   "source": [
    "# Showcase of the numbers of rejection at each step of the filtering \n",
    "print(\"original length : \", og_len)\n",
    "print(\"n_hits between 6 and 50 : \", new_len)\n",
    "n = new_len\n",
    "print(\"\\u2937 Too low number of hits in one plane : \", low_number, \" over \", n)\n",
    "n -= low_number\n",
    "print(\" \\u2937 Last layer touched : \\t\\t\", bottom_touch, \" over \", n)\n",
    "n -= bottom_touch\n",
    "print(\"  \\u2937 Possible side exit : \\t\\t\", side_touch, \" over \", n)\n",
    "n -= side_touch\n",
    "print(\"   \\u2937 Bad fit : \\t\\t\\t\\t\", bad_fit, \" over \", n)\n",
    "n -= bad_fit\n",
    "print(\"    \\u2937 Too large time interval : \\t\", too_large_time_interval, \" over \", n)\n",
    "n -= too_large_time_interval\n",
    "print(\"     \\u2937 Hits far from track : \\t\\t\", hits_far_from_track, \" over \", n)\n",
    "n -= hits_far_from_track\n",
    "print(\"      \\u2937 No spacial correlation : \\t\", no_spacial_correlation, \" over \", n)\n",
    "print(\"Final number : \", n_good_candidates)"
   ]
  },
  {
   "cell_type": "code",
   "execution_count": null,
   "metadata": {},
   "outputs": [],
   "source": [
    "run = \"run_000010\"\n",
    "\n",
    "# Load the data\n",
    "df_hits_total, df_hits, og_len, new_len = load_run(raw_data_directory+run+\"\\\\\")"
   ]
  },
  {
   "cell_type": "code",
   "execution_count": null,
   "metadata": {},
   "outputs": [],
   "source": [
    "time_intervals = np.loadtxt(data_storage+\"time_intervals_\"+run+\".txt\")\n",
    "indices = np.loadtxt(data_storage+\"events_indices_\"+run+\".txt\").astype(int)\n",
    "# large_time = []\n",
    "# for i,t in enumerate(time_intervals):\n",
    "#     if t>1400:\n",
    "#         large_time.append(i)\n",
    "\n",
    "# large_time_indices = indices[large_time]\n",
    "\n",
    "%matplotlib inline\n",
    "\n",
    "i = 1\n",
    "\n",
    "kb = \"\"\n",
    "while kb == \"\":\n",
    "    # event = df_hits.loc[large_time_indices[i]]\n",
    "    # next_event = df_hits_total.loc[large_time_indices[i]+1]\n",
    "    event = df_hits.loc[indices[i]]\n",
    "    next_event = df_hits_total.loc[indices[i]+1]\n",
    "\n",
    "    hits = [Hit(event,i) for i in range(event['n_hits'\n",
    "    \n",
    "    ])]\n",
    "    hitsX = [h for h in hits if h.is_sidex]\n",
    "    hits_next_event = [Hit(next_event,i) for i in range(next_event['n_hits'])]\n",
    "    hitsX_next_event = [h for h in hits_next_event if h.is_sidex]\n",
    "\n",
    "    track = Track(hitsX)\n",
    "    fig,ax = plot_hits(hits,True,True,scaling = 0.5,hits_next = hits_next_event)\n",
    "    z = np.linspace(0,16)\n",
    "    x = track.t*z+track.x0\n",
    "    ax.plot(x,z,'r-')\n",
    "    display.clear_output(wait=False)\n",
    "    print(\"i = \", i)\n",
    "    print(hits_next_event[0].timestamp_event-hits_next_event[0].timestamp-hits[-1].timestamp_event+hits[-1].timestamp)\n",
    "    fig.savefig(\"fig_muon_decay_problem.pdf\".format(i))\n",
    "    display.display(fig)\n",
    "    kb = input()\n",
    "    i = i+1\n",
    "display.clear_output(wait=False)\n",
    "\n"
   ]
  },
  {
   "cell_type": "code",
   "execution_count": null,
   "metadata": {},
   "outputs": [],
   "source": [
    "fig.savefig(\"shower_section.pdf\")"
   ]
  }
 ],
 "metadata": {
  "kernelspec": {
   "display_name": "TP4",
   "language": "python",
   "name": "python3"
  },
  "language_info": {
   "codemirror_mode": {
    "name": "ipython",
    "version": 3
   },
   "file_extension": ".py",
   "mimetype": "text/x-python",
   "name": "python",
   "nbconvert_exporter": "python",
   "pygments_lexer": "ipython3",
   "version": "3.12.0"
  },
  "orig_nbformat": 4,
  "vscode": {
   "interpreter": {
    "hash": "1867fa988200979088d84bc4ce438c40759f9afa4e246357d770a8bf50c98f50"
   }
  }
 },
 "nbformat": 4,
 "nbformat_minor": 2
}
