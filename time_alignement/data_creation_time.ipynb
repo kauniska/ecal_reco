{
 "cells": [
  {
   "cell_type": "code",
<<<<<<< HEAD
   "execution_count": 1,
   "metadata": {},
   "outputs": [
    {
     "name": "stderr",
     "output_type": "stream",
     "text": [
      "C:\\Users\\eliot\\EPFL\\TP4_ECAL\\Code\\ecal_reco\\tracking\\track_reconstruction.py:14: SyntaxWarning: invalid escape sequence '\\E'\n",
      "  sys.path.insert(1, 'C:\\\\Users\\\\eliot\\\\OneDrive\\\\Documents\\EPFL\\\\TP4_ECAL\\\\Code\\\\ecal_reco\\\\utils')\n"
     ]
    },
    {
     "name": "stdout",
     "output_type": "stream",
     "text": [
      "selected 75.80% of all events\n"
     ]
    }
   ],
=======
   "execution_count": 21,
   "metadata": {},
   "outputs": [],
>>>>>>> d32bfcda9adbbedc194d2349dee3960d5aeaadbf
   "source": [
    "import pandas as pd\n",
    "import uproot\n",
    "#import uproot3\n",
    "import numpy as np\n",
    "# import track_time_calibration as ttc\n",
    "from matplotlib import pyplot as plt\n",
    "import sys\n",
    "import os \n",
    "import fnmatch\n",
<<<<<<< HEAD
    "sys.path.insert(1, r'C:\\Users\\eliot\\EPFL\\TP4_ECAL\\Code\\ecal_reco\\utils')\n",
    "sys.path.insert(1, r'C:\\Users\\eliot\\EPFL\\TP4_ECAL\\Code\\ecal_reco\\tracking')\n",
    "sys.path.insert(1, r'C:\\Users\\eliot\\EPFL\\TP4_ECAL\\Code\\ecal_reco\\muon_decay')\n",
=======
    "sys.path.insert(1, 'C:\\\\Users\\\\Pascal\\\\Desktop\\\\TP4a\\\\git_final_final\\\\ecal_reco\\\\utils')\n",
    "sys.path.insert(1, 'C:\\\\Users\\\\Pascal\\\\Desktop\\\\TP4a\\\\git_final_final\\\\ecal_reco\\\\tracking')\n",
    "sys.path.insert(1, 'C:\\\\Users\\\\Pascal\\\\Desktop\\\\TP4a\\\\git_final_final\\\\ecal_reco\\\\time_alignement')\n",
>>>>>>> d32bfcda9adbbedc194d2349dee3960d5aeaadbf
    "from track import Track\n",
    "from track3D import Track3D\n",
    "from hit import Hit\n",
    "from data_loading import *\n",
    "from parameters import *\n",
    "from tqdm import tqdm\n",
    "from track_reconstruction import plot_hits\n",
    "from physics import dist_line_rect\n",
    "import pickle\n",
    "from IPython import display\n",
<<<<<<< HEAD
    "from find_muon_track import find_muon_track\n",
    "from find_muon_decay import find_muon_decay\n",
    "# from find_muon_decay_Kim import find_muon_decay_kim\n",
=======
    "from find_muon_track import *\n",
    "from find_muon_decay_kim import *\n",
>>>>>>> d32bfcda9adbbedc194d2349dee3960d5aeaadbf
    "\n"
   ]
  },
  {
   "cell_type": "code",
<<<<<<< HEAD
   "execution_count": 2,
=======
   "execution_count": 22,
>>>>>>> d32bfcda9adbbedc194d2349dee3960d5aeaadbf
   "metadata": {},
   "outputs": [],
   "source": [
    "# Define the paths needed\n",
<<<<<<< HEAD
    "raw_data_directory = \"C:\\\\Users\\\\eliot\\\\EPFL\\\\TP4_ECAL\\\\raw_data\\\\\" #path to the ecal data\n",
=======
    "raw_data_directory = \"C:\\\\Users\\\\Pascal\\\\Desktop\\\\TP4a\\\\data\\\\\" #path to the ecal data\n",
>>>>>>> d32bfcda9adbbedc194d2349dee3960d5aeaadbf
    "current_directory = os.getcwd()\n",
    "data_storage = current_directory+\"\\\\extracted_data\\\\\"\n",
    "runs = [\"run_000011\"]  # List of the runs to analyse. If empty, the program will go through all the data available in the raw_data directory\n",
    "suffix = \"\" # If one wants to re-run on already analysed data without overwriting the extracted data\n",
    "separator = \"\\\\\" # \"/\" if linux or mac"
   ]
  },
  {
   "cell_type": "code",
<<<<<<< HEAD
   "execution_count": 4,
=======
   "execution_count": 24,
>>>>>>> d32bfcda9adbbedc194d2349dee3960d5aeaadbf
   "metadata": {},
   "outputs": [
    {
     "name": "stdout",
     "output_type": "stream",
     "text": [
<<<<<<< HEAD
      "C:\\Users\\eliot\\EPFL\\TP4_ECAL\\raw_data\\run_000011\n",
      "C:\\Users\\eliot\\EPFL\\TP4_ECAL\\raw_data\\run_000011\\data_0000.root\n",
=======
      "C:\\Users\\Pascal\\Desktop\\TP4a\\data\\run_000011\n",
      "C:\\Users\\Pascal\\Desktop\\TP4a\\data\\run_000011\\data_0000.root\n",
>>>>>>> d32bfcda9adbbedc194d2349dee3960d5aeaadbf
      "selected 74.91% of all events\n"
     ]
    },
    {
     "name": "stderr",
     "output_type": "stream",
     "text": [
<<<<<<< HEAD
      "100%|██████████| 161495/161495 [07:17<00:00, 369.41it/s]\n"
=======
      "100%|██████████| 161495/161495 [13:00<00:00, 207.02it/s]\n"
>>>>>>> d32bfcda9adbbedc194d2349dee3960d5aeaadbf
     ]
    }
   ],
   "source": [
    "# Analyse data\n",
    "if len(runs) == 0:\n",
    "    runs = fnmatch.filter(os.listdir(raw_data_directory), '*')\n",
<<<<<<< HEAD
    "\n",
=======
    " \n",
>>>>>>> d32bfcda9adbbedc194d2349dee3960d5aeaadbf
    "\n",
    "for run in runs:\n",
    "    print(raw_data_directory+run)\n",
    "    df_hits_total, df_hits, og_len, new_len = load_run(raw_data_directory+run+\"\\\\\")\n",
    "\n",
<<<<<<< HEAD
    "    _, _ = find_muon_track(df_hits,df_hits_total, save_indices = True, save_time_intervals=False, save_hits = False, save_stats = False, \\\n",
=======
    "    _, _ = find_muon_decay_kim(df_hits,df_hits_total, save_indices = True, save_time_intervals=False, save_hits = False, save_stats = False, \\\n",
>>>>>>> d32bfcda9adbbedc194d2349dee3960d5aeaadbf
    "                    run_name = \"_\"+run, storage_dir = data_storage, return_stats = False)\n",
    "\n",
    "\n"
   ]
  },
  {
   "cell_type": "code",
<<<<<<< HEAD
   "execution_count": 5,
=======
   "execution_count": 6,
>>>>>>> d32bfcda9adbbedc194d2349dee3960d5aeaadbf
   "metadata": {},
   "outputs": [
    {
     "name": "stdout",
     "output_type": "stream",
     "text": [
<<<<<<< HEAD
      "C:\\Users\\eliot\\EPFL\\TP4_ECAL\\raw_data\\run_000010\\data_0000.root\n",
      "selected 74.89% of all events\n"
=======
      "C:\\Users\\Pascal\\Desktop\\TP4a\\data\\run_000011\\data_0000.root\n",
      "selected 74.91% of all events\n"
>>>>>>> d32bfcda9adbbedc194d2349dee3960d5aeaadbf
     ]
    }
   ],
   "source": [
    "# Load of the data frame to visualize the decays\n",
<<<<<<< HEAD
    "run = \"run_000010\"\n",
=======
    "run = \"run_000011\"\n",
>>>>>>> d32bfcda9adbbedc194d2349dee3960d5aeaadbf
    "\n",
    "# Load the data\n",
    "df_hits_total, df_hits, og_len, new_len = load_run(raw_data_directory+run+\"\\\\\")\n"
   ]
  },
  {
   "cell_type": "code",
<<<<<<< HEAD
   "execution_count": 6,
=======
   "execution_count": 7,
>>>>>>> d32bfcda9adbbedc194d2349dee3960d5aeaadbf
   "metadata": {},
   "outputs": [],
   "source": [
    "\n",
    "good_candidates = np.loadtxt(data_storage+\"events_indices_\"+run+\".txt\")"
   ]
  },
  {
   "cell_type": "code",
<<<<<<< HEAD
   "execution_count": 3,
   "metadata": {},
   "outputs": [
    {
     "ename": "NameError",
     "evalue": "name 'df_hits' is not defined",
     "output_type": "error",
     "traceback": [
      "\u001b[1;31m---------------------------------------------------------------------------\u001b[0m",
      "\u001b[1;31mNameError\u001b[0m                                 Traceback (most recent call last)",
      "\u001b[1;32mc:\\Users\\eliot\\EPFL\\TP4_ECAL\\Code\\ecal_reco\\time_alignement\\data_creation_time.ipynb Cell 6\u001b[0m line \u001b[0;36m9\n\u001b[0;32m      <a href='vscode-notebook-cell:/c%3A/Users/eliot/EPFL/TP4_ECAL/Code/ecal_reco/time_alignement/data_creation_time.ipynb#W5sZmlsZQ%3D%3D?line=6'>7</a>\u001b[0m kb \u001b[39m=\u001b[39m \u001b[39m\"\u001b[39m\u001b[39m\"\u001b[39m\n\u001b[0;32m      <a href='vscode-notebook-cell:/c%3A/Users/eliot/EPFL/TP4_ECAL/Code/ecal_reco/time_alignement/data_creation_time.ipynb#W5sZmlsZQ%3D%3D?line=7'>8</a>\u001b[0m \u001b[39mwhile\u001b[39;00m kb \u001b[39m==\u001b[39m \u001b[39m\"\u001b[39m\u001b[39m\"\u001b[39m:\n\u001b[1;32m----> <a href='vscode-notebook-cell:/c%3A/Users/eliot/EPFL/TP4_ECAL/Code/ecal_reco/time_alignement/data_creation_time.ipynb#W5sZmlsZQ%3D%3D?line=8'>9</a>\u001b[0m     event \u001b[39m=\u001b[39m df_hits\u001b[39m.\u001b[39mloc[good_candidates[i]]\n\u001b[0;32m     <a href='vscode-notebook-cell:/c%3A/Users/eliot/EPFL/TP4_ECAL/Code/ecal_reco/time_alignement/data_creation_time.ipynb#W5sZmlsZQ%3D%3D?line=9'>10</a>\u001b[0m     next_event \u001b[39m=\u001b[39m df_hits_total\u001b[39m.\u001b[39mloc[good_candidates[i]\u001b[39m+\u001b[39m\u001b[39m1\u001b[39m]\n\u001b[0;32m     <a href='vscode-notebook-cell:/c%3A/Users/eliot/EPFL/TP4_ECAL/Code/ecal_reco/time_alignement/data_creation_time.ipynb#W5sZmlsZQ%3D%3D?line=11'>12</a>\u001b[0m     hits \u001b[39m=\u001b[39m [Hit(event,i) \u001b[39mfor\u001b[39;00m i \u001b[39min\u001b[39;00m \u001b[39mrange\u001b[39m(event[\u001b[39m'\u001b[39m\u001b[39mn_hits\u001b[39m\u001b[39m'\u001b[39m ])]\n",
      "\u001b[1;31mNameError\u001b[0m: name 'df_hits' is not defined"
     ]
=======
   "execution_count": 8,
   "metadata": {},
   "outputs": [
    {
     "data": {
      "image/png": "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",
      "text/plain": [
       "<Figure size 960x400 with 1 Axes>"
      ]
     },
     "metadata": {},
     "output_type": "display_data"
>>>>>>> d32bfcda9adbbedc194d2349dee3960d5aeaadbf
    }
   ],
   "source": [
    "#This cell allows to plot the final candidates for muon track \n",
    "#press enter to plot the next candidate, press and caracter + enter to stop the loop\n",
<<<<<<< HEAD
    "%matplotlib inline\n",
=======
>>>>>>> d32bfcda9adbbedc194d2349dee3960d5aeaadbf
    "\n",
    "i = 0\n",
    "\n",
    "kb = \"\"\n",
<<<<<<< HEAD
    "while kb == \"\":\n",
=======
    "if kb == \"\":\n",
>>>>>>> d32bfcda9adbbedc194d2349dee3960d5aeaadbf
    "    event = df_hits.loc[good_candidates[i]]\n",
    "    next_event = df_hits_total.loc[good_candidates[i]+1]\n",
    "\n",
    "    hits = [Hit(event,i) for i in range(event['n_hits' ])]\n",
    "\n",
    "\n",
    "    hitsX = [h for h in hits if h.is_sidex]\n",
    "    hits_next_event = [Hit(next_event,i) for i in range(next_event['n_hits'])]\n",
    "    hitsX_next_event = [h for h in hits_next_event if h.is_sidex]\n",
    "\n",
    "    track = Track(hitsX)\n",
    "\n",
    "\n",
    "\n",
    "    fig,ax = plot_hits(hits,True,True,scaling = 0.5,hits_next = hits_next_event)\n",
    "    z = np.linspace(0,16)\n",
    "    x = track.t*z+track.x0\n",
    "    ax.plot(x,z,'r-')\n",
    "    display.clear_output(wait=False)\n",
    "    print(\"i = \", i)\n",
    "    print(hits_next_event[0].timestamp_event-hits_next_event[0].timestamp-hits[-1].timestamp_event+hits[-1].timestamp)\n",
    "    fig.savefig(\"fig_muon_decay_problem.pdf\".format(i))\n",
    "    display.display(fig)\n",
<<<<<<< HEAD
    "    kb = input()\n",
=======
>>>>>>> d32bfcda9adbbedc194d2349dee3960d5aeaadbf
    "    i = i+1\n",
    "\n",
    "\n",
    "\n",
    "display.clear_output(wait=False)"
   ]
  },
  {
   "cell_type": "code",
<<<<<<< HEAD
   "execution_count": 8,
   "metadata": {},
   "outputs": [],
=======
   "execution_count": 12,
   "metadata": {},
   "outputs": [
    {
     "ename": "FileNotFoundError",
     "evalue": "[Errno 2] No such file or directory: 'c:\\\\Users\\\\Pascal\\\\Desktop\\\\TP4a\\\\git_final_final\\\\ecal_reco\\\\time_alignement\\\\extracted_data\\\\filtering_data_run_000011'",
     "output_type": "error",
     "traceback": [
      "\u001b[1;31m---------------------------------------------------------------------------\u001b[0m",
      "\u001b[1;31mFileNotFoundError\u001b[0m                         Traceback (most recent call last)",
      "\u001b[1;32mc:\\Users\\Pascal\\Desktop\\TP4a\\git_final_final\\ecal_reco\\time_alignement\\data_creation_time.ipynb Cell 7\u001b[0m line \u001b[0;36m1\n\u001b[1;32m----> <a href='vscode-notebook-cell:/c%3A/Users/Pascal/Desktop/TP4a/git_final_final/ecal_reco/time_alignement/data_creation_time.ipynb#W6sZmlsZQ%3D%3D?line=0'>1</a>\u001b[0m filtering \u001b[39m=\u001b[39m pd\u001b[39m.\u001b[39;49mread_pickle(data_storage\u001b[39m+\u001b[39;49m\u001b[39m\"\u001b[39;49m\u001b[39mfiltering_data_\u001b[39;49m\u001b[39m\"\u001b[39;49m\u001b[39m+\u001b[39;49mrun)\n\u001b[0;32m      <a href='vscode-notebook-cell:/c%3A/Users/Pascal/Desktop/TP4a/git_final_final/ecal_reco/time_alignement/data_creation_time.ipynb#W6sZmlsZQ%3D%3D?line=1'>2</a>\u001b[0m og_len \u001b[39m=\u001b[39m filtering[\u001b[39m'\u001b[39m\u001b[39mog_len\u001b[39m\u001b[39m'\u001b[39m][\u001b[39m0\u001b[39m]\n\u001b[0;32m      <a href='vscode-notebook-cell:/c%3A/Users/Pascal/Desktop/TP4a/git_final_final/ecal_reco/time_alignement/data_creation_time.ipynb#W6sZmlsZQ%3D%3D?line=2'>3</a>\u001b[0m new_len \u001b[39m=\u001b[39m filtering[\u001b[39m'\u001b[39m\u001b[39mnew_len\u001b[39m\u001b[39m'\u001b[39m][\u001b[39m0\u001b[39m]\n",
      "File \u001b[1;32mc:\\Users\\Pascal\\mambaforge\\envs\\ecal.env\\Lib\\site-packages\\pandas\\io\\pickle.py:189\u001b[0m, in \u001b[0;36mread_pickle\u001b[1;34m(filepath_or_buffer, compression, storage_options)\u001b[0m\n\u001b[0;32m    125\u001b[0m \u001b[39m\u001b[39m\u001b[39m\"\"\"\u001b[39;00m\n\u001b[0;32m    126\u001b[0m \u001b[39mLoad pickled pandas object (or any object) from file.\u001b[39;00m\n\u001b[0;32m    127\u001b[0m \n\u001b[1;32m   (...)\u001b[0m\n\u001b[0;32m    186\u001b[0m \u001b[39m4    4    9\u001b[39;00m\n\u001b[0;32m    187\u001b[0m \u001b[39m\"\"\"\u001b[39;00m\n\u001b[0;32m    188\u001b[0m excs_to_catch \u001b[39m=\u001b[39m (\u001b[39mAttributeError\u001b[39;00m, \u001b[39mImportError\u001b[39;00m, \u001b[39mModuleNotFoundError\u001b[39;00m, \u001b[39mTypeError\u001b[39;00m)\n\u001b[1;32m--> 189\u001b[0m \u001b[39mwith\u001b[39;00m get_handle(\n\u001b[0;32m    190\u001b[0m     filepath_or_buffer,\n\u001b[0;32m    191\u001b[0m     \u001b[39m\"\u001b[39;49m\u001b[39mrb\u001b[39;49m\u001b[39m\"\u001b[39;49m,\n\u001b[0;32m    192\u001b[0m     compression\u001b[39m=\u001b[39;49mcompression,\n\u001b[0;32m    193\u001b[0m     is_text\u001b[39m=\u001b[39;49m\u001b[39mFalse\u001b[39;49;00m,\n\u001b[0;32m    194\u001b[0m     storage_options\u001b[39m=\u001b[39;49mstorage_options,\n\u001b[0;32m    195\u001b[0m ) \u001b[39mas\u001b[39;00m handles:\n\u001b[0;32m    196\u001b[0m     \u001b[39m# 1) try standard library Pickle\u001b[39;00m\n\u001b[0;32m    197\u001b[0m     \u001b[39m# 2) try pickle_compat (older pandas version) to handle subclass changes\u001b[39;00m\n\u001b[0;32m    198\u001b[0m     \u001b[39m# 3) try pickle_compat with latin-1 encoding upon a UnicodeDecodeError\u001b[39;00m\n\u001b[0;32m    200\u001b[0m     \u001b[39mtry\u001b[39;00m:\n\u001b[0;32m    201\u001b[0m         \u001b[39m# TypeError for Cython complaints about object.__new__ vs Tick.__new__\u001b[39;00m\n\u001b[0;32m    202\u001b[0m         \u001b[39mtry\u001b[39;00m:\n",
      "File \u001b[1;32mc:\\Users\\Pascal\\mambaforge\\envs\\ecal.env\\Lib\\site-packages\\pandas\\io\\common.py:872\u001b[0m, in \u001b[0;36mget_handle\u001b[1;34m(path_or_buf, mode, encoding, compression, memory_map, is_text, errors, storage_options)\u001b[0m\n\u001b[0;32m    863\u001b[0m         handle \u001b[39m=\u001b[39m \u001b[39mopen\u001b[39m(\n\u001b[0;32m    864\u001b[0m             handle,\n\u001b[0;32m    865\u001b[0m             ioargs\u001b[39m.\u001b[39mmode,\n\u001b[1;32m   (...)\u001b[0m\n\u001b[0;32m    868\u001b[0m             newline\u001b[39m=\u001b[39m\u001b[39m\"\u001b[39m\u001b[39m\"\u001b[39m,\n\u001b[0;32m    869\u001b[0m         )\n\u001b[0;32m    870\u001b[0m     \u001b[39melse\u001b[39;00m:\n\u001b[0;32m    871\u001b[0m         \u001b[39m# Binary mode\u001b[39;00m\n\u001b[1;32m--> 872\u001b[0m         handle \u001b[39m=\u001b[39m \u001b[39mopen\u001b[39;49m(handle, ioargs\u001b[39m.\u001b[39;49mmode)\n\u001b[0;32m    873\u001b[0m     handles\u001b[39m.\u001b[39mappend(handle)\n\u001b[0;32m    875\u001b[0m \u001b[39m# Convert BytesIO or file objects passed with an encoding\u001b[39;00m\n",
      "\u001b[1;31mFileNotFoundError\u001b[0m: [Errno 2] No such file or directory: 'c:\\\\Users\\\\Pascal\\\\Desktop\\\\TP4a\\\\git_final_final\\\\ecal_reco\\\\time_alignement\\\\extracted_data\\\\filtering_data_run_000011'"
     ]
    }
   ],
>>>>>>> d32bfcda9adbbedc194d2349dee3960d5aeaadbf
   "source": [
    "filtering = pd.read_pickle(data_storage+\"filtering_data_\"+run)\n",
    "og_len = filtering['og_len'][0]\n",
    "new_len = filtering['new_len'][0]\n",
    "low_number = filtering['low_number'][0]\n",
    "bottom_touch = filtering['bottom_touch'][0]\n",
    "side_touch = filtering['side_touch'][0]\n",
    "bad_fit = filtering['bad_fit'][0]\n",
    "too_large_time_interval = filtering['too_large_time_interval'][0]\n",
    "hits_far_from_track = filtering['hits_far_from_track'][0]\n",
    "no_spacial_correlation = filtering['no_spacial_correlation'][0]"
   ]
  },
  {
   "cell_type": "code",
<<<<<<< HEAD
   "execution_count": 9,
=======
   "execution_count": 13,
>>>>>>> d32bfcda9adbbedc194d2349dee3960d5aeaadbf
   "metadata": {},
   "outputs": [
    {
     "ename": "FileNotFoundError",
<<<<<<< HEAD
     "evalue": "c:\\Users\\eliot\\EPFL\\TP4_ECAL\\Code\\ecal_reco\\time_alignement\\extracted_data\\events_indices_run_000004.txt not found.",
=======
     "evalue": "c:\\Users\\Pascal\\Desktop\\TP4a\\git_final_final\\ecal_reco\\time_alignement\\extracted_data\\events_indices_run_000001.txt not found.",
>>>>>>> d32bfcda9adbbedc194d2349dee3960d5aeaadbf
     "output_type": "error",
     "traceback": [
      "\u001b[1;31m---------------------------------------------------------------------------\u001b[0m",
      "\u001b[1;31mFileNotFoundError\u001b[0m                         Traceback (most recent call last)",
<<<<<<< HEAD
      "\u001b[1;32mc:\\Users\\eliot\\EPFL\\TP4_ECAL\\Code\\ecal_reco\\time_alignement\\data_creation_time.ipynb Cell 8\u001b[0m line \u001b[0;36m1\n\u001b[0;32m     <a href='vscode-notebook-cell:/c%3A/Users/eliot/EPFL/TP4_ECAL/Code/ecal_reco/time_alignement/data_creation_time.ipynb#X10sZmlsZQ%3D%3D?line=13'>14</a>\u001b[0m runs \u001b[39m=\u001b[39m fnmatch\u001b[39m.\u001b[39mfilter(os\u001b[39m.\u001b[39mlistdir(raw_data_directory), \u001b[39m'\u001b[39m\u001b[39m*\u001b[39m\u001b[39m'\u001b[39m)\n\u001b[0;32m     <a href='vscode-notebook-cell:/c%3A/Users/eliot/EPFL/TP4_ECAL/Code/ecal_reco/time_alignement/data_creation_time.ipynb#X10sZmlsZQ%3D%3D?line=14'>15</a>\u001b[0m \u001b[39mfor\u001b[39;00m run \u001b[39min\u001b[39;00m runs:\n\u001b[1;32m---> <a href='vscode-notebook-cell:/c%3A/Users/eliot/EPFL/TP4_ECAL/Code/ecal_reco/time_alignement/data_creation_time.ipynb#X10sZmlsZQ%3D%3D?line=15'>16</a>\u001b[0m     time_intervals \u001b[39m=\u001b[39m np\u001b[39m.\u001b[39;49mloadtxt(data_storage\u001b[39m+\u001b[39;49m\u001b[39m\"\u001b[39;49m\u001b[39mevents_indices_\u001b[39;49m\u001b[39m\"\u001b[39;49m\u001b[39m+\u001b[39;49mrun\u001b[39m+\u001b[39;49m\u001b[39m\"\u001b[39;49m\u001b[39m.txt\u001b[39;49m\u001b[39m\"\u001b[39;49m)\n\u001b[0;32m     <a href='vscode-notebook-cell:/c%3A/Users/eliot/EPFL/TP4_ECAL/Code/ecal_reco/time_alignement/data_creation_time.ipynb#X10sZmlsZQ%3D%3D?line=16'>17</a>\u001b[0m     n_good_candidates \u001b[39m+\u001b[39m\u001b[39m=\u001b[39m \u001b[39mlen\u001b[39m(time_intervals)\n\u001b[0;32m     <a href='vscode-notebook-cell:/c%3A/Users/eliot/EPFL/TP4_ECAL/Code/ecal_reco/time_alignement/data_creation_time.ipynb#X10sZmlsZQ%3D%3D?line=18'>19</a>\u001b[0m     filtering \u001b[39m=\u001b[39m pd\u001b[39m.\u001b[39mread_pickle(data_storage\u001b[39m+\u001b[39m\u001b[39m\"\u001b[39m\u001b[39mfiltering_data\u001b[39m\u001b[39m\"\u001b[39m\u001b[39m+\u001b[39m\u001b[39m\"\u001b[39m\u001b[39m_\u001b[39m\u001b[39m\"\u001b[39m\u001b[39m+\u001b[39mrun)\n",
      "File \u001b[1;32mc:\\Users\\eliot\\mambaforge\\envs\\ecal-env\\Lib\\site-packages\\numpy\\lib\\npyio.py:1373\u001b[0m, in \u001b[0;36mloadtxt\u001b[1;34m(fname, dtype, comments, delimiter, converters, skiprows, usecols, unpack, ndmin, encoding, max_rows, quotechar, like)\u001b[0m\n\u001b[0;32m   1370\u001b[0m \u001b[39mif\u001b[39;00m \u001b[39misinstance\u001b[39m(delimiter, \u001b[39mbytes\u001b[39m):\n\u001b[0;32m   1371\u001b[0m     delimiter \u001b[39m=\u001b[39m delimiter\u001b[39m.\u001b[39mdecode(\u001b[39m'\u001b[39m\u001b[39mlatin1\u001b[39m\u001b[39m'\u001b[39m)\n\u001b[1;32m-> 1373\u001b[0m arr \u001b[39m=\u001b[39m _read(fname, dtype\u001b[39m=\u001b[39;49mdtype, comment\u001b[39m=\u001b[39;49mcomment, delimiter\u001b[39m=\u001b[39;49mdelimiter,\n\u001b[0;32m   1374\u001b[0m             converters\u001b[39m=\u001b[39;49mconverters, skiplines\u001b[39m=\u001b[39;49mskiprows, usecols\u001b[39m=\u001b[39;49musecols,\n\u001b[0;32m   1375\u001b[0m             unpack\u001b[39m=\u001b[39;49munpack, ndmin\u001b[39m=\u001b[39;49mndmin, encoding\u001b[39m=\u001b[39;49mencoding,\n\u001b[0;32m   1376\u001b[0m             max_rows\u001b[39m=\u001b[39;49mmax_rows, quote\u001b[39m=\u001b[39;49mquotechar)\n\u001b[0;32m   1378\u001b[0m \u001b[39mreturn\u001b[39;00m arr\n",
      "File \u001b[1;32mc:\\Users\\eliot\\mambaforge\\envs\\ecal-env\\Lib\\site-packages\\numpy\\lib\\npyio.py:992\u001b[0m, in \u001b[0;36m_read\u001b[1;34m(fname, delimiter, comment, quote, imaginary_unit, usecols, skiplines, max_rows, converters, ndmin, unpack, dtype, encoding)\u001b[0m\n\u001b[0;32m    990\u001b[0m     fname \u001b[39m=\u001b[39m os\u001b[39m.\u001b[39mfspath(fname)\n\u001b[0;32m    991\u001b[0m \u001b[39mif\u001b[39;00m \u001b[39misinstance\u001b[39m(fname, \u001b[39mstr\u001b[39m):\n\u001b[1;32m--> 992\u001b[0m     fh \u001b[39m=\u001b[39m np\u001b[39m.\u001b[39;49mlib\u001b[39m.\u001b[39;49m_datasource\u001b[39m.\u001b[39;49mopen(fname, \u001b[39m'\u001b[39;49m\u001b[39mrt\u001b[39;49m\u001b[39m'\u001b[39;49m, encoding\u001b[39m=\u001b[39;49mencoding)\n\u001b[0;32m    993\u001b[0m     \u001b[39mif\u001b[39;00m encoding \u001b[39mis\u001b[39;00m \u001b[39mNone\u001b[39;00m:\n\u001b[0;32m    994\u001b[0m         encoding \u001b[39m=\u001b[39m \u001b[39mgetattr\u001b[39m(fh, \u001b[39m'\u001b[39m\u001b[39mencoding\u001b[39m\u001b[39m'\u001b[39m, \u001b[39m'\u001b[39m\u001b[39mlatin1\u001b[39m\u001b[39m'\u001b[39m)\n",
      "File \u001b[1;32mc:\\Users\\eliot\\mambaforge\\envs\\ecal-env\\Lib\\site-packages\\numpy\\lib\\_datasource.py:193\u001b[0m, in \u001b[0;36mopen\u001b[1;34m(path, mode, destpath, encoding, newline)\u001b[0m\n\u001b[0;32m    156\u001b[0m \u001b[39m\u001b[39m\u001b[39m\"\"\"\u001b[39;00m\n\u001b[0;32m    157\u001b[0m \u001b[39mOpen `path` with `mode` and return the file object.\u001b[39;00m\n\u001b[0;32m    158\u001b[0m \n\u001b[1;32m   (...)\u001b[0m\n\u001b[0;32m    189\u001b[0m \n\u001b[0;32m    190\u001b[0m \u001b[39m\"\"\"\u001b[39;00m\n\u001b[0;32m    192\u001b[0m ds \u001b[39m=\u001b[39m DataSource(destpath)\n\u001b[1;32m--> 193\u001b[0m \u001b[39mreturn\u001b[39;00m ds\u001b[39m.\u001b[39;49mopen(path, mode, encoding\u001b[39m=\u001b[39;49mencoding, newline\u001b[39m=\u001b[39;49mnewline)\n",
      "File \u001b[1;32mc:\\Users\\eliot\\mambaforge\\envs\\ecal-env\\Lib\\site-packages\\numpy\\lib\\_datasource.py:533\u001b[0m, in \u001b[0;36mDataSource.open\u001b[1;34m(self, path, mode, encoding, newline)\u001b[0m\n\u001b[0;32m    530\u001b[0m     \u001b[39mreturn\u001b[39;00m _file_openers[ext](found, mode\u001b[39m=\u001b[39mmode,\n\u001b[0;32m    531\u001b[0m                               encoding\u001b[39m=\u001b[39mencoding, newline\u001b[39m=\u001b[39mnewline)\n\u001b[0;32m    532\u001b[0m \u001b[39melse\u001b[39;00m:\n\u001b[1;32m--> 533\u001b[0m     \u001b[39mraise\u001b[39;00m \u001b[39mFileNotFoundError\u001b[39;00m(\u001b[39mf\u001b[39m\u001b[39m\"\u001b[39m\u001b[39m{\u001b[39;00mpath\u001b[39m}\u001b[39;00m\u001b[39m not found.\u001b[39m\u001b[39m\"\u001b[39m)\n",
      "\u001b[1;31mFileNotFoundError\u001b[0m: c:\\Users\\eliot\\EPFL\\TP4_ECAL\\Code\\ecal_reco\\time_alignement\\extracted_data\\events_indices_run_000004.txt not found."
=======
      "\u001b[1;32mc:\\Users\\Pascal\\Desktop\\TP4a\\git_final_final\\ecal_reco\\time_alignement\\data_creation_time.ipynb Cell 8\u001b[0m line \u001b[0;36m1\n\u001b[0;32m     <a href='vscode-notebook-cell:/c%3A/Users/Pascal/Desktop/TP4a/git_final_final/ecal_reco/time_alignement/data_creation_time.ipynb#X10sZmlsZQ%3D%3D?line=13'>14</a>\u001b[0m runs \u001b[39m=\u001b[39m fnmatch\u001b[39m.\u001b[39mfilter(os\u001b[39m.\u001b[39mlistdir(raw_data_directory), \u001b[39m'\u001b[39m\u001b[39m*\u001b[39m\u001b[39m'\u001b[39m)\n\u001b[0;32m     <a href='vscode-notebook-cell:/c%3A/Users/Pascal/Desktop/TP4a/git_final_final/ecal_reco/time_alignement/data_creation_time.ipynb#X10sZmlsZQ%3D%3D?line=14'>15</a>\u001b[0m \u001b[39mfor\u001b[39;00m run \u001b[39min\u001b[39;00m runs:\n\u001b[1;32m---> <a href='vscode-notebook-cell:/c%3A/Users/Pascal/Desktop/TP4a/git_final_final/ecal_reco/time_alignement/data_creation_time.ipynb#X10sZmlsZQ%3D%3D?line=15'>16</a>\u001b[0m     time_intervals \u001b[39m=\u001b[39m np\u001b[39m.\u001b[39;49mloadtxt(data_storage\u001b[39m+\u001b[39;49m\u001b[39m\"\u001b[39;49m\u001b[39mevents_indices_\u001b[39;49m\u001b[39m\"\u001b[39;49m\u001b[39m+\u001b[39;49mrun\u001b[39m+\u001b[39;49m\u001b[39m\"\u001b[39;49m\u001b[39m.txt\u001b[39;49m\u001b[39m\"\u001b[39;49m)\n\u001b[0;32m     <a href='vscode-notebook-cell:/c%3A/Users/Pascal/Desktop/TP4a/git_final_final/ecal_reco/time_alignement/data_creation_time.ipynb#X10sZmlsZQ%3D%3D?line=16'>17</a>\u001b[0m     n_good_candidates \u001b[39m+\u001b[39m\u001b[39m=\u001b[39m \u001b[39mlen\u001b[39m(time_intervals)\n\u001b[0;32m     <a href='vscode-notebook-cell:/c%3A/Users/Pascal/Desktop/TP4a/git_final_final/ecal_reco/time_alignement/data_creation_time.ipynb#X10sZmlsZQ%3D%3D?line=18'>19</a>\u001b[0m     filtering \u001b[39m=\u001b[39m pd\u001b[39m.\u001b[39mread_pickle(data_storage\u001b[39m+\u001b[39m\u001b[39m\"\u001b[39m\u001b[39mfiltering_data\u001b[39m\u001b[39m\"\u001b[39m\u001b[39m+\u001b[39m\u001b[39m\"\u001b[39m\u001b[39m_\u001b[39m\u001b[39m\"\u001b[39m\u001b[39m+\u001b[39mrun)\n",
      "File \u001b[1;32mc:\\Users\\Pascal\\mambaforge\\envs\\ecal.env\\Lib\\site-packages\\numpy\\lib\\npyio.py:1373\u001b[0m, in \u001b[0;36mloadtxt\u001b[1;34m(fname, dtype, comments, delimiter, converters, skiprows, usecols, unpack, ndmin, encoding, max_rows, quotechar, like)\u001b[0m\n\u001b[0;32m   1370\u001b[0m \u001b[39mif\u001b[39;00m \u001b[39misinstance\u001b[39m(delimiter, \u001b[39mbytes\u001b[39m):\n\u001b[0;32m   1371\u001b[0m     delimiter \u001b[39m=\u001b[39m delimiter\u001b[39m.\u001b[39mdecode(\u001b[39m'\u001b[39m\u001b[39mlatin1\u001b[39m\u001b[39m'\u001b[39m)\n\u001b[1;32m-> 1373\u001b[0m arr \u001b[39m=\u001b[39m _read(fname, dtype\u001b[39m=\u001b[39;49mdtype, comment\u001b[39m=\u001b[39;49mcomment, delimiter\u001b[39m=\u001b[39;49mdelimiter,\n\u001b[0;32m   1374\u001b[0m             converters\u001b[39m=\u001b[39;49mconverters, skiplines\u001b[39m=\u001b[39;49mskiprows, usecols\u001b[39m=\u001b[39;49musecols,\n\u001b[0;32m   1375\u001b[0m             unpack\u001b[39m=\u001b[39;49munpack, ndmin\u001b[39m=\u001b[39;49mndmin, encoding\u001b[39m=\u001b[39;49mencoding,\n\u001b[0;32m   1376\u001b[0m             max_rows\u001b[39m=\u001b[39;49mmax_rows, quote\u001b[39m=\u001b[39;49mquotechar)\n\u001b[0;32m   1378\u001b[0m \u001b[39mreturn\u001b[39;00m arr\n",
      "File \u001b[1;32mc:\\Users\\Pascal\\mambaforge\\envs\\ecal.env\\Lib\\site-packages\\numpy\\lib\\npyio.py:992\u001b[0m, in \u001b[0;36m_read\u001b[1;34m(fname, delimiter, comment, quote, imaginary_unit, usecols, skiplines, max_rows, converters, ndmin, unpack, dtype, encoding)\u001b[0m\n\u001b[0;32m    990\u001b[0m     fname \u001b[39m=\u001b[39m os\u001b[39m.\u001b[39mfspath(fname)\n\u001b[0;32m    991\u001b[0m \u001b[39mif\u001b[39;00m \u001b[39misinstance\u001b[39m(fname, \u001b[39mstr\u001b[39m):\n\u001b[1;32m--> 992\u001b[0m     fh \u001b[39m=\u001b[39m np\u001b[39m.\u001b[39;49mlib\u001b[39m.\u001b[39;49m_datasource\u001b[39m.\u001b[39;49mopen(fname, \u001b[39m'\u001b[39;49m\u001b[39mrt\u001b[39;49m\u001b[39m'\u001b[39;49m, encoding\u001b[39m=\u001b[39;49mencoding)\n\u001b[0;32m    993\u001b[0m     \u001b[39mif\u001b[39;00m encoding \u001b[39mis\u001b[39;00m \u001b[39mNone\u001b[39;00m:\n\u001b[0;32m    994\u001b[0m         encoding \u001b[39m=\u001b[39m \u001b[39mgetattr\u001b[39m(fh, \u001b[39m'\u001b[39m\u001b[39mencoding\u001b[39m\u001b[39m'\u001b[39m, \u001b[39m'\u001b[39m\u001b[39mlatin1\u001b[39m\u001b[39m'\u001b[39m)\n",
      "File \u001b[1;32mc:\\Users\\Pascal\\mambaforge\\envs\\ecal.env\\Lib\\site-packages\\numpy\\lib\\_datasource.py:193\u001b[0m, in \u001b[0;36mopen\u001b[1;34m(path, mode, destpath, encoding, newline)\u001b[0m\n\u001b[0;32m    156\u001b[0m \u001b[39m\u001b[39m\u001b[39m\"\"\"\u001b[39;00m\n\u001b[0;32m    157\u001b[0m \u001b[39mOpen `path` with `mode` and return the file object.\u001b[39;00m\n\u001b[0;32m    158\u001b[0m \n\u001b[1;32m   (...)\u001b[0m\n\u001b[0;32m    189\u001b[0m \n\u001b[0;32m    190\u001b[0m \u001b[39m\"\"\"\u001b[39;00m\n\u001b[0;32m    192\u001b[0m ds \u001b[39m=\u001b[39m DataSource(destpath)\n\u001b[1;32m--> 193\u001b[0m \u001b[39mreturn\u001b[39;00m ds\u001b[39m.\u001b[39;49mopen(path, mode, encoding\u001b[39m=\u001b[39;49mencoding, newline\u001b[39m=\u001b[39;49mnewline)\n",
      "File \u001b[1;32mc:\\Users\\Pascal\\mambaforge\\envs\\ecal.env\\Lib\\site-packages\\numpy\\lib\\_datasource.py:533\u001b[0m, in \u001b[0;36mDataSource.open\u001b[1;34m(self, path, mode, encoding, newline)\u001b[0m\n\u001b[0;32m    530\u001b[0m     \u001b[39mreturn\u001b[39;00m _file_openers[ext](found, mode\u001b[39m=\u001b[39mmode,\n\u001b[0;32m    531\u001b[0m                               encoding\u001b[39m=\u001b[39mencoding, newline\u001b[39m=\u001b[39mnewline)\n\u001b[0;32m    532\u001b[0m \u001b[39melse\u001b[39;00m:\n\u001b[1;32m--> 533\u001b[0m     \u001b[39mraise\u001b[39;00m \u001b[39mFileNotFoundError\u001b[39;00m(\u001b[39mf\u001b[39m\u001b[39m\"\u001b[39m\u001b[39m{\u001b[39;00mpath\u001b[39m}\u001b[39;00m\u001b[39m not found.\u001b[39m\u001b[39m\"\u001b[39m)\n",
      "\u001b[1;31mFileNotFoundError\u001b[0m: c:\\Users\\Pascal\\Desktop\\TP4a\\git_final_final\\ecal_reco\\time_alignement\\extracted_data\\events_indices_run_000001.txt not found."
>>>>>>> d32bfcda9adbbedc194d2349dee3960d5aeaadbf
     ]
    }
   ],
   "source": [
    "# Stats on the whole set of analysed data\n",
    "og_len = 0\n",
    "new_len = 0\n",
    "low_number = 0\n",
    "bottom_touch = 0\n",
    "side_touch = 0\n",
    "bad_fit = 0\n",
    "too_large_time_interval = 0\n",
    "hits_far_from_track = 0\n",
    "no_spacial_correlation = 0\n",
    "\n",
    "n_good_candidates = 0\n",
    "\n",
    "runs = fnmatch.filter(os.listdir(raw_data_directory), '*')\n",
    "for run in runs:\n",
    "    time_intervals = np.loadtxt(data_storage+\"events_indices_\"+run+\".txt\")\n",
    "    n_good_candidates += len(time_intervals)\n",
    "\n",
    "    filtering = pd.read_pickle(data_storage+\"filtering_data\"+\"_\"+run)\n",
    "    og_len += filtering['og_len'][0]\n",
    "    new_len += filtering['new_len'][0]\n",
    "    low_number += filtering['low_number'][0]\n",
    "    bottom_touch += filtering['bottom_touch'][0]\n",
    "    side_touch += filtering['side_touch'][0]\n",
    "    bad_fit += filtering['bad_fit'][0]\n",
    "    too_large_time_interval += filtering['too_large_time_interval'][0]\n",
    "    hits_far_from_track += filtering['hits_far_from_track'][0]\n",
    "    no_spacial_correlation += filtering['no_spacial_correlation'][0]"
   ]
  },
  {
   "cell_type": "code",
   "execution_count": null,
   "metadata": {},
   "outputs": [],
   "source": [
    "# Showcase of the numbers of rejection at each step of the filtering \n",
    "print(\"original length : \", og_len)\n",
    "print(\"n_hits between 6 and 50 : \", new_len)\n",
    "n = new_len\n",
    "print(\"\\u2937 Too low number of hits in one plane : \", low_number, \" over \", n)\n",
    "n -= low_number\n",
    "print(\" \\u2937 Last layer touched : \\t\\t\", bottom_touch, \" over \", n)\n",
    "n -= bottom_touch\n",
    "print(\"  \\u2937 Possible side exit : \\t\\t\", side_touch, \" over \", n)\n",
    "n -= side_touch\n",
    "print(\"   \\u2937 Bad fit : \\t\\t\\t\\t\", bad_fit, \" over \", n)\n",
    "n -= bad_fit\n",
    "print(\"    \\u2937 Too large time interval : \\t\", too_large_time_interval, \" over \", n)\n",
    "n -= too_large_time_interval\n",
    "print(\"     \\u2937 Hits far from track : \\t\\t\", hits_far_from_track, \" over \", n)\n",
    "n -= hits_far_from_track\n",
    "print(\"      \\u2937 No spacial correlation : \\t\", no_spacial_correlation, \" over \", n)\n",
    "print(\"Final number : \", n_good_candidates)"
   ]
  },
  {
   "cell_type": "code",
<<<<<<< HEAD
   "execution_count": null,
   "metadata": {},
   "outputs": [],
   "source": [
    "run = \"run_000010\"\n",
=======
   "execution_count": 14,
   "metadata": {},
   "outputs": [
    {
     "name": "stdout",
     "output_type": "stream",
     "text": [
      "C:\\Users\\Pascal\\Desktop\\TP4a\\data\\run_000011\\data_0000.root\n",
      "selected 74.91% of all events\n"
     ]
    }
   ],
   "source": [
    "run = \"run_000011\"\n",
>>>>>>> d32bfcda9adbbedc194d2349dee3960d5aeaadbf
    "\n",
    "# Load the data\n",
    "df_hits_total, df_hits, og_len, new_len = load_run(raw_data_directory+run+\"\\\\\")"
   ]
  },
  {
   "cell_type": "code",
<<<<<<< HEAD
   "execution_count": null,
   "metadata": {},
   "outputs": [],
   "source": [
    "time_intervals = np.loadtxt(data_storage+\"time_intervals_\"+run+\".txt\")\n",
=======
   "execution_count": 16,
   "metadata": {},
   "outputs": [
    {
     "data": {
      "image/png": "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",
      "text/plain": [
       "<Figure size 960x400 with 1 Axes>"
      ]
     },
     "metadata": {},
     "output_type": "display_data"
    }
   ],
   "source": [
    "#time_intervals = np.loadtxt(data_storage+\"time_intervals_\"+run+\".txt\")\n",
>>>>>>> d32bfcda9adbbedc194d2349dee3960d5aeaadbf
    "indices = np.loadtxt(data_storage+\"events_indices_\"+run+\".txt\").astype(int)\n",
    "# large_time = []\n",
    "# for i,t in enumerate(time_intervals):\n",
    "#     if t>1400:\n",
    "#         large_time.append(i)\n",
    "\n",
    "# large_time_indices = indices[large_time]\n",
    "\n",
    "%matplotlib inline\n",
    "\n",
    "i = 1\n",
    "\n",
    "kb = \"\"\n",
    "while kb == \"\":\n",
    "    # event = df_hits.loc[large_time_indices[i]]\n",
    "    # next_event = df_hits_total.loc[large_time_indices[i]+1]\n",
    "    event = df_hits.loc[indices[i]]\n",
    "    next_event = df_hits_total.loc[indices[i]+1]\n",
    "\n",
    "    hits = [Hit(event,i) for i in range(event['n_hits'\n",
    "    \n",
    "    ])]\n",
    "    hitsX = [h for h in hits if h.is_sidex]\n",
    "    hits_next_event = [Hit(next_event,i) for i in range(next_event['n_hits'])]\n",
    "    hitsX_next_event = [h for h in hits_next_event if h.is_sidex]\n",
    "\n",
    "    track = Track(hitsX)\n",
    "    fig,ax = plot_hits(hits,True,True,scaling = 0.5,hits_next = hits_next_event)\n",
    "    z = np.linspace(0,16)\n",
    "    x = track.t*z+track.x0\n",
    "    ax.plot(x,z,'r-')\n",
    "    display.clear_output(wait=False)\n",
    "    print(\"i = \", i)\n",
    "    print(hits_next_event[0].timestamp_event-hits_next_event[0].timestamp-hits[-1].timestamp_event+hits[-1].timestamp)\n",
    "    fig.savefig(\"fig_muon_decay_problem.pdf\".format(i))\n",
    "    display.display(fig)\n",
    "    kb = input()\n",
    "    i = i+1\n",
    "display.clear_output(wait=False)\n",
    "\n"
   ]
  },
  {
   "cell_type": "code",
   "execution_count": null,
   "metadata": {},
   "outputs": [],
   "source": [
    "fig.savefig(\"shower_section.pdf\")"
   ]
  }
 ],
 "metadata": {
  "kernelspec": {
   "display_name": "TP4",
   "language": "python",
   "name": "python3"
  },
  "language_info": {
   "codemirror_mode": {
    "name": "ipython",
    "version": 3
   },
   "file_extension": ".py",
   "mimetype": "text/x-python",
   "name": "python",
   "nbconvert_exporter": "python",
   "pygments_lexer": "ipython3",
   "version": "3.12.0"
  },
  "orig_nbformat": 4,
  "vscode": {
   "interpreter": {
    "hash": "1867fa988200979088d84bc4ce438c40759f9afa4e246357d770a8bf50c98f50"
   }
  }
 },
 "nbformat": 4,
 "nbformat_minor": 2
}
