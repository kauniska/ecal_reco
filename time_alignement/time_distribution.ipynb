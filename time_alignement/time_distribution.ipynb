{
 "cells": [
  {
   "cell_type": "code",
   "execution_count": 1,
   "metadata": {},
   "outputs": [],
   "source": [
    "import pandas as pd\n",
    "import uproot\n",
    "#import uproot3\n",
    "import numpy as np\n",
    "# import track_time_calibration as ttc\n",
    "from matplotlib import pyplot as plt\n",
    "import sys\n",
    "import os \n",
    "import fnmatch\n",
    "sys.path.insert(1, 'C:\\\\Users\\\\Pascal\\\\Desktop\\\\TP4a\\\\git_final_final\\\\ecal_reco\\\\utils')\n",
    "sys.path.insert(1, 'C:\\\\Users\\\\Pascal\\\\Desktop\\\\TP4a\\\\git_final_final\\\\ecal_reco\\\\tracking')\n",
    "sys.path.insert(1, 'C:\\\\Users\\\\Pascal\\\\Desktop\\\\TP4a\\\\git_final_final\\\\ecal_reco\\\\time_alignement')\n",
    "from track import Track\n",
    "from track3D import Track3D\n",
    "from hit import Hit\n",
    "from data_loading import *\n",
    "from parameters import *\n",
    "from tqdm import tqdm\n",
    "from track_reconstruction import plot_hits\n",
    "from physics import dist_line_rect\n",
    "import pickle\n",
    "from IPython import display\n",
    "from find_muon_track import *\n",
    "from find_muon_decay_kim import *\n",
    "from time_correction import *\n",
    "\n"
   ]
  },
  {
   "cell_type": "code",
   "execution_count": 4,
   "metadata": {},
   "outputs": [
    {
     "name": "stdout",
     "output_type": "stream",
     "text": [
      "C:\\Users\\Pascal\\Desktop\\TP4a\\data\\run_000011\\data_0000.root\n"
     ]
    },
    {
     "name": "stdout",
     "output_type": "stream",
     "text": [
      "selected 74.91% of all events\n"
     ]
    }
   ],
   "source": [
    "run ='run_000011'\n",
    "current_directory = os.getcwd()\n",
    "data_storage = current_directory+\"\\\\extracted_data\\\\\"\n",
    "raw_data_directory = \"C:\\\\Users\\\\Pascal\\\\Desktop\\\\TP4a\\\\data\\\\\"\n",
    "df_hits_total, df_hits, og_len, new_len = load_run(raw_data_directory+run+\"\\\\\")\n",
    "good_candidates = np.loadtxt(data_storage+\"events_indices_\"+run+\".txt\")\n",
    "\n",
    "%matplotlib inline\n",
    "tracks = []\n",
    "for i in range(len(good_candidates)) :\n",
    "    event = df_hits.loc[good_candidates[i]]\n",
    "    next_event = df_hits_total.loc[good_candidates[i]+1]\n",
    "\n",
    "    hits = [Hit(event,i) for i in range(event['n_hits' ])]\n",
    "    # print (hits)    \n",
    "    Track = Track3D(hits)\n",
    "    tracks.append(time_correction(Track))\n",
    "    # print(track)\n",
    "\n",
    "\n",
    "   "
   ]
  },
  {
   "cell_type": "code",
   "execution_count": null,
   "metadata": {},
   "outputs": [
    {
     "name": "stdout",
     "output_type": "stream",
     "text": [
      "1_variance = 0.3107795060069648\n"
     ]
    },
    {
     "name": "stderr",
     "output_type": "stream",
     "text": [
      "c:\\Users\\Pascal\\mambaforge\\envs\\ecal.env\\Lib\\site-packages\\scipy\\stats\\_continuous_distns.py:419: RuntimeWarning: Mean of empty slice.\n",
      "  loc = data.mean()\n",
      "c:\\Users\\Pascal\\mambaforge\\envs\\ecal.env\\Lib\\site-packages\\numpy\\core\\_methods.py:129: RuntimeWarning: invalid value encountered in scalar divide\n",
      "  ret = ret.dtype.type(ret / rcount)\n",
      "c:\\Users\\Pascal\\mambaforge\\envs\\ecal.env\\Lib\\site-packages\\scipy\\stats\\_continuous_distns.py:424: RuntimeWarning: Mean of empty slice.\n",
      "  scale = np.sqrt(((data - loc)**2).mean())\n"
     ]
    }
   ],
   "source": [
    "# Computation of offsets and time resolution \n",
    "\n",
    "\n",
    "\n",
    "rows = 16\n",
    "cols = 24\n",
    " \n",
    "x_offset = [[0 for _ in range(cols)] for _ in range(rows/2)] # 8x24 matrix\n",
    "y_offset = [[0 for _ in range(cols)] for _ in range(rows/2)] # 8x24 matrix\n",
    "\n",
    "\n",
    "len_tracks = len(tracks)\n",
    "print(len_tracks)\n",
    "\n",
    "\n",
    "for k in [1]: #number of iteration of the whole process\n",
    "\n",
    "    variance = [None]*len_tracks\n",
    "    x_offset = [[0 for _ in range(cols)] for _ in range(rows)] # 16x24 matrix\n",
    "    number_check = [[0]*16]*24\n",
    "\n",
    "    # for the x layers first : **************************************************\n",
    "\n",
    "    for i in range(8) :  #itaration on the 8 x-layers\n",
    "        for j in range(24) : # iteration on the 24 bars on each layers\n",
    "            mu =[]\n",
    "            t_dist=[]\n",
    "            for t in range(len(tracks)) : #iteration on all the tracks selected\n",
    "\n",
    "                if tracks[t].x.hits[i].coord[0]==j : #does the track goes through the j bar ?\n",
    "                    print(tracks[t].x.hits[i].coord[0])\n",
    "                    number_check[j][i] += 1\n",
    "                    t_track = [] #initialisation of the array with timestamp of other bars where the track goes through\n",
    "\n",
    "                    t_bar =  tracks[t].x.hits[i].timestamp - x_offset[j][i] #initialisation of timestamp of bar i (xbar)\n",
    "                    \n",
    "                    # for z in (range(len(tracks[t].x.hits))) : #iteration on the 7 other x-layers \n",
    "                    for z in (range(8)) : #iteration on the 7 other x-layers \n",
    "                        if z != i : #we exclude the i layer\n",
    "                            coordj = tracks[t].x.hits[z].coord[0]-1 #coordinate x where the track goes through on the z layer\n",
    "                            t_track.append(tracks[t].x.hits[z].timestamp - x_offset[coordj][z]) \n",
    "                    for z in (range(8)) :  #iteration on the 8 other y-layers\n",
    "                            coordj = tracks[t].y.hits[z].coord[0]-1 #coordinate y where the track goes through on the z layer\n",
    "                            t_track.append(tracks[t].y.hits[z].timestamp - y_offset[coordj][z])\n",
    "                        \n",
    "                    t_track, variance[t] = norm.fit(t_track)\n",
    "                    # print(t_track_tot)\n",
    "                    # print(t_track-t_bar)\n",
    "                    t_dist.append(t_track - t_bar)\n",
    "                  \n",
    "\n",
    "            mu, sigma[j][i] = norm.fit(t_dist)\n",
    "\n",
    "            # x_offset[j][i]= mu\n",
    "\n",
    "    # **************************************************************************************************************\n",
    "\n",
    "    # for the y layers now :\n",
    "\n",
    "    for i in range(8) :  #itaration on the 8 x-layers\n",
    "            for j in range(24) : # iteration on the 24 bars on each layers\n",
    "                mu =[]\n",
    "                t_dist=[]\n",
    "                for t in range(len(tracks)) : #iteration on all the tracks selected\n",
    "\n",
    "                    if tracks[t].y.hits[i].coord[0]==j : #does the track goes through the j bar ?\n",
    "                      \n",
    "                        t_track = [] #initialisation of the array with timestamp of other bars where the track goes through\n",
    "\n",
    "                        t_bar =  tracks[t].y.hits[i].timestamp - y_offset[j][i] #initialisation of timestamp of bar i (xbar)\n",
    "                        \n",
    "                        for z in (range(8)) : #iteration on the 7 other y-layers \n",
    "                            if z != i : #we exclude the i layer\n",
    "                                coordj = tracks[t].y.hits[z].coord[0]-1 #coordinate y where the track goes through on the z layer\n",
    "                                t_track.append(tracks[t].y.hits[z].timestamp - y_offset[coordj][z]) \n",
    "                        for z in range(8) :  #iteration on the 8 other x-layers\n",
    "                                coordj = tracks[t].x.hits[z].coord[0]-1 #coordinate x where the track goes through on the z layer\n",
    "                                t_track.append(tracks[t].x.hits[z].timestamp -x_offset[coordj][z]) \n",
    "                            \n",
    "                        t_track_tot, variance[t] = norm.fit(t_track)\n",
    "                        t_dist.append(t_track_tot - t_bar)\n",
    "\n",
    "                mu, sigma[j][i+8] = norm.fit(t_dist)\n",
    "\n",
    "                # y_offset[j][i]= mu\n",
    "\n",
    "            # *************************************************************************************************************\n",
    "\n",
    "    # computation of variance of the algorithm for each process iteration k\n",
    "\n",
    "    variance_tot = mean(variance)\n",
    "    print(str(k)+\"_variance = \" +str(variance_tot))\n",
    "    sigma_temp = [None]*8\n",
    "    for i in range(8) :\n",
    "        sigma_temp[i] = mean(sigma[0:23][i])\n",
    "    sigma_tot = mean(sigma_temp)\n",
    "    print(str(k)+\"_sigma = \"+str(sigma_tot))\n",
    "    print(x_offset)\n",
    "    print(y_offset)\n",
    "\n",
    "   \n",
    "\n"
   ]
  },
  {
   "cell_type": "code",
   "execution_count": 31,
   "metadata": {},
   "outputs": [],
   "source": [
    "from scipy.stats import norm\n",
    "countX = np.nan_to_num(np.ndarray(shape=(24,8), dtype=int), nan=0, posinf=0, neginf=0)*0\n",
    "muX = np.nan_to_num(np.ndarray(shape=(24,8), dtype=float), nan=0, posinf=0, neginf=0)*0\n",
    "muXF = np.nan_to_num(np.ndarray(shape=(24,8), dtype=float), nan=0, posinf=0, neginf=0)*0\n",
    "sigmaX = np.nan_to_num(np.ndarray(shape=(24,8), dtype=float), nan=0, posinf=0, neginf=0)*0\n",
    "\n",
    "countY = np.nan_to_num(np.ndarray(shape=(24,8), dtype=int), nan=0, posinf=0, neginf=0)*0\n",
    "muY = np.nan_to_num(np.ndarray(shape=(24,8), dtype=float), nan=0, posinf=0, neginf=0)*0\n",
    "muYF = np.nan_to_num(np.ndarray(shape=(24,8), dtype=float), nan=0, posinf=0, neginf=0)*0\n",
    "sigmaY = np.nan_to_num(np.ndarray(shape=(24,8), dtype=float), nan=0, posinf=0, neginf=0)*0\n",
    "\n",
    "converg_X = []\n",
    "converg_Y = []\n",
    "\n",
    "avg_offset_x = []\n",
    "avg_offset_y = []\n",
    "ttracks = tracks\n",
    "\n",
    "iterations = 6\n",
    "\n",
    "for it in range(iterations):\n",
    "    for i in range(24):\n",
    "        for j in range(8):\n",
    "            time = []\n",
    "            for t in ttracks:\n",
    "                for hx in t.x.hits:\n",
    "                    if hx.coord[0]-1 == i and hx.coord[1]-1 == j: # if its the ith jth bar in x\n",
    "                        countX[i][j] += 1\n",
    "                        tbar = hx.timestamp\n",
    "                        for hxp in t.x.hits + t.y.hits:\n",
    "                            if(not(hxp.coord[0]-1 == i and hxp.coord[1]-1 == j and hxp.is_sidex)):\n",
    "                                if(hxp.is_sidex):\n",
    "                                    time.append(hxp.timestamp-muXF[hxp.coord[0]-1][hxp.coord[1]-1]-tbar-muXF[i][j])\n",
    "                                else:\n",
    "                                    time.append(hxp.timestamp-muYF[hxp.coord[0]-1][hxp.coord[1]-1]-tbar-muXF[i][j])\n",
    "            muX[i][j], sigmaX[i][j] = norm.fit(time)\n",
    "            time = []\n",
    "            for t in ttracks:\n",
    "                for hy in t.y.hits:\n",
    "                    if hy.coord[0]-1 == i and hy.coord[1]-1 == j: # if its the ith jth bar in y\n",
    "                        countY[i][j] += 1\n",
    "                        tbar = hy.timestamp\n",
    "                        for hyp in t.y.hits + t.x.hits:\n",
    "                            if(not(hyp.coord[0]-1 == i and hyp.coord[1]-1 == j and not(hxp.is_sidex))):\n",
    "                                if(hyp.is_sidex):\n",
    "                                    time.append(hyp.timestamp-muXF[hyp.coord[0]-1][hyp.coord[1]-1]-tbar-muYF[i][j])\n",
    "                                else:\n",
    "                                    time.append(hyp.timestamp-muYF[hyp.coord[0]-1][hyp.coord[1]-1]-tbar-muYF[i][j])\n",
    "            muY[i][j], sigmaY[i][j] = norm.fit(time)\n",
    "    converg_X.append(np.mean(muX))\n",
    "    converg_Y.append(np.mean(muY))\n",
    "    muXF = muXF + muX\n",
    "    muYF = muYF + muY\n",
    "    avg_offset_x.append(np.mean(muXF))\n",
    "    avg_offset_y.append(np.mean(muYF))\n",
    "\n"
   ]
  },
  {
   "cell_type": "code",
   "execution_count": null,
   "metadata": {},
   "outputs": [],
   "source": [
    "from scipy.stats import norm\n",
    "countX = np.nan_to_num(np.ndarray(shape=(24,8), dtype=int), nan=0, posinf=0, neginf=0)*0\n",
    "muX = np.nan_to_num(np.ndarray(shape=(24,8), dtype=float), nan=0, posinf=0, neginf=0)*0\n",
    "sigmaX = np.nan_to_num(np.ndarray(shape=(24,8), dtype=float), nan=0, posinf=0, neginf=0)*0\n",
    "\n",
    "countY = np.nan_to_num(np.ndarray(shape=(24,8), dtype=int), nan=0, posinf=0, neginf=0)*0\n",
    "muY = np.nan_to_num(np.ndarray(shape=(24,8), dtype=float), nan=0, posinf=0, neginf=0)*0\n",
    "sigmaY = np.nan_to_num(np.ndarray(shape=(24,8), dtype=float), nan=0, posinf=0, neginf=0)*0\n",
    "\n",
    "converg_X = []\n",
    "converg_Y = []\n",
    "\n",
    "avg_offset_x = []\n",
    "avg_offset_y = []\n",
    "ttracks = tracks\n",
    "\n",
    "\n",
    "i = np.randint(0,24)\n",
    "j = np.randint(0,7)\n",
    "            time = []\n",
    "            for t in ttracks:\n",
    "                for hx in t.x.hits:\n",
    "                    if hx.coord[0]-1 == i and hx.coord[1]-1 == j: # if its the ith jth bar in x\n",
    "                        countX[i][j] += 1\n",
    "                        tbar = hx.timestamp\n",
    "                        for hxp in t.x.hits + t.y.hits:\n",
    "                            if(not(hxp.coord[0]-1 == i and hxp.coord[1]-1 == j and hxp.is_sidex)):\n",
    "                                if(hxp.is_sidex):\n",
    "                                    time.append(hxp.timestamp-muXF[hxp.coord[0]-1][hxp.coord[1]-1]-tbar-muXF[i][j])\n",
    "                                else:\n",
    "                                    time.append(hxp.timestamp-muYF[hxp.coord[0]-1][hxp.coord[1]-1]-tbar-muXF[i][j])\n",
    "            muX[i][j], sigmaX[i][j] = norm.fit(time)\n",
    "            time = []\n",
    "            for t in ttracks:\n",
    "                for hy in t.y.hits:\n",
    "                    if hy.coord[0]-1 == i and hy.coord[1]-1 == j: # if its the ith jth bar in y\n",
    "                        countY[i][j] += 1\n",
    "                        tbar = hy.timestamp\n",
    "                        for hyp in t.y.hits + t.x.hits:\n",
    "                            if(not(hyp.coord[0]-1 == i and hyp.coord[1]-1 == j and not(hxp.is_sidex))):\n",
    "                                if(hyp.is_sidex):\n",
    "                                    time.append(hyp.timestamp-muXF[hyp.coord[0]-1][hyp.coord[1]-1]-tbar-muYF[i][j])\n",
    "                                else:\n",
    "                                    time.append(hyp.timestamp-muYF[hyp.coord[0]-1][hyp.coord[1]-1]-tbar-muYF[i][j])\n",
    "            muY[i][j], sigmaY[i][j] = norm.fit(time)\n",
    "    converg_X.append(np.mean(muX))\n",
    "    converg_Y.append(np.mean(muY))\n",
    "    muXF = muXF + muX\n",
    "    muYF = muYF + muY\n",
    "    avg_offset_x.append(np.mean(muXF))\n",
    "    avg_offset_y.append(np.mean(muYF))\n",
    "\n"
   ]
  },
  {
   "cell_type": "code",
   "execution_count": 34,
   "metadata": {},
   "outputs": [
    {
     "data": {
      "text/plain": [
       "[<matplotlib.lines.Line2D at 0x2a10b83c250>]"
      ]
     },
     "execution_count": 34,
     "metadata": {},
     "output_type": "execute_result"
    },
    {
     "data": {
      "image/png": "[encoded data removed]",
      "text/plain": [
       "<Figure size 640x480 with 1 Axes>"
      ]
     },
     "metadata": {},
     "output_type": "display_data"
    }
   ],
   "source": [
    "plt.figure()\n",
    "plt.grid()\n",
    "plt.hist(time,bins=100, density=True)\n",
    "single_mu, single_sigma = norm.fit(time)\n",
    "x = np.linspace(-3 , 3, 1000)\n",
    "p = norm.pdf(x,single_mu,single_sigma)\n",
    "\n",
    "plt.plot(x,p,'k')"
   ]
  },
  {
   "cell_type": "code",
   "execution_count": 33,
   "metadata": {},
   "outputs": [
    {
     "name": "stdout",
     "output_type": "stream",
     "text": [
      "0.17398021511570072\n"
     ]
    },
    {
     "data": {
      "image/png": "[encoded data removed]",
      "text/plain": [
       "<Figure size 640x480 with 1 Axes>"
      ]
     },
     "metadata": {},
     "output_type": "display_data"
    },
    {
     "data": {
      "image/png": "[encoded data removed]",
      "text/plain": [
       "<Figure size 640x480 with 1 Axes>"
      ]
     },
     "metadata": {},
     "output_type": "display_data"
    }
   ],
   "source": [
    "plt.figure()\n",
    "plt.semilogy(np.abs(converg_X))\n",
    "plt.semilogy(np.abs(converg_Y))\n",
    "plt.grid()\n",
    "plt.figure()\n",
    "plt.plot(np.abs(avg_offset_x))\n",
    "plt.plot(np.abs(avg_offset_y))\n",
    "plt.grid()\n",
    "print(np.abs(np.mean(muXF)))"
   ]
  },
  {
   "cell_type": "code",
   "execution_count": null,
   "metadata": {},
   "outputs": [
    {
     "data": {
      "image/png": "[encoded data removed]",
      "text/plain": [
       "<Figure size 640x480 with 1 Axes>"
      ]
     },
     "metadata": {},
     "output_type": "display_data"
    },
    {
     "data": {
      "image/png": "[encoded data removed]",
      "text/plain": [
       "<Figure size 640x480 with 1 Axes>"
      ]
     },
     "metadata": {},
     "output_type": "display_data"
    }
   ],
   "source": [
    "import numpy as np\n",
    "import matplotlib.pyplot as plt\n",
    "from mpl_toolkits.mplot3d import Axes3D\n",
    "\n",
    "# Create a sample matrix\n",
    "# Replace this with your own matrix\n",
    "matrix = countX\n",
    "\n",
    "# Create arrays for x and y coordinates that match the shape of the matrix\n",
    "x = np.arange(matrix.shape[0])\n",
    "y = np.arange(matrix.shape[1])\n",
    "x, y = np.meshgrid(x, y)\n",
    "\n",
    "# Create the 3D surface plot\n",
    "plt.figure()\n",
    "plt.pcolor(countX)\n",
    "plt.figure()\n",
    "plt.pcolor(countY)\n",
    "\n",
    "# Set labels for the x, y, and z axes\n",
    "ax.set_xlabel('X')\n",
    "ax.set_ylabel('Y')\n",
    "ax.set_zlabel('Z')\n",
    "\n",
    "# Show the plot\n",
    "plt.show()\n",
    "\n",
    "\n"
   ]
  },
  {
   "cell_type": "code",
   "execution_count": 8,
   "metadata": {},
   "outputs": [],
   "source": [
    "uncorrected_tracks = []\n",
    "for i in range(10000) :\n",
    "    event = df_hits.loc[good_candidates[i]]\n",
    "    next_event = df_hits_total.loc[good_candidates[i]+1]\n",
    "\n",
    "    hits = [Hit(event,i) for i in range(event['n_hits' ])]\n",
    "    # print (hits)    \n",
    "    Track = Track3D(hits)\n",
    "    uncorrected_tracks.append(Track)"
   ]
  },
  {
   "cell_type": "code",
   "execution_count": 22,
   "metadata": {},
   "outputs": [
    {
     "data": {
      "image/png": "[encoded data removed]",
      "text/plain": [
       "<Figure size 640x480 with 1 Axes>"
      ]
     },
     "metadata": {},
     "output_type": "display_data"
    }
   ],
   "source": [
    "xtilted_tracks = [t for t in uncorrected_tracks if t.y.t>1.5]\n",
    "tangeants = []\n",
    "TiltedXHits = xtilted_tracks[0].x.hits\n",
    "\n",
    "plt.Figure()\n",
    "for t in xtilted_tracks:\n",
    "    timestamp = []\n",
    "    height = []\n",
    "    error =[]\n",
    "    hitsX = t.y.hits\n",
    "    hitsX.sort(key = lambda hit: -hit.coord[1])\n",
    "    first_stamp=hitsX[0].timestamp\n",
    "    for h in hitsX:\n",
    "        timestamp.append(h.timestamp-muXF[h.coord[0]-1][h.coord[1]-1])\n",
    "        height.append(h.get_pos()[0])\n",
    "        error.append(sigmaX[h.coord[0]-1][h.coord[1]-1])\n",
    "    plt.errorbar(height,timestamp,error,marker='s', mfc='red', mec='green', ms=2, mew=2)\n",
    "    plt.grid()\n",
    "\n"
   ]
  },
  {
   "cell_type": "code",
   "execution_count": 15,
   "metadata": {},
   "outputs": [
    {
     "data": {
      "application/vnd.plotly.v1+json": {
       "config": {
        "plotlyServerURL": "https://plot.ly"
       },
       "data": [
        {
         "line": {
          "color": "black",
          "width": 5
         },
         "mode": "lines",
         "type": "scatter3d",
         "x": [
          1.7478587528174327,
          1.9539336696361511,
          2.160008586454869,
          2.366083503273588,
          2.5721584200923058,
          2.778233336911024,
          2.9843082537297425,
          3.1903831705484604,
          3.396458087367179,
          3.602533004185897,
          3.8086079210046155,
          4.014682837823333,
          4.220757754642053,
          4.426832671460771,
          4.632907588279489,
          4.8389825050982065,
          5.045057421916924,
          5.251132338735644,
          5.457207255554362,
          5.66328217237308,
          5.869357089191798,
          6.075432006010516,
          6.281506922829234,
          6.487581839647953,
          6.693656756466671,
          6.899731673285389,
          7.105806590104107,
          7.311881506922825,
          7.517956423741545,
          7.724031340560263,
          7.930106257378981,
          8.136181174197699,
          8.342256091016417,
          8.548331007835136,
          8.754405924653854,
          8.960480841472572,
          9.16655575829129,
          9.37263067511001,
          9.578705591928728,
          9.784780508747444,
          9.990855425566163,
          10.196930342384881,
          10.4030052592036,
          10.609080176022319,
          10.815155092841035,
          11.021230009659755,
          11.227304926478473,
          11.43337984329719,
          11.63945476011591,
          11.845529676934628
         ],
         "y": [
          5.047332832456808,
          5.59686594397339,
          6.146399055489972,
          6.695932167006555,
          7.245465278523137,
          7.794998390039719,
          8.344531501556302,
          8.894064613072885,
          9.443597724589466,
          9.993130836106047,
          10.54266394762263,
          11.092197059139213,
          11.641730170655796,
          12.191263282172377,
          12.74079639368896,
          13.290329505205541,
          13.839862616722124,
          14.389395728238707,
          14.938928839755288,
          15.488461951271871,
          16.037995062788454,
          16.587528174305035,
          17.137061285821616,
          17.6865943973382,
          18.236127508854786,
          18.785660620371367,
          19.335193731887948,
          19.88472684340453,
          20.43425995492111,
          20.983793066437695,
          21.533326177954272,
          22.08285928947086,
          22.63239240098744,
          23.181925512504023,
          23.731458624020604,
          24.280991735537185,
          24.830524847053766,
          25.380057958570355,
          25.929591070086936,
          26.479124181603517,
          27.028657293120098,
          27.57819040463668,
          28.12772351615326,
          28.67725662766985,
          29.22678973918643,
          29.77632285070301,
          30.325855962219592,
          30.875389073736173,
          31.42492218525276,
          31.974455296769342
         ],
         "z": [
          0,
          0.32653061224489793,
          0.6530612244897959,
          0.9795918367346939,
          1.3061224489795917,
          1.6326530612244896,
          1.9591836734693877,
          2.2857142857142856,
          2.6122448979591835,
          2.9387755102040813,
          3.265306122448979,
          3.591836734693877,
          3.9183673469387754,
          4.244897959183673,
          4.571428571428571,
          4.897959183673469,
          5.224489795918367,
          5.551020408163265,
          5.877551020408163,
          6.204081632653061,
          6.530612244897958,
          6.857142857142857,
          7.183673469387754,
          7.5102040816326525,
          7.836734693877551,
          8.16326530612245,
          8.489795918367346,
          8.816326530612244,
          9.142857142857142,
          9.46938775510204,
          9.795918367346937,
          10.122448979591836,
          10.448979591836734,
          10.775510204081632,
          11.10204081632653,
          11.428571428571427,
          11.755102040816325,
          12.081632653061224,
          12.408163265306122,
          12.734693877551019,
          13.061224489795917,
          13.387755102040815,
          13.714285714285714,
          14.040816326530612,
          14.367346938775508,
          14.693877551020407,
          15.020408163265305,
          15.346938775510203,
          15.673469387755102,
          16
         ]
        },
        {
         "marker": {
          "color": "blue",
          "size": 1
         },
         "mode": "lines",
         "type": "scatter3d",
         "x": [
          10.4,
          10.4
         ],
         "y": [
          0,
          38.4
         ],
         "z": [
          12.200000000000001,
          12.200000000000001
         ]
        },
        {
         "marker": {
          "color": "blue",
          "size": 1
         },
         "mode": "lines",
         "type": "scatter3d",
         "x": [
          12,
          12
         ],
         "y": [
          0,
          38.4
         ],
         "z": [
          14.200000000000001,
          14.200000000000001
         ]
        },
        {
         "marker": {
          "color": "blue",
          "size": 1
         },
         "mode": "lines",
         "type": "scatter3d",
         "x": [
          2.4000000000000004,
          2.4000000000000004
         ],
         "y": [
          0,
          38.4
         ],
         "z": [
          2.2,
          2.2
         ]
        },
        {
         "marker": {
          "color": "blue",
          "size": 1
         },
         "mode": "lines",
         "type": "scatter3d",
         "x": [
          4,
          4
         ],
         "y": [
          0,
          38.4
         ],
         "z": [
          4.2,
          4.2
         ]
        },
        {
         "marker": {
          "color": "blue",
          "size": 1
         },
         "mode": "lines",
         "type": "scatter3d",
         "x": [
          2.4000000000000004,
          2.4000000000000004
         ],
         "y": [
          0,
          38.4
         ],
         "z": [
          0.2,
          0.2
         ]
        },
        {
         "marker": {
          "color": "blue",
          "size": 1
         },
         "mode": "lines",
         "type": "scatter3d",
         "x": [
          7.2,
          7.2
         ],
         "y": [
          0,
          38.4
         ],
         "z": [
          8.200000000000001,
          8.200000000000001
         ]
        },
        {
         "marker": {
          "color": "blue",
          "size": 1
         },
         "mode": "lines",
         "type": "scatter3d",
         "x": [
          8.8,
          8.8
         ],
         "y": [
          0,
          38.4
         ],
         "z": [
          10.2,
          10.2
         ]
        },
        {
         "marker": {
          "color": "blue",
          "size": 1
         },
         "mode": "lines",
         "type": "scatter3d",
         "x": [
          5.6000000000000005,
          5.6000000000000005
         ],
         "y": [
          0,
          38.4
         ],
         "z": [
          6.200000000000001,
          6.200000000000001
         ]
        },
        {
         "marker": {
          "color": "red",
          "size": 1
         },
         "mode": "lines",
         "type": "scatter3d",
         "x": [
          0,
          38.4
         ],
         "y": [
          31.200000000000003,
          31.200000000000003
         ],
         "z": [
          15.200000000000001,
          15.200000000000001
         ]
        },
        {
         "marker": {
          "color": "red",
          "size": 1
         },
         "mode": "lines",
         "type": "scatter3d",
         "x": [
          0,
          38.4
         ],
         "y": [
          28,
          28
         ],
         "z": [
          13.200000000000001,
          13.200000000000001
         ]
        },
        {
         "marker": {
          "color": "red",
          "size": 1
         },
         "mode": "lines",
         "type": "scatter3d",
         "x": [
          0,
          38.4
         ],
         "y": [
          23.200000000000003,
          23.200000000000003
         ],
         "z": [
          11.2,
          11.2
         ]
        },
        {
         "marker": {
          "color": "red",
          "size": 1
         },
         "mode": "lines",
         "type": "scatter3d",
         "x": [
          0,
          38.4
         ],
         "y": [
          20,
          20
         ],
         "z": [
          9.200000000000001,
          9.200000000000001
         ]
        },
        {
         "marker": {
          "color": "red",
          "size": 1
         },
         "mode": "lines",
         "type": "scatter3d",
         "x": [
          0,
          38.4
         ],
         "y": [
          16.8,
          16.8
         ],
         "z": [
          7.200000000000001,
          7.200000000000001
         ]
        },
        {
         "marker": {
          "color": "red",
          "size": 1
         },
         "mode": "lines",
         "type": "scatter3d",
         "x": [
          0,
          38.4
         ],
         "y": [
          13.600000000000001,
          13.600000000000001
         ],
         "z": [
          5.2,
          5.2
         ]
        },
        {
         "marker": {
          "color": "red",
          "size": 1
         },
         "mode": "lines",
         "type": "scatter3d",
         "x": [
          0,
          38.4
         ],
         "y": [
          10.4,
          10.4
         ],
         "z": [
          3.2,
          3.2
         ]
        },
        {
         "marker": {
          "color": "red",
          "size": 1
         },
         "mode": "lines",
         "type": "scatter3d",
         "x": [
          0,
          38.4
         ],
         "y": [
          7.2,
          7.2
         ],
         "z": [
          1.2,
          1.2
         ]
        }
       ],
       "layout": {
        "scene": {
         "aspectmode": "cube",
         "xaxis": {
          "range": [
           0,
           38.4
          ],
          "title": {
           "text": "X [cm]"
          }
         },
         "yaxis": {
          "range": [
           0,
           38.4
          ],
          "title": {
           "text": "Y [cm]"
          }
         },
         "zaxis": {
          "range": [
           0,
           16
          ],
          "title": {
           "text": "Z [cm]"
          }
         }
        },
        "template": {
         "data": {
          "bar": [
           {
            "error_x": {
             "color": "#2a3f5f"
            },
            "error_y": {
             "color": "#2a3f5f"
            },
            "marker": {
             "line": {
              "color": "#E5ECF6",
              "width": 0.5
             },
             "pattern": {
              "fillmode": "overlay",
              "size": 10,
              "solidity": 0.2
             }
            },
            "type": "bar"
           }
          ],
          "barpolar": [
           {
            "marker": {
             "line": {
              "color": "#E5ECF6",
              "width": 0.5
             },
             "pattern": {
              "fillmode": "overlay",
              "size": 10,
              "solidity": 0.2
             }
            },
            "type": "barpolar"
           }
          ],
          "carpet": [
           {
            "aaxis": {
             "endlinecolor": "#2a3f5f",
             "gridcolor": "white",
             "linecolor": "white",
             "minorgridcolor": "white",
             "startlinecolor": "#2a3f5f"
            },
            "baxis": {
             "endlinecolor": "#2a3f5f",
             "gridcolor": "white",
             "linecolor": "white",
             "minorgridcolor": "white",
             "startlinecolor": "#2a3f5f"
            },
            "type": "carpet"
           }
          ],
          "choropleth": [
           {
            "colorbar": {
             "outlinewidth": 0,
             "ticks": ""
            },
            "type": "choropleth"
           }
          ],
          "contour": [
           {
            "colorbar": {
             "outlinewidth": 0,
             "ticks": ""
            },
            "colorscale": [
             [
              0,
              "#0d0887"
             ],
             [
              0.1111111111111111,
              "#46039f"
             ],
             [
              0.2222222222222222,
              "#7201a8"
             ],
             [
              0.3333333333333333,
              "#9c179e"
             ],
             [
              0.4444444444444444,
              "#bd3786"
             ],
             [
              0.5555555555555556,
              "#d8576b"
             ],
             [
              0.6666666666666666,
              "#ed7953"
             ],
             [
              0.7777777777777778,
              "#fb9f3a"
             ],
             [
              0.8888888888888888,
              "#fdca26"
             ],
             [
              1,
              "#f0f921"
             ]
            ],
            "type": "contour"
           }
          ],
          "contourcarpet": [
           {
            "colorbar": {
             "outlinewidth": 0,
             "ticks": ""
            },
            "type": "contourcarpet"
           }
          ],
          "heatmap": [
           {
            "colorbar": {
             "outlinewidth": 0,
             "ticks": ""
            },
            "colorscale": [
             [
              0,
              "#0d0887"
             ],
             [
              0.1111111111111111,
              "#46039f"
             ],
             [
              0.2222222222222222,
              "#7201a8"
             ],
             [
              0.3333333333333333,
              "#9c179e"
             ],
             [
              0.4444444444444444,
              "#bd3786"
             ],
             [
              0.5555555555555556,
              "#d8576b"
             ],
             [
              0.6666666666666666,
              "#ed7953"
             ],
             [
              0.7777777777777778,
              "#fb9f3a"
             ],
             [
              0.8888888888888888,
              "#fdca26"
             ],
             [
              1,
              "#f0f921"
             ]
            ],
            "type": "heatmap"
           }
          ],
          "heatmapgl": [
           {
            "colorbar": {
             "outlinewidth": 0,
             "ticks": ""
            },
            "colorscale": [
             [
              0,
              "#0d0887"
             ],
             [
              0.1111111111111111,
              "#46039f"
             ],
             [
              0.2222222222222222,
              "#7201a8"
             ],
             [
              0.3333333333333333,
              "#9c179e"
             ],
             [
              0.4444444444444444,
              "#bd3786"
             ],
             [
              0.5555555555555556,
              "#d8576b"
             ],
             [
              0.6666666666666666,
              "#ed7953"
             ],
             [
              0.7777777777777778,
              "#fb9f3a"
             ],
             [
              0.8888888888888888,
              "#fdca26"
             ],
             [
              1,
              "#f0f921"
             ]
            ],
            "type": "heatmapgl"
           }
          ],
          "histogram": [
           {
            "marker": {
             "pattern": {
              "fillmode": "overlay",
              "size": 10,
              "solidity": 0.2
             }
            },
            "type": "histogram"
           }
          ],
          "histogram2d": [
           {
            "colorbar": {
             "outlinewidth": 0,
             "ticks": ""
            },
            "colorscale": [
             [
              0,
              "#0d0887"
             ],
             [
              0.1111111111111111,
              "#46039f"
             ],
             [
              0.2222222222222222,
              "#7201a8"
             ],
             [
              0.3333333333333333,
              "#9c179e"
             ],
             [
              0.4444444444444444,
              "#bd3786"
             ],
             [
              0.5555555555555556,
              "#d8576b"
             ],
             [
              0.6666666666666666,
              "#ed7953"
             ],
             [
              0.7777777777777778,
              "#fb9f3a"
             ],
             [
              0.8888888888888888,
              "#fdca26"
             ],
             [
              1,
              "#f0f921"
             ]
            ],
            "type": "histogram2d"
           }
          ],
          "histogram2dcontour": [
           {
            "colorbar": {
             "outlinewidth": 0,
             "ticks": ""
            },
            "colorscale": [
             [
              0,
              "#0d0887"
             ],
             [
              0.1111111111111111,
              "#46039f"
             ],
             [
              0.2222222222222222,
              "#7201a8"
             ],
             [
              0.3333333333333333,
              "#9c179e"
             ],
             [
              0.4444444444444444,
              "#bd3786"
             ],
             [
              0.5555555555555556,
              "#d8576b"
             ],
             [
              0.6666666666666666,
              "#ed7953"
             ],
             [
              0.7777777777777778,
              "#fb9f3a"
             ],
             [
              0.8888888888888888,
              "#fdca26"
             ],
             [
              1,
              "#f0f921"
             ]
            ],
            "type": "histogram2dcontour"
           }
          ],
          "mesh3d": [
           {
            "colorbar": {
             "outlinewidth": 0,
             "ticks": ""
            },
            "type": "mesh3d"
           }
          ],
          "parcoords": [
           {
            "line": {
             "colorbar": {
              "outlinewidth": 0,
              "ticks": ""
             }
            },
            "type": "parcoords"
           }
          ],
          "pie": [
           {
            "automargin": true,
            "type": "pie"
           }
          ],
          "scatter": [
           {
            "fillpattern": {
             "fillmode": "overlay",
             "size": 10,
             "solidity": 0.2
            },
            "type": "scatter"
           }
          ],
          "scatter3d": [
           {
            "line": {
             "colorbar": {
              "outlinewidth": 0,
              "ticks": ""
             }
            },
            "marker": {
             "colorbar": {
              "outlinewidth": 0,
              "ticks": ""
             }
            },
            "type": "scatter3d"
           }
          ],
          "scattercarpet": [
           {
            "marker": {
             "colorbar": {
              "outlinewidth": 0,
              "ticks": ""
             }
            },
            "type": "scattercarpet"
           }
          ],
          "scattergeo": [
           {
            "marker": {
             "colorbar": {
              "outlinewidth": 0,
              "ticks": ""
             }
            },
            "type": "scattergeo"
           }
          ],
          "scattergl": [
           {
            "marker": {
             "colorbar": {
              "outlinewidth": 0,
              "ticks": ""
             }
            },
            "type": "scattergl"
           }
          ],
          "scattermapbox": [
           {
            "marker": {
             "colorbar": {
              "outlinewidth": 0,
              "ticks": ""
             }
            },
            "type": "scattermapbox"
           }
          ],
          "scatterpolar": [
           {
            "marker": {
             "colorbar": {
              "outlinewidth": 0,
              "ticks": ""
             }
            },
            "type": "scatterpolar"
           }
          ],
          "scatterpolargl": [
           {
            "marker": {
             "colorbar": {
              "outlinewidth": 0,
              "ticks": ""
             }
            },
            "type": "scatterpolargl"
           }
          ],
          "scatterternary": [
           {
            "marker": {
             "colorbar": {
              "outlinewidth": 0,
              "ticks": ""
             }
            },
            "type": "scatterternary"
           }
          ],
          "surface": [
           {
            "colorbar": {
             "outlinewidth": 0,
             "ticks": ""
            },
            "colorscale": [
             [
              0,
              "#0d0887"
             ],
             [
              0.1111111111111111,
              "#46039f"
             ],
             [
              0.2222222222222222,
              "#7201a8"
             ],
             [
              0.3333333333333333,
              "#9c179e"
             ],
             [
              0.4444444444444444,
              "#bd3786"
             ],
             [
              0.5555555555555556,
              "#d8576b"
             ],
             [
              0.6666666666666666,
              "#ed7953"
             ],
             [
              0.7777777777777778,
              "#fb9f3a"
             ],
             [
              0.8888888888888888,
              "#fdca26"
             ],
             [
              1,
              "#f0f921"
             ]
            ],
            "type": "surface"
           }
          ],
          "table": [
           {
            "cells": {
             "fill": {
              "color": "#EBF0F8"
             },
             "line": {
              "color": "white"
             }
            },
            "header": {
             "fill": {
              "color": "#C8D4E3"
             },
             "line": {
              "color": "white"
             }
            },
            "type": "table"
           }
          ]
         },
         "layout": {
          "annotationdefaults": {
           "arrowcolor": "#2a3f5f",
           "arrowhead": 0,
           "arrowwidth": 1
          },
          "autotypenumbers": "strict",
          "coloraxis": {
           "colorbar": {
            "outlinewidth": 0,
            "ticks": ""
           }
          },
          "colorscale": {
           "diverging": [
            [
             0,
             "#8e0152"
            ],
            [
             0.1,
             "#c51b7d"
            ],
            [
             0.2,
             "#de77ae"
            ],
            [
             0.3,
             "#f1b6da"
            ],
            [
             0.4,
             "#fde0ef"
            ],
            [
             0.5,
             "#f7f7f7"
            ],
            [
             0.6,
             "#e6f5d0"
            ],
            [
             0.7,
             "#b8e186"
            ],
            [
             0.8,
             "#7fbc41"
            ],
            [
             0.9,
             "#4d9221"
            ],
            [
             1,
             "#276419"
            ]
           ],
           "sequential": [
            [
             0,
             "#0d0887"
            ],
            [
             0.1111111111111111,
             "#46039f"
            ],
            [
             0.2222222222222222,
             "#7201a8"
            ],
            [
             0.3333333333333333,
             "#9c179e"
            ],
            [
             0.4444444444444444,
             "#bd3786"
            ],
            [
             0.5555555555555556,
             "#d8576b"
            ],
            [
             0.6666666666666666,
             "#ed7953"
            ],
            [
             0.7777777777777778,
             "#fb9f3a"
            ],
            [
             0.8888888888888888,
             "#fdca26"
            ],
            [
             1,
             "#f0f921"
            ]
           ],
           "sequentialminus": [
            [
             0,
             "#0d0887"
            ],
            [
             0.1111111111111111,
             "#46039f"
            ],
            [
             0.2222222222222222,
             "#7201a8"
            ],
            [
             0.3333333333333333,
             "#9c179e"
            ],
            [
             0.4444444444444444,
             "#bd3786"
            ],
            [
             0.5555555555555556,
             "#d8576b"
            ],
            [
             0.6666666666666666,
             "#ed7953"
            ],
            [
             0.7777777777777778,
             "#fb9f3a"
            ],
            [
             0.8888888888888888,
             "#fdca26"
            ],
            [
             1,
             "#f0f921"
            ]
           ]
          },
          "colorway": [
           "#636efa",
           "#EF553B",
           "#00cc96",
           "#ab63fa",
           "#FFA15A",
           "#19d3f3",
           "#FF6692",
           "#B6E880",
           "#FF97FF",
           "#FECB52"
          ],
          "font": {
           "color": "#2a3f5f"
          },
          "geo": {
           "bgcolor": "white",
           "lakecolor": "white",
           "landcolor": "#E5ECF6",
           "showlakes": true,
           "showland": true,
           "subunitcolor": "white"
          },
          "hoverlabel": {
           "align": "left"
          },
          "hovermode": "closest",
          "mapbox": {
           "style": "light"
          },
          "paper_bgcolor": "white",
          "plot_bgcolor": "#E5ECF6",
          "polar": {
           "angularaxis": {
            "gridcolor": "white",
            "linecolor": "white",
            "ticks": ""
           },
           "bgcolor": "#E5ECF6",
           "radialaxis": {
            "gridcolor": "white",
            "linecolor": "white",
            "ticks": ""
           }
          },
          "scene": {
           "xaxis": {
            "backgroundcolor": "#E5ECF6",
            "gridcolor": "white",
            "gridwidth": 2,
            "linecolor": "white",
            "showbackground": true,
            "ticks": "",
            "zerolinecolor": "white"
           },
           "yaxis": {
            "backgroundcolor": "#E5ECF6",
            "gridcolor": "white",
            "gridwidth": 2,
            "linecolor": "white",
            "showbackground": true,
            "ticks": "",
            "zerolinecolor": "white"
           },
           "zaxis": {
            "backgroundcolor": "#E5ECF6",
            "gridcolor": "white",
            "gridwidth": 2,
            "linecolor": "white",
            "showbackground": true,
            "ticks": "",
            "zerolinecolor": "white"
           }
          },
          "shapedefaults": {
           "line": {
            "color": "#2a3f5f"
           }
          },
          "ternary": {
           "aaxis": {
            "gridcolor": "white",
            "linecolor": "white",
            "ticks": ""
           },
           "baxis": {
            "gridcolor": "white",
            "linecolor": "white",
            "ticks": ""
           },
           "bgcolor": "#E5ECF6",
           "caxis": {
            "gridcolor": "white",
            "linecolor": "white",
            "ticks": ""
           }
          },
          "title": {
           "x": 0.05
          },
          "xaxis": {
           "automargin": true,
           "gridcolor": "white",
           "linecolor": "white",
           "ticks": "",
           "title": {
            "standoff": 15
           },
           "zerolinecolor": "white",
           "zerolinewidth": 2
          },
          "yaxis": {
           "automargin": true,
           "gridcolor": "white",
           "linecolor": "white",
           "ticks": "",
           "title": {
            "standoff": 15
           },
           "zerolinecolor": "white",
           "zerolinewidth": 2
          }
         }
        }
       }
      }
     },
     "metadata": {},
     "output_type": "display_data"
    }
   ],
   "source": [
    "xtilted_tracks[0].show()"
   ]
  },
  {
   "cell_type": "code",
   "execution_count": null,
   "metadata": {},
   "outputs": [
    {
     "name": "stderr",
     "output_type": "stream",
     "text": [
      "c:\\Users\\eliot\\mambaforge\\envs\\ecal-env\\Lib\\site-packages\\matplotlib\\axes\\_axes.py:6826: RuntimeWarning: All-NaN slice encountered\n",
      "  xmin = min(xmin, np.nanmin(xi))\n",
      "c:\\Users\\eliot\\mambaforge\\envs\\ecal-env\\Lib\\site-packages\\matplotlib\\axes\\_axes.py:6827: RuntimeWarning: All-NaN slice encountered\n",
      "  xmax = max(xmax, np.nanmax(xi))\n"
     ]
    },
    {
     "ename": "ValueError",
     "evalue": "autodetected range of [nan, nan] is not finite",
     "output_type": "error",
     "traceback": [
      "\u001b[1;31m---------------------------------------------------------------------------\u001b[0m",
      "\u001b[1;31mValueError\u001b[0m                                Traceback (most recent call last)",
      "\u001b[1;32mc:\\Users\\eliot\\EPFL\\TP4_ECAL\\Code\\ecal_reco\\time_alignement\\time_distribution.ipynb Cell 4\u001b[0m line \u001b[0;36m3\n\u001b[0;32m      <a href='vscode-notebook-cell:/c%3A/Users/eliot/EPFL/TP4_ECAL/Code/ecal_reco/time_alignement/time_distribution.ipynb#W3sZmlsZQ%3D%3D?line=0'>1</a>\u001b[0m \u001b[39m## Plot the histogram and gaussian fit ***************************************************\u001b[39;00m\n\u001b[0;32m      <a href='vscode-notebook-cell:/c%3A/Users/eliot/EPFL/TP4_ECAL/Code/ecal_reco/time_alignement/time_distribution.ipynb#W3sZmlsZQ%3D%3D?line=1'>2</a>\u001b[0m   \u001b[39m# Plot the histogram\u001b[39;00m\n\u001b[1;32m----> <a href='vscode-notebook-cell:/c%3A/Users/eliot/EPFL/TP4_ECAL/Code/ecal_reco/time_alignement/time_distribution.ipynb#W3sZmlsZQ%3D%3D?line=2'>3</a>\u001b[0m plt\u001b[39m.\u001b[39;49mhist(t_dist, bins\u001b[39m=\u001b[39;49m\u001b[39m25\u001b[39;49m, density\u001b[39m=\u001b[39;49m\u001b[39mTrue\u001b[39;49;00m, alpha\u001b[39m=\u001b[39;49m\u001b[39m0.6\u001b[39;49m, color\u001b[39m=\u001b[39;49m\u001b[39m'\u001b[39;49m\u001b[39mg\u001b[39;49m\u001b[39m'\u001b[39;49m)\n\u001b[0;32m      <a href='vscode-notebook-cell:/c%3A/Users/eliot/EPFL/TP4_ECAL/Code/ecal_reco/time_alignement/time_distribution.ipynb#W3sZmlsZQ%3D%3D?line=3'>4</a>\u001b[0m \u001b[39m# Plot the PDF.\u001b[39;00m\n\u001b[0;32m      <a href='vscode-notebook-cell:/c%3A/Users/eliot/EPFL/TP4_ECAL/Code/ecal_reco/time_alignement/time_distribution.ipynb#W3sZmlsZQ%3D%3D?line=4'>5</a>\u001b[0m xmin, xmax \u001b[39m=\u001b[39m plt\u001b[39m.\u001b[39mxlim()\n",
      "File \u001b[1;32mc:\\Users\\eliot\\mambaforge\\envs\\ecal-env\\Lib\\site-packages\\matplotlib\\pyplot.py:3224\u001b[0m, in \u001b[0;36mhist\u001b[1;34m(x, bins, range, density, weights, cumulative, bottom, histtype, align, orientation, rwidth, log, color, label, stacked, data, **kwargs)\u001b[0m\n\u001b[0;32m   3199\u001b[0m \u001b[39m@_copy_docstring_and_deprecators\u001b[39m(Axes\u001b[39m.\u001b[39mhist)\n\u001b[0;32m   3200\u001b[0m \u001b[39mdef\u001b[39;00m \u001b[39mhist\u001b[39m(\n\u001b[0;32m   3201\u001b[0m     x: ArrayLike \u001b[39m|\u001b[39m Sequence[ArrayLike],\n\u001b[1;32m   (...)\u001b[0m\n\u001b[0;32m   3222\u001b[0m     BarContainer \u001b[39m|\u001b[39m Polygon \u001b[39m|\u001b[39m \u001b[39mlist\u001b[39m[BarContainer \u001b[39m|\u001b[39m Polygon],\n\u001b[0;32m   3223\u001b[0m ]:\n\u001b[1;32m-> 3224\u001b[0m     \u001b[39mreturn\u001b[39;00m gca()\u001b[39m.\u001b[39;49mhist(\n\u001b[0;32m   3225\u001b[0m         x,\n\u001b[0;32m   3226\u001b[0m         bins\u001b[39m=\u001b[39;49mbins,\n\u001b[0;32m   3227\u001b[0m         \u001b[39mrange\u001b[39;49m\u001b[39m=\u001b[39;49m\u001b[39mrange\u001b[39;49m,\n\u001b[0;32m   3228\u001b[0m         density\u001b[39m=\u001b[39;49mdensity,\n\u001b[0;32m   3229\u001b[0m         weights\u001b[39m=\u001b[39;49mweights,\n\u001b[0;32m   3230\u001b[0m         cumulative\u001b[39m=\u001b[39;49mcumulative,\n\u001b[0;32m   3231\u001b[0m         bottom\u001b[39m=\u001b[39;49mbottom,\n\u001b[0;32m   3232\u001b[0m         histtype\u001b[39m=\u001b[39;49mhisttype,\n\u001b[0;32m   3233\u001b[0m         align\u001b[39m=\u001b[39;49malign,\n\u001b[0;32m   3234\u001b[0m         orientation\u001b[39m=\u001b[39;49morientation,\n\u001b[0;32m   3235\u001b[0m         rwidth\u001b[39m=\u001b[39;49mrwidth,\n\u001b[0;32m   3236\u001b[0m         log\u001b[39m=\u001b[39;49mlog,\n\u001b[0;32m   3237\u001b[0m         color\u001b[39m=\u001b[39;49mcolor,\n\u001b[0;32m   3238\u001b[0m         label\u001b[39m=\u001b[39;49mlabel,\n\u001b[0;32m   3239\u001b[0m         stacked\u001b[39m=\u001b[39;49mstacked,\n\u001b[0;32m   3240\u001b[0m         \u001b[39m*\u001b[39;49m\u001b[39m*\u001b[39;49m({\u001b[39m\"\u001b[39;49m\u001b[39mdata\u001b[39;49m\u001b[39m\"\u001b[39;49m: data} \u001b[39mif\u001b[39;49;00m data \u001b[39mis\u001b[39;49;00m \u001b[39mnot\u001b[39;49;00m \u001b[39mNone\u001b[39;49;00m \u001b[39melse\u001b[39;49;00m {}),\n\u001b[0;32m   3241\u001b[0m         \u001b[39m*\u001b[39;49m\u001b[39m*\u001b[39;49mkwargs,\n\u001b[0;32m   3242\u001b[0m     )\n",
      "File \u001b[1;32mc:\\Users\\eliot\\mambaforge\\envs\\ecal-env\\Lib\\site-packages\\matplotlib\\__init__.py:1465\u001b[0m, in \u001b[0;36m_preprocess_data.<locals>.inner\u001b[1;34m(ax, data, *args, **kwargs)\u001b[0m\n\u001b[0;32m   1462\u001b[0m \u001b[39m@functools\u001b[39m\u001b[39m.\u001b[39mwraps(func)\n\u001b[0;32m   1463\u001b[0m \u001b[39mdef\u001b[39;00m \u001b[39minner\u001b[39m(ax, \u001b[39m*\u001b[39margs, data\u001b[39m=\u001b[39m\u001b[39mNone\u001b[39;00m, \u001b[39m*\u001b[39m\u001b[39m*\u001b[39mkwargs):\n\u001b[0;32m   1464\u001b[0m     \u001b[39mif\u001b[39;00m data \u001b[39mis\u001b[39;00m \u001b[39mNone\u001b[39;00m:\n\u001b[1;32m-> 1465\u001b[0m         \u001b[39mreturn\u001b[39;00m func(ax, \u001b[39m*\u001b[39;49m\u001b[39mmap\u001b[39;49m(sanitize_sequence, args), \u001b[39m*\u001b[39;49m\u001b[39m*\u001b[39;49mkwargs)\n\u001b[0;32m   1467\u001b[0m     bound \u001b[39m=\u001b[39m new_sig\u001b[39m.\u001b[39mbind(ax, \u001b[39m*\u001b[39margs, \u001b[39m*\u001b[39m\u001b[39m*\u001b[39mkwargs)\n\u001b[0;32m   1468\u001b[0m     auto_label \u001b[39m=\u001b[39m (bound\u001b[39m.\u001b[39marguments\u001b[39m.\u001b[39mget(label_namer)\n\u001b[0;32m   1469\u001b[0m                   \u001b[39mor\u001b[39;00m bound\u001b[39m.\u001b[39mkwargs\u001b[39m.\u001b[39mget(label_namer))\n",
      "File \u001b[1;32mc:\\Users\\eliot\\mambaforge\\envs\\ecal-env\\Lib\\site-packages\\matplotlib\\axes\\_axes.py:6854\u001b[0m, in \u001b[0;36mAxes.hist\u001b[1;34m(self, x, bins, range, density, weights, cumulative, bottom, histtype, align, orientation, rwidth, log, color, label, stacked, **kwargs)\u001b[0m\n\u001b[0;32m   6850\u001b[0m \u001b[39m# Loop through datasets\u001b[39;00m\n\u001b[0;32m   6851\u001b[0m \u001b[39mfor\u001b[39;00m i \u001b[39min\u001b[39;00m \u001b[39mrange\u001b[39m(nx):\n\u001b[0;32m   6852\u001b[0m     \u001b[39m# this will automatically overwrite bins,\u001b[39;00m\n\u001b[0;32m   6853\u001b[0m     \u001b[39m# so that each histogram uses the same bins\u001b[39;00m\n\u001b[1;32m-> 6854\u001b[0m     m, bins \u001b[39m=\u001b[39m np\u001b[39m.\u001b[39;49mhistogram(x[i], bins, weights\u001b[39m=\u001b[39;49mw[i], \u001b[39m*\u001b[39;49m\u001b[39m*\u001b[39;49mhist_kwargs)\n\u001b[0;32m   6855\u001b[0m     tops\u001b[39m.\u001b[39mappend(m)\n\u001b[0;32m   6856\u001b[0m tops \u001b[39m=\u001b[39m np\u001b[39m.\u001b[39marray(tops, \u001b[39mfloat\u001b[39m)  \u001b[39m# causes problems later if it's an int\u001b[39;00m\n",
      "File \u001b[1;32mc:\\Users\\eliot\\mambaforge\\envs\\ecal-env\\Lib\\site-packages\\numpy\\lib\\histograms.py:780\u001b[0m, in \u001b[0;36mhistogram\u001b[1;34m(a, bins, range, density, weights)\u001b[0m\n\u001b[0;32m    680\u001b[0m \u001b[39m\u001b[39m\u001b[39mr\u001b[39m\u001b[39m\"\"\"\u001b[39;00m\n\u001b[0;32m    681\u001b[0m \u001b[39mCompute the histogram of a dataset.\u001b[39;00m\n\u001b[0;32m    682\u001b[0m \n\u001b[1;32m   (...)\u001b[0m\n\u001b[0;32m    776\u001b[0m \n\u001b[0;32m    777\u001b[0m \u001b[39m\"\"\"\u001b[39;00m\n\u001b[0;32m    778\u001b[0m a, weights \u001b[39m=\u001b[39m _ravel_and_check_weights(a, weights)\n\u001b[1;32m--> 780\u001b[0m bin_edges, uniform_bins \u001b[39m=\u001b[39m _get_bin_edges(a, bins, \u001b[39mrange\u001b[39;49m, weights)\n\u001b[0;32m    782\u001b[0m \u001b[39m# Histogram is an integer or a float array depending on the weights.\u001b[39;00m\n\u001b[0;32m    783\u001b[0m \u001b[39mif\u001b[39;00m weights \u001b[39mis\u001b[39;00m \u001b[39mNone\u001b[39;00m:\n",
      "File \u001b[1;32mc:\\Users\\eliot\\mambaforge\\envs\\ecal-env\\Lib\\site-packages\\numpy\\lib\\histograms.py:426\u001b[0m, in \u001b[0;36m_get_bin_edges\u001b[1;34m(a, bins, range, weights)\u001b[0m\n\u001b[0;32m    423\u001b[0m     \u001b[39mif\u001b[39;00m n_equal_bins \u001b[39m<\u001b[39m \u001b[39m1\u001b[39m:\n\u001b[0;32m    424\u001b[0m         \u001b[39mraise\u001b[39;00m \u001b[39mValueError\u001b[39;00m(\u001b[39m'\u001b[39m\u001b[39m`bins` must be positive, when an integer\u001b[39m\u001b[39m'\u001b[39m)\n\u001b[1;32m--> 426\u001b[0m     first_edge, last_edge \u001b[39m=\u001b[39m _get_outer_edges(a, \u001b[39mrange\u001b[39;49m)\n\u001b[0;32m    428\u001b[0m \u001b[39melif\u001b[39;00m np\u001b[39m.\u001b[39mndim(bins) \u001b[39m==\u001b[39m \u001b[39m1\u001b[39m:\n\u001b[0;32m    429\u001b[0m     bin_edges \u001b[39m=\u001b[39m np\u001b[39m.\u001b[39masarray(bins)\n",
      "File \u001b[1;32mc:\\Users\\eliot\\mambaforge\\envs\\ecal-env\\Lib\\site-packages\\numpy\\lib\\histograms.py:323\u001b[0m, in \u001b[0;36m_get_outer_edges\u001b[1;34m(a, range)\u001b[0m\n\u001b[0;32m    321\u001b[0m     first_edge, last_edge \u001b[39m=\u001b[39m a\u001b[39m.\u001b[39mmin(), a\u001b[39m.\u001b[39mmax()\n\u001b[0;32m    322\u001b[0m     \u001b[39mif\u001b[39;00m \u001b[39mnot\u001b[39;00m (np\u001b[39m.\u001b[39misfinite(first_edge) \u001b[39mand\u001b[39;00m np\u001b[39m.\u001b[39misfinite(last_edge)):\n\u001b[1;32m--> 323\u001b[0m         \u001b[39mraise\u001b[39;00m \u001b[39mValueError\u001b[39;00m(\n\u001b[0;32m    324\u001b[0m             \u001b[39m\"\u001b[39m\u001b[39mautodetected range of [\u001b[39m\u001b[39m{}\u001b[39;00m\u001b[39m, \u001b[39m\u001b[39m{}\u001b[39;00m\u001b[39m] is not finite\u001b[39m\u001b[39m\"\u001b[39m\u001b[39m.\u001b[39mformat(first_edge, last_edge))\n\u001b[0;32m    326\u001b[0m \u001b[39m# expand empty range to avoid divide by zero\u001b[39;00m\n\u001b[0;32m    327\u001b[0m \u001b[39mif\u001b[39;00m first_edge \u001b[39m==\u001b[39m last_edge:\n",
      "\u001b[1;31mValueError\u001b[0m: autodetected range of [nan, nan] is not finite"
     ]
    },
    {
     "data": {
      "image/png": "[encoded data removed]",
      "text/plain": [
       "<Figure size 640x480 with 1 Axes>"
      ]
     },
     "metadata": {},
     "output_type": "display_data"
    }
   ],
   "source": [
    "# for i in range(8) :  #iteration on the 8 x-layers\n",
    "#   for j in range(24) : # iteration on the 24 bars on each layers\n",
    "    ## Plot the histogram and gaussian fit ***************************************************\n",
    "      # Plot the histogram\n",
    "    plt.hist(t_dist, bins=25, density=True, alpha=0.6, color='g')\n",
    "    # Plot the PDF.\n",
    "    xmin, xmax = plt.xlim()\n",
    "    x = np.linspace(xmin, xmax, 100)\n",
    "    p = norm.pdf(x, mu, sigma[23][15] )\n",
    "    plt.plot(x, p, 'k', linewidth=2)\n",
    "    # title = \"Fit results: mu = %.2f,  std = %.2f\" % (mu, std)\n",
    "    # plt.title(title)\n",
    "\n",
    "    plt.show() \n",
    "          #******"
   ]
  }
 ],
 "metadata": {
  "kernelspec": {
   "display_name": "ecal-env",
   "language": "python",
   "name": "python3"
  },
  "language_info": {
   "codemirror_mode": {
    "name": "ipython",
    "version": 3
   },
   "file_extension": ".py",
   "mimetype": "text/x-python",
   "name": "python",
   "nbconvert_exporter": "python",
   "pygments_lexer": "ipython3",
   "version": "3.12.0"
  }
 },
 "nbformat": 4,
 "nbformat_minor": 2
}
