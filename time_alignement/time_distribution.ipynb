{
 "cells": [
  {
   "cell_type": "code",
   "execution_count": 1,
   "metadata": {},
   "outputs": [],
   "source": [
    "import sys\n",
    "import os \n",
    "import fnmatch\n",
    "\n",
    "import matplotlib as mpl\n",
    "import matplotlib.pyplot as plt\n",
    "from matplotlib import axes \n",
    "from scipy.optimize import curve_fit \n",
    "from scipy.stats import norm\n",
    "import numpy as np\n",
    "current_directory = os.getcwd()\n",
    "data_directory = current_directory+\"\\\\extracted_data\\\\\"\n",
    "import pandas as pd\n",
    "import uproot\n",
    "# import track_time_calibration as ttc\n",
    "from matplotlib import pyplot as plt\n",
    "sys.path.insert(1, r'C:\\Users\\Pascal\\Desktop\\TP4a\\git_final_final\\ecal_reco\\utils')\n",
    "sys.path.insert(1, r'C:\\Users\\Pascal\\Desktop\\TP4a\\git_final_final\\ecal_reco\\tracking')\n",
    "from track import Track\n",
    "from track3D import Track3D\n",
    "from hit import Hit\n",
    "from data_loading import *\n",
    "from parameters import *\n",
    "from tqdm import tqdm\n",
    "from track_reconstruction import plot_hits\n",
    "from physics import dist_line_rect\n",
    "import pickle\n",
    "from IPython import display\n",
    "from time_correction import *\n",
    "# from find_muon_decay import find_muon_decay\n",
    "import random\n",
    "from statistics import mean "
   ]
  },
  {
   "cell_type": "code",
   "execution_count": 2,
   "metadata": {},
   "outputs": [
    {
     "name": "stdout",
     "output_type": "stream",
     "text": [
      "C:\\Users\\Pascal\\Desktop\\TP4a\\data\\run_000011\\data_0000.root\n",
      "selected 74.91% of all events\n"
     ]
    }
   ],
   "source": [
    "# Create the tracks form the raw datas and the indices events selected previously with data_creation_time\n",
    "import copy\n",
    "\n",
    "run ='run_000011'\n",
    "data_storage = current_directory+\"\\\\extracted_data\\\\\"\n",
    "raw_data_directory = \"C:\\\\Users\\\\Pascal\\\\Desktop\\\\TP4a\\\\data\\\\\"\n",
    "df_hits_total, df_hits, og_len, new_len = load_run(raw_data_directory+run+\"\\\\\") #warning, the df_hits is a list of events, not of hits !\n",
    "good_candidates = np.loadtxt(data_storage+\"events_indices_\"+run+\".txt\") #load the indices of the events selected as good candidates\n",
    "\n",
    "#Now we will extract the hits of each events and create tracks for each of them\n",
    "\n",
    "%matplotlib inline\n",
    "tracks = []\n",
    "uncorrected_tracks = []\n",
    "fiber_corrected_tracks = []\n",
    "for i in range(len(good_candidates)) :\n",
    "    event = df_hits.loc[good_candidates[i]] #select the event i among the good candidates\n",
    "    next_event = df_hits_total.loc[good_candidates[i]+1]\n",
    "\n",
    "    hits = [Hit(event,j) for j in range(event['n_hits' ])] #create an array \"hits\" with the hits of the event i (iteration on j inside the event)\n",
    "    # print (hits)    \n",
    "    tempTrack = Track3D(hits) #creation of a track with the hits of the event i\n",
    "    uncorrected_tracks.append(copy.deepcopy(tempTrack))\n",
    "    fiber_corrected_tracks.append(copy.deepcopy(time_correction_fiber(tempTrack)))\n",
    "    tracks.append(time_correction_electronics(tempTrack)) # add the track i to the tracks array witg geomertical time correction\n",
    "    # print(track)"
   ]
  },
  {
   "cell_type": "code",
   "execution_count": 60,
   "metadata": {},
   "outputs": [
    {
     "name": "stdout",
     "output_type": "stream",
     "text": [
      "0.2855177490022156\n"
     ]
    }
   ],
   "source": [
    "import copy\n",
    "i_random = random.randint(0, len(good_candidates))\n",
    "event = df_hits.loc[good_candidates[i]] #select the event i among the good candidates\n",
    "hits = [Hit(event,j) for j in range(event['n_hits' ])] #create an array \"hits\" with the hits of the event i (iteration on j inside the event)\n",
    "    # print (hits)    \n",
    "\n",
    "uncorrected_track = Track3D(hits) #creation of a track with the hits of the event i\n",
    "test = tracks[0]\n",
    "#time_correction_fiber(test)\n",
    "print(uncorrected_tracks[0].x.hits[0].timestamp-test.x.hits[0].timestamp)\n",
    "\n",
    "\n",
    "\n"
   ]
  },
  {
   "cell_type": "code",
   "execution_count": 96,
   "metadata": {},
   "outputs": [],
   "source": [
    "with open('uncorrected_tracks_run11.pkl','wb') as file :\n",
    "    pickle.dump(uncorrected_tracks, file)\n",
    "with open('fiber_corrected_tracks_run11.pkl','wb') as file :\n",
    "    pickle.dump(fiber_corrected_tracks, file)\n",
    "with open('tracks_run11.pkl','wb') as file :\n",
    "    pickle.dump(tracks, file)\n",
    "with open('muXF.pkl','wb') as file :\n",
    "    pickle.dump(muXF, file)\n",
    "with open('muYF.pkl','wb') as file :\n",
    "    pickle.dump(muYF, file)"
   ]
  },
  {
   "cell_type": "code",
   "execution_count": 54,
   "metadata": {},
   "outputs": [],
   "source": [
    "countX = np.nan_to_num(np.ndarray(shape=(24,8), dtype=int), nan=0, posinf=0, neginf=0)*0\n",
    "muX = np.nan_to_num(np.ndarray(shape=(24,8), dtype=float), nan=0, posinf=0, neginf=0)*0\n",
    "muXF = np.nan_to_num(np.ndarray(shape=(24,8), dtype=float), nan=0, posinf=0, neginf=0)*0\n",
    "sigmaX = np.nan_to_num(np.ndarray(shape=(24,8), dtype=float), nan=0, posinf=0, neginf=0)*0\n",
    "\n",
    "countY = np.nan_to_num(np.ndarray(shape=(24,8), dtype=int), nan=0, posinf=0, neginf=0)*0\n",
    "muY = np.nan_to_num(np.ndarray(shape=(24,8), dtype=float), nan=0, posinf=0, neginf=0)*0\n",
    "muYF = np.nan_to_num(np.ndarray(shape=(24,8), dtype=float), nan=0, posinf=0, neginf=0)*0\n",
    "sigmaY = np.nan_to_num(np.ndarray(shape=(24,8), dtype=float), nan=0, posinf=0, neginf=0)*0\n",
    "\n",
    "iterations = 3\n",
    "\n",
    "for it in range(iterations):\n",
    "    for i in range(24):\n",
    "        for j in range(8):\n",
    "            time = []\n",
    "            for t in tracks:\n",
    "                for hx in t.x.hits:\n",
    "                    if hx.coord[0]-1 == i and hx.coord[1]-1 == j: # if its the ith jth bar in x\n",
    "                        countX[i][j] += 1\n",
    "                        tbar = hx.timestamp\n",
    "                        for hxp in t.x.hits:\n",
    "                            if(not(hxp.coord[0]-1 == i and hxp.coord[1]-1 == j and hxp.is_sidex)):\n",
    "                                time.append(hxp.timestamp-tbar-muXF[i][j]-muXF[hxp.coord[0]-1][hxp.coord[1]-1])\n",
    "            muX[i][j], sigmaX[i][j] = norm.fit(time)\n",
    "            time = []\n",
    "            for t in tracks:\n",
    "                for hy in t.y.hits:\n",
    "                    if hy.coord[0]-1 == i and hy.coord[1]-1 == j: # if its the ith jth bar in x\n",
    "                        countY[i][j] += 1\n",
    "                        tbar = hy.timestamp\n",
    "                        for hyp in t.y.hits:\n",
    "                            if(not(hyp.coord[0]-1 == i and hyp.coord[1]-1 == j and not(hyp.is_sidex))):\n",
    "                                time.append(hyp.timestamp-tbar-muYF[i][j]-muYF[hyp.coord[0]-1][hyp.coord[1]-1])\n",
    "            muY[i][j], sigmaY[i][j] = norm.fit(time)\n",
    "muXF = muXF + muX\n",
    "muYF = muYF + muY"
   ]
  },
  {
   "cell_type": "code",
   "execution_count": 95,
   "metadata": {},
   "outputs": [
    {
     "name": "stdout",
     "output_type": "stream",
     "text": [
      "15 5\n"
     ]
    },
    {
     "data": {
      "image/png": "[encoded data removed]",
      "text/plain": [
       "<Figure size 640x480 with 1 Axes>"
      ]
     },
     "metadata": {},
     "output_type": "display_data"
    }
   ],
   "source": [
    "i = random.randint(0,23)\n",
    "j = random.randint(0,7)\n",
    "time = []\n",
    "\n",
    "time = []\n",
    "for t in uncorrected_tracks:\n",
    "    for hx in t.x.hits:\n",
    "        if hx.coord[0]-1 == i and hx.coord[1]-1 == j: # if its the ith jth bar in x\n",
    "            countX[i][j] += 1\n",
    "            tbar = hx.timestamp\n",
    "            for hxp in t.x.hits:\n",
    "                if(not(hxp.coord[0]-1 == i and hxp.coord[1]-1 == j and hxp.is_sidex)):\n",
    "                    time.append(hxp.timestamp-tbar)\n",
    "muX[i][j], sigmaX[i][j] = norm.fit(time)\n",
    "\n",
    "plt.figure()\n",
    "plt.hist(time, bins=100, density=True, alpha=0.6, color='g', histtype='step')\n",
    "xmin, xmax = plt.xlim()\n",
    "x = np.linspace(xmin, xmax, 100)\n",
    "smu, ssigma = norm.fit(time)\n",
    "p = norm.pdf(x, smu, ssigma )\n",
    "plt.plot(x, p, 'k', linewidth=2)\n",
    "plt.title(\"Uncorrected\")\n",
    "plt.grid()\n",
    "\n",
    "for t in fiber_corrected_tracks:\n",
    "    for hx in t.x.hits:\n",
    "        if hx.coord[0]-1 == i and hx.coord[1]-1 == j: # if its the ith jth bar in x\n",
    "            countX[i][j] += 1\n",
    "            tbar = hx.timestamp\n",
    "            for hxp in t.x.hits:\n",
    "                if(not(hxp.coord[0]-1 == i and hxp.coord[1]-1 == j and hxp.is_sidex)):\n",
    "                    time.append(hxp.timestamp-tbar)\n",
    "muX[i][j], sigmaX[i][j] = norm.fit(time)\n",
    "\n",
    "plt.hist(time, bins=100, density=True, alpha=0.6, color='r', histtype='step')\n",
    "xmin, xmax = plt.xlim()\n",
    "x = np.linspace(xmin, xmax, 100)\n",
    "smu, ssigma = norm.fit(time)\n",
    "p = norm.pdf(x, smu, ssigma )\n",
    "plt.plot(x, p, 'k', linewidth=2)\n",
    "plt.title(\"Fiber corrected\")\n",
    "plt.grid()\n",
    "\n",
    "\n",
    "\n",
    "\n",
    "print(i,j)\n"
   ]
  },
  {
   "cell_type": "code",
   "execution_count": 82,
   "metadata": {},
   "outputs": [
    {
     "data": {
      "image/png": "[encoded data removed]",
      "text/plain": [
       "<Figure size 640x480 with 1 Axes>"
      ]
     },
     "metadata": {},
     "output_type": "display_data"
    }
   ],
   "source": [
    "tracknumber = random.randint(0,len(tracks))\n",
    "stamps = []\n",
    "uncorrstamps = []\n",
    "fiberstamps = []\n",
    "corrstamps = []\n",
    "heights = []\n",
    "for h in uncorrected_tracks[tracknumber].x.hits + uncorrected_tracks[tracknumber].y.hits:\n",
    "    uncorrstamps.append(h.timestamp)\n",
    "    heights.append(h.get_pos()[1])\n",
    "for h in fiber_corrected_tracks[tracknumber].x.hits + fiber_corrected_tracks[tracknumber].y.hits:\n",
    "    fiberstamps.append(h.timestamp)\n",
    "for h in tracks[tracknumber].x.hits + tracks[tracknumber].y.hits:\n",
    "    if h.is_sidex:\n",
    "        stamps.append(h.timestamp - muXF[h.coord[0]-1][h.coord[1]-1])\n",
    "        corrstamps.append(h.timestamp)\n",
    "    else:\n",
    "        stamps.append(h.timestamp - muYF[h.coord[0]-1][h.coord[1]-1])\n",
    "        corrstamps.append(h.timestamp)\n",
    "\n",
    "plt.figure()\n",
    "plt.plot(heights, uncorrstamps, \"k+\")\n",
    "plt.plot(heights,fiberstamps,\"r+\")\n",
    "plt.plot(heights,corrstamps, 'g+')\n",
    "plt.plot(heights,stamps, 'y+')\n",
    "plt.legend([\"Uncorrected\", \"Fiber correted\", \"Fiber and eletro corrected\", \"Fully corrected\"])\n",
    "plt.grid()"
   ]
  },
  {
   "cell_type": "code",
   "execution_count": 91,
   "metadata": {},
   "outputs": [
    {
     "data": {
      "application/vnd.plotly.v1+json": {
       "config": {
        "plotlyServerURL": "https://plot.ly"
       },
       "data": [
        {
         "line": {
          "color": "black",
          "width": 5
         },
         "mode": "lines",
         "type": "scatter3d",
         "x": [
          -0.40500000000000824,
          -0.3781292517006886,
          -0.35125850340136894,
          -0.3243877551020493,
          -0.29751700680272963,
          -0.27064625850341,
          -0.24377551020409036,
          -0.2169047619047707,
          -0.19003401360545105,
          -0.1631632653061314,
          -0.13629251700681178,
          -0.10942176870749215,
          -0.08255102040817247,
          -0.055680272108852846,
          -0.028809523809533166,
          -0.0019387755102135418,
          0.024931972789106138,
          0.05180272108842582,
          0.07867346938774544,
          0.10554421768706512,
          0.1324149659863847,
          0.15928571428570437,
          0.18615646258502394,
          0.21302721088434362,
          0.2398979591836633,
          0.2667687074829831,
          0.29363945578230255,
          0.32051020408162223,
          0.3473809523809419,
          0.3742517006802616,
          0.40112244897958116,
          0.42799319727890084,
          0.4548639455782205,
          0.4817346938775402,
          0.5086054421768599,
          0.5354761904761794,
          0.5623469387754991,
          0.5892176870748188,
          0.6160884353741385,
          0.6429591836734581,
          0.6698299319727776,
          0.6967006802720974,
          0.723571428571417,
          0.7504421768707368,
          0.7773129251700561,
          0.8041836734693759,
          0.8310544217686955,
          0.8579251700680153,
          0.8847959183673348,
          0.9116666666666546
         ],
         "y": [
          0.7986805555555776,
          0.7985671768707703,
          0.798453798185963,
          0.7983404195011555,
          0.7982270408163482,
          0.7981136621315409,
          0.7980002834467336,
          0.7978869047619261,
          0.7977735260771188,
          0.7976601473923115,
          0.7975467687075042,
          0.7974333900226968,
          0.7973200113378894,
          0.7972066326530821,
          0.7970932539682748,
          0.7969798752834674,
          0.79686649659866,
          0.7967531179138527,
          0.7966397392290454,
          0.796526360544238,
          0.7964129818594307,
          0.7962996031746233,
          0.796186224489816,
          0.7960728458050086,
          0.7959594671202013,
          0.795846088435394,
          0.7957327097505866,
          0.7956193310657792,
          0.7955059523809719,
          0.7953925736961646,
          0.7952791950113572,
          0.7951658163265498,
          0.7950524376417425,
          0.7949390589569352,
          0.7948256802721279,
          0.7947123015873204,
          0.7945989229025131,
          0.7944855442177058,
          0.7943721655328985,
          0.794258786848091,
          0.7941454081632837,
          0.7940320294784764,
          0.7939186507936691,
          0.7938052721088616,
          0.7936918934240543,
          0.793578514739247,
          0.7934651360544397,
          0.7933517573696323,
          0.7932383786848249,
          0.7931250000000176
         ],
         "z": [
          0,
          0.32653061224489793,
          0.6530612244897959,
          0.9795918367346939,
          1.3061224489795917,
          1.6326530612244896,
          1.9591836734693877,
          2.2857142857142856,
          2.6122448979591835,
          2.9387755102040813,
          3.265306122448979,
          3.591836734693877,
          3.9183673469387754,
          4.244897959183673,
          4.571428571428571,
          4.897959183673469,
          5.224489795918367,
          5.551020408163265,
          5.877551020408163,
          6.204081632653061,
          6.530612244897958,
          6.857142857142857,
          7.183673469387754,
          7.5102040816326525,
          7.836734693877551,
          8.16326530612245,
          8.489795918367346,
          8.816326530612244,
          9.142857142857142,
          9.46938775510204,
          9.795918367346937,
          10.122448979591836,
          10.448979591836734,
          10.775510204081632,
          11.10204081632653,
          11.428571428571427,
          11.755102040816325,
          12.081632653061224,
          12.408163265306122,
          12.734693877551019,
          13.061224489795917,
          13.387755102040815,
          13.714285714285714,
          14.040816326530612,
          14.367346938775508,
          14.693877551020407,
          15.020408163265305,
          15.346938775510203,
          15.673469387755102,
          16
         ]
        },
        {
         "marker": {
          "color": "blue",
          "size": 1
         },
         "mode": "lines",
         "type": "scatter3d",
         "x": [
          0.8,
          0.8
         ],
         "y": [
          0,
          38.4
         ],
         "z": [
          14.200000000000001,
          14.200000000000001
         ]
        },
        {
         "marker": {
          "color": "blue",
          "size": 1
         },
         "mode": "lines",
         "type": "scatter3d",
         "x": [
          0.8,
          0.8
         ],
         "y": [
          0,
          38.4
         ],
         "z": [
          12.200000000000001,
          12.200000000000001
         ]
        },
        {
         "marker": {
          "color": "blue",
          "size": 1
         },
         "mode": "lines",
         "type": "scatter3d",
         "x": [
          0.8,
          0.8
         ],
         "y": [
          0,
          38.4
         ],
         "z": [
          10.2,
          10.2
         ]
        },
        {
         "marker": {
          "color": "red",
          "size": 1
         },
         "mode": "lines",
         "type": "scatter3d",
         "x": [
          0,
          38.4
         ],
         "y": [
          0.8,
          0.8
         ],
         "z": [
          15.200000000000001,
          15.200000000000001
         ]
        },
        {
         "marker": {
          "color": "red",
          "size": 1
         },
         "mode": "lines",
         "type": "scatter3d",
         "x": [
          0,
          38.4
         ],
         "y": [
          0.8,
          0.8
         ],
         "z": [
          13.200000000000001,
          13.200000000000001
         ]
        },
        {
         "marker": {
          "color": "red",
          "size": 1
         },
         "mode": "lines",
         "type": "scatter3d",
         "x": [
          0,
          38.4
         ],
         "y": [
          0.8,
          0.8
         ],
         "z": [
          11.2,
          11.2
         ]
        }
       ],
       "layout": {
        "scene": {
         "aspectmode": "cube",
         "xaxis": {
          "range": [
           0,
           38.4
          ],
          "title": {
           "text": "X [cm]"
          }
         },
         "yaxis": {
          "range": [
           0,
           38.4
          ],
          "title": {
           "text": "Y [cm]"
          }
         },
         "zaxis": {
          "range": [
           0,
           16
          ],
          "title": {
           "text": "Z [cm]"
          }
         }
        },
        "template": {
         "data": {
          "bar": [
           {
            "error_x": {
             "color": "#2a3f5f"
            },
            "error_y": {
             "color": "#2a3f5f"
            },
            "marker": {
             "line": {
              "color": "#E5ECF6",
              "width": 0.5
             },
             "pattern": {
              "fillmode": "overlay",
              "size": 10,
              "solidity": 0.2
             }
            },
            "type": "bar"
           }
          ],
          "barpolar": [
           {
            "marker": {
             "line": {
              "color": "#E5ECF6",
              "width": 0.5
             },
             "pattern": {
              "fillmode": "overlay",
              "size": 10,
              "solidity": 0.2
             }
            },
            "type": "barpolar"
           }
          ],
          "carpet": [
           {
            "aaxis": {
             "endlinecolor": "#2a3f5f",
             "gridcolor": "white",
             "linecolor": "white",
             "minorgridcolor": "white",
             "startlinecolor": "#2a3f5f"
            },
            "baxis": {
             "endlinecolor": "#2a3f5f",
             "gridcolor": "white",
             "linecolor": "white",
             "minorgridcolor": "white",
             "startlinecolor": "#2a3f5f"
            },
            "type": "carpet"
           }
          ],
          "choropleth": [
           {
            "colorbar": {
             "outlinewidth": 0,
             "ticks": ""
            },
            "type": "choropleth"
           }
          ],
          "contour": [
           {
            "colorbar": {
             "outlinewidth": 0,
             "ticks": ""
            },
            "colorscale": [
             [
              0,
              "#0d0887"
             ],
             [
              0.1111111111111111,
              "#46039f"
             ],
             [
              0.2222222222222222,
              "#7201a8"
             ],
             [
              0.3333333333333333,
              "#9c179e"
             ],
             [
              0.4444444444444444,
              "#bd3786"
             ],
             [
              0.5555555555555556,
              "#d8576b"
             ],
             [
              0.6666666666666666,
              "#ed7953"
             ],
             [
              0.7777777777777778,
              "#fb9f3a"
             ],
             [
              0.8888888888888888,
              "#fdca26"
             ],
             [
              1,
              "#f0f921"
             ]
            ],
            "type": "contour"
           }
          ],
          "contourcarpet": [
           {
            "colorbar": {
             "outlinewidth": 0,
             "ticks": ""
            },
            "type": "contourcarpet"
           }
          ],
          "heatmap": [
           {
            "colorbar": {
             "outlinewidth": 0,
             "ticks": ""
            },
            "colorscale": [
             [
              0,
              "#0d0887"
             ],
             [
              0.1111111111111111,
              "#46039f"
             ],
             [
              0.2222222222222222,
              "#7201a8"
             ],
             [
              0.3333333333333333,
              "#9c179e"
             ],
             [
              0.4444444444444444,
              "#bd3786"
             ],
             [
              0.5555555555555556,
              "#d8576b"
             ],
             [
              0.6666666666666666,
              "#ed7953"
             ],
             [
              0.7777777777777778,
              "#fb9f3a"
             ],
             [
              0.8888888888888888,
              "#fdca26"
             ],
             [
              1,
              "#f0f921"
             ]
            ],
            "type": "heatmap"
           }
          ],
          "heatmapgl": [
           {
            "colorbar": {
             "outlinewidth": 0,
             "ticks": ""
            },
            "colorscale": [
             [
              0,
              "#0d0887"
             ],
             [
              0.1111111111111111,
              "#46039f"
             ],
             [
              0.2222222222222222,
              "#7201a8"
             ],
             [
              0.3333333333333333,
              "#9c179e"
             ],
             [
              0.4444444444444444,
              "#bd3786"
             ],
             [
              0.5555555555555556,
              "#d8576b"
             ],
             [
              0.6666666666666666,
              "#ed7953"
             ],
             [
              0.7777777777777778,
              "#fb9f3a"
             ],
             [
              0.8888888888888888,
              "#fdca26"
             ],
             [
              1,
              "#f0f921"
             ]
            ],
            "type": "heatmapgl"
           }
          ],
          "histogram": [
           {
            "marker": {
             "pattern": {
              "fillmode": "overlay",
              "size": 10,
              "solidity": 0.2
             }
            },
            "type": "histogram"
           }
          ],
          "histogram2d": [
           {
            "colorbar": {
             "outlinewidth": 0,
             "ticks": ""
            },
            "colorscale": [
             [
              0,
              "#0d0887"
             ],
             [
              0.1111111111111111,
              "#46039f"
             ],
             [
              0.2222222222222222,
              "#7201a8"
             ],
             [
              0.3333333333333333,
              "#9c179e"
             ],
             [
              0.4444444444444444,
              "#bd3786"
             ],
             [
              0.5555555555555556,
              "#d8576b"
             ],
             [
              0.6666666666666666,
              "#ed7953"
             ],
             [
              0.7777777777777778,
              "#fb9f3a"
             ],
             [
              0.8888888888888888,
              "#fdca26"
             ],
             [
              1,
              "#f0f921"
             ]
            ],
            "type": "histogram2d"
           }
          ],
          "histogram2dcontour": [
           {
            "colorbar": {
             "outlinewidth": 0,
             "ticks": ""
            },
            "colorscale": [
             [
              0,
              "#0d0887"
             ],
             [
              0.1111111111111111,
              "#46039f"
             ],
             [
              0.2222222222222222,
              "#7201a8"
             ],
             [
              0.3333333333333333,
              "#9c179e"
             ],
             [
              0.4444444444444444,
              "#bd3786"
             ],
             [
              0.5555555555555556,
              "#d8576b"
             ],
             [
              0.6666666666666666,
              "#ed7953"
             ],
             [
              0.7777777777777778,
              "#fb9f3a"
             ],
             [
              0.8888888888888888,
              "#fdca26"
             ],
             [
              1,
              "#f0f921"
             ]
            ],
            "type": "histogram2dcontour"
           }
          ],
          "mesh3d": [
           {
            "colorbar": {
             "outlinewidth": 0,
             "ticks": ""
            },
            "type": "mesh3d"
           }
          ],
          "parcoords": [
           {
            "line": {
             "colorbar": {
              "outlinewidth": 0,
              "ticks": ""
             }
            },
            "type": "parcoords"
           }
          ],
          "pie": [
           {
            "automargin": true,
            "type": "pie"
           }
          ],
          "scatter": [
           {
            "fillpattern": {
             "fillmode": "overlay",
             "size": 10,
             "solidity": 0.2
            },
            "type": "scatter"
           }
          ],
          "scatter3d": [
           {
            "line": {
             "colorbar": {
              "outlinewidth": 0,
              "ticks": ""
             }
            },
            "marker": {
             "colorbar": {
              "outlinewidth": 0,
              "ticks": ""
             }
            },
            "type": "scatter3d"
           }
          ],
          "scattercarpet": [
           {
            "marker": {
             "colorbar": {
              "outlinewidth": 0,
              "ticks": ""
             }
            },
            "type": "scattercarpet"
           }
          ],
          "scattergeo": [
           {
            "marker": {
             "colorbar": {
              "outlinewidth": 0,
              "ticks": ""
             }
            },
            "type": "scattergeo"
           }
          ],
          "scattergl": [
           {
            "marker": {
             "colorbar": {
              "outlinewidth": 0,
              "ticks": ""
             }
            },
            "type": "scattergl"
           }
          ],
          "scattermapbox": [
           {
            "marker": {
             "colorbar": {
              "outlinewidth": 0,
              "ticks": ""
             }
            },
            "type": "scattermapbox"
           }
          ],
          "scatterpolar": [
           {
            "marker": {
             "colorbar": {
              "outlinewidth": 0,
              "ticks": ""
             }
            },
            "type": "scatterpolar"
           }
          ],
          "scatterpolargl": [
           {
            "marker": {
             "colorbar": {
              "outlinewidth": 0,
              "ticks": ""
             }
            },
            "type": "scatterpolargl"
           }
          ],
          "scatterternary": [
           {
            "marker": {
             "colorbar": {
              "outlinewidth": 0,
              "ticks": ""
             }
            },
            "type": "scatterternary"
           }
          ],
          "surface": [
           {
            "colorbar": {
             "outlinewidth": 0,
             "ticks": ""
            },
            "colorscale": [
             [
              0,
              "#0d0887"
             ],
             [
              0.1111111111111111,
              "#46039f"
             ],
             [
              0.2222222222222222,
              "#7201a8"
             ],
             [
              0.3333333333333333,
              "#9c179e"
             ],
             [
              0.4444444444444444,
              "#bd3786"
             ],
             [
              0.5555555555555556,
              "#d8576b"
             ],
             [
              0.6666666666666666,
              "#ed7953"
             ],
             [
              0.7777777777777778,
              "#fb9f3a"
             ],
             [
              0.8888888888888888,
              "#fdca26"
             ],
             [
              1,
              "#f0f921"
             ]
            ],
            "type": "surface"
           }
          ],
          "table": [
           {
            "cells": {
             "fill": {
              "color": "#EBF0F8"
             },
             "line": {
              "color": "white"
             }
            },
            "header": {
             "fill": {
              "color": "#C8D4E3"
             },
             "line": {
              "color": "white"
             }
            },
            "type": "table"
           }
          ]
         },
         "layout": {
          "annotationdefaults": {
           "arrowcolor": "#2a3f5f",
           "arrowhead": 0,
           "arrowwidth": 1
          },
          "autotypenumbers": "strict",
          "coloraxis": {
           "colorbar": {
            "outlinewidth": 0,
            "ticks": ""
           }
          },
          "colorscale": {
           "diverging": [
            [
             0,
             "#8e0152"
            ],
            [
             0.1,
             "#c51b7d"
            ],
            [
             0.2,
             "#de77ae"
            ],
            [
             0.3,
             "#f1b6da"
            ],
            [
             0.4,
             "#fde0ef"
            ],
            [
             0.5,
             "#f7f7f7"
            ],
            [
             0.6,
             "#e6f5d0"
            ],
            [
             0.7,
             "#b8e186"
            ],
            [
             0.8,
             "#7fbc41"
            ],
            [
             0.9,
             "#4d9221"
            ],
            [
             1,
             "#276419"
            ]
           ],
           "sequential": [
            [
             0,
             "#0d0887"
            ],
            [
             0.1111111111111111,
             "#46039f"
            ],
            [
             0.2222222222222222,
             "#7201a8"
            ],
            [
             0.3333333333333333,
             "#9c179e"
            ],
            [
             0.4444444444444444,
             "#bd3786"
            ],
            [
             0.5555555555555556,
             "#d8576b"
            ],
            [
             0.6666666666666666,
             "#ed7953"
            ],
            [
             0.7777777777777778,
             "#fb9f3a"
            ],
            [
             0.8888888888888888,
             "#fdca26"
            ],
            [
             1,
             "#f0f921"
            ]
           ],
           "sequentialminus": [
            [
             0,
             "#0d0887"
            ],
            [
             0.1111111111111111,
             "#46039f"
            ],
            [
             0.2222222222222222,
             "#7201a8"
            ],
            [
             0.3333333333333333,
             "#9c179e"
            ],
            [
             0.4444444444444444,
             "#bd3786"
            ],
            [
             0.5555555555555556,
             "#d8576b"
            ],
            [
             0.6666666666666666,
             "#ed7953"
            ],
            [
             0.7777777777777778,
             "#fb9f3a"
            ],
            [
             0.8888888888888888,
             "#fdca26"
            ],
            [
             1,
             "#f0f921"
            ]
           ]
          },
          "colorway": [
           "#636efa",
           "#EF553B",
           "#00cc96",
           "#ab63fa",
           "#FFA15A",
           "#19d3f3",
           "#FF6692",
           "#B6E880",
           "#FF97FF",
           "#FECB52"
          ],
          "font": {
           "color": "#2a3f5f"
          },
          "geo": {
           "bgcolor": "white",
           "lakecolor": "white",
           "landcolor": "#E5ECF6",
           "showlakes": true,
           "showland": true,
           "subunitcolor": "white"
          },
          "hoverlabel": {
           "align": "left"
          },
          "hovermode": "closest",
          "mapbox": {
           "style": "light"
          },
          "paper_bgcolor": "white",
          "plot_bgcolor": "#E5ECF6",
          "polar": {
           "angularaxis": {
            "gridcolor": "white",
            "linecolor": "white",
            "ticks": ""
           },
           "bgcolor": "#E5ECF6",
           "radialaxis": {
            "gridcolor": "white",
            "linecolor": "white",
            "ticks": ""
           }
          },
          "scene": {
           "xaxis": {
            "backgroundcolor": "#E5ECF6",
            "gridcolor": "white",
            "gridwidth": 2,
            "linecolor": "white",
            "showbackground": true,
            "ticks": "",
            "zerolinecolor": "white"
           },
           "yaxis": {
            "backgroundcolor": "#E5ECF6",
            "gridcolor": "white",
            "gridwidth": 2,
            "linecolor": "white",
            "showbackground": true,
            "ticks": "",
            "zerolinecolor": "white"
           },
           "zaxis": {
            "backgroundcolor": "#E5ECF6",
            "gridcolor": "white",
            "gridwidth": 2,
            "linecolor": "white",
            "showbackground": true,
            "ticks": "",
            "zerolinecolor": "white"
           }
          },
          "shapedefaults": {
           "line": {
            "color": "#2a3f5f"
           }
          },
          "ternary": {
           "aaxis": {
            "gridcolor": "white",
            "linecolor": "white",
            "ticks": ""
           },
           "baxis": {
            "gridcolor": "white",
            "linecolor": "white",
            "ticks": ""
           },
           "bgcolor": "#E5ECF6",
           "caxis": {
            "gridcolor": "white",
            "linecolor": "white",
            "ticks": ""
           }
          },
          "title": {
           "x": 0.05
          },
          "xaxis": {
           "automargin": true,
           "gridcolor": "white",
           "linecolor": "white",
           "ticks": "",
           "title": {
            "standoff": 15
           },
           "zerolinecolor": "white",
           "zerolinewidth": 2
          },
          "yaxis": {
           "automargin": true,
           "gridcolor": "white",
           "linecolor": "white",
           "ticks": "",
           "title": {
            "standoff": 15
           },
           "zerolinecolor": "white",
           "zerolinewidth": 2
          }
         }
        }
       }
      }
     },
     "metadata": {},
     "output_type": "display_data"
    },
    {
     "name": "stdout",
     "output_type": "stream",
     "text": [
      "timestamp x1 after correction = -0.013495806077766242\n",
      "timestamp x2 after correction = -0.022442973788854535\n",
      "timestamp y after correction = -0.008462962962963155\n"
     ]
    }
   ],
   "source": [
    "from track import Track\n",
    "from time_correction import*\n",
    "Hx=[]\n",
    "Hy=[]\n",
    "for number_hits in range(8):\n",
    "    Hx.append(Hit([number_hits,8-number_hits],1,0,1000,0.0))#(coord, is_sidex, timestamp, timestamp_event, value)\n",
    "    Hy.append(Hit([number_hits,8-number_hits],0,0,1000,0.0))\n",
    "Tx = Track(Hx)\n",
    "Ty = Track(Hy)\n",
    "T = Track3D(Tx,Ty)\n",
    "T.show()\n",
    "\n",
    "T_fiber_corrected = copy.deepcopy(T)\n",
    "T_electronic_corrected = copy.deepcopy(T)\n",
    "time_correction_fiber(T_fiber_corrected)\n",
    "time_correction_electronics(T_electronic_corrected)\n",
    "\n",
    "# recover the corrected stamps\n",
    "heights = []\n",
    "s_nocorr = []\n",
    "s_ecorr = []\n",
    "s_fibcorr = []\n",
    "\n",
    "for h in T.x.hits + T.y.hits:\n",
    "    heights.append(h.get_pos()[1])\n",
    "    s_nocorr.append(h.timestamp)\n",
    "for h in T_fiber_corrected.x.hits + T_fiber_corrected.y.hits:\n",
    "    s_fibcorr.append(h.timestamp)\n",
    "for h in T_electronic_corrected.x.hits + T_electronic_corrected.y.hits:\n",
    "    s_ecorr.append(h.timestamp)\n",
    "\n",
    "plt.figure()\n",
    "plt.plot(heights,s_nocorr,'ko')\n",
    "plt.plot(heights,s_ecorr, 'r+')\n",
    "plt.plot(heights,s_fibcorr,'gx')\n",
    "plt.grid()\n",
    "plt.xlabel(\"Height [cm]\")\n",
    "plt.ylabel(\"Timestamp [cs]\")\n",
    "plt.legend([\"No correction\",\"Electronics corrected\",\"Fiber corrected\"])\n"
   ]
  }
 ],
 "metadata": {
  "kernelspec": {
   "display_name": "ecal-env",
   "language": "python",
   "name": "python3"
  },
  "language_info": {
   "codemirror_mode": {
    "name": "ipython",
    "version": 3
   },
   "file_extension": ".py",
   "mimetype": "text/x-python",
   "name": "python",
   "nbconvert_exporter": "python",
   "pygments_lexer": "ipython3",
   "version": "3.11.5"
  }
 },
 "nbformat": 4,
 "nbformat_minor": 2
}
