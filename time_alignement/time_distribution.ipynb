{
 "cells": [
  {
   "cell_type": "code",
   "execution_count": 2,
   "metadata": {},
   "outputs": [
    {
     "name": "stdout",
     "output_type": "stream",
     "text": [
      "selected 75.80% of all events\n"
     ]
    }
   ],
   "source": [
    "\n",
    "import sys\n",
    "import os \n",
    "import fnmatch\n",
    "\n",
    "import matplotlib as mpl\n",
    "import matplotlib.pyplot as plt\n",
    "from matplotlib import axes \n",
    "from scipy.optimize import curve_fit \n",
    "from scipy.stats import norm\n",
    "import numpy as np\n",
    "current_directory = os.getcwd()\n",
    "data_directory = current_directory+\"\\\\extracted_data\\\\\"\n",
    "import pandas as pd\n",
    "import uproot\n",
    "# import track_time_calibration as ttc\n",
    "from matplotlib import pyplot as plt\n",
    "sys.path.insert(1, r'C:\\Users\\eliot\\EPFL\\TP4_ECAL\\Code\\ecal_reco\\utils')\n",
    "sys.path.insert(1, r'C:\\Users\\eliot\\EPFL\\TP4_ECAL\\Code\\ecal_reco\\tracking')\n",
    "from track import Track\n",
    "from track3D import Track3D\n",
    "from hit import Hit\n",
    "from data_loading import *\n",
    "from parameters import *\n",
    "from tqdm import tqdm\n",
    "from track_reconstruction import plot_hits\n",
    "from physics import dist_line_rect\n",
    "import pickle\n",
    "from IPython import display\n",
    "from time_correction import time_correction\n",
    "# from find_muon_decay import find_muon_decay\n",
    "from statistics import mean "
   ]
  },
  {
   "cell_type": "code",
   "execution_count": 3,
   "metadata": {},
   "outputs": [
    {
     "name": "stdout",
     "output_type": "stream",
     "text": [
      "C:\\Users\\eliot\\EPFL\\TP4_ECAL\\raw_data\\run_000007\\data_0000.root\n",
      "selected 74.62% of all events\n"
     ]
    }
   ],
   "source": [
    "run ='run_000007'\n",
    "data_storage = current_directory+\"\\\\extracted_data\\\\\"\n",
    "raw_data_directory = \"C:\\\\Users\\\\eliot\\\\EPFL\\\\TP4_ECAL\\\\raw_data\\\\\"\n",
    "df_hits_total, df_hits, og_len, new_len = load_run(raw_data_directory+run+\"\\\\\") #warning, the df_hits is a list of events, not of hits !\n",
    "good_candidates = np.loadtxt(data_storage+\"events_indices_\"+run+\".txt\") #load the indices of the events selected as good candidates\n",
    "\n",
    "#Now we will extract the hits of each events and create tracks for each of them\n",
    "\n",
    "%matplotlib inline\n",
    "tracks = []\n",
    "for i in range(len(good_candidates)) :\n",
    "    event = df_hits.loc[good_candidates[i]] #select the event i among the good candidates\n",
    "    next_event = df_hits_total.loc[good_candidates[i]+1]\n",
    "\n",
    "    hits = [Hit(event,j) for j in range(event['n_hits' ])] #create an array \"hits\" with the hits of the event i (iteration on j inside the event)\n",
    "    # print (hits)    \n",
    "    Track = Track3D(hits) #creation of a track with the hits of the event i\n",
    "    tracks.append(time_correction(Track)) # add the track i to the tracks array witg geomertical time correction\n",
    "    # print(track)"
   ]
  },
  {
   "cell_type": "code",
   "execution_count": 4,
   "metadata": {},
   "outputs": [],
   "source": [
    "#TEST CHECK\n",
    "# observe the timestamps corrected\n",
    "\n",
    "time_check = [None]*len(tracks)\n",
    "for t in range(len(tracks)) :\n",
    "    time_check[t]=[]\n",
    "    for i in range(len(tracks[t].x.hits)):\n",
    "        time_check[t].append(tracks[t].x.hits[i].timestamp)\n",
    "    for j in range(len(tracks[t].y.hits)):\n",
    "        time_check[t].append(tracks[t].y.hits[i].timestamp)"
   ]
  },
  {
   "cell_type": "code",
   "execution_count": 11,
   "metadata": {},
   "outputs": [
    {
     "name": "stdout",
     "output_type": "stream",
     "text": [
      "10243\n",
      "1_variance = 0.4127808970905714\n",
      "1_sigma = 0.27598253584201204\n",
      "2_variance = 0.5745777930291349\n",
      "2_sigma = 0.2827052325938338\n",
      "3_variance = 0.7632546882877058\n",
      "3_sigma = 0.28824649917708245\n",
      "4_variance = 0.972662577139618\n",
      "4_sigma = 0.2924935114594733\n",
      "5_variance = 1.2007563460148682\n",
      "5_sigma = 0.29569877545313694\n",
      "6_variance = 1.4471992707538437\n",
      "6_sigma = 0.29815599540277976\n"
     ]
    }
   ],
   "source": [
    "# # Computation of offsets and time resolution \n",
    "\n",
    "\n",
    "# rows = 16\n",
    "# rows1D = 8\n",
    "# cols = 24\n",
    " \n",
    "# x_offset = [[0 for _ in range(cols)] for _ in range(rows1D)] # 8x24 matrix\n",
    "# y_offset = [[0 for _ in range(cols)] for _ in range(rows1D)] # 8x24 matrix\n",
    "\n",
    "\n",
    "# len_tracks = len(tracks)\n",
    "# print(len_tracks)\n",
    "\n",
    "# moy = True #paramter tu choose if an averyage is done on the timestamps of each track or not\n",
    "\n",
    "\n",
    "# for k in [1,2,3,4,5,6]: #number of iteration of the whole process\n",
    "\n",
    "#     variance = [None]*len_tracks\n",
    "#     sigma = [[0 for _ in range(cols)] for _ in range(rows)] # 16x24 matrix\n",
    "#     number_check = [[0 for _ in range(cols)] for _ in range(rows)] # 16x24 matrix to check the number of tracks concernes by each bars\n",
    "\n",
    "#     # for the x layers first : **************************************************\n",
    "\n",
    "#     for i in range(8) :  #itaration on the 8 x-layers\n",
    "#         for j in range(24) : # iteration on the 24 bars on each layers\n",
    "#             mu =[]\n",
    "#             t_dist=[]\n",
    "#             for t in range(len_tracks) : #iteration on all the tracks selected\n",
    "\n",
    "#                 if tracks[t].x.hits[i].coord[0]-1==j : #does the track goes through the j bar ?\n",
    "#                     # print(tracks[t].x.hits[i].coord[0])\n",
    "#                     number_check[i][j] += 1\n",
    "#                     t_track = [] #initialisation of the array with timestamp of other bars where the track goes through\n",
    "\n",
    "#                     t_bar =  tracks[t].x.hits[i].timestamp - x_offset[i][j] #initialisation of timestamp of bar i (xbar)\n",
    "                    \n",
    "#                     # for z in (range(len(tracks[t].x.hits))) : #iteration on the 7 other x-layers \n",
    "#                     for z in (range(8)) : #iteration on the 7 other x-layers \n",
    "#                         if z != i : #we exclude the i layer\n",
    "#                             coordj = tracks[t].x.hits[z].coord[0]-1 #coordinate x where the track goes through on the z layer\n",
    "#                             t_track.append(tracks[t].x.hits[z].timestamp - x_offset[z][coordj]) \n",
    "#                     for z in (range(8)) :  #iteration on the 8 other y-layers\n",
    "#                             coordj = tracks[t].y.hits[z].coord[0]-1 #coordinate y where the track goes through on the z layer\n",
    "#                             t_track.append(tracks[t].y.hits[z].timestamp - y_offset[z][coordj])\n",
    "                        \n",
    "                  \n",
    "#                     t_track_tot, variance[t] = norm.fit(t_track) #variable variance help to follow the convergence of the algorythm\n",
    "#                     if moy : \n",
    "#                         t_track_av=mean(t_track)\n",
    "#                         t_dist.append(t_track_av - t_bar)\n",
    "#                     else :\n",
    "#                          for l in range(len(t_track)):\n",
    "#                             t_dist.append(t_track[l-t_bar])\n",
    "                \n",
    "                \n",
    "\n",
    "#             mu, sigma[i][j] = norm.fit(t_dist)\n",
    "            \n",
    "\n",
    "#             x_offset[i][j]= mu\n",
    "\n",
    "#     # **************************************************************************************************************\n",
    "\n",
    "#     # for the y layers now :\n",
    "\n",
    "#     for i in range(8) :  #itaration on the 8 x-layers\n",
    "#             for j in range(24) : # iteration on the 24 bars on each layers\n",
    "#                 mu =[]\n",
    "#                 t_dist=[]\n",
    "#                 for t in range(len_tracks) : #iteration on all the tracks selected\n",
    "\n",
    "#                     if tracks[t].y.hits[i].coord[0]-1==j : #does the track goes through the j bar ?\n",
    "#                         number_check[i+8][j] += 1\n",
    "\n",
    "#                         t_track = [] #initialisation of the array with timestamp of other bars where the track goes through\n",
    "\n",
    "#                         t_bar =  tracks[t].y.hits[i].timestamp - y_offset[i][j] #initialisation of timestamp of bar i (xbar)\n",
    "                        \n",
    "#                         for z in (range(8)) : #iteration on the 7 other y-layers \n",
    "#                             if z != i : #we exclude the i layer\n",
    "#                                 coordj = tracks[t].y.hits[z].coord[0]-1 #coordinate y where the track goes through on the z layer\n",
    "#                                 t_track.append(tracks[t].y.hits[z].timestamp - y_offset[z][coordj]) \n",
    "#                         for z in range(8) :  #iteration on the 8 other x-layers\n",
    "#                                 coordj = tracks[t].x.hits[z].coord[0]-1 #coordinate x where the track goes through on the z layer\n",
    "#                                 t_track.append(tracks[t].x.hits[z].timestamp -x_offset[z][coordj]) \n",
    "                            \n",
    "#                         t_track_tot, variance[t] = norm.fit(t_track) #variable variance help to follow the convergence of the algorythm\n",
    "\n",
    "#                         if moy :\n",
    "#                             t_track_av=mean(t_track)\n",
    "#                             t_dist.append(t_track_av - t_bar)\n",
    "#                         else :\n",
    "#                             for l in range(len(t_track)):\n",
    "#                                  t_dist.append(t_track[l-t_bar])\n",
    "\n",
    "#                 mu, sigma[i+8][j] = norm.fit(t_dist)\n",
    "                \n",
    "\n",
    "#                 y_offset[i][j]= mu\n",
    "\n",
    "#             # *************************************************************************************************************\n",
    "\n",
    "#     # computation of variance of the algorithm for each process iteration k\n",
    "\n",
    "#     variance_tot = mean(variance)\n",
    "#     print(str(k)+\"_variance = \" +str(variance_tot))\n",
    "#     sigma_temp = [None]*8\n",
    "#     for i in range(8) :\n",
    "#         sigma_temp[i] = mean(sigma[0:23][i])\n",
    "#     sigma_tot = mean(sigma_temp)\n",
    "#     print(str(k)+\"_sigma = \"+str(sigma_tot))\n",
    "#     # print(x_offset)\n",
    "#     # print(y_offset)\n",
    "\n",
    "   \n",
    "\n"
   ]
  },
  {
   "cell_type": "code",
   "execution_count": 13,
   "metadata": {},
   "outputs": [
    {
     "data": {
      "image/png": "[encoded data removed]",
      "text/plain": [
       "<Figure size 640x480 with 1 Axes>"
      ]
     },
     "metadata": {},
     "output_type": "display_data"
    }
   ],
   "source": [
    "## Plot the histogram and gaussian fit ***************************************************\n",
    "# Plot the histogram\n",
    "plt.hist(t_dist, bins=25, density=True, alpha=0.6, color='g')\n",
    "# # Plot the PDF.\n",
    "xmin, xmax = plt.xlim()\n",
    "x = np.linspace(xmin, xmax, 100)\n",
    "p = norm.pdf(x, mu, sigma[i][j] )\n",
    "plt.plot(x, p, 'k', linewidth=2)\n",
    "# # title = \"Fit results: mu = %.2f,  std = %.2f\" % (mu, std)\n",
    "# # plt.title(title)\n",
    "\n",
    "plt.show() "
   ]
  },
  {
   "cell_type": "code",
   "execution_count": 36,
   "metadata": {},
   "outputs": [
    {
     "name": "stderr",
     "output_type": "stream",
     "text": [
      "c:\\Users\\eliot\\mambaforge\\envs\\ecal-env\\Lib\\site-packages\\matplotlib\\axes\\_axes.py:6826: RuntimeWarning: All-NaN slice encountered\n",
      "  xmin = min(xmin, np.nanmin(xi))\n",
      "c:\\Users\\eliot\\mambaforge\\envs\\ecal-env\\Lib\\site-packages\\matplotlib\\axes\\_axes.py:6827: RuntimeWarning: All-NaN slice encountered\n",
      "  xmax = max(xmax, np.nanmax(xi))\n"
     ]
    },
    {
     "ename": "ValueError",
     "evalue": "autodetected range of [nan, nan] is not finite",
     "output_type": "error",
     "traceback": [
      "\u001b[1;31m---------------------------------------------------------------------------\u001b[0m",
      "\u001b[1;31mValueError\u001b[0m                                Traceback (most recent call last)",
      "\u001b[1;32mc:\\Users\\eliot\\EPFL\\TP4_ECAL\\Code\\ecal_reco\\time_alignement\\time_distribution.ipynb Cell 4\u001b[0m line \u001b[0;36m3\n\u001b[0;32m      <a href='vscode-notebook-cell:/c%3A/Users/eliot/EPFL/TP4_ECAL/Code/ecal_reco/time_alignement/time_distribution.ipynb#W3sZmlsZQ%3D%3D?line=0'>1</a>\u001b[0m \u001b[39m## Plot the histogram and gaussian fit ***************************************************\u001b[39;00m\n\u001b[0;32m      <a href='vscode-notebook-cell:/c%3A/Users/eliot/EPFL/TP4_ECAL/Code/ecal_reco/time_alignement/time_distribution.ipynb#W3sZmlsZQ%3D%3D?line=1'>2</a>\u001b[0m   \u001b[39m# Plot the histogram\u001b[39;00m\n\u001b[1;32m----> <a href='vscode-notebook-cell:/c%3A/Users/eliot/EPFL/TP4_ECAL/Code/ecal_reco/time_alignement/time_distribution.ipynb#W3sZmlsZQ%3D%3D?line=2'>3</a>\u001b[0m plt\u001b[39m.\u001b[39;49mhist(t_dist, bins\u001b[39m=\u001b[39;49m\u001b[39m25\u001b[39;49m, density\u001b[39m=\u001b[39;49m\u001b[39mTrue\u001b[39;49;00m, alpha\u001b[39m=\u001b[39;49m\u001b[39m0.6\u001b[39;49m, color\u001b[39m=\u001b[39;49m\u001b[39m'\u001b[39;49m\u001b[39mg\u001b[39;49m\u001b[39m'\u001b[39;49m)\n\u001b[0;32m      <a href='vscode-notebook-cell:/c%3A/Users/eliot/EPFL/TP4_ECAL/Code/ecal_reco/time_alignement/time_distribution.ipynb#W3sZmlsZQ%3D%3D?line=3'>4</a>\u001b[0m \u001b[39m# Plot the PDF.\u001b[39;00m\n\u001b[0;32m      <a href='vscode-notebook-cell:/c%3A/Users/eliot/EPFL/TP4_ECAL/Code/ecal_reco/time_alignement/time_distribution.ipynb#W3sZmlsZQ%3D%3D?line=4'>5</a>\u001b[0m xmin, xmax \u001b[39m=\u001b[39m plt\u001b[39m.\u001b[39mxlim()\n",
      "File \u001b[1;32mc:\\Users\\eliot\\mambaforge\\envs\\ecal-env\\Lib\\site-packages\\matplotlib\\pyplot.py:3224\u001b[0m, in \u001b[0;36mhist\u001b[1;34m(x, bins, range, density, weights, cumulative, bottom, histtype, align, orientation, rwidth, log, color, label, stacked, data, **kwargs)\u001b[0m\n\u001b[0;32m   3199\u001b[0m \u001b[39m@_copy_docstring_and_deprecators\u001b[39m(Axes\u001b[39m.\u001b[39mhist)\n\u001b[0;32m   3200\u001b[0m \u001b[39mdef\u001b[39;00m \u001b[39mhist\u001b[39m(\n\u001b[0;32m   3201\u001b[0m     x: ArrayLike \u001b[39m|\u001b[39m Sequence[ArrayLike],\n\u001b[1;32m   (...)\u001b[0m\n\u001b[0;32m   3222\u001b[0m     BarContainer \u001b[39m|\u001b[39m Polygon \u001b[39m|\u001b[39m \u001b[39mlist\u001b[39m[BarContainer \u001b[39m|\u001b[39m Polygon],\n\u001b[0;32m   3223\u001b[0m ]:\n\u001b[1;32m-> 3224\u001b[0m     \u001b[39mreturn\u001b[39;00m gca()\u001b[39m.\u001b[39;49mhist(\n\u001b[0;32m   3225\u001b[0m         x,\n\u001b[0;32m   3226\u001b[0m         bins\u001b[39m=\u001b[39;49mbins,\n\u001b[0;32m   3227\u001b[0m         \u001b[39mrange\u001b[39;49m\u001b[39m=\u001b[39;49m\u001b[39mrange\u001b[39;49m,\n\u001b[0;32m   3228\u001b[0m         density\u001b[39m=\u001b[39;49mdensity,\n\u001b[0;32m   3229\u001b[0m         weights\u001b[39m=\u001b[39;49mweights,\n\u001b[0;32m   3230\u001b[0m         cumulative\u001b[39m=\u001b[39;49mcumulative,\n\u001b[0;32m   3231\u001b[0m         bottom\u001b[39m=\u001b[39;49mbottom,\n\u001b[0;32m   3232\u001b[0m         histtype\u001b[39m=\u001b[39;49mhisttype,\n\u001b[0;32m   3233\u001b[0m         align\u001b[39m=\u001b[39;49malign,\n\u001b[0;32m   3234\u001b[0m         orientation\u001b[39m=\u001b[39;49morientation,\n\u001b[0;32m   3235\u001b[0m         rwidth\u001b[39m=\u001b[39;49mrwidth,\n\u001b[0;32m   3236\u001b[0m         log\u001b[39m=\u001b[39;49mlog,\n\u001b[0;32m   3237\u001b[0m         color\u001b[39m=\u001b[39;49mcolor,\n\u001b[0;32m   3238\u001b[0m         label\u001b[39m=\u001b[39;49mlabel,\n\u001b[0;32m   3239\u001b[0m         stacked\u001b[39m=\u001b[39;49mstacked,\n\u001b[0;32m   3240\u001b[0m         \u001b[39m*\u001b[39;49m\u001b[39m*\u001b[39;49m({\u001b[39m\"\u001b[39;49m\u001b[39mdata\u001b[39;49m\u001b[39m\"\u001b[39;49m: data} \u001b[39mif\u001b[39;49;00m data \u001b[39mis\u001b[39;49;00m \u001b[39mnot\u001b[39;49;00m \u001b[39mNone\u001b[39;49;00m \u001b[39melse\u001b[39;49;00m {}),\n\u001b[0;32m   3241\u001b[0m         \u001b[39m*\u001b[39;49m\u001b[39m*\u001b[39;49mkwargs,\n\u001b[0;32m   3242\u001b[0m     )\n",
      "File \u001b[1;32mc:\\Users\\eliot\\mambaforge\\envs\\ecal-env\\Lib\\site-packages\\matplotlib\\__init__.py:1465\u001b[0m, in \u001b[0;36m_preprocess_data.<locals>.inner\u001b[1;34m(ax, data, *args, **kwargs)\u001b[0m\n\u001b[0;32m   1462\u001b[0m \u001b[39m@functools\u001b[39m\u001b[39m.\u001b[39mwraps(func)\n\u001b[0;32m   1463\u001b[0m \u001b[39mdef\u001b[39;00m \u001b[39minner\u001b[39m(ax, \u001b[39m*\u001b[39margs, data\u001b[39m=\u001b[39m\u001b[39mNone\u001b[39;00m, \u001b[39m*\u001b[39m\u001b[39m*\u001b[39mkwargs):\n\u001b[0;32m   1464\u001b[0m     \u001b[39mif\u001b[39;00m data \u001b[39mis\u001b[39;00m \u001b[39mNone\u001b[39;00m:\n\u001b[1;32m-> 1465\u001b[0m         \u001b[39mreturn\u001b[39;00m func(ax, \u001b[39m*\u001b[39;49m\u001b[39mmap\u001b[39;49m(sanitize_sequence, args), \u001b[39m*\u001b[39;49m\u001b[39m*\u001b[39;49mkwargs)\n\u001b[0;32m   1467\u001b[0m     bound \u001b[39m=\u001b[39m new_sig\u001b[39m.\u001b[39mbind(ax, \u001b[39m*\u001b[39margs, \u001b[39m*\u001b[39m\u001b[39m*\u001b[39mkwargs)\n\u001b[0;32m   1468\u001b[0m     auto_label \u001b[39m=\u001b[39m (bound\u001b[39m.\u001b[39marguments\u001b[39m.\u001b[39mget(label_namer)\n\u001b[0;32m   1469\u001b[0m                   \u001b[39mor\u001b[39;00m bound\u001b[39m.\u001b[39mkwargs\u001b[39m.\u001b[39mget(label_namer))\n",
      "File \u001b[1;32mc:\\Users\\eliot\\mambaforge\\envs\\ecal-env\\Lib\\site-packages\\matplotlib\\axes\\_axes.py:6854\u001b[0m, in \u001b[0;36mAxes.hist\u001b[1;34m(self, x, bins, range, density, weights, cumulative, bottom, histtype, align, orientation, rwidth, log, color, label, stacked, **kwargs)\u001b[0m\n\u001b[0;32m   6850\u001b[0m \u001b[39m# Loop through datasets\u001b[39;00m\n\u001b[0;32m   6851\u001b[0m \u001b[39mfor\u001b[39;00m i \u001b[39min\u001b[39;00m \u001b[39mrange\u001b[39m(nx):\n\u001b[0;32m   6852\u001b[0m     \u001b[39m# this will automatically overwrite bins,\u001b[39;00m\n\u001b[0;32m   6853\u001b[0m     \u001b[39m# so that each histogram uses the same bins\u001b[39;00m\n\u001b[1;32m-> 6854\u001b[0m     m, bins \u001b[39m=\u001b[39m np\u001b[39m.\u001b[39;49mhistogram(x[i], bins, weights\u001b[39m=\u001b[39;49mw[i], \u001b[39m*\u001b[39;49m\u001b[39m*\u001b[39;49mhist_kwargs)\n\u001b[0;32m   6855\u001b[0m     tops\u001b[39m.\u001b[39mappend(m)\n\u001b[0;32m   6856\u001b[0m tops \u001b[39m=\u001b[39m np\u001b[39m.\u001b[39marray(tops, \u001b[39mfloat\u001b[39m)  \u001b[39m# causes problems later if it's an int\u001b[39;00m\n",
      "File \u001b[1;32mc:\\Users\\eliot\\mambaforge\\envs\\ecal-env\\Lib\\site-packages\\numpy\\lib\\histograms.py:780\u001b[0m, in \u001b[0;36mhistogram\u001b[1;34m(a, bins, range, density, weights)\u001b[0m\n\u001b[0;32m    680\u001b[0m \u001b[39m\u001b[39m\u001b[39mr\u001b[39m\u001b[39m\"\"\"\u001b[39;00m\n\u001b[0;32m    681\u001b[0m \u001b[39mCompute the histogram of a dataset.\u001b[39;00m\n\u001b[0;32m    682\u001b[0m \n\u001b[1;32m   (...)\u001b[0m\n\u001b[0;32m    776\u001b[0m \n\u001b[0;32m    777\u001b[0m \u001b[39m\"\"\"\u001b[39;00m\n\u001b[0;32m    778\u001b[0m a, weights \u001b[39m=\u001b[39m _ravel_and_check_weights(a, weights)\n\u001b[1;32m--> 780\u001b[0m bin_edges, uniform_bins \u001b[39m=\u001b[39m _get_bin_edges(a, bins, \u001b[39mrange\u001b[39;49m, weights)\n\u001b[0;32m    782\u001b[0m \u001b[39m# Histogram is an integer or a float array depending on the weights.\u001b[39;00m\n\u001b[0;32m    783\u001b[0m \u001b[39mif\u001b[39;00m weights \u001b[39mis\u001b[39;00m \u001b[39mNone\u001b[39;00m:\n",
      "File \u001b[1;32mc:\\Users\\eliot\\mambaforge\\envs\\ecal-env\\Lib\\site-packages\\numpy\\lib\\histograms.py:426\u001b[0m, in \u001b[0;36m_get_bin_edges\u001b[1;34m(a, bins, range, weights)\u001b[0m\n\u001b[0;32m    423\u001b[0m     \u001b[39mif\u001b[39;00m n_equal_bins \u001b[39m<\u001b[39m \u001b[39m1\u001b[39m:\n\u001b[0;32m    424\u001b[0m         \u001b[39mraise\u001b[39;00m \u001b[39mValueError\u001b[39;00m(\u001b[39m'\u001b[39m\u001b[39m`bins` must be positive, when an integer\u001b[39m\u001b[39m'\u001b[39m)\n\u001b[1;32m--> 426\u001b[0m     first_edge, last_edge \u001b[39m=\u001b[39m _get_outer_edges(a, \u001b[39mrange\u001b[39;49m)\n\u001b[0;32m    428\u001b[0m \u001b[39melif\u001b[39;00m np\u001b[39m.\u001b[39mndim(bins) \u001b[39m==\u001b[39m \u001b[39m1\u001b[39m:\n\u001b[0;32m    429\u001b[0m     bin_edges \u001b[39m=\u001b[39m np\u001b[39m.\u001b[39masarray(bins)\n",
      "File \u001b[1;32mc:\\Users\\eliot\\mambaforge\\envs\\ecal-env\\Lib\\site-packages\\numpy\\lib\\histograms.py:323\u001b[0m, in \u001b[0;36m_get_outer_edges\u001b[1;34m(a, range)\u001b[0m\n\u001b[0;32m    321\u001b[0m     first_edge, last_edge \u001b[39m=\u001b[39m a\u001b[39m.\u001b[39mmin(), a\u001b[39m.\u001b[39mmax()\n\u001b[0;32m    322\u001b[0m     \u001b[39mif\u001b[39;00m \u001b[39mnot\u001b[39;00m (np\u001b[39m.\u001b[39misfinite(first_edge) \u001b[39mand\u001b[39;00m np\u001b[39m.\u001b[39misfinite(last_edge)):\n\u001b[1;32m--> 323\u001b[0m         \u001b[39mraise\u001b[39;00m \u001b[39mValueError\u001b[39;00m(\n\u001b[0;32m    324\u001b[0m             \u001b[39m\"\u001b[39m\u001b[39mautodetected range of [\u001b[39m\u001b[39m{}\u001b[39;00m\u001b[39m, \u001b[39m\u001b[39m{}\u001b[39;00m\u001b[39m] is not finite\u001b[39m\u001b[39m\"\u001b[39m\u001b[39m.\u001b[39mformat(first_edge, last_edge))\n\u001b[0;32m    326\u001b[0m \u001b[39m# expand empty range to avoid divide by zero\u001b[39;00m\n\u001b[0;32m    327\u001b[0m \u001b[39mif\u001b[39;00m first_edge \u001b[39m==\u001b[39m last_edge:\n",
      "\u001b[1;31mValueError\u001b[0m: autodetected range of [nan, nan] is not finite"
     ]
    },
    {
     "data": {
      "image/png": "[encoded data removed]",
      "text/plain": [
       "<Figure size 640x480 with 1 Axes>"
      ]
     },
     "metadata": {},
     "output_type": "display_data"
    }
   ],
   "source": [
    "# for i in range(8) :  #itaration on the 8 x-layers\n",
    "#   for j in range(24) : # iteration on the 24 bars on each layers\n",
    "    ## Plot the histogram and gaussian fit ***************************************************\n",
    "      # Plot the histogram\n",
    "    plt.hist(t_dist, bins=25, density=True, alpha=0.6, color='g')\n",
    "    # Plot the PDF.\n",
    "    xmin, xmax = plt.xlim()\n",
    "    x = np.linspace(xmin, xmax, 100)\n",
    "    p = norm.pdf(x, mu, sigma[23][15] )\n",
    "    plt.plot(x, p, 'k', linewidth=2)\n",
    "    # title = \"Fit results: mu = %.2f,  std = %.2f\" % (mu, std)\n",
    "    # plt.title(title)\n",
    "\n",
    "    plt.show() \n",
    "          #******"
   ]
  }
 ],
 "metadata": {
  "kernelspec": {
   "display_name": "ecal-env",
   "language": "python",
   "name": "python3"
  },
  "language_info": {
   "codemirror_mode": {
    "name": "ipython",
    "version": 3
   },
   "file_extension": ".py",
   "mimetype": "text/x-python",
   "name": "python",
   "nbconvert_exporter": "python",
   "pygments_lexer": "ipython3",
   "version": "3.12.0"
  }
 },
 "nbformat": 4,
 "nbformat_minor": 2
}
