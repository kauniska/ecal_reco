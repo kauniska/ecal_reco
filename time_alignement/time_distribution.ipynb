{
 "cells": [
  {
   "cell_type": "code",
   "execution_count": 1,
   "metadata": {},
<<<<<<< HEAD
   "outputs": [
    {
     "name": "stdout",
     "output_type": "stream",
     "text": [
      "selected 75.80% of all events\n"
     ]
    }
   ],
   "source": [
    "import sys\n",
    "import os \n",
    "import fnmatch\n",
    "\n",
    "import matplotlib as mpl\n",
    "import matplotlib.pyplot as plt\n",
    "from matplotlib import axes \n",
    "from scipy.optimize import curve_fit \n",
    "from scipy.stats import norm\n",
    "import numpy as np\n",
    "current_directory = os.getcwd()\n",
    "data_directory = current_directory+\"\\\\extracted_data\\\\\"\n",
    "import pandas as pd\n",
    "import uproot\n",
    "# import track_time_calibration as ttc\n",
    "from matplotlib import pyplot as plt\n",
    "sys.path.insert(1, r'C:\\Users\\eliot\\EPFL\\TP4_ECAL\\Code\\ecal_reco\\utils')\n",
    "sys.path.insert(1, r'C:\\Users\\eliot\\EPFL\\TP4_ECAL\\Code\\ecal_reco\\tracking')\n",
=======
   "outputs": [],
   "source": [
    "import pandas as pd\n",
    "import uproot\n",
    "#import uproot3\n",
    "import numpy as np\n",
    "# import track_time_calibration as ttc\n",
    "from matplotlib import pyplot as plt\n",
    "import sys\n",
    "import os \n",
    "import fnmatch\n",
    "sys.path.insert(1, 'C:\\\\Users\\\\Pascal\\\\Desktop\\\\TP4a\\\\git_final_final\\\\ecal_reco\\\\utils')\n",
    "sys.path.insert(1, 'C:\\\\Users\\\\Pascal\\\\Desktop\\\\TP4a\\\\git_final_final\\\\ecal_reco\\\\tracking')\n",
    "sys.path.insert(1, 'C:\\\\Users\\\\Pascal\\\\Desktop\\\\TP4a\\\\git_final_final\\\\ecal_reco\\\\time_alignement')\n",
>>>>>>> d32bfcda9adbbedc194d2349dee3960d5aeaadbf
    "from track import Track\n",
    "from track3D import Track3D\n",
    "from hit import Hit\n",
    "from data_loading import *\n",
    "from parameters import *\n",
    "from tqdm import tqdm\n",
    "from track_reconstruction import plot_hits\n",
    "from physics import dist_line_rect\n",
    "import pickle\n",
    "from IPython import display\n",
<<<<<<< HEAD
    "from time_correction import time_correction\n",
    "# from find_muon_decay import find_muon_decay\n",
    "from statistics import mean "
=======
    "from find_muon_track import *\n",
    "from find_muon_decay_kim import *\n",
    "from time_correction import *\n",
    "\n"
>>>>>>> d32bfcda9adbbedc194d2349dee3960d5aeaadbf
   ]
  },
  {
   "cell_type": "code",
   "execution_count": 2,
   "metadata": {},
   "outputs": [
    {
     "name": "stdout",
     "output_type": "stream",
     "text": [
<<<<<<< HEAD
      "C:\\Users\\eliot\\EPFL\\TP4_ECAL\\raw_data\\run_000011\\data_0000.root\n",
=======
      "C:\\Users\\Pascal\\Desktop\\TP4a\\data\\run_000011\\data_0000.root\n",
>>>>>>> d32bfcda9adbbedc194d2349dee3960d5aeaadbf
      "selected 74.91% of all events\n"
     ]
    }
   ],
   "source": [
<<<<<<< HEAD
    "# Create the tracks form the raw datas and the indices events selected previously with data_creation_time\n",
    "\n",
    "run ='run_000011'\n",
    "data_storage = current_directory+\"\\\\extracted_data\\\\\"\n",
    "raw_data_directory = \"C:\\\\Users\\\\eliot\\\\EPFL\\\\TP4_ECAL\\\\raw_data\\\\\"\n",
    "df_hits_total, df_hits, og_len, new_len = load_run(raw_data_directory+run+\"\\\\\") #warning, the df_hits is a list of events, not of hits !\n",
    "good_candidates = np.loadtxt(data_storage+\"events_indices_\"+run+\".txt\") #load the indices of the events selected as good candidates\n",
    "\n",
    "#Now we will extract the hits of each events and create tracks for each of them\n",
    "\n",
    "%matplotlib inline\n",
    "tracks = []\n",
    "for i in range(len(good_candidates)) :\n",
    "    event = df_hits.loc[good_candidates[i]] #select the event i among the good candidates\n",
    "    next_event = df_hits_total.loc[good_candidates[i]+1]\n",
    "\n",
    "    hits = [Hit(event,j) for j in range(event['n_hits' ])] #create an array \"hits\" with the hits of the event i (iteration on j inside the event)\n",
    "    # print (hits)    \n",
    "    Track = Track3D(hits) #creation of a track with the hits of the event i\n",
    "    tracks.append(time_correction(Track)) # add the track i to the tracks array witg geomertical time correction\n",
    "    # print(track)"
=======
    "run ='run_000011'\n",
    "current_directory = os.getcwd()\n",
    "data_storage = current_directory+\"\\\\extracted_data\\\\\"\n",
    "raw_data_directory = \"C:\\\\Users\\\\Pascal\\\\Desktop\\\\TP4a\\\\data\\\\\"\n",
    "df_hits_total, df_hits, og_len, new_len = load_run(raw_data_directory+run+\"\\\\\")\n",
    "good_candidates = np.loadtxt(data_storage+\"events_indices_\"+run+\".txt\")\n",
    "\n",
    "%matplotlib inline\n",
    "tracks = []\n",
    "for i in range(5000) :\n",
    "    event = df_hits.loc[good_candidates[i]]\n",
    "    next_event = df_hits_total.loc[good_candidates[i]+1]\n",
    "\n",
    "    hits = [Hit(event,i) for i in range(event['n_hits' ])]\n",
    "    # print (hits)    \n",
    "    Track = Track3D(hits)\n",
    "    tracks.append(time_correction(Track))\n",
    "    # print(track)\n",
    "\n",
    "\n",
    "   "
>>>>>>> d32bfcda9adbbedc194d2349dee3960d5aeaadbf
   ]
  },
  {
   "cell_type": "code",
<<<<<<< HEAD
   "execution_count": 6,
   "metadata": {},
   "outputs": [],
   "source": [
    "#TEST CHECK\n",
    "# observe the timestamps corrected\n",
    "\n",
    "time_check = [None]*len(tracks)\n",
    "for t in range(len(tracks)) :\n",
    "    time_check[t]=[]\n",
    "    for i in range(len(tracks[t].x.hits)):\n",
    "        time_check[t].append(tracks[t].x.hits[i].timestamp)\n",
    "    for j in range(len(tracks[t].y.hits)):\n",
    "        time_check[t].append(tracks[t].y.hits[i].timestamp)"
   ]
  },
  {
   "cell_type": "code",
   "execution_count": 11,
   "metadata": {},
   "outputs": [
    {
     "name": "stdout",
     "output_type": "stream",
     "text": [
      "10243\n",
      "1_variance = 0.4127808970905714\n",
      "1_sigma = 0.27598253584201204\n",
      "2_variance = 0.5745777930291349\n",
      "2_sigma = 0.2827052325938338\n",
      "3_variance = 0.7632546882877058\n",
      "3_sigma = 0.28824649917708245\n",
      "4_variance = 0.972662577139618\n",
      "4_sigma = 0.2924935114594733\n",
      "5_variance = 1.2007563460148682\n",
      "5_sigma = 0.29569877545313694\n",
      "6_variance = 1.4471992707538437\n",
      "6_sigma = 0.29815599540277976\n"
     ]
    }
   ],
   "source": [
    "# # Computation of offsets and time resolution \n",
    "\n",
    "\n",
    "# rows = 16\n",
    "# rows1D = 8\n",
    "# cols = 24\n",
    " \n",
    "# x_offset = [[0 for _ in range(cols)] for _ in range(rows1D)] # 8x24 matrix\n",
    "# y_offset = [[0 for _ in range(cols)] for _ in range(rows1D)] # 8x24 matrix\n",
    "\n",
    "\n",
    "# len_tracks = len(tracks)\n",
    "# print(len_tracks)\n",
    "\n",
    "# moy = True #paramter tu choose if an averyage is done on the timestamps of each track or not\n",
    "\n",
    "\n",
    "# for k in [1,2,3,4,5,6]: #number of iteration of the whole process\n",
    "\n",
    "#     variance = [None]*len_tracks\n",
    "#     sigma = [[0 for _ in range(cols)] for _ in range(rows)] # 16x24 matrix\n",
    "#     number_check = [[0 for _ in range(cols)] for _ in range(rows)] # 16x24 matrix to check the number of tracks concernes by each bars\n",
    "\n",
    "#     # for the x layers first : **************************************************\n",
    "\n",
    "#     for i in range(8) :  #itaration on the 8 x-layers\n",
    "#         for j in range(24) : # iteration on the 24 bars on each layers\n",
    "#             mu =[]\n",
    "#             t_dist=[]\n",
    "#             for t in range(len_tracks) : #iteration on all the tracks selected\n",
    "\n",
    "#                 if tracks[t].x.hits[i].coord[0]-1==j : #does the track goes through the j bar ?\n",
    "#                     # print(tracks[t].x.hits[i].coord[0])\n",
    "#                     number_check[i][j] += 1\n",
    "#                     t_track = [] #initialisation of the array with timestamp of other bars where the track goes through\n",
    "\n",
    "#                     t_bar =  tracks[t].x.hits[i].timestamp - x_offset[i][j] #initialisation of timestamp of bar i (xbar)\n",
    "                    \n",
    "#                     # for z in (range(len(tracks[t].x.hits))) : #iteration on the 7 other x-layers \n",
    "#                     for z in (range(8)) : #iteration on the 7 other x-layers \n",
    "#                         if z != i : #we exclude the i layer\n",
    "#                             coordj = tracks[t].x.hits[z].coord[0]-1 #coordinate x where the track goes through on the z layer\n",
    "#                             t_track.append(tracks[t].x.hits[z].timestamp - x_offset[z][coordj]) \n",
    "#                     for z in (range(8)) :  #iteration on the 8 other y-layers\n",
    "#                             coordj = tracks[t].y.hits[z].coord[0]-1 #coordinate y where the track goes through on the z layer\n",
    "#                             t_track.append(tracks[t].y.hits[z].timestamp - y_offset[z][coordj])\n",
    "                        \n",
    "                  \n",
    "#                     t_track_tot, variance[t] = norm.fit(t_track) #variable variance help to follow the convergence of the algorythm\n",
    "#                     if moy : \n",
    "#                         t_track_av=mean(t_track)\n",
    "#                         t_dist.append(t_track_av - t_bar)\n",
    "#                     else :\n",
    "#                          for l in range(len(t_track)):\n",
    "#                             t_dist.append(t_track[l-t_bar])\n",
    "                \n",
    "                \n",
    "\n",
    "#             mu, sigma[i][j] = norm.fit(t_dist)\n",
    "            \n",
    "\n",
    "#             x_offset[i][j]= mu\n",
    "\n",
    "#     # **************************************************************************************************************\n",
    "\n",
    "#     # for the y layers now :\n",
    "\n",
    "#     for i in range(8) :  #itaration on the 8 x-layers\n",
    "#             for j in range(24) : # iteration on the 24 bars on each layers\n",
    "#                 mu =[]\n",
    "#                 t_dist=[]\n",
    "#                 for t in range(len_tracks) : #iteration on all the tracks selected\n",
    "\n",
    "#                     if tracks[t].y.hits[i].coord[0]-1==j : #does the track goes through the j bar ?\n",
    "#                         number_check[i+8][j] += 1\n",
    "\n",
    "#                         t_track = [] #initialisation of the array with timestamp of other bars where the track goes through\n",
    "\n",
    "#                         t_bar =  tracks[t].y.hits[i].timestamp - y_offset[i][j] #initialisation of timestamp of bar i (xbar)\n",
    "                        \n",
    "#                         for z in (range(8)) : #iteration on the 7 other y-layers \n",
    "#                             if z != i : #we exclude the i layer\n",
    "#                                 coordj = tracks[t].y.hits[z].coord[0]-1 #coordinate y where the track goes through on the z layer\n",
    "#                                 t_track.append(tracks[t].y.hits[z].timestamp - y_offset[z][coordj]) \n",
    "#                         for z in range(8) :  #iteration on the 8 other x-layers\n",
    "#                                 coordj = tracks[t].x.hits[z].coord[0]-1 #coordinate x where the track goes through on the z layer\n",
    "#                                 t_track.append(tracks[t].x.hits[z].timestamp -x_offset[z][coordj]) \n",
    "                            \n",
    "#                         t_track_tot, variance[t] = norm.fit(t_track) #variable variance help to follow the convergence of the algorythm\n",
    "\n",
    "#                         if moy :\n",
    "#                             t_track_av=mean(t_track)\n",
    "#                             t_dist.append(t_track_av - t_bar)\n",
    "#                         else :\n",
    "#                             for l in range(len(t_track)):\n",
    "#                                  t_dist.append(t_track[l-t_bar])\n",
    "\n",
    "#                 mu, sigma[i+8][j] = norm.fit(t_dist)\n",
    "                \n",
    "\n",
    "#                 y_offset[i][j]= mu\n",
    "\n",
    "#             # *************************************************************************************************************\n",
    "\n",
    "#     # computation of variance of the algorithm for each process iteration k\n",
    "\n",
    "#     variance_tot = mean(variance)\n",
    "#     print(str(k)+\"_variance = \" +str(variance_tot))\n",
    "#     sigma_temp = [None]*8\n",
    "#     for i in range(8) :\n",
    "#         sigma_temp[i] = mean(sigma[0:23][i])\n",
    "#     sigma_tot = mean(sigma_temp)\n",
    "#     print(str(k)+\"_sigma = \"+str(sigma_tot))\n",
    "#     # print(x_offset)\n",
    "#     # print(y_offset)\n",
    "\n",
    "   \n",
    "\n"
   ]
  },
  {
   "cell_type": "code",
   "execution_count": 27,
   "metadata": {},
   "outputs": [],
   "source": [
=======
   "execution_count": 3,
   "metadata": {},
   "outputs": [],
   "source": [
    "from scipy.stats import norm\n",
>>>>>>> d32bfcda9adbbedc194d2349dee3960d5aeaadbf
    "countX = np.nan_to_num(np.ndarray(shape=(24,8), dtype=int), nan=0, posinf=0, neginf=0)*0\n",
    "muX = np.nan_to_num(np.ndarray(shape=(24,8), dtype=float), nan=0, posinf=0, neginf=0)*0\n",
    "muXF = np.nan_to_num(np.ndarray(shape=(24,8), dtype=float), nan=0, posinf=0, neginf=0)*0\n",
    "sigmaX = np.nan_to_num(np.ndarray(shape=(24,8), dtype=float), nan=0, posinf=0, neginf=0)*0\n",
    "\n",
    "countY = np.nan_to_num(np.ndarray(shape=(24,8), dtype=int), nan=0, posinf=0, neginf=0)*0\n",
    "muY = np.nan_to_num(np.ndarray(shape=(24,8), dtype=float), nan=0, posinf=0, neginf=0)*0\n",
    "muYF = np.nan_to_num(np.ndarray(shape=(24,8), dtype=float), nan=0, posinf=0, neginf=0)*0\n",
    "sigmaY = np.nan_to_num(np.ndarray(shape=(24,8), dtype=float), nan=0, posinf=0, neginf=0)*0\n",
    "\n",
<<<<<<< HEAD
    "iterations = 10\n",
=======
    "converg_X = []\n",
    "converg_Y = []\n",
    "\n",
    "avg_offset_x = []\n",
    "avg_offset_y = []\n",
    "ttracks = tracks\n",
    "\n",
    "iterations = 3\n",
>>>>>>> d32bfcda9adbbedc194d2349dee3960d5aeaadbf
    "\n",
    "for it in range(iterations):\n",
    "    for i in range(24):\n",
    "        for j in range(8):\n",
<<<<<<< HEAD
    "            time = []\n",
    "            for t in tracks:\n",
    "                for hx in t.x.hits:\n",
    "                    if hx.coord[0]-1 == i and hx.coord[1]-1 == j: # if its the ith jth bar in x\n",
    "                        countX[i][j] += 1\n",
    "                        tbar = hx.timestamp\n",
    "                        for hxp in t.x.hits + t.y.hits:\n",
    "                            if(not(hxp.coord[0]-1 == i and hxp.coord[1]-1 == j and hxp.is_sidex)):\n",
    "                                time.append(hxp.timestamp-tbar-muXF[i][j])\n",
    "            muX[i][j], sigmaX[i][j] = norm.fit(time)\n",
    "            time = []\n",
    "            for t in tracks:\n",
    "                for hy in t.y.hits:\n",
    "                    if hy.coord[0]-1 == i and hy.coord[1]-1 == j: # if its the ith jth bar in x\n",
    "                        countY[i][j] += 1\n",
    "                        tbar = hy.timestamp\n",
    "                        for hyp in t.y.hits + t.x.hits:\n",
    "                            if(not(hyp.coord[0]-1 == i and hyp.coord[1]-1 == j and not(hxp.is_sidex))):\n",
    "                                time.append(hyp.timestamp-tbar-muYF[i][j])\n",
    "            muY[i][j], sigmaY[i][j] = norm.fit(time)\n",
    "muXF = muXF + muX\n",
    "muYF = muYF + muY"
=======
    "            timex = []\n",
    "            timey = []\n",
    "            for t in ttracks:\n",
    "                for hx in t.x.hits+t.y.hits:\n",
    "                    if hx.coord[0]-1 == i and hx.coord[1]-1 == j: # if its the ith jth bar in x\n",
    "                        countX[i][j] += 1\n",
    "                        tbar = hx.timestamp\n",
    "                        for hxp in t.x.hits:\n",
    "                            if(not(hxp.coord[0]-1 == i and hxp.coord[1]-1 == j and hxp.is_sidex)):\n",
    "                                if(hxp.is_sidex):\n",
    "                                    timex.append(hxp.timestamp-tbar-muXF[i][j])\n",
    "                                else:\n",
    "                                    timex.append(hxp.timestamp-tbar-muXF[i][j])\n",
    "                for hy in t.y.hits:\n",
    "                    if hy.coord[0]-1 == i and hy.coord[1]-1 == j: # if its the ith jth bar in y\n",
    "                        countY[i][j] += 1\n",
    "                        tbar = hy.timestamp\n",
    "                        for hyp in t.x.hits+t.y.hits:\n",
    "                            if(not(hyp.coord[0]-1 == i and hyp.coord[1]-1 == j and not(hyp.is_sidex))):\n",
    "                                if(hyp.is_sidex):\n",
    "                                    timey.append(hyp.timestamp-tbar-muYF[i][j])\n",
    "                                else:\n",
    "                                    timey.append(hyp.timestamp-tbar-muYF[i][j])\n",
    "            muX[i][j], sigmaX[i][j] = norm.fit(timex)\n",
    "            muY[i][j], sigmaY[i][j] = norm.fit(timey)\n",
    "    converg_X.append(np.mean(muX))\n",
    "    converg_Y.append(np.mean(muY))\n",
    "    muXF = muXF + muX\n",
    "    muYF = muYF + muY\n",
    "    avg_offset_x.append(np.mean(muXF))\n",
    "    avg_offset_y.append(np.mean(muYF))\n",
    "\n"
>>>>>>> d32bfcda9adbbedc194d2349dee3960d5aeaadbf
   ]
  },
  {
   "cell_type": "code",
<<<<<<< HEAD
   "execution_count": 28,
   "metadata": {},
   "outputs": [
    {
     "ename": "NameError",
     "evalue": "name 't_dist' is not defined",
     "output_type": "error",
     "traceback": [
      "\u001b[1;31m---------------------------------------------------------------------------\u001b[0m",
      "\u001b[1;31mNameError\u001b[0m                                 Traceback (most recent call last)",
      "\u001b[1;32mc:\\Users\\eliot\\EPFL\\TP4_ECAL\\Code\\ecal_reco\\time_alignement\\time_distribution.ipynb Cell 6\u001b[0m line \u001b[0;36m3\n\u001b[0;32m      <a href='vscode-notebook-cell:/c%3A/Users/eliot/EPFL/TP4_ECAL/Code/ecal_reco/time_alignement/time_distribution.ipynb#W4sZmlsZQ%3D%3D?line=0'>1</a>\u001b[0m \u001b[39m## Plot the histogram and gaussian fit ***************************************************\u001b[39;00m\n\u001b[0;32m      <a href='vscode-notebook-cell:/c%3A/Users/eliot/EPFL/TP4_ECAL/Code/ecal_reco/time_alignement/time_distribution.ipynb#W4sZmlsZQ%3D%3D?line=1'>2</a>\u001b[0m \u001b[39m# Plot the histogram\u001b[39;00m\n\u001b[1;32m----> <a href='vscode-notebook-cell:/c%3A/Users/eliot/EPFL/TP4_ECAL/Code/ecal_reco/time_alignement/time_distribution.ipynb#W4sZmlsZQ%3D%3D?line=2'>3</a>\u001b[0m plt\u001b[39m.\u001b[39mhist(t_dist, bins\u001b[39m=\u001b[39m\u001b[39m25\u001b[39m, density\u001b[39m=\u001b[39m\u001b[39mTrue\u001b[39;00m, alpha\u001b[39m=\u001b[39m\u001b[39m0.6\u001b[39m, color\u001b[39m=\u001b[39m\u001b[39m'\u001b[39m\u001b[39mg\u001b[39m\u001b[39m'\u001b[39m)\n\u001b[0;32m      <a href='vscode-notebook-cell:/c%3A/Users/eliot/EPFL/TP4_ECAL/Code/ecal_reco/time_alignement/time_distribution.ipynb#W4sZmlsZQ%3D%3D?line=3'>4</a>\u001b[0m \u001b[39m# # Plot the PDF.\u001b[39;00m\n\u001b[0;32m      <a href='vscode-notebook-cell:/c%3A/Users/eliot/EPFL/TP4_ECAL/Code/ecal_reco/time_alignement/time_distribution.ipynb#W4sZmlsZQ%3D%3D?line=4'>5</a>\u001b[0m xmin, xmax \u001b[39m=\u001b[39m plt\u001b[39m.\u001b[39mxlim()\n",
      "\u001b[1;31mNameError\u001b[0m: name 't_dist' is not defined"
     ]
    }
   ],
   "source": [
    "## Plot the histogram and gaussian fit ***************************************************\n",
    "# Plot the histogram\n",
    "plt.hist(t_dist, bins=25, density=True, alpha=0.6, color='g')\n",
    "# # Plot the PDF.\n",
    "xmin, xmax = plt.xlim()\n",
    "x = np.linspace(xmin, xmax, 100)\n",
    "p = norm.pdf(x, mu, sigma[i][j] )\n",
    "plt.plot(x, p, 'k', linewidth=2)\n",
    "# # title = \"Fit results: mu = %.2f,  std = %.2f\" % (mu, std)\n",
    "# # plt.title(title)\n",
    "\n",
    "plt.show() "
   ]
  },
  {
   "cell_type": "code",
   "execution_count": 36,
   "metadata": {},
   "outputs": [
    {
     "name": "stderr",
     "output_type": "stream",
     "text": [
      "c:\\Users\\eliot\\mambaforge\\envs\\ecal-env\\Lib\\site-packages\\matplotlib\\axes\\_axes.py:6826: RuntimeWarning: All-NaN slice encountered\n",
      "  xmin = min(xmin, np.nanmin(xi))\n",
      "c:\\Users\\eliot\\mambaforge\\envs\\ecal-env\\Lib\\site-packages\\matplotlib\\axes\\_axes.py:6827: RuntimeWarning: All-NaN slice encountered\n",
      "  xmax = max(xmax, np.nanmax(xi))\n"
     ]
    },
    {
     "ename": "ValueError",
     "evalue": "autodetected range of [nan, nan] is not finite",
     "output_type": "error",
     "traceback": [
      "\u001b[1;31m---------------------------------------------------------------------------\u001b[0m",
      "\u001b[1;31mValueError\u001b[0m                                Traceback (most recent call last)",
      "\u001b[1;32mc:\\Users\\eliot\\EPFL\\TP4_ECAL\\Code\\ecal_reco\\time_alignement\\time_distribution.ipynb Cell 4\u001b[0m line \u001b[0;36m3\n\u001b[0;32m      <a href='vscode-notebook-cell:/c%3A/Users/eliot/EPFL/TP4_ECAL/Code/ecal_reco/time_alignement/time_distribution.ipynb#W3sZmlsZQ%3D%3D?line=0'>1</a>\u001b[0m \u001b[39m## Plot the histogram and gaussian fit ***************************************************\u001b[39;00m\n\u001b[0;32m      <a href='vscode-notebook-cell:/c%3A/Users/eliot/EPFL/TP4_ECAL/Code/ecal_reco/time_alignement/time_distribution.ipynb#W3sZmlsZQ%3D%3D?line=1'>2</a>\u001b[0m   \u001b[39m# Plot the histogram\u001b[39;00m\n\u001b[1;32m----> <a href='vscode-notebook-cell:/c%3A/Users/eliot/EPFL/TP4_ECAL/Code/ecal_reco/time_alignement/time_distribution.ipynb#W3sZmlsZQ%3D%3D?line=2'>3</a>\u001b[0m plt\u001b[39m.\u001b[39;49mhist(t_dist, bins\u001b[39m=\u001b[39;49m\u001b[39m25\u001b[39;49m, density\u001b[39m=\u001b[39;49m\u001b[39mTrue\u001b[39;49;00m, alpha\u001b[39m=\u001b[39;49m\u001b[39m0.6\u001b[39;49m, color\u001b[39m=\u001b[39;49m\u001b[39m'\u001b[39;49m\u001b[39mg\u001b[39;49m\u001b[39m'\u001b[39;49m)\n\u001b[0;32m      <a href='vscode-notebook-cell:/c%3A/Users/eliot/EPFL/TP4_ECAL/Code/ecal_reco/time_alignement/time_distribution.ipynb#W3sZmlsZQ%3D%3D?line=3'>4</a>\u001b[0m \u001b[39m# Plot the PDF.\u001b[39;00m\n\u001b[0;32m      <a href='vscode-notebook-cell:/c%3A/Users/eliot/EPFL/TP4_ECAL/Code/ecal_reco/time_alignement/time_distribution.ipynb#W3sZmlsZQ%3D%3D?line=4'>5</a>\u001b[0m xmin, xmax \u001b[39m=\u001b[39m plt\u001b[39m.\u001b[39mxlim()\n",
      "File \u001b[1;32mc:\\Users\\eliot\\mambaforge\\envs\\ecal-env\\Lib\\site-packages\\matplotlib\\pyplot.py:3224\u001b[0m, in \u001b[0;36mhist\u001b[1;34m(x, bins, range, density, weights, cumulative, bottom, histtype, align, orientation, rwidth, log, color, label, stacked, data, **kwargs)\u001b[0m\n\u001b[0;32m   3199\u001b[0m \u001b[39m@_copy_docstring_and_deprecators\u001b[39m(Axes\u001b[39m.\u001b[39mhist)\n\u001b[0;32m   3200\u001b[0m \u001b[39mdef\u001b[39;00m \u001b[39mhist\u001b[39m(\n\u001b[0;32m   3201\u001b[0m     x: ArrayLike \u001b[39m|\u001b[39m Sequence[ArrayLike],\n\u001b[1;32m   (...)\u001b[0m\n\u001b[0;32m   3222\u001b[0m     BarContainer \u001b[39m|\u001b[39m Polygon \u001b[39m|\u001b[39m \u001b[39mlist\u001b[39m[BarContainer \u001b[39m|\u001b[39m Polygon],\n\u001b[0;32m   3223\u001b[0m ]:\n\u001b[1;32m-> 3224\u001b[0m     \u001b[39mreturn\u001b[39;00m gca()\u001b[39m.\u001b[39;49mhist(\n\u001b[0;32m   3225\u001b[0m         x,\n\u001b[0;32m   3226\u001b[0m         bins\u001b[39m=\u001b[39;49mbins,\n\u001b[0;32m   3227\u001b[0m         \u001b[39mrange\u001b[39;49m\u001b[39m=\u001b[39;49m\u001b[39mrange\u001b[39;49m,\n\u001b[0;32m   3228\u001b[0m         density\u001b[39m=\u001b[39;49mdensity,\n\u001b[0;32m   3229\u001b[0m         weights\u001b[39m=\u001b[39;49mweights,\n\u001b[0;32m   3230\u001b[0m         cumulative\u001b[39m=\u001b[39;49mcumulative,\n\u001b[0;32m   3231\u001b[0m         bottom\u001b[39m=\u001b[39;49mbottom,\n\u001b[0;32m   3232\u001b[0m         histtype\u001b[39m=\u001b[39;49mhisttype,\n\u001b[0;32m   3233\u001b[0m         align\u001b[39m=\u001b[39;49malign,\n\u001b[0;32m   3234\u001b[0m         orientation\u001b[39m=\u001b[39;49morientation,\n\u001b[0;32m   3235\u001b[0m         rwidth\u001b[39m=\u001b[39;49mrwidth,\n\u001b[0;32m   3236\u001b[0m         log\u001b[39m=\u001b[39;49mlog,\n\u001b[0;32m   3237\u001b[0m         color\u001b[39m=\u001b[39;49mcolor,\n\u001b[0;32m   3238\u001b[0m         label\u001b[39m=\u001b[39;49mlabel,\n\u001b[0;32m   3239\u001b[0m         stacked\u001b[39m=\u001b[39;49mstacked,\n\u001b[0;32m   3240\u001b[0m         \u001b[39m*\u001b[39;49m\u001b[39m*\u001b[39;49m({\u001b[39m\"\u001b[39;49m\u001b[39mdata\u001b[39;49m\u001b[39m\"\u001b[39;49m: data} \u001b[39mif\u001b[39;49;00m data \u001b[39mis\u001b[39;49;00m \u001b[39mnot\u001b[39;49;00m \u001b[39mNone\u001b[39;49;00m \u001b[39melse\u001b[39;49;00m {}),\n\u001b[0;32m   3241\u001b[0m         \u001b[39m*\u001b[39;49m\u001b[39m*\u001b[39;49mkwargs,\n\u001b[0;32m   3242\u001b[0m     )\n",
      "File \u001b[1;32mc:\\Users\\eliot\\mambaforge\\envs\\ecal-env\\Lib\\site-packages\\matplotlib\\__init__.py:1465\u001b[0m, in \u001b[0;36m_preprocess_data.<locals>.inner\u001b[1;34m(ax, data, *args, **kwargs)\u001b[0m\n\u001b[0;32m   1462\u001b[0m \u001b[39m@functools\u001b[39m\u001b[39m.\u001b[39mwraps(func)\n\u001b[0;32m   1463\u001b[0m \u001b[39mdef\u001b[39;00m \u001b[39minner\u001b[39m(ax, \u001b[39m*\u001b[39margs, data\u001b[39m=\u001b[39m\u001b[39mNone\u001b[39;00m, \u001b[39m*\u001b[39m\u001b[39m*\u001b[39mkwargs):\n\u001b[0;32m   1464\u001b[0m     \u001b[39mif\u001b[39;00m data \u001b[39mis\u001b[39;00m \u001b[39mNone\u001b[39;00m:\n\u001b[1;32m-> 1465\u001b[0m         \u001b[39mreturn\u001b[39;00m func(ax, \u001b[39m*\u001b[39;49m\u001b[39mmap\u001b[39;49m(sanitize_sequence, args), \u001b[39m*\u001b[39;49m\u001b[39m*\u001b[39;49mkwargs)\n\u001b[0;32m   1467\u001b[0m     bound \u001b[39m=\u001b[39m new_sig\u001b[39m.\u001b[39mbind(ax, \u001b[39m*\u001b[39margs, \u001b[39m*\u001b[39m\u001b[39m*\u001b[39mkwargs)\n\u001b[0;32m   1468\u001b[0m     auto_label \u001b[39m=\u001b[39m (bound\u001b[39m.\u001b[39marguments\u001b[39m.\u001b[39mget(label_namer)\n\u001b[0;32m   1469\u001b[0m                   \u001b[39mor\u001b[39;00m bound\u001b[39m.\u001b[39mkwargs\u001b[39m.\u001b[39mget(label_namer))\n",
      "File \u001b[1;32mc:\\Users\\eliot\\mambaforge\\envs\\ecal-env\\Lib\\site-packages\\matplotlib\\axes\\_axes.py:6854\u001b[0m, in \u001b[0;36mAxes.hist\u001b[1;34m(self, x, bins, range, density, weights, cumulative, bottom, histtype, align, orientation, rwidth, log, color, label, stacked, **kwargs)\u001b[0m\n\u001b[0;32m   6850\u001b[0m \u001b[39m# Loop through datasets\u001b[39;00m\n\u001b[0;32m   6851\u001b[0m \u001b[39mfor\u001b[39;00m i \u001b[39min\u001b[39;00m \u001b[39mrange\u001b[39m(nx):\n\u001b[0;32m   6852\u001b[0m     \u001b[39m# this will automatically overwrite bins,\u001b[39;00m\n\u001b[0;32m   6853\u001b[0m     \u001b[39m# so that each histogram uses the same bins\u001b[39;00m\n\u001b[1;32m-> 6854\u001b[0m     m, bins \u001b[39m=\u001b[39m np\u001b[39m.\u001b[39;49mhistogram(x[i], bins, weights\u001b[39m=\u001b[39;49mw[i], \u001b[39m*\u001b[39;49m\u001b[39m*\u001b[39;49mhist_kwargs)\n\u001b[0;32m   6855\u001b[0m     tops\u001b[39m.\u001b[39mappend(m)\n\u001b[0;32m   6856\u001b[0m tops \u001b[39m=\u001b[39m np\u001b[39m.\u001b[39marray(tops, \u001b[39mfloat\u001b[39m)  \u001b[39m# causes problems later if it's an int\u001b[39;00m\n",
      "File \u001b[1;32mc:\\Users\\eliot\\mambaforge\\envs\\ecal-env\\Lib\\site-packages\\numpy\\lib\\histograms.py:780\u001b[0m, in \u001b[0;36mhistogram\u001b[1;34m(a, bins, range, density, weights)\u001b[0m\n\u001b[0;32m    680\u001b[0m \u001b[39m\u001b[39m\u001b[39mr\u001b[39m\u001b[39m\"\"\"\u001b[39;00m\n\u001b[0;32m    681\u001b[0m \u001b[39mCompute the histogram of a dataset.\u001b[39;00m\n\u001b[0;32m    682\u001b[0m \n\u001b[1;32m   (...)\u001b[0m\n\u001b[0;32m    776\u001b[0m \n\u001b[0;32m    777\u001b[0m \u001b[39m\"\"\"\u001b[39;00m\n\u001b[0;32m    778\u001b[0m a, weights \u001b[39m=\u001b[39m _ravel_and_check_weights(a, weights)\n\u001b[1;32m--> 780\u001b[0m bin_edges, uniform_bins \u001b[39m=\u001b[39m _get_bin_edges(a, bins, \u001b[39mrange\u001b[39;49m, weights)\n\u001b[0;32m    782\u001b[0m \u001b[39m# Histogram is an integer or a float array depending on the weights.\u001b[39;00m\n\u001b[0;32m    783\u001b[0m \u001b[39mif\u001b[39;00m weights \u001b[39mis\u001b[39;00m \u001b[39mNone\u001b[39;00m:\n",
      "File \u001b[1;32mc:\\Users\\eliot\\mambaforge\\envs\\ecal-env\\Lib\\site-packages\\numpy\\lib\\histograms.py:426\u001b[0m, in \u001b[0;36m_get_bin_edges\u001b[1;34m(a, bins, range, weights)\u001b[0m\n\u001b[0;32m    423\u001b[0m     \u001b[39mif\u001b[39;00m n_equal_bins \u001b[39m<\u001b[39m \u001b[39m1\u001b[39m:\n\u001b[0;32m    424\u001b[0m         \u001b[39mraise\u001b[39;00m \u001b[39mValueError\u001b[39;00m(\u001b[39m'\u001b[39m\u001b[39m`bins` must be positive, when an integer\u001b[39m\u001b[39m'\u001b[39m)\n\u001b[1;32m--> 426\u001b[0m     first_edge, last_edge \u001b[39m=\u001b[39m _get_outer_edges(a, \u001b[39mrange\u001b[39;49m)\n\u001b[0;32m    428\u001b[0m \u001b[39melif\u001b[39;00m np\u001b[39m.\u001b[39mndim(bins) \u001b[39m==\u001b[39m \u001b[39m1\u001b[39m:\n\u001b[0;32m    429\u001b[0m     bin_edges \u001b[39m=\u001b[39m np\u001b[39m.\u001b[39masarray(bins)\n",
      "File \u001b[1;32mc:\\Users\\eliot\\mambaforge\\envs\\ecal-env\\Lib\\site-packages\\numpy\\lib\\histograms.py:323\u001b[0m, in \u001b[0;36m_get_outer_edges\u001b[1;34m(a, range)\u001b[0m\n\u001b[0;32m    321\u001b[0m     first_edge, last_edge \u001b[39m=\u001b[39m a\u001b[39m.\u001b[39mmin(), a\u001b[39m.\u001b[39mmax()\n\u001b[0;32m    322\u001b[0m     \u001b[39mif\u001b[39;00m \u001b[39mnot\u001b[39;00m (np\u001b[39m.\u001b[39misfinite(first_edge) \u001b[39mand\u001b[39;00m np\u001b[39m.\u001b[39misfinite(last_edge)):\n\u001b[1;32m--> 323\u001b[0m         \u001b[39mraise\u001b[39;00m \u001b[39mValueError\u001b[39;00m(\n\u001b[0;32m    324\u001b[0m             \u001b[39m\"\u001b[39m\u001b[39mautodetected range of [\u001b[39m\u001b[39m{}\u001b[39;00m\u001b[39m, \u001b[39m\u001b[39m{}\u001b[39;00m\u001b[39m] is not finite\u001b[39m\u001b[39m\"\u001b[39m\u001b[39m.\u001b[39mformat(first_edge, last_edge))\n\u001b[0;32m    326\u001b[0m \u001b[39m# expand empty range to avoid divide by zero\u001b[39;00m\n\u001b[0;32m    327\u001b[0m \u001b[39mif\u001b[39;00m first_edge \u001b[39m==\u001b[39m last_edge:\n",
      "\u001b[1;31mValueError\u001b[0m: autodetected range of [nan, nan] is not finite"
     ]
    },
    {
     "data": {
      "image/png": "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",
=======
   "execution_count": 15,
   "metadata": {},
   "outputs": [
    {
     "data": {
      "text/plain": [
       "[<matplotlib.lines.Line2D at 0x10f9b8d2090>]"
      ]
     },
     "execution_count": 15,
     "metadata": {},
     "output_type": "execute_result"
    },
    {
     "data": {
      "image/png": "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",
      "text/plain": [
       "<Figure size 640x480 with 1 Axes>"
      ]
     },
     "metadata": {},
     "output_type": "display_data"
    },
    {
     "data": {
      "image/png": "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",
      "text/plain": [
       "<Figure size 640x480 with 1 Axes>"
      ]
     },
     "metadata": {},
     "output_type": "display_data"
    },
    {
     "data": {
      "image/png": "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",
>>>>>>> d32bfcda9adbbedc194d2349dee3960d5aeaadbf
      "text/plain": [
       "<Figure size 640x480 with 1 Axes>"
      ]
     },
     "metadata": {},
     "output_type": "display_data"
    }
   ],
   "source": [
<<<<<<< HEAD
    "# for i in range(8) :  #itaration on the 8 x-layers\n",
    "#   for j in range(24) : # iteration on the 24 bars on each layers\n",
    "    ## Plot the histogram and gaussian fit ***************************************************\n",
    "      # Plot the histogram\n",
    "    plt.hist(t_dist, bins=25, density=True, alpha=0.6, color='g')\n",
    "    # Plot the PDF.\n",
    "    xmin, xmax = plt.xlim()\n",
    "    x = np.linspace(xmin, xmax, 100)\n",
    "    p = norm.pdf(x, mu, sigma[23][15] )\n",
    "    plt.plot(x, p, 'k', linewidth=2)\n",
    "    # title = \"Fit results: mu = %.2f,  std = %.2f\" % (mu, std)\n",
    "    # plt.title(title)\n",
    "\n",
    "    plt.show() \n",
    "          #******"
=======
    "from scipy.stats import norm\n",
    "\n",
    "ttracks = tracks\n",
    "\n",
    "\n",
    "i = 0\n",
    "j = 3\n",
    "timex = []\n",
    "for t in ttracks:\n",
    "    for hx in t.x.hits+t.y.hits:\n",
    "        if hx.coord[0]-1 == i and hx.coord[1]-1 == j: # if its the ith jth bar in x\n",
    "            countX[i][j] += 1\n",
    "            tbar = hx.timestamp\n",
    "            for hxp in t.x.hits:\n",
    "                if(not(hxp.coord[0]-1 == i and hxp.coord[1]-1 == j and hxp.is_sidex)):\n",
    "                    if(hxp.is_sidex):\n",
    "                        timex.append(hxp.timestamp-muXF[hxp.coord[0]-1][hxp.coord[1]-1]*0-tbar-muXF[i][j])\n",
    "                    else:\n",
    "                        timex.append(hxp.timestamp-muYF[hxp.coord[0]-1][hxp.coord[1]-1]*0-tbar-muXF[i][j])\n",
    "\n",
    "plt.figure()\n",
    "plt.grid()\n",
    "plt.hist(timex,bins=100, density=True)\n",
    "plt.title('X, coord x :' + str(i+1) + ' coord z :' + str(j+1) + ' pop : ' + str(countX[i][j]))\n",
    "single_mu, single_sigma = norm.fit(timex)\n",
    "x = np.linspace(-3 , 3, 1000)\n",
    "p = norm.pdf(x,single_mu,single_sigma)\n",
    "\n",
    "plt.plot(x,p,'k')\n",
    "\n",
    "\n",
    "timey = []\n",
    "i = 23\n",
    "j = 4\n",
    "for t in uncorrected_tracks:\n",
    "    for hy in t.y.hits+t.x.hits:\n",
    "        if hy.coord[0]-1 == i and hy.coord[1]-1 == j: # if its the ith jth bar in y\n",
    "            countY[i][j] += 1\n",
    "            tbar = hy.timestamp\n",
    "            for hyp in t.x.hits:\n",
    "                if(not(hyp.coord[0]-1 == i and hyp.coord[1]-1 == j and not(hyp.is_sidex))):\n",
    "                    if(hyp.is_sidex):\n",
    "                        timey.append(hyp.timestamp-muXF[hyp.coord[0]-1][hyp.coord[1]-1]*0-tbar-0*muYF[i][j])\n",
    "                    else:\n",
    "                        timey.append(hyp.timestamp-muYF[hyp.coord[0]-1][hyp.coord[1]-1]*0-tbar-0*muYF[i][j])\n",
    "                        #timey.append(hyp.timestamp)\n",
    "plt.figure()\n",
    "plt.grid()\n",
    "plt.hist(timey,bins=100, density=True)\n",
    "plt.title('Y, coord y :' + str(i+1) + ' coord z :' + str(j+1))\n",
    "single_mu, single_sigma = norm.fit(timey)\n",
    "x = np.linspace(-3 , 3, 1000)\n",
    "p = norm.pdf(x,single_mu,single_sigma)\n",
    "\n",
    "plt.plot(x,p,'k')\n",
    "timey = []\n",
    "for t in ttracks:\n",
    "    for hy in t.y.hits:\n",
    "        if hy.coord[0]-1 == i and hy.coord[1]-1 == j: # if its the ith jth bar in y\n",
    "            countY[i][j] += 1\n",
    "            tbar = hy.timestamp\n",
    "            for hyp in t.y.hits+t.x.hits:\n",
    "                if(not(hyp.coord[0]-1 == i and hyp.coord[1]-1 == j and not(hyp.is_sidex))):\n",
    "                    if(hyp.is_sidex):\n",
    "                        timey.append(hyp.timestamp-muXF[hyp.coord[0]-1][hyp.coord[1]-1]*0-muYF[i][j]*0)\n",
    "                    else:\n",
    "                        timey.append(hyp.timestamp-muYF[hyp.coord[0]-1][hyp.coord[1]-1]*0-muYF[i][j]*0)\n",
    "\n",
    "plt.figure()\n",
    "plt.grid()\n",
    "plt.hist(timey,bins=100, density=True)\n",
    "plt.title('Y, coord y :' + str(i+1) + ' coord z :' + str(j+1))\n",
    "single_mu, single_sigma = norm.fit(timey)\n",
    "x = np.linspace(-3 , 3, 1000)\n",
    "p = norm.pdf(x,single_mu,single_sigma)\n",
    "\n",
    "plt.plot(x,p,'k')\n"
   ]
  },
  {
   "cell_type": "code",
   "execution_count": null,
   "metadata": {},
   "outputs": [
    {
     "data": {
      "text/plain": [
       "[<matplotlib.lines.Line2D at 0x290a60fb490>]"
      ]
     },
     "execution_count": 102,
     "metadata": {},
     "output_type": "execute_result"
    },
    {
     "data": {
      "image/png": "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",
      "text/plain": [
       "<Figure size 640x480 with 1 Axes>"
      ]
     },
     "metadata": {},
     "output_type": "display_data"
    }
   ],
   "source": [
    "\n",
    "timey = []\n",
    "i = 23\n",
    "j = 5\n",
    "for t in ttracks:\n",
    "    for hy in t.y.hits:\n",
    "        if hy.coord[0]-1 == i and hy.coord[1]-1 == j: # if its the ith jth bar in y\n",
    "            countY[i][j] += 1\n",
    "            tbar = hy.timestamp\n",
    "            for hyp in t.y.hits+t.x.hits:\n",
    "                if(not(hyp.coord[0]-1 == i and hyp.coord[1]-1 == j and not(hyp.is_sidex))):\n",
    "                    if(hyp.is_sidex):\n",
    "                        timey.append(hyp.timestamp)\n",
    "                    else:\n",
    "                        timey.append(hyp.timestamp)\n",
    "\n",
    "\n",
    "plt.figure()\n",
    "plt.grid()\n",
    "plt.hist(timey,bins=100, density=True)\n",
    "plt.title('Y, coord y :' + str(i+1) + ' coord z :' + str(j+1))\n",
    "single_mu, single_sigma = norm.fit(timey)\n",
    "x = np.linspace(-3 , 3, 1000)\n",
    "p = norm.pdf(x,single_mu,single_sigma)\n",
    "\n",
    "plt.plot(x,p,'k')"
   ]
  },
  {
   "cell_type": "code",
   "execution_count": null,
   "metadata": {},
   "outputs": [
    {
     "name": "stdout",
     "output_type": "stream",
     "text": [
      "0.17618715314502906\n"
     ]
    },
    {
     "data": {
      "image/png": "iVBORw0KGgoAAAANSUhEUgAAAjUAAAGdCAYAAADqsoKGAAAAOXRFWHRTb2Z0d2FyZQBNYXRwbG90bGliIHZlcnNpb24zLjguMCwgaHR0cHM6Ly9tYXRwbG90bGliLm9yZy81sbWrAAAACXBIWXMAAA9hAAAPYQGoP6dpAABKjUlEQVR4nO3deXhU5f3+8feZJQmBhC0QQBYRFUUUYqQCgoIIGBQFtWL5atXizyq2LKltQVsErdK6ICoCsijVFllkcUMxViAooiUmyA4qEPYQtuyTyeT8/gikxISQgUnOzMn9uq65yJx55pnPh8mR23POM2OYpmkiIiIiEuIcVhcgIiIiEggKNSIiImILCjUiIiJiCwo1IiIiYgsKNSIiImILCjUiIiJiCwo1IiIiYgsKNSIiImILLqsLqCnFxcXs37+fqKgoDMOwuhwRERGpAtM0yc7OpkWLFjgclR+LqTWhZv/+/bRq1crqMkREROQc7Nmzh5YtW1Y6ptaEmqioKKDkLyU6Ojqgc3u9Xj777DP69euH2+0O6NzBwO79gf17VH+hz+492r0/sH+P1dVfVlYWrVq1Kv13vDK1JtScOuUUHR1dLaEmMjKS6Oho2/6i2rk/sH+P6i/02b1Hu/cH9u+xuvuryqUjulBYREREbEGhRkRERGxBoUZERERsQaFGREREbEGhRkRERGxBoUZERERsQaFGREREbEGhRkRERGxBoUZERERsQaFGREREbEGhRkRERGxBoUZERERsQaHmPJm+IjYueIbIbfOtLkVERKRWU6g5T5u//Zy4Ha/QN+9jflj7odXliIiI1FoKNefpim43s7rB7QDE/OcPZB09ZHFFIiIitZNCTQBc8euX2WU2pwlH+enNhzCLi60uSUREpNZRqAmAqKhovm71CF7TSeecZFI+mGp1SSIiIrWOQk2ARDZpyzdtHgbg8tRn2PfTZosrEhERqV0UagLoml89xRb3FdQ1Cjgxdxheb6HVJYmIiNQaCjUB5HS5aHjvW2RThw5Fm/nm7b9YXZKIiEitoVATYM3atGdH/HgAuqbPZOO3X1hbkIiISC2hUFMNrr71t6RG34jLKCb6k+GcOH7c6pJERERsT6GmOhgGl/xmJhlGY1qbB/j+rd9hmqbVVYmIiNiaQk01qdcghqybXwOg54kP+XLZvyyuSERExN4UaqrRxdfeQmrLewHo8O0T7E7fZW1BIiIiNqZQU82u+vVL7HZdSGMji4x3HqLQ67O6JBEREVtSqKlmzrAI6tzzFh7cdPH+lxX//rvVJYmIiNiSQk0NaHrx1fx41R8BuH7nZFK/+8biikREROxHoaaGdBj0R7bX7UIdo5A6Hz7C8ewcq0sSERGxFYWamuJw0PLBtzhBFJeZP/H17D9pmbeIiEgAKdTUoMiYVhzv8zwA/Y/N5YvlS60tSERExEZCKtTs2bOHXr160aFDB6666ioWLlxodUl+a9NzKFubDcRhmFz29R/ZuXe/1SWJiIjYQkiFGpfLxeTJk9m8eTOff/45o0ePJjc31+qy/Hbp/a+T4WzGBcZhfnrnMQqLiq0uSUREJOSFVKhp3rw5nTt3BqBp06Y0atSIo0ePWlvUOXDUqY/zzpn4MOjj+YKP333d6pJERERCXkBDTXJyMgMHDqRFixYYhsHSpUvLjZk6dSpt27YlIiKC+Ph4Vq9efU6vtW7dOoqLi2nVqtV5Vm2Nxh2uZ9fljwDQ+4eJfLt+g8UViYiIhLaAhprc3Fw6derElClTKnx8/vz5jBo1iieffJLU1FR69uxJQkIC6enppWPi4+Pp2LFjudv+/f+79uTIkSP8+te/ZsaMGYEsv8a1u+sZ9tS5nAZGLsbSRzmaU2B1SSIiIiHLFcjJEhISSEhIOOPjkyZNYtiwYTz00EMATJ48meXLlzNt2jQmTpwIQEpKSqWv4fF4GDx4MGPHjqV79+6VjvN4PKX3s7KyAPB6vXi93ir3VBWn5juXeRsMnUX+7BvpYm5g/uxxDH70bxiGEdD6ztf59Bcq7N6j+gt9du/R7v2B/Xusrv78mc8wq+nDUgzDYMmSJQwaNAiAwsJCIiMjWbhwIYMHDy4dN3LkSNLS0li1atVZ5zRNk6FDh9K+fXvGjx9f6djx48czYcKEctvnzp1LZGSkX71Ut+h9K+id8RYe08XrTSfQrmVonlITEREJtLy8PIYOHcqJEyeIjo6udGxAj9RUJjMzE5/PR2xsbJntsbGxHDx4sEpzfPXVV8yfP5+rrrqq9Hqdd955hyuvvLLc2LFjx5KYmFh6Pysri1atWtGvX7+z/qX4y+v1kpSURN++fXG73f5PYCaw640fuPDIam7NmE7xrUm0axET0BrPx3n3FwLs3qP6C31279Hu/YH9e6yu/k6daamKGgs1p/z81IppmlU+3dKjRw+Ki6u2/Dk8PJzw8PBy291ud7X9Mp3P3K0feJMTL3fh0uI9LJ77Z9r+8S3CXc4AV3h+qvPvLljYvUf1F/rs3qPd+wP79xjo/vyZq8aWdMfExOB0OssdlcnIyCh39KY2ckQ1xbyt5ALrOzzv896CdyyuSEREJLTUWKgJCwsjPj6epKSkMtuTkpIqveC3NmnQeSB72g0FoM+28azZsN3iikREREJHQENNTk4OaWlppKWlAbBz507S0tJKl2wnJiYya9Ys3nzzTbZs2cLo0aNJT0/nkUceCWQZIa3VkJc4HN6aZsYx8hf/niPZWuYtIiJSFQENNevWrSMuLo64uDigJMTExcUxbtw4AIYMGcLkyZN5+umn6dy5M8nJySxbtow2bdoEsozQFhZJ9P/NoQgnfcy1LP3nS/o2bxERkSoI6IXCvXr1Ous/wMOHD2f48OGBfFnbCW8dT8YvHqfpt/9gyOFXWfLFDdzRp4fVZYmIiAS1kPrup9qk6c1/5mCDOOoZBbRJTmT7gWNWlyQiIhLUFGqClcNJ7P1zyDciiTe2seaff6HA67O6KhERkaClUBPEjIYX4r35eQD+L/9d3n5vscUViYiIBC+FmiAX/Yt7OdRqAG7DR58tf2XVpl1WlyQiIhKUFGqCnWEQ+6vXyXI3oZ3jAJnvPc7hbM/ZnyciIlLLKNSEgshGRNw9E4A7zST+/fZ0LfMWERH5GYWaEBF2SW+OdvotAPdmvMi8FSkWVyQiIhJcFGpCSKOBz3C03iXEGFk0W/k4W/afsLokERGRoKFQE0pc4TS8dw5e3PR2pPLZ2xO1zFtEROQkhZoQYzTriKd3yddOPJw/mzcWf2pxRSIiIsFBoSYE1ev5O441u446RiG9Nz3JfzbutbokERERyynUhCKHg4ZDZ5HnjOYqx052LhpHRpa+zVtERGo3hZpQFd0C96BXAHiweDFv/OvfFBdrmbeIiNReCjUhzH3lHWS1vxunYfLgoed4Z9X3VpckIiJiGYWaEBc9+CWy61xASyOT6BV/YZOWeYuISC2lUBPqIqKpd89sinEw2JHMordfI79Qy7xFRKT2UaixAaNNNzzdRgEwIn8qryxZaWk9IiIiVlCosYk6Nz1BdqMraWDk0mPjX1m+cb/VJYmIiNQohRq7cLqJGjqHQkcEPZyb2LDo7xw8oWXeIiJSeyjU2EnMxTj6PwfA74v/zeR/L9YybxERqTUUamzG9YvfkHthX8KNIh44+BxvrtxidUkiIiI1QqHGbgyDundNoyCsEZc59uBY8Qwb9mqZt4iI2J9CjR3Va0L4ndMA+I1zGf/811vkFRZZXJSIiEj1UqixKaP9zRR0fhCAx/Mn88KStRZXJCIiUr0UamwsYsBz5EVfRDPjGNdsnMAn32uZt4iI2JdCjZ2FRRI5ZDY+w8ktzm/5cvHr7D+eb3VVIiIi1UKhxu4uuBrzhrEAjDFnM3Hup/i0zFtERGxIoaYWcF2fSEHzXxBl5PPrg88xY+U2q0sSEREJOIWa2sDhJOLuWXhddeni2E7eFy+xfs9xq6sSEREJKIWa2qJhG1y3vgTACOcipv57AbkeLfMWERH7UKipRYxO91DY/nbcho8/5U3i2aXrrC5JREQkYBRqahPDIOz2yXgim9HOcYAOG57nIy3zFhERm1CoqW0iGxF+1xsA3Ov6D58snsM+LfMWEREbUKipjS7qha/rYwBMMKcx/t8rtMxbRERCnkJNLeXsM47CxpcTY2Rxz8HnmfrFDqtLEhEROS8KNbWVO4Kwu2fjc4TRx5nKoZXT+C79mNVViYiInDOFmtos9gocfccD8KTzX7w092OyC7zW1iQiInKOFGpqOePaR/G2uYE6RiF/znuRCUvXW12SiIjIOVGoqe0cDtx3TqcorD5XOXbSZuNrvJ+2z+qqRERE/KZQIxDdAtftrwIw3Pk+i5a8x56jeRYXJSIi4h+FGilxxSCKr/oVTsPkWfM1xr77FUW+YqurEhERqTKFGinlGPA8RdGtaeU4zKCDrzJlxQ9WlyQiIlJlIRVqXC4XnTt3pnPnzjz00ENWl2M/EdG47pqJiYO7nMnsWPEO63YdtboqERGRKnFZXYA/GjRoQFpamtVl2FvrrhjX/wGSX+BZ12weePdK3vzdrVZXJSIiclYhdaRGasgNf8bXrDMNjFwez5vM+A82WV2RiIjIWQUs1CQnJzNw4EBatGiBYRgsXbq03JipU6fStm1bIiIiiI+PZ/Xq1X69RlZWFvHx8fTo0YNVq1YFqHIpx+nGeddsfK469HBuosnmOfz3sGF1VSIiIpUKWKjJzc2lU6dOTJkypcLH58+fz6hRo3jyySdJTU2lZ8+eJCQkkJ6eXjomPj6ejh07lrvt378fgF27dpGSksL06dP59a9/TVZWVqDKl5+LuRjnzc8B8CfXPNbv3Eu6lnmLiEgQC9g1NQkJCSQkJJzx8UmTJjFs2LDSC3wnT57M8uXLmTZtGhMnTgQgJSWl0tdo0aIFAB07dqRDhw5s376da665psKxHo8Hj8dTev9UAPJ6vXi9gf0qgFPzBXpey111L46tnxD+w2c875zKn+e35+2He+B22u+spW3fw5PUX+ize4927w/s32N19efPfIZpmmZAXx0wDIMlS5YwaNAgAAoLC4mMjGThwoUMHjy4dNzIkSNJS0ur0qmkY8eOERkZSXh4OHv37uW6664jNTWVRo0aVTh+/PjxTJgwodz2uXPnEhkZeW6N1UJh3ix6bXmCOr4sZhYNYF3sUAa01ufXiIhIzcjLy2Po0KGcOHGC6OjoSsfWyOqnzMxMfD4fsbGxZbbHxsZy8ODBKs2xZcsWfvvb3+JwODAMg1deeeWMgQZg7NixJCYmlt7PysqiVatW9OvX76x/Kf7yer0kJSXRt29f3G53QOcOBr729WHRffw/1zKSD3Siyc2/ocuFDa0uK6Ds/h6qv9Bn9x7t3h/Yv8fq6s+fS01qdEm3YZS92NQ0zXLbzqR79+5s2LChyq8VHh5OeHh4ue1ut7vafpmqc25LXZbAzpgbaZv5BS+4p/PAe5czf9QA6texX6+2fQ9PUn+hz+492r0/sH+Pge7Pn7lq5OKImJgYnE5nuaMyGRkZ5Y7eSHDadMGv8DW6mGbGMX6fN4UnFn9PNZy5FBEROWc1EmrCwsKIj48nKSmpzPakpCS6d+9eEyXIefI5wjFvn4ZpuLjF+S3hmxbwXspeq8sSEREpFbBQk5OTQ1paWukn/u7cuZO0tLTSJduJiYnMmjWLN998ky1btjB69GjS09N55JFHAlWCVDOzRRxG77EATHD/kxkfrGBXZq7FVYmIiJQI2DU169ato3fv3qX3T12ke//99zNnzhyGDBnCkSNHePrppzlw4AAdO3Zk2bJltGnTJlAlSE3oMRpzRxJRe9bynPkao99tw4LhPW25zFtEREJLwEJNr169znqNxfDhwxk+fHigXlKs4HBi3PEGxdOuo0vhdrod/BcvJ8Xyp5svs7oyERGp5fS/1+K/hhfiGPAiAKNdi/gyOYmvfzxicVEiIlLbKdTIuel0D1wxGLfh42XX64ydt5bjeYVWVyUiIrWYQo2cG8OAWyZRHNWcdo4DPJQ/m7GLN2iZt4iIWEahRs5dZCMcg6cDcK/rP3g2L2PBuj0WFyUiIrWVQo2cn4t6QbffAfC8ewavfbCGHw/nWFuTiIjUSgo1cv5u/Ctm0w7EGFmMZzqj3k2lsEhfeikiIjVLoUbOnzsC485ZmM4wbnKmcuWhJbyUtM3qqkREpJZRqJHAiL0C46bxAPzV9Q5JyV/y1Q+Z1tYkIiK1ikKNBM61j8JFvahjFPKyeyp/nL+OY7la5i0iIjVDoUYCx+GAQdMwIxrQyfETv8p/lz8v0rd5i4hIzVCokcCKboEx8BUAhjvf5+iWVcz9Nt3iokREpDZQqJHAu2IQdBqK0zB52T2NSR+t44eMbKurEhERm1OokeqR8A/MBq1p5TjMWOYw4t00PEU+q6sSEREbU6iR6hERjTF4Bqbh4C5nMhce+owXPtUybxERqT4KNVJ92nTD6JEIwHPu2Xz4ZQrJ2w9bXJSIiNiVQo1Ur15joEUcDYxcXnRP5/EFqRzJ8VhdlYiI2JBCjVQvpxvumIXpjqSncyMD89/nT+9pmbeIiASeQo1Uv5iLMfo/C8CfXfPYu20d/1q72+KiRETEbhRqpGbEPwiX3kyYUcRk9+s8//F6th/SMm8REQkchRqpGYYBt03BrNuEyx17GME8RrybSoFXy7xFRCQwFGqk5tRrgnHbFAD+n2sZjTK+5h+fbrW4KBERsQuFGqlZ7W+Ga34DwEvu6Sz+aiMrtmVYXJSIiNiBQo3UvH5/g8YX09w4yrPu2fxxQRqHs7XMW0REzo9CjdS8sLpwx0xMh4tbnd/QM/8L/vTeei3zFhGR86JQI9a44GqMXmMBeMY9hx3bN/HPNbssLUlEREKbQo1Yp8doaNWVekY+L7un8vdPNrP1YJbVVYmISIhSqBHrOJxwxxuYYVF0cWznN+ZSLfMWEZFzplAj1mp4IcaAFwBIdC8iPON7Ji7bYnFRIiISihRqxHqd7oEOg3DhY7L7dRZ8vY3/bDlkdVUiIhJiFGrEeoYBt74MUc1p5zjAE665/PG978nILrC6MhERCSEKNRIcIhvBoGkA3Of6nE753/CHBespLtYybxERqRqFGgke7XpDt98B8IJ7Bpt3/MibX+20uCgREQkVCjUSXG78KzS9ghjjBP9wz+D5T7eyaf8Jq6sSEZEQoFAjwcUdAXfOxHSGcZMzlbv4nJHz0sgv1DJvERGpnEKNBJ/YKzBuGg/AOPc7FB/ezt8+3mxtTSIiEvQUaiQ4XfsotL2BCAp52T2V+d/8xGebDlpdlYiIBDGFGglODkfJaqiIBnRy/MQI12L+vOh7DmVpmbeIiFRMoUaCV/0LYOBkAB5zfcBF+RtJXJCmZd4iIlIhhRoJblcMhk5DcVLM5LBprP9hD7O+/MnqqkREJAgp1EjwS/gHNGhNKyOD8e63eWH5Njbu0zJvEREpS6FGgl9ENAyegWk4uMuZTF/za0a8m0peYZHVlYmISBBRqJHQ0KYbRo9EACaGvUlu5h6e+UjLvEVE5H9CKtS8/PLLXHHFFXTo0IERI0ZgmrpgtFbpNQZaxFGfHF4Km868b3fzyYYDVlclIiJBImRCzeHDh5kyZQopKSls2LCBlJQU1q5da3VZUpOcbrhjJrjq0MOxkQedyxmzeAMHTuRbXZmIiASBkAk1AEVFRRQUFOD1evF6vTRt2tTqkqSmxVwC/Z8FYIx7Hs0KfiRx/np8WuYtIlLrBSzUJCcnM3DgQFq0aIFhGCxdurTcmKlTp9K2bVsiIiKIj49n9erVVZ6/SZMmPP7447Ru3ZoWLVpw00030a5du0CVL6Hkmt/ApTcThpdXw6by3U8HeCP5R6urEhERiwUs1OTm5tKpUyemTJlS4ePz589n1KhRPPnkk6SmptKzZ08SEhJIT08vHRMfH0/Hjh3L3fbv38+xY8f46KOP2LVrF/v27WPNmjUkJycHqnwJJYYBt02Buk1ob6TzB9dCJn22nfV7jltdmYiIWMgVqIkSEhJISEg44+OTJk1i2LBhPPTQQwBMnjyZ5cuXM23aNCZOnAhASkrKGZ+/cOFCLr74Yho1agTALbfcwtq1a7n++usrHO/xePB4PKX3s7KyAEpPXQXSqfkCPW+wCMr+whtg3DIZ14L/42HXx6ws7MSId+vw/vCu1A33/9c6KHsMIPUX+uzeo937A/v3WF39+TOfYVbDEiLDMFiyZAmDBg0CoLCwkMjISBYuXMjgwYNLx40cOZK0tDRWrVp11jnXrl3Lo48+ytdff43b7ea2227j4Ycf5vbbb69w/Pjx45kwYUK57XPnziUyMvLcGpOgc9WeObTN/IJDZkP6ef7BZU0iGXpxsdVliYhIgOTl5TF06FBOnDhBdHR0pWMDdqSmMpmZmfh8PmJjY8tsj42N5eDBqn3zcteuXRkwYABxcXE4HA769OnDbbfddsbxY8eOJTExsfR+VlYWrVq1ol+/fmf9S/GX1+slKSmJvn374na7Azp3MAjq/gpvwJx9I7FHf+Q592weOzyC/7vxahI6NvNrmqDuMQDUX+ize4927w/s32N19XfqTEtV1EioOcUwjDL3TdMst60yzz77LM8++2yVxoaHhxMeHl5uu9vtrrZfpuqcOxgEZX/uBnDnLJjdl1v4hs99X/KX993Et43hggZ1/J8uGHsMIPUX+uzeo937A/v3GOj+/JmrRpZ0x8TE4HQ6yx2VycjIKHf0RsRvF1xd8sF8wLPhc4j2HGD0vDQt8xYRqWVqJNSEhYURHx9PUlJSme1JSUl07969JkoQu+uRCK26Emnm80rYNNbtymTayh+srkpERGpQwE4/5eTk8MMP//tHZOfOnaSlpdGoUSNat25NYmIi9913H9dccw3dunVjxowZpKen88gjjwSqBKnNHE644w2Y1oP4wq084vyQlz93ct3FMcS1bmh1dSIiUgMCFmrWrVtH7969S++fukj3/vvvZ86cOQwZMoQjR47w9NNPc+DAATp27MiyZcto06ZNoEqQ2q7hhTDgBVj6CH9wv8dqz5WMnFeHj0f0ICrCvuevRUSkRMBOP/Xq1QvTNMvd5syZUzpm+PDh7Nq1C4/HQ0pKyhk/Y0bknHW6BzoMwomP1yOmcvjoUZ76YJPVVYmISA0Iqe9+Ejkrw4BbX4ao5rQ29/Okey6Lv9vH+2n7rK5MRESqmUKN2E9kIxg0DYB7nZ/T25HKX5ZsZM/RPIsLExGR6qRQI/bUrjd0fQyAl8NnEuY5wuj5aRT59GnDIiJ2pVAj9tVnHDTtQAPzOC+Gz2Ld7qO8vkLf5i0iYlcKNWJf7gi4YyY4w+htpPAr5xe88p/tpOw+anVlIiJSDRRqxN6adYSbxgMwPuzftOEAI+elkVVgz2/JFRGpzRRqxP6ufRTa3kC4WcDrEdM4eCybcUs3Wl2ViIgEmEKN2J/DUbIaKqIBHcwfGOVewtK0/SxJ3Wt1ZSIiEkAKNVI71L8ABk4GYLjzfeKNbfx16SbSj2iZt4iIXSjUSO1xxWDo9CscFDM18g3wZDFyfqqWeYuI2IRCjdQuCc9Dg9bE+g7yt4h/kZp+nFf/s8PqqkREJAAUaqR2iYiGwTPAcDCIlSQ4vmHKih/4765jVlcmIiLnSaFGap823aBHybfIv1jnLZqYR3n8vQ3kFVlcl4iInBeFGqmdeo2BFnHU9WUxJXImB07kseAnB6ZpWl2ZiIicI4UaqZ2c7pJPG3bVoUvxen7jWk7qEQdL0vZbXZmIiJwjhRqpvWIugf7PAjDWPZ/2RjpPf7SVXZm5FhcmIiLnQqFGardrfgOX9MdlFjIt/HWKCvMZOS8Vr5Z5i4iEHIUaqd0MA26fghkZw0Xs4YmI91i/9wSTP99udWUiIuInhRqRek3x3TIZgPv5iO6OjUxd+SNrfzpibV0iIuIXhRoRwLz0ZnY27g3A1MiZRJk5jJ6fxvG8QosrExGRqlKoETlp0wVDMRu1o0HRYV6p908OnMjniSUbtMxbRCREKNSInORzhuO7fTo4XPQu+oq7XF+xbMNBFq7Tt3mLiIQChRqR05gt4ko+mA94LvyftDQO89QHm/jpcI7FlYmIyNko1Ij8XI9EaNWVMF8us6Jm4PF6GTkvjcIiLfMWEQlmCjUiP+dwwh1vQFgUlxVuYmTEMjbsO8GkJC3zFhEJZgo1IhVpeCEMeB6A3xsL6Gj8xBvJP7Lmh0xr6xIRkTNSqBE5k06/gg634zCLeDN6BuGmh9EL0jiWq2XeIiLBSKFG5EwMA26dDFHNaepJ5+9RCziU5WHM4u+1zFtEJAgp1IhUJrIRDJoGwCDvJ9zkSmP5pkO8++0eiwsTEZGfU6gROZt2vaHrYwC8WmcWjTnB0x9t4ocMLfMWEQkmCjUiVdFnHDTtQKT3KDMb/JMCr4+R81LxFPmsrkxERE5SqBGpCncE3DETnGFcXbCWYXVWsWl/Fi8u32Z1ZSIicpJCjUhVNesIfZ4C4AnHO7Q1DjBz9U5W7zhscWEiIgIKNSL+6Toc2l6P05fPOw1n4aKIxAXrOZLjsboyEZFaT6FGxB8OBwyaDhENaJm3haeiP+Zwtoc/L9IybxERqynUiPir/gUwcDIA93oXcq1rB59vyeBf36RbW5eISC2nUCNyLq4YDJ1+hWEWMzNqBvXI428fbWb7oWyrKxMRqbUUakTOVcLz0KA10fn7mNp4AZ6iYka8m0qBV8u8RUSsoFAjcq4iomHwG2A4uD73M+6OTGHrwWye/1TLvEVErKBQI3I+2nSHHqMBeNY1m1iO8uZXO1m5LcPiwkREah+FGpHzdcMYaN4Zd+Fx/t3knxgU8/jC78nUMm8RkRqlUCNyvlxhJZ827KrDxdn/5U8NVpGZ4+GPC9drmbeISA0KylAzePBgGjZsyF133eXXYyKWaXIp9H8WgN963+YK1z5WbDvMP9fssrYuEZFaJChDzYgRI3j77bf9fkzEUtf8Bi7pj8Pn4Z0GMwnDy3OfbGXrwSyrKxMRqRWCMtT07t2bqKgovx8TsZRhwO1TIDKGRjnbebXphxQWFTPy3TQt8xYRqQF+h5rk5GQGDhxIixYtMAyDpUuXlhszdepU2rZtS0REBPHx8axevToQtYoEv3pNS4INcHPWeyREbmPboWwmLtticWEiIvbnd6jJzc2lU6dOTJkypcLH58+fz6hRo3jyySdJTU2lZ8+eJCQkkJ7+v4+Qj4+Pp2PHjuVu+/fvP/dORIJF+wSIfxCAyeHTiSaHf369my+2HrK4MBERe3P5+4SEhAQSEhLO+PikSZMYNmwYDz30EACTJ09m+fLlTJs2jYkTJwKQkpJyjuVWncfjweP535LarKyS6xq8Xi9erzegr3VqvkDPGyzs3h9UQ483jse1cxXhR39ibrN53HpwGI8vXM9Hj3WnSVR4YF7DD3Z/D+3eH9i/R7v3B/bvsbr682c+v0NNZQoLC0lJSWHMmDFltvfr1481a9YE8qXOauLEiUyYMKHc9s8++4zIyMhqec2kpKRqmTdY2L0/CGyPDWJ+Tc+jT9Px+Bc8WKc9b+X25DdvrOC3lxfjMAL2Mn6x+3to9/7A/j3avT+wf4+B7i8vL6/KYwMaajIzM/H5fMTGxpbZHhsby8GDB6s8T//+/fnuu+/Izc2lZcuWLFmyhC5dupz1sdONHTuWxMTE0vtZWVm0atWKfv36ER0dfY4dVszr9ZKUlETfvn1xu90BnTsY2L0/qL4ezS89sGoif3H9i1Wuy9l6IobDDS/nwe5tAvYaVWH399Du/YH9e7R7f2D/Hqurv1NnWqoioKHmFMMo+7+hpmmW21aZ5cuXn9NjpwsPDyc8vPxhfrfbXW2/TNU5dzCwe39QDT3e8Ef4aQXOPWt5t8kcuh1I5MXPdtDjkqZ0aBHYcF0Vdn8P7d4f2L9Hu/cH9u8x0P35M1dAl3THxMTgdDrLHZXJyMgod/RGpFZwOOGONyAsithj3/FC8y8o9BUzYl4q+YVa5i0iEkgBDTVhYWHEx8eXO5+WlJRE9+7dA/lSIqGj4YUw4HkA7jjxNj3r7eWHjByeXbbZ2rpERGzG71CTk5NDWloaaWlpAOzcuZO0tLTSJduJiYnMmjWLN998ky1btjB69GjS09N55JFHAlq4SEjp9CvocDtGcRFvRE4nAg//WptO0mYt8xYRCRS/Q826deuIi4sjLi4OKAkxcXFxjBs3DoAhQ4YwefJknn76aTp37kxycjLLli2jTZuavTBSJKgYBtw6GaKaE5n1E/9q/SEAf3pvPYeyCqytTUTEJvwONb169cI0zXK3OXPmlI4ZPnw4u3btwuPxkJKSwvXXXx/ImkVCU2QjGDQVgGsyFvPrmG0cy/PyhwXrKS7Wt3mLiJyvoPzuJxHbancjdB0OwDjf67RwZ/PlD5nM/nKnxYWJiIQ+hRqRmtbnKWjaAVd+JguavwuYPL98Kxv3nbC6MhGRkKZQI1LT3BFwx0xwhtEyYyXPtErB6zMZMS+VvMIiq6sTEQlZCjUiVmjWseSIDXDv8elcE3WEnw7n8sxH+jZvEZFzpVAjYpWuw6Ht9RjePN6KnonbKOLdb9P5dGPVv1JERET+R6FGxCoOBwyaDhH1iTryPW9dtBKAMYu/5+AJLfMWEfGXQo2IlepfUPL5NcB1++fwy6b7OJ7nZfT8NHxa5i0i4heFGhGrdbwDrroHwyzmOV6jsbuQr386wozkn6yuTEQkpCjUiASDAc9D/da4s9JZ2GYpAC99to3v9x63tCwRkVCiUCMSDCLql3ybt+Hgor1LeeLC7RQVm4ycl0auR8u8RUSqQqFGJFi06Q49RgPw0PFXuDI6j52ZuUz4cJPFhYmIhAaFGpFgcsMYaN4ZR8Ex3mk8B4dRzIJ1e1m24YDVlYmIBD2FGpFg4gor+bRhVx0aHPiSme1TABiz6Hv2H8+3uDgRkeCmUCMSbJpcCv3/BsCNe6YysPlxsgqKGKVl3iIilVKoEQlG1wyDS/ph+Dy85JhCg7Bivt15lOmrfrS6MhGRoKVQIxKMDANufx0iYwg7spn5l/wHgElJ20lNP2ZxcSIiwUmhRiRY1WsKt08B4NIf55B48QF8J5d552iZt4hIOQo1IsGsfQLEP4iBye9OvMRl9X2kH83jqfe1zFtE5OcUakSCXf9noVE7HNn7+Xfz+TgMk0Xf7eWD9futrkxEJKgo1IgEu7C6cOdMMJw03vURr3f8AYAnl2xg77E8i4sTEQkeCjUioeCCeOg1FoCb01+k3wUesguKGDUvjSJfscXFiYgEB4UakVDRYzS0uhbDk82r4dOJDnewbvcxXl+hZd4iIqBQIxI6nC4Y/AaE1SNi/ze822EtAK9+sYOU3VrmLSKiUCMSShq1hYTnAbhi2xQeuyzn5DLvVLIKvBYXJyJiLYUakVDTeSh0uB2Ki0jMfoF2DRzsPZbPuKUbra5MRMRSCjUiocYw4NbJENUc55EdvHvhxzgdBkvT9rM0dZ/V1YmIWEahRiQURTaCQVMBaLr1HV7qfAiAvyzdSPoRLfMWkdpJoUYkVLW7EboOB+D23c9yYyuDHE8Ro+anapm3iNRKCjUioazPU9Dkcozcw7xebw5R4U6+Sz/Oq1/8YHVlIiI1TqFGJJS5I0o+bdgZRp2dy3knbisAU77YwX93HbW4OBGRmqVQIxLqml0JfcYB0HnTP3j4CpNiE0bNS+NEvpZ5i0jtoVAjYgddH4O214M3jz/nvUTbhmHsO57PX5ZuxDRNq6sTEakRCjUiduBwwKDpEFEf54HvmNs+GafD4MP1+1n8nZZ5i0jtoFAjYhf1Lyj5/Bqg+fop/KNLydLuce9vZLeWeYtILaBQI2InHe+Aq+4Bs5g7dz/N9W0iyC30kfje92iVt4jYnUKNiN0MeB7qt8Y4vptpjRcQHeHi+71ZfLpXu7uI2Jv+KydiNxH14Y43AIO6m+fx5rUHAEjaZ/DNTi3zFhH7UqgRsaM23aHHaACu+X48D14ZhonB4+9t4ESelnmLiD0p1IjYVa+x0LwT5B/jicLXaBrh42CWh7FLvtcybxGxJYUaEbtyhcEds8BVB/fuVbzQZDkuh8GyDQdZuG6v1dWJiAScQo2InTW5FPr/DYAemfN5uqsBwPgPN7EzM9fKykREAk6hRsTurhlGcbubcJpe7tn7DD3bRpFX6GPkvFQKi7TOW0TsIyhDzeDBg2nYsCF33XVXhY/n5eXRpk0bHn/88RquTCQEGQa+W1/F44rCkbGJaS2WUb+Om+/3nmBS0narqxMRCZigDDUjRozg7bffPuPjzz77LNdee20NViQS4uo1Ja31sJIfU6Yzs2fJqac3kn9kzY+ZVlYmIhIwQRlqevfuTVRUVIWP7dixg61btzJgwIAarkoktB2sfzW+uF8DJr9Ie5IHr26AaULi/PUcyy20ujwRkfPmd6hJTk5m4MCBtGjRAsMwWLp0abkxU6dOpW3btkRERBAfH8/q1asDUSsAjz/+OBMnTgzYfCK1SfFNz0CjdpC1jyfNmVwUE8nBrALGLNYybxEJfX6HmtzcXDp16sSUKVMqfHz+/PmMGjWKJ598ktTUVHr27ElCQgLp6emlY+Lj4+nYsWO52/79+yt97ffff59LL72USy+91N+yRQQgrC7cORMMJ64tS/hnl924nQbLNx1i3n/3WF2diMh5cfn7hISEBBISEs74+KRJkxg2bBgPPfQQAJMnT2b58uVMmzat9AhLSkrKORW7du1a5s2bx8KFC8nJycHr9RIdHc24cePKjfV4PHg8ntL7WVlZAHi9XrzewH6i6qn5Aj1vsLB7f2D/Hsv01/QqHNf/CeeqibRc8xfG9ZjLX1dl8/SHm4hrGU27JnUtrtZ/dn//wP492r0/sH+P1dWfP/MZ5nkcczYMgyVLljBo0CAACgsLiYyMZOHChQwePLh03MiRI0lLS2PVqlVVnnvlypVMmTKF9957r8LH58yZw8aNG3nxxRcrfHz8+PFMmDCh3Pa5c+cSGRlZ5TpE7MgwfVy34zka5+4gs2577vU+ydYsFy3rmozu6MMVlFfbiUhtlJeXx9ChQzlx4gTR0dGVjvX7SE1lMjMz8fl8xMbGltkeGxvLwYMHqzxP//79+e6778jNzaVly5YsWbKELl26+FXL2LFjSUxMLL2flZVFq1at6Nev31n/Uvzl9XpJSkqib9++uN3ugM4dDOzeH9i/xwr7O3Yl5qwbiMndxvxum+n1TTx7c71sdrVjzM3trS3YT3Z//8D+Pdq9P7B/j9XV36kzLVUR0FBzimEYZe6bplluW2WWL19+1jEPPPBApY+Hh4cTHh5ebrvb7a62X6bqnDsY2L0/sH+PZfpregkkvADvD6f+Ny8y9cYF/OojL7O/2k3vy5rR45IYa4s9B3Z//8D+Pdq9P7B/j4Huz5+5AnqQOSYmBqfTWe6oTEZGRrmjNyISBDoPhctvg+IiuqWN4YEuTQFIXJDGUS3zFpEQE9BQExYWRnx8PElJSWW2JyUl0b1790C+lIgEgmHAwFegXjPI3M5fwuZxcdN6ZGR7+NN7WuYtIqHF71CTk5NDWloaaWlpAOzcuZO0tLTSJduJiYnMmjWLN998ky1btjB69GjS09N55JFHAlq4iARIZCMYPA0AV8osZnc/SpjTwedbDvHvb9LP8mQRkeDhd6hZt24dcXFxxMXFASUhJi4urnRZ9ZAhQ5g8eTJPP/00nTt3Jjk5mWXLltGmTZvAVi4igdPuRug6HIA2q//EuBubAPDMR5vZcSjbyspERKrM71DTq1cvTNMsd5szZ07pmOHDh7Nr1y48Hg8pKSlcf/31gaxZRKpDn6egyeWQm8H/ZbxEz4sb4ykqZsS8NDxFPqurExE5K30ahYiUcEeUfNqwMwxj2zJev3wDjeuGseVAFs9/us3q6kREzkqhRkT+p9mV0KfkVHL0ynG81r/kM51mf7mTldsyrKxMROSsFGpEpKyuj8GFPcGbR/f1Y3mg6wUAPL7wezJzPGd5soiIdRRqRKQshwMGT4eI+rAvhb/U+4hLY+uRmaNl3iIS3BRqRKS8+i3h1pcBcH31EjN6FxPmcvDF1gze/nq3xcWJiFRMoUZEKtbxTrjqHjCLuXDVKP7atxUAzy7bwraDWuYtIsFHoUZEzmzA81C/NRzbxb3HptGrfRMKi4oZ8W4qBV4t8xaR4KJQIyJnFlEf7ngDMDDS/sWrnfYQUy+MbYey+fsnW62uTkSkDIUaEalcm+7QYzQA0Ul/4JVbmgEwZ80uVmzVMm8RCR4KNSJydr3GQvNOkH+M6zb8lQe7twbgj++t53C2lnmLSHBQqBGRs3OFwR2zwFUHflrBEzGruaxZFJk5hTy+cD3FxVrmLSLWU6gRkappcin0ewYA93/GM71/JOEuB6u2H2bOml3W1iYigkKNiPijy0NwST/webhw5SjGJbQD4O+fbGXz/iyLixOR2k6hRkSqzjDg9tchMgYObWBo7jvcdHlTCn3FjJynZd4iYi2FGhHxT72mcNtrABhrXuOlLlk0iQpnR0YOz368xeLiRKQ2U6gREf9dNgDiHwBM6n/6e169/UIA3lm7m6TNh6ysTERqMYUaETk3/Z+DRu0gax/dtjzLQ9ddCMCfF31PRlaBtbWJSK2kUCMi5yasLtwxEwwnbFrMn1tuoEPzaI7mFvIHLfMWEQso1IjIuWsZD73GAOD+9I9MvbUJEW4Hq3dkMvvLnRYXJyK1jUKNiJyfHonQ6lrwZHFhciLjbmkPwPPLt7Jx3wmLixOR2kShRkTOj9MFg9+AsHqw+yt+5X2ffh1i8fpMRs5LJa+wyOoKRaSWUKgRkfPXqC0kPA+AseJZXuxhEhsdzo+Hc3nmIy3zFpGaoVAjIoHReShcfhsUe4leNpzJd7THMODdb9P5dONBq6sTkVpAoUZEAsMwYOArUK8ZZG6n24+v8PD1FwEwZvH3HDyhZd4iUr0UakQkcCIbwaCpJT//dyaPt93NlRfU53iel8QFaVrmLSLVSqFGRALr4j5w7aMAuD/8Pa/e3oo6bidrfjzCjNU/WVyciNiZQo2IBN5NT0GTyyE3g7ZfjWX8wMsBeHH5Nr7fe9za2kTEthRqRCTw3HXgzpngDINtH3O3cyUJHZtRVGwycl4auR4t8xaRwFOoEZHq0exK6DMOAOPTMfyjVyTN60ewMzOXpz/cbHFxImJHCjUiUn26PgYX9gRvHtGfPMbLd12BYcD8dXtYtuGA1dWJiM0o1IhI9XE4YPB0iKgP+1LouvctHr2hHQBjFn3P/uP5FhcoInaiUCMi1at+S7j15ZKfk58n8fLjdGpZn6yCIkbPT8OnZd4iEiAKNSJS/TreCVcNAbMY19Lf8uodlxAZ5uSbnUeZvupHq6sTEZtQqBGRmjHgBajfCo7tos1/n2bCbVcA8HLSdtL2HLe2NhGxBYUaEakZEfVLvs0bA1L/xV2R33HLVc1PLvNOJUfLvEXkPCnUiEjNufA66DEaAOPDkUzsE8MFDeqw+0ge4z/YZHFxIhLqFGpEpGb1GgvNO0H+MaI/G8nLd1+Fw4D3Uvby4fr9VlcnIiFMoUZEapYrDO6YBa468OMX/OLwIh7rfTEATyzZwN5jeRYXKCKhSqFGRGpek0uh3zMlP3/2V0ZcWURc6wZka5m3iJwHhRoRsUaXh+DivuDz4F76W165qwP1wl38d9cxXl/xg9XViUgIUqgREWsYBtz+OkQ2hkMbaJ02iadvL1nm/cp/dpCy+5jFBYpIqFGoERHrRMXCba+V/LzmNQY3+JHbO7fAV2wyan4q2QVea+sTkZASlKFm8ODBNGzYkLvuuqvM9m3bttG5c+fSW506dVi6dKk1RYpIYFx2C1x9P2BiLH2UZ25uScuGddhzNJ9x72uZt4hUXVCGmhEjRvD222+X296+fXvS0tJIS0vjyy+/pG7duvTt29eCCkUkoG6eCI3aQdY+oj8fw+QhnXEYsCR1H++n7bO6OhEJEUEZanr37k1UVFSlYz744AP69OlD3bp1a6gqEak2YXXhjplgOGHje1yT9R9G9LkEgL8s2cieo1rmLSJn53eoSU5OZuDAgbRo0QLDMCo8/TN16lTatm1LREQE8fHxrF69OhC1lrFgwQKGDBkS8HlFxCIt46HXmJKfP/4Dv4sL45o2Dcn2FDFyXipFvmJr6xORoOd3qMnNzaVTp05MmTKlwsfnz5/PqFGjePLJJ0lNTaVnz54kJCSQnp5eOiY+Pp6OHTuWu+3fX7VPE83KyuKrr75iwIAB/pYvIsGsRyK0/AV4TuD6YDgv//JKosJdfJd+nNe+0DJvEamcy98nJCQkkJCQcMbHJ02axLBhw3jooYcAmDx5MsuXL2fatGlMnDgRgJSUlHMst8T7779P//79iYiIOOMYj8eDx+MpvZ+VlQWA1+vF6w3siopT8wV63mBh9/7A/j2GVH+3vY5rVi+M3V/RYtMMJtz2SxIXbuC1L3bQrW0D4ts0LPeUkOrvHNm9R7v3B/bvsbr682c+v0NNZQoLC0lJSWHMmDFltvfr1481a9YE7HUWLFjAww8/XOmYiRMnMmHChHLbP/vsMyIjIwNWy+mSkpKqZd5gYff+wP49hkp/rZv9irj0WRgrn6XRpS66xFzEfzMdDH/nW/54lY/IM/yXK1T6Ox9279Hu/YH9ewx0f3l5Vb+mLqChJjMzE5/PR2xsbJntsbGxHDx4sMrz9O/fn++++47c3FxatmzJkiVL6NKlCwAnTpzg22+/ZdGiRZXOMXbsWBITE0vvZ2Vl0apVK/r160d0dLQfXZ2d1+slKSmJvn374na7Azp3MLB7f2D/HkOuPzOB4kUHcWz7iBsy3+Gq3yzn9pnr2XMsn68KWjLpl1diGEbp8JDr7xzYvUe79wf277G6+jt1pqUqAhpqTjn9PzYApmmW21aZ5cuXn/Gx+vXrc+jQobPOER4eTnh4eLntbre72n6ZqnPuYGD3/sD+PYZUf7e/BlPXYRzZQaO1f+fVXz3BXdO/5qMNB7nx8ljuuLpluaeEVH/nyO492r0/sH+Pge7Pn7kCuqQ7JiYGp9NZ7qhMRkZGuaM3IiKVimwEg6aW/PztDOI86xh1cpn3X5duZPeRXAuLE5FgFNBQExYWRnx8fLnzaUlJSXTv3j2QLyUitcHFfeDaR0t+fv8xhv+iAb+4sBG5hT5GzkvDq2XeInIav0NNTk5O6af6AuzcuZO0tLTSJduJiYnMmjWLN998ky1btjB69GjS09N55JFHAlq4iNQSNz0FTS6HnEM4PxrJy0M6ER3hIm3PcV79zw6rqxORIOJ3qFm3bh1xcXHExcUBJSEmLi6OcePGATBkyBAmT57M008/TefOnUlOTmbZsmW0adMmsJWLSO3grgN3zgRnGGz7mAt+Wshzd1wJwJQVP/DNT0csLlBEgoXfoaZXr16YplnuNmfOnNIxw4cPZ9euXXg8HlJSUrj++usDWbOI1DbNroQb/1ry86djuPWCfH4Z3xLThNHz0ziRb8/P/RAR/wTldz+JiJTT7XdwYU/w5sHi/8f4Wy7lwsaR7D9RwLgPNmOaVhcoIlZTqBGR0OBwwODpEFEf9qVQ95vJvHJPHC6HwbKNh/jmcNU/NkJE7KlaPqdGRKRa1G8Jt74M7/0Gkl+g08V9SOx3Kc9/uo1FOx3wwWZi69ehSVQ4TeqFl/wZFU5MvXAi3E6rqxeRaqZQIyKhpeOdsH05fD8fFj/Mbx9OJnlbBmt3HuPd/+4949OiI1ylIadJVESZ0HN6CGpUNwynQ0d9REKRQo2IhJ4BL8DuNXBsJ87PnmDGvS/y3L8/o3HrSziaV8ThbA+HczxkZns4nO2h0FdMVkERWQVF/Hi48g/tcxjQuF74GUPP6beocJdfn5YuItVLoUZEQk9EfRj8Bsy5BVLfIfKim+gWazCgz8XlPlLdNE2y8os4nFNAxsmQcyr0HD7tfmaOhyO5hRSblG7jQOVlhLscZw49Ov0lUuMUakQkNF14HfQYBV++jHPZKCLaja9wmGEY1I90Uz/SzcVNoyqdsshXzNHcwpLw87PQc+r+qaM/2Z4iPEXF7D2Wz95j+WctV6e/RKqfQo2IhK5eT8AP/8E4+D1xu2fCsesgLAKcbnC4wek6+acbHC44y6kil9NB0+gImkZHnPWl8wt9ZOZ4/nf0p4IQdK6nvxrVrSDsRLrYl2nQeOdRmjWoS5OocKIjdPpL5HQKNSISulxhcOcszDeup2n2Rph6TeXjDWf5wONw/Sz8nHrMVXEwcrjA6aaOw00rp4tWP3+sgRsa/e95psNJgc9Jttckq9DgRKHJCQ8c9xRzrACO5hdzNN/kSEExR/JNikwHRbkuvLlO9h50shMnRaaLIhwU4WTxjmS8OCnCicPlpkm9iMqv/Tl5X6e/pDZQqBGR0NakPb6EFyn65AnCHT4MXxEUe8Gs4MsuTR8U+YCCGivPAOqcvDU92+Aw/+cvyndQlO/Em+Gi6GTY8eLEZ5b8mY+Tn3BR7HBhOFw4XG4cTjdOdxiuk7ewsHDCwsIIDw8nPCwch7N8iKss4JUPie4KHvvZc089dipUFoNhFqFPUZTzoVAjIiHPvOoelu+NZsCAAf+7ULi4uCTcFBeB7/Q/vSf/9J3282mPFRfBqWDk+9nzi70/e+zkPKXz/ux5ZV6zqJJ6is46v1nsxaggqLmMYlwUE8HPviqiorNSxUDhyZ/PfhlQjXIDtwGk8b/AVNUg5XSDw1l5aCr3mL/zV/TYWYKaH6c+JTAUakTEnhwOcIQD4VZXEhBFXi/LPv6IAf374nZQQWj6eZAq+dP0FZJX4OFEbj5Zuflk5+WTk5dPbl4Bufn55BV4yC8ooMDjobDQg9P04TaKcFKMGx8uinDhO/mzD5dx8k+KCDeKiXSZRDqLiXCaRDiLCTeKCXP4CDNKnuOkGBdFGGcKcRUdUTvVRw0eUat2Dhcuh4sBxeDaWieIg9qZjrZVUE8QBjWFGhGRUGE4wBUOP1u2XulTgLonby3OMrbIV8zRvMJyFzzvq2AVWHZBUcmTCiuf85SoCBdN6oUTU/9n1/7Uc9O0roNGYSab133J7X2vp47beYajaL7yIa7Co2KVHCkrd5Tu50fRqnqUrpL5qeAUWnFJsHMD5NskrDlcZUKWy+Gmt88NAwZYVpJCjYiIACdXf0VF0DTq7Ku/Cry+M676OvW5P4ezS1aHFRYVk11QRHZBET9lVrb6qz5j16+ncd0wYspd8BxZ+nPTqHCa1Isguk6Qrv46derzZ4HHW1jAqi8+54ae1+E2zApOPfoT4vwIWYE41XqGoFZyRK2EAYS7Kv/YhOqmUCMiIn6LcDtp1SiSVo0iKx1nmibZnqKywaeiMJRdQGaOB9M0yMwpJDOnkK0HsyudO8xZ8uGHMZWs+mp68sMP64TV4OqvU6c+XT879en1khseCzGX+nW0LSgU+yoJTSXhxuvJZ82Xq+lhYZkKNSIiUm0MwyA6wk10hJt2TeqdcZzX6+Wjj5fR9YY+HMsvPsMRoILS+1kFRRT6itl3PJ99x89+1XNUuOt/AegMIajpyQ8/dDkdgfwrsAeHs+T286B2Oq+XrDq7a66mCijUiIhIUHAYEFMvnOYNz34Uo8DrKz3FVdlpsMPZHjxFxWR7isj2nO30V8m1rxWf/iofhurXcQfn6a9aTKFGRERCToTbScuGkbRsGKDTXzkejuR4KDbx6/RXTL2ws3z4YcmHI9bo6a9aTKFGRERsq6qnvwB8xSbHKlj9VdH9E/leCn3F7D9RwP4TZ1/NVC/cRUy9MJyFTj7NWk9s/ToVhqDGOv11XhRqREREAKfDIKZeyYXFlzevfGyB18eR3MIKjgAVlAlAGVklp79yPEXkeIoAgx83HTrjvIYBjSLDKjnyo9NflVGoERER8VOE28kFDepwQYM6lY4zTZOck6e/DhzPJSn5G1pe0oGjeUXljgRlnjz9dSS3kCO5Zz/95XYalYaeU6e/YqLCiAyrHf/c144uRURELGAYBlERbqIi3LRqEE7mZpMB3dr87+s8TuPv6S+vz/Tr9NeZjvzERIWVXvvTuF4Y7hA+/aVQIyIiEgT8Of3lKfKRmVM2AFW0Giwju4AC7/9Of+08y+ovgEZ1w6pwBCicBpHBd/pLoUZERCTEhLuqfvort9BX7oMOD1cQgDJzCvEVmxzNLeRobiHbDp399FfMaUvdG9d1c/yggwQLv2ldoUZERMSmDMOgXriLeuEu2sbUrXRs8anTX+U+7dlTLgQdzys5/XXgRAEHTjv9FekyLD16o1AjIiIiOBwGjeuF07heOJc1q3ysp8jHkdNPf+V4OHg8j+3bt9dMsWegUCMiIiJ+CXc5adGgDi1OO/3l9XpZlr/NwqogdC9xFhERETmNQo2IiIjYgkKNiIiI2IJCjYiIiNiCQo2IiIjYgkKNiIiI2IJCjYiIiNiCQo2IiIjYgkKNiIiI2IJCjYiIiNiCQo2IiIjYgkKNiIiI2IJCjYiIiNhCrfmWbtM0AcjKygr43F6vl7y8PLKysnC73QGf32p27w/s36P6C31279Hu/YH9e6yu/k79u33q3/HK1JpQk52dDUCrVq0srkRERET8lZ2dTf369SsdY5hViT42UFxczP79+4mKisIwjIDOnZWVRatWrdizZw/R0dEBnTsY2L0/sH+P6i/02b1Hu/cH9u+xuvozTZPs7GxatGiBw1H5VTO15kiNw+GgZcuW1foa0dHRtvxFPcXu/YH9e1R/oc/uPdq9P7B/j9XR39mO0JyiC4VFRETEFhRqRERExBYUagIgPDycp556ivDwcKtLqRZ27w/s36P6C31279Hu/YH9ewyG/mrNhcIiIiJibzpSIyIiIragUCMiIiK2oFAjIiIitqBQIyIiIragUFOBqVOn0rZtWyIiIoiPj2f16tWVjl+1ahXx8fFERERw0UUXMX369HJjFi1aRIcOHQgPD6dDhw4sWbKkusqvEn96XLx4MX379qVJkyZER0fTrVs3li9fXmbMnDlzMAyj3K2goKC6W6mQP/2tXLmywtq3bt1aZlwwvYf+9PfAAw9U2N8VV1xROiaY3r/k5GQGDhxIixYtMAyDpUuXnvU5obYP+ttjqO2D/vYXivugvz2G0n44ceJEunTpQlRUFE2bNmXQoEFs27btrM8Lhv1QoeZn5s+fz6hRo3jyySdJTU2lZ8+eJCQkkJ6eXuH4nTt3MmDAAHr27ElqaipPPPEEI0aMYNGiRaVjvv76a4YMGcJ9993H+vXrue+++7j77rv55ptvaqqtMvztMTk5mb59+7Js2TJSUlLo3bs3AwcOJDU1tcy46OhoDhw4UOYWERFREy2V4W9/p2zbtq1M7ZdccknpY8H0Hvrb3yuvvFKmrz179tCoUSN++ctflhkXLO9fbm4unTp1YsqUKVUaH4r7oL89hto+6G9/p4TKPgj+9xhK++GqVat47LHHWLt2LUlJSRQVFdGvXz9yc3PP+Jyg2Q9NKeMXv/iF+cgjj5TZdtlll5ljxoypcPyf/vQn87LLLiuz7be//a3ZtWvX0vt33323efPNN5cZ079/f/Oee+4JUNX+8bfHinTo0MGcMGFC6f233nrLrF+/fqBKPC/+9rdixQoTMI8dO3bGOYPpPTzf92/JkiWmYRjmrl27SrcF0/t3OsBcsmRJpWNCcR88XVV6rEgw74Onq0p/obYP/ty5vIehtB9mZGSYgLlq1aozjgmW/VBHak5TWFhISkoK/fr1K7O9X79+rFmzpsLnfP311+XG9+/fn3Xr1uH1eisdc6Y5q9O59PhzxcXFZGdn06hRozLbc3JyaNOmDS1btuTWW28t93+RNeF8+ouLi6N58+b06dOHFStWlHksWN7DQLx/s2fP5qabbqJNmzZltgfD+3cuQm0fDIRg3gfPRyjsg4ESSvvhiRMnAMr9vp0uWPZDhZrTZGZm4vP5iI2NLbM9NjaWgwcPVvicgwcPVji+qKiIzMzMSsecac7qdC49/txLL71Ebm4ud999d+m2yy67jDlz5vDBBx/w7rvvEhERwXXXXceOHTsCWv/ZnEt/zZs3Z8aMGSxatIjFixfTvn17+vTpQ3JycumYYHkPz/f9O3DgAJ988gkPPfRQme3B8v6di1DbBwMhmPfBcxFK+2AghNJ+aJomiYmJ9OjRg44dO55xXLDsh7XmW7r9YRhGmfumaZbbdrbxP9/u75zV7Vzreffddxk/fjzvv/8+TZs2Ld3etWtXunbtWnr/uuuu4+qrr+a1117j1VdfDVzhVeRPf+3bt6d9+/al97t168aePXt48cUXuf76689pzup2rrXMmTOHBg0aMGjQoDLbg+3981co7oPnKlT2QX+E4j54PkJpP/zd737H999/z5dffnnWscGwH+pIzWliYmJwOp3lUmNGRka5dHlKs2bNKhzvcrlo3LhxpWPONGd1OpceT5k/fz7Dhg1jwYIF3HTTTZWOdTgcdOnSpcb/D+N8+jtd165dy9QeLO/h+fRnmiZvvvkm9913H2FhYZWOter9Oxehtg+ej1DYBwMlWPfB8xVK++Hvf/97PvjgA1asWEHLli0rHRss+6FCzWnCwsKIj48nKSmpzPakpCS6d+9e4XO6detWbvxnn33GNddcg9vtrnTMmeasTufSI5T83+EDDzzA3LlzueWWW876OqZpkpaWRvPmzc+7Zn+ca38/l5qaWqb2YHkPz6e/VatW8cMPPzBs2LCzvo5V79+5CLV98FyFyj4YKMG6D56vUNgPTdPkd7/7HYsXL+aLL76gbdu2Z31O0OyHAbvk2CbmzZtnut1uc/bs2ebmzZvNUaNGmXXr1i29Qn3MmDHmfffdVzr+p59+MiMjI83Ro0ebmzdvNmfPnm263W7zvffeKx3z1VdfmU6n0/z73/9ubtmyxfz73/9uulwuc+3atTXen2n63+PcuXNNl8tlvv766+aBAwdKb8ePHy8dM378ePPTTz81f/zxRzM1NdV88MEHTZfLZX7zzTdB39/LL79sLlmyxNy+fbu5ceNGc8yYMSZgLlq0qHRMML2H/vZ3yr333mtee+21Fc4ZTO9fdna2mZqaaqamppqAOWnSJDM1NdXcvXu3aZr22Af97THU9kF/+wu1fdA0/e/xlFDYDx999FGzfv365sqVK8v8vuXl5ZWOCdb9UKGmAq+//rrZpk0bMywszLz66qvLLGO7//77zRtuuKHM+JUrV5pxcXFmWFiYeeGFF5rTpk0rN+fChQvN9u3bm26327zsssvK7KxW8KfHG264wQTK3e6///7SMaNGjTJbt25thoWFmU2aNDH79etnrlmzpgY7Ksuf/v7xj3+Y7dq1MyMiIsyGDRuaPXr0MD/++ONycwbTe+jv7+jx48fNOnXqmDNmzKhwvmB6/04t7z3T75sd9kF/ewy1fdDf/kJxHzyX39NQ2Q8r6gsw33rrrdIxwbofGicbEBEREQlpuqZGREREbEGhRkRERGxBoUZERERsQaFGREREbEGhRkRERGxBoUZERERsQaFGREREbEGhRkRERGxBoUZERERsQaFGREREbEGhRkRERGxBoUZERERs4f8Davi/SKHr6aIAAAAASUVORK5CYII=",
      "text/plain": [
       "<Figure size 640x480 with 1 Axes>"
      ]
     },
     "metadata": {},
     "output_type": "display_data"
    },
    {
     "data": {
      "image/png": "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",
      "text/plain": [
       "<Figure size 640x480 with 1 Axes>"
      ]
     },
     "metadata": {},
     "output_type": "display_data"
    }
   ],
   "source": [
    "plt.figure()\n",
    "plt.semilogy(np.abs(converg_X))\n",
    "plt.semilogy(np.abs(converg_Y))\n",
    "plt.grid()\n",
    "plt.figure()\n",
    "plt.plot(np.abs(avg_offset_x))\n",
    "plt.plot(np.abs(avg_offset_y))\n",
    "plt.grid()\n",
    "print(np.abs(np.mean(muXF)))"
   ]
  },
  {
   "cell_type": "code",
   "execution_count": null,
   "metadata": {},
   "outputs": [
    {
     "ename": "NameError",
     "evalue": "name 'ax' is not defined",
     "output_type": "error",
     "traceback": [
      "\u001b[1;31m---------------------------------------------------------------------------\u001b[0m",
      "\u001b[1;31mNameError\u001b[0m                                 Traceback (most recent call last)",
      "\u001b[1;32mc:\\Users\\Pascal\\Desktop\\TP4a\\git_final_final\\ecal_reco\\time_alignement\\time_distribution.ipynb Cell 7\u001b[0m line \u001b[0;36m2\n\u001b[0;32m     <a href='vscode-notebook-cell:/c%3A/Users/Pascal/Desktop/TP4a/git_final_final/ecal_reco/time_alignement/time_distribution.ipynb#X13sZmlsZQ%3D%3D?line=17'>18</a>\u001b[0m plt\u001b[39m.\u001b[39mpcolor(countY)\n\u001b[0;32m     <a href='vscode-notebook-cell:/c%3A/Users/Pascal/Desktop/TP4a/git_final_final/ecal_reco/time_alignement/time_distribution.ipynb#X13sZmlsZQ%3D%3D?line=19'>20</a>\u001b[0m \u001b[39m# Set labels for the x, y, and z axes\u001b[39;00m\n\u001b[1;32m---> <a href='vscode-notebook-cell:/c%3A/Users/Pascal/Desktop/TP4a/git_final_final/ecal_reco/time_alignement/time_distribution.ipynb#X13sZmlsZQ%3D%3D?line=20'>21</a>\u001b[0m ax\u001b[39m.\u001b[39mset_xlabel(\u001b[39m'\u001b[39m\u001b[39mX\u001b[39m\u001b[39m'\u001b[39m)\n\u001b[0;32m     <a href='vscode-notebook-cell:/c%3A/Users/Pascal/Desktop/TP4a/git_final_final/ecal_reco/time_alignement/time_distribution.ipynb#X13sZmlsZQ%3D%3D?line=21'>22</a>\u001b[0m ax\u001b[39m.\u001b[39mset_ylabel(\u001b[39m'\u001b[39m\u001b[39mY\u001b[39m\u001b[39m'\u001b[39m)\n\u001b[0;32m     <a href='vscode-notebook-cell:/c%3A/Users/Pascal/Desktop/TP4a/git_final_final/ecal_reco/time_alignement/time_distribution.ipynb#X13sZmlsZQ%3D%3D?line=22'>23</a>\u001b[0m ax\u001b[39m.\u001b[39mset_zlabel(\u001b[39m'\u001b[39m\u001b[39mZ\u001b[39m\u001b[39m'\u001b[39m)\n",
      "\u001b[1;31mNameError\u001b[0m: name 'ax' is not defined"
     ]
    },
    {
     "data": {
      "image/png": "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",
      "text/plain": [
       "<Figure size 640x480 with 1 Axes>"
      ]
     },
     "metadata": {},
     "output_type": "display_data"
    },
    {
     "data": {
      "image/png": "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",
      "text/plain": [
       "<Figure size 640x480 with 1 Axes>"
      ]
     },
     "metadata": {},
     "output_type": "display_data"
    }
   ],
   "source": [
    "import numpy as np\n",
    "import matplotlib.pyplot as plt\n",
    "from mpl_toolkits.mplot3d import Axes3D\n",
    "\n",
    "# Create a sample matrix\n",
    "# Replace this with your own matrix\n",
    "matrix = countX\n",
    "\n",
    "# Create arrays for x and y coordinates that match the shape of the matrix\n",
    "x = np.arange(matrix.shape[0])\n",
    "y = np.arange(matrix.shape[1])\n",
    "x, y = np.meshgrid(x, y)\n",
    "\n",
    "# Create the 3D surface plot\n",
    "plt.figure()\n",
    "plt.pcolor(countX)\n",
    "plt.figure()\n",
    "plt.pcolor(countY)\n",
    "\n",
    "# Set labels for the x, y, and z axes\n",
    "ax.set_xlabel('X')\n",
    "ax.set_ylabel('Y')\n",
    "ax.set_zlabel('Z')\n",
    "\n",
    "# Show the plot\n",
    "plt.show()\n",
    "\n",
    "\n"
   ]
  },
  {
   "cell_type": "code",
   "execution_count": 5,
   "metadata": {},
   "outputs": [],
   "source": [
    "uncorrected_tracks = []\n",
    "for i in range(5000) :\n",
    "    event = df_hits.loc[good_candidates[i]]\n",
    "    next_event = df_hits_total.loc[good_candidates[i]+1]\n",
    "\n",
    "    hits = [Hit(event,i) for i in range(event['n_hits' ])]\n",
    "    # print (hits)    \n",
    "    Track = Track3D(hits)\n",
    "    uncorrected_tracks.append(Track)"
   ]
  },
  {
   "cell_type": "code",
   "execution_count": 16,
   "metadata": {},
   "outputs": [
    {
     "data": {
      "application/vnd.plotly.v1+json": {
       "config": {
        "plotlyServerURL": "https://plot.ly"
       },
       "data": [
        {
         "line": {
          "color": "black",
          "width": 5
         },
         "mode": "lines",
         "type": "scatter3d",
         "x": [
          5.996393688955683,
          6.325132246737924,
          6.6538708045201655,
          6.982609362302407,
          7.311347920084647,
          7.640086477866888,
          7.96882503564913,
          8.29756359343137,
          8.626302151213611,
          8.955040708995853,
          9.283779266778094,
          9.612517824560335,
          9.941256382342576,
          10.269994940124818,
          10.598733497907059,
          10.9274720556893,
          11.256210613471541,
          11.584949171253783,
          11.913687729036022,
          12.242426286818265,
          12.571164844600505,
          12.899903402382746,
          13.228641960164985,
          13.557380517947228,
          13.88611907572947,
          14.214857633511711,
          14.54359619129395,
          14.872334749076192,
          15.201073306858433,
          15.529811864640676,
          15.858550422422915,
          16.187288980205157,
          16.516027537987398,
          16.84476609576964,
          17.17350465355188,
          17.502243211334118,
          17.830981769116363,
          18.159720326898604,
          18.488458884680846,
          18.817197442463083,
          19.145936000245328,
          19.474674558027566,
          19.80341311580981,
          20.13215167359205,
          20.46089023137429,
          20.78962878915653,
          21.118367346938776,
          21.447105904721013,
          21.775844462503258,
          22.104583020285496
         ],
         "y": [
          9.514049586776867,
          9.572928134439358,
          9.631806682101848,
          9.69068522976434,
          9.74956377742683,
          9.80844232508932,
          9.867320872751812,
          9.926199420414303,
          9.985077968076794,
          10.043956515739284,
          10.102835063401775,
          10.161713611064267,
          10.220592158726756,
          10.279470706389247,
          10.338349254051739,
          10.39722780171423,
          10.45610634937672,
          10.514984897039211,
          10.573863444701702,
          10.632741992364192,
          10.691620540026683,
          10.750499087689175,
          10.809377635351664,
          10.868256183014156,
          10.927134730676647,
          10.986013278339138,
          11.044891826001628,
          11.10377037366412,
          11.16264892132661,
          11.2215274689891,
          11.280406016651591,
          11.339284564314083,
          11.398163111976572,
          11.457041659639064,
          11.515920207301555,
          11.574798754964046,
          11.633677302626536,
          11.692555850289027,
          11.751434397951519,
          11.810312945614008,
          11.8691914932765,
          11.92807004093899,
          11.986948588601482,
          12.045827136263972,
          12.104705683926463,
          12.163584231588953,
          12.222462779251444,
          12.281341326913935,
          12.340219874576427,
          12.399098422238918
         ],
         "z": [
          0,
          0.32653061224489793,
          0.6530612244897959,
          0.9795918367346939,
          1.3061224489795917,
          1.6326530612244896,
          1.9591836734693877,
          2.2857142857142856,
          2.6122448979591835,
          2.9387755102040813,
          3.265306122448979,
          3.591836734693877,
          3.9183673469387754,
          4.244897959183673,
          4.571428571428571,
          4.897959183673469,
          5.224489795918367,
          5.551020408163265,
          5.877551020408163,
          6.204081632653061,
          6.530612244897958,
          6.857142857142857,
          7.183673469387754,
          7.5102040816326525,
          7.836734693877551,
          8.16326530612245,
          8.489795918367346,
          8.816326530612244,
          9.142857142857142,
          9.46938775510204,
          9.795918367346937,
          10.122448979591836,
          10.448979591836734,
          10.775510204081632,
          11.10204081632653,
          11.428571428571427,
          11.755102040816325,
          12.081632653061224,
          12.408163265306122,
          12.734693877551019,
          13.061224489795917,
          13.387755102040815,
          13.714285714285714,
          14.040816326530612,
          14.367346938775508,
          14.693877551020407,
          15.020408163265305,
          15.346938775510203,
          15.673469387755102,
          16
         ]
        },
        {
         "marker": {
          "color": "blue",
          "size": 1
         },
         "mode": "lines",
         "type": "scatter3d",
         "x": [
          12,
          12
         ],
         "y": [
          0,
          38.4
         ],
         "z": [
          6.200000000000001,
          6.200000000000001
         ]
        },
        {
         "marker": {
          "color": "blue",
          "size": 1
         },
         "mode": "lines",
         "type": "scatter3d",
         "x": [
          8.8,
          8.8
         ],
         "y": [
          0,
          38.4
         ],
         "z": [
          2.2,
          2.2
         ]
        },
        {
         "marker": {
          "color": "blue",
          "size": 1
         },
         "mode": "lines",
         "type": "scatter3d",
         "x": [
          20,
          20
         ],
         "y": [
          0,
          38.4
         ],
         "z": [
          14.200000000000001,
          14.200000000000001
         ]
        },
        {
         "marker": {
          "color": "blue",
          "size": 1
         },
         "mode": "lines",
         "type": "scatter3d",
         "x": [
          10.4,
          10.4
         ],
         "y": [
          0,
          38.4
         ],
         "z": [
          4.2,
          4.2
         ]
        },
        {
         "marker": {
          "color": "blue",
          "size": 1
         },
         "mode": "lines",
         "type": "scatter3d",
         "x": [
          18.400000000000002,
          18.400000000000002
         ],
         "y": [
          0,
          38.4
         ],
         "z": [
          12.200000000000001,
          12.200000000000001
         ]
        },
        {
         "marker": {
          "color": "blue",
          "size": 1
         },
         "mode": "lines",
         "type": "scatter3d",
         "x": [
          16.8,
          16.8
         ],
         "y": [
          0,
          38.4
         ],
         "z": [
          10.2,
          10.2
         ]
        },
        {
         "marker": {
          "color": "blue",
          "size": 1
         },
         "mode": "lines",
         "type": "scatter3d",
         "x": [
          13.600000000000001,
          13.600000000000001
         ],
         "y": [
          0,
          38.4
         ],
         "z": [
          8.200000000000001,
          8.200000000000001
         ]
        },
        {
         "marker": {
          "color": "blue",
          "size": 1
         },
         "mode": "lines",
         "type": "scatter3d",
         "x": [
          5.6000000000000005,
          5.6000000000000005
         ],
         "y": [
          0,
          38.4
         ],
         "z": [
          0.2,
          0.2
         ]
        },
        {
         "marker": {
          "color": "red",
          "size": 1
         },
         "mode": "lines",
         "type": "scatter3d",
         "x": [
          0,
          38.4
         ],
         "y": [
          10.4,
          10.4
         ],
         "z": [
          5.2,
          5.2
         ]
        },
        {
         "marker": {
          "color": "red",
          "size": 1
         },
         "mode": "lines",
         "type": "scatter3d",
         "x": [
          0,
          38.4
         ],
         "y": [
          12,
          12
         ],
         "z": [
          11.2,
          11.2
         ]
        },
        {
         "marker": {
          "color": "red",
          "size": 1
         },
         "mode": "lines",
         "type": "scatter3d",
         "x": [
          0,
          38.4
         ],
         "y": [
          12,
          12
         ],
         "z": [
          13.200000000000001,
          13.200000000000001
         ]
        },
        {
         "marker": {
          "color": "red",
          "size": 1
         },
         "mode": "lines",
         "type": "scatter3d",
         "x": [
          0,
          38.4
         ],
         "y": [
          10.4,
          10.4
         ],
         "z": [
          3.2,
          3.2
         ]
        },
        {
         "marker": {
          "color": "red",
          "size": 1
         },
         "mode": "lines",
         "type": "scatter3d",
         "x": [
          0,
          38.4
         ],
         "y": [
          10.4,
          10.4
         ],
         "z": [
          7.200000000000001,
          7.200000000000001
         ]
        },
        {
         "marker": {
          "color": "red",
          "size": 1
         },
         "mode": "lines",
         "type": "scatter3d",
         "x": [
          0,
          38.4
         ],
         "y": [
          8.8,
          8.8
         ],
         "z": [
          1.2,
          1.2
         ]
        },
        {
         "marker": {
          "color": "red",
          "size": 1
         },
         "mode": "lines",
         "type": "scatter3d",
         "x": [
          0,
          38.4
         ],
         "y": [
          10.4,
          10.4
         ],
         "z": [
          9.200000000000001,
          9.200000000000001
         ]
        },
        {
         "marker": {
          "color": "red",
          "size": 1
         },
         "mode": "lines",
         "type": "scatter3d",
         "x": [
          0,
          38.4
         ],
         "y": [
          12,
          12
         ],
         "z": [
          15.200000000000001,
          15.200000000000001
         ]
        }
       ],
       "layout": {
        "scene": {
         "aspectmode": "cube",
         "xaxis": {
          "range": [
           0,
           38.4
          ],
          "title": {
           "text": "X [cm]"
          }
         },
         "yaxis": {
          "range": [
           0,
           38.4
          ],
          "title": {
           "text": "Y [cm]"
          }
         },
         "zaxis": {
          "range": [
           0,
           16
          ],
          "title": {
           "text": "Z [cm]"
          }
         }
        },
        "template": {
         "data": {
          "bar": [
           {
            "error_x": {
             "color": "#2a3f5f"
            },
            "error_y": {
             "color": "#2a3f5f"
            },
            "marker": {
             "line": {
              "color": "#E5ECF6",
              "width": 0.5
             },
             "pattern": {
              "fillmode": "overlay",
              "size": 10,
              "solidity": 0.2
             }
            },
            "type": "bar"
           }
          ],
          "barpolar": [
           {
            "marker": {
             "line": {
              "color": "#E5ECF6",
              "width": 0.5
             },
             "pattern": {
              "fillmode": "overlay",
              "size": 10,
              "solidity": 0.2
             }
            },
            "type": "barpolar"
           }
          ],
          "carpet": [
           {
            "aaxis": {
             "endlinecolor": "#2a3f5f",
             "gridcolor": "white",
             "linecolor": "white",
             "minorgridcolor": "white",
             "startlinecolor": "#2a3f5f"
            },
            "baxis": {
             "endlinecolor": "#2a3f5f",
             "gridcolor": "white",
             "linecolor": "white",
             "minorgridcolor": "white",
             "startlinecolor": "#2a3f5f"
            },
            "type": "carpet"
           }
          ],
          "choropleth": [
           {
            "colorbar": {
             "outlinewidth": 0,
             "ticks": ""
            },
            "type": "choropleth"
           }
          ],
          "contour": [
           {
            "colorbar": {
             "outlinewidth": 0,
             "ticks": ""
            },
            "colorscale": [
             [
              0,
              "#0d0887"
             ],
             [
              0.1111111111111111,
              "#46039f"
             ],
             [
              0.2222222222222222,
              "#7201a8"
             ],
             [
              0.3333333333333333,
              "#9c179e"
             ],
             [
              0.4444444444444444,
              "#bd3786"
             ],
             [
              0.5555555555555556,
              "#d8576b"
             ],
             [
              0.6666666666666666,
              "#ed7953"
             ],
             [
              0.7777777777777778,
              "#fb9f3a"
             ],
             [
              0.8888888888888888,
              "#fdca26"
             ],
             [
              1,
              "#f0f921"
             ]
            ],
            "type": "contour"
           }
          ],
          "contourcarpet": [
           {
            "colorbar": {
             "outlinewidth": 0,
             "ticks": ""
            },
            "type": "contourcarpet"
           }
          ],
          "heatmap": [
           {
            "colorbar": {
             "outlinewidth": 0,
             "ticks": ""
            },
            "colorscale": [
             [
              0,
              "#0d0887"
             ],
             [
              0.1111111111111111,
              "#46039f"
             ],
             [
              0.2222222222222222,
              "#7201a8"
             ],
             [
              0.3333333333333333,
              "#9c179e"
             ],
             [
              0.4444444444444444,
              "#bd3786"
             ],
             [
              0.5555555555555556,
              "#d8576b"
             ],
             [
              0.6666666666666666,
              "#ed7953"
             ],
             [
              0.7777777777777778,
              "#fb9f3a"
             ],
             [
              0.8888888888888888,
              "#fdca26"
             ],
             [
              1,
              "#f0f921"
             ]
            ],
            "type": "heatmap"
           }
          ],
          "heatmapgl": [
           {
            "colorbar": {
             "outlinewidth": 0,
             "ticks": ""
            },
            "colorscale": [
             [
              0,
              "#0d0887"
             ],
             [
              0.1111111111111111,
              "#46039f"
             ],
             [
              0.2222222222222222,
              "#7201a8"
             ],
             [
              0.3333333333333333,
              "#9c179e"
             ],
             [
              0.4444444444444444,
              "#bd3786"
             ],
             [
              0.5555555555555556,
              "#d8576b"
             ],
             [
              0.6666666666666666,
              "#ed7953"
             ],
             [
              0.7777777777777778,
              "#fb9f3a"
             ],
             [
              0.8888888888888888,
              "#fdca26"
             ],
             [
              1,
              "#f0f921"
             ]
            ],
            "type": "heatmapgl"
           }
          ],
          "histogram": [
           {
            "marker": {
             "pattern": {
              "fillmode": "overlay",
              "size": 10,
              "solidity": 0.2
             }
            },
            "type": "histogram"
           }
          ],
          "histogram2d": [
           {
            "colorbar": {
             "outlinewidth": 0,
             "ticks": ""
            },
            "colorscale": [
             [
              0,
              "#0d0887"
             ],
             [
              0.1111111111111111,
              "#46039f"
             ],
             [
              0.2222222222222222,
              "#7201a8"
             ],
             [
              0.3333333333333333,
              "#9c179e"
             ],
             [
              0.4444444444444444,
              "#bd3786"
             ],
             [
              0.5555555555555556,
              "#d8576b"
             ],
             [
              0.6666666666666666,
              "#ed7953"
             ],
             [
              0.7777777777777778,
              "#fb9f3a"
             ],
             [
              0.8888888888888888,
              "#fdca26"
             ],
             [
              1,
              "#f0f921"
             ]
            ],
            "type": "histogram2d"
           }
          ],
          "histogram2dcontour": [
           {
            "colorbar": {
             "outlinewidth": 0,
             "ticks": ""
            },
            "colorscale": [
             [
              0,
              "#0d0887"
             ],
             [
              0.1111111111111111,
              "#46039f"
             ],
             [
              0.2222222222222222,
              "#7201a8"
             ],
             [
              0.3333333333333333,
              "#9c179e"
             ],
             [
              0.4444444444444444,
              "#bd3786"
             ],
             [
              0.5555555555555556,
              "#d8576b"
             ],
             [
              0.6666666666666666,
              "#ed7953"
             ],
             [
              0.7777777777777778,
              "#fb9f3a"
             ],
             [
              0.8888888888888888,
              "#fdca26"
             ],
             [
              1,
              "#f0f921"
             ]
            ],
            "type": "histogram2dcontour"
           }
          ],
          "mesh3d": [
           {
            "colorbar": {
             "outlinewidth": 0,
             "ticks": ""
            },
            "type": "mesh3d"
           }
          ],
          "parcoords": [
           {
            "line": {
             "colorbar": {
              "outlinewidth": 0,
              "ticks": ""
             }
            },
            "type": "parcoords"
           }
          ],
          "pie": [
           {
            "automargin": true,
            "type": "pie"
           }
          ],
          "scatter": [
           {
            "fillpattern": {
             "fillmode": "overlay",
             "size": 10,
             "solidity": 0.2
            },
            "type": "scatter"
           }
          ],
          "scatter3d": [
           {
            "line": {
             "colorbar": {
              "outlinewidth": 0,
              "ticks": ""
             }
            },
            "marker": {
             "colorbar": {
              "outlinewidth": 0,
              "ticks": ""
             }
            },
            "type": "scatter3d"
           }
          ],
          "scattercarpet": [
           {
            "marker": {
             "colorbar": {
              "outlinewidth": 0,
              "ticks": ""
             }
            },
            "type": "scattercarpet"
           }
          ],
          "scattergeo": [
           {
            "marker": {
             "colorbar": {
              "outlinewidth": 0,
              "ticks": ""
             }
            },
            "type": "scattergeo"
           }
          ],
          "scattergl": [
           {
            "marker": {
             "colorbar": {
              "outlinewidth": 0,
              "ticks": ""
             }
            },
            "type": "scattergl"
           }
          ],
          "scattermapbox": [
           {
            "marker": {
             "colorbar": {
              "outlinewidth": 0,
              "ticks": ""
             }
            },
            "type": "scattermapbox"
           }
          ],
          "scatterpolar": [
           {
            "marker": {
             "colorbar": {
              "outlinewidth": 0,
              "ticks": ""
             }
            },
            "type": "scatterpolar"
           }
          ],
          "scatterpolargl": [
           {
            "marker": {
             "colorbar": {
              "outlinewidth": 0,
              "ticks": ""
             }
            },
            "type": "scatterpolargl"
           }
          ],
          "scatterternary": [
           {
            "marker": {
             "colorbar": {
              "outlinewidth": 0,
              "ticks": ""
             }
            },
            "type": "scatterternary"
           }
          ],
          "surface": [
           {
            "colorbar": {
             "outlinewidth": 0,
             "ticks": ""
            },
            "colorscale": [
             [
              0,
              "#0d0887"
             ],
             [
              0.1111111111111111,
              "#46039f"
             ],
             [
              0.2222222222222222,
              "#7201a8"
             ],
             [
              0.3333333333333333,
              "#9c179e"
             ],
             [
              0.4444444444444444,
              "#bd3786"
             ],
             [
              0.5555555555555556,
              "#d8576b"
             ],
             [
              0.6666666666666666,
              "#ed7953"
             ],
             [
              0.7777777777777778,
              "#fb9f3a"
             ],
             [
              0.8888888888888888,
              "#fdca26"
             ],
             [
              1,
              "#f0f921"
             ]
            ],
            "type": "surface"
           }
          ],
          "table": [
           {
            "cells": {
             "fill": {
              "color": "#EBF0F8"
             },
             "line": {
              "color": "white"
             }
            },
            "header": {
             "fill": {
              "color": "#C8D4E3"
             },
             "line": {
              "color": "white"
             }
            },
            "type": "table"
           }
          ]
         },
         "layout": {
          "annotationdefaults": {
           "arrowcolor": "#2a3f5f",
           "arrowhead": 0,
           "arrowwidth": 1
          },
          "autotypenumbers": "strict",
          "coloraxis": {
           "colorbar": {
            "outlinewidth": 0,
            "ticks": ""
           }
          },
          "colorscale": {
           "diverging": [
            [
             0,
             "#8e0152"
            ],
            [
             0.1,
             "#c51b7d"
            ],
            [
             0.2,
             "#de77ae"
            ],
            [
             0.3,
             "#f1b6da"
            ],
            [
             0.4,
             "#fde0ef"
            ],
            [
             0.5,
             "#f7f7f7"
            ],
            [
             0.6,
             "#e6f5d0"
            ],
            [
             0.7,
             "#b8e186"
            ],
            [
             0.8,
             "#7fbc41"
            ],
            [
             0.9,
             "#4d9221"
            ],
            [
             1,
             "#276419"
            ]
           ],
           "sequential": [
            [
             0,
             "#0d0887"
            ],
            [
             0.1111111111111111,
             "#46039f"
            ],
            [
             0.2222222222222222,
             "#7201a8"
            ],
            [
             0.3333333333333333,
             "#9c179e"
            ],
            [
             0.4444444444444444,
             "#bd3786"
            ],
            [
             0.5555555555555556,
             "#d8576b"
            ],
            [
             0.6666666666666666,
             "#ed7953"
            ],
            [
             0.7777777777777778,
             "#fb9f3a"
            ],
            [
             0.8888888888888888,
             "#fdca26"
            ],
            [
             1,
             "#f0f921"
            ]
           ],
           "sequentialminus": [
            [
             0,
             "#0d0887"
            ],
            [
             0.1111111111111111,
             "#46039f"
            ],
            [
             0.2222222222222222,
             "#7201a8"
            ],
            [
             0.3333333333333333,
             "#9c179e"
            ],
            [
             0.4444444444444444,
             "#bd3786"
            ],
            [
             0.5555555555555556,
             "#d8576b"
            ],
            [
             0.6666666666666666,
             "#ed7953"
            ],
            [
             0.7777777777777778,
             "#fb9f3a"
            ],
            [
             0.8888888888888888,
             "#fdca26"
            ],
            [
             1,
             "#f0f921"
            ]
           ]
          },
          "colorway": [
           "#636efa",
           "#EF553B",
           "#00cc96",
           "#ab63fa",
           "#FFA15A",
           "#19d3f3",
           "#FF6692",
           "#B6E880",
           "#FF97FF",
           "#FECB52"
          ],
          "font": {
           "color": "#2a3f5f"
          },
          "geo": {
           "bgcolor": "white",
           "lakecolor": "white",
           "landcolor": "#E5ECF6",
           "showlakes": true,
           "showland": true,
           "subunitcolor": "white"
          },
          "hoverlabel": {
           "align": "left"
          },
          "hovermode": "closest",
          "mapbox": {
           "style": "light"
          },
          "paper_bgcolor": "white",
          "plot_bgcolor": "#E5ECF6",
          "polar": {
           "angularaxis": {
            "gridcolor": "white",
            "linecolor": "white",
            "ticks": ""
           },
           "bgcolor": "#E5ECF6",
           "radialaxis": {
            "gridcolor": "white",
            "linecolor": "white",
            "ticks": ""
           }
          },
          "scene": {
           "xaxis": {
            "backgroundcolor": "#E5ECF6",
            "gridcolor": "white",
            "gridwidth": 2,
            "linecolor": "white",
            "showbackground": true,
            "ticks": "",
            "zerolinecolor": "white"
           },
           "yaxis": {
            "backgroundcolor": "#E5ECF6",
            "gridcolor": "white",
            "gridwidth": 2,
            "linecolor": "white",
            "showbackground": true,
            "ticks": "",
            "zerolinecolor": "white"
           },
           "zaxis": {
            "backgroundcolor": "#E5ECF6",
            "gridcolor": "white",
            "gridwidth": 2,
            "linecolor": "white",
            "showbackground": true,
            "ticks": "",
            "zerolinecolor": "white"
           }
          },
          "shapedefaults": {
           "line": {
            "color": "#2a3f5f"
           }
          },
          "ternary": {
           "aaxis": {
            "gridcolor": "white",
            "linecolor": "white",
            "ticks": ""
           },
           "baxis": {
            "gridcolor": "white",
            "linecolor": "white",
            "ticks": ""
           },
           "bgcolor": "#E5ECF6",
           "caxis": {
            "gridcolor": "white",
            "linecolor": "white",
            "ticks": ""
           }
          },
          "title": {
           "x": 0.05
          },
          "xaxis": {
           "automargin": true,
           "gridcolor": "white",
           "linecolor": "white",
           "ticks": "",
           "title": {
            "standoff": 15
           },
           "zerolinecolor": "white",
           "zerolinewidth": 2
          },
          "yaxis": {
           "automargin": true,
           "gridcolor": "white",
           "linecolor": "white",
           "ticks": "",
           "title": {
            "standoff": 15
           },
           "zerolinecolor": "white",
           "zerolinewidth": 2
          }
         }
        }
       }
      }
     },
     "metadata": {},
     "output_type": "display_data"
    },
    {
     "data": {
      "text/plain": [
       "<matplotlib.legend.Legend at 0x10f9bc28c10>"
      ]
     },
     "execution_count": 16,
     "metadata": {},
     "output_type": "execute_result"
    },
    {
     "data": {
      "image/png": "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",
      "text/plain": [
       "<Figure size 640x480 with 1 Axes>"
      ]
     },
     "metadata": {},
     "output_type": "display_data"
    }
   ],
   "source": [
    "import sys\n",
    "import os \n",
    "import fnmatch\n",
    "\n",
    "from track import Track\n",
    "from track3D import Track3D\n",
    "\n",
    "def time_correction(T3D):\n",
    "    Speed_In_Fiber = 15 # cm/ns\n",
    "    fac = 6.25 # ns/clock cycle\n",
    "    Speed_In_Fiber = Speed_In_Fiber*fac # cm/clock cycle\n",
    "    Tx = T3D.x\n",
    "    Ty = T3D.y\n",
    "    \n",
    "    newx = []\n",
    "    newy = []\n",
    "    for h in Tx.hits:\n",
    "        newx.append(h)\n",
    "        newx[-1].timestamp = h.timestamp - Tx.x(h.get_pos()[1])/Speed_In_Fiber\n",
    "    for h in Ty.hits:\n",
    "        newy.append(h)\n",
    "        newy[-1].timestamp = h.timestamp - Ty.x(h.get_pos()[1])/Speed_In_Fiber\n",
    "    \n",
    "    Txprime = Track(newx)\n",
    "    Typrime = Track(newy)\n",
    "    return Track3D(Txprime,Typrime)\n",
    "\n",
    "\n",
    "\n",
    "for Tet in uncorrected_tracks:\n",
    "    if(Tet.x.t>1 and Tet.y.t<0.2 and Tet.y.t>-0.2):\n",
    "        Test = Tet\n",
    "stamp = [0 for i in range(len(Test.y.hits))]\n",
    "cxstamp = stamp\n",
    "cystamp = stamp\n",
    "\n",
    "z = []\n",
    "i = 0\n",
    "for h in Test.x.hits:\n",
    "    z.append(h.get_pos()[1])\n",
    "    stamp[i]=(h.timestamp)\n",
    "    i+=1\n",
    "CTest = time_correction(Test)\n",
    "i = 0\n",
    "for h in CTest.x.hits:\n",
    "    cxstamp[i]=(stamp[i]-h.timestamp)\n",
    "    i+=1\n",
    "plt.figure()\n",
    "plt.plot(z,cxstamp,'+')\n",
    "plt.grid()\n",
    "\n",
    "z = []\n",
    "i = 0\n",
    "CTest.show()\n",
    "for h in Test.y.hits:\n",
    "    z.append(h.get_pos()[1])\n",
    "    stamp[i]=(h.timestamp)\n",
    "    i+=1\n",
    "CTest = time_correction(Test)\n",
    "i = 0\n",
    "for h in CTest.y.hits:\n",
    "    cystamp[i]=(stamp[i]-h.timestamp)\n",
    "    i+=1\n",
    "plt.plot(z,cystamp,'+')\n",
    "plt.legend(['x','y'])\n",
    "\n",
    "\n",
    "\n",
    "\n"
   ]
  },
  {
   "cell_type": "code",
   "execution_count": null,
   "metadata": {},
   "outputs": [
    {
     "name": "stdout",
     "output_type": "stream",
     "text": [
      "3.482142857142857\n"
     ]
    },
    {
     "data": {
      "application/vnd.plotly.v1+json": {
       "config": {
        "plotlyServerURL": "https://plot.ly"
       },
       "data": [
        {
         "line": {
          "color": "black",
          "width": 5
         },
         "mode": "lines",
         "type": "scatter3d",
         "x": [
          23.349060856498888,
          23.35887394777597,
          23.36868703905305,
          23.37850013033013,
          23.388313221607213,
          23.398126312884294,
          23.40793940416138,
          23.41775249543846,
          23.42756558671554,
          23.437378677992623,
          23.447191769269704,
          23.457004860546785,
          23.466817951823867,
          23.476631043100948,
          23.48644413437803,
          23.49625722565511,
          23.506070316932195,
          23.515883408209277,
          23.525696499486358,
          23.53550959076344,
          23.54532268204052,
          23.555135773317602,
          23.564948864594683,
          23.574761955871764,
          23.584575047148846,
          23.59438813842593,
          23.604201229703012,
          23.614014320980093,
          23.623827412257175,
          23.633640503534256,
          23.643453594811337,
          23.65326668608842,
          23.6630797773655,
          23.67289286864258,
          23.682705959919662,
          23.692519051196744,
          23.70233214247383,
          23.71214523375091,
          23.72195832502799,
          23.731771416305072,
          23.741584507582154,
          23.751397598859235,
          23.761210690136316,
          23.771023781413398,
          23.78083687269048,
          23.79064996396756,
          23.800463055244645,
          23.810276146521726,
          23.820089237798808,
          23.82990232907589
         ],
         "y": [
          37.719008264462815,
          37.728821355739896,
          37.73863444701698,
          37.74844753829406,
          37.75826062957114,
          37.76807372084822,
          37.7778868121253,
          37.787699903402384,
          37.797512994679465,
          37.80732608595655,
          37.81713917723363,
          37.826952268510716,
          37.8367653597878,
          37.84657845106488,
          37.85639154234196,
          37.86620463361904,
          37.87601772489612,
          37.885830816173204,
          37.895643907450285,
          37.90545699872737,
          37.91527009000445,
          37.92508318128153,
          37.93489627255861,
          37.94470936383569,
          37.95452245511277,
          37.964335546389854,
          37.974148637666936,
          37.98396172894402,
          37.9937748202211,
          38.00358791149818,
          38.01340100277526,
          38.02321409405235,
          38.03302718532943,
          38.04284027660651,
          38.05265336788359,
          38.062466459160675,
          38.072279550437756,
          38.08209264171484,
          38.09190573299192,
          38.101718824269,
          38.11153191554608,
          38.12134500682316,
          38.131158098100244,
          38.140971189377325,
          38.150784280654406,
          38.16059737193149,
          38.17041046320857,
          38.18022355448565,
          38.19003664576273,
          38.19984973703981
         ],
         "z": [
          0,
          0.32653061224489793,
          0.6530612244897959,
          0.9795918367346939,
          1.3061224489795917,
          1.6326530612244896,
          1.9591836734693877,
          2.2857142857142856,
          2.6122448979591835,
          2.9387755102040813,
          3.265306122448979,
          3.591836734693877,
          3.9183673469387754,
          4.244897959183673,
          4.571428571428571,
          4.897959183673469,
          5.224489795918367,
          5.551020408163265,
          5.877551020408163,
          6.204081632653061,
          6.530612244897958,
          6.857142857142857,
          7.183673469387754,
          7.5102040816326525,
          7.836734693877551,
          8.16326530612245,
          8.489795918367346,
          8.816326530612244,
          9.142857142857142,
          9.46938775510204,
          9.795918367346937,
          10.122448979591836,
          10.448979591836734,
          10.775510204081632,
          11.10204081632653,
          11.428571428571427,
          11.755102040816325,
          12.081632653061224,
          12.408163265306122,
          12.734693877551019,
          13.061224489795917,
          13.387755102040815,
          13.714285714285714,
          14.040816326530612,
          14.367346938775508,
          14.693877551020407,
          15.020408163265305,
          15.346938775510203,
          15.673469387755102,
          16
         ]
        },
        {
         "marker": {
          "color": "blue",
          "size": 1
         },
         "mode": "lines",
         "type": "scatter3d",
         "x": [
          23.200000000000003,
          23.200000000000003
         ],
         "y": [
          0,
          38.4
         ],
         "z": [
          12.200000000000001,
          12.200000000000001
         ]
        },
        {
         "marker": {
          "color": "blue",
          "size": 1
         },
         "mode": "lines",
         "type": "scatter3d",
         "x": [
          23.200000000000003,
          23.200000000000003
         ],
         "y": [
          0,
          38.4
         ],
         "z": [
          4.2,
          4.2
         ]
        },
        {
         "marker": {
          "color": "blue",
          "size": 1
         },
         "mode": "lines",
         "type": "scatter3d",
         "x": [
          23.200000000000003,
          23.200000000000003
         ],
         "y": [
          0,
          38.4
         ],
         "z": [
          14.200000000000001,
          14.200000000000001
         ]
        },
        {
         "marker": {
          "color": "blue",
          "size": 1
         },
         "mode": "lines",
         "type": "scatter3d",
         "x": [
          23.200000000000003,
          23.200000000000003
         ],
         "y": [
          0,
          38.4
         ],
         "z": [
          10.2,
          10.2
         ]
        },
        {
         "marker": {
          "color": "blue",
          "size": 1
         },
         "mode": "lines",
         "type": "scatter3d",
         "x": [
          23.200000000000003,
          23.200000000000003
         ],
         "y": [
          0,
          38.4
         ],
         "z": [
          0.2,
          0.2
         ]
        },
        {
         "marker": {
          "color": "blue",
          "size": 1
         },
         "mode": "lines",
         "type": "scatter3d",
         "x": [
          23.200000000000003,
          23.200000000000003
         ],
         "y": [
          0,
          38.4
         ],
         "z": [
          6.200000000000001,
          6.200000000000001
         ]
        },
        {
         "marker": {
          "color": "blue",
          "size": 1
         },
         "mode": "lines",
         "type": "scatter3d",
         "x": [
          23.200000000000003,
          23.200000000000003
         ],
         "y": [
          0,
          38.4
         ],
         "z": [
          8.200000000000001,
          8.200000000000001
         ]
        },
        {
         "marker": {
          "color": "blue",
          "size": 1
         },
         "mode": "lines",
         "type": "scatter3d",
         "x": [
          23.200000000000003,
          23.200000000000003
         ],
         "y": [
          0,
          38.4
         ],
         "z": [
          2.2,
          2.2
         ]
        },
        {
         "marker": {
          "color": "red",
          "size": 1
         },
         "mode": "lines",
         "type": "scatter3d",
         "x": [
          0,
          38.4
         ],
         "y": [
          37.6,
          37.6
         ],
         "z": [
          3.2,
          3.2
         ]
        },
        {
         "marker": {
          "color": "red",
          "size": 1
         },
         "mode": "lines",
         "type": "scatter3d",
         "x": [
          0,
          38.4
         ],
         "y": [
          37.6,
          37.6
         ],
         "z": [
          1.2,
          1.2
         ]
        },
        {
         "marker": {
          "color": "red",
          "size": 1
         },
         "mode": "lines",
         "type": "scatter3d",
         "x": [
          0,
          38.4
         ],
         "y": [
          37.6,
          37.6
         ],
         "z": [
          7.200000000000001,
          7.200000000000001
         ]
        },
        {
         "marker": {
          "color": "red",
          "size": 1
         },
         "mode": "lines",
         "type": "scatter3d",
         "x": [
          0,
          38.4
         ],
         "y": [
          37.6,
          37.6
         ],
         "z": [
          9.200000000000001,
          9.200000000000001
         ]
        },
        {
         "marker": {
          "color": "red",
          "size": 1
         },
         "mode": "lines",
         "type": "scatter3d",
         "x": [
          0,
          38.4
         ],
         "y": [
          37.6,
          37.6
         ],
         "z": [
          15.200000000000001,
          15.200000000000001
         ]
        },
        {
         "marker": {
          "color": "red",
          "size": 1
         },
         "mode": "lines",
         "type": "scatter3d",
         "x": [
          0,
          38.4
         ],
         "y": [
          37.6,
          37.6
         ],
         "z": [
          11.2,
          11.2
         ]
        },
        {
         "marker": {
          "color": "red",
          "size": 1
         },
         "mode": "lines",
         "type": "scatter3d",
         "x": [
          0,
          38.4
         ],
         "y": [
          37.6,
          37.6
         ],
         "z": [
          5.2,
          5.2
         ]
        },
        {
         "marker": {
          "color": "red",
          "size": 1
         },
         "mode": "lines",
         "type": "scatter3d",
         "x": [
          0,
          38.4
         ],
         "y": [
          37.6,
          37.6
         ],
         "z": [
          13.200000000000001,
          13.200000000000001
         ]
        }
       ],
       "layout": {
        "scene": {
         "aspectmode": "cube",
         "xaxis": {
          "range": [
           0,
           38.4
          ],
          "title": {
           "text": "X [cm]"
          }
         },
         "yaxis": {
          "range": [
           0,
           38.4
          ],
          "title": {
           "text": "Y [cm]"
          }
         },
         "zaxis": {
          "range": [
           0,
           16
          ],
          "title": {
           "text": "Z [cm]"
          }
         }
        },
        "template": {
         "data": {
          "bar": [
           {
            "error_x": {
             "color": "#2a3f5f"
            },
            "error_y": {
             "color": "#2a3f5f"
            },
            "marker": {
             "line": {
              "color": "#E5ECF6",
              "width": 0.5
             },
             "pattern": {
              "fillmode": "overlay",
              "size": 10,
              "solidity": 0.2
             }
            },
            "type": "bar"
           }
          ],
          "barpolar": [
           {
            "marker": {
             "line": {
              "color": "#E5ECF6",
              "width": 0.5
             },
             "pattern": {
              "fillmode": "overlay",
              "size": 10,
              "solidity": 0.2
             }
            },
            "type": "barpolar"
           }
          ],
          "carpet": [
           {
            "aaxis": {
             "endlinecolor": "#2a3f5f",
             "gridcolor": "white",
             "linecolor": "white",
             "minorgridcolor": "white",
             "startlinecolor": "#2a3f5f"
            },
            "baxis": {
             "endlinecolor": "#2a3f5f",
             "gridcolor": "white",
             "linecolor": "white",
             "minorgridcolor": "white",
             "startlinecolor": "#2a3f5f"
            },
            "type": "carpet"
           }
          ],
          "choropleth": [
           {
            "colorbar": {
             "outlinewidth": 0,
             "ticks": ""
            },
            "type": "choropleth"
           }
          ],
          "contour": [
           {
            "colorbar": {
             "outlinewidth": 0,
             "ticks": ""
            },
            "colorscale": [
             [
              0,
              "#0d0887"
             ],
             [
              0.1111111111111111,
              "#46039f"
             ],
             [
              0.2222222222222222,
              "#7201a8"
             ],
             [
              0.3333333333333333,
              "#9c179e"
             ],
             [
              0.4444444444444444,
              "#bd3786"
             ],
             [
              0.5555555555555556,
              "#d8576b"
             ],
             [
              0.6666666666666666,
              "#ed7953"
             ],
             [
              0.7777777777777778,
              "#fb9f3a"
             ],
             [
              0.8888888888888888,
              "#fdca26"
             ],
             [
              1,
              "#f0f921"
             ]
            ],
            "type": "contour"
           }
          ],
          "contourcarpet": [
           {
            "colorbar": {
             "outlinewidth": 0,
             "ticks": ""
            },
            "type": "contourcarpet"
           }
          ],
          "heatmap": [
           {
            "colorbar": {
             "outlinewidth": 0,
             "ticks": ""
            },
            "colorscale": [
             [
              0,
              "#0d0887"
             ],
             [
              0.1111111111111111,
              "#46039f"
             ],
             [
              0.2222222222222222,
              "#7201a8"
             ],
             [
              0.3333333333333333,
              "#9c179e"
             ],
             [
              0.4444444444444444,
              "#bd3786"
             ],
             [
              0.5555555555555556,
              "#d8576b"
             ],
             [
              0.6666666666666666,
              "#ed7953"
             ],
             [
              0.7777777777777778,
              "#fb9f3a"
             ],
             [
              0.8888888888888888,
              "#fdca26"
             ],
             [
              1,
              "#f0f921"
             ]
            ],
            "type": "heatmap"
           }
          ],
          "heatmapgl": [
           {
            "colorbar": {
             "outlinewidth": 0,
             "ticks": ""
            },
            "colorscale": [
             [
              0,
              "#0d0887"
             ],
             [
              0.1111111111111111,
              "#46039f"
             ],
             [
              0.2222222222222222,
              "#7201a8"
             ],
             [
              0.3333333333333333,
              "#9c179e"
             ],
             [
              0.4444444444444444,
              "#bd3786"
             ],
             [
              0.5555555555555556,
              "#d8576b"
             ],
             [
              0.6666666666666666,
              "#ed7953"
             ],
             [
              0.7777777777777778,
              "#fb9f3a"
             ],
             [
              0.8888888888888888,
              "#fdca26"
             ],
             [
              1,
              "#f0f921"
             ]
            ],
            "type": "heatmapgl"
           }
          ],
          "histogram": [
           {
            "marker": {
             "pattern": {
              "fillmode": "overlay",
              "size": 10,
              "solidity": 0.2
             }
            },
            "type": "histogram"
           }
          ],
          "histogram2d": [
           {
            "colorbar": {
             "outlinewidth": 0,
             "ticks": ""
            },
            "colorscale": [
             [
              0,
              "#0d0887"
             ],
             [
              0.1111111111111111,
              "#46039f"
             ],
             [
              0.2222222222222222,
              "#7201a8"
             ],
             [
              0.3333333333333333,
              "#9c179e"
             ],
             [
              0.4444444444444444,
              "#bd3786"
             ],
             [
              0.5555555555555556,
              "#d8576b"
             ],
             [
              0.6666666666666666,
              "#ed7953"
             ],
             [
              0.7777777777777778,
              "#fb9f3a"
             ],
             [
              0.8888888888888888,
              "#fdca26"
             ],
             [
              1,
              "#f0f921"
             ]
            ],
            "type": "histogram2d"
           }
          ],
          "histogram2dcontour": [
           {
            "colorbar": {
             "outlinewidth": 0,
             "ticks": ""
            },
            "colorscale": [
             [
              0,
              "#0d0887"
             ],
             [
              0.1111111111111111,
              "#46039f"
             ],
             [
              0.2222222222222222,
              "#7201a8"
             ],
             [
              0.3333333333333333,
              "#9c179e"
             ],
             [
              0.4444444444444444,
              "#bd3786"
             ],
             [
              0.5555555555555556,
              "#d8576b"
             ],
             [
              0.6666666666666666,
              "#ed7953"
             ],
             [
              0.7777777777777778,
              "#fb9f3a"
             ],
             [
              0.8888888888888888,
              "#fdca26"
             ],
             [
              1,
              "#f0f921"
             ]
            ],
            "type": "histogram2dcontour"
           }
          ],
          "mesh3d": [
           {
            "colorbar": {
             "outlinewidth": 0,
             "ticks": ""
            },
            "type": "mesh3d"
           }
          ],
          "parcoords": [
           {
            "line": {
             "colorbar": {
              "outlinewidth": 0,
              "ticks": ""
             }
            },
            "type": "parcoords"
           }
          ],
          "pie": [
           {
            "automargin": true,
            "type": "pie"
           }
          ],
          "scatter": [
           {
            "fillpattern": {
             "fillmode": "overlay",
             "size": 10,
             "solidity": 0.2
            },
            "type": "scatter"
           }
          ],
          "scatter3d": [
           {
            "line": {
             "colorbar": {
              "outlinewidth": 0,
              "ticks": ""
             }
            },
            "marker": {
             "colorbar": {
              "outlinewidth": 0,
              "ticks": ""
             }
            },
            "type": "scatter3d"
           }
          ],
          "scattercarpet": [
           {
            "marker": {
             "colorbar": {
              "outlinewidth": 0,
              "ticks": ""
             }
            },
            "type": "scattercarpet"
           }
          ],
          "scattergeo": [
           {
            "marker": {
             "colorbar": {
              "outlinewidth": 0,
              "ticks": ""
             }
            },
            "type": "scattergeo"
           }
          ],
          "scattergl": [
           {
            "marker": {
             "colorbar": {
              "outlinewidth": 0,
              "ticks": ""
             }
            },
            "type": "scattergl"
           }
          ],
          "scattermapbox": [
           {
            "marker": {
             "colorbar": {
              "outlinewidth": 0,
              "ticks": ""
             }
            },
            "type": "scattermapbox"
           }
          ],
          "scatterpolar": [
           {
            "marker": {
             "colorbar": {
              "outlinewidth": 0,
              "ticks": ""
             }
            },
            "type": "scatterpolar"
           }
          ],
          "scatterpolargl": [
           {
            "marker": {
             "colorbar": {
              "outlinewidth": 0,
              "ticks": ""
             }
            },
            "type": "scatterpolargl"
           }
          ],
          "scatterternary": [
           {
            "marker": {
             "colorbar": {
              "outlinewidth": 0,
              "ticks": ""
             }
            },
            "type": "scatterternary"
           }
          ],
          "surface": [
           {
            "colorbar": {
             "outlinewidth": 0,
             "ticks": ""
            },
            "colorscale": [
             [
              0,
              "#0d0887"
             ],
             [
              0.1111111111111111,
              "#46039f"
             ],
             [
              0.2222222222222222,
              "#7201a8"
             ],
             [
              0.3333333333333333,
              "#9c179e"
             ],
             [
              0.4444444444444444,
              "#bd3786"
             ],
             [
              0.5555555555555556,
              "#d8576b"
             ],
             [
              0.6666666666666666,
              "#ed7953"
             ],
             [
              0.7777777777777778,
              "#fb9f3a"
             ],
             [
              0.8888888888888888,
              "#fdca26"
             ],
             [
              1,
              "#f0f921"
             ]
            ],
            "type": "surface"
           }
          ],
          "table": [
           {
            "cells": {
             "fill": {
              "color": "#EBF0F8"
             },
             "line": {
              "color": "white"
             }
            },
            "header": {
             "fill": {
              "color": "#C8D4E3"
             },
             "line": {
              "color": "white"
             }
            },
            "type": "table"
           }
          ]
         },
         "layout": {
          "annotationdefaults": {
           "arrowcolor": "#2a3f5f",
           "arrowhead": 0,
           "arrowwidth": 1
          },
          "autotypenumbers": "strict",
          "coloraxis": {
           "colorbar": {
            "outlinewidth": 0,
            "ticks": ""
           }
          },
          "colorscale": {
           "diverging": [
            [
             0,
             "#8e0152"
            ],
            [
             0.1,
             "#c51b7d"
            ],
            [
             0.2,
             "#de77ae"
            ],
            [
             0.3,
             "#f1b6da"
            ],
            [
             0.4,
             "#fde0ef"
            ],
            [
             0.5,
             "#f7f7f7"
            ],
            [
             0.6,
             "#e6f5d0"
            ],
            [
             0.7,
             "#b8e186"
            ],
            [
             0.8,
             "#7fbc41"
            ],
            [
             0.9,
             "#4d9221"
            ],
            [
             1,
             "#276419"
            ]
           ],
           "sequential": [
            [
             0,
             "#0d0887"
            ],
            [
             0.1111111111111111,
             "#46039f"
            ],
            [
             0.2222222222222222,
             "#7201a8"
            ],
            [
             0.3333333333333333,
             "#9c179e"
            ],
            [
             0.4444444444444444,
             "#bd3786"
            ],
            [
             0.5555555555555556,
             "#d8576b"
            ],
            [
             0.6666666666666666,
             "#ed7953"
            ],
            [
             0.7777777777777778,
             "#fb9f3a"
            ],
            [
             0.8888888888888888,
             "#fdca26"
            ],
            [
             1,
             "#f0f921"
            ]
           ],
           "sequentialminus": [
            [
             0,
             "#0d0887"
            ],
            [
             0.1111111111111111,
             "#46039f"
            ],
            [
             0.2222222222222222,
             "#7201a8"
            ],
            [
             0.3333333333333333,
             "#9c179e"
            ],
            [
             0.4444444444444444,
             "#bd3786"
            ],
            [
             0.5555555555555556,
             "#d8576b"
            ],
            [
             0.6666666666666666,
             "#ed7953"
            ],
            [
             0.7777777777777778,
             "#fb9f3a"
            ],
            [
             0.8888888888888888,
             "#fdca26"
            ],
            [
             1,
             "#f0f921"
            ]
           ]
          },
          "colorway": [
           "#636efa",
           "#EF553B",
           "#00cc96",
           "#ab63fa",
           "#FFA15A",
           "#19d3f3",
           "#FF6692",
           "#B6E880",
           "#FF97FF",
           "#FECB52"
          ],
          "font": {
           "color": "#2a3f5f"
          },
          "geo": {
           "bgcolor": "white",
           "lakecolor": "white",
           "landcolor": "#E5ECF6",
           "showlakes": true,
           "showland": true,
           "subunitcolor": "white"
          },
          "hoverlabel": {
           "align": "left"
          },
          "hovermode": "closest",
          "mapbox": {
           "style": "light"
          },
          "paper_bgcolor": "white",
          "plot_bgcolor": "#E5ECF6",
          "polar": {
           "angularaxis": {
            "gridcolor": "white",
            "linecolor": "white",
            "ticks": ""
           },
           "bgcolor": "#E5ECF6",
           "radialaxis": {
            "gridcolor": "white",
            "linecolor": "white",
            "ticks": ""
           }
          },
          "scene": {
           "xaxis": {
            "backgroundcolor": "#E5ECF6",
            "gridcolor": "white",
            "gridwidth": 2,
            "linecolor": "white",
            "showbackground": true,
            "ticks": "",
            "zerolinecolor": "white"
           },
           "yaxis": {
            "backgroundcolor": "#E5ECF6",
            "gridcolor": "white",
            "gridwidth": 2,
            "linecolor": "white",
            "showbackground": true,
            "ticks": "",
            "zerolinecolor": "white"
           },
           "zaxis": {
            "backgroundcolor": "#E5ECF6",
            "gridcolor": "white",
            "gridwidth": 2,
            "linecolor": "white",
            "showbackground": true,
            "ticks": "",
            "zerolinecolor": "white"
           }
          },
          "shapedefaults": {
           "line": {
            "color": "#2a3f5f"
           }
          },
          "ternary": {
           "aaxis": {
            "gridcolor": "white",
            "linecolor": "white",
            "ticks": ""
           },
           "baxis": {
            "gridcolor": "white",
            "linecolor": "white",
            "ticks": ""
           },
           "bgcolor": "#E5ECF6",
           "caxis": {
            "gridcolor": "white",
            "linecolor": "white",
            "ticks": ""
           }
          },
          "title": {
           "x": 0.05
          },
          "xaxis": {
           "automargin": true,
           "gridcolor": "white",
           "linecolor": "white",
           "ticks": "",
           "title": {
            "standoff": 15
           },
           "zerolinecolor": "white",
           "zerolinewidth": 2
          },
          "yaxis": {
           "automargin": true,
           "gridcolor": "white",
           "linecolor": "white",
           "ticks": "",
           "title": {
            "standoff": 15
           },
           "zerolinecolor": "white",
           "zerolinewidth": 2
          }
         }
        }
       }
      }
     },
     "metadata": {},
     "output_type": "display_data"
    }
   ],
   "source": [
    "TEST = []\n",
    "chi2=[]\n",
    "for t in ttracks:\n",
    "    chi2.append(t.y.reduced_chi2)\n",
    "    for h in t.y.hits:\n",
    "        if(h.coord[0]==24 and h.coord[1]==5):\n",
    "            TEST.append(t)\n",
    "\n",
    "print(np.max(chi2))\n",
    "TEST[np.random.randint(0,len(TEST))].show()"
>>>>>>> d32bfcda9adbbedc194d2349dee3960d5aeaadbf
   ]
  }
 ],
 "metadata": {
  "kernelspec": {
   "display_name": "ecal-env",
   "language": "python",
   "name": "python3"
  },
  "language_info": {
   "codemirror_mode": {
    "name": "ipython",
    "version": 3
   },
   "file_extension": ".py",
   "mimetype": "text/x-python",
   "name": "python",
   "nbconvert_exporter": "python",
   "pygments_lexer": "ipython3",
<<<<<<< HEAD
   "version": "3.12.0"
=======
   "version": "3.11.5"
>>>>>>> d32bfcda9adbbedc194d2349dee3960d5aeaadbf
  }
 },
 "nbformat": 4,
 "nbformat_minor": 2
}
