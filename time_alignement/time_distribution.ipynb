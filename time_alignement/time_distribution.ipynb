{
 "cells": [
  {
   "cell_type": "code",
   "execution_count": 1,
   "metadata": {},
   "outputs": [],
   "source": [
    "import sys\n",
    "import os \n",
    "import fnmatch\n",
    "\n",
    "import matplotlib as mpl\n",
    "import matplotlib.pyplot as plt\n",
    "from matplotlib import axes \n",
    "from scipy.optimize import curve_fit \n",
    "from scipy.stats import norm\n",
    "import numpy as np\n",
    "current_directory = os.getcwd()\n",
    "data_directory = current_directory+\"\\\\extracted_data\\\\\"\n",
    "import pandas as pd\n",
    "import uproot\n",
    "# import track_time_calibration as ttc\n",
    "from matplotlib import pyplot as plt\n",
    "sys.path.insert(1, r'C:\\Users\\Pascal\\Desktop\\TP4a\\git_final_final\\ecal_reco\\utils')\n",
    "sys.path.insert(1, r'C:\\Users\\Pascal\\Desktop\\TP4a\\git_final_final\\ecal_reco\\tracking')\n",
    "from track import Track\n",
    "from track3D import Track3D\n",
    "from hit import Hit\n",
    "from data_loading import *\n",
    "from parameters import *\n",
    "from tqdm import tqdm\n",
    "from track_reconstruction import plot_hits\n",
    "from physics import dist_line_rect\n",
    "import pickle\n",
    "from IPython import display\n",
    "from time_correction import *\n",
    "# from find_muon_decay import find_muon_decay\n",
    "import random\n",
    "from statistics import mean "
   ]
  },
  {
   "cell_type": "code",
   "execution_count": 2,
   "metadata": {},
   "outputs": [
    {
     "name": "stdout",
     "output_type": "stream",
     "text": [
      "C:\\Users\\Pascal\\Desktop\\TP4a\\data\\run_000011\\data_0000.root\n",
      "selected 74.91% of all events\n"
     ]
    }
   ],
   "source": [
    "# Create the tracks form the raw datas and the indices events selected previously with data_creation_time\n",
    "import copy\n",
    "\n",
    "run ='run_000011'\n",
    "data_storage = current_directory+\"\\\\extracted_data\\\\\"\n",
    "raw_data_directory = \"C:\\\\Users\\\\Pascal\\\\Desktop\\\\TP4a\\\\data\\\\\"\n",
    "df_hits_total, df_hits, og_len, new_len = load_run(raw_data_directory+run+\"\\\\\") #warning, the df_hits is a list of events, not of hits !\n",
    "good_candidates = np.loadtxt(data_storage+\"events_indices_\"+run+\".txt\") #load the indices of the events selected as good candidates\n",
    "\n",
    "#Now we will extract the hits of each events and create tracks for each of them\n",
    "\n",
    "%matplotlib inline\n",
    "tracks = []\n",
    "uncorrected_tracks = []\n",
    "fiber_corrected_tracks = []\n",
    "for i in range(len(good_candidates)) :\n",
    "    event = df_hits.loc[good_candidates[i]] #select the event i among the good candidates\n",
    "    next_event = df_hits_total.loc[good_candidates[i]+1]\n",
    "\n",
    "    hits = [Hit(event,j) for j in range(event['n_hits' ])] #create an array \"hits\" with the hits of the event i (iteration on j inside the event)\n",
    "    # print (hits)    \n",
    "    tempTrack = Track3D(hits) #creation of a track with the hits of the event i\n",
    "    uncorrected_tracks.append(copy.deepcopy(tempTrack))\n",
    "    fiber_corrected_tracks.append(copy.deepcopy(time_correction_fiber(tempTrack)))\n",
    "    tracks.append(time_correction_electronics(tempTrack)) # add the track i to the tracks array witg geomertical time correction\n",
    "    # print(track)"
   ]
  },
  {
   "cell_type": "code",
   "execution_count": 60,
   "metadata": {},
   "outputs": [
    {
     "name": "stdout",
     "output_type": "stream",
     "text": [
      "0.2855177490022156\n"
     ]
    }
   ],
   "source": [
    "import copy\n",
    "i_random = random.randint(0, len(good_candidates))\n",
    "event = df_hits.loc[good_candidates[i]] #select the event i among the good candidates\n",
    "hits = [Hit(event,j) for j in range(event['n_hits' ])] #create an array \"hits\" with the hits of the event i (iteration on j inside the event)\n",
    "    # print (hits)    \n",
    "\n",
    "uncorrected_track = Track3D(hits) #creation of a track with the hits of the event i\n",
    "test = tracks[0]\n",
    "#time_correction_fiber(test)\n",
    "print(uncorrected_tracks[0].x.hits[0].timestamp-test.x.hits[0].timestamp)\n",
    "\n",
    "\n",
    "\n"
   ]
  },
  {
   "cell_type": "code",
   "execution_count": 25,
   "metadata": {},
   "outputs": [],
   "source": [
    "with open('uncorrected_tracks_run11.pkl','wb') as file :\n",
    "    pickle.dump(uncorrected_tracks, file)\n",
    "with open('fiber_corrected_tracks_run11.pkl','wb') as file :\n",
    "    pickle.dump(fiber_corrected_tracks, file)\n",
    "with open('tracks_run11.pkl','wb') as file :\n",
    "    pickle.dump(tracks, file)\n",
    "with open('muXF.pkl','wb') as file :\n",
    "    pickle.dump(muXF, file)\n",
    "with open('muYF.pkl','wb') as file :\n",
    "    pickle.dump(muYF, file)"
   ]
  },
  {
   "cell_type": "code",
   "execution_count": 38,
   "metadata": {},
   "outputs": [],
   "source": [
    "with open('tracks_run11.pkl', 'rb') as file:  # Open the file in read-binary mode ('rb')\n",
    "    tracks = pickle.load(file)\n",
    "\n",
    "countX = np.nan_to_num(np.ndarray(shape=(24,8), dtype=int), nan=0, posinf=0, neginf=0)*0\n",
    "muX = np.nan_to_num(np.ndarray(shape=(24,8), dtype=float), nan=0, posinf=0, neginf=0)*0\n",
    "muXF = np.nan_to_num(np.ndarray(shape=(24,8), dtype=float), nan=0, posinf=0, neginf=0)*0\n",
    "sigmaX = np.nan_to_num(np.ndarray(shape=(24,8), dtype=float), nan=0, posinf=0, neginf=0)*0\n",
    "\n",
    "countY = np.nan_to_num(np.ndarray(shape=(24,8), dtype=int), nan=0, posinf=0, neginf=0)*0\n",
    "muY = np.nan_to_num(np.ndarray(shape=(24,8), dtype=float), nan=0, posinf=0, neginf=0)*0\n",
    "muYF = np.nan_to_num(np.ndarray(shape=(24,8), dtype=float), nan=0, posinf=0, neginf=0)*0\n",
    "sigmaY = np.nan_to_num(np.ndarray(shape=(24,8), dtype=float), nan=0, posinf=0, neginf=0)*0\n",
    "\n",
    "iterations = 20\n",
    "ConvergTrackingX = []\n",
    "ConvergTrackingY = []\n",
    "\n",
    "for it in range(iterations):\n",
    "    for i in range(24):\n",
    "        for j in range(8):\n",
    "            time = []\n",
    "            for t in tracks:\n",
    "                for hx in t.x.hits:\n",
    "                    if hx.coord[0]-1 == i and hx.coord[1]-1 == j: # if its the ith jth bar in x\n",
    "                        countX[i][j] += 1\n",
    "                        tbar = hx.timestamp\n",
    "                        for hxp in t.x.hits:\n",
    "                            if(not(hxp.coord[0]-1 == i and hxp.coord[1]-1 == j and hxp.is_sidex)):\n",
    "                                time.append(hxp.timestamp-tbar-muXF[i][j]-muXF[hxp.coord[0]-1][hxp.coord[1]-1])\n",
    "            muX[i][j], sigmaX[i][j] = norm.fit(time)\n",
    "            time = []\n",
    "            for t in tracks:\n",
    "                for hy in t.y.hits:\n",
    "                    if hy.coord[0]-1 == i and hy.coord[1]-1 == j: # if its the ith jth bar in x\n",
    "                        countY[i][j] += 1\n",
    "                        tbar = hy.timestamp\n",
    "                        for hyp in t.y.hits:\n",
    "                            if(not(hyp.coord[0]-1 == i and hyp.coord[1]-1 == j and not(hyp.is_sidex))):\n",
    "                                time.append(hyp.timestamp-tbar-muYF[i][j]-muYF[hyp.coord[0]-1][hyp.coord[1]-1])\n",
    "            muY[i][j], sigmaY[i][j] = norm.fit(time)\n",
    "    ConvergTrackingX.append(np.max(np.max(np.abs(muX))))\n",
    "    ConvergTrackingY.append(np.max(np.max(np.abs(muY))))\n",
    "    muXF = muXF + muX\n",
    "    muYF = muYF + muY\n",
    "\n",
    "\n"
   ]
  },
  {
   "cell_type": "code",
   "execution_count": 65,
   "metadata": {},
   "outputs": [
    {
     "data": {
      "text/plain": [
       "<matplotlib.legend.Legend at 0x1a362f07c10>"
      ]
     },
     "execution_count": 65,
     "metadata": {},
     "output_type": "execute_result"
    },
    {
     "data": {
      "image/png": "[encoded data removed]",
      "text/plain": [
       "<Figure size 640x480 with 1 Axes>"
      ]
     },
     "metadata": {},
     "output_type": "display_data"
    }
   ],
   "source": [
    "plt.figure()\n",
    "plt.semilogy(range(1, iterations + 1),ConvergTrackingX,'k')\n",
    "plt.semilogy(range(1, iterations + 1),ConvergTrackingY,'r--')\n",
    "plt.grid()\n",
    "plt.xlabel(\"Iteration\")\n",
    "plt.ylabel(\"Max error\")\n",
    "plt.legend([\"X-convergence\",\"Y-convergence\"])"
   ]
  },
  {
   "cell_type": "code",
   "execution_count": 47,
   "metadata": {},
   "outputs": [
    {
     "data": {
      "image/png": "[encoded data removed]",
      "text/plain": [
       "<Figure size 640x480 with 1 Axes>"
      ]
     },
     "metadata": {},
     "output_type": "display_data"
    }
   ],
   "source": [
    "i = random.randint(0,23)\n",
    "j = random.randint(0,7)\n",
    "\n",
    "time = []\n",
    "for t in uncorrected_tracks:\n",
    "    for hx in t.x.hits:\n",
    "        if hx.coord[0]-1 == i and hx.coord[1]-1 == j: # if its the ith jth bar in x\n",
    "            tbar = hx.timestamp\n",
    "            for hxp in t.x.hits:\n",
    "                if(not(hxp.coord[0]-1 == i and hxp.coord[1]-1 == j and hxp.is_sidex)):\n",
    "                    time.append(hxp.timestamp)\n",
    "\n",
    "plt.figure()\n",
    "plt.hist(time, bins=100, density=True, alpha=0.6, color='y', histtype='step')\n",
    "\n",
    "time = []\n",
    "for t in fiber_corrected_tracks:\n",
    "    for hx in t.x.hits:\n",
    "        if hx.coord[0]-1 == i and hx.coord[1]-1 == j: # if its the ith jth bar in x\n",
    "            tbar = hx.timestamp\n",
    "            for hxp in t.x.hits:\n",
    "                if(not(hxp.coord[0]-1 == i and hxp.coord[1]-1 == j and hxp.is_sidex)):\n",
    "                    time.append(hxp.timestamp)\n",
    "\n",
    "plt.hist(time, bins=100, density=True, alpha=0.6, color='r', histtype='step')\n",
    "plt.title(\"Fiber corrected\")\n",
    "\n",
    "time = []\n",
    "for t in tracks:\n",
    "    for hx in t.x.hits:\n",
    "        if hx.coord[0]-1 == i and hx.coord[1]-1 == j: # if its the ith jth bar in x\n",
    "            tbar = hx.timestamp\n",
    "            for hxp in t.x.hits:\n",
    "                if(not(hxp.coord[0]-1 == i and hxp.coord[1]-1 == j and hxp.is_sidex)):\n",
    "                    time.append(hxp.timestamp)\n",
    "\n",
    "plt.hist(time, bins=100, density=True, alpha=0.6, color='k', histtype='step')\n",
    "plt.title(\"All corrected\")\n",
    "\n",
    "time = []\n",
    "for t in tracks:\n",
    "    for hx in t.x.hits:\n",
    "        if hx.coord[0]-1 == i and hx.coord[1]-1 == j: # if its the ith jth bar in x\n",
    "            tbar = hx.timestamp\n",
    "            for hxp in t.x.hits:\n",
    "                if(not(hxp.coord[0]-1 == i and hxp.coord[1]-1 == j and hxp.is_sidex)):\n",
    "                    time.append(hxp.timestamp-tbar-muXF[i][j]-muXF[hxp.coord[0]-1][hxp.coord[1]-1])\n",
    "\n",
    "plt.hist(time, bins=100, density=True, alpha=0.6, color='g', histtype='step', linewidth = 2)\n",
    "plt.title(\"All corrected\")\n",
    "\n",
    "\n",
    "plt.legend([\"Uncorrected\",\"Fiber corrected\",\"Fiber and electronics corrected\", \"All corrected\"])\n",
    "plt.title(\"X-Bar coordinates : \" + str(i+1) + \", \" + str(j+1) + \", pop : \" + str(countX[i][j]))\n",
    "plt.grid()\n"
   ]
  },
  {
   "cell_type": "code",
   "execution_count": 76,
   "metadata": {},
   "outputs": [
    {
     "data": {
      "image/png": "[encoded data removed]",
      "text/plain": [
       "<Figure size 640x480 with 1 Axes>"
      ]
     },
     "metadata": {},
     "output_type": "display_data"
    }
   ],
   "source": [
    "i = random.randint(0,23)\n",
    "j = random.randint(0,7)\n",
    "\n",
    "time = []\n",
    "for t in uncorrected_tracks:\n",
    "    for hx in t.x.hits:\n",
    "        if hx.coord[0]-1 == i and hx.coord[1]-1 == j: # if its the ith jth bar in x\n",
    "            tbar = hx.timestamp\n",
    "            time.append(tbar)\n",
    "\n",
    "plt.figure()\n",
    "plt.hist(time, bins=100, density=True, alpha=0.6, color='y', histtype='step')\n",
    "\n",
    "time = []\n",
    "for t in fiber_corrected_tracks:\n",
    "    for hx in t.x.hits:\n",
    "        if hx.coord[0]-1 == i and hx.coord[1]-1 == j: # if its the ith jth bar in x\n",
    "            tbar = hx.timestamp\n",
    "            time.append(tbar)\n",
    "\n",
    "plt.hist(time, bins=100, density=True, alpha=0.6, color='r', histtype='step')\n",
    "plt.title(\"Fiber corrected\")\n",
    "\n",
    "time = []\n",
    "for t in tracks:\n",
    "    for hx in t.x.hits:\n",
    "        if hx.coord[0]-1 == i and hx.coord[1]-1 == j: # if its the ith jth bar in x\n",
    "            tbar = hx.timestamp\n",
    "            time.append(tbar)\n",
    "\n",
    "plt.hist(time, bins=100, density=True, alpha=0.6, color='k', histtype='step')\n",
    "plt.title(\"All corrected\")\n",
    "\n",
    "time = []\n",
    "for t in tracks:\n",
    "    for hx in t.x.hits:\n",
    "        if hx.coord[0]-1 == i and hx.coord[1]-1 == j: # if its the ith jth bar in x\n",
    "            tbar = hx.timestamp\n",
    "            for hxp in t.x.hits:\n",
    "                if(not(hxp.coord[0]-1 == i and hxp.coord[1]-1 == j and hxp.is_sidex)):\n",
    "                    time.append(hxp.timestamp-tbar-muXF[i][j]-muXF[hxp.coord[0]-1][hxp.coord[1]-1])\n",
    "\n",
    "plt.hist(time, bins=100, density=True, alpha=0.6, color='g', histtype='step', linewidth = 2)\n",
    "plt.title(\"All corrected\")\n",
    "\n",
    "\n",
    "plt.legend([\"Uncorrected\",\"Fiber corrected\",\"Fiber and electronics corrected\", \"All corrected\"])\n",
    "plt.title(\"X-Bar coordinates : \" + str(i+1) + \", \" + str(j+1) + \", pop : \" + str(int(countX[i][j]/iterations)))\n",
    "plt.grid()\n"
   ]
  },
  {
   "cell_type": "code",
   "execution_count": 96,
   "metadata": {},
   "outputs": [
    {
     "data": {
      "application/vnd.plotly.v1+json": {
       "config": {
        "plotlyServerURL": "https://plot.ly"
       },
       "data": [
        {
         "line": {
          "color": "black",
          "width": 5
         },
         "mode": "lines",
         "type": "scatter3d",
         "x": [
          11.628333333333323,
          11.385362811791373,
          11.142392290249424,
          10.899421768707473,
          10.656451247165522,
          10.413480725623574,
          10.170510204081623,
          9.927539682539674,
          9.684569160997723,
          9.441598639455773,
          9.198628117913824,
          8.955657596371873,
          8.712687074829923,
          8.469716553287974,
          8.226746031746023,
          7.983775510204073,
          7.7408049886621235,
          7.497834467120173,
          7.254863945578223,
          7.0118934240362725,
          6.768922902494324,
          6.525952380952373,
          6.282981859410423,
          6.0400113378684726,
          5.797040816326523,
          5.554070294784572,
          5.311099773242623,
          5.068129251700673,
          4.825158730158723,
          4.582188208616772,
          4.339217687074823,
          4.096247165532874,
          3.853276643990923,
          3.610306122448973,
          3.3673356009070226,
          3.1243650793650737,
          2.881394557823123,
          2.6384240362811724,
          2.3954535147392217,
          2.152482993197273,
          1.909512471655324,
          1.6665419501133734,
          1.4235714285714227,
          1.180600907029472,
          0.9376303854875232,
          0.6946598639455726,
          0.4516893424036219,
          0.20871882086167304,
          -0.03425170068027761,
          -0.27722222222222825
         ],
         "y": [
          26.024930555555574,
          26.26767431972791,
          26.510418083900245,
          26.75316184807258,
          26.99590561224492,
          27.238649376417253,
          27.48139314058959,
          27.724136904761924,
          27.96688066893426,
          28.209624433106594,
          28.45236819727893,
          28.695111961451268,
          28.937855725623603,
          29.180599489795938,
          29.423343253968273,
          29.666087018140608,
          29.908830782312943,
          30.15157454648528,
          30.394318310657617,
          30.637062074829952,
          30.879805839002287,
          31.122549603174622,
          31.365293367346958,
          31.608037131519293,
          31.850780895691628,
          32.09352465986397,
          32.3362684240363,
          32.57901218820864,
          32.82175595238097,
          33.06449971655331,
          33.307243480725646,
          33.54998724489798,
          33.792731009070316,
          34.03547477324265,
          34.278218537414986,
          34.52096230158732,
          34.763706065759656,
          35.006449829931995,
          35.24919359410433,
          35.49193735827666,
          35.734681122449,
          35.977424886621336,
          36.22016865079367,
          36.462912414966006,
          36.705656179138344,
          36.948399943310676,
          37.191143707483015,
          37.433887471655346,
          37.676631235827685,
          37.91937500000002
         ],
         "z": [
          0,
          0.32653061224489793,
          0.6530612244897959,
          0.9795918367346939,
          1.3061224489795917,
          1.6326530612244896,
          1.9591836734693877,
          2.2857142857142856,
          2.6122448979591835,
          2.9387755102040813,
          3.265306122448979,
          3.591836734693877,
          3.9183673469387754,
          4.244897959183673,
          4.571428571428571,
          4.897959183673469,
          5.224489795918367,
          5.551020408163265,
          5.877551020408163,
          6.204081632653061,
          6.530612244897958,
          6.857142857142857,
          7.183673469387754,
          7.5102040816326525,
          7.836734693877551,
          8.16326530612245,
          8.489795918367346,
          8.816326530612244,
          9.142857142857142,
          9.46938775510204,
          9.795918367346937,
          10.122448979591836,
          10.448979591836734,
          10.775510204081632,
          11.10204081632653,
          11.428571428571427,
          11.755102040816325,
          12.081632653061224,
          12.408163265306122,
          12.734693877551019,
          13.061224489795917,
          13.387755102040815,
          13.714285714285714,
          14.040816326530612,
          14.367346938775508,
          14.693877551020407,
          15.020408163265305,
          15.346938775510203,
          15.673469387755102,
          16
         ]
        },
        {
         "marker": {
          "color": "blue",
          "size": 1
         },
         "mode": "lines",
         "type": "scatter3d",
         "x": [
          0.8,
          0.8
         ],
         "y": [
          0,
          38.4
         ],
         "z": [
          14.200000000000001,
          14.200000000000001
         ]
        },
        {
         "marker": {
          "color": "blue",
          "size": 1
         },
         "mode": "lines",
         "type": "scatter3d",
         "x": [
          2.4000000000000004,
          2.4000000000000004
         ],
         "y": [
          0,
          38.4
         ],
         "z": [
          12.200000000000001,
          12.200000000000001
         ]
        },
        {
         "marker": {
          "color": "blue",
          "size": 1
         },
         "mode": "lines",
         "type": "scatter3d",
         "x": [
          4,
          4
         ],
         "y": [
          0,
          38.4
         ],
         "z": [
          10.2,
          10.2
         ]
        },
        {
         "marker": {
          "color": "blue",
          "size": 1
         },
         "mode": "lines",
         "type": "scatter3d",
         "x": [
          5.6000000000000005,
          5.6000000000000005
         ],
         "y": [
          0,
          38.4
         ],
         "z": [
          8.200000000000001,
          8.200000000000001
         ]
        },
        {
         "marker": {
          "color": "blue",
          "size": 1
         },
         "mode": "lines",
         "type": "scatter3d",
         "x": [
          7.2,
          7.2
         ],
         "y": [
          0,
          38.4
         ],
         "z": [
          6.200000000000001,
          6.200000000000001
         ]
        },
        {
         "marker": {
          "color": "blue",
          "size": 1
         },
         "mode": "lines",
         "type": "scatter3d",
         "x": [
          8.8,
          8.8
         ],
         "y": [
          0,
          38.4
         ],
         "z": [
          4.2,
          4.2
         ]
        },
        {
         "marker": {
          "color": "blue",
          "size": 1
         },
         "mode": "lines",
         "type": "scatter3d",
         "x": [
          10.4,
          10.4
         ],
         "y": [
          0,
          38.4
         ],
         "z": [
          2.2,
          2.2
         ]
        },
        {
         "marker": {
          "color": "blue",
          "size": 1
         },
         "mode": "lines",
         "type": "scatter3d",
         "x": [
          12,
          12
         ],
         "y": [
          0,
          38.4
         ],
         "z": [
          0.2,
          0.2
         ]
        },
        {
         "marker": {
          "color": "red",
          "size": 1
         },
         "mode": "lines",
         "type": "scatter3d",
         "x": [
          0,
          38.4
         ],
         "y": [
          37.6,
          37.6
         ],
         "z": [
          15.200000000000001,
          15.200000000000001
         ]
        },
        {
         "marker": {
          "color": "red",
          "size": 1
         },
         "mode": "lines",
         "type": "scatter3d",
         "x": [
          0,
          38.4
         ],
         "y": [
          36,
          36
         ],
         "z": [
          13.200000000000001,
          13.200000000000001
         ]
        },
        {
         "marker": {
          "color": "red",
          "size": 1
         },
         "mode": "lines",
         "type": "scatter3d",
         "x": [
          0,
          38.4
         ],
         "y": [
          34.4,
          34.4
         ],
         "z": [
          11.2,
          11.2
         ]
        },
        {
         "marker": {
          "color": "red",
          "size": 1
         },
         "mode": "lines",
         "type": "scatter3d",
         "x": [
          0,
          38.4
         ],
         "y": [
          32.800000000000004,
          32.800000000000004
         ],
         "z": [
          9.200000000000001,
          9.200000000000001
         ]
        },
        {
         "marker": {
          "color": "red",
          "size": 1
         },
         "mode": "lines",
         "type": "scatter3d",
         "x": [
          0,
          38.4
         ],
         "y": [
          31.200000000000003,
          31.200000000000003
         ],
         "z": [
          7.200000000000001,
          7.200000000000001
         ]
        },
        {
         "marker": {
          "color": "red",
          "size": 1
         },
         "mode": "lines",
         "type": "scatter3d",
         "x": [
          0,
          38.4
         ],
         "y": [
          29.6,
          29.6
         ],
         "z": [
          5.2,
          5.2
         ]
        },
        {
         "marker": {
          "color": "red",
          "size": 1
         },
         "mode": "lines",
         "type": "scatter3d",
         "x": [
          0,
          38.4
         ],
         "y": [
          28,
          28
         ],
         "z": [
          3.2,
          3.2
         ]
        },
        {
         "marker": {
          "color": "red",
          "size": 1
         },
         "mode": "lines",
         "type": "scatter3d",
         "x": [
          0,
          38.4
         ],
         "y": [
          26.400000000000002,
          26.400000000000002
         ],
         "z": [
          1.2,
          1.2
         ]
        }
       ],
       "layout": {
        "scene": {
         "aspectmode": "cube",
         "xaxis": {
          "range": [
           0,
           38.4
          ],
          "title": {
           "text": "X [cm]"
          }
         },
         "yaxis": {
          "range": [
           0,
           38.4
          ],
          "title": {
           "text": "Y [cm]"
          }
         },
         "zaxis": {
          "range": [
           0,
           16
          ],
          "title": {
           "text": "Z [cm]"
          }
         }
        },
        "template": {
         "data": {
          "bar": [
           {
            "error_x": {
             "color": "#2a3f5f"
            },
            "error_y": {
             "color": "#2a3f5f"
            },
            "marker": {
             "line": {
              "color": "#E5ECF6",
              "width": 0.5
             },
             "pattern": {
              "fillmode": "overlay",
              "size": 10,
              "solidity": 0.2
             }
            },
            "type": "bar"
           }
          ],
          "barpolar": [
           {
            "marker": {
             "line": {
              "color": "#E5ECF6",
              "width": 0.5
             },
             "pattern": {
              "fillmode": "overlay",
              "size": 10,
              "solidity": 0.2
             }
            },
            "type": "barpolar"
           }
          ],
          "carpet": [
           {
            "aaxis": {
             "endlinecolor": "#2a3f5f",
             "gridcolor": "white",
             "linecolor": "white",
             "minorgridcolor": "white",
             "startlinecolor": "#2a3f5f"
            },
            "baxis": {
             "endlinecolor": "#2a3f5f",
             "gridcolor": "white",
             "linecolor": "white",
             "minorgridcolor": "white",
             "startlinecolor": "#2a3f5f"
            },
            "type": "carpet"
           }
          ],
          "choropleth": [
           {
            "colorbar": {
             "outlinewidth": 0,
             "ticks": ""
            },
            "type": "choropleth"
           }
          ],
          "contour": [
           {
            "colorbar": {
             "outlinewidth": 0,
             "ticks": ""
            },
            "colorscale": [
             [
              0,
              "#0d0887"
             ],
             [
              0.1111111111111111,
              "#46039f"
             ],
             [
              0.2222222222222222,
              "#7201a8"
             ],
             [
              0.3333333333333333,
              "#9c179e"
             ],
             [
              0.4444444444444444,
              "#bd3786"
             ],
             [
              0.5555555555555556,
              "#d8576b"
             ],
             [
              0.6666666666666666,
              "#ed7953"
             ],
             [
              0.7777777777777778,
              "#fb9f3a"
             ],
             [
              0.8888888888888888,
              "#fdca26"
             ],
             [
              1,
              "#f0f921"
             ]
            ],
            "type": "contour"
           }
          ],
          "contourcarpet": [
           {
            "colorbar": {
             "outlinewidth": 0,
             "ticks": ""
            },
            "type": "contourcarpet"
           }
          ],
          "heatmap": [
           {
            "colorbar": {
             "outlinewidth": 0,
             "ticks": ""
            },
            "colorscale": [
             [
              0,
              "#0d0887"
             ],
             [
              0.1111111111111111,
              "#46039f"
             ],
             [
              0.2222222222222222,
              "#7201a8"
             ],
             [
              0.3333333333333333,
              "#9c179e"
             ],
             [
              0.4444444444444444,
              "#bd3786"
             ],
             [
              0.5555555555555556,
              "#d8576b"
             ],
             [
              0.6666666666666666,
              "#ed7953"
             ],
             [
              0.7777777777777778,
              "#fb9f3a"
             ],
             [
              0.8888888888888888,
              "#fdca26"
             ],
             [
              1,
              "#f0f921"
             ]
            ],
            "type": "heatmap"
           }
          ],
          "heatmapgl": [
           {
            "colorbar": {
             "outlinewidth": 0,
             "ticks": ""
            },
            "colorscale": [
             [
              0,
              "#0d0887"
             ],
             [
              0.1111111111111111,
              "#46039f"
             ],
             [
              0.2222222222222222,
              "#7201a8"
             ],
             [
              0.3333333333333333,
              "#9c179e"
             ],
             [
              0.4444444444444444,
              "#bd3786"
             ],
             [
              0.5555555555555556,
              "#d8576b"
             ],
             [
              0.6666666666666666,
              "#ed7953"
             ],
             [
              0.7777777777777778,
              "#fb9f3a"
             ],
             [
              0.8888888888888888,
              "#fdca26"
             ],
             [
              1,
              "#f0f921"
             ]
            ],
            "type": "heatmapgl"
           }
          ],
          "histogram": [
           {
            "marker": {
             "pattern": {
              "fillmode": "overlay",
              "size": 10,
              "solidity": 0.2
             }
            },
            "type": "histogram"
           }
          ],
          "histogram2d": [
           {
            "colorbar": {
             "outlinewidth": 0,
             "ticks": ""
            },
            "colorscale": [
             [
              0,
              "#0d0887"
             ],
             [
              0.1111111111111111,
              "#46039f"
             ],
             [
              0.2222222222222222,
              "#7201a8"
             ],
             [
              0.3333333333333333,
              "#9c179e"
             ],
             [
              0.4444444444444444,
              "#bd3786"
             ],
             [
              0.5555555555555556,
              "#d8576b"
             ],
             [
              0.6666666666666666,
              "#ed7953"
             ],
             [
              0.7777777777777778,
              "#fb9f3a"
             ],
             [
              0.8888888888888888,
              "#fdca26"
             ],
             [
              1,
              "#f0f921"
             ]
            ],
            "type": "histogram2d"
           }
          ],
          "histogram2dcontour": [
           {
            "colorbar": {
             "outlinewidth": 0,
             "ticks": ""
            },
            "colorscale": [
             [
              0,
              "#0d0887"
             ],
             [
              0.1111111111111111,
              "#46039f"
             ],
             [
              0.2222222222222222,
              "#7201a8"
             ],
             [
              0.3333333333333333,
              "#9c179e"
             ],
             [
              0.4444444444444444,
              "#bd3786"
             ],
             [
              0.5555555555555556,
              "#d8576b"
             ],
             [
              0.6666666666666666,
              "#ed7953"
             ],
             [
              0.7777777777777778,
              "#fb9f3a"
             ],
             [
              0.8888888888888888,
              "#fdca26"
             ],
             [
              1,
              "#f0f921"
             ]
            ],
            "type": "histogram2dcontour"
           }
          ],
          "mesh3d": [
           {
            "colorbar": {
             "outlinewidth": 0,
             "ticks": ""
            },
            "type": "mesh3d"
           }
          ],
          "parcoords": [
           {
            "line": {
             "colorbar": {
              "outlinewidth": 0,
              "ticks": ""
             }
            },
            "type": "parcoords"
           }
          ],
          "pie": [
           {
            "automargin": true,
            "type": "pie"
           }
          ],
          "scatter": [
           {
            "fillpattern": {
             "fillmode": "overlay",
             "size": 10,
             "solidity": 0.2
            },
            "type": "scatter"
           }
          ],
          "scatter3d": [
           {
            "line": {
             "colorbar": {
              "outlinewidth": 0,
              "ticks": ""
             }
            },
            "marker": {
             "colorbar": {
              "outlinewidth": 0,
              "ticks": ""
             }
            },
            "type": "scatter3d"
           }
          ],
          "scattercarpet": [
           {
            "marker": {
             "colorbar": {
              "outlinewidth": 0,
              "ticks": ""
             }
            },
            "type": "scattercarpet"
           }
          ],
          "scattergeo": [
           {
            "marker": {
             "colorbar": {
              "outlinewidth": 0,
              "ticks": ""
             }
            },
            "type": "scattergeo"
           }
          ],
          "scattergl": [
           {
            "marker": {
             "colorbar": {
              "outlinewidth": 0,
              "ticks": ""
             }
            },
            "type": "scattergl"
           }
          ],
          "scattermapbox": [
           {
            "marker": {
             "colorbar": {
              "outlinewidth": 0,
              "ticks": ""
             }
            },
            "type": "scattermapbox"
           }
          ],
          "scatterpolar": [
           {
            "marker": {
             "colorbar": {
              "outlinewidth": 0,
              "ticks": ""
             }
            },
            "type": "scatterpolar"
           }
          ],
          "scatterpolargl": [
           {
            "marker": {
             "colorbar": {
              "outlinewidth": 0,
              "ticks": ""
             }
            },
            "type": "scatterpolargl"
           }
          ],
          "scatterternary": [
           {
            "marker": {
             "colorbar": {
              "outlinewidth": 0,
              "ticks": ""
             }
            },
            "type": "scatterternary"
           }
          ],
          "surface": [
           {
            "colorbar": {
             "outlinewidth": 0,
             "ticks": ""
            },
            "colorscale": [
             [
              0,
              "#0d0887"
             ],
             [
              0.1111111111111111,
              "#46039f"
             ],
             [
              0.2222222222222222,
              "#7201a8"
             ],
             [
              0.3333333333333333,
              "#9c179e"
             ],
             [
              0.4444444444444444,
              "#bd3786"
             ],
             [
              0.5555555555555556,
              "#d8576b"
             ],
             [
              0.6666666666666666,
              "#ed7953"
             ],
             [
              0.7777777777777778,
              "#fb9f3a"
             ],
             [
              0.8888888888888888,
              "#fdca26"
             ],
             [
              1,
              "#f0f921"
             ]
            ],
            "type": "surface"
           }
          ],
          "table": [
           {
            "cells": {
             "fill": {
              "color": "#EBF0F8"
             },
             "line": {
              "color": "white"
             }
            },
            "header": {
             "fill": {
              "color": "#C8D4E3"
             },
             "line": {
              "color": "white"
             }
            },
            "type": "table"
           }
          ]
         },
         "layout": {
          "annotationdefaults": {
           "arrowcolor": "#2a3f5f",
           "arrowhead": 0,
           "arrowwidth": 1
          },
          "autotypenumbers": "strict",
          "coloraxis": {
           "colorbar": {
            "outlinewidth": 0,
            "ticks": ""
           }
          },
          "colorscale": {
           "diverging": [
            [
             0,
             "#8e0152"
            ],
            [
             0.1,
             "#c51b7d"
            ],
            [
             0.2,
             "#de77ae"
            ],
            [
             0.3,
             "#f1b6da"
            ],
            [
             0.4,
             "#fde0ef"
            ],
            [
             0.5,
             "#f7f7f7"
            ],
            [
             0.6,
             "#e6f5d0"
            ],
            [
             0.7,
             "#b8e186"
            ],
            [
             0.8,
             "#7fbc41"
            ],
            [
             0.9,
             "#4d9221"
            ],
            [
             1,
             "#276419"
            ]
           ],
           "sequential": [
            [
             0,
             "#0d0887"
            ],
            [
             0.1111111111111111,
             "#46039f"
            ],
            [
             0.2222222222222222,
             "#7201a8"
            ],
            [
             0.3333333333333333,
             "#9c179e"
            ],
            [
             0.4444444444444444,
             "#bd3786"
            ],
            [
             0.5555555555555556,
             "#d8576b"
            ],
            [
             0.6666666666666666,
             "#ed7953"
            ],
            [
             0.7777777777777778,
             "#fb9f3a"
            ],
            [
             0.8888888888888888,
             "#fdca26"
            ],
            [
             1,
             "#f0f921"
            ]
           ],
           "sequentialminus": [
            [
             0,
             "#0d0887"
            ],
            [
             0.1111111111111111,
             "#46039f"
            ],
            [
             0.2222222222222222,
             "#7201a8"
            ],
            [
             0.3333333333333333,
             "#9c179e"
            ],
            [
             0.4444444444444444,
             "#bd3786"
            ],
            [
             0.5555555555555556,
             "#d8576b"
            ],
            [
             0.6666666666666666,
             "#ed7953"
            ],
            [
             0.7777777777777778,
             "#fb9f3a"
            ],
            [
             0.8888888888888888,
             "#fdca26"
            ],
            [
             1,
             "#f0f921"
            ]
           ]
          },
          "colorway": [
           "#636efa",
           "#EF553B",
           "#00cc96",
           "#ab63fa",
           "#FFA15A",
           "#19d3f3",
           "#FF6692",
           "#B6E880",
           "#FF97FF",
           "#FECB52"
          ],
          "font": {
           "color": "#2a3f5f"
          },
          "geo": {
           "bgcolor": "white",
           "lakecolor": "white",
           "landcolor": "#E5ECF6",
           "showlakes": true,
           "showland": true,
           "subunitcolor": "white"
          },
          "hoverlabel": {
           "align": "left"
          },
          "hovermode": "closest",
          "mapbox": {
           "style": "light"
          },
          "paper_bgcolor": "white",
          "plot_bgcolor": "#E5ECF6",
          "polar": {
           "angularaxis": {
            "gridcolor": "white",
            "linecolor": "white",
            "ticks": ""
           },
           "bgcolor": "#E5ECF6",
           "radialaxis": {
            "gridcolor": "white",
            "linecolor": "white",
            "ticks": ""
           }
          },
          "scene": {
           "xaxis": {
            "backgroundcolor": "#E5ECF6",
            "gridcolor": "white",
            "gridwidth": 2,
            "linecolor": "white",
            "showbackground": true,
            "ticks": "",
            "zerolinecolor": "white"
           },
           "yaxis": {
            "backgroundcolor": "#E5ECF6",
            "gridcolor": "white",
            "gridwidth": 2,
            "linecolor": "white",
            "showbackground": true,
            "ticks": "",
            "zerolinecolor": "white"
           },
           "zaxis": {
            "backgroundcolor": "#E5ECF6",
            "gridcolor": "white",
            "gridwidth": 2,
            "linecolor": "white",
            "showbackground": true,
            "ticks": "",
            "zerolinecolor": "white"
           }
          },
          "shapedefaults": {
           "line": {
            "color": "#2a3f5f"
           }
          },
          "ternary": {
           "aaxis": {
            "gridcolor": "white",
            "linecolor": "white",
            "ticks": ""
           },
           "baxis": {
            "gridcolor": "white",
            "linecolor": "white",
            "ticks": ""
           },
           "bgcolor": "#E5ECF6",
           "caxis": {
            "gridcolor": "white",
            "linecolor": "white",
            "ticks": ""
           }
          },
          "title": {
           "x": 0.05
          },
          "xaxis": {
           "automargin": true,
           "gridcolor": "white",
           "linecolor": "white",
           "ticks": "",
           "title": {
            "standoff": 15
           },
           "zerolinecolor": "white",
           "zerolinewidth": 2
          },
          "yaxis": {
           "automargin": true,
           "gridcolor": "white",
           "linecolor": "white",
           "ticks": "",
           "title": {
            "standoff": 15
           },
           "zerolinecolor": "white",
           "zerolinewidth": 2
          }
         }
        }
       }
      }
     },
     "metadata": {},
     "output_type": "display_data"
    },
    {
     "data": {
      "text/plain": [
       "<matplotlib.legend.Legend at 0x1a34742fc10>"
      ]
     },
     "execution_count": 96,
     "metadata": {},
     "output_type": "execute_result"
    },
    {
     "data": {
      "image/png": "[encoded data removed]",
      "text/plain": [
       "<Figure size 640x480 with 1 Axes>"
      ]
     },
     "metadata": {},
     "output_type": "display_data"
    }
   ],
   "source": [
    "from track import Track\n",
    "from time_correction import*\n",
    "Hx=[]\n",
    "Hy=[]\n",
    "for number_hits in range(8):\n",
    "    Hx.append(Hit([number_hits+1,8-number_hits],1,0,1000,0.0))#(coord, is_sidex, timestamp, timestamp_event, value)\n",
    "    Hy.append(Hit([24-number_hits,8-number_hits],0,0,1000,0.0))\n",
    "Tx = Track(Hx)\n",
    "Ty = Track(Hy)\n",
    "T = Track3D(Tx,Ty)\n",
    "T.show()\n",
    "\n",
    "T_fiber_corrected = copy.deepcopy(T)\n",
    "T_electronic_corrected = copy.deepcopy(T)\n",
    "time_correction_fiber(T_fiber_corrected)\n",
    "time_correction_electronics(T_electronic_corrected)\n",
    "\n",
    "# recover the corrected stamps\n",
    "heights = []\n",
    "s_nocorr = []\n",
    "s_ecorr = []\n",
    "s_fibcorr = []\n",
    "\n",
    "for h in T.y.hits:#+ T.y.hits:\n",
    "    heights.append(h.get_pos()[1])\n",
    "    s_nocorr.append(h.timestamp)\n",
    "for h in T_fiber_corrected.y.hits:# + T_fiber_corrected.y.hits:\n",
    "    s_fibcorr.append(h.timestamp)\n",
    "for h in T_electronic_corrected.y.hits:# + T_electronic_corrected.y.hits:\n",
    "    s_ecorr.append(h.timestamp)\n",
    "\n",
    "plt.figure()\n",
    "plt.plot(heights,s_nocorr,'ko')\n",
    "plt.plot(heights,s_ecorr, 'r+')\n",
    "plt.plot(heights,s_fibcorr,'gx')\n",
    "plt.grid()\n",
    "plt.xlabel(\"Height [cm]\")\n",
    "plt.ylabel(\"Timestamp [cs]\")\n",
    "plt.legend([\"No correction\",\"Electronics corrected\",\"Fiber corrected\"])\n"
   ]
  },
  {
   "cell_type": "code",
   "execution_count": 19,
   "metadata": {},
   "outputs": [
    {
     "name": "stdout",
     "output_type": "stream",
     "text": [
      "0.29910389485146166\n",
      "0.4401072291234432\n"
     ]
    }
   ],
   "source": [
    "print(np.max(np.max(np.abs(muXF))))\n",
    "print(np.max(np.max(np.abs(muYF))))"
   ]
  },
  {
   "cell_type": "code",
   "execution_count": 80,
   "metadata": {},
   "outputs": [],
   "source": [
    "with open('tracks_run11.pkl', 'rb') as file:  # Open the file in read-binary mode ('rb')\n",
    "    ttracks = pickle.load(file)"
   ]
  },
  {
   "cell_type": "code",
   "execution_count": 93,
   "metadata": {},
   "outputs": [
    {
     "data": {
      "application/vnd.plotly.v1+json": {
       "config": {
        "plotlyServerURL": "https://plot.ly"
       },
       "data": [
        {
         "line": {
          "color": "black",
          "width": 5
         },
         "mode": "lines",
         "type": "scatter3d",
         "x": [
          29.598333333333336,
          29.598219954648528,
          29.598106575963723,
          29.597993197278914,
          29.597879818594105,
          29.5977664399093,
          29.59765306122449,
          29.597539682539686,
          29.597426303854878,
          29.59731292517007,
          29.597199546485264,
          29.597086167800455,
          29.596972789115647,
          29.59685941043084,
          29.596746031746033,
          29.596632653061228,
          29.59651927437642,
          29.59640589569161,
          29.596292517006805,
          29.596179138321997,
          29.596065759637188,
          29.595952380952383,
          29.595839002267574,
          29.595725623582766,
          29.59561224489796,
          29.595498866213152,
          29.595385487528347,
          29.595272108843538,
          29.59515873015873,
          29.595045351473924,
          29.594931972789116,
          29.594818594104307,
          29.594705215419502,
          29.594591836734693,
          29.594478458049885,
          29.59436507936508,
          29.59425170068027,
          29.594138321995466,
          29.594024943310657,
          29.59391156462585,
          29.593798185941043,
          29.593684807256235,
          29.593571428571426,
          29.59345804988662,
          29.593344671201812,
          29.593231292517007,
          29.5931179138322,
          29.59300453514739,
          29.592891156462585,
          29.592777777777776
         ],
         "y": [
          10.08465277777779,
          10.057555272108857,
          10.030457766439921,
          10.003360260770988,
          9.976262755102054,
          9.949165249433118,
          9.922067743764185,
          9.894970238095251,
          9.867872732426315,
          9.840775226757382,
          9.813677721088448,
          9.786580215419512,
          9.759482709750579,
          9.732385204081645,
          9.70528769841271,
          9.678190192743775,
          9.651092687074842,
          9.623995181405906,
          9.596897675736972,
          9.569800170068039,
          9.542702664399105,
          9.51560515873017,
          9.488507653061236,
          9.4614101473923,
          9.434312641723366,
          9.407215136054432,
          9.380117630385499,
          9.353020124716563,
          9.32592261904763,
          9.298825113378696,
          9.27172760770976,
          9.244630102040826,
          9.217532596371893,
          9.190435090702957,
          9.163337585034023,
          9.13624007936509,
          9.109142573696154,
          9.08204506802722,
          9.054947562358286,
          9.027850056689351,
          9.000752551020417,
          8.973655045351483,
          8.946557539682548,
          8.919460034013614,
          8.89236252834468,
          8.865265022675745,
          8.838167517006811,
          8.811070011337877,
          8.783972505668942,
          8.756875000000008
         ],
         "z": [
          0,
          0.32653061224489793,
          0.6530612244897959,
          0.9795918367346939,
          1.3061224489795917,
          1.6326530612244896,
          1.9591836734693877,
          2.2857142857142856,
          2.6122448979591835,
          2.9387755102040813,
          3.265306122448979,
          3.591836734693877,
          3.9183673469387754,
          4.244897959183673,
          4.571428571428571,
          4.897959183673469,
          5.224489795918367,
          5.551020408163265,
          5.877551020408163,
          6.204081632653061,
          6.530612244897958,
          6.857142857142857,
          7.183673469387754,
          7.5102040816326525,
          7.836734693877551,
          8.16326530612245,
          8.489795918367346,
          8.816326530612244,
          9.142857142857142,
          9.46938775510204,
          9.795918367346937,
          10.122448979591836,
          10.448979591836734,
          10.775510204081632,
          11.10204081632653,
          11.428571428571427,
          11.755102040816325,
          12.081632653061224,
          12.408163265306122,
          12.734693877551019,
          13.061224489795917,
          13.387755102040815,
          13.714285714285714,
          14.040816326530612,
          14.367346938775508,
          14.693877551020407,
          15.020408163265305,
          15.346938775510203,
          15.673469387755102,
          16
         ]
        },
        {
         "marker": {
          "color": "blue",
          "size": 1
         },
         "mode": "lines",
         "type": "scatter3d",
         "x": [
          29.6,
          29.6
         ],
         "y": [
          0,
          38.4
         ],
         "z": [
          8.200000000000001,
          8.200000000000001
         ]
        },
        {
         "marker": {
          "color": "blue",
          "size": 1
         },
         "mode": "lines",
         "type": "scatter3d",
         "x": [
          29.6,
          29.6
         ],
         "y": [
          0,
          38.4
         ],
         "z": [
          4.2,
          4.2
         ]
        },
        {
         "marker": {
          "color": "blue",
          "size": 1
         },
         "mode": "lines",
         "type": "scatter3d",
         "x": [
          29.6,
          29.6
         ],
         "y": [
          0,
          38.4
         ],
         "z": [
          6.200000000000001,
          6.200000000000001
         ]
        },
        {
         "marker": {
          "color": "blue",
          "size": 1
         },
         "mode": "lines",
         "type": "scatter3d",
         "x": [
          29.6,
          29.6
         ],
         "y": [
          0,
          38.4
         ],
         "z": [
          14.200000000000001,
          14.200000000000001
         ]
        },
        {
         "marker": {
          "color": "blue",
          "size": 1
         },
         "mode": "lines",
         "type": "scatter3d",
         "x": [
          29.6,
          29.6
         ],
         "y": [
          0,
          38.4
         ],
         "z": [
          12.200000000000001,
          12.200000000000001
         ]
        },
        {
         "marker": {
          "color": "blue",
          "size": 1
         },
         "mode": "lines",
         "type": "scatter3d",
         "x": [
          29.6,
          29.6
         ],
         "y": [
          0,
          38.4
         ],
         "z": [
          10.2,
          10.2
         ]
        },
        {
         "marker": {
          "color": "blue",
          "size": 1
         },
         "mode": "lines",
         "type": "scatter3d",
         "x": [
          29.6,
          29.6
         ],
         "y": [
          0,
          38.4
         ],
         "z": [
          0.2,
          0.2
         ]
        },
        {
         "marker": {
          "color": "blue",
          "size": 1
         },
         "mode": "lines",
         "type": "scatter3d",
         "x": [
          29.6,
          29.6
         ],
         "y": [
          0,
          38.4
         ],
         "z": [
          2.2,
          2.2
         ]
        },
        {
         "marker": {
          "color": "red",
          "size": 1
         },
         "mode": "lines",
         "type": "scatter3d",
         "x": [
          0,
          38.4
         ],
         "y": [
          10.4,
          10.4
         ],
         "z": [
          1.2,
          1.2
         ]
        },
        {
         "marker": {
          "color": "red",
          "size": 1
         },
         "mode": "lines",
         "type": "scatter3d",
         "x": [
          0,
          38.4
         ],
         "y": [
          10.4,
          10.4
         ],
         "z": [
          7.200000000000001,
          7.200000000000001
         ]
        },
        {
         "marker": {
          "color": "red",
          "size": 1
         },
         "mode": "lines",
         "type": "scatter3d",
         "x": [
          0,
          38.4
         ],
         "y": [
          8.8,
          8.8
         ],
         "z": [
          11.2,
          11.2
         ]
        },
        {
         "marker": {
          "color": "red",
          "size": 1
         },
         "mode": "lines",
         "type": "scatter3d",
         "x": [
          0,
          38.4
         ],
         "y": [
          8.8,
          8.8
         ],
         "z": [
          15.200000000000001,
          15.200000000000001
         ]
        },
        {
         "marker": {
          "color": "red",
          "size": 1
         },
         "mode": "lines",
         "type": "scatter3d",
         "x": [
          0,
          38.4
         ],
         "y": [
          8.8,
          8.8
         ],
         "z": [
          13.200000000000001,
          13.200000000000001
         ]
        },
        {
         "marker": {
          "color": "red",
          "size": 1
         },
         "mode": "lines",
         "type": "scatter3d",
         "x": [
          0,
          38.4
         ],
         "y": [
          8.8,
          8.8
         ],
         "z": [
          9.200000000000001,
          9.200000000000001
         ]
        },
        {
         "marker": {
          "color": "red",
          "size": 1
         },
         "mode": "lines",
         "type": "scatter3d",
         "x": [
          0,
          38.4
         ],
         "y": [
          10.4,
          10.4
         ],
         "z": [
          3.2,
          3.2
         ]
        },
        {
         "marker": {
          "color": "red",
          "size": 1
         },
         "mode": "lines",
         "type": "scatter3d",
         "x": [
          0,
          38.4
         ],
         "y": [
          10.4,
          10.4
         ],
         "z": [
          5.2,
          5.2
         ]
        }
       ],
       "layout": {
        "scene": {
         "aspectmode": "cube",
         "xaxis": {
          "range": [
           0,
           38.4
          ],
          "title": {
           "text": "X [cm]"
          }
         },
         "yaxis": {
          "range": [
           0,
           38.4
          ],
          "title": {
           "text": "Y [cm]"
          }
         },
         "zaxis": {
          "range": [
           0,
           16
          ],
          "title": {
           "text": "Z [cm]"
          }
         }
        },
        "template": {
         "data": {
          "bar": [
           {
            "error_x": {
             "color": "#2a3f5f"
            },
            "error_y": {
             "color": "#2a3f5f"
            },
            "marker": {
             "line": {
              "color": "#E5ECF6",
              "width": 0.5
             },
             "pattern": {
              "fillmode": "overlay",
              "size": 10,
              "solidity": 0.2
             }
            },
            "type": "bar"
           }
          ],
          "barpolar": [
           {
            "marker": {
             "line": {
              "color": "#E5ECF6",
              "width": 0.5
             },
             "pattern": {
              "fillmode": "overlay",
              "size": 10,
              "solidity": 0.2
             }
            },
            "type": "barpolar"
           }
          ],
          "carpet": [
           {
            "aaxis": {
             "endlinecolor": "#2a3f5f",
             "gridcolor": "white",
             "linecolor": "white",
             "minorgridcolor": "white",
             "startlinecolor": "#2a3f5f"
            },
            "baxis": {
             "endlinecolor": "#2a3f5f",
             "gridcolor": "white",
             "linecolor": "white",
             "minorgridcolor": "white",
             "startlinecolor": "#2a3f5f"
            },
            "type": "carpet"
           }
          ],
          "choropleth": [
           {
            "colorbar": {
             "outlinewidth": 0,
             "ticks": ""
            },
            "type": "choropleth"
           }
          ],
          "contour": [
           {
            "colorbar": {
             "outlinewidth": 0,
             "ticks": ""
            },
            "colorscale": [
             [
              0,
              "#0d0887"
             ],
             [
              0.1111111111111111,
              "#46039f"
             ],
             [
              0.2222222222222222,
              "#7201a8"
             ],
             [
              0.3333333333333333,
              "#9c179e"
             ],
             [
              0.4444444444444444,
              "#bd3786"
             ],
             [
              0.5555555555555556,
              "#d8576b"
             ],
             [
              0.6666666666666666,
              "#ed7953"
             ],
             [
              0.7777777777777778,
              "#fb9f3a"
             ],
             [
              0.8888888888888888,
              "#fdca26"
             ],
             [
              1,
              "#f0f921"
             ]
            ],
            "type": "contour"
           }
          ],
          "contourcarpet": [
           {
            "colorbar": {
             "outlinewidth": 0,
             "ticks": ""
            },
            "type": "contourcarpet"
           }
          ],
          "heatmap": [
           {
            "colorbar": {
             "outlinewidth": 0,
             "ticks": ""
            },
            "colorscale": [
             [
              0,
              "#0d0887"
             ],
             [
              0.1111111111111111,
              "#46039f"
             ],
             [
              0.2222222222222222,
              "#7201a8"
             ],
             [
              0.3333333333333333,
              "#9c179e"
             ],
             [
              0.4444444444444444,
              "#bd3786"
             ],
             [
              0.5555555555555556,
              "#d8576b"
             ],
             [
              0.6666666666666666,
              "#ed7953"
             ],
             [
              0.7777777777777778,
              "#fb9f3a"
             ],
             [
              0.8888888888888888,
              "#fdca26"
             ],
             [
              1,
              "#f0f921"
             ]
            ],
            "type": "heatmap"
           }
          ],
          "heatmapgl": [
           {
            "colorbar": {
             "outlinewidth": 0,
             "ticks": ""
            },
            "colorscale": [
             [
              0,
              "#0d0887"
             ],
             [
              0.1111111111111111,
              "#46039f"
             ],
             [
              0.2222222222222222,
              "#7201a8"
             ],
             [
              0.3333333333333333,
              "#9c179e"
             ],
             [
              0.4444444444444444,
              "#bd3786"
             ],
             [
              0.5555555555555556,
              "#d8576b"
             ],
             [
              0.6666666666666666,
              "#ed7953"
             ],
             [
              0.7777777777777778,
              "#fb9f3a"
             ],
             [
              0.8888888888888888,
              "#fdca26"
             ],
             [
              1,
              "#f0f921"
             ]
            ],
            "type": "heatmapgl"
           }
          ],
          "histogram": [
           {
            "marker": {
             "pattern": {
              "fillmode": "overlay",
              "size": 10,
              "solidity": 0.2
             }
            },
            "type": "histogram"
           }
          ],
          "histogram2d": [
           {
            "colorbar": {
             "outlinewidth": 0,
             "ticks": ""
            },
            "colorscale": [
             [
              0,
              "#0d0887"
             ],
             [
              0.1111111111111111,
              "#46039f"
             ],
             [
              0.2222222222222222,
              "#7201a8"
             ],
             [
              0.3333333333333333,
              "#9c179e"
             ],
             [
              0.4444444444444444,
              "#bd3786"
             ],
             [
              0.5555555555555556,
              "#d8576b"
             ],
             [
              0.6666666666666666,
              "#ed7953"
             ],
             [
              0.7777777777777778,
              "#fb9f3a"
             ],
             [
              0.8888888888888888,
              "#fdca26"
             ],
             [
              1,
              "#f0f921"
             ]
            ],
            "type": "histogram2d"
           }
          ],
          "histogram2dcontour": [
           {
            "colorbar": {
             "outlinewidth": 0,
             "ticks": ""
            },
            "colorscale": [
             [
              0,
              "#0d0887"
             ],
             [
              0.1111111111111111,
              "#46039f"
             ],
             [
              0.2222222222222222,
              "#7201a8"
             ],
             [
              0.3333333333333333,
              "#9c179e"
             ],
             [
              0.4444444444444444,
              "#bd3786"
             ],
             [
              0.5555555555555556,
              "#d8576b"
             ],
             [
              0.6666666666666666,
              "#ed7953"
             ],
             [
              0.7777777777777778,
              "#fb9f3a"
             ],
             [
              0.8888888888888888,
              "#fdca26"
             ],
             [
              1,
              "#f0f921"
             ]
            ],
            "type": "histogram2dcontour"
           }
          ],
          "mesh3d": [
           {
            "colorbar": {
             "outlinewidth": 0,
             "ticks": ""
            },
            "type": "mesh3d"
           }
          ],
          "parcoords": [
           {
            "line": {
             "colorbar": {
              "outlinewidth": 0,
              "ticks": ""
             }
            },
            "type": "parcoords"
           }
          ],
          "pie": [
           {
            "automargin": true,
            "type": "pie"
           }
          ],
          "scatter": [
           {
            "fillpattern": {
             "fillmode": "overlay",
             "size": 10,
             "solidity": 0.2
            },
            "type": "scatter"
           }
          ],
          "scatter3d": [
           {
            "line": {
             "colorbar": {
              "outlinewidth": 0,
              "ticks": ""
             }
            },
            "marker": {
             "colorbar": {
              "outlinewidth": 0,
              "ticks": ""
             }
            },
            "type": "scatter3d"
           }
          ],
          "scattercarpet": [
           {
            "marker": {
             "colorbar": {
              "outlinewidth": 0,
              "ticks": ""
             }
            },
            "type": "scattercarpet"
           }
          ],
          "scattergeo": [
           {
            "marker": {
             "colorbar": {
              "outlinewidth": 0,
              "ticks": ""
             }
            },
            "type": "scattergeo"
           }
          ],
          "scattergl": [
           {
            "marker": {
             "colorbar": {
              "outlinewidth": 0,
              "ticks": ""
             }
            },
            "type": "scattergl"
           }
          ],
          "scattermapbox": [
           {
            "marker": {
             "colorbar": {
              "outlinewidth": 0,
              "ticks": ""
             }
            },
            "type": "scattermapbox"
           }
          ],
          "scatterpolar": [
           {
            "marker": {
             "colorbar": {
              "outlinewidth": 0,
              "ticks": ""
             }
            },
            "type": "scatterpolar"
           }
          ],
          "scatterpolargl": [
           {
            "marker": {
             "colorbar": {
              "outlinewidth": 0,
              "ticks": ""
             }
            },
            "type": "scatterpolargl"
           }
          ],
          "scatterternary": [
           {
            "marker": {
             "colorbar": {
              "outlinewidth": 0,
              "ticks": ""
             }
            },
            "type": "scatterternary"
           }
          ],
          "surface": [
           {
            "colorbar": {
             "outlinewidth": 0,
             "ticks": ""
            },
            "colorscale": [
             [
              0,
              "#0d0887"
             ],
             [
              0.1111111111111111,
              "#46039f"
             ],
             [
              0.2222222222222222,
              "#7201a8"
             ],
             [
              0.3333333333333333,
              "#9c179e"
             ],
             [
              0.4444444444444444,
              "#bd3786"
             ],
             [
              0.5555555555555556,
              "#d8576b"
             ],
             [
              0.6666666666666666,
              "#ed7953"
             ],
             [
              0.7777777777777778,
              "#fb9f3a"
             ],
             [
              0.8888888888888888,
              "#fdca26"
             ],
             [
              1,
              "#f0f921"
             ]
            ],
            "type": "surface"
           }
          ],
          "table": [
           {
            "cells": {
             "fill": {
              "color": "#EBF0F8"
             },
             "line": {
              "color": "white"
             }
            },
            "header": {
             "fill": {
              "color": "#C8D4E3"
             },
             "line": {
              "color": "white"
             }
            },
            "type": "table"
           }
          ]
         },
         "layout": {
          "annotationdefaults": {
           "arrowcolor": "#2a3f5f",
           "arrowhead": 0,
           "arrowwidth": 1
          },
          "autotypenumbers": "strict",
          "coloraxis": {
           "colorbar": {
            "outlinewidth": 0,
            "ticks": ""
           }
          },
          "colorscale": {
           "diverging": [
            [
             0,
             "#8e0152"
            ],
            [
             0.1,
             "#c51b7d"
            ],
            [
             0.2,
             "#de77ae"
            ],
            [
             0.3,
             "#f1b6da"
            ],
            [
             0.4,
             "#fde0ef"
            ],
            [
             0.5,
             "#f7f7f7"
            ],
            [
             0.6,
             "#e6f5d0"
            ],
            [
             0.7,
             "#b8e186"
            ],
            [
             0.8,
             "#7fbc41"
            ],
            [
             0.9,
             "#4d9221"
            ],
            [
             1,
             "#276419"
            ]
           ],
           "sequential": [
            [
             0,
             "#0d0887"
            ],
            [
             0.1111111111111111,
             "#46039f"
            ],
            [
             0.2222222222222222,
             "#7201a8"
            ],
            [
             0.3333333333333333,
             "#9c179e"
            ],
            [
             0.4444444444444444,
             "#bd3786"
            ],
            [
             0.5555555555555556,
             "#d8576b"
            ],
            [
             0.6666666666666666,
             "#ed7953"
            ],
            [
             0.7777777777777778,
             "#fb9f3a"
            ],
            [
             0.8888888888888888,
             "#fdca26"
            ],
            [
             1,
             "#f0f921"
            ]
           ],
           "sequentialminus": [
            [
             0,
             "#0d0887"
            ],
            [
             0.1111111111111111,
             "#46039f"
            ],
            [
             0.2222222222222222,
             "#7201a8"
            ],
            [
             0.3333333333333333,
             "#9c179e"
            ],
            [
             0.4444444444444444,
             "#bd3786"
            ],
            [
             0.5555555555555556,
             "#d8576b"
            ],
            [
             0.6666666666666666,
             "#ed7953"
            ],
            [
             0.7777777777777778,
             "#fb9f3a"
            ],
            [
             0.8888888888888888,
             "#fdca26"
            ],
            [
             1,
             "#f0f921"
            ]
           ]
          },
          "colorway": [
           "#636efa",
           "#EF553B",
           "#00cc96",
           "#ab63fa",
           "#FFA15A",
           "#19d3f3",
           "#FF6692",
           "#B6E880",
           "#FF97FF",
           "#FECB52"
          ],
          "font": {
           "color": "#2a3f5f"
          },
          "geo": {
           "bgcolor": "white",
           "lakecolor": "white",
           "landcolor": "#E5ECF6",
           "showlakes": true,
           "showland": true,
           "subunitcolor": "white"
          },
          "hoverlabel": {
           "align": "left"
          },
          "hovermode": "closest",
          "mapbox": {
           "style": "light"
          },
          "paper_bgcolor": "white",
          "plot_bgcolor": "#E5ECF6",
          "polar": {
           "angularaxis": {
            "gridcolor": "white",
            "linecolor": "white",
            "ticks": ""
           },
           "bgcolor": "#E5ECF6",
           "radialaxis": {
            "gridcolor": "white",
            "linecolor": "white",
            "ticks": ""
           }
          },
          "scene": {
           "xaxis": {
            "backgroundcolor": "#E5ECF6",
            "gridcolor": "white",
            "gridwidth": 2,
            "linecolor": "white",
            "showbackground": true,
            "ticks": "",
            "zerolinecolor": "white"
           },
           "yaxis": {
            "backgroundcolor": "#E5ECF6",
            "gridcolor": "white",
            "gridwidth": 2,
            "linecolor": "white",
            "showbackground": true,
            "ticks": "",
            "zerolinecolor": "white"
           },
           "zaxis": {
            "backgroundcolor": "#E5ECF6",
            "gridcolor": "white",
            "gridwidth": 2,
            "linecolor": "white",
            "showbackground": true,
            "ticks": "",
            "zerolinecolor": "white"
           }
          },
          "shapedefaults": {
           "line": {
            "color": "#2a3f5f"
           }
          },
          "ternary": {
           "aaxis": {
            "gridcolor": "white",
            "linecolor": "white",
            "ticks": ""
           },
           "baxis": {
            "gridcolor": "white",
            "linecolor": "white",
            "ticks": ""
           },
           "bgcolor": "#E5ECF6",
           "caxis": {
            "gridcolor": "white",
            "linecolor": "white",
            "ticks": ""
           }
          },
          "title": {
           "x": 0.05
          },
          "xaxis": {
           "automargin": true,
           "gridcolor": "white",
           "linecolor": "white",
           "ticks": "",
           "title": {
            "standoff": 15
           },
           "zerolinecolor": "white",
           "zerolinewidth": 2
          },
          "yaxis": {
           "automargin": true,
           "gridcolor": "white",
           "linecolor": "white",
           "ticks": "",
           "title": {
            "standoff": 15
           },
           "zerolinecolor": "white",
           "zerolinewidth": 2
          }
         }
        }
       }
      }
     },
     "metadata": {},
     "output_type": "display_data"
    },
    {
     "data": {
      "text/plain": [
       "<matplotlib.legend.Legend at 0x1a362d5a210>"
      ]
     },
     "execution_count": 93,
     "metadata": {},
     "output_type": "execute_result"
    },
    {
     "data": {
      "image/png": "[encoded data removed]",
      "text/plain": [
       "<Figure size 640x480 with 1 Axes>"
      ]
     },
     "metadata": {},
     "output_type": "display_data"
    }
   ],
   "source": [
    "from track import Track\n",
    "from time_correction import*\n",
    "\n",
    "selected = random.randint(0,len(ttracks))\n",
    "\n",
    "T = uncorrected_tracks[selected]\n",
    "T_fiber_corrected = fiber_corrected_tracks[selected]\n",
    "T_electronic_corrected = ttracks[selected]\n",
    "T.show()\n",
    "\n",
    "T_fiber_corrected = copy.deepcopy(T)\n",
    "T_electronic_corrected = copy.deepcopy(T)\n",
    "time_correction_fiber(T_fiber_corrected)\n",
    "time_correction_electronics(T_electronic_corrected)\n",
    "\n",
    "# recover the corrected stamps\n",
    "heights = []\n",
    "s_nocorr = []\n",
    "s_ecorr = []\n",
    "s_fibcorr = []\n",
    "\n",
    "for h in T.x.hits + T.y.hits:\n",
    "    heights.append(h.get_pos()[1])\n",
    "    s_nocorr.append(h.timestamp)\n",
    "for h in T_fiber_corrected.x.hits + T_fiber_corrected.y.hits:\n",
    "    s_fibcorr.append(h.timestamp)\n",
    "for h in T_electronic_corrected.x.hits + T_electronic_corrected.y.hits:\n",
    "    s_ecorr.append(h.timestamp)\n",
    "\n",
    "plt.figure()\n",
    "plt.plot(heights,s_nocorr,'ko')\n",
    "plt.plot(heights,s_ecorr, 'r+')\n",
    "plt.plot(heights,s_fibcorr,'gx')\n",
    "plt.grid()\n",
    "plt.xlabel(\"Height [cm]\")\n",
    "plt.ylabel(\"Timestamp [cs]\")\n",
    "plt.legend([\"No correction\",\"Electronics corrected\",\"Fiber corrected\"])\n"
   ]
  },
  {
   "cell_type": "code",
   "execution_count": 101,
   "metadata": {},
   "outputs": [],
   "source": [
    "def time_correction_fiber(*args):\n",
    "    Speed_In_Fiber = 15 # cm/ns\n",
    "    Speed_Of_Light = 30 # cm/ns\n",
    "    ## clock cycle = 6.25 nanosecond\n",
    "    Speed_In_Fiber = 1/convert_ns_to_clockcycle(1/Speed_In_Fiber) # cm/clock cycle\n",
    "    Speed_Of_Light = 1/convert_ns_to_clockcycle(1/Speed_Of_Light) # cm/clock cycle\n",
    "\n",
    "    #If one argument whcih is Track3D, change the timestamp of each hits of the track and return the track\n",
    "    if len(args)== 1 : \n",
    "        Tx = args[0].x\n",
    "        Ty = args[0].y\n",
    "        \n",
    "        newx = []\n",
    "        newy = []\n",
    "        zmax =  thickness+thickness_screen + (8-0.5)*thickness + (8-1)*(2*thickness_screen+thickness)\n",
    "        for h in Tx.hits:\n",
    "            newx.append(h)\n",
    "            heightcorr = math.sqrt(((h.get_pos()[1]-zmax)**2)*(Tx.t**2 + Ty.t**2 + 1))/Speed_Of_Light\n",
    "            newx[-1].timestamp = h.timestamp - Ty.x(h.get_pos()[1])/Speed_In_Fiber-heightcorr\n",
    "        for h in Ty.hits:\n",
    "            newy.append(h)\n",
    "            heightcorr = math.sqrt(((h.get_pos()[1]-zmax)**2)*(Tx.t**2 + Ty.t**2 + 1))/Speed_Of_Light\n",
    "            newy[-1].timestamp = h.timestamp - Tx.x(h.get_pos()[1])/Speed_In_Fiber-heightcorr\n",
    "        Txprime = Track(newx)\n",
    "        Typrime = Track(newy)\n",
    "        return Track3D(Txprime,Typrime)"
   ]
  },
  {
   "cell_type": "code",
   "execution_count": 102,
   "metadata": {},
   "outputs": [
    {
     "data": {
      "application/vnd.plotly.v1+json": {
       "config": {
        "plotlyServerURL": "https://plot.ly"
       },
       "data": [
        {
         "line": {
          "color": "black",
          "width": 5
         },
         "mode": "lines",
         "type": "scatter3d",
         "x": [
          37.59833333333334,
          37.598219954648535,
          37.598106575963726,
          37.597993197278925,
          37.597879818594116,
          37.59776643990931,
          37.5976530612245,
          37.59753968253969,
          37.59742630385488,
          37.59731292517008,
          37.59719954648527,
          37.59708616780046,
          37.596972789115654,
          37.596859410430845,
          37.596746031746044,
          37.596632653061235,
          37.596519274376426,
          37.59640589569162,
          37.59629251700681,
          37.596179138322,
          37.5960657596372,
          37.59595238095239,
          37.59583900226758,
          37.59572562358277,
          37.595612244897964,
          37.59549886621316,
          37.595385487528354,
          37.595272108843545,
          37.59515873015874,
          37.59504535147393,
          37.59493197278913,
          37.59481859410432,
          37.59470521541951,
          37.5945918367347,
          37.59447845804989,
          37.59436507936508,
          37.59425170068028,
          37.59413832199547,
          37.594024943310664,
          37.593911564625856,
          37.59379818594105,
          37.593684807256246,
          37.59357142857144,
          37.59345804988663,
          37.59334467120182,
          37.59323129251701,
          37.5931179138322,
          37.5930045351474,
          37.59289115646259,
          37.59277777777778
         ],
         "y": [
          12.372430555555582,
          12.129460034013631,
          11.886489512471682,
          11.643518990929731,
          11.40054846938778,
          11.157577947845832,
          10.914607426303881,
          10.671636904761932,
          10.428666383219982,
          10.185695861678031,
          9.942725340136082,
          9.699754818594132,
          9.456784297052181,
          9.213813775510232,
          8.970843253968281,
          8.72787273242633,
          8.484902210884382,
          8.241931689342431,
          7.9989611678004815,
          7.755990646258531,
          7.513020124716582,
          7.270049603174631,
          7.027079081632682,
          6.784108560090731,
          6.541138038548781,
          6.2981675170068305,
          6.055196995464882,
          5.812226473922931,
          5.569255952380981,
          5.326285430839031,
          5.083314909297082,
          4.840344387755132,
          4.597373866213181,
          4.354403344671232,
          4.111432823129281,
          3.868462301587332,
          3.6254917800453814,
          3.3825212585034308,
          3.13955073696148,
          2.8965802154195313,
          2.6536096938775824,
          2.4106391723356317,
          2.167668650793681,
          1.9246981292517304,
          1.6817276077097816,
          1.438757086167831,
          1.1957865646258803,
          0.9528160430839314,
          0.7098455215419808,
          0.4668750000000301
         ],
         "z": [
          0,
          0.32653061224489793,
          0.6530612244897959,
          0.9795918367346939,
          1.3061224489795917,
          1.6326530612244896,
          1.9591836734693877,
          2.2857142857142856,
          2.6122448979591835,
          2.9387755102040813,
          3.265306122448979,
          3.591836734693877,
          3.9183673469387754,
          4.244897959183673,
          4.571428571428571,
          4.897959183673469,
          5.224489795918367,
          5.551020408163265,
          5.877551020408163,
          6.204081632653061,
          6.530612244897958,
          6.857142857142857,
          7.183673469387754,
          7.5102040816326525,
          7.836734693877551,
          8.16326530612245,
          8.489795918367346,
          8.816326530612244,
          9.142857142857142,
          9.46938775510204,
          9.795918367346937,
          10.122448979591836,
          10.448979591836734,
          10.775510204081632,
          11.10204081632653,
          11.428571428571427,
          11.755102040816325,
          12.081632653061224,
          12.408163265306122,
          12.734693877551019,
          13.061224489795917,
          13.387755102040815,
          13.714285714285714,
          14.040816326530612,
          14.367346938775508,
          14.693877551020407,
          15.020408163265305,
          15.346938775510203,
          15.673469387755102,
          16
         ]
        },
        {
         "marker": {
          "color": "blue",
          "size": 1
         },
         "mode": "lines",
         "type": "scatter3d",
         "x": [
          37.6,
          37.6
         ],
         "y": [
          0,
          38.4
         ],
         "z": [
          14.200000000000001,
          14.200000000000001
         ]
        },
        {
         "marker": {
          "color": "blue",
          "size": 1
         },
         "mode": "lines",
         "type": "scatter3d",
         "x": [
          37.6,
          37.6
         ],
         "y": [
          0,
          38.4
         ],
         "z": [
          12.200000000000001,
          12.200000000000001
         ]
        },
        {
         "marker": {
          "color": "blue",
          "size": 1
         },
         "mode": "lines",
         "type": "scatter3d",
         "x": [
          37.6,
          37.6
         ],
         "y": [
          0,
          38.4
         ],
         "z": [
          10.2,
          10.2
         ]
        },
        {
         "marker": {
          "color": "blue",
          "size": 1
         },
         "mode": "lines",
         "type": "scatter3d",
         "x": [
          37.6,
          37.6
         ],
         "y": [
          0,
          38.4
         ],
         "z": [
          8.200000000000001,
          8.200000000000001
         ]
        },
        {
         "marker": {
          "color": "blue",
          "size": 1
         },
         "mode": "lines",
         "type": "scatter3d",
         "x": [
          37.6,
          37.6
         ],
         "y": [
          0,
          38.4
         ],
         "z": [
          6.200000000000001,
          6.200000000000001
         ]
        },
        {
         "marker": {
          "color": "blue",
          "size": 1
         },
         "mode": "lines",
         "type": "scatter3d",
         "x": [
          37.6,
          37.6
         ],
         "y": [
          0,
          38.4
         ],
         "z": [
          4.2,
          4.2
         ]
        },
        {
         "marker": {
          "color": "blue",
          "size": 1
         },
         "mode": "lines",
         "type": "scatter3d",
         "x": [
          37.6,
          37.6
         ],
         "y": [
          0,
          38.4
         ],
         "z": [
          2.2,
          2.2
         ]
        },
        {
         "marker": {
          "color": "blue",
          "size": 1
         },
         "mode": "lines",
         "type": "scatter3d",
         "x": [
          37.6,
          37.6
         ],
         "y": [
          0,
          38.4
         ],
         "z": [
          0.2,
          0.2
         ]
        },
        {
         "marker": {
          "color": "red",
          "size": 1
         },
         "mode": "lines",
         "type": "scatter3d",
         "x": [
          0,
          38.4
         ],
         "y": [
          0.8,
          0.8
         ],
         "z": [
          15.200000000000001,
          15.200000000000001
         ]
        },
        {
         "marker": {
          "color": "red",
          "size": 1
         },
         "mode": "lines",
         "type": "scatter3d",
         "x": [
          0,
          38.4
         ],
         "y": [
          2.4000000000000004,
          2.4000000000000004
         ],
         "z": [
          13.200000000000001,
          13.200000000000001
         ]
        },
        {
         "marker": {
          "color": "red",
          "size": 1
         },
         "mode": "lines",
         "type": "scatter3d",
         "x": [
          0,
          38.4
         ],
         "y": [
          4,
          4
         ],
         "z": [
          11.2,
          11.2
         ]
        },
        {
         "marker": {
          "color": "red",
          "size": 1
         },
         "mode": "lines",
         "type": "scatter3d",
         "x": [
          0,
          38.4
         ],
         "y": [
          5.6000000000000005,
          5.6000000000000005
         ],
         "z": [
          9.200000000000001,
          9.200000000000001
         ]
        },
        {
         "marker": {
          "color": "red",
          "size": 1
         },
         "mode": "lines",
         "type": "scatter3d",
         "x": [
          0,
          38.4
         ],
         "y": [
          7.2,
          7.2
         ],
         "z": [
          7.200000000000001,
          7.200000000000001
         ]
        },
        {
         "marker": {
          "color": "red",
          "size": 1
         },
         "mode": "lines",
         "type": "scatter3d",
         "x": [
          0,
          38.4
         ],
         "y": [
          8.8,
          8.8
         ],
         "z": [
          5.2,
          5.2
         ]
        },
        {
         "marker": {
          "color": "red",
          "size": 1
         },
         "mode": "lines",
         "type": "scatter3d",
         "x": [
          0,
          38.4
         ],
         "y": [
          10.4,
          10.4
         ],
         "z": [
          3.2,
          3.2
         ]
        },
        {
         "marker": {
          "color": "red",
          "size": 1
         },
         "mode": "lines",
         "type": "scatter3d",
         "x": [
          0,
          38.4
         ],
         "y": [
          12,
          12
         ],
         "z": [
          1.2,
          1.2
         ]
        }
       ],
       "layout": {
        "scene": {
         "aspectmode": "cube",
         "xaxis": {
          "range": [
           0,
           38.4
          ],
          "title": {
           "text": "X [cm]"
          }
         },
         "yaxis": {
          "range": [
           0,
           38.4
          ],
          "title": {
           "text": "Y [cm]"
          }
         },
         "zaxis": {
          "range": [
           0,
           16
          ],
          "title": {
           "text": "Z [cm]"
          }
         }
        },
        "template": {
         "data": {
          "bar": [
           {
            "error_x": {
             "color": "#2a3f5f"
            },
            "error_y": {
             "color": "#2a3f5f"
            },
            "marker": {
             "line": {
              "color": "#E5ECF6",
              "width": 0.5
             },
             "pattern": {
              "fillmode": "overlay",
              "size": 10,
              "solidity": 0.2
             }
            },
            "type": "bar"
           }
          ],
          "barpolar": [
           {
            "marker": {
             "line": {
              "color": "#E5ECF6",
              "width": 0.5
             },
             "pattern": {
              "fillmode": "overlay",
              "size": 10,
              "solidity": 0.2
             }
            },
            "type": "barpolar"
           }
          ],
          "carpet": [
           {
            "aaxis": {
             "endlinecolor": "#2a3f5f",
             "gridcolor": "white",
             "linecolor": "white",
             "minorgridcolor": "white",
             "startlinecolor": "#2a3f5f"
            },
            "baxis": {
             "endlinecolor": "#2a3f5f",
             "gridcolor": "white",
             "linecolor": "white",
             "minorgridcolor": "white",
             "startlinecolor": "#2a3f5f"
            },
            "type": "carpet"
           }
          ],
          "choropleth": [
           {
            "colorbar": {
             "outlinewidth": 0,
             "ticks": ""
            },
            "type": "choropleth"
           }
          ],
          "contour": [
           {
            "colorbar": {
             "outlinewidth": 0,
             "ticks": ""
            },
            "colorscale": [
             [
              0,
              "#0d0887"
             ],
             [
              0.1111111111111111,
              "#46039f"
             ],
             [
              0.2222222222222222,
              "#7201a8"
             ],
             [
              0.3333333333333333,
              "#9c179e"
             ],
             [
              0.4444444444444444,
              "#bd3786"
             ],
             [
              0.5555555555555556,
              "#d8576b"
             ],
             [
              0.6666666666666666,
              "#ed7953"
             ],
             [
              0.7777777777777778,
              "#fb9f3a"
             ],
             [
              0.8888888888888888,
              "#fdca26"
             ],
             [
              1,
              "#f0f921"
             ]
            ],
            "type": "contour"
           }
          ],
          "contourcarpet": [
           {
            "colorbar": {
             "outlinewidth": 0,
             "ticks": ""
            },
            "type": "contourcarpet"
           }
          ],
          "heatmap": [
           {
            "colorbar": {
             "outlinewidth": 0,
             "ticks": ""
            },
            "colorscale": [
             [
              0,
              "#0d0887"
             ],
             [
              0.1111111111111111,
              "#46039f"
             ],
             [
              0.2222222222222222,
              "#7201a8"
             ],
             [
              0.3333333333333333,
              "#9c179e"
             ],
             [
              0.4444444444444444,
              "#bd3786"
             ],
             [
              0.5555555555555556,
              "#d8576b"
             ],
             [
              0.6666666666666666,
              "#ed7953"
             ],
             [
              0.7777777777777778,
              "#fb9f3a"
             ],
             [
              0.8888888888888888,
              "#fdca26"
             ],
             [
              1,
              "#f0f921"
             ]
            ],
            "type": "heatmap"
           }
          ],
          "heatmapgl": [
           {
            "colorbar": {
             "outlinewidth": 0,
             "ticks": ""
            },
            "colorscale": [
             [
              0,
              "#0d0887"
             ],
             [
              0.1111111111111111,
              "#46039f"
             ],
             [
              0.2222222222222222,
              "#7201a8"
             ],
             [
              0.3333333333333333,
              "#9c179e"
             ],
             [
              0.4444444444444444,
              "#bd3786"
             ],
             [
              0.5555555555555556,
              "#d8576b"
             ],
             [
              0.6666666666666666,
              "#ed7953"
             ],
             [
              0.7777777777777778,
              "#fb9f3a"
             ],
             [
              0.8888888888888888,
              "#fdca26"
             ],
             [
              1,
              "#f0f921"
             ]
            ],
            "type": "heatmapgl"
           }
          ],
          "histogram": [
           {
            "marker": {
             "pattern": {
              "fillmode": "overlay",
              "size": 10,
              "solidity": 0.2
             }
            },
            "type": "histogram"
           }
          ],
          "histogram2d": [
           {
            "colorbar": {
             "outlinewidth": 0,
             "ticks": ""
            },
            "colorscale": [
             [
              0,
              "#0d0887"
             ],
             [
              0.1111111111111111,
              "#46039f"
             ],
             [
              0.2222222222222222,
              "#7201a8"
             ],
             [
              0.3333333333333333,
              "#9c179e"
             ],
             [
              0.4444444444444444,
              "#bd3786"
             ],
             [
              0.5555555555555556,
              "#d8576b"
             ],
             [
              0.6666666666666666,
              "#ed7953"
             ],
             [
              0.7777777777777778,
              "#fb9f3a"
             ],
             [
              0.8888888888888888,
              "#fdca26"
             ],
             [
              1,
              "#f0f921"
             ]
            ],
            "type": "histogram2d"
           }
          ],
          "histogram2dcontour": [
           {
            "colorbar": {
             "outlinewidth": 0,
             "ticks": ""
            },
            "colorscale": [
             [
              0,
              "#0d0887"
             ],
             [
              0.1111111111111111,
              "#46039f"
             ],
             [
              0.2222222222222222,
              "#7201a8"
             ],
             [
              0.3333333333333333,
              "#9c179e"
             ],
             [
              0.4444444444444444,
              "#bd3786"
             ],
             [
              0.5555555555555556,
              "#d8576b"
             ],
             [
              0.6666666666666666,
              "#ed7953"
             ],
             [
              0.7777777777777778,
              "#fb9f3a"
             ],
             [
              0.8888888888888888,
              "#fdca26"
             ],
             [
              1,
              "#f0f921"
             ]
            ],
            "type": "histogram2dcontour"
           }
          ],
          "mesh3d": [
           {
            "colorbar": {
             "outlinewidth": 0,
             "ticks": ""
            },
            "type": "mesh3d"
           }
          ],
          "parcoords": [
           {
            "line": {
             "colorbar": {
              "outlinewidth": 0,
              "ticks": ""
             }
            },
            "type": "parcoords"
           }
          ],
          "pie": [
           {
            "automargin": true,
            "type": "pie"
           }
          ],
          "scatter": [
           {
            "fillpattern": {
             "fillmode": "overlay",
             "size": 10,
             "solidity": 0.2
            },
            "type": "scatter"
           }
          ],
          "scatter3d": [
           {
            "line": {
             "colorbar": {
              "outlinewidth": 0,
              "ticks": ""
             }
            },
            "marker": {
             "colorbar": {
              "outlinewidth": 0,
              "ticks": ""
             }
            },
            "type": "scatter3d"
           }
          ],
          "scattercarpet": [
           {
            "marker": {
             "colorbar": {
              "outlinewidth": 0,
              "ticks": ""
             }
            },
            "type": "scattercarpet"
           }
          ],
          "scattergeo": [
           {
            "marker": {
             "colorbar": {
              "outlinewidth": 0,
              "ticks": ""
             }
            },
            "type": "scattergeo"
           }
          ],
          "scattergl": [
           {
            "marker": {
             "colorbar": {
              "outlinewidth": 0,
              "ticks": ""
             }
            },
            "type": "scattergl"
           }
          ],
          "scattermapbox": [
           {
            "marker": {
             "colorbar": {
              "outlinewidth": 0,
              "ticks": ""
             }
            },
            "type": "scattermapbox"
           }
          ],
          "scatterpolar": [
           {
            "marker": {
             "colorbar": {
              "outlinewidth": 0,
              "ticks": ""
             }
            },
            "type": "scatterpolar"
           }
          ],
          "scatterpolargl": [
           {
            "marker": {
             "colorbar": {
              "outlinewidth": 0,
              "ticks": ""
             }
            },
            "type": "scatterpolargl"
           }
          ],
          "scatterternary": [
           {
            "marker": {
             "colorbar": {
              "outlinewidth": 0,
              "ticks": ""
             }
            },
            "type": "scatterternary"
           }
          ],
          "surface": [
           {
            "colorbar": {
             "outlinewidth": 0,
             "ticks": ""
            },
            "colorscale": [
             [
              0,
              "#0d0887"
             ],
             [
              0.1111111111111111,
              "#46039f"
             ],
             [
              0.2222222222222222,
              "#7201a8"
             ],
             [
              0.3333333333333333,
              "#9c179e"
             ],
             [
              0.4444444444444444,
              "#bd3786"
             ],
             [
              0.5555555555555556,
              "#d8576b"
             ],
             [
              0.6666666666666666,
              "#ed7953"
             ],
             [
              0.7777777777777778,
              "#fb9f3a"
             ],
             [
              0.8888888888888888,
              "#fdca26"
             ],
             [
              1,
              "#f0f921"
             ]
            ],
            "type": "surface"
           }
          ],
          "table": [
           {
            "cells": {
             "fill": {
              "color": "#EBF0F8"
             },
             "line": {
              "color": "white"
             }
            },
            "header": {
             "fill": {
              "color": "#C8D4E3"
             },
             "line": {
              "color": "white"
             }
            },
            "type": "table"
           }
          ]
         },
         "layout": {
          "annotationdefaults": {
           "arrowcolor": "#2a3f5f",
           "arrowhead": 0,
           "arrowwidth": 1
          },
          "autotypenumbers": "strict",
          "coloraxis": {
           "colorbar": {
            "outlinewidth": 0,
            "ticks": ""
           }
          },
          "colorscale": {
           "diverging": [
            [
             0,
             "#8e0152"
            ],
            [
             0.1,
             "#c51b7d"
            ],
            [
             0.2,
             "#de77ae"
            ],
            [
             0.3,
             "#f1b6da"
            ],
            [
             0.4,
             "#fde0ef"
            ],
            [
             0.5,
             "#f7f7f7"
            ],
            [
             0.6,
             "#e6f5d0"
            ],
            [
             0.7,
             "#b8e186"
            ],
            [
             0.8,
             "#7fbc41"
            ],
            [
             0.9,
             "#4d9221"
            ],
            [
             1,
             "#276419"
            ]
           ],
           "sequential": [
            [
             0,
             "#0d0887"
            ],
            [
             0.1111111111111111,
             "#46039f"
            ],
            [
             0.2222222222222222,
             "#7201a8"
            ],
            [
             0.3333333333333333,
             "#9c179e"
            ],
            [
             0.4444444444444444,
             "#bd3786"
            ],
            [
             0.5555555555555556,
             "#d8576b"
            ],
            [
             0.6666666666666666,
             "#ed7953"
            ],
            [
             0.7777777777777778,
             "#fb9f3a"
            ],
            [
             0.8888888888888888,
             "#fdca26"
            ],
            [
             1,
             "#f0f921"
            ]
           ],
           "sequentialminus": [
            [
             0,
             "#0d0887"
            ],
            [
             0.1111111111111111,
             "#46039f"
            ],
            [
             0.2222222222222222,
             "#7201a8"
            ],
            [
             0.3333333333333333,
             "#9c179e"
            ],
            [
             0.4444444444444444,
             "#bd3786"
            ],
            [
             0.5555555555555556,
             "#d8576b"
            ],
            [
             0.6666666666666666,
             "#ed7953"
            ],
            [
             0.7777777777777778,
             "#fb9f3a"
            ],
            [
             0.8888888888888888,
             "#fdca26"
            ],
            [
             1,
             "#f0f921"
            ]
           ]
          },
          "colorway": [
           "#636efa",
           "#EF553B",
           "#00cc96",
           "#ab63fa",
           "#FFA15A",
           "#19d3f3",
           "#FF6692",
           "#B6E880",
           "#FF97FF",
           "#FECB52"
          ],
          "font": {
           "color": "#2a3f5f"
          },
          "geo": {
           "bgcolor": "white",
           "lakecolor": "white",
           "landcolor": "#E5ECF6",
           "showlakes": true,
           "showland": true,
           "subunitcolor": "white"
          },
          "hoverlabel": {
           "align": "left"
          },
          "hovermode": "closest",
          "mapbox": {
           "style": "light"
          },
          "paper_bgcolor": "white",
          "plot_bgcolor": "#E5ECF6",
          "polar": {
           "angularaxis": {
            "gridcolor": "white",
            "linecolor": "white",
            "ticks": ""
           },
           "bgcolor": "#E5ECF6",
           "radialaxis": {
            "gridcolor": "white",
            "linecolor": "white",
            "ticks": ""
           }
          },
          "scene": {
           "xaxis": {
            "backgroundcolor": "#E5ECF6",
            "gridcolor": "white",
            "gridwidth": 2,
            "linecolor": "white",
            "showbackground": true,
            "ticks": "",
            "zerolinecolor": "white"
           },
           "yaxis": {
            "backgroundcolor": "#E5ECF6",
            "gridcolor": "white",
            "gridwidth": 2,
            "linecolor": "white",
            "showbackground": true,
            "ticks": "",
            "zerolinecolor": "white"
           },
           "zaxis": {
            "backgroundcolor": "#E5ECF6",
            "gridcolor": "white",
            "gridwidth": 2,
            "linecolor": "white",
            "showbackground": true,
            "ticks": "",
            "zerolinecolor": "white"
           }
          },
          "shapedefaults": {
           "line": {
            "color": "#2a3f5f"
           }
          },
          "ternary": {
           "aaxis": {
            "gridcolor": "white",
            "linecolor": "white",
            "ticks": ""
           },
           "baxis": {
            "gridcolor": "white",
            "linecolor": "white",
            "ticks": ""
           },
           "bgcolor": "#E5ECF6",
           "caxis": {
            "gridcolor": "white",
            "linecolor": "white",
            "ticks": ""
           }
          },
          "title": {
           "x": 0.05
          },
          "xaxis": {
           "automargin": true,
           "gridcolor": "white",
           "linecolor": "white",
           "ticks": "",
           "title": {
            "standoff": 15
           },
           "zerolinecolor": "white",
           "zerolinewidth": 2
          },
          "yaxis": {
           "automargin": true,
           "gridcolor": "white",
           "linecolor": "white",
           "ticks": "",
           "title": {
            "standoff": 15
           },
           "zerolinecolor": "white",
           "zerolinewidth": 2
          }
         }
        }
       }
      }
     },
     "metadata": {},
     "output_type": "display_data"
    },
    {
     "data": {
      "text/plain": [
       "<matplotlib.legend.Legend at 0x1a3742ed4d0>"
      ]
     },
     "execution_count": 102,
     "metadata": {},
     "output_type": "execute_result"
    },
    {
     "data": {
      "image/png": "[encoded data removed]",
      "text/plain": [
       "<Figure size 640x480 with 1 Axes>"
      ]
     },
     "metadata": {},
     "output_type": "display_data"
    }
   ],
   "source": [
    "from track import Track\n",
    "from time_correction import*\n",
    "Hx=[]\n",
    "Hy=[]\n",
    "for number_hits in range(8):\n",
    "    Hx.append(Hit([24,8-number_hits],1,0,1000,0.0))#(coord, is_sidex, timestamp, timestamp_event, value)\n",
    "    Hy.append(Hit([number_hits+1,8-number_hits],0,0,1000,0.0))\n",
    "Tx = Track(Hx)\n",
    "Ty = Track(Hy)\n",
    "T = Track3D(Tx,Ty)\n",
    "T.show()\n",
    "\n",
    "T_fiber_corrected = copy.deepcopy(T)\n",
    "T_electronic_corrected = copy.deepcopy(T)\n",
    "time_correction_fiber(T_fiber_corrected)\n",
    "time_correction_electronics(T_electronic_corrected)\n",
    "\n",
    "# recover the corrected stamps\n",
    "heightsx = []\n",
    "heightsy = []\n",
    "s_nocorr = []\n",
    "s_ecorr = []\n",
    "s_fibcorr = []\n",
    "\n",
    "for h in T_fiber_corrected.x.hits:# + T_fiber_corrected.y.hits:\n",
    "    heightsx.append(h.get_pos()[1])\n",
    "    s_fibcorr.append(h.timestamp)\n",
    "for h in T_fiber_corrected.y.hits:# + T_fiber_corrected.y.hits:\n",
    "    heightsy.append(h.get_pos()[1])\n",
    "    s_nocorr.append(h.timestamp)\n",
    "\n",
    "plt.figure()\n",
    "plt.plot(heightsx,s_fibcorr,'gx')\n",
    "plt.plot(heightsy,s_nocorr, 'r+')\n",
    "plt.grid()\n",
    "plt.xlabel(\"Height [cm]\")\n",
    "plt.ylabel(\"Timestamp [cs]\")\n",
    "plt.legend([\"x\",\"y\"])\n"
   ]
  }
 ],
 "metadata": {
  "kernelspec": {
   "display_name": "ecal-env",
   "language": "python",
   "name": "python3"
  },
  "language_info": {
   "codemirror_mode": {
    "name": "ipython",
    "version": 3
   },
   "file_extension": ".py",
   "mimetype": "text/x-python",
   "name": "python",
   "nbconvert_exporter": "python",
   "pygments_lexer": "ipython3",
   "version": "3.11.5"
  }
 },
 "nbformat": 4,
 "nbformat_minor": 2
}
