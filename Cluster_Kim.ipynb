{
 "cells": [
  {
   "cell_type": "code",
   "execution_count": 341,
   "id": "7a2eb3f1",
   "metadata": {},
   "outputs": [],
   "source": [
    "import pandas as pd\n",
    "import uproot\n",
    "#import uproot3\n",
    "import numpy as np\n",
    "# import track_time_calibration as ttc\n",
    "from matplotlib import pyplot as plt\n",
    "import sys\n",
    "sys.path.insert(1, r'C:\\Users\\kimyk\\OneDrive\\Bureau\\Master 1\\Projet_LPHE_I\\ecal_reco\\tracking')\n",
    "import track_reconstruction as tr\n",
    "from track import *\n",
    "from tqdm import tqdm\n",
    "from track3D import Track3D\n",
    "\n",
    "# def merger(Array_of_paths):\n",
    "#     br_list_data = ['n_hits', 'tofpet_id', 'tofpet_channel', 'timestamp']#, 't_coarse', 't_fine', 'timestamp', 'v_coarse', 'v_fine', 'value', 'timestamp_cal_chi2', 'timestamp_cal_dof', 'value_cal_chi2', 'value_cal_dof', 'value_saturation']   \n",
    "#     df_general = pd.DataFrame(columns = br_list_data)\n",
    "#     for element in Array_of_paths:\n",
    "#         Tname = 'board_57'\n",
    "#         # Extract the data and transform it into a dataframe\n",
    "#         with uproot.open(element) as tree:\n",
    "#             dict_ecal = tree[Tname].arrays(br_list_data, library=\"np\")\n",
    "#         ## REALLY IMPORTANT, THE TIME CALIBRATION MUST BE DONE USIGN THE SAME DATAFRAME AS THE ONE USED TO RECONSTRUCT THE TRACK\n",
    "\n",
    "#         df = pd.DataFrame.from_dict(dict_ecal).query('n_hits>6')\n",
    "#         df['path_id'] = element\n",
    "#         df=df.query('n_hits<18')\n",
    "#         #print(df)\n",
    "#         df_general=df_general.append(df)\n",
    "#     print(df_general)\n",
    "#     return df_general\n",
    "## THUS FAR WE HAVE OPENED AND CREATED A GENERIC DATAFRAME ##\n",
    "\n",
    "\n"
   ]
  },
  {
   "cell_type": "code",
   "execution_count": 342,
   "id": "6e7fba1d",
   "metadata": {},
   "outputs": [],
   "source": [
    "# Check that a is tofpet on the x side of the calorimeter\n",
    "def is_sidex(a):\n",
    "   \"\"\" \n",
    "   Checks if the integer given is on the x-side (returns 1). If it isn't, it returns 0. \n",
    "   \"\"\"\n",
    "  \n",
    "   if(a==0 or a==1 or a==4 or a==5):\n",
    "          return 1  #is on the x side\n",
    "   else:\n",
    "          return 0  #not on the x side\n",
    "    \n",
    "# Determine the (X,Z) or (Y,Z) coordinate of a hits, depending on what tofpet_id is entered. Triplet=[channel,t_id,layer]\n",
    "def Mapping2D(t_id,channel):\n",
    "   \"\"\"\n",
    "   Determine the (X,Z) or (Y,Z) coordinate of a hits, depending on what tofpet_id is entered. \n",
    "   It returns the mapping of the hit \n",
    "   \"\"\"\n",
    "   \n",
    "   mapping=[[  [10 , 3], [22 , 3], [ 3 , 3], [15 , 3], [ 9 , 3], [21 , 3], [ 4 , 3], [16 , 3], [ 8 , 3], [20 , 3], [ 5 , 3], [17 , 3], [ 7 , 3], [19 , 3], [ 6 , 3], [18 , 3], [ 7 , 2], [24 , 2], [ 1 , 2], [13 , 2], [ 8 , 2], [23 , 2], [ 2 , 2], [14 , 2], [ 9 , 2], [22 , 2], [ 3 , 2], [15 , 2], [10 , 2], [21 , 2], [ 4 , 2], [16 , 2], [11 , 2], [20 , 2], [ 5 , 2], [17 , 2], [12 , 2], [19 , 2], [ 6 , 2], [18  ,2], [ 7 , 1], [24 , 1], [ 1 , 1], [13 , 1], [ 8 , 1], [23 , 1], [ 2 , 1], [14 , 1], [ 9 , 1], [22 , 1], [ 3 , 1], [15 , 1], [10 , 1], [21 , 1], [ 4 , 1], [16 , 1], [11  ,1], [20 , 1], [ 5 , 1], [17 , 1], [12 , 1], [19 , 1], [ 6 , 1], [18 , 1],[ 7,  4], [24,  4], [ 1,  4], [13,  4], [ 8,  4], [23,  4], [ 2,  4], [14,  4], [ 9,  4], [22,  4], [ 3,  4], [15,  4], [10,  4], [21,  4], [ 4,  4], [16,  4], [11,  4], [20,  4], [ 5,  4], [17,  4], [12,  4], [19,  4], [ 6,  4], [18,  4], [12,  3], [24,  3], [ 1,  3], [13,  3], [11,  3], [23,  3], [ 2,  3], [14,  3]],[[10,  7], [22,  7], [ 3,  7], [15,  7], [ 9,  7], [21,  7], [ 4,  7], [16,  7], [ 8,  7], [20,  7], [ 5,  7], [17,  7], [ 7,  7], [19,  7], [ 6,  7], [18,  7], [ 7,  6], [24,  6], [ 1,  6], [13,  6], [ 8,  6], [23,  6], [ 2,  6], [14,  6], [ 9,  6], [22,  6], [ 3,  6], [15,  6], [10 , 6], [21,  6], [ 4,  6], [16,  6], [11,  6], [20,  6], [ 5,  6], [17,  6], [12,  6], [19,  6], [ 6,  6], [18,  6], [ 7,  5], [24,  5], [ 1,  5], [13,  5], [ 8,  5], [23,  5], [ 2,  5], [14,  5], [ 9,  5], [22,  5], [ 3,  5], [15,  5], [10,  5], [21,  5], [ 4,  5], [16 , 5], [11,  5], [20,  5], [ 5,  5], [17,  5], [12,  5], [19,  5], [ 6,  5], [18,  5],[ 7 , 8], [24 , 8], [ 1 , 8], [13 , 8], [ 8 , 8], [23 , 8], [ 2 , 8], [14 , 8], [ 9 , 8], [22 , 8], [ 3 , 8], [15 , 8], [10,  8], [21 , 8], [ 4 , 8], [16 , 8], [11 , 8], [20 , 8], [ 5 , 8], [17 , 8], [12 , 8], [19 , 8], [ 6 , 8], [18 , 8], [12 , 7], [24 , 7], [ 1 , 7], [13 , 7], [11 , 7], [23 , 7], [ 2 , 7], [14 , 7]]] ##\n",
    "   if is_sidex(t_id):\n",
    "       return mapping[int(t_id/4)][channel+32*np.mod(t_id,2)]\n",
    "   else:\n",
    "       t_id=t_id-2\n",
    "       return mapping[int(t_id/4)][channel+32*np.mod(t_id,2)]\n",
    "   \n",
    "# findneighbours(center, candidates)\n",
    "def findneighbours(center, candidates):\n",
    "    neighbours = []\n",
    "    for i in range(len(candidates)):\n",
    "        for shift in [-1,1]:\n",
    "            if candidates[i] == [center[0],center[1]+shift] or candidates[i] == [center[0]+shift, center[1]]:  #center[0] - X coordinate and center[1] - Z coordinate\n",
    "                neighbours.append(candidates[i])\n",
    "    return neighbours\n",
    "\n",
    "\n",
    "def plot_cluster(cluster, n_layers, n_strips):\n",
    "    map = np.zeros((n_layers, n_strips))\n",
    "\n",
    "    for coord in cluster:\n",
    "        map[int(coord[1] - 1), int(coord[0] - 1)] = 1\n",
    "\n",
    "\n",
    "#filter to find good cluster\n",
    "def good_cluster(track, center):\n",
    "    filter_track=[]\n",
    "    if not track.is_good_2D_fit():\n",
    "     if number_neighbors(center)>=3:\n",
    "         return True\n",
    "     else :\n",
    "         return False \n",
    "    \n",
    "\n",
    "#Count number neighbors\n",
    "\n",
    "def number_neighbors(candidates, center):\n",
    "    neighbours=[]\n",
    "    for i in range(len(candidates)):\n",
    "        for shift in [-1,1]:\n",
    "            if candidates[i] == [center[0],center[1]+shift] or candidates[i] == [center[0]+shift, center[1]]:  #center[0] - X coordinate and center[1] - Z coordinate\n",
    "                neighbours.append(candidates[i])\n",
    "    return len(neighbours)\n",
    "\n",
    "\n",
    "def create_tracks(df, plot = False):\n",
    "    tracks = []\n",
    "    #nb_events = len(df['n_hits'])\n",
    "    #steps = 9\n",
    "    #buff_start = None\n",
    "    #buff_evt_idx = None\n",
    "    dts = []\n",
    "    for index, row in tqdm(df.iterrows(), total = df.shape[0]):\n",
    "        channels = row['tofpet_channel']\n",
    "        tofpet_id = row['tofpet_id']\n",
    "        hits = [Hit(row,i) for i in range(row['n_hits'])]\n",
    "        hitsX = [h for h in hits if h.is_sidex]\n",
    "        hitsY = [h for h in hits if not h.is_sidex]\n",
    "        \n",
    "        ## Some events don't have three hits on one of the two sides and are thus not considered\n",
    "        if len(hitsX) > 3 and len(hitsY) > 3:\n",
    "            # get track parameters\n",
    "            track = Track3D(hits)\n",
    "            tracks.append(track)\n",
    "\n",
    "            ## check if track has a \"good\" chi2 value\n",
    "            if track.is_good_2D_fit():\n",
    "            \n",
    "                # worth making a precise track\n",
    "                #track.precise_track()\n",
    "                \n",
    "                ## compute the time of the track\n",
    "                dt = track.get_time_interval()\n",
    "                if dt is not None:\n",
    "                    dts.append(dt)\n",
    "\n",
    "\n",
    "    return tracks, dts"
   ]
  },
  {
   "cell_type": "code",
   "execution_count": 343,
   "id": "c52addab",
   "metadata": {},
   "outputs": [],
   "source": [
    "### DATA LOADING \n",
    "\n",
    "file_path = r'C:\\Users\\kimyk\\OneDrive\\Bureau\\Master 1\\Projet_LPHE_I\\ecal_reco\\test_import_root\\run_000011\\data_0000.root' ## later, one can use concatenation of data_0001.root - data_0008.root files as well. One is enough for testing\n",
    "\n",
    "hits_tree='event_data;1'  #what tree to get the info from in the ROOT file \n",
    "evt_tree='event_data;1'\n",
    "\n",
    "# br_list_data = ['n_hits', 'tofpet_id', 'tofpet_channel', 'timestamp']#, 't_coarse', 't_fine', 'timestamp', 'v_coarse', 'v_fine', 'value', 'timestamp_cal_chi2', 'timestamp_cal_dof', 'value_cal_chi2', 'value_cal_dof', 'value_saturation']\n",
    "br_list_data = ['n_hits', 'tofpet_id', 'tofpet_channel', 'timestamp', 't_coarse', 't_fine', 'timestamp', 'v_coarse', 'v_fine', 'value']\n",
    "br_list_evt = ['timestamp', 'evt_number', 'evt_flags']                  #br= branch name that we want to store \n",
    "\n",
    "with uproot.open(file_path) as tree:\n",
    "    hits_dict = tree[hits_tree].arrays(br_list_data, library=\"np\")  #open files, extracts data form the [...] and stores them into dictionaries ..._dict\n",
    "    evts_dict = tree[evt_tree].arrays(br_list_evt, library=\"np\")    # created with array method, extracts specified branch names and stores in numpy arrays\n",
    "\n",
    "# df_hits = pd.DataFrame.from_dict(hits_dict).query('n_hits > 3')  #The .query() method is a way to filter data within a DataFrame based on a specified condition. Here would filter df_hits to only include DataFrame with more than 3 hits\n",
    "df_hits = pd.DataFrame.from_dict(hits_dict)   #converts dictinaries into pandas DataFrames to facilitate data analysis\n",
    "df_evts = pd.DataFrame.from_dict(evts_dict)\n",
    "\n",
    "#df_hits  #to print the info"
   ]
  },
  {
   "cell_type": "code",
   "execution_count": 344,
   "id": "3bf664e0",
   "metadata": {},
   "outputs": [
    {
     "data": {
      "text/html": [
       "<div>\n",
       "<style scoped>\n",
       "    .dataframe tbody tr th:only-of-type {\n",
       "        vertical-align: middle;\n",
       "    }\n",
       "\n",
       "    .dataframe tbody tr th {\n",
       "        vertical-align: top;\n",
       "    }\n",
       "\n",
       "    .dataframe thead th {\n",
       "        text-align: right;\n",
       "    }\n",
       "</style>\n",
       "<table border=\"1\" class=\"dataframe\">\n",
       "  <thead>\n",
       "    <tr style=\"text-align: right;\">\n",
       "      <th></th>\n",
       "      <th>n_hits</th>\n",
       "      <th>tofpet_id</th>\n",
       "      <th>tofpet_channel</th>\n",
       "      <th>timestamp</th>\n",
       "      <th>t_coarse</th>\n",
       "      <th>t_fine</th>\n",
       "      <th>v_coarse</th>\n",
       "      <th>v_fine</th>\n",
       "      <th>value</th>\n",
       "      <th>timestamp_global</th>\n",
       "    </tr>\n",
       "  </thead>\n",
       "  <tbody>\n",
       "    <tr>\n",
       "      <th>0</th>\n",
       "      <td>16</td>\n",
       "      <td>[0, 1, 4, 0, 2, 5, 6, 4, 3, 4, 7, 6, 0, 7, 3, 2]</td>\n",
       "      <td>[12, 32, 12, 40, 47, 54, 36, 16, 35, 40, 52, 4...</td>\n",
       "      <td>[0.4989964, 0.6236513, 1.005709, 0.6354124, 0....</td>\n",
       "      <td>[0, 0, 0, 0, 0, 0, 0, 0, 0, 0, 0, 0, 0, 0, 1, 1]</td>\n",
       "      <td>[278, 246, 190, 253, 217, 308, 242, 286, 274, ...</td>\n",
       "      <td>[38, 36, 48, 42, 40, 37, 36, 38, 32, 44, 38, 3...</td>\n",
       "      <td>[47, 63, 45, 43, 47, 49, 46, 47, 53, 50, 45, 4...</td>\n",
       "      <td>[1.2434554, -0.8204824, -2.7037287, -4.6503053...</td>\n",
       "      <td>[0.4989964, 0.6236513, 1.005709, 0.6354124, 0....</td>\n",
       "    </tr>\n",
       "    <tr>\n",
       "      <th>2</th>\n",
       "      <td>16</td>\n",
       "      <td>[1, 4, 5, 5, 1, 3, 1, 2, 6, 6, 7, 6, 6, 4, 3, 3]</td>\n",
       "      <td>[45, 27, 40, 56, 57, 45, 61, 1, 9, 33, 53, 53,...</td>\n",
       "      <td>[0.96735424, 0.7653423, 0.92625076, 0.818104, ...</td>\n",
       "      <td>[0, 0, 0, 0, 1, 1, 1, 1, 1, 1, 1, 1, 1, 1, 2, 2]</td>\n",
       "      <td>[199, 231, 201, 216, 347, 290, 236, 257, 283, ...</td>\n",
       "      <td>[40, 48, 46, 38, 35, 32, 38, 38, 36, 38, 37, 3...</td>\n",
       "      <td>[53, 51, 53, 59, 52, 60, 50, 55, 56, 47, 45, 5...</td>\n",
       "      <td>[1.1892524, 1.9031334, 3.8873699, 1.5834945, 0...</td>\n",
       "      <td>[0.96735424, 0.7653423, 0.92625076, 0.818104, ...</td>\n",
       "    </tr>\n",
       "    <tr>\n",
       "      <th>4</th>\n",
       "      <td>16</td>\n",
       "      <td>[4, 4, 0, 0, 5, 6, 6, 5, 1, 0, 7, 3, 2, 2, 6, 2]</td>\n",
       "      <td>[47, 19, 3, 27, 52, 57, 9, 59, 39, 55, 49, 53,...</td>\n",
       "      <td>[0.84910274, 0.76163286, 0.8755943, 0.878864, ...</td>\n",
       "      <td>[0, 0, 0, 0, 1, 1, 1, 1, 1, 1, 1, 1, 1, 1, 1, 2]</td>\n",
       "      <td>[217, 235, 226, 213, 255, 287, 314, 342, 360, ...</td>\n",
       "      <td>[52, 46, 36, 40, 48, 38, 36, 39, 39, 38, 44, 3...</td>\n",
       "      <td>[63, 50, 53, 54, 48, 45, 52, 48, 53, 54, 47, 5...</td>\n",
       "      <td>[-0.65353876, -1.6212033, 0.5734622, -0.272599...</td>\n",
       "      <td>[0.84910274, 0.76163286, 0.8755943, 0.878864, ...</td>\n",
       "    </tr>\n",
       "    <tr>\n",
       "      <th>5</th>\n",
       "      <td>16</td>\n",
       "      <td>[4, 2, 7, 2, 1, 4, 3, 0, 0, 2, 5, 0, 6, 6, 4, 6]</td>\n",
       "      <td>[26, 12, 50, 16, 46, 2, 54, 10, 58, 40, 38, 34...</td>\n",
       "      <td>[0.75877696, 0.8758026, 0.7888641, 0.9195324, ...</td>\n",
       "      <td>[0, 0, 0, 0, 0, 0, 1, 1, 1, 1, 1, 1, 1, 1, 1, 1]</td>\n",
       "      <td>[228, 221, 222, 202, 198, 195, 209, 272, 304, ...</td>\n",
       "      <td>[52, 34, 38, 38, 40, 40, 42, 48, 31, 40, 43, 3...</td>\n",
       "      <td>[49, 52, 49, 47, 50, 47, 52, 53, 47, 45, 47, 5...</td>\n",
       "      <td>[2.7704349, -1.6245046, 1.5879142, 0.014019844...</td>\n",
       "      <td>[0.75877696, 0.8758026, 0.7888641, 0.9195324, ...</td>\n",
       "    </tr>\n",
       "    <tr>\n",
       "      <th>8</th>\n",
       "      <td>16</td>\n",
       "      <td>[4, 0, 2, 2, 0, 0, 6, 5, 4, 0, 7, 6, 2, 1, 3, 5]</td>\n",
       "      <td>[28, 58, 39, 59, 62, 12, 53, 60, 48, 16, 61, 2...</td>\n",
       "      <td>[0.9706249, 1.6642871, 1.5490084, 1.636191, 1....</td>\n",
       "      <td>[0, 1, 1, 1, 1, 1, 1, 1, 1, 1, 1, 1, 1, 1, 1, 2]</td>\n",
       "      <td>[190, 242, 270, 251, 296, 293, 241, 309, 310, ...</td>\n",
       "      <td>[48, 32, 32, 38, 35, 38, 38, 37, 51, 36, 44, 3...</td>\n",
       "      <td>[52, 50, 53, 46, 45, 45, 53, 51, 59, 56, 42, 5...</td>\n",
       "      <td>[0.10943407, -2.2990677, -2.4300504, -0.940129...</td>\n",
       "      <td>[0.9706249, 1.6642871, 1.5490084, 1.636191, 1....</td>\n",
       "    </tr>\n",
       "    <tr>\n",
       "      <th>...</th>\n",
       "      <td>...</td>\n",
       "      <td>...</td>\n",
       "      <td>...</td>\n",
       "      <td>...</td>\n",
       "      <td>...</td>\n",
       "      <td>...</td>\n",
       "      <td>...</td>\n",
       "      <td>...</td>\n",
       "      <td>...</td>\n",
       "      <td>...</td>\n",
       "    </tr>\n",
       "    <tr>\n",
       "      <th>215577</th>\n",
       "      <td>16</td>\n",
       "      <td>[6, 3, 4, 6, 7, 4, 2, 4, 2, 1, 0, 0, 5, 6, 0, 2]</td>\n",
       "      <td>[40, 32, 9, 20, 36, 61, 16, 33, 40, 53, 37, 13...</td>\n",
       "      <td>[0.782376, 0.9097623, 0.7081506, 0.8379227, 0....</td>\n",
       "      <td>[0, 0, 0, 0, 0, 0, 0, 0, 0, 0, 0, 0, 0, 0, 0, 0]</td>\n",
       "      <td>[217, 207, 241, 195, 231, 291, 217, 314, 208, ...</td>\n",
       "      <td>[38, 38, 42, 38, 42, 46, 38, 55, 40, 42, 43, 3...</td>\n",
       "      <td>[50, 54, 50, 42, 53, 57, 46, 60, 44, 53, 44, 5...</td>\n",
       "      <td>[0.07292396, -2.325026, -0.90856797, -0.833890...</td>\n",
       "      <td>[0.782376, 0.9097623, 0.7081506, 0.8379227, 0....</td>\n",
       "    </tr>\n",
       "    <tr>\n",
       "      <th>215583</th>\n",
       "      <td>16</td>\n",
       "      <td>[6, 3, 4, 5, 1, 6, 4, 5, 0, 1, 0, 6, 7, 2, 2, 2]</td>\n",
       "      <td>[63, 53, 60, 60, 59, 35, 36, 48, 47, 35, 19, 7...</td>\n",
       "      <td>[0.8896505, 0.7399067, 0.5185783, 0.7561008, 0...</td>\n",
       "      <td>[0, 0, 0, 0, 0, 0, 0, 0, 0, 0, 0, 1, 1, 1, 1, 2]</td>\n",
       "      <td>[189, 240, 259, 235, 298, 226, 284, 237, 300, ...</td>\n",
       "      <td>[36, 36, 46, 38, 39, 44, 39, 38, 36, 52, 38, 3...</td>\n",
       "      <td>[44, 47, 49, 57, 54, 49, 45, 54, 56, 64, 47, 5...</td>\n",
       "      <td>[-1.9576172, -1.767666, -0.19632894, -2.040863...</td>\n",
       "      <td>[0.8896505, 0.7399067, 0.5185783, 0.7561008, 0...</td>\n",
       "    </tr>\n",
       "    <tr>\n",
       "      <th>215587</th>\n",
       "      <td>16</td>\n",
       "      <td>[0, 0, 5, 4, 6, 5, 4, 3, 3, 7, 3, 2, 7, 6, 2, 1]</td>\n",
       "      <td>[39, 11, 39, 27, 22, 63, 55, 38, 42, 62, 62, 5...</td>\n",
       "      <td>[0.9256357, 0.6829671, 0.45063215, 0.566211, 0...</td>\n",
       "      <td>[0, 0, 0, 0, 0, 0, 0, 0, 1, 1, 1, 1, 1, 1, 1, 1]</td>\n",
       "      <td>[204, 240, 289, 260, 248, 230, 251, 214, 246, ...</td>\n",
       "      <td>[32, 34, 42, 48, 36, 36, 56, 38, 42, 35, 35, 4...</td>\n",
       "      <td>[57, 57, 57, 47, 54, 56, 62, 61, 49, 48, 51, 5...</td>\n",
       "      <td>[0.1089445, 0.89383477, 0.3042248, -1.0534972,...</td>\n",
       "      <td>[0.9256357, 0.6829671, 0.45063215, 0.566211, 0...</td>\n",
       "    </tr>\n",
       "    <tr>\n",
       "      <th>215591</th>\n",
       "      <td>16</td>\n",
       "      <td>[1, 4, 4, 0, 2, 6, 0, 2, 3, 4, 5, 6, 7, 0, 2, 7]</td>\n",
       "      <td>[46, 54, 2, 34, 1, 21, 6, 53, 37, 26, 42, 45, ...</td>\n",
       "      <td>[0.86681724, 0.96051574, 0.90058845, 1.4672469...</td>\n",
       "      <td>[0, 0, 0, 1, 1, 1, 1, 1, 1, 1, 1, 1, 1, 1, 1, 1]</td>\n",
       "      <td>[209, 195, 216, 283, 260, 231, 275, 261, 319, ...</td>\n",
       "      <td>[40, 46, 40, 32, 38, 38, 34, 36, 34, 52, 35, 3...</td>\n",
       "      <td>[52, 54, 47, 62, 55, 45, 50, 57, 47, 47, 59, 5...</td>\n",
       "      <td>[1.4814038, 1.0851073, -0.7248064, -2.0318995,...</td>\n",
       "      <td>[0.86681724, 0.96051574, 0.90058845, 1.4672469...</td>\n",
       "    </tr>\n",
       "    <tr>\n",
       "      <th>215594</th>\n",
       "      <td>16</td>\n",
       "      <td>[0, 0, 1, 3, 2, 4, 6, 6, 1, 4, 4, 6, 4, 0, 7, 2]</td>\n",
       "      <td>[10, 34, 50, 55, 11, 16, 39, 63, 54, 44, 62, 1...</td>\n",
       "      <td>[0.41483602, 0.5661304, 0.123381935, 0.6229989...</td>\n",
       "      <td>[0, 0, 0, 0, 0, 0, 0, 0, 0, 0, 0, 0, 0, 0, 0, 1]</td>\n",
       "      <td>[282, 267, 325, 253, 284, 348, 272, 226, 201, ...</td>\n",
       "      <td>[48, 32, 43, 40, 38, 37, 34, 36, 56, 52, 43, 3...</td>\n",
       "      <td>[55, 62, 51, 49, 61, 51, 56, 49, 56, 41, 50, 4...</td>\n",
       "      <td>[0.17421894, -1.4212002, 5.743683, 0.5122001, ...</td>\n",
       "      <td>[0.41483602, 0.5661304, 0.123381935, 0.6229989...</td>\n",
       "    </tr>\n",
       "  </tbody>\n",
       "</table>\n",
       "<p>39415 rows × 10 columns</p>\n",
       "</div>"
      ],
      "text/plain": [
       "        n_hits                                         tofpet_id  \\\n",
       "0           16  [0, 1, 4, 0, 2, 5, 6, 4, 3, 4, 7, 6, 0, 7, 3, 2]   \n",
       "2           16  [1, 4, 5, 5, 1, 3, 1, 2, 6, 6, 7, 6, 6, 4, 3, 3]   \n",
       "4           16  [4, 4, 0, 0, 5, 6, 6, 5, 1, 0, 7, 3, 2, 2, 6, 2]   \n",
       "5           16  [4, 2, 7, 2, 1, 4, 3, 0, 0, 2, 5, 0, 6, 6, 4, 6]   \n",
       "8           16  [4, 0, 2, 2, 0, 0, 6, 5, 4, 0, 7, 6, 2, 1, 3, 5]   \n",
       "...        ...                                               ...   \n",
       "215577      16  [6, 3, 4, 6, 7, 4, 2, 4, 2, 1, 0, 0, 5, 6, 0, 2]   \n",
       "215583      16  [6, 3, 4, 5, 1, 6, 4, 5, 0, 1, 0, 6, 7, 2, 2, 2]   \n",
       "215587      16  [0, 0, 5, 4, 6, 5, 4, 3, 3, 7, 3, 2, 7, 6, 2, 1]   \n",
       "215591      16  [1, 4, 4, 0, 2, 6, 0, 2, 3, 4, 5, 6, 7, 0, 2, 7]   \n",
       "215594      16  [0, 0, 1, 3, 2, 4, 6, 6, 1, 4, 4, 6, 4, 0, 7, 2]   \n",
       "\n",
       "                                           tofpet_channel  \\\n",
       "0       [12, 32, 12, 40, 47, 54, 36, 16, 35, 40, 52, 4...   \n",
       "2       [45, 27, 40, 56, 57, 45, 61, 1, 9, 33, 53, 53,...   \n",
       "4       [47, 19, 3, 27, 52, 57, 9, 59, 39, 55, 49, 53,...   \n",
       "5       [26, 12, 50, 16, 46, 2, 54, 10, 58, 40, 38, 34...   \n",
       "8       [28, 58, 39, 59, 62, 12, 53, 60, 48, 16, 61, 2...   \n",
       "...                                                   ...   \n",
       "215577  [40, 32, 9, 20, 36, 61, 16, 33, 40, 53, 37, 13...   \n",
       "215583  [63, 53, 60, 60, 59, 35, 36, 48, 47, 35, 19, 7...   \n",
       "215587  [39, 11, 39, 27, 22, 63, 55, 38, 42, 62, 62, 5...   \n",
       "215591  [46, 54, 2, 34, 1, 21, 6, 53, 37, 26, 42, 45, ...   \n",
       "215594  [10, 34, 50, 55, 11, 16, 39, 63, 54, 44, 62, 1...   \n",
       "\n",
       "                                                timestamp  \\\n",
       "0       [0.4989964, 0.6236513, 1.005709, 0.6354124, 0....   \n",
       "2       [0.96735424, 0.7653423, 0.92625076, 0.818104, ...   \n",
       "4       [0.84910274, 0.76163286, 0.8755943, 0.878864, ...   \n",
       "5       [0.75877696, 0.8758026, 0.7888641, 0.9195324, ...   \n",
       "8       [0.9706249, 1.6642871, 1.5490084, 1.636191, 1....   \n",
       "...                                                   ...   \n",
       "215577  [0.782376, 0.9097623, 0.7081506, 0.8379227, 0....   \n",
       "215583  [0.8896505, 0.7399067, 0.5185783, 0.7561008, 0...   \n",
       "215587  [0.9256357, 0.6829671, 0.45063215, 0.566211, 0...   \n",
       "215591  [0.86681724, 0.96051574, 0.90058845, 1.4672469...   \n",
       "215594  [0.41483602, 0.5661304, 0.123381935, 0.6229989...   \n",
       "\n",
       "                                                t_coarse  \\\n",
       "0       [0, 0, 0, 0, 0, 0, 0, 0, 0, 0, 0, 0, 0, 0, 1, 1]   \n",
       "2       [0, 0, 0, 0, 1, 1, 1, 1, 1, 1, 1, 1, 1, 1, 2, 2]   \n",
       "4       [0, 0, 0, 0, 1, 1, 1, 1, 1, 1, 1, 1, 1, 1, 1, 2]   \n",
       "5       [0, 0, 0, 0, 0, 0, 1, 1, 1, 1, 1, 1, 1, 1, 1, 1]   \n",
       "8       [0, 1, 1, 1, 1, 1, 1, 1, 1, 1, 1, 1, 1, 1, 1, 2]   \n",
       "...                                                  ...   \n",
       "215577  [0, 0, 0, 0, 0, 0, 0, 0, 0, 0, 0, 0, 0, 0, 0, 0]   \n",
       "215583  [0, 0, 0, 0, 0, 0, 0, 0, 0, 0, 0, 1, 1, 1, 1, 2]   \n",
       "215587  [0, 0, 0, 0, 0, 0, 0, 0, 1, 1, 1, 1, 1, 1, 1, 1]   \n",
       "215591  [0, 0, 0, 1, 1, 1, 1, 1, 1, 1, 1, 1, 1, 1, 1, 1]   \n",
       "215594  [0, 0, 0, 0, 0, 0, 0, 0, 0, 0, 0, 0, 0, 0, 0, 1]   \n",
       "\n",
       "                                                   t_fine  \\\n",
       "0       [278, 246, 190, 253, 217, 308, 242, 286, 274, ...   \n",
       "2       [199, 231, 201, 216, 347, 290, 236, 257, 283, ...   \n",
       "4       [217, 235, 226, 213, 255, 287, 314, 342, 360, ...   \n",
       "5       [228, 221, 222, 202, 198, 195, 209, 272, 304, ...   \n",
       "8       [190, 242, 270, 251, 296, 293, 241, 309, 310, ...   \n",
       "...                                                   ...   \n",
       "215577  [217, 207, 241, 195, 231, 291, 217, 314, 208, ...   \n",
       "215583  [189, 240, 259, 235, 298, 226, 284, 237, 300, ...   \n",
       "215587  [204, 240, 289, 260, 248, 230, 251, 214, 246, ...   \n",
       "215591  [209, 195, 216, 283, 260, 231, 275, 261, 319, ...   \n",
       "215594  [282, 267, 325, 253, 284, 348, 272, 226, 201, ...   \n",
       "\n",
       "                                                 v_coarse  \\\n",
       "0       [38, 36, 48, 42, 40, 37, 36, 38, 32, 44, 38, 3...   \n",
       "2       [40, 48, 46, 38, 35, 32, 38, 38, 36, 38, 37, 3...   \n",
       "4       [52, 46, 36, 40, 48, 38, 36, 39, 39, 38, 44, 3...   \n",
       "5       [52, 34, 38, 38, 40, 40, 42, 48, 31, 40, 43, 3...   \n",
       "8       [48, 32, 32, 38, 35, 38, 38, 37, 51, 36, 44, 3...   \n",
       "...                                                   ...   \n",
       "215577  [38, 38, 42, 38, 42, 46, 38, 55, 40, 42, 43, 3...   \n",
       "215583  [36, 36, 46, 38, 39, 44, 39, 38, 36, 52, 38, 3...   \n",
       "215587  [32, 34, 42, 48, 36, 36, 56, 38, 42, 35, 35, 4...   \n",
       "215591  [40, 46, 40, 32, 38, 38, 34, 36, 34, 52, 35, 3...   \n",
       "215594  [48, 32, 43, 40, 38, 37, 34, 36, 56, 52, 43, 3...   \n",
       "\n",
       "                                                   v_fine  \\\n",
       "0       [47, 63, 45, 43, 47, 49, 46, 47, 53, 50, 45, 4...   \n",
       "2       [53, 51, 53, 59, 52, 60, 50, 55, 56, 47, 45, 5...   \n",
       "4       [63, 50, 53, 54, 48, 45, 52, 48, 53, 54, 47, 5...   \n",
       "5       [49, 52, 49, 47, 50, 47, 52, 53, 47, 45, 47, 5...   \n",
       "8       [52, 50, 53, 46, 45, 45, 53, 51, 59, 56, 42, 5...   \n",
       "...                                                   ...   \n",
       "215577  [50, 54, 50, 42, 53, 57, 46, 60, 44, 53, 44, 5...   \n",
       "215583  [44, 47, 49, 57, 54, 49, 45, 54, 56, 64, 47, 5...   \n",
       "215587  [57, 57, 57, 47, 54, 56, 62, 61, 49, 48, 51, 5...   \n",
       "215591  [52, 54, 47, 62, 55, 45, 50, 57, 47, 47, 59, 5...   \n",
       "215594  [55, 62, 51, 49, 61, 51, 56, 49, 56, 41, 50, 4...   \n",
       "\n",
       "                                                    value  \\\n",
       "0       [1.2434554, -0.8204824, -2.7037287, -4.6503053...   \n",
       "2       [1.1892524, 1.9031334, 3.8873699, 1.5834945, 0...   \n",
       "4       [-0.65353876, -1.6212033, 0.5734622, -0.272599...   \n",
       "5       [2.7704349, -1.6245046, 1.5879142, 0.014019844...   \n",
       "8       [0.10943407, -2.2990677, -2.4300504, -0.940129...   \n",
       "...                                                   ...   \n",
       "215577  [0.07292396, -2.325026, -0.90856797, -0.833890...   \n",
       "215583  [-1.9576172, -1.767666, -0.19632894, -2.040863...   \n",
       "215587  [0.1089445, 0.89383477, 0.3042248, -1.0534972,...   \n",
       "215591  [1.4814038, 1.0851073, -0.7248064, -2.0318995,...   \n",
       "215594  [0.17421894, -1.4212002, 5.743683, 0.5122001, ...   \n",
       "\n",
       "                                         timestamp_global  \n",
       "0       [0.4989964, 0.6236513, 1.005709, 0.6354124, 0....  \n",
       "2       [0.96735424, 0.7653423, 0.92625076, 0.818104, ...  \n",
       "4       [0.84910274, 0.76163286, 0.8755943, 0.878864, ...  \n",
       "5       [0.75877696, 0.8758026, 0.7888641, 0.9195324, ...  \n",
       "8       [0.9706249, 1.6642871, 1.5490084, 1.636191, 1....  \n",
       "...                                                   ...  \n",
       "215577  [0.782376, 0.9097623, 0.7081506, 0.8379227, 0....  \n",
       "215583  [0.8896505, 0.7399067, 0.5185783, 0.7561008, 0...  \n",
       "215587  [0.9256357, 0.6829671, 0.45063215, 0.566211, 0...  \n",
       "215591  [0.86681724, 0.96051574, 0.90058845, 1.4672469...  \n",
       "215594  [0.41483602, 0.5661304, 0.123381935, 0.6229989...  \n",
       "\n",
       "[39415 rows x 10 columns]"
      ]
     },
     "execution_count": 344,
     "metadata": {},
     "output_type": "execute_result"
    }
   ],
   "source": [
    "#FILTERING DATA WE WANT\n",
    "\n",
    "df_hits['timestamp_global'] = df_evts['timestamp']  #adds column to df_hits with values from df_evts\n",
    "df_hits.query('n_hits > 15', inplace=True)  #filters df_hits to only keep rows with number of hits >2. inplace=True means that the DataFrame is modified in place, so the original DataFrame df_hits is updated to only contain rows meeting the condition. If inplace=False or omitted, returns a new DataFrame with the filtered results without modifying the original df_hits.\n",
    "df_hits.query('n_hits < 17', inplace= True)\n",
    "\n",
    "df_hits\n",
    "#len(df_hits)\n"
   ]
  },
  {
   "cell_type": "code",
   "execution_count": 345,
   "id": "37efbcf8",
   "metadata": {},
   "outputs": [],
   "source": [
    "# testing individual outputs\n",
    "#good_tracks = [t for t in tracks if t.is_good_2D_fit()]\n",
    "#i = np.random.randint(0, len(tracks))\n",
    "#print('####### Track # {}'.format(i))\n",
    "#t = tracks[i]\n",
    "#t.print(True)\n",
    "## t.precise_track()\n",
    "## print('after')\n",
    "## t.print(True)"
   ]
  },
  {
   "cell_type": "code",
   "execution_count": 346,
   "id": "c63828a1",
   "metadata": {},
   "outputs": [
    {
     "data": {
      "text/plain": [
       "n_hits                                                             16\n",
       "tofpet_id            [6, 2, 4, 0, 7, 4, 2, 7, 5, 4, 3, 1, 0, 6, 2, 0]\n",
       "tofpet_channel      [52, 4, 58, 14, 60, 30, 24, 52, 42, 6, 44, 50,...\n",
       "timestamp           [0.5164379, 0.42194074, 0.25250745, 0.29957455...\n",
       "t_coarse             [0, 0, 0, 0, 0, 0, 0, 0, 0, 0, 0, 0, 0, 0, 0, 0]\n",
       "t_fine              [271, 287, 297, 316, 297, 306, 281, 287, 299, ...\n",
       "v_coarse            [36, 40, 39, 37, 37, 41, 44, 38, 36, 48, 36, 4...\n",
       "v_fine              [51, 55, 49, 43, 47, 50, 54, 44, 64, 45, 47, 4...\n",
       "value               [-0.079722725, -2.0126808, -1.3831785, -0.0581...\n",
       "timestamp_global    [0.5164379, 0.42194074, 0.25250745, 0.29957455...\n",
       "Name: 16818, dtype: object"
      ]
     },
     "execution_count": 346,
     "metadata": {},
     "output_type": "execute_result"
    }
   ],
   "source": [
    "#faire une boucle sur tout les df_hits pour recuperer que ceux qui sont bons \n",
    "#\n",
    "# getting tracks\n",
    "#tracks, dts = create_tracks(df_hits.head(1000))\n",
    "#df_filtered = df_hits[df_hits.apply(lambda row: good_cluster(row, n_hits[0]), axis=1)]\n",
    "\n",
    "\n",
    "coord=df_hits.iloc[np.random.randint(0, len(df_hits))]   #stores the first row of df_hits into the variable 'coord'. To access individual values within this row using the column names or positions (coord['column_name'] or coord[0] to access the first column of that row)\n",
    "coord\n"
   ]
  },
  {
   "cell_type": "code",
   "execution_count": 347,
   "id": "b2f0df49",
   "metadata": {},
   "outputs": [
    {
     "name": "stdout",
     "output_type": "stream",
     "text": [
      "[6 2 4 0 7 4 2 7 5 4 3 1 0 6 2 0]\n",
      "[52  4 58 14 60 30 24 52 42  6 44 50 38 32 44 40]\n"
     ]
    },
    {
     "name": "stderr",
     "output_type": "stream",
     "text": [
      "C:\\Users\\kimyk\\AppData\\Local\\Temp\\ipykernel_3868\\1481942101.py:1: FutureWarning: Series.__getitem__ treating keys as positions is deprecated. In a future version, integer keys will always be treated as labels (consistent with DataFrame behavior). To access a value by position, use `ser.iloc[pos]`\n",
      "  tofpet_iD=coord[1]\n",
      "C:\\Users\\kimyk\\AppData\\Local\\Temp\\ipykernel_3868\\1481942101.py:2: FutureWarning: Series.__getitem__ treating keys as positions is deprecated. In a future version, integer keys will always be treated as labels (consistent with DataFrame behavior). To access a value by position, use `ser.iloc[pos]`\n",
      "  tofpet_channeL=coord[2]\n"
     ]
    }
   ],
   "source": [
    "tofpet_iD=coord[1]\n",
    "tofpet_channeL=coord[2]\n",
    "print(tofpet_iD)\n",
    "print(tofpet_channeL)"
   ]
  },
  {
   "cell_type": "code",
   "execution_count": 348,
   "id": "ecf8aac8",
   "metadata": {},
   "outputs": [
    {
     "name": "stdout",
     "output_type": "stream",
     "text": [
      "[[5, 5], [6, 3], [4, 6], [3, 8], [4, 7], [5, 4], [6, 2], [7, 1]]\n",
      "[[10, 5], [9, 3], [11, 7], [9, 2], [12, 8], [10, 4], [11, 6], [8, 1]]\n"
     ]
    }
   ],
   "source": [
    "l=len(tofpet_iD)   #number of events (i - number starting from 0)\n",
    "pts_x=[] #initialising a set(list) for coordinates (X,Z), pts=points\n",
    "pts_y=[] #initialising a set(list) for coordinates (Y,Z)\n",
    "for i in range(l):\n",
    "    if is_sidex(tofpet_iD[i]):\n",
    "         pts_x.append(Mapping2D(tofpet_iD[i],tofpet_channeL[i])) #adding coords to set for coordinates (X,Z)\n",
    "    else:\n",
    "         pts_y.append(Mapping2D(tofpet_iD[i],tofpet_channeL[i])) #adding coords to set for coordinates (Y,Z)\n",
    "    \n",
    "print(pts_x)\n",
    "print(pts_y)    \n",
    "    "
   ]
  },
  {
   "cell_type": "code",
   "execution_count": 349,
   "id": "5b150029",
   "metadata": {},
   "outputs": [
    {
     "name": "stdout",
     "output_type": "stream",
     "text": [
      "[[5, 5], [6, 3], [4, 6], [3, 8], [4, 7], [5, 4], [6, 2], [7, 1]]\n"
     ]
    }
   ],
   "source": [
    "print(pts_x) "
   ]
  },
  {
   "cell_type": "code",
   "execution_count": 350,
   "id": "ad2e2ee2",
   "metadata": {},
   "outputs": [
    {
     "data": {
      "text/plain": [
       "<Figure size 640x480 with 0 Axes>"
      ]
     },
     "metadata": {},
     "output_type": "display_data"
    },
    {
     "data": {
      "image/png": "[encoded data removed]",
      "text/plain": [
       "<Figure size 1440x480 with 1 Axes>"
      ]
     },
     "metadata": {},
     "output_type": "display_data"
    },
    {
     "data": {
      "text/plain": [
       "<Figure size 640x480 with 0 Axes>"
      ]
     },
     "metadata": {},
     "output_type": "display_data"
    },
    {
     "data": {
      "image/png": "[encoded data removed]",
      "text/plain": [
       "<Figure size 1440x480 with 1 Axes>"
      ]
     },
     "metadata": {},
     "output_type": "display_data"
    }
   ],
   "source": [
    "n_layers = 8\n",
    "n_strips = 24\n",
    "map = np.zeros((8,24))\n",
    "for coord in pts_x:    #Je crois ça prend les coordonnée de chaque hit de notre liste, et indique sur la carte avec un 1 au lieu de 0\n",
    "    map[int(coord[1]-1),int(coord[0]-1)]=1\n",
    "\n",
    "plt.figure()\n",
    "plt.matshow(map,origin='lower',extent=[0.5, 0.5+n_strips, 0.5, 0.5+n_layers])\n",
    "plt.grid()\n",
    "plt.gca().set_xticks(np.arange(0.5, n_strips + 1))\n",
    "plt.gca().set_yticks(np.arange(0.5, n_layers + 1))\n",
    "#plt.gca().xaxis.tick_top()  # Placer les étiquettes des axes en haut\n",
    "plt.show()\n",
    "\n",
    "n_layers = 8\n",
    "n_strips = 24\n",
    "map = np.zeros((8,24))\n",
    "for coord in pts_x:    #Je crois ça prend les coordonnée de chaque hit de notre liste, et indique sur la carte avec un 1 au lieu de 0\n",
    "    map[int(coord[1]-1),int(coord[0]-1)]=1\n",
    "\n",
    "plt.figure()\n",
    "plt.matshow(map,origin='lower',extent=[0.5, 0.5+n_strips, 0.5, 0.5+n_layers])\n",
    "plt.grid()\n",
    "plt.gca().set_xticks(np.arange(0.5, n_strips + 1))\n",
    "plt.gca().set_yticks(np.arange(0.5, n_layers + 1))\n",
    "#plt.gca().xaxis.tick_top()  # Placer les étiquettes des axes en haut\n",
    "plt.show()"
   ]
  },
  {
   "cell_type": "code",
   "execution_count": 351,
   "id": "a0686c8d",
   "metadata": {},
   "outputs": [
    {
     "name": "stdout",
     "output_type": "stream",
     "text": [
      "[7, 1] \n",
      "\n",
      "[[7, 1]] \n",
      " [[[5, 5], [5, 4]], [[6, 3], [6, 2]], [[4, 6], [4, 7]], [[3, 8]], [[7, 1]]]\n"
     ]
    }
   ],
   "source": [
    "# hits=[]\n",
    "# hits.append(pts_x)\n",
    "# while len(hits)!=0:\n",
    "#   cluster=[]\n",
    "#   rootpoint=hits[0]\n",
    "#   cluster.append(rootpoint)\n",
    "#   hits.remove(rootpoint)\n",
    "#   neighbours=[]\n",
    "hits = []\n",
    "hits += pts_x #+= this is hits = hits + pts_x\n",
    "# rootpoint = hits[0]\n",
    "# print(rootpoint)\n",
    "cluster_list=[]\n",
    "while len(hits) != 0:   #we go through every hit \n",
    "    cluster = []\n",
    "    rootpoint = hits[0]\n",
    "    cluster.append(rootpoint)     #cluster contains the first hit, then the rootpoint is removed from the hit list\n",
    "    hits.remove(rootpoint)\n",
    "    \n",
    "    neighbours = []                  \n",
    "    neighbours = findneighbours(rootpoint, hits)   #we look for the neighbors of the rootpoint\n",
    "    \n",
    "    while len(neighbours)!=0:          #as long as the neighbor list isn't empty, keeps going\n",
    "\n",
    "        newcenter = neighbours[0]    #first neighbor is the new center so added to cluster list\n",
    "        cluster.append(newcenter)\n",
    "        neighbours.remove(newcenter)   #this point is removed from the hit and neighbor list\n",
    "        hits.remove(newcenter)\n",
    "        neighbours = neighbours + findneighbours(newcenter,hits) #no need bc we have to remove neighb of neighb from hits\n",
    "   \n",
    "    cluster_list.append(cluster)   \n",
    "#   newcenter_neighbours=findneighbours(newcenter, hits)\n",
    "#         hits.remove(newcenter_neighbours)\n",
    "#         neighbours.append(newcenter_neighbours) \n",
    "        \n",
    "#     if len(neighbours) == 0:\n",
    "#         cluster.remove(rootpoint)\n",
    "#     else:\n",
    "#         cluster.append(neighbours)\n",
    "\n",
    "\n",
    "\n",
    "    \n",
    "    #if len(cluster)>1:\n",
    "      #print(len(cluster))\n",
    "      #print(cluster) \n",
    "      # \n",
    "for item in cluster :\n",
    "    print(item, '\\n')\n",
    "\n",
    "print(cluster, '\\n', cluster_list)"
   ]
  },
  {
   "cell_type": "code",
   "execution_count": 352,
   "id": "a56dc141",
   "metadata": {},
   "outputs": [
    {
     "data": {
      "text/plain": [
       "<Figure size 640x480 with 0 Axes>"
      ]
     },
     "metadata": {},
     "output_type": "display_data"
    },
    {
     "data": {
      "image/png": "[encoded data removed]",
      "text/plain": [
       "<Figure size 1440x480 with 1 Axes>"
      ]
     },
     "metadata": {},
     "output_type": "display_data"
    }
   ],
   "source": [
    "n_layers = 8\n",
    "n_strips = 24\n",
    "map = np.zeros((8,24))\n",
    "for cluster in cluster_list:    #Je crois ça prend les coordonnée de chaque hit de notre liste, et indique sur la carte avec un 1 au lieu de 0\n",
    "    for coord in cluster: \n",
    "     map[int(coord[1]-1),int(coord[0]-1)]=1\n",
    "\n",
    "plt.figure()\n",
    "plt.matshow(map,origin='lower',extent=[0.5, 0.5+n_strips, 0.5, 0.5+n_layers])\n",
    "plt.grid()\n",
    "plt.gca().set_xticks(np.arange(0.5, n_strips + 1))\n",
    "plt.gca().set_yticks(np.arange(0.5, n_layers + 1))\n",
    "#plt.gca().xaxis.tick_top()  # Placer les étiquettes des axes en haut\n",
    "plt.show()\n",
    "\n",
    "#plot_cluster(cluster, 8,24)"
   ]
  },
  {
   "cell_type": "code",
   "execution_count": 353,
   "id": "48d6098e",
   "metadata": {},
   "outputs": [
    {
     "name": "stdout",
     "output_type": "stream",
     "text": [
      "[[5, 3], [2, 3], [1, 2], [2, 2], [1, 3], [2, 1]]\n"
     ]
    }
   ],
   "source": [
    "test1 = [[5,3],[2,3],[1,2]]\n",
    "test2 = [[2,2],[1,3],[2,1]]\n",
    "test1 = test1+test2\n",
    "print(test1)"
   ]
  },
  {
   "cell_type": "code",
   "execution_count": 354,
   "id": "134211b3",
   "metadata": {},
   "outputs": [],
   "source": [
    "# findneighbours(pts_x[-1],pts_x)"
   ]
  },
  {
   "cell_type": "code",
   "execution_count": 355,
   "id": "e11249a8",
   "metadata": {},
   "outputs": [
    {
     "data": {
      "text/plain": [
       "[[1, 2], [1, 0], [0, 1]]"
      ]
     },
     "execution_count": 355,
     "metadata": {},
     "output_type": "execute_result"
    }
   ],
   "source": [
    "pts_test=[[1,2],[1,0],[0,1],[4,1]]   #test of findneighbours function\n",
    "centerpoint=[1,1]\n",
    "findneighbours(centerpoint,pts_test)"
   ]
  },
  {
   "cell_type": "code",
   "execution_count": 356,
   "id": "39dbe966",
   "metadata": {},
   "outputs": [],
   "source": [
    "class clusters:\n",
    "    def __init__(self,points):\n",
    "        self.pts=points\n",
    "        self.l=len(points)\n",
    "    \n",
    "    #a ajouter une fonction energie qui calcule l'energie totale du cluster (additioner energie des points)\n",
    "    #peut etre une focntion distribution spatiale (ecart type et moyenne du cluster)\n",
    "    # a verifier si le cluster n'est pas a bord du detecteur pour eviter qu'il soit tronqué \n",
    "    #afficher le cluster comme dans le rapport"
   ]
  },
  {
   "cell_type": "code",
   "execution_count": 357,
   "id": "dcf2862c",
   "metadata": {},
   "outputs": [],
   "source": [
    "hits=[]\n",
    "hits+=pts_x\n",
    "outlist=[]\n",
    "while len(hits)!=0:\n",
    "    cluster=[]\n",
    "    rootpoint=hits[0]\n",
    "    cluster.append(rootpoint)\n",
    "    hits.remove(rootpoint)\n",
    "    neighbours=[]\n",
    "    neighbours+=findneighbours(rootpoint,hits)\n",
    "    #cluster+=neighbours\n",
    "    #hits=del_list(hits,neighbours)\n",
    "    while len(neighbours)!=0:\n",
    "        newcenter=neighbours[0]\n",
    "        hits.remove(newcenter)\n",
    "        neighbours.remove(newcenter)\n",
    "        cluster.append(newcenter)\n",
    "        neighbours+=findneighbours(newcenter,hits)\n",
    "    \n",
    "    if len(cluster)>1:\n",
    "        x=clusters(cluster)\n",
    "        outlist.append(x)\n",
    "    "
   ]
  },
  {
   "cell_type": "code",
   "execution_count": 358,
   "id": "0bb65b8d",
   "metadata": {},
   "outputs": [
    {
     "name": "stdout",
     "output_type": "stream",
     "text": [
      "[[5, 5], [5, 4]]\n",
      "[[6, 3], [6, 2]]\n",
      "[[4, 6], [4, 7]]\n"
     ]
    }
   ],
   "source": [
    "for i in range(len(outlist)):\n",
    "    print(outlist[i].pts)"
   ]
  },
  {
   "cell_type": "code",
   "execution_count": 359,
   "id": "95fe7724",
   "metadata": {},
   "outputs": [
    {
     "name": "stdout",
     "output_type": "stream",
     "text": [
      "[[5, 5], [5, 4]]\n"
     ]
    }
   ],
   "source": [
    "print(outlist[0].pts)"
   ]
  },
  {
   "cell_type": "code",
   "execution_count": 360,
   "id": "f4999b48",
   "metadata": {},
   "outputs": [
    {
     "name": "stdout",
     "output_type": "stream",
     "text": [
      "[[5, 5], [5, 4]]\n"
     ]
    },
    {
     "ename": "TypeError",
     "evalue": "unsupported operand type(s) for -: 'list' and 'int'",
     "output_type": "error",
     "traceback": [
      "\u001b[1;31m---------------------------------------------------------------------------\u001b[0m",
      "\u001b[1;31mTypeError\u001b[0m                                 Traceback (most recent call last)",
      "\u001b[1;32mc:\\Users\\kimyk\\OneDrive\\Bureau\\Master 1\\Projet_LPHE_I\\ecal_reco\\Cluster_Kim.ipynb Cell 20\u001b[0m line \u001b[0;36m7\n\u001b[0;32m      <a href='vscode-notebook-cell:/c%3A/Users/kimyk/OneDrive/Bureau/Master%201/Projet_LPHE_I/ecal_reco/Cluster_Kim.ipynb#X25sZmlsZQ%3D%3D?line=4'>5</a>\u001b[0m     \u001b[39mprint\u001b[39m(outlist[i]\u001b[39m.\u001b[39mpts)\n\u001b[0;32m      <a href='vscode-notebook-cell:/c%3A/Users/kimyk/OneDrive/Bureau/Master%201/Projet_LPHE_I/ecal_reco/Cluster_Kim.ipynb#X25sZmlsZQ%3D%3D?line=5'>6</a>\u001b[0m     coord[i]\u001b[39m=\u001b[39moutlist[i]\u001b[39m.\u001b[39mpts\n\u001b[1;32m----> <a href='vscode-notebook-cell:/c%3A/Users/kimyk/OneDrive/Bureau/Master%201/Projet_LPHE_I/ecal_reco/Cluster_Kim.ipynb#X25sZmlsZQ%3D%3D?line=6'>7</a>\u001b[0m     \u001b[39mmap\u001b[39m[\u001b[39mint\u001b[39m(coord[\u001b[39m1\u001b[39m]\u001b[39m-\u001b[39m\u001b[39m1\u001b[39m),\u001b[39mint\u001b[39m(coord[\u001b[39m0\u001b[39;49m]\u001b[39m-\u001b[39;49m\u001b[39m1\u001b[39;49m)]\u001b[39m=\u001b[39m\u001b[39m1\u001b[39m\n\u001b[0;32m      <a href='vscode-notebook-cell:/c%3A/Users/kimyk/OneDrive/Bureau/Master%201/Projet_LPHE_I/ecal_reco/Cluster_Kim.ipynb#X25sZmlsZQ%3D%3D?line=7'>8</a>\u001b[0m plt\u001b[39m.\u001b[39mfigure()\n\u001b[0;32m      <a href='vscode-notebook-cell:/c%3A/Users/kimyk/OneDrive/Bureau/Master%201/Projet_LPHE_I/ecal_reco/Cluster_Kim.ipynb#X25sZmlsZQ%3D%3D?line=8'>9</a>\u001b[0m plt\u001b[39m.\u001b[39mmatshow(\u001b[39mmap\u001b[39m,origin\u001b[39m=\u001b[39m\u001b[39m'\u001b[39m\u001b[39mlower\u001b[39m\u001b[39m'\u001b[39m,extent\u001b[39m=\u001b[39m[\u001b[39m0.5\u001b[39m, \u001b[39m0.5\u001b[39m\u001b[39m+\u001b[39mn_strips, \u001b[39m0.5\u001b[39m, \u001b[39m0.5\u001b[39m\u001b[39m+\u001b[39mn_layers])\n",
      "\u001b[1;31mTypeError\u001b[0m: unsupported operand type(s) for -: 'list' and 'int'"
     ]
    }
   ],
   "source": [
    "n_layers = 8\n",
    "n_strips = 24\n",
    "map = np.zeros((8,24))\n",
    "for i in range(len(outlist)):\n",
    "    print(outlist[i].pts)\n",
    "    coord[i]=outlist[i].pts\n",
    "    map[int(coord[1]-1),int(coord[0]-1)]=1\n",
    "plt.figure()\n",
    "plt.matshow(map,origin='lower',extent=[0.5, 0.5+n_strips, 0.5, 0.5+n_layers])\n",
    "plt.grid()\n",
    "plt.gca().set_xticks(np.arange(0.5, n_strips + 1))\n",
    "plt.gca().set_yticks(np.arange(0.5, n_layers + 1))\n",
    "#plt.gca().xaxis.tick_top()  # Placer les étiquettes des axes en haut\n"
   ]
  }
 ],
 "metadata": {
  "kernelspec": {
   "display_name": "Python 3 (ipykernel)",
   "language": "python",
   "name": "python3"
  },
  "language_info": {
   "codemirror_mode": {
    "name": "ipython",
    "version": 3
   },
   "file_extension": ".py",
   "mimetype": "text/x-python",
   "name": "python",
   "nbconvert_exporter": "python",
   "pygments_lexer": "ipython3",
   "version": "3.10.12"
  }
 },
 "nbformat": 4,
 "nbformat_minor": 5
}
