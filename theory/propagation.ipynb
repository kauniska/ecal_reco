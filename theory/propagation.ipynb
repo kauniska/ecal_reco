{
 "cells": [
  {
   "cell_type": "code",
   "execution_count": 1,
   "metadata": {},
   "outputs": [],
   "source": [
    "from particle import Particle\n",
    "from structure import Layer,Aluminum,Lead,Scintillator, Structure\n",
    "import numpy as np"
   ]
  },
  {
   "cell_type": "code",
   "execution_count": 2,
   "metadata": {},
   "outputs": [
    {
     "name": "stdout",
     "output_type": "stream",
     "text": [
      "160\n"
     ]
    }
   ],
   "source": [
    "# Creation of the detector\n",
    "Al = Aluminum(1)\n",
    "Pb = Lead(4)\n",
    "Si = Scintillator(4)\n",
    "detec_unit = Structure([Al,Pb,Al,Si])\n",
    "detec = detec_unit.mult(16)\n",
    "print(detec.top())\n"
   ]
  },
  {
   "cell_type": "code",
   "execution_count": 3,
   "metadata": {},
   "outputs": [
    {
     "name": "stdout",
     "output_type": "stream",
     "text": [
      "0.8489333012669488\n"
     ]
    }
   ],
   "source": [
    "# Creation of the particle\n",
    "import matplotlib.pyplot as plt\n",
    "\n",
    "pos_init = np.array([0.,0.])\n",
    "mass = 105.7*10**6\n",
    "energy = 2*10**8\n",
    "charge = -1\n",
    "angle = np.pi/2\n",
    "muon = Particle(charge,mass,energy,np.copy(pos_init),np.pi/2)\n",
    "print(muon.beta())\n",
    "\n",
    "\n"
   ]
  },
  {
   "cell_type": "code",
   "execution_count": 4,
   "metadata": {},
   "outputs": [],
   "source": [
    "#function running the simulation\n",
    "\n",
    "def propagation(part,detec,dx = 0.001,freq = 1):\n",
    "    energies = [part.energy]\n",
    "    x = np.copy(part.pos)\n",
    "    counter = 1\n",
    "    while part.energy > part.mass and part.pos[1] + dx*np.sin(part.theta) <= detec.top():\n",
    "        part.pos += dx*np.array([np.cos(part.theta),np.sin(part.theta)]) \n",
    "        part.energy -= dx*0.001*detec.material(part.pos[1]-dx/2*np.sin(part.theta)).bethe_bloch(part.beta(),part.charge)\n",
    "        if counter % freq == 0:\n",
    "            counter = 0\n",
    "            energies.append(part.energy)\n",
    "            x = np.vstack((x,part.pos))\n",
    "\n",
    "    if part.energy > part.mass:\n",
    "        print(\"The particule exited the detector with a remaining Kinetic energy of : \", part.energy - part.mass)\n",
    "    else:\n",
    "        print(\"The particule stopped at (x,z) = (\", part.pos[0], \",\", part.pos[1], \")\\n \\u0394r = \", np.linalg.norm(pos_init-part.pos), \"mm\")\n",
    "\n",
    "    return energies,x"
   ]
  },
  {
   "cell_type": "code",
   "execution_count": 6,
   "metadata": {},
   "outputs": [
    {
     "name": "stdout",
     "output_type": "stream",
     "text": [
      "The particule stopped at (x,z) = ( 5.361136292622474e-15 , 87.554000000054 )\n",
      " Δr =  87.554000000054 mm\n"
     ]
    },
    {
     "ename": "IndexError",
     "evalue": "too many indices for array: array is 1-dimensional, but 2 were indexed",
     "output_type": "error",
     "traceback": [
      "\u001b[1;31m---------------------------------------------------------------------------\u001b[0m",
      "\u001b[1;31mIndexError\u001b[0m                                Traceback (most recent call last)",
      "Cell \u001b[1;32mIn [6], line 5\u001b[0m\n\u001b[0;32m      1\u001b[0m \u001b[39m# Run\u001b[39;00m\n\u001b[0;32m      2\u001b[0m energies,x \u001b[39m=\u001b[39m propagation(muon,detec)\n\u001b[1;32m----> 5\u001b[0m plt\u001b[39m.\u001b[39mplot(x[:,\u001b[39m1\u001b[39m],energies)\n\u001b[0;32m      6\u001b[0m plt\u001b[39m.\u001b[39maxhline(muon\u001b[39m.\u001b[39mmass,color\u001b[39m=\u001b[39m\u001b[39m'\u001b[39m\u001b[39mr\u001b[39m\u001b[39m'\u001b[39m)\n\u001b[0;32m      7\u001b[0m plt\u001b[39m.\u001b[39mshow()\n",
      "\u001b[1;31mIndexError\u001b[0m: too many indices for array: array is 1-dimensional, but 2 were indexed"
     ]
    }
   ],
   "source": [
    "# Run\n",
    "energies,x = propagation(muon,detec)\n",
    "\n",
    "\n",
    "plt.plot(x[:,1],energies)\n",
    "plt.axhline(muon.mass,color='r')\n",
    "plt.show()\n",
    "\n",
    "sampling = 8000\n",
    "energy_loss = [0].extend([energies[i]-energies[i+1] for i in range(len(energies)-1)])\n",
    "energy_loss = energy_loss[0::sampling]\n",
    "traj_x = x[:,0::sampling]\n",
    "traj_z = x[:,0::sampling]\n",
    "fig,ax = plt.subplots()\n",
    "ax.scatter(traj_x, traj_z, s=energy_loss, c=energy_loss)\n",
    "plt.show()\n"
   ]
  }
 ],
 "metadata": {
  "kernelspec": {
   "display_name": "Python 3.9.13 ('TP4')",
   "language": "python",
   "name": "python3"
  },
  "language_info": {
   "codemirror_mode": {
    "name": "ipython",
    "version": 3
   },
   "file_extension": ".py",
   "mimetype": "text/x-python",
   "name": "python",
   "nbconvert_exporter": "python",
   "pygments_lexer": "ipython3",
   "version": "3.9.13"
  },
  "orig_nbformat": 4,
  "vscode": {
   "interpreter": {
    "hash": "1867fa988200979088d84bc4ce438c40759f9afa4e246357d770a8bf50c98f50"
   }
  }
 },
 "nbformat": 4,
 "nbformat_minor": 2
}
