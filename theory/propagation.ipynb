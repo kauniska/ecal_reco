{
 "cells": [
  {
   "cell_type": "code",
   "execution_count": 1,
   "metadata": {},
   "outputs": [],
   "source": [
    "from particle import Particle\n",
    "from structure import Layer,Aluminum,Lead,Scintillator, Structure\n",
    "import numpy as np"
   ]
  },
  {
   "cell_type": "code",
   "execution_count": 2,
   "metadata": {},
   "outputs": [
    {
     "name": "stdout",
     "output_type": "stream",
     "text": [
      "160\n"
     ]
    }
   ],
   "source": [
    "# Creation of the detector\n",
    "Al = Aluminum(1)\n",
    "Pb = Lead(4)\n",
    "Si = Scintillator(4)\n",
    "detec_unit = Structure([Al,Pb,Al,Si])\n",
    "detec = detec_unit.mult(16)\n",
    "print(detec.top())\n"
   ]
  },
  {
   "cell_type": "code",
   "execution_count": 13,
   "metadata": {},
   "outputs": [
    {
     "name": "stdout",
     "output_type": "stream",
     "text": [
      "0.8489333012669488\n"
     ]
    }
   ],
   "source": [
    "# Creation of the particle\n",
    "import matplotlib.pyplot as plt\n",
    "\n",
    "pos_init = np.array([0.,0.])\n",
    "mass = 105.7*10**6\n",
    "energy = 2*10**8\n",
    "charge = -1\n",
    "angle = np.pi/2\n",
    "muon = Particle(charge,mass,energy,np.copy(pos_init),np.pi/2)\n",
    "print(muon.beta())\n",
    "\n",
    "\n"
   ]
  },
  {
   "cell_type": "code",
   "execution_count": 12,
   "metadata": {},
   "outputs": [],
   "source": [
    "#function running the simulation\n",
    "import copy\n",
    "def propagation(part_model,detec,dx = 0.001,freq = 1):\n",
    "    part = copy.deepcopy(part_model)\n",
    "    energies = [part.energy]\n",
    "    x = np.copy(part.pos)\n",
    "    counter = 1\n",
    "    while part.energy > part.mass and part.pos[1] + dx*np.sin(part.theta) <= detec.top():\n",
    "        part.pos += dx*np.array([np.cos(part.theta),np.sin(part.theta)]) \n",
    "        part.energy -= dx*0.001*detec.material(part.pos[1]-dx/2*np.sin(part.theta)).bethe_bloch(part.beta(),part.charge)\n",
    "        if counter % freq == 0:\n",
    "            counter = 0\n",
    "            energies.append(part.energy)\n",
    "            x = np.vstack((x,part.pos))\n",
    "\n",
    "    if part.energy > part.mass:\n",
    "        print(\"The particule exited the detector with a remaining Kinetic energy of : \", part.energy - part.mass)\n",
    "    else:\n",
    "        print(\"The particule stopped at (x,z) = (\", part.pos[0], \",\", part.pos[1], \")\\n \\u0394r = \", np.linalg.norm(x[0]-part.pos), \"mm\")\n",
    "\n",
    "    return energies,x"
   ]
  },
  {
   "cell_type": "code",
   "execution_count": 27,
   "metadata": {},
   "outputs": [],
   "source": [
    "# Run\n",
    "energies,x = propagation(muon,detec)\n",
    "\n",
    "\n",
    "plt.plot(x[:,1],energies)\n",
    "plt.axhline(muon.mass,color='r')\n",
    "plt.show()\n",
    "\n",
    "sampling = round(len(energies)/50)\n",
    "energy_loss = [0]\n",
    "energy_loss.extend([energies[i]-energies[i+1] for i in range(len(energies)-1)])\n",
    "energy_loss = energy_loss[0::sampling]\n",
    "traj_x = np.copy(x[0::sampling,0])\n",
    "traj_z = np.copy(x[0::sampling,1])\n",
    "np_energy_loss = np.array(energy_loss)\n",
    "\n",
    "\n",
    "fig,ax = plt.subplots(figsize = (6,10))\n",
    "for i in range(len(detec.layers)):\n",
    "    plt.axhspan(detec.bound[i,0], detec.bound[i,1], facecolor=detec.layers[i].color, alpha=1)\n",
    "    if detec.bound[i,1]>traj_z[-1]:\n",
    "        break\n",
    "ax.scatter(traj_x, traj_z, s=400*np_energy_loss/(max(np_energy_loss)), c=energy_loss)\n",
    "plt.show()\n"
   ]
  }
 ],
 "metadata": {
  "kernelspec": {
   "display_name": "Python 3.9.13 ('TP4')",
   "language": "python",
   "name": "python3"
  },
  "language_info": {
   "codemirror_mode": {
    "name": "ipython",
    "version": 3
   },
   "file_extension": ".py",
   "mimetype": "text/x-python",
   "name": "python",
   "nbconvert_exporter": "python",
   "pygments_lexer": "ipython3",
   "version": "3.9.13"
  },
  "orig_nbformat": 4,
  "vscode": {
   "interpreter": {
    "hash": "1867fa988200979088d84bc4ce438c40759f9afa4e246357d770a8bf50c98f50"
   }
  }
 },
 "nbformat": 4,
 "nbformat_minor": 2
}
