{
 "cells": [
  {
   "cell_type": "code",
   "execution_count": 1,
   "metadata": {},
   "outputs": [],
   "source": [
    "import line_profiler\n",
    "import pandas as pd\n",
    "import uproot\n",
    "#import uproot3\n",
    "import numpy as np\n",
    "# import track_time_calibration as ttc\n",
    "from matplotlib import pyplot as plt\n",
    "import sys\n",
    "from tqdm import tqdm\n",
    "sys.path.insert(1, '/Users/lucahartman/Documents/EPFL/MA1/project/ecal_reco/tracking/')\n",
    "from track import Track\n",
    "from track3D import Track3D\n",
    "from hit import Hit\n"
   ]
  },
  {
   "cell_type": "code",
   "execution_count": 2,
   "metadata": {},
   "outputs": [],
   "source": [
    "file_path = '/Users/lucahartman/Documents/EPFL/MA1/project/10h/data_0000.root' ## later, one can use concatenation of data_0001.root - data_0008.root files as well. One is enough for testing\n",
    "\n",
    "hits_tree = 'board_57'\n",
    "evt_tree = 'event'\n",
    "# br_list_data = ['n_hits', 'tofpet_id', 'tofpet_channel', 'timestamp']#, 't_coarse', 't_fine', 'timestamp', 'v_coarse', 'v_fine', 'value', 'timestamp_cal_chi2', 'timestamp_cal_dof', 'value_cal_chi2', 'value_cal_dof', 'value_saturation']\n",
    "br_list_data = ['n_hits', 'tofpet_id', 'tofpet_channel', 'timestamp', 't_coarse', 't_fine', 'timestamp', 'v_coarse', 'v_fine', 'value']\n",
    "br_list_evt = ['timestamp', 'evt_number', 'flags']\n",
    "with uproot.open(file_path) as tree:\n",
    "    hits_dict = tree[hits_tree].arrays(br_list_data, library=\"np\")\n",
    "    evts_dict = tree[evt_tree].arrays(br_list_evt, library=\"np\")\n",
    "    \n",
    "# df_hits = pd.DataFrame.from_dict(hits_dict).query('n_hits > 3')\n",
    "df_hits = pd.DataFrame.from_dict(hits_dict)\n",
    "df_evts = pd.DataFrame.from_dict(evts_dict)\n",
    "df_hits['timestamp_event'] = df_evts['timestamp']\n",
    "df_hits.query('n_hits > 6', inplace=True)\n"
   ]
  },
  {
   "cell_type": "code",
   "execution_count": 3,
   "metadata": {},
   "outputs": [],
   "source": [
    "## This function provide the parameters x0 (or y0 depending on which hits we provide) and tx the angle of the trac\n",
    "def create_tracks(df, plot = False):\n",
    "    tracks = []\n",
    "    nb_events = len(df['n_hits'])\n",
    "    steps = 9\n",
    "    buff_start = None\n",
    "    buff_evt_idx = None\n",
    "    dts = []\n",
    "    for index, row in tqdm(df.iterrows(), total = df.shape[0]):\n",
    "        channels = row['tofpet_channel']\n",
    "        tofpet_id = row['tofpet_id']\n",
    "        hits = [Hit(row,i) for i in range(row['n_hits'])]\n",
    "        hitsX = [h for h in hits if h.is_sidex]\n",
    "        hitsY = [h for h in hits if not h.is_sidex]\n",
    "        \n",
    "        ## Some events don't have three hits on one of the two sides and are thus not considered\n",
    "        if len(hitsX) > 3 and len(hitsY) > 3:\n",
    "            # get track parameters\n",
    "            track = Track3D(hits)\n",
    "            tracks.append(track)\n",
    "\n",
    "            ## check if track has a \"good\" chi2 value\n",
    "            if track.is_good_2D_fit():\n",
    "                # worth making a precise track\n",
    "                track.precise_track()\n",
    "                \n",
    "                ## compute the time of the track\n",
    "                dt = track.get_time_interval()\n",
    "                if dt is not None:\n",
    "                    dts.append(dt)\n",
    "\n",
    "\n",
    "    return tracks, dts\n",
    "    "
   ]
  },
  {
   "cell_type": "code",
   "execution_count": 6,
   "metadata": {},
   "outputs": [
    {
     "name": "stderr",
     "output_type": "stream",
     "text": [
      "100%|██████████| 10000/10000 [02:45<00:00, 60.59it/s]\n"
     ]
    }
   ],
   "source": [
    "tracks, dts = create_tracks(df_hits.head(10000))\n",
    "chi_squares = [track.reduced_chi2() for track in tracks if track.reduced_chi2() is not None]\n",
    "# %reload_ext line_profiler\n",
    "# %lprun -f Track.find_track create_tracks(df_hits.iloc[56:60])"
   ]
  },
  {
   "cell_type": "code",
   "execution_count": 8,
   "metadata": {},
   "outputs": [
    {
     "data": {
      "text/plain": [
       "Text(0, 0.5, 'counts')"
      ]
     },
     "execution_count": 8,
     "metadata": {},
     "output_type": "execute_result"
    },
    {
     "data": {
      "image/png": "[encoded data removed]",
      "text/plain": [
       "<Figure size 640x480 with 1 Axes>"
      ]
     },
     "metadata": {},
     "output_type": "display_data"
    },
    {
     "data": {
      "image/png": "[encoded data removed]",
      "text/plain": [
       "<Figure size 640x480 with 1 Axes>"
      ]
     },
     "metadata": {},
     "output_type": "display_data"
    }
   ],
   "source": [
    "plt.figure()\n",
    "plt.title('lifetime, {} events'.format(len(dts)))\n",
    "plt.hist(np.array(dts)*6.25, bins = 20)\n",
    "# plt.yscale('log')\n",
    "plt.xlabel('$t$ [ns]')\n",
    "plt.ylabel('counts')\n",
    "\n",
    "plt.figure()\n",
    "plt.title('reduced chi square')\n",
    "plt.hist(chi_squares, bins = 50, range = [0, 50])\n",
    "plt.axvline(x = 5 * 3.841, ymin = 0.0, ymax = 1.0, color = 'r')\n",
    "plt.xlabel('$\\chi^2_{\\mathrm{red}}$')\n",
    "plt.ylabel('counts')"
   ]
  },
  {
   "cell_type": "code",
   "execution_count": null,
   "metadata": {},
   "outputs": [],
   "source": []
  }
 ],
 "metadata": {
  "kernelspec": {
   "display_name": "Python 3.9.13 ('TP4')",
   "language": "python",
   "name": "python3"
  },
  "language_info": {
   "codemirror_mode": {
    "name": "ipython",
    "version": 3
   },
   "file_extension": ".py",
   "mimetype": "text/x-python",
   "name": "python",
   "nbconvert_exporter": "python",
   "pygments_lexer": "ipython3",
   "version": "3.9.13"
  },
  "orig_nbformat": 4,
  "vscode": {
   "interpreter": {
    "hash": "c2fc402571b1c8980a8aa9602e4118b4eb726b15e7f70fdcdd8fa6c317436536"
   }
  }
 },
 "nbformat": 4,
 "nbformat_minor": 2
}
