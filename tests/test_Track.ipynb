{
 "cells": [
  {
   "cell_type": "code",
   "execution_count": 1,
   "metadata": {},
   "outputs": [],
   "source": [
    "import line_profiler\n",
    "import pandas as pd\n",
    "import uproot\n",
    "#import uproot3\n",
    "import numpy as np\n",
    "# import track_time_calibration as ttc\n",
    "from matplotlib import pyplot as plt\n",
    "import sys\n",
    "from tqdm import tqdm\n",
    "sys.path.insert(1, '/Users/lucahartman/Documents/EPFL/MA1/project/ecal_reco/tracking/')\n",
    "import track_reconstruction as tr\n",
    "from track import Track\n",
    "from hit import Hit\n"
   ]
  },
  {
   "cell_type": "code",
   "execution_count": 30,
   "metadata": {},
   "outputs": [
    {
     "ename": "KeyInFileError",
     "evalue": "not found: 'timestamp_event'\nin file /Users/lucahartman/Documents/EPFL/MA1/project/10h/data_0000.root\nin object /board_57;1",
     "output_type": "error",
     "traceback": [
      "\u001b[0;31m---------------------------------------------------------------------------\u001b[0m",
      "\u001b[0;31mKeyError\u001b[0m                                  Traceback (most recent call last)",
      "File \u001b[0;32m~/opt/anaconda3/envs/TP4/lib/python3.9/site-packages/uproot/language/python.py:378\u001b[0m, in \u001b[0;36mPythonLanguage.free_symbols\u001b[0;34m(self, expression, keys, aliases, file_path, object_path)\u001b[0m\n\u001b[1;32m    377\u001b[0m \u001b[39mtry\u001b[39;00m:\n\u001b[0;32m--> 378\u001b[0m     \u001b[39mreturn\u001b[39;00m \u001b[39mlist\u001b[39;49m(\n\u001b[1;32m    379\u001b[0m         _walk_ast_yield_symbols(\n\u001b[1;32m    380\u001b[0m             node, keys, aliases, \u001b[39mself\u001b[39;49m\u001b[39m.\u001b[39;49m_functions, \u001b[39mself\u001b[39;49m\u001b[39m.\u001b[39;49m_getter\n\u001b[1;32m    381\u001b[0m         )\n\u001b[1;32m    382\u001b[0m     )\n\u001b[1;32m    383\u001b[0m \u001b[39mexcept\u001b[39;00m \u001b[39mKeyError\u001b[39;00m \u001b[39mas\u001b[39;00m err:\n",
      "File \u001b[0;32m~/opt/anaconda3/envs/TP4/lib/python3.9/site-packages/uproot/language/python.py:90\u001b[0m, in \u001b[0;36m_walk_ast_yield_symbols\u001b[0;34m(node, keys, aliases, functions, getter)\u001b[0m\n\u001b[1;32m     89\u001b[0m         x \u001b[39m=\u001b[39m \u001b[39mgetattr\u001b[39m(node, field_name)\n\u001b[0;32m---> 90\u001b[0m         \u001b[39myield from\u001b[39;00m _walk_ast_yield_symbols(x, keys, aliases, functions, getter)\n\u001b[1;32m     92\u001b[0m \u001b[39melif\u001b[39;00m \u001b[39misinstance\u001b[39m(node, \u001b[39mlist\u001b[39m):\n",
      "File \u001b[0;32m~/opt/anaconda3/envs/TP4/lib/python3.9/site-packages/uproot/language/python.py:94\u001b[0m, in \u001b[0;36m_walk_ast_yield_symbols\u001b[0;34m(node, keys, aliases, functions, getter)\u001b[0m\n\u001b[1;32m     93\u001b[0m     \u001b[39mfor\u001b[39;00m x \u001b[39min\u001b[39;00m node:\n\u001b[0;32m---> 94\u001b[0m         \u001b[39myield from\u001b[39;00m _walk_ast_yield_symbols(x, keys, aliases, functions, getter)\n\u001b[1;32m     96\u001b[0m \u001b[39melse\u001b[39;00m:\n",
      "File \u001b[0;32m~/opt/anaconda3/envs/TP4/lib/python3.9/site-packages/uproot/language/python.py:90\u001b[0m, in \u001b[0;36m_walk_ast_yield_symbols\u001b[0;34m(node, keys, aliases, functions, getter)\u001b[0m\n\u001b[1;32m     89\u001b[0m         x \u001b[39m=\u001b[39m \u001b[39mgetattr\u001b[39m(node, field_name)\n\u001b[0;32m---> 90\u001b[0m         \u001b[39myield from\u001b[39;00m _walk_ast_yield_symbols(x, keys, aliases, functions, getter)\n\u001b[1;32m     92\u001b[0m \u001b[39melif\u001b[39;00m \u001b[39misinstance\u001b[39m(node, \u001b[39mlist\u001b[39m):\n",
      "File \u001b[0;32m~/opt/anaconda3/envs/TP4/lib/python3.9/site-packages/uproot/language/python.py:73\u001b[0m, in \u001b[0;36m_walk_ast_yield_symbols\u001b[0;34m(node, keys, aliases, functions, getter)\u001b[0m\n\u001b[1;32m     72\u001b[0m     \u001b[39melse\u001b[39;00m:\n\u001b[0;32m---> 73\u001b[0m         \u001b[39mraise\u001b[39;00m \u001b[39mKeyError\u001b[39;00m(node\u001b[39m.\u001b[39mid)\n\u001b[1;32m     75\u001b[0m \u001b[39melif\u001b[39;00m \u001b[39misinstance\u001b[39m(node, ast\u001b[39m.\u001b[39mAttribute):\n",
      "\u001b[0;31mKeyError\u001b[0m: 'timestamp_event'",
      "\nDuring handling of the above exception, another exception occurred:\n",
      "\u001b[0;31mKeyInFileError\u001b[0m                            Traceback (most recent call last)",
      "\u001b[1;32m/Users/lucahartman/Documents/EPFL/MA1/project/ecal_reco/tests/.ipynb_checkpoints/test_Track.ipynb Cell 2\u001b[0m in \u001b[0;36m<cell line: 8>\u001b[0;34m()\u001b[0m\n\u001b[1;32m      <a href='vscode-notebook-cell:/Users/lucahartman/Documents/EPFL/MA1/project/ecal_reco/tests/.ipynb_checkpoints/test_Track.ipynb#W1sZmlsZQ%3D%3D?line=6'>7</a>\u001b[0m br_list_evt \u001b[39m=\u001b[39m [\u001b[39m'\u001b[39m\u001b[39mtimestamp\u001b[39m\u001b[39m'\u001b[39m, \u001b[39m'\u001b[39m\u001b[39mevt_number\u001b[39m\u001b[39m'\u001b[39m, \u001b[39m'\u001b[39m\u001b[39mflags\u001b[39m\u001b[39m'\u001b[39m]\n\u001b[1;32m      <a href='vscode-notebook-cell:/Users/lucahartman/Documents/EPFL/MA1/project/ecal_reco/tests/.ipynb_checkpoints/test_Track.ipynb#W1sZmlsZQ%3D%3D?line=7'>8</a>\u001b[0m \u001b[39mwith\u001b[39;00m uproot\u001b[39m.\u001b[39mopen(file_path) \u001b[39mas\u001b[39;00m tree:\n\u001b[0;32m----> <a href='vscode-notebook-cell:/Users/lucahartman/Documents/EPFL/MA1/project/ecal_reco/tests/.ipynb_checkpoints/test_Track.ipynb#W1sZmlsZQ%3D%3D?line=8'>9</a>\u001b[0m     hits_dict \u001b[39m=\u001b[39m tree[hits_tree]\u001b[39m.\u001b[39;49marrays(br_list_data, library\u001b[39m=\u001b[39;49m\u001b[39m\"\u001b[39;49m\u001b[39mnp\u001b[39;49m\u001b[39m\"\u001b[39;49m)\n\u001b[1;32m     <a href='vscode-notebook-cell:/Users/lucahartman/Documents/EPFL/MA1/project/ecal_reco/tests/.ipynb_checkpoints/test_Track.ipynb#W1sZmlsZQ%3D%3D?line=9'>10</a>\u001b[0m     evts_dict \u001b[39m=\u001b[39m tree[evt_tree]\u001b[39m.\u001b[39marrays(br_list_evt, library\u001b[39m=\u001b[39m\u001b[39m\"\u001b[39m\u001b[39mnp\u001b[39m\u001b[39m\"\u001b[39m)\n\u001b[1;32m     <a href='vscode-notebook-cell:/Users/lucahartman/Documents/EPFL/MA1/project/ecal_reco/tests/.ipynb_checkpoints/test_Track.ipynb#W1sZmlsZQ%3D%3D?line=11'>12</a>\u001b[0m \u001b[39m# df_hits = pd.DataFrame.from_dict(hits_dict).query('n_hits > 3')\u001b[39;00m\n",
      "File \u001b[0;32m~/opt/anaconda3/envs/TP4/lib/python3.9/site-packages/uproot/behaviors/TBranch.py:1232\u001b[0m, in \u001b[0;36mHasBranches.arrays\u001b[0;34m(self, expressions, cut, filter_name, filter_typename, filter_branch, aliases, language, entry_start, entry_stop, decompression_executor, interpretation_executor, array_cache, library, how)\u001b[0m\n\u001b[1;32m   1229\u001b[0m         \u001b[39mreturn\u001b[39;00m \u001b[39mNone\u001b[39;00m\n\u001b[1;32m   1231\u001b[0m aliases \u001b[39m=\u001b[39m _regularize_aliases(\u001b[39mself\u001b[39m, aliases)\n\u001b[0;32m-> 1232\u001b[0m arrays, expression_context, branchid_interpretation \u001b[39m=\u001b[39m _regularize_expressions(\n\u001b[1;32m   1233\u001b[0m     \u001b[39mself\u001b[39;49m,\n\u001b[1;32m   1234\u001b[0m     expressions,\n\u001b[1;32m   1235\u001b[0m     cut,\n\u001b[1;32m   1236\u001b[0m     filter_name,\n\u001b[1;32m   1237\u001b[0m     filter_typename,\n\u001b[1;32m   1238\u001b[0m     filter_branch,\n\u001b[1;32m   1239\u001b[0m     keys,\n\u001b[1;32m   1240\u001b[0m     aliases,\n\u001b[1;32m   1241\u001b[0m     language,\n\u001b[1;32m   1242\u001b[0m     get_from_cache,\n\u001b[1;32m   1243\u001b[0m )\n\u001b[1;32m   1245\u001b[0m ranges_or_baskets \u001b[39m=\u001b[39m []\n\u001b[1;32m   1246\u001b[0m checked \u001b[39m=\u001b[39m \u001b[39mset\u001b[39m()\n",
      "File \u001b[0;32m~/opt/anaconda3/envs/TP4/lib/python3.9/site-packages/uproot/behaviors/TBranch.py:3301\u001b[0m, in \u001b[0;36m_regularize_expressions\u001b[0;34m(hasbranches, expressions, cut, filter_name, filter_typename, filter_branch, keys, aliases, language, get_from_cache)\u001b[0m\n\u001b[1;32m   3299\u001b[0m \u001b[39mfor\u001b[39;00m expression, interp \u001b[39min\u001b[39;00m items:\n\u001b[1;32m   3300\u001b[0m     \u001b[39mif\u001b[39;00m interp \u001b[39mis\u001b[39;00m \u001b[39mNone\u001b[39;00m:\n\u001b[0;32m-> 3301\u001b[0m         _regularize_expression(\n\u001b[1;32m   3302\u001b[0m             hasbranches,\n\u001b[1;32m   3303\u001b[0m             expression,\n\u001b[1;32m   3304\u001b[0m             keys,\n\u001b[1;32m   3305\u001b[0m             aliases,\n\u001b[1;32m   3306\u001b[0m             language,\n\u001b[1;32m   3307\u001b[0m             get_from_cache,\n\u001b[1;32m   3308\u001b[0m             arrays,\n\u001b[1;32m   3309\u001b[0m             expression_context,\n\u001b[1;32m   3310\u001b[0m             branchid_interpretation,\n\u001b[1;32m   3311\u001b[0m             (),\n\u001b[1;32m   3312\u001b[0m             \u001b[39mFalse\u001b[39;49;00m,\n\u001b[1;32m   3313\u001b[0m             \u001b[39mNone\u001b[39;49;00m,\n\u001b[1;32m   3314\u001b[0m         )\n\u001b[1;32m   3315\u001b[0m     \u001b[39melse\u001b[39;00m:\n\u001b[1;32m   3316\u001b[0m         branch \u001b[39m=\u001b[39m hasbranches[expression]\n",
      "File \u001b[0;32m~/opt/anaconda3/envs/TP4/lib/python3.9/site-packages/uproot/behaviors/TBranch.py:3169\u001b[0m, in \u001b[0;36m_regularize_expression\u001b[0;34m(hasbranches, expression, keys, aliases, language, get_from_cache, arrays, expression_context, branchid_interpretation, symbol_path, is_cut, rename)\u001b[0m\n\u001b[1;32m   3167\u001b[0m is_jagged \u001b[39m=\u001b[39m \u001b[39mFalse\u001b[39;00m\n\u001b[1;32m   3168\u001b[0m expression_branches \u001b[39m=\u001b[39m []\n\u001b[0;32m-> 3169\u001b[0m \u001b[39mfor\u001b[39;00m symbol \u001b[39min\u001b[39;00m language\u001b[39m.\u001b[39;49mfree_symbols(\n\u001b[1;32m   3170\u001b[0m     to_compute,\n\u001b[1;32m   3171\u001b[0m     keys,\n\u001b[1;32m   3172\u001b[0m     aliases,\n\u001b[1;32m   3173\u001b[0m     hasbranches\u001b[39m.\u001b[39;49mfile\u001b[39m.\u001b[39;49mfile_path,\n\u001b[1;32m   3174\u001b[0m     hasbranches\u001b[39m.\u001b[39;49mobject_path,\n\u001b[1;32m   3175\u001b[0m ):\n\u001b[1;32m   3176\u001b[0m     \u001b[39mif\u001b[39;00m symbol \u001b[39min\u001b[39;00m symbol_path:\n\u001b[1;32m   3177\u001b[0m         \u001b[39mraise\u001b[39;00m \u001b[39mValueError\u001b[39;00m(\n\u001b[1;32m   3178\u001b[0m             \u001b[39m\"\"\"symbol {} is recursively defined with aliases:\u001b[39;00m\n\u001b[1;32m   3179\u001b[0m \n\u001b[0;32m   (...)\u001b[0m\n\u001b[1;32m   3187\u001b[0m             )\n\u001b[1;32m   3188\u001b[0m         )\n",
      "File \u001b[0;32m~/opt/anaconda3/envs/TP4/lib/python3.9/site-packages/uproot/language/python.py:384\u001b[0m, in \u001b[0;36mPythonLanguage.free_symbols\u001b[0;34m(self, expression, keys, aliases, file_path, object_path)\u001b[0m\n\u001b[1;32m    378\u001b[0m     \u001b[39mreturn\u001b[39;00m \u001b[39mlist\u001b[39m(\n\u001b[1;32m    379\u001b[0m         _walk_ast_yield_symbols(\n\u001b[1;32m    380\u001b[0m             node, keys, aliases, \u001b[39mself\u001b[39m\u001b[39m.\u001b[39m_functions, \u001b[39mself\u001b[39m\u001b[39m.\u001b[39m_getter\n\u001b[1;32m    381\u001b[0m         )\n\u001b[1;32m    382\u001b[0m     )\n\u001b[1;32m    383\u001b[0m \u001b[39mexcept\u001b[39;00m \u001b[39mKeyError\u001b[39;00m \u001b[39mas\u001b[39;00m err:\n\u001b[0;32m--> 384\u001b[0m     \u001b[39mraise\u001b[39;00m uproot\u001b[39m.\u001b[39mKeyInFileError(\n\u001b[1;32m    385\u001b[0m         err\u001b[39m.\u001b[39margs[\u001b[39m0\u001b[39m], file_path\u001b[39m=\u001b[39mfile_path, object_path\u001b[39m=\u001b[39mobject_path\n\u001b[1;32m    386\u001b[0m     )\n",
      "\u001b[0;31mKeyInFileError\u001b[0m: not found: 'timestamp_event'\nin file /Users/lucahartman/Documents/EPFL/MA1/project/10h/data_0000.root\nin object /board_57;1"
     ]
    }
   ],
   "source": [
    "file_path = '/Users/lucahartman/Documents/EPFL/MA1/project/10h/data_0000.root' ## later, one can use concatenation of data_0001.root - data_0008.root files as well. One is enough for testing\n",
    "\n",
    "hits_tree = 'board_57'\n",
    "evt_tree = 'event'\n",
    "# br_list_data = ['n_hits', 'tofpet_id', 'tofpet_channel', 'timestamp']#, 't_coarse', 't_fine', 'timestamp', 'v_coarse', 'v_fine', 'value', 'timestamp_cal_chi2', 'timestamp_cal_dof', 'value_cal_chi2', 'value_cal_dof', 'value_saturation']\n",
    "br_list_data = ['n_hits', 'tofpet_id', 'tofpet_channel', 'timestamp', 't_coarse', 't_fine', 'timestamp', 'v_coarse', 'v_fine', 'value']\n",
    "br_list_evt = ['timestamp', 'evt_number', 'flags']\n",
    "with uproot.open(file_path) as tree:\n",
    "    hits_dict = tree[hits_tree].arrays(br_list_data, library=\"np\")\n",
    "    evts_dict = tree[evt_tree].arrays(br_list_evt, library=\"np\")\n",
    "    \n",
    "# df_hits = pd.DataFrame.from_dict(hits_dict).query('n_hits > 3')\n",
    "df_hits = pd.DataFrame.from_dict(hits_dict)\n",
    "df_evts = pd.DataFrame.from_dict(evts_dict)\n"
   ]
  },
  {
   "cell_type": "code",
   "execution_count": 3,
   "metadata": {},
   "outputs": [],
   "source": [
    "df_hits['timestamp_global'] = df_evts['timestamp']\n",
    "df_hits.query('n_hits > 2', inplace=True)"
   ]
  },
  {
   "cell_type": "code",
   "execution_count": 4,
   "metadata": {},
   "outputs": [],
   "source": [
    "def dr(hit_ref, hits):\n",
    "    ## eval array of vectors connecting all hits with ref hit\n",
    "    dr = hits - hit_ref\n",
    "\n",
    "    # dr_u =  np.abs(dr[:,1])\n",
    "    # dr_d =  np.abs(dr[:,0])\n",
    "    ## projections\n",
    "    dr_u =  dr[:,1]\n",
    "    dr_d =  dr[:,0]\n",
    "    ## eval module\n",
    "    dr_mod =  np.sqrt(dr_u*dr_u + dr_d*dr_d)\n",
    "    return dr_mod"
   ]
  },
  {
   "cell_type": "code",
   "execution_count": 28,
   "metadata": {},
   "outputs": [],
   "source": [
    "## This function provide the parameters x0 (or y0 depending on which hits we provide) and tx the angle of the trac\n",
    "def create_tracks(df, plot = False):\n",
    "    tracks = []\n",
    "    nb_events = len(df['n_hits'])\n",
    "    steps = 9\n",
    "    buff_start = None\n",
    "    buff_evt_idx = None\n",
    "    dts_x = []\n",
    "    dts_y = []\n",
    "    for index, row in tqdm(df.iterrows(), total = df.shape[0]):\n",
    "        channels = row['tofpet_channel']\n",
    "        tofpet_id = row['tofpet_id']\n",
    "        hitsX = [Hit(row, i) for i in range(row['n_hits']) if tr.is_sidex(row['tofpet_id'][i])]\n",
    "        hitsY = [Hit(row, i) for i in range(row['n_hits']) if not tr.is_sidex(row['tofpet_id'][i])]\n",
    "        index_x = [i for i in range(len(channels)) if tr.is_sidex(tofpet_id[i])]  # index we need for the time calibration\n",
    "        index_y = [i for i in range(len(channels)) if not tr.is_sidex(tofpet_id[i])]# index we need for the time calibration\n",
    "        \n",
    "        ## Some events don't have hits on one of the two sides and are thus not considered\n",
    "        if len(hitsX)>1 and len(hitsY)>1:\n",
    "            # get track parameters\n",
    "            # x0, tx, hits_index_x = tracks2([hit.coord for hit in hitsX], plot)\n",
    "            # y0, ty, hits_index_y = tracks2([hit.coord for hit in hitsY], plot)\n",
    "            # create Track objects\n",
    "            # track_x = Track(hitsX, x0, tx, hits_index_x)\n",
    "            # track_y = Track(hitsY, y0, ty, hits_index_y)\n",
    "            track_x = Track(hitsX)\n",
    "            track_y = Track(hitsY)\n",
    "\n",
    "            ## check if track has a \"good\" chi2 value\n",
    "            if track_x.is_good_fit() and track_y.is_good_fit():\n",
    "                # worth making a precise track\n",
    "                track_x.precise_track()\n",
    "                track_y.precise_track()\n",
    "                ## calculate the mean time of the track\n",
    "                track_2D_timestamps = np.concatenate([track_x.get_timestamps(), track_y.get_timestamps()])\n",
    "                track_mean_time = np.mean(track_2D_timestamps)\n",
    "                \n",
    "                ## compute the time of the track\n",
    "                dt_x = track_x.get_time_interval()\n",
    "                dt_y = track_y.get_time_interval()\n",
    "                if dt_x is not None:\n",
    "                    dts_x.append(dt_x)\n",
    "                if dt_y is not None:\n",
    "                    dts_y.append(dt_y)\n",
    "\n",
    "    return tracks, dts_x, dts_y\n",
    "    "
   ]
  },
  {
   "cell_type": "code",
   "execution_count": 29,
   "metadata": {},
   "outputs": [
    {
     "name": "stderr",
     "output_type": "stream",
     "text": [
      "  0%|          | 0/10 [00:00<?, ?it/s]\n"
     ]
    },
    {
     "ename": "KeyError",
     "evalue": "'timestamp_event'",
     "output_type": "error",
     "traceback": [
      "\u001b[0;31m---------------------------------------------------------------------------\u001b[0m",
      "\u001b[0;31mKeyError\u001b[0m                                  Traceback (most recent call last)",
      "File \u001b[0;32m~/opt/anaconda3/envs/TP4/lib/python3.9/site-packages/pandas/core/indexes/base.py:3629\u001b[0m, in \u001b[0;36mIndex.get_loc\u001b[0;34m(self, key, method, tolerance)\u001b[0m\n\u001b[1;32m   3628\u001b[0m \u001b[39mtry\u001b[39;00m:\n\u001b[0;32m-> 3629\u001b[0m     \u001b[39mreturn\u001b[39;00m \u001b[39mself\u001b[39;49m\u001b[39m.\u001b[39;49m_engine\u001b[39m.\u001b[39;49mget_loc(casted_key)\n\u001b[1;32m   3630\u001b[0m \u001b[39mexcept\u001b[39;00m \u001b[39mKeyError\u001b[39;00m \u001b[39mas\u001b[39;00m err:\n",
      "File \u001b[0;32m~/opt/anaconda3/envs/TP4/lib/python3.9/site-packages/pandas/_libs/index.pyx:136\u001b[0m, in \u001b[0;36mpandas._libs.index.IndexEngine.get_loc\u001b[0;34m()\u001b[0m\n",
      "File \u001b[0;32m~/opt/anaconda3/envs/TP4/lib/python3.9/site-packages/pandas/_libs/index.pyx:163\u001b[0m, in \u001b[0;36mpandas._libs.index.IndexEngine.get_loc\u001b[0;34m()\u001b[0m\n",
      "File \u001b[0;32mpandas/_libs/hashtable_class_helper.pxi:5198\u001b[0m, in \u001b[0;36mpandas._libs.hashtable.PyObjectHashTable.get_item\u001b[0;34m()\u001b[0m\n",
      "File \u001b[0;32mpandas/_libs/hashtable_class_helper.pxi:5206\u001b[0m, in \u001b[0;36mpandas._libs.hashtable.PyObjectHashTable.get_item\u001b[0;34m()\u001b[0m\n",
      "\u001b[0;31mKeyError\u001b[0m: 'timestamp_event'",
      "\nThe above exception was the direct cause of the following exception:\n",
      "\u001b[0;31mKeyError\u001b[0m                                  Traceback (most recent call last)",
      "\u001b[1;32m/Users/lucahartman/Documents/EPFL/MA1/project/ecal_reco/tests/.ipynb_checkpoints/test_Track.ipynb Cell 6\u001b[0m in \u001b[0;36m<cell line: 1>\u001b[0;34m()\u001b[0m\n\u001b[0;32m----> <a href='vscode-notebook-cell:/Users/lucahartman/Documents/EPFL/MA1/project/ecal_reco/tests/.ipynb_checkpoints/test_Track.ipynb#W6sZmlsZQ%3D%3D?line=0'>1</a>\u001b[0m tracks, dts_x, dts_y \u001b[39m=\u001b[39m create_tracks(df_hits\u001b[39m.\u001b[39;49mhead(\u001b[39m10\u001b[39;49m))\n",
      "\u001b[1;32m/Users/lucahartman/Documents/EPFL/MA1/project/ecal_reco/tests/.ipynb_checkpoints/test_Track.ipynb Cell 6\u001b[0m in \u001b[0;36mcreate_tracks\u001b[0;34m(df, plot)\u001b[0m\n\u001b[1;32m     <a href='vscode-notebook-cell:/Users/lucahartman/Documents/EPFL/MA1/project/ecal_reco/tests/.ipynb_checkpoints/test_Track.ipynb#W6sZmlsZQ%3D%3D?line=10'>11</a>\u001b[0m channels \u001b[39m=\u001b[39m row[\u001b[39m'\u001b[39m\u001b[39mtofpet_channel\u001b[39m\u001b[39m'\u001b[39m]\n\u001b[1;32m     <a href='vscode-notebook-cell:/Users/lucahartman/Documents/EPFL/MA1/project/ecal_reco/tests/.ipynb_checkpoints/test_Track.ipynb#W6sZmlsZQ%3D%3D?line=11'>12</a>\u001b[0m tofpet_id \u001b[39m=\u001b[39m row[\u001b[39m'\u001b[39m\u001b[39mtofpet_id\u001b[39m\u001b[39m'\u001b[39m]\n\u001b[0;32m---> <a href='vscode-notebook-cell:/Users/lucahartman/Documents/EPFL/MA1/project/ecal_reco/tests/.ipynb_checkpoints/test_Track.ipynb#W6sZmlsZQ%3D%3D?line=12'>13</a>\u001b[0m hitsX \u001b[39m=\u001b[39m [Hit(row, i) \u001b[39mfor\u001b[39;00m i \u001b[39min\u001b[39;00m \u001b[39mrange\u001b[39m(row[\u001b[39m'\u001b[39m\u001b[39mn_hits\u001b[39m\u001b[39m'\u001b[39m]) \u001b[39mif\u001b[39;00m tr\u001b[39m.\u001b[39mis_sidex(row[\u001b[39m'\u001b[39m\u001b[39mtofpet_id\u001b[39m\u001b[39m'\u001b[39m][i])]\n\u001b[1;32m     <a href='vscode-notebook-cell:/Users/lucahartman/Documents/EPFL/MA1/project/ecal_reco/tests/.ipynb_checkpoints/test_Track.ipynb#W6sZmlsZQ%3D%3D?line=13'>14</a>\u001b[0m hitsY \u001b[39m=\u001b[39m [Hit(row, i) \u001b[39mfor\u001b[39;00m i \u001b[39min\u001b[39;00m \u001b[39mrange\u001b[39m(row[\u001b[39m'\u001b[39m\u001b[39mn_hits\u001b[39m\u001b[39m'\u001b[39m]) \u001b[39mif\u001b[39;00m \u001b[39mnot\u001b[39;00m tr\u001b[39m.\u001b[39mis_sidex(row[\u001b[39m'\u001b[39m\u001b[39mtofpet_id\u001b[39m\u001b[39m'\u001b[39m][i])]\n\u001b[1;32m     <a href='vscode-notebook-cell:/Users/lucahartman/Documents/EPFL/MA1/project/ecal_reco/tests/.ipynb_checkpoints/test_Track.ipynb#W6sZmlsZQ%3D%3D?line=14'>15</a>\u001b[0m index_x \u001b[39m=\u001b[39m [i \u001b[39mfor\u001b[39;00m i \u001b[39min\u001b[39;00m \u001b[39mrange\u001b[39m(\u001b[39mlen\u001b[39m(channels)) \u001b[39mif\u001b[39;00m tr\u001b[39m.\u001b[39mis_sidex(tofpet_id[i])]  \u001b[39m# index we need for the time calibration\u001b[39;00m\n",
      "\u001b[1;32m/Users/lucahartman/Documents/EPFL/MA1/project/ecal_reco/tests/.ipynb_checkpoints/test_Track.ipynb Cell 6\u001b[0m in \u001b[0;36m<listcomp>\u001b[0;34m(.0)\u001b[0m\n\u001b[1;32m     <a href='vscode-notebook-cell:/Users/lucahartman/Documents/EPFL/MA1/project/ecal_reco/tests/.ipynb_checkpoints/test_Track.ipynb#W6sZmlsZQ%3D%3D?line=10'>11</a>\u001b[0m channels \u001b[39m=\u001b[39m row[\u001b[39m'\u001b[39m\u001b[39mtofpet_channel\u001b[39m\u001b[39m'\u001b[39m]\n\u001b[1;32m     <a href='vscode-notebook-cell:/Users/lucahartman/Documents/EPFL/MA1/project/ecal_reco/tests/.ipynb_checkpoints/test_Track.ipynb#W6sZmlsZQ%3D%3D?line=11'>12</a>\u001b[0m tofpet_id \u001b[39m=\u001b[39m row[\u001b[39m'\u001b[39m\u001b[39mtofpet_id\u001b[39m\u001b[39m'\u001b[39m]\n\u001b[0;32m---> <a href='vscode-notebook-cell:/Users/lucahartman/Documents/EPFL/MA1/project/ecal_reco/tests/.ipynb_checkpoints/test_Track.ipynb#W6sZmlsZQ%3D%3D?line=12'>13</a>\u001b[0m hitsX \u001b[39m=\u001b[39m [Hit(row, i) \u001b[39mfor\u001b[39;00m i \u001b[39min\u001b[39;00m \u001b[39mrange\u001b[39m(row[\u001b[39m'\u001b[39m\u001b[39mn_hits\u001b[39m\u001b[39m'\u001b[39m]) \u001b[39mif\u001b[39;00m tr\u001b[39m.\u001b[39mis_sidex(row[\u001b[39m'\u001b[39m\u001b[39mtofpet_id\u001b[39m\u001b[39m'\u001b[39m][i])]\n\u001b[1;32m     <a href='vscode-notebook-cell:/Users/lucahartman/Documents/EPFL/MA1/project/ecal_reco/tests/.ipynb_checkpoints/test_Track.ipynb#W6sZmlsZQ%3D%3D?line=13'>14</a>\u001b[0m hitsY \u001b[39m=\u001b[39m [Hit(row, i) \u001b[39mfor\u001b[39;00m i \u001b[39min\u001b[39;00m \u001b[39mrange\u001b[39m(row[\u001b[39m'\u001b[39m\u001b[39mn_hits\u001b[39m\u001b[39m'\u001b[39m]) \u001b[39mif\u001b[39;00m \u001b[39mnot\u001b[39;00m tr\u001b[39m.\u001b[39mis_sidex(row[\u001b[39m'\u001b[39m\u001b[39mtofpet_id\u001b[39m\u001b[39m'\u001b[39m][i])]\n\u001b[1;32m     <a href='vscode-notebook-cell:/Users/lucahartman/Documents/EPFL/MA1/project/ecal_reco/tests/.ipynb_checkpoints/test_Track.ipynb#W6sZmlsZQ%3D%3D?line=14'>15</a>\u001b[0m index_x \u001b[39m=\u001b[39m [i \u001b[39mfor\u001b[39;00m i \u001b[39min\u001b[39;00m \u001b[39mrange\u001b[39m(\u001b[39mlen\u001b[39m(channels)) \u001b[39mif\u001b[39;00m tr\u001b[39m.\u001b[39mis_sidex(tofpet_id[i])]  \u001b[39m# index we need for the time calibration\u001b[39;00m\n",
      "File \u001b[0;32m~/Documents/EPFL/MA1/project/ecal_reco/tracking/hit.py:38\u001b[0m, in \u001b[0;36mHit.__init__\u001b[0;34m(self, *args)\u001b[0m\n\u001b[1;32m     36\u001b[0m         \u001b[39mself\u001b[39m\u001b[39m.\u001b[39mis_sidex \u001b[39m=\u001b[39m \u001b[39mFalse\u001b[39;00m\n\u001b[1;32m     37\u001b[0m     \u001b[39mself\u001b[39m\u001b[39m.\u001b[39mtimestamp \u001b[39m=\u001b[39m args[\u001b[39m0\u001b[39m][\u001b[39m'\u001b[39m\u001b[39mtimestamp\u001b[39m\u001b[39m'\u001b[39m][args[\u001b[39m1\u001b[39m]]\n\u001b[0;32m---> 38\u001b[0m     \u001b[39mself\u001b[39m\u001b[39m.\u001b[39mtimestamp_event \u001b[39m=\u001b[39m args[\u001b[39m0\u001b[39;49m][\u001b[39m'\u001b[39;49m\u001b[39mtimestamp_event\u001b[39;49m\u001b[39m'\u001b[39;49m]\n\u001b[1;32m     39\u001b[0m     \u001b[39mself\u001b[39m\u001b[39m.\u001b[39mvalue \u001b[39m=\u001b[39m args[\u001b[39m0\u001b[39m][\u001b[39m'\u001b[39m\u001b[39mvalue\u001b[39m\u001b[39m'\u001b[39m][args[\u001b[39m1\u001b[39m]]\n\u001b[1;32m     40\u001b[0m \u001b[39melif\u001b[39;00m \u001b[39mlen\u001b[39m(args) \u001b[39m==\u001b[39m \u001b[39m5\u001b[39m:\n",
      "File \u001b[0;32m~/opt/anaconda3/envs/TP4/lib/python3.9/site-packages/pandas/core/series.py:958\u001b[0m, in \u001b[0;36mSeries.__getitem__\u001b[0;34m(self, key)\u001b[0m\n\u001b[1;32m    955\u001b[0m     \u001b[39mreturn\u001b[39;00m \u001b[39mself\u001b[39m\u001b[39m.\u001b[39m_values[key]\n\u001b[1;32m    957\u001b[0m \u001b[39melif\u001b[39;00m key_is_scalar:\n\u001b[0;32m--> 958\u001b[0m     \u001b[39mreturn\u001b[39;00m \u001b[39mself\u001b[39;49m\u001b[39m.\u001b[39;49m_get_value(key)\n\u001b[1;32m    960\u001b[0m \u001b[39mif\u001b[39;00m is_hashable(key):\n\u001b[1;32m    961\u001b[0m     \u001b[39m# Otherwise index.get_value will raise InvalidIndexError\u001b[39;00m\n\u001b[1;32m    962\u001b[0m     \u001b[39mtry\u001b[39;00m:\n\u001b[1;32m    963\u001b[0m         \u001b[39m# For labels that don't resolve as scalars like tuples and frozensets\u001b[39;00m\n",
      "File \u001b[0;32m~/opt/anaconda3/envs/TP4/lib/python3.9/site-packages/pandas/core/series.py:1069\u001b[0m, in \u001b[0;36mSeries._get_value\u001b[0;34m(self, label, takeable)\u001b[0m\n\u001b[1;32m   1066\u001b[0m     \u001b[39mreturn\u001b[39;00m \u001b[39mself\u001b[39m\u001b[39m.\u001b[39m_values[label]\n\u001b[1;32m   1068\u001b[0m \u001b[39m# Similar to Index.get_value, but we do not fall back to positional\u001b[39;00m\n\u001b[0;32m-> 1069\u001b[0m loc \u001b[39m=\u001b[39m \u001b[39mself\u001b[39;49m\u001b[39m.\u001b[39;49mindex\u001b[39m.\u001b[39;49mget_loc(label)\n\u001b[1;32m   1070\u001b[0m \u001b[39mreturn\u001b[39;00m \u001b[39mself\u001b[39m\u001b[39m.\u001b[39mindex\u001b[39m.\u001b[39m_get_values_for_loc(\u001b[39mself\u001b[39m, loc, label)\n",
      "File \u001b[0;32m~/opt/anaconda3/envs/TP4/lib/python3.9/site-packages/pandas/core/indexes/base.py:3631\u001b[0m, in \u001b[0;36mIndex.get_loc\u001b[0;34m(self, key, method, tolerance)\u001b[0m\n\u001b[1;32m   3629\u001b[0m     \u001b[39mreturn\u001b[39;00m \u001b[39mself\u001b[39m\u001b[39m.\u001b[39m_engine\u001b[39m.\u001b[39mget_loc(casted_key)\n\u001b[1;32m   3630\u001b[0m \u001b[39mexcept\u001b[39;00m \u001b[39mKeyError\u001b[39;00m \u001b[39mas\u001b[39;00m err:\n\u001b[0;32m-> 3631\u001b[0m     \u001b[39mraise\u001b[39;00m \u001b[39mKeyError\u001b[39;00m(key) \u001b[39mfrom\u001b[39;00m \u001b[39merr\u001b[39;00m\n\u001b[1;32m   3632\u001b[0m \u001b[39mexcept\u001b[39;00m \u001b[39mTypeError\u001b[39;00m:\n\u001b[1;32m   3633\u001b[0m     \u001b[39m# If we have a listlike key, _check_indexing_error will raise\u001b[39;00m\n\u001b[1;32m   3634\u001b[0m     \u001b[39m#  InvalidIndexError. Otherwise we fall through and re-raise\u001b[39;00m\n\u001b[1;32m   3635\u001b[0m     \u001b[39m#  the TypeError.\u001b[39;00m\n\u001b[1;32m   3636\u001b[0m     \u001b[39mself\u001b[39m\u001b[39m.\u001b[39m_check_indexing_error(key)\n",
      "\u001b[0;31mKeyError\u001b[0m: 'timestamp_event'"
     ]
    }
   ],
   "source": [
    "tracks, dts_x, dts_y = create_tracks(df_hits.head(10))"
   ]
  },
  {
   "cell_type": "code",
   "execution_count": 26,
   "metadata": {},
   "outputs": [
    {
     "data": {
      "text/plain": [
       "<matplotlib.legend.Legend at 0x17c77c1f0>"
      ]
     },
     "execution_count": 26,
     "metadata": {},
     "output_type": "execute_result"
    },
    {
     "data": {
      "image/png": "[encoded data removed]",
      "text/plain": [
       "<Figure size 640x480 with 1 Axes>"
      ]
     },
     "metadata": {},
     "output_type": "display_data"
    }
   ],
   "source": [
    "plt.hist(np.array(dts_x)*6.25, bins = 20, label = '$x$, {} events'.format(len(dts_x)))\n",
    "plt.hist(np.array(dts_y)*6.25, bins = 20, label = '$y$, {} events'.format(len(dts_y)))\n",
    "plt.yscale('log')\n",
    "plt.xlabel('$t$ [ns]')\n",
    "plt.ylabel('counts')\n",
    "plt.legend()"
   ]
  },
  {
   "cell_type": "code",
   "execution_count": null,
   "metadata": {},
   "outputs": [],
   "source": []
  }
 ],
 "metadata": {
  "kernelspec": {
   "display_name": "Python 3.9.13 ('TP4')",
   "language": "python",
   "name": "python3"
  },
  "language_info": {
   "codemirror_mode": {
    "name": "ipython",
    "version": 3
   },
   "file_extension": ".py",
   "mimetype": "text/x-python",
   "name": "python",
   "nbconvert_exporter": "python",
   "pygments_lexer": "ipython3",
   "version": "3.9.13"
  },
  "orig_nbformat": 4,
  "vscode": {
   "interpreter": {
    "hash": "c2fc402571b1c8980a8aa9602e4118b4eb726b15e7f70fdcdd8fa6c317436536"
   }
  }
 },
 "nbformat": 4,
 "nbformat_minor": 2
}
