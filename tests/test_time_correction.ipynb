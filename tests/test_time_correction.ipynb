{
 "cells": [
  {
   "cell_type": "code",
   "execution_count": 1,
   "metadata": {},
   "outputs": [
    {
     "name": "stdout",
     "output_type": "stream",
     "text": [
      "selected 75.80% of all events\n"
     ]
    }
   ],
   "source": [
    "import pandas as pd\n",
    "import uproot\n",
    "#import uproot3\n",
    "import numpy as np\n",
    "# import track_time_calibration as ttc\n",
    "from matplotlib import pyplot as plt\n",
    "import math\n",
    "import sys\n",
    "import os \n",
    "import fnmatch\n",
    "sys.path.insert(1, r'C:\\Users\\eliot\\EPFL\\TP4_ECAL\\Code\\ecal_reco\\utils')\n",
    "sys.path.insert(1, r'C:\\Users\\eliot\\EPFL\\TP4_ECAL\\Code\\ecal_reco\\tracking')\n",
    "sys.path.insert(1, r'C:\\Users\\eliot\\EPFL\\TP4_ECAL\\Code\\ecal_reco\\time_alignement')\n",
    "sys.path.insert(1, r'C:\\Users\\eliot\\EPFL\\TP4_ECAL\\Code\\ecal_reco\\muon_decay')\n",
    "from track import Track\n",
    "from track3D import Track3D\n",
    "from hit import Hit\n",
    "from data_loading import *\n",
    "from parameters import *\n",
    "from tqdm import tqdm\n",
    "from track_reconstruction import *\n",
    "from physics import dist_line_rect\n",
    "import pickle\n",
    "from IPython import display\n",
    "from find_muon_decay import find_muon_decay\n",
    "from time_correction import *\n",
    "import copy\n",
    "import nbformat"
   ]
  },
  {
   "cell_type": "code",
   "execution_count": null,
   "metadata": {},
   "outputs": [],
   "source": [
    "## test of electronics PCB time correction function\n",
    "\n",
    "Hx = Hit([1,1],1,0.4,22630,0.1)\n",
    "Tx = Track([Hx])\n",
    "Hy = Hit([3,2],0,0.45,22630,0.1)\n",
    "Ty = Track([Hy])\n",
    "T = Track3D(Tx,Ty)\n",
    "print(\"original timestamp = \" + str(T.x.hits[0].timestamp))\n",
    "\n",
    "h = copy.deepcopy(T.x.hits[0])\n",
    "[x,z] = h.coord\n",
    "tofpet = mapping_inv_2D(1,x,z)\n",
    "h.timestamp = h.timestamp - mapping_SiPM_delay(tofpet[0], tofpet[1])\n",
    "\n",
    "print(\"delay = \" + str(mapping_SiPM_delay(tofpet[0], tofpet[1])))\n",
    "#T = time_correction_electronics(T)\n",
    "print(\"timestamp after correction = \" + str(h.timestamp))\n",
    "print(\"addition of new timestamp and delay = \" + str(h.timestamp+mapping_SiPM_delay(tofpet[0], tofpet[1])))\n",
    "\n",
    "\n",
    "print(\"orignal timestamp not modified : \" + str(T.x.hits[0].timestamp))"
   ]
  },
  {
   "cell_type": "code",
   "execution_count": null,
   "metadata": {},
   "outputs": [],
   "source": [
    "## Test of the deepcopy \n",
    "\n",
    "print(\"original timestamp = \" + str(T.x.hits[0].timestamp))\n",
    "\n",
    "T2 = copy.deepcopy(T)\n",
    "T2 = time_correction_electronics(T2)\n",
    "print(\"copied timestamp = \" + str(T2.x.hits[0].timestamp))\n",
    "\n",
    "\n",
    "print(\"orignal timestamp not modified : \" + str(T.x.hits[0].timestamp))"
   ]
  },
  {
   "cell_type": "code",
   "execution_count": null,
   "metadata": {},
   "outputs": [],
   "source": [
    "## test of the time correction fiber function\n",
    "\n",
    "x =1\n",
    "Hx1 = Hit([x,8],1,0,1000,0.1) #(coord, is_sidex, timestamp, timestamp_event, value)\n",
    "Hx2 = Hit([x+1,7],1,0,1000,0.1)\n",
    "Hx3 = Hit([x+3,6],1,0,1000,0.1)\n",
    "Tx = Track([Hx1,Hx2,Hx3])\n",
    "y = 1\n",
    "Hy1 = Hit([y,8],0,0,1000,0.1)\n",
    "Hy2 = Hit([y+2,7],0,0,1000,0.1)\n",
    "Hy3 = Hit([y+4,6],0,0,1000,0.1)\n",
    "Ty = Track([Hy1,Hy2,Hy3])\n",
    "T = Track3D(Tx,Ty)\n",
    "T.show()\n",
    "\n",
    "\n",
    "T=time_correction_fiber(T)\n",
    "print(\"timestamp x1 after correction = \" + str(T.x.hits[0].timestamp))\n",
    "print(\"timestamp x2 after correction = \" + str(T.x.hits[1].timestamp))\n",
    "print(\"timestamp y after correction = \" + str(T.y.hits[0].timestamp))\n",
    "\n"
   ]
  },
  {
   "cell_type": "code",
   "execution_count": 2,
   "metadata": {},
   "outputs": [
    {
     "name": "stdout",
     "output_type": "stream",
     "text": [
      "[-0.45869076812851645, -0.3867635751573307, -0.5029849249095713]\n",
      "[-0.6743205557224408, -0.5544793748424962, -0.4432398827349642]\n"
     ]
    }
   ],
   "source": [
    "## Test of all the time correction functions, with simulated tracks\n",
    "\n",
    "x = 21\n",
    "Hx1 = Hit([x,8],1,0,1000,0.1) #(coord, is_sidex, timestamp, timestamp_event, value)\n",
    "Hx2 = Hit([x+1,7],1,0,1000,0.1)\n",
    "Hx3 = Hit([x+3,6],1,0,1000,0.1)\n",
    "Tx = Track([Hx1,Hx2,Hx3])\n",
    "y = 24\n",
    "Hy1 = Hit([7,5],0,0,1000,0.1)\n",
    "Hy2 = Hit([14,3],0,0,1000,0.1)\n",
    "Hy3 = Hit([12,8],0,0,1000,0.1)\n",
    "Ty = Track([Hy1,Hy2,Hy3])\n",
    "T = Track3D(Tx,Ty)\n",
    "## Print 3D plot of the track\n",
    "# T.show()\n",
    "\n",
    "# T=time_correction_electronics(T)\n",
    "# T=time_correction_fiber(T)\n",
    "# T=time_correcktion_offset(T)\n",
    "T= time_correction_global(T)\n",
    "\n",
    "Xtimestamp =[]\n",
    "Ytimestamp = []\n",
    "for h in T.x.hits :\n",
    "    Xtimestamp.append(h.timestamp)\n",
    "for h in T.y.hits :\n",
    "    Ytimestamp.append(h.timestamp)\n",
    "\n",
    "\n",
    "print(Xtimestamp)\n",
    "print(Ytimestamp)"
   ]
  },
  {
   "cell_type": "code",
   "execution_count": null,
   "metadata": {},
   "outputs": [],
   "source": [
    "## Test of find_muon_decay function with time correction (specificly mean_timestamp())\n",
    "\n",
    "x = 21\n",
    "Hx = Hit([[x,8],[x+1,7],[x+3,5]],[1,1,1],[25,20,30],[1000,1000,1000],[0.1,0.1,0.1]) #(coord, is_sidex, timestamp, timestamp_event, value)\n",
    "Hx1 = Hit([x,8],1,25,1000,0.1) #(coord, is_sidex, timestamp, timestamp_event, value)\n",
    "Hx2 = Hit([x+1,7],1,20,1000,0.1)\n",
    "Hx3 = Hit([x+3,6],1,30,1000,0.1)\n",
    "Tx = Track([Hx1,Hx2,Hx3])\n",
    "y = 1\n",
    "Hy1 = Hit([y,8],0,15,1000,0.1)\n",
    "Hy2 = Hit([y+2,7],0,15,1000,0.1)\n",
    "Hy3 = Hit([y+4,6],0,10,1000,0.1)\n",
    "Ty = Track([Hy1,Hy2,Hy3])\n",
    "T = Track3D(Tx,Ty)\n",
    "\n",
    "print(mean_timestamp(Hx))"
   ]
  }
 ],
 "metadata": {
  "kernelspec": {
   "display_name": "ecal-env",
   "language": "python",
   "name": "python3"
  },
  "language_info": {
   "codemirror_mode": {
    "name": "ipython",
    "version": 3
   },
   "file_extension": ".py",
   "mimetype": "text/x-python",
   "name": "python",
   "nbconvert_exporter": "python",
   "pygments_lexer": "ipython3",
   "version": "3.12.0"
  }
 },
 "nbformat": 4,
 "nbformat_minor": 2
}
