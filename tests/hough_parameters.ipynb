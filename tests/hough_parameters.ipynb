{
 "cells": [
  {
   "cell_type": "code",
   "execution_count": 3,
   "metadata": {},
   "outputs": [],
   "source": [
    "import line_profiler\n",
    "import pandas as pd\n",
    "import uproot\n",
    "#import uproot3\n",
    "import numpy as np\n",
    "# import track_time_calibration as ttc\n",
    "from matplotlib import pyplot as plt\n",
    "from mpl_toolkits.mplot3d import Axes3D\n",
    "import sys\n",
    "from tqdm import tqdm\n",
    "sys.path.insert(1, '/Users/lucahartman/Documents/EPFL/MA1/project/ecal_reco/tracking/')\n",
    "sys.path.insert(1, '/Users/lucahartman/Documents/EPFL/MA1/project/ecal_reco/utils/')\n",
    "from track import Track\n",
    "from track3D import Track3D\n",
    "from hit import Hit\n",
    "from data_loading import *\n"
   ]
  },
  {
   "cell_type": "code",
   "execution_count": 4,
   "metadata": {},
   "outputs": [
    {
     "name": "stdout",
     "output_type": "stream",
     "text": [
      "selected 4.57% of all events\n"
     ]
    }
   ],
   "source": [
    "file_path = '/Users/lucahartman/Documents/EPFL/MA1/project/10h/data_0000.root' ## later, one can use concatenation of data_0001.root - data_0008.root files as well. One is enough for testing\n",
    "\n",
    "df_hits = load_dataset(file_path)\n",
    "og_len = len(df_hits)\n",
    "df_hits.query('n_hits > 6', inplace=True)\n",
    "df_hits.query('n_hits < 50', inplace=True)\n",
    "new_len = len(df_hits)\n",
    "print('selected {:.2f}% of all events'.format(new_len/og_len * 100))"
   ]
  },
  {
   "cell_type": "code",
   "execution_count": 5,
   "metadata": {},
   "outputs": [],
   "source": [
    "## This function provide the parameters x0 (or y0 depending on which hits we provide) and tx the angle of the trac\n",
    "def create_tracks(df, plot = False, sampling = 10, angle_sampling = 240):\n",
    "    tracks = []\n",
    "    nb_events = len(df['n_hits'])\n",
    "    steps = 9\n",
    "    buff_start = None\n",
    "    buff_evt_idx = None\n",
    "    chi_squares = []\n",
    "    for index, row in tqdm(df.iterrows(), total = df.shape[0], leave = False, desc = 'events'):\n",
    "        channels = row['tofpet_channel']\n",
    "        tofpet_id = row['tofpet_id']\n",
    "        hits = [Hit(row,i) for i in range(row['n_hits'])]\n",
    "        hitsX = [h for h in hits if h.is_sidex]\n",
    "        hitsY = [h for h in hits if not h.is_sidex]\n",
    "        \n",
    "        ## Some events don't have three hits on one of the two sides and are thus not considered\n",
    "        if len(hitsX) > 3 and len(hitsY) > 3:\n",
    "            # get track parameters\n",
    "            track = Track3D(hits)\n",
    "            tracks.append(track)\n",
    "            \n",
    "        if track.reduced_chi2() is not None:\n",
    "            chi_squares.append(track.reduced_chi2())\n",
    "\n",
    "    return tracks, chi_squares\n",
    "    "
   ]
  },
  {
   "cell_type": "code",
   "execution_count": 6,
   "metadata": {},
   "outputs": [
    {
     "name": "stderr",
     "output_type": "stream",
     "text": [
      "                                                          \r"
     ]
    }
   ],
   "source": [
    "# getting tracks\n",
    "tracks, chi_squares = create_tracks(df_hits.head(1000))\n",
    "total_events = len(tracks)"
   ]
  },
  {
   "cell_type": "code",
   "execution_count": 7,
   "metadata": {},
   "outputs": [
    {
     "name": "stderr",
     "output_type": "stream",
     "text": [
      "sampling: 100%|██████████| 20/20 [00:01<00:00, 10.37it/s]\n",
      "sampling2: 100%|██████████| 20/20 [00:01<00:00, 10.44it/s]\n",
      "sampling3: 100%|██████████| 40/40 [00:03<00:00, 10.63it/s]\n",
      "sampling4: 100%|██████████| 40/40 [00:03<00:00, 10.22it/s]\n"
     ]
    }
   ],
   "source": [
    "samplings = np.linspace(1, 50, 20)\n",
    "ratios_good_tracks = []\n",
    "for s in tqdm(samplings, desc = 'sampling'):\n",
    "    for t in tqdm(tracks, desc = 'tracks', leave = False):\n",
    "        pass\n",
    "        # t.find_track(int(s), 100)\n",
    "    ratios_good_tracks.append(len([t for t in tracks if t.is_good_2D_fit()]) / total_events)\n",
    "    \n",
    "samplings2 = np.linspace(1, 50, 20)\n",
    "ratios_good_tracks2 = []\n",
    "for s in tqdm(samplings2, desc='sampling2'):\n",
    "    for t in tqdm(tracks, desc = 'tracks', leave = False):\n",
    "        pass\n",
    "        # t.find_track(int(s), 200)\n",
    "    ratios_good_tracks2.append(len([t for t in tracks if t.is_good_2D_fit()]) / total_events)\n",
    "    \n",
    "samplings3 = np.linspace(50, 250, 40)\n",
    "ratios_good_tracks3 = []\n",
    "for s in tqdm(samplings3, desc='sampling3'):\n",
    "    for t in tqdm(tracks, desc = 'tracks', leave = False):\n",
    "        pass\n",
    "        # t.find_track(10, int(s))\n",
    "    ratios_good_tracks3.append(len([t for t in tracks if t.is_good_2D_fit()]) / total_events)\n",
    "\n",
    "samplings4 = np.linspace(50, 250, 40)\n",
    "ratios_good_tracks4 = []\n",
    "for s in tqdm(samplings4, desc='sampling4'):\n",
    "    for t in tqdm(tracks, desc = 'tracks', leave = False):\n",
    "        pass\n",
    "        # t.find_track(20, int(s))\n",
    "    ratios_good_tracks4.append(len([t for t in tracks if t.is_good_2D_fit()]) / total_events)\n",
    "                "
   ]
  },
  {
   "cell_type": "code",
   "execution_count": 8,
   "metadata": {},
   "outputs": [
    {
     "data": {
      "text/plain": [
       "<matplotlib.legend.Legend at 0x7f9101aea5e0>"
      ]
     },
     "execution_count": 8,
     "metadata": {},
     "output_type": "execute_result"
    },
    {
     "data": {
      "image/png": "[encoded data removed]",
      "text/plain": [
       "<Figure size 1200x600 with 2 Axes>"
      ]
     },
     "metadata": {},
     "output_type": "display_data"
    }
   ],
   "source": [
    "fig, axs = plt.subplots(1, 2)\n",
    "fig.set_size_inches(12, 6)\n",
    "axs[0].plot(samplings, ratios_good_tracks, 'x-', label = 'angle = 100')\n",
    "axs[0].plot(samplings2, ratios_good_tracks2, 'k+-', label = 'angle = 200')\n",
    "axs[1].plot(samplings3, ratios_good_tracks3, 'x-', label = 'sampling = 10')\n",
    "axs[1].plot(samplings4, ratios_good_tracks4, 'x-', label='sampling = 20')\n",
    "\n",
    "axs[0].set(xlabel='sampling', ylabel='ratio good tracks')\n",
    "axs[0].grid(True)\n",
    "axs[0].legend()\n",
    "axs[1].set(xlabel='angle', ylabel='ratio good tracks')\n",
    "axs[1].grid(True)\n",
    "axs[1].legend()\n"
   ]
  },
  {
   "cell_type": "code",
   "execution_count": 9,
   "metadata": {},
   "outputs": [],
   "source": [
    "# getting the reduced chi^2 distribution\n",
    "#chi_squares = [track.reduced_chi2() for track in tracks if track.reduced_chi2() is not None]\n",
    "\n",
    "# import scipy.optimize as opt \n",
    "# import scipy.special as sp\n",
    "# from scipy.stats import moyal\n",
    "\n",
    "# chi_dist, edges = np.histogram(chi_squares, bins = 100, range = [0, 50])\n",
    "# scaling = np.sum(chi_dist)\n",
    "# chi_dist_scaled = chi_dist / scaling\n",
    "# shift = (edges[2] - edges[1])/2\n",
    "# x = [edges[i] + shift for i in range(len(edges)-1)]\n",
    "\n",
    "# def fitfun(x, params):\n",
    "    # mu, sigma, lambdaa = params\n",
    "    # coeff = 2*mu + lambdaa * sigma**2 - 2.*np.array(x)\n",
    "    # return 0.5 * lambdaa * np.exp(0.5 * lambdaa * coeff) * sp.erfc((mu + lambdaa * sigma**2 - x)/(np.sqrt(2)*sigma))\n",
    "    # return np.exp(np.power(x - mu, 2)/(4*sigma**2)) / (np.sqrt(2*np.pi) * sigma)\n",
    "\n",
    "# def dist_fit_diff(params, x = x, chi_dist = chi_dist_scaled):\n",
    "    # return np.log(np.sum((chi_dist - fitfun(x, params))**2/chi_dist))\n",
    "\n",
    "# x0 = [0, 2, 0.1]\n",
    "# result = opt.minimize(dist_fit_diff, x0)\n",
    "# print(result.x)\n",
    "\n",
    "# params = moyal.fit(chi_dist_scaled)\n",
    "# print(params)"
   ]
  },
  {
   "cell_type": "code",
   "execution_count": 10,
   "metadata": {},
   "outputs": [],
   "source": [
    "# plt.figure()\n",
    "# plt.title('reduced chi square, {} events'.format(len(chi_squares)))\n",
    "# plt.stairs(chi_dist, edges, fill=True, label='data')\n",
    "# plt.axvline(x=2 * 3.841, ymin=0.0, ymax=1.0, color='g', label = 'limit')\n",
    "# xs = np.linspace(0, 50, 1000)\n",
    "# plt.plot(xs, scaling * fitfun(xs, result.x), 'r--', label='fit ({:.3f}, {:.3f}, {:.3f})'.format(result.x[0], result.x[1], result.x[2]))\n",
    "# plt.plot(xs, scaling * moyal.pdf(xs), 'k--', label='moyal ({:.3f}, {:.3f})'.format(params[0], params[1]))\n",
    "# plt.xlabel('$\\chi^2_{\\mathrm{red}}$')\n",
    "# plt.ylabel('counts')\n",
    "# plt.legend()\n",
    "\n"
   ]
  },
  {
   "cell_type": "code",
   "execution_count": 12,
   "metadata": {},
   "outputs": [
    {
     "name": "stdout",
     "output_type": "stream",
     "text": [
      "Hough 23.82 s\n",
      "Hough precise 366.71 s\n",
      "Kalman filter 1.23 s\n"
     ]
    }
   ],
   "source": [
    "# timing difference between Hough, Hough precise and Kalman filter\n",
    "from timeit import default_timer as timer\n",
    "start = timer()\n",
    "for t in tracks:\n",
    "    t.find_track()\n",
    "end = timer()\n",
    "print('Hough {:.2f} ms'.format((end - start) * 1000/total_events))\n",
    "\n",
    "start = timer()\n",
    "for t in tracks:\n",
    "    t.precise_track()\n",
    "end = timer()\n",
    "print('Hough precise {:.2f} ms'.format((end - start) * 1000/total_events))\n",
    "\n",
    "start = timer()\n",
    "for t in tracks:\n",
    "    t.kalman_filter()\n",
    "end = timer()\n",
    "print('Kalman filter {:.2f} ms'.format((end - start) * 1000/total_events))\n"
   ]
  }
 ],
 "metadata": {
  "kernelspec": {
   "display_name": "TP4",
   "language": "python",
   "name": "python3"
  },
  "language_info": {
   "codemirror_mode": {
    "name": "ipython",
    "version": 3
   },
   "file_extension": ".py",
   "mimetype": "text/x-python",
   "name": "python",
   "nbconvert_exporter": "python",
   "pygments_lexer": "ipython3",
   "version": "3.9.15"
  },
  "orig_nbformat": 4,
  "vscode": {
   "interpreter": {
    "hash": "c2fc402571b1c8980a8aa9602e4118b4eb726b15e7f70fdcdd8fa6c317436536"
   }
  }
 },
 "nbformat": 4,
 "nbformat_minor": 2
}
