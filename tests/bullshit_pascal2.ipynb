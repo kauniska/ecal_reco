{
 "cells": [
  {
   "cell_type": "code",
   "execution_count": 1,
   "metadata": {},
   "outputs": [
    {
     "name": "stdout",
     "output_type": "stream",
     "text": [
      "selected 49.60% of all events\n"
     ]
    }
   ],
   "source": [
    "# load and filter data\n",
    "\n",
    "import sys\n",
    "import time\n",
    "tic = time.time() \n",
    "sys.path.insert(1, 'C:\\\\Users\\\\Pascal\\\\Desktop\\\\TP4a\\\\git\\\\TP4_ECAL-\\\\utils')\n",
    "sys.path.insert(1, 'C:\\\\Users\\\\Pascal\\\\Desktop\\\\TP4a\\\\git_final_final\\\\ecal_reco\\\\tracking')\n",
    "from data_loading import *\n",
    "from tqdm import tqdm\n",
    "from matplotlib import pyplot as plt\n",
    "from track_reconstruction import *\n",
    "from hit import Hit\n",
    "from track3D import Track3D\n",
    "from parameters import *\n",
    "\n",
    "file_path = 'C:\\\\Users\\\\Pascal\\\\Desktop\\\\TP4a\\\\data\\\\run_000002\\\\data_0000.root' \n",
    "import pandas as pd\n",
    "import uproot\n",
    "import numpy as np\n",
    "\n",
    "\n",
    "N_cons_events = 1000 # number of events to consider\n",
    "\n",
    "br_list_data = ['n_hits', 'tofpet_id', 'tofpet_channel', 'timestamp', 't_coarse', 't_fine', 'timestamp', 'v_coarse', 'v_fine', 'value']\n",
    "br_list_evt = ['timestamp', 'evt_number', 'evt_flags']\n",
    "evt_tree = 'event_data;1'\n",
    "hits_tree = 'event_data;1'\n",
    "\n",
    "with uproot.open(file_path) as tree:\n",
    "    hits_dict = tree[hits_tree].arrays(br_list_data, library=\"np\")\n",
    "    evts_dict = tree[evt_tree].arrays(br_list_evt, library=\"np\")\n",
    "    \n",
    "df_evts = pd.DataFrame.from_dict(evts_dict)\n",
    "df_hits = pd.DataFrame.from_dict(hits_dict)\n",
    "df_hits['timestamp_event'] = df_evts['timestamp']\n",
    "df_hits = df_hits[0:N_cons_events]\n",
    "\n",
    "og_len = len(df_hits)\n",
    "df_hits.query('n_hits > 6', inplace=True)\n",
    "df_hits.query('n_hits < 50', inplace=True)\n",
    "new_len = len(df_hits)\n",
    "print('selected {:.2f}% of all events'.format(new_len/og_len * 100))\n",
    "\n",
    "# create tracks\n",
    "def create_tracks(df, plot = False):\n",
    "    tracks = []\n",
    "    nb_events = len(df['n_hits'])\n",
    "    steps = 9\n",
    "    buff_start = None\n",
    "    buff_evt_idx = None\n",
    "    dts = []\n",
    "    for index, row in tqdm(df.iterrows(), total = df.shape[0]):\n",
    "        channels = row['tofpet_channel']\n",
    "        tofpet_id = row['tofpet_id']\n",
    "        hits = [Hit(row,i) for i in range(row['n_hits'])]\n",
    "        hitsX = [h for h in hits if h.is_sidex]\n",
    "        hitsY = [h for h in hits if not h.is_sidex]\n",
    "        \n",
    "        ## Some events don't have three hits on one of the two sides and are thus not considered\n",
    "        if len(hitsX) > 3 and len(hitsY) > 3:\n",
    "            # get track parameters\n",
    "            track = Track3D(hits)\n",
    "            tracks.append(track)\n",
    "\n",
    "            ## check if track has a \"good\" chi2 value\n",
    "            if track.is_good_2D_fit():\n",
    "            \n",
    "                # worth making a precise track\n",
    "                #track.precise_track()\n",
    "                \n",
    "                ## compute the time of the track\n",
    "                dt = track.get_time_interval()\n",
    "                if dt is not None:\n",
    "                    dts.append(dt)\n",
    "\n",
    "\n",
    "    return tracks, dts\n",
    "\n"
   ]
  },
  {
   "cell_type": "code",
   "execution_count": 2,
   "metadata": {},
   "outputs": [
    {
     "name": "stderr",
     "output_type": "stream",
     "text": [
      "  0%|          | 2/496 [00:00<00:28, 17.55it/s]"
     ]
    },
    {
     "name": "stderr",
     "output_type": "stream",
     "text": [
      "100%|██████████| 496/496 [00:13<00:00, 35.80it/s]"
     ]
    },
    {
     "name": "stdout",
     "output_type": "stream",
     "text": [
      "Average track creation time :  27.97806551379542 ms\n",
      "Number of good tracks :  421\n"
     ]
    },
    {
     "name": "stderr",
     "output_type": "stream",
     "text": [
      "\n"
     ]
    }
   ],
   "source": [
    "import time\n",
    "t = time.time()\n",
    "trackss, dts = create_tracks(df_hits)\n",
    "print(\"Average track creation time : \", 1000*(time.time()-t)/len(df_hits),\"ms\")\n",
    "good_tracks = [t for t in trackss if t.is_good_2D_fit()]\n",
    "print(\"Number of good tracks : \", len(good_tracks))"
   ]
  },
  {
   "cell_type": "code",
   "execution_count": null,
   "metadata": {},
   "outputs": [],
   "source": []
  }
 ],
 "metadata": {
  "kernelspec": {
   "display_name": "ecal.env",
   "language": "python",
   "name": "python3"
  },
  "language_info": {
   "codemirror_mode": {
    "name": "ipython",
    "version": 3
   },
   "file_extension": ".py",
   "mimetype": "text/x-python",
   "name": "python",
   "nbconvert_exporter": "python",
   "pygments_lexer": "ipython3",
   "version": "3.11.5"
  }
 },
 "nbformat": 4,
 "nbformat_minor": 2
}
