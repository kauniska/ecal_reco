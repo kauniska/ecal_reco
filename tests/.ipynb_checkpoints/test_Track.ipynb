{
 "cells": [
  {
   "cell_type": "code",
   "execution_count": 70,
   "metadata": {},
   "outputs": [],
   "source": [
    "import pandas as pd\n",
    "import uproot\n",
    "#import uproot3\n",
    "import numpy as np\n",
    "# import track_time_calibration as ttc\n",
    "from matplotlib import pyplot as plt\n",
    "import sys\n",
    "from tqdm import tqdm\n",
    "sys.path.insert(1, r'C:\\Users\\nelg\\Desktop\\Cours\\Labo\\TP4\\Git\\tracking')\n",
    "import track_reconstruction as tr\n",
    "from track import Track\n",
    "from hit import Hit\n"
   ]
  },
  {
   "cell_type": "code",
   "execution_count": 71,
   "metadata": {},
   "outputs": [],
   "source": [
    "file_path = r'C:\\Users\\nelg\\Desktop\\Cours\\Labo\\TP4\\10h\\data_0000.root' ## later, one can use concatenation of data_0001.root - data_0008.root files as well. One is enough for testing\n",
    "\n",
    "hits_tree = 'board_57'\n",
    "evt_tree = 'event'\n",
    "# br_list_data = ['n_hits', 'tofpet_id', 'tofpet_channel', 'timestamp']#, 't_coarse', 't_fine', 'timestamp', 'v_coarse', 'v_fine', 'value', 'timestamp_cal_chi2', 'timestamp_cal_dof', 'value_cal_chi2', 'value_cal_dof', 'value_saturation']\n",
    "br_list_data = ['n_hits', 'tofpet_id', 'tofpet_channel', 'timestamp', 't_coarse', 't_fine', 'timestamp', 'v_coarse', 'v_fine', 'value']\n",
    "br_list_evt = ['timestamp', 'evt_number', 'flags']\n",
    "with uproot.open(file_path) as tree:\n",
    "    hits_dict = tree[hits_tree].arrays(br_list_data, library=\"np\")\n",
    "    evts_dict = tree[evt_tree].arrays(br_list_evt, library=\"np\")\n",
    "    \n",
    "# df_hits = pd.DataFrame.from_dict(hits_dict).query('n_hits > 3')\n",
    "df_hits = pd.DataFrame.from_dict(hits_dict)\n",
    "df_evts = pd.DataFrame.from_dict(evts_dict)\n",
    "df_hits['timestamp_event'] = df_evts['timestamp']\n"
   ]
  },
  {
   "cell_type": "code",
   "execution_count": 72,
   "metadata": {},
   "outputs": [],
   "source": [
    "df_hits['timestamp_global'] = df_evts['timestamp']\n",
    "df_hits.query('n_hits > 2', inplace=True)"
   ]
  },
  {
   "cell_type": "code",
   "execution_count": 73,
   "metadata": {},
   "outputs": [],
   "source": [
    "def dr(hit_ref, hits):\n",
    "    ## eval array of vectors connecting all hits with ref hit\n",
    "    dr = hits - hit_ref\n",
    "\n",
    "    # dr_u =  np.abs(dr[:,1])\n",
    "    # dr_d =  np.abs(dr[:,0])\n",
    "    ## projections\n",
    "    dr_u =  dr[:,1]\n",
    "    dr_d =  dr[:,0]\n",
    "    ## eval module\n",
    "    dr_mod =  np.sqrt(dr_u*dr_u + dr_d*dr_d)\n",
    "    return dr_mod"
   ]
  },
  {
   "cell_type": "code",
   "execution_count": 74,
   "metadata": {},
   "outputs": [],
   "source": [
    "\n",
    "def create_tracks(df):\n",
    "    tracks = []\n",
    "    nb_events = len(df['n_hits'])\n",
    "    steps = 9\n",
    "    buff_start = None\n",
    "    buff_evt_idx = None\n",
    "    dts_x = []\n",
    "    dts_y = []\n",
    "    for index, row in tqdm(df.iterrows(), total = df.shape[0]):\n",
    "        hits = [Hit(row,i) for i in range(row['n_hits'])]\n",
    "        hitsX = [h for h in hits if h.is_sidex]\n",
    "        hitsY = [h for h in hits if not h.is_sidex]\n",
    "        index_x = [index for index in range(len(hits)) if hits[index].is_sidex]  # index we need for the time calibration\n",
    "        index_y = [index for index in range(len(hits)) if not hits[index].is_sidex]# index we need for the time calibration\n",
    "        \n",
    "        ## Some events don't have hits on one of the two sides and are thus not considered\n",
    "        if len(hitsX)>1 and len(hitsY)>1:\n",
    "            # get track parameters\n",
    "            x0, tx, hits_index_x = tr.tracks([hit.coord for hit in hitsX])\n",
    "            y0, ty, hits_index_y = tr.tracks([hit.coord for hit in hitsY])\n",
    "            \n",
    "            # create Track objects\n",
    "            track_x = Track(hitsX, x0, tx, hits_index_x)\n",
    "            track_y = Track(hitsY, y0, ty, hits_index_y)\n",
    "\n",
    "            ## check if track has a \"good\" chi2 value\n",
    "            if track_x.is_good_fit() and track_y.is_good_fit():\n",
    "                ## calculate the mean time of the track\n",
    "                track_2D_timestamps = np.concatenate([track_x.get_timestamps(), track_y.get_timestamps()])\n",
    "                track_mean_time = np.mean(track_2D_timestamps)\n",
    "                \n",
    "                ## compute the time of the track\n",
    "                dt_x = track_x.get_time_interval()\n",
    "                dt_y = track_y.get_time_interval()\n",
    "                if dt_x is not None:\n",
    "                    dts_x.append(dt_x)\n",
    "                if dt_y is not None:\n",
    "                    dts_y.append(dt_y)\n",
    "\n",
    "    return df, dts_x, dts_y"
   ]
  },
  {
   "cell_type": "code",
   "execution_count": null,
   "metadata": {},
   "outputs": [],
   "source": [
    "%reload_ext line_profiler\n",
    "%lprun -f new_method_tracks create_tracks(df_hits.head(100))"
   ]
  },
  {
   "cell_type": "code",
   "execution_count": null,
   "metadata": {},
   "outputs": [],
   "source": [
    "df_test, dts_x, dts_y = create_tracks(df_hits.head(15000))"
   ]
  },
  {
   "cell_type": "code",
   "execution_count": null,
   "metadata": {},
   "outputs": [],
   "source": [
    "plt.hist(np.array(dts_x)*6.25, bins = 20, label = '$x$')\n",
    "plt.hist(np.array(dts_y)*6.25, bins = 20, label = '$y$')\n",
    "plt.yscale('log')\n",
    "plt.xlabel('$t$ [ns]')\n",
    "plt.ylabel('counts')\n",
    "plt.legend()"
   ]
  }
 ],
 "metadata": {
  "kernelspec": {
   "display_name": "Python 3.9.13 ('TP4')",
   "language": "python",
   "name": "python3"
  },
  "language_info": {
   "codemirror_mode": {
    "name": "ipython",
    "version": 3
   },
   "file_extension": ".py",
   "mimetype": "text/x-python",
   "name": "python",
   "nbconvert_exporter": "python",
   "pygments_lexer": "ipython3",
   "version": "3.9.13"
  },
  "orig_nbformat": 4,
  "vscode": {
   "interpreter": {
    "hash": "1867fa988200979088d84bc4ce438c40759f9afa4e246357d770a8bf50c98f50"
   }
  }
 },
 "nbformat": 4,
 "nbformat_minor": 2
}
