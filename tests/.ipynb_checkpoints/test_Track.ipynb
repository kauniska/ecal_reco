{
 "cells": [
  {
   "cell_type": "code",
   "execution_count": 1,
   "metadata": {},
   "outputs": [],
   "source": [
    "import pandas as pd\n",
    "import uproot\n",
    "#import uproot3\n",
    "import numpy as np\n",
    "# import track_time_calibration as ttc\n",
    "from matplotlib import pyplot as plt\n",
    "import sys\n",
    "from tqdm import tqdm\n",
    "sys.path.insert(1, '/Users/lucahartman/Documents/EPFL/MA1/project/ecal_reco/tracking/')\n",
    "import track_reconstruction as tr\n",
    "from track import Track\n",
    "from hit import Hit\n"
   ]
  },
  {
   "cell_type": "code",
   "execution_count": 2,
   "metadata": {},
   "outputs": [],
   "source": [
    "file_path = '/Users/lucahartman/Documents/EPFL/MA1/project/10h/data_0000.root' ## later, one can use concatenation of data_0001.root - data_0008.root files as well. One is enough for testing\n",
    "\n",
    "hits_tree = 'board_57'\n",
    "evt_tree = 'event'\n",
    "# br_list_data = ['n_hits', 'tofpet_id', 'tofpet_channel', 'timestamp']#, 't_coarse', 't_fine', 'timestamp', 'v_coarse', 'v_fine', 'value', 'timestamp_cal_chi2', 'timestamp_cal_dof', 'value_cal_chi2', 'value_cal_dof', 'value_saturation']\n",
    "br_list_data = ['n_hits', 'tofpet_id', 'tofpet_channel', 'timestamp', 't_coarse', 't_fine', 'timestamp', 'v_coarse', 'v_fine', 'value']\n",
    "br_list_evt = ['timestamp', 'evt_number', 'flags']\n",
    "with uproot.open(file_path) as tree:\n",
    "    hits_dict = tree[hits_tree].arrays(br_list_data, library=\"np\")\n",
    "    evts_dict = tree[evt_tree].arrays(br_list_evt, library=\"np\")\n",
    "    \n",
    "# df_hits = pd.DataFrame.from_dict(hits_dict).query('n_hits > 3')\n",
    "df_hits = pd.DataFrame.from_dict(hits_dict)\n",
    "df_evts = pd.DataFrame.from_dict(evts_dict)\n"
   ]
  },
  {
   "cell_type": "code",
   "execution_count": 3,
   "metadata": {},
   "outputs": [],
   "source": [
    "df_hits['timestamp_global'] = df_evts['timestamp']\n",
    "df_hits.query('n_hits > 2', inplace=True)"
   ]
  },
  {
   "cell_type": "code",
   "execution_count": 4,
   "metadata": {},
   "outputs": [],
   "source": [
    "def dr(hit_ref, hits):\n",
    "    ## eval array of vectors connecting all hits with ref hit\n",
    "    dr = hits - hit_ref\n",
    "\n",
    "    # dr_u =  np.abs(dr[:,1])\n",
    "    # dr_d =  np.abs(dr[:,0])\n",
    "    ## projections\n",
    "    dr_u =  dr[:,1]\n",
    "    dr_d =  dr[:,0]\n",
    "    ## eval module\n",
    "    dr_mod =  np.sqrt(dr_u*dr_u + dr_d*dr_d)\n",
    "    return dr_mod"
   ]
  },
  {
   "cell_type": "code",
   "execution_count": 14,
   "metadata": {},
   "outputs": [],
   "source": [
    "def create_tracks(df):\n",
    "    tracks = []\n",
    "    nb_events = len(df['n_hits'])\n",
    "    steps = 9\n",
    "    buff_start = None\n",
    "    buff_evt_idx = None\n",
    "    dts_x = []\n",
    "    dts_y = []\n",
    "    for index, row in tqdm(df.iterrows(), total = df.shape[0]):\n",
    "        channels = row['tofpet_channel']\n",
    "        tofpet_id = row['tofpet_id']\n",
    "        hitsX = [Hit(tr.mapping_2D(t_id, ch), True, t, row['timestamp_global'], v) for t_id, ch, t, v in zip(tofpet_id, channels, row['timestamp'], row['value']) if tr.is_sidex(t_id)]\n",
    "        hitsY = [Hit(tr.mapping_2D(t_id, ch), True, t, row['timestamp_global'], v) for t_id, ch, t, v in zip(tofpet_id, channels, row['timestamp'], row['value']) if not tr.is_sidex(t_id)]\n",
    "        index_x = [hits for hits in range(len(channels)) if tr.is_sidex(tofpet_id[hits])]  # index we need for the time calibration\n",
    "        index_y = [hits for hits in range(len(channels)) if not(tr.is_sidex(tofpet_id[hits]))]# index we need for the time calibration\n",
    "        \n",
    "        ## Some events don't have hits on one of the two sides and are thus not considered\n",
    "        if len(hitsX)>1 and len(hitsY)>1:\n",
    "            # get track parameters\n",
    "            x0, tx, hits_index_x = tr.tracks([hit.coord for hit in hitsX])\n",
    "            y0, ty, hits_index_y = tr.tracks([hit.coord for hit in hitsY])\n",
    "            \n",
    "            # create Track objects\n",
    "            track_x = Track(hitsX, x0, tx, hits_index_x)\n",
    "            track_y = Track(hitsY, y0, ty, hits_index_y)\n",
    "\n",
    "            ## check if track has a \"good\" chi2 value\n",
    "            if track_x.is_good_fit() and track_y.is_good_fit():\n",
    "                ## calculate the mean time of the track\n",
    "                track_2D_timestamps = np.concatenate([track_x.get_timestamps(), track_y.get_timestamps()])\n",
    "                track_mean_time = np.mean(track_2D_timestamps)\n",
    "                \n",
    "                ## compute the time of the track\n",
    "                dt_x = track_x.get_time_interval()\n",
    "                dt_y = track_y.get_time_interval()\n",
    "                if dt_x is not None:\n",
    "                    dts_x.append(dt_x)\n",
    "                if dt_y is not None:\n",
    "                    dts_y.append(dt_y)\n",
    "\n",
    "    return df, dts_x, dts_y\n",
    "    "
   ]
  },
  {
   "cell_type": "code",
   "execution_count": 15,
   "metadata": {},
   "outputs": [
    {
     "name": "stderr",
     "output_type": "stream",
     "text": [
      "100%|██████████| 15000/15000 [08:38<00:00, 28.91it/s]\n"
     ]
    }
   ],
   "source": [
    "df_test, dts_x, dts_y = create_tracks(df_hits.head(15000))"
   ]
  },
  {
   "cell_type": "code",
   "execution_count": 17,
   "metadata": {},
   "outputs": [
    {
     "data": {
      "text/plain": [
       "<matplotlib.legend.Legend at 0x17e2a2df0>"
      ]
     },
     "execution_count": 17,
     "metadata": {},
     "output_type": "execute_result"
    },
    {
     "data": {
      "image/png": "[encoded data removed]",
      "text/plain": [
       "<Figure size 640x480 with 1 Axes>"
      ]
     },
     "metadata": {},
     "output_type": "display_data"
    }
   ],
   "source": [
    "plt.hist(np.array(dts_x)*6.25, bins = 20, label = '$x$')\n",
    "plt.hist(np.array(dts_y)*6.25, bins = 20, label = '$y$')\n",
    "plt.yscale('log')\n",
    "plt.xlabel('$t$ [ns]')\n",
    "plt.ylabel('counts')\n",
    "plt.legend()"
   ]
  },
  {
   "cell_type": "code",
   "execution_count": null,
   "metadata": {},
   "outputs": [],
   "source": []
  }
 ],
 "metadata": {
  "kernelspec": {
   "display_name": "Python 3.9.13 ('TP4')",
   "language": "python",
   "name": "python3"
  },
  "language_info": {
   "codemirror_mode": {
    "name": "ipython",
    "version": 3
   },
   "file_extension": ".py",
   "mimetype": "text/x-python",
   "name": "python",
   "nbconvert_exporter": "python",
   "pygments_lexer": "ipython3",
   "version": "3.9.13"
  },
  "orig_nbformat": 4,
  "vscode": {
   "interpreter": {
    "hash": "c2fc402571b1c8980a8aa9602e4118b4eb726b15e7f70fdcdd8fa6c317436536"
   }
  }
 },
 "nbformat": 4,
 "nbformat_minor": 2
}
