{
 "cells": [
  {
   "cell_type": "code",
   "execution_count": 2,
   "metadata": {},
   "outputs": [
    {
     "name": "stderr",
     "output_type": "stream",
     "text": [
      "  0%|          | 0/250 [00:00<?, ?it/s]\n"
     ]
    },
    {
     "ename": "NameError",
     "evalue": "name 'Hit' is not defined",
     "output_type": "error",
     "traceback": [
      "\u001b[1;31m---------------------------------------------------------------------------\u001b[0m",
      "\u001b[1;31mNameError\u001b[0m                                 Traceback (most recent call last)",
      "\u001b[1;32mc:\\Users\\kimyk\\OneDrive\\Bureau\\Master 1\\Projet_LPHE_I\\ecal_reco\\tests\\test_new_tracking3D.ipynb Cell 1\u001b[0m line \u001b[0;36m3\n\u001b[0;32m     <a href='vscode-notebook-cell:/c%3A/Users/kimyk/OneDrive/Bureau/Master%201/Projet_LPHE_I/ecal_reco/tests/test_new_tracking3D.ipynb#W0sZmlsZQ%3D%3D?line=30'>31</a>\u001b[0m df_hits \u001b[39m=\u001b[39m pd\u001b[39m.\u001b[39mDataFrame\u001b[39m.\u001b[39mfrom_dict(hits_dict)\n\u001b[0;32m     <a href='vscode-notebook-cell:/c%3A/Users/kimyk/OneDrive/Bureau/Master%201/Projet_LPHE_I/ecal_reco/tests/test_new_tracking3D.ipynb#W0sZmlsZQ%3D%3D?line=31'>32</a>\u001b[0m df_hits[\u001b[39m'\u001b[39m\u001b[39mtimestamp_event\u001b[39m\u001b[39m'\u001b[39m] \u001b[39m=\u001b[39m df_evts[\u001b[39m'\u001b[39m\u001b[39mtimestamp\u001b[39m\u001b[39m'\u001b[39m]\n\u001b[1;32m---> <a href='vscode-notebook-cell:/c%3A/Users/kimyk/OneDrive/Bureau/Master%201/Projet_LPHE_I/ecal_reco/tests/test_new_tracking3D.ipynb#W0sZmlsZQ%3D%3D?line=33'>34</a>\u001b[0m tracks, dts \u001b[39m=\u001b[39m create_tracks(df_hits[\u001b[39m0\u001b[39;49m:N_cons_events])\n\u001b[0;32m     <a href='vscode-notebook-cell:/c%3A/Users/kimyk/OneDrive/Bureau/Master%201/Projet_LPHE_I/ecal_reco/tests/test_new_tracking3D.ipynb#W0sZmlsZQ%3D%3D?line=34'>35</a>\u001b[0m good_tracks \u001b[39m=\u001b[39m [t \u001b[39mfor\u001b[39;00m t \u001b[39min\u001b[39;00m tracks \u001b[39mif\u001b[39;00m t\u001b[39m.\u001b[39mis_good_2D_fit()]\n\u001b[0;32m     <a href='vscode-notebook-cell:/c%3A/Users/kimyk/OneDrive/Bureau/Master%201/Projet_LPHE_I/ecal_reco/tests/test_new_tracking3D.ipynb#W0sZmlsZQ%3D%3D?line=35'>36</a>\u001b[0m \u001b[39mprint\u001b[39m(\u001b[39mlen\u001b[39m(good_tracks), \u001b[39m'\u001b[39m\u001b[39mgood tracks found out of the\u001b[39m\u001b[39m'\u001b[39m, N_cons_events, \u001b[39m'\u001b[39m\u001b[39mselected.\u001b[39m\u001b[39m'\u001b[39m)\n",
      "File \u001b[1;32m~\\OneDrive\\Bureau\\Master 1\\Projet_LPHE_I\\ecal_reco\\tracking\\track_reconstruction.py:251\u001b[0m, in \u001b[0;36mcreate_tracks\u001b[1;34m(df, plot)\u001b[0m\n\u001b[0;32m    249\u001b[0m channels \u001b[39m=\u001b[39m row[\u001b[39m'\u001b[39m\u001b[39mtofpet_channel\u001b[39m\u001b[39m'\u001b[39m]\n\u001b[0;32m    250\u001b[0m tofpet_id \u001b[39m=\u001b[39m row[\u001b[39m'\u001b[39m\u001b[39mtofpet_id\u001b[39m\u001b[39m'\u001b[39m]\n\u001b[1;32m--> 251\u001b[0m hits \u001b[39m=\u001b[39m [Hit(row,i) \u001b[39mfor\u001b[39;00m i \u001b[39min\u001b[39;00m \u001b[39mrange\u001b[39m(row[\u001b[39m'\u001b[39m\u001b[39mn_hits\u001b[39m\u001b[39m'\u001b[39m])]\n\u001b[0;32m    252\u001b[0m hitsX \u001b[39m=\u001b[39m [h \u001b[39mfor\u001b[39;00m h \u001b[39min\u001b[39;00m hits \u001b[39mif\u001b[39;00m h\u001b[39m.\u001b[39mis_sidex]\n\u001b[0;32m    253\u001b[0m hitsY \u001b[39m=\u001b[39m [h \u001b[39mfor\u001b[39;00m h \u001b[39min\u001b[39;00m hits \u001b[39mif\u001b[39;00m \u001b[39mnot\u001b[39;00m h\u001b[39m.\u001b[39mis_sidex]\n",
      "File \u001b[1;32m~\\OneDrive\\Bureau\\Master 1\\Projet_LPHE_I\\ecal_reco\\tracking\\track_reconstruction.py:251\u001b[0m, in \u001b[0;36m<listcomp>\u001b[1;34m(.0)\u001b[0m\n\u001b[0;32m    249\u001b[0m channels \u001b[39m=\u001b[39m row[\u001b[39m'\u001b[39m\u001b[39mtofpet_channel\u001b[39m\u001b[39m'\u001b[39m]\n\u001b[0;32m    250\u001b[0m tofpet_id \u001b[39m=\u001b[39m row[\u001b[39m'\u001b[39m\u001b[39mtofpet_id\u001b[39m\u001b[39m'\u001b[39m]\n\u001b[1;32m--> 251\u001b[0m hits \u001b[39m=\u001b[39m [Hit(row,i) \u001b[39mfor\u001b[39;00m i \u001b[39min\u001b[39;00m \u001b[39mrange\u001b[39m(row[\u001b[39m'\u001b[39m\u001b[39mn_hits\u001b[39m\u001b[39m'\u001b[39m])]\n\u001b[0;32m    252\u001b[0m hitsX \u001b[39m=\u001b[39m [h \u001b[39mfor\u001b[39;00m h \u001b[39min\u001b[39;00m hits \u001b[39mif\u001b[39;00m h\u001b[39m.\u001b[39mis_sidex]\n\u001b[0;32m    253\u001b[0m hitsY \u001b[39m=\u001b[39m [h \u001b[39mfor\u001b[39;00m h \u001b[39min\u001b[39;00m hits \u001b[39mif\u001b[39;00m \u001b[39mnot\u001b[39;00m h\u001b[39m.\u001b[39mis_sidex]\n",
      "\u001b[1;31mNameError\u001b[0m: name 'Hit' is not defined"
     ]
    }
   ],
   "source": [
    "import sys\n",
    "import time\n",
    "tic = time.time() \n",
    "sys.path.insert(1, r'C:\\Users\\kimyk\\OneDrive\\Bureau\\Master 1\\Projet_LPHE_I\\ecal_reco\\utils')\n",
    "sys.path.insert(1, r'C:\\Users\\kimyk\\OneDrive\\Bureau\\Master 1\\Projet_LPHE_I\\ecal_reco\\tracking')\n",
    "from data_loading import *\n",
    "from tqdm import tqdm\n",
    "from hit import Hit\n",
    "from track3D import Track3D\n",
    "from matplotlib import pyplot as plt\n",
    "from track_reconstruction import *\n",
    "\n",
    "file_path = r'C:\\Users\\kimyk\\OneDrive\\Bureau\\Master 1\\Projet_LPHE_I\\ecal_reco\\test_import_root\\data_0000\\data_0000.root' \n",
    "import pandas as pd\n",
    "import uproot\n",
    "import numpy as np\n",
    "\n",
    "\n",
    "N_cons_events = 250 # number of events to consider\n",
    "\n",
    "br_list_data = ['n_hits', 'tofpet_id', 'tofpet_channel', 'timestamp', 't_coarse', 't_fine', 'timestamp', 'v_coarse', 'v_fine', 'value']\n",
    "br_list_evt = ['timestamp', 'evt_number', 'evt_flags']\n",
    "evt_tree = 'event_data;1'\n",
    "hits_tree = 'event_data;1'\n",
    "\n",
    "with uproot.open(file_path) as tree:\n",
    "    hits_dict = tree[hits_tree].arrays(br_list_data, library=\"np\")\n",
    "    evts_dict = tree[evt_tree].arrays(br_list_evt, library=\"np\")\n",
    "    \n",
    "df_evts = pd.DataFrame.from_dict(evts_dict)\n",
    "df_hits = pd.DataFrame.from_dict(hits_dict)\n",
    "df_hits['timestamp_event'] = df_evts['timestamp']\n",
    "\n",
    "tracks, dts = create_tracks(df_hits[0:N_cons_events])\n",
    "good_tracks = [t for t in tracks if t.is_good_2D_fit()]\n",
    "print(len(good_tracks), 'good tracks found out of the', N_cons_events, 'selected.')\n",
    "\n",
    "toc = time.time()\n",
    "print(round(toc-tic), \"sec elapsed.\")"
   ]
  }
 ],
 "metadata": {
  "kernelspec": {
   "display_name": "ecal.env",
   "language": "python",
   "name": "python3"
  },
  "language_info": {
   "codemirror_mode": {
    "name": "ipython",
    "version": 3
   },
   "file_extension": ".py",
   "mimetype": "text/x-python",
   "name": "python",
   "nbconvert_exporter": "python",
   "pygments_lexer": "ipython3",
   "version": "3.10.12"
  },
  "orig_nbformat": 4
 },
 "nbformat": 4,
 "nbformat_minor": 2
}
