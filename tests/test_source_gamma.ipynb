{
 "cells": [
  {
   "cell_type": "code",
   "execution_count": 1,
   "metadata": {},
   "outputs": [
    {
     "name": "stdout",
     "output_type": "stream",
     "text": [
      "selected 75.80% of all events\n"
     ]
    }
   ],
   "source": [
    "import pandas as pd\n",
    "import uproot\n",
    "#import uproot3\n",
    "import numpy as np\n",
    "# import track_time_calibration as ttc\n",
    "from matplotlib import pyplot as plt\n",
    "import sys\n",
    "import os \n",
    "import fnmatch\n",
    "sys.path.insert(1, r'C:\\Users\\eliot\\EPFL\\TP4_ECAL\\Code\\ecal_reco\\utils')\n",
    "sys.path.insert(1, r'C:\\Users\\eliot\\EPFL\\TP4_ECAL\\Code\\ecal_reco\\tracking')\n",
    "sys.path.insert(1, r'C:\\Users\\eliot\\EPFL\\TP4_ECAL\\Code\\ecal_reco\\muon_decay')\n",
    "from track import Track\n",
    "from track3D import Track3D\n",
    "from hit import Hit\n",
    "from data_loading import *\n",
    "from parameters import *\n",
    "from tqdm import tqdm\n",
    "from track_reconstruction import plot_hits\n",
    "from physics import dist_line_rect\n",
    "import pickle\n",
    "from IPython import display\n"
   ]
  },
  {
   "cell_type": "code",
   "execution_count": 8,
   "metadata": {},
   "outputs": [],
   "source": [
    "# Define the paths needed\n",
    "raw_data_directory = \"C:\\\\Users\\\\eliot\\\\EPFL\\\\TP4_ECAL\\\\raw_data\\\\\" #path to the ecal data\n",
    "current_directory = os.getcwd()\n",
    "data_storage = current_directory+\"\\\\extracted_data\\\\\"\n",
    "runs = [\"run_000017\"]  # List of the runs to analyse. If empty, the program will go through all the data available in the raw_data directory\n",
    "suffix = \"\" # If one wants to re-run on already analysed data without overwriting the extracted data\n",
    "separator = \"\\\\\" # \"/\" if linux or mac"
   ]
  },
  {
   "cell_type": "code",
   "execution_count": 10,
   "metadata": {},
   "outputs": [
    {
     "name": "stdout",
     "output_type": "stream",
     "text": [
      "C:\\Users\\eliot\\EPFL\\TP4_ECAL\\raw_data\\run_000017\n",
      "C:\\Users\\eliot\\EPFL\\TP4_ECAL\\raw_data\\run_000017\\data_0000.root\n",
      "selected 0.18% of all events\n"
     ]
    }
   ],
   "source": [
    "if len(runs) == 0:\n",
    "    runs = fnmatch.filter(os.listdir(raw_data_directory), '*')\n",
    "\n",
    "\n",
    "for run in runs:\n",
    "    print(raw_data_directory+run)\n",
    "    df_hits_total, df_hits, og_len, new_len = load_run(raw_data_directory+run+\"\\\\\")\n"
   ]
  }
 ],
 "metadata": {
  "kernelspec": {
   "display_name": "ecal-env",
   "language": "python",
   "name": "python3"
  },
  "language_info": {
   "codemirror_mode": {
    "name": "ipython",
    "version": 3
   },
   "file_extension": ".py",
   "mimetype": "text/x-python",
   "name": "python",
   "nbconvert_exporter": "python",
   "pygments_lexer": "ipython3",
   "version": "3.12.0"
  }
 },
 "nbformat": 4,
 "nbformat_minor": 2
}
