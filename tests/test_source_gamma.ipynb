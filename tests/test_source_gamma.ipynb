{
 "cells": [
  {
   "cell_type": "code",
   "execution_count": null,
   "metadata": {},
   "outputs": [],
   "source": [
    "import pandas as pd\n",
    "import uproot\n",
    "#import uproot3\n",
    "import numpy as np\n",
    "# import track_time_calibration as ttc\n",
    "from matplotlib import pyplot as plt\n",
    "import sys\n",
    "import os \n",
    "import fnmatch\n",
    "sys.path.insert(1, r'C:\\Users\\eliot\\EPFL\\TP4_ECAL\\Code\\ecal_reco\\utils')\n",
    "sys.path.insert(1, r'C:\\Users\\eliot\\EPFL\\TP4_ECAL\\Code\\ecal_reco\\tracking')\n",
    "sys.path.insert(1, r'C:\\Users\\eliot\\EPFL\\TP4_ECAL\\Code\\ecal_reco\\muon_decay')\n",
    "from track import Track\n",
    "from track3D import Track3D\n",
    "from hit import Hit\n",
    "from data_loading import *\n",
    "from parameters import *\n",
    "from tqdm import tqdm\n",
    "from track_reconstruction import plot_hits\n",
    "from physics import dist_line_rect\n",
    "import pickle\n",
    "from IPython import display\n",
    "from find_muon_track import find_muon_track\n",
    "from find_muon_decay import find_muon_decay"
   ]
  }
 ],
 "metadata": {
  "language_info": {
   "name": "python"
  }
 },
 "nbformat": 4,
 "nbformat_minor": 2
}
