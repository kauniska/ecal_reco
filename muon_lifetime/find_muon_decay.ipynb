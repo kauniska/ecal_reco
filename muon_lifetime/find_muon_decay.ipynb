{
 "cells": [
  {
   "cell_type": "code",
   "execution_count": 1,
   "metadata": {},
   "outputs": [],
   "source": [
    "import pandas as pd\n",
    "import uproot\n",
    "#import uproot3\n",
    "import numpy as np\n",
    "# import track_time_calibration as ttc\n",
    "from matplotlib import pyplot as plt\n",
    "import sys\n",
    "import os \n",
    "import fnmatch\n",
    "sys.path.insert(1, r\"C:\\Users\\nelg\\Desktop\\Cours\\Labo\\TP4\\Git\\utils\")\n",
    "sys.path.insert(1, r\"C:\\Users\\nelg\\Desktop\\Cours\\Labo\\TP4\\Git\\tracking\")\n",
    "from track import Track\n",
    "from track3D import Track3D\n",
    "from hit import Hit\n",
    "from data_loading import *\n",
    "from parameters import *\n",
    "from tqdm import tqdm\n",
    "from track_reconstruction import plot_hits\n",
    "from physics import dist_line_rect\n",
    "import pickle\n",
    "from IPython import display\n"
   ]
  },
  {
   "cell_type": "code",
   "execution_count": 2,
   "metadata": {},
   "outputs": [],
   "source": [
    "# Define the paths needed\n",
    "raw_data_directory = r\"C:\\Users\\nelg\\Desktop\\Cours\\Labo\\TP4\\run_000400\\\\\" #path to the ecal data\n",
    "current_directory = os.getcwd()\n",
    "data_storage = current_directory+r\"\\extracted_data\\\\\"\n",
    "suffix = \"_5h_1Hz\""
   ]
  },
  {
   "cell_type": "code",
   "execution_count": 3,
   "metadata": {},
   "outputs": [
    {
     "name": "stdout",
     "output_type": "stream",
     "text": [
      "selected 16.55% of all events\n"
     ]
    }
   ],
   "source": [
    "# Load the data\n",
    "files = fnmatch.filter(os.listdir(raw_data_directory), '*.root')\n",
    "\n",
    "for i,file in enumerate(files):\n",
    "    if i == 0:\n",
    "        df = [load_dataset(raw_data_directory+file)]\n",
    "    else:\n",
    "        df_i = load_dataset(raw_data_directory+file)\n",
    "        df_i.index += df[-1].index[-1]+1\n",
    "        df.append(df_i)\n",
    "\n",
    "df_hits_total = pd.concat(df)\n",
    "df_hits = pd.DataFrame.copy(df_hits_total, deep=True)\n",
    "\n",
    "og_len = len(df_hits_total)\n",
    "\n",
    "df_hits.query('n_hits > 6', inplace=True)\n",
    "df_hits.query('n_hits < 50', inplace=True)\n",
    "\n",
    "new_len = len(df_hits)\n",
    "\n",
    "print('selected {:.2f}% of all events'.format(new_len/og_len * 100))"
   ]
  },
  {
   "cell_type": "code",
   "execution_count": 17,
   "metadata": {},
   "outputs": [],
   "source": [
    "## This function finds the indices of event which are good candidate for muon decay : good tracks that don't end on a side of the detector\n",
    "## and that have enough hits on both planes\n",
    "def create_candidate_tracks(df, plot = False):\n",
    "    candidate_index = []\n",
    "    low_number = 0\n",
    "    bottom_touch = 0\n",
    "    side_touch = 0\n",
    "    bad_fit = 0\n",
    "    for index, row in tqdm(df.iterrows(), total = df.shape[0]):\n",
    "        hits = [Hit(row,i) for i in range(row['n_hits'])]\n",
    "        hitsX = [h for h in hits if h.is_sidex]\n",
    "        hitsY = [h for h in hits if not h.is_sidex]\n",
    "        \n",
    "        ## Some events don't have three hits on one of the two sides and are thus not considered\n",
    "        if len(hitsX) > 3 and len(hitsY) > 3:\n",
    "            #One only considers the events for which the potential track ended inside the detector\n",
    "            hitsX.sort(key = lambda hit: -hit.coord[1])\n",
    "            hitsY.sort(key = lambda hit: -hit.coord[1])\n",
    "            if hitsX[-1].coord[1] > 1 and hitsY[-1].coord[1] > 1:\n",
    "                hitsX_last = [hit for hit in hitsX if hit.coord[1]==hitsX[-1].coord[1]]\n",
    "                hitsY_last = [hit for hit in hitsY if hit.coord[1]==hitsY[-1].coord[1]]\n",
    "                X_ok = True\n",
    "                Y_ok = True\n",
    "                for hit in hitsX_last:\n",
    "                    if hit.coord[0] == 1 or hit.coord[0] == 24:\n",
    "                        X_ok = False\n",
    "                        side_touch += 1\n",
    "                for hit in hitsY_last:\n",
    "                    if hit.coord[0] == 1 or hit.coord[0] == 24:\n",
    "                        Y_ok = False\n",
    "                        if X_ok:\n",
    "                            side_touch += 1\n",
    "                if X_ok and Y_ok:\n",
    "                    # get track parameters\n",
    "                    track = Track3D(hits)\n",
    "\n",
    "                    ## check if track has a \"good\" chi2 value\n",
    "                    if track.is_good_2D_fit():\n",
    "                        candidate_index.append(index)\n",
    "                    else:\n",
    "                        bad_fit += 1\n",
    "            else:\n",
    "                bottom_touch += 1\n",
    "        else:\n",
    "            low_number += 1\n",
    "    \n",
    "    return candidate_index, low_number, bottom_touch, side_touch, bad_fit"
   ]
  },
  {
   "cell_type": "code",
   "execution_count": 4,
   "metadata": {},
   "outputs": [
    {
     "name": "stderr",
     "output_type": "stream",
     "text": [
      "100%|██████████| 287754/287754 [10:47<00:00, 444.39it/s]\n"
     ]
    }
   ],
   "source": [
    "candidate_index, low_number, bottom_touch, side_touch, bad_fit = create_candidate_tracks(df_hits)"
   ]
  },
  {
   "cell_type": "code",
   "execution_count": 8,
   "metadata": {},
   "outputs": [],
   "source": [
    "np.savetxt(data_storage+\"candidate_muon_stopping\"+suffix+\".txt\",candidate_index)"
   ]
  },
  {
   "cell_type": "code",
   "execution_count": 5,
   "metadata": {},
   "outputs": [],
   "source": [
    "candidate_index = np.loadtxt(data_storage+\"candidate_muon_stopping\"+suffix+\".txt\")"
   ]
  },
  {
   "cell_type": "code",
   "execution_count": null,
   "metadata": {},
   "outputs": [],
   "source": [
    "# This cell allows to check the selected events, as well as the next recorded event (where the muon decay should be observed)\n",
    "%matplotlib inline\n",
    "i = 0\n",
    "kb = \"\"\n",
    "while kb == \"\":\n",
    "    event = df_hits.loc[candidate_index[i]]\n",
    "    next_event = df_hits_total.loc[candidate_index[i]+1]\n",
    "\n",
    "    hits = [Hit(event,i) for i in range(event['n_hits'])]\n",
    "    hitsX = [h for h in hits if h.is_sidex]\n",
    "    hits_next_event = [Hit(next_event,i) for i in range(next_event['n_hits'])]\n",
    "    hitsX_next_event = [h for h in hits_next_event if h.is_sidex]\n",
    "\n",
    "    track = Track(hitsX)\n",
    "    fig,ax = plot_hits(hits,True,True,scaling=0.5)\n",
    "    fig_next_event,ax_next_event = plot_hits(hits_next_event,True,True,scaling=0.5)\n",
    "    z = np.linspace(0,16)\n",
    "    x = track.t*z+track.x0\n",
    "    ax.plot(x,z,'r-')\n",
    "    display.clear_output(wait=False)\n",
    "    print(hits_next_event[0].timestamp_event-hits_next_event[0].timestamp-hits[-1].timestamp_event+hits[-1].timestamp)\n",
    "    display.display(fig)\n",
    "    display.display(fig_next_event)\n",
    "    kb = input()\n",
    "    i = i+1\n",
    "\n",
    "display.clear_output(wait=False)"
   ]
  },
  {
   "cell_type": "code",
   "execution_count": 7,
   "metadata": {},
   "outputs": [],
   "source": [
    "# This cell filters out the candidates for which the next event happens too long after for it to be the result of a muon decay,\n",
    "# and the one for which the hits in the next event are too far from the end of the original track\n",
    "good_candidates = []\n",
    "too_large_time_interval = 0\n",
    "no_spacial_correlation = 0\n",
    "hits_far_from_track = 0\n",
    "\n",
    "for j in candidate_index:\n",
    "    event = df_hits.loc[j]\n",
    "    next_event = df_hits_total.loc[j+1]\n",
    "    hits = [Hit(event,i) for i in range(event['n_hits'])]\n",
    "    hits_next_event = [Hit(next_event,i) for i in range(next_event['n_hits'])]\n",
    "    hitsX = [hit for hit in hits if hit.is_sidex]\n",
    "    hitsY = [hit for hit in hits if not hit.is_sidex]\n",
    "    hitsX_next_event = [hit for hit in hits_next_event if hit.is_sidex]\n",
    "    hitsY_next_event = [hit for hit in hits_next_event if not hit.is_sidex]\n",
    "\n",
    "    track = Track3D(hits)\n",
    "\n",
    "    hitsX = [hit for hit in hitsX if dist_line_rect(track.x.t, track.x.x0, hit.get_pos(), thickness, width) < Delta_z] #Keep only the hits close to the track\n",
    "    hitsY = [hit for hit in hitsY if dist_line_rect(track.y.t, track.y.x0, hit.get_pos(), thickness, width) < Delta_z]\n",
    "\n",
    "\n",
    "    hits_next_event = [Hit(next_event,i) for i in range(next_event['n_hits'])]\n",
    "    if hits_next_event[0].timestamp_event-hits[0].timestamp_event < 1500: #muon lifetime in clock cycles = 351 -> keeps only events correlated in time with the next measured event\n",
    "        hitsX.sort(key = lambda hit: -hit.get_pos()[1])\n",
    "        hitsY.sort(key = lambda hit: -hit.get_pos()[1])\n",
    "        \n",
    "        X_near = False\n",
    "        Y_near = False\n",
    "        if len(hitsX) == 0 and len(hitsY) == 0:\n",
    "            hits_far_from_track += 1\n",
    "        else:\n",
    "            if len(hitsX) != 0:\n",
    "                for h in hitsX_next_event:\n",
    "                    if np.linalg.norm(h.get_pos()-hitsX[-1].get_pos()) < 4:\n",
    "                        X_near = True\n",
    "            if len(hitsY) != 0:\n",
    "                for h in hitsY_next_event:\n",
    "                    if np.linalg.norm(h.get_pos()-hitsY[-1].get_pos()) < 4:\n",
    "                        Y_near = True\n",
    "            if X_near and Y_near:\n",
    "                good_candidates.append(j)\n",
    "            else:\n",
    "                no_spacial_correlation += 1\n",
    "    else:\n",
    "        too_large_time_interval += 1\n",
    "\n",
    "good_candidates = np.array(good_candidates)\n",
    "np.savetxt(data_storage+\"final_muon_decay_candidates\"+suffix+\".txt\",good_candidates)\n",
    "    \n"
   ]
  },
  {
   "cell_type": "code",
   "execution_count": 8,
   "metadata": {},
   "outputs": [],
   "source": [
    "filtering = pd.DataFrame({'og_len' : [og_len],\n",
    "                        'new_len' : [new_len],\n",
    "                        'low_number' : [low_number],\n",
    "                        'bottom_touch' : [bottom_touch],\n",
    "                        'side_touch' : [side_touch],\n",
    "                        'bad_fit': [bad_fit],\n",
    "                        'too_large_time_interval' : [too_large_time_interval],\n",
    "                        'hits_far_from_track' : [hits_far_from_track],\n",
    "                        'no_spacial_correlation' : [no_spacial_correlation]})\n",
    "filtering.to_pickle(data_storage+\"filtering_data\"+suffix)"
   ]
  },
  {
   "cell_type": "code",
   "execution_count": 5,
   "metadata": {},
   "outputs": [],
   "source": [
    "filtering = pd.read_pickle(data_storage+\"filtering_data\"+suffix)\n",
    "# og_len = filtering['og_len'][0]\n",
    "# new_len = filtering['new_len'][0]\n",
    "low_number = filtering['low_number'][0]\n",
    "bottom_touch = filtering['bottom_touch'][0]\n",
    "side_touch = filtering['side_touch'][0]\n",
    "bad_fit = filtering['bad_fit'][0]\n",
    "too_large_time_interval = filtering['too_large_time_interval'][0]\n",
    "hits_far_from_track = filtering['hits_far_from_track'][0]\n",
    "no_spacial_correlation = filtering['no_spacial_correlation'][0]"
   ]
  },
  {
   "cell_type": "code",
   "execution_count": 8,
   "metadata": {},
   "outputs": [
    {
     "name": "stdout",
     "output_type": "stream",
     "text": [
      "original length :  1739062\n",
      "n_hits between 6 and 50 :  287754\n",
      "⤷ Too low number of hits in one plane :  45062  over  287754\n",
      " ⤷ Last layer touched : \t\t 189126  over  242692\n",
      "  ⤷ Possible side exit : \t\t 24082  over  53566\n",
      "   ⤷ Bad fit : \t\t\t\t 16209  over  29484\n",
      "    ⤷ Too large time interval : \t 12560  over  13275\n",
      "     ⤷ Hits far from track : \t\t 0  over  715\n",
      "      ⤷ No spacial correlation : \t 590  over  715\n",
      "Final number :  141\n"
     ]
    }
   ],
   "source": [
    "# Showcase of the numbers of rejection at each step of the filtering \n",
    "print(\"original length : \", og_len)\n",
    "print(\"n_hits between 6 and 50 : \", new_len)\n",
    "n = new_len\n",
    "print(\"\\u2937 Too low number of hits in one plane : \", low_number, \" over \", n)\n",
    "n -= low_number\n",
    "print(\" \\u2937 Last layer touched : \\t\\t\", bottom_touch, \" over \", n)\n",
    "n -= bottom_touch\n",
    "print(\"  \\u2937 Possible side exit : \\t\\t\", side_touch, \" over \", n)\n",
    "n -= side_touch\n",
    "print(\"   \\u2937 Bad fit : \\t\\t\\t\\t\", bad_fit, \" over \", n)\n",
    "n -= bad_fit\n",
    "print(\"    \\u2937 Too large time interval : \\t\", too_large_time_interval, \" over \", n)\n",
    "n -= too_large_time_interval\n",
    "print(\"     \\u2937 Hits far from track : \\t\\t\", hits_far_from_track, \" over \", n)\n",
    "n -= hits_far_from_track\n",
    "print(\"      \\u2937 No spacial correlation : \\t\", no_spacial_correlation, \" over \", n)\n",
    "print(\"Final number : \", len(good_candidates))"
   ]
  },
  {
   "cell_type": "code",
   "execution_count": 7,
   "metadata": {},
   "outputs": [],
   "source": [
    "good_candidates = np.loadtxt(data_storage+\"final_muon_decay_candidates\"+suffix+\".txt\")"
   ]
  },
  {
   "cell_type": "code",
   "execution_count": 12,
   "metadata": {},
   "outputs": [
    {
     "data": {
      "image/png": "[encoded data removed]",
      "text/plain": [
       "<Figure size 960x400 with 1 Axes>"
      ]
     },
     "metadata": {},
     "output_type": "display_data"
    }
   ],
   "source": [
    "#This cell allows to plot the final candidates for muon decay (original track + next event)\n",
    "%matplotlib inline\n",
    "i = 13\n",
    "kb = \"\"\n",
    "while kb == \"\":\n",
    "    event = df_hits.loc[good_candidates[i]]\n",
    "    next_event = df_hits_total.loc[good_candidates[i]+1]\n",
    "\n",
    "    hits = [Hit(event,i) for i in range(event['n_hits'])]\n",
    "    hitsX = [h for h in hits if h.is_sidex]\n",
    "    hits_next_event = [Hit(next_event,i) for i in range(next_event['n_hits'])]\n",
    "    hitsX_next_event = [h for h in hits_next_event if h.is_sidex]\n",
    "\n",
    "    track = Track(hitsX)\n",
    "    fig,ax = plot_hits(hits,True,True,scaling = 0.5,hits_next = hits_next_event)\n",
    "    z = np.linspace(0,16)\n",
    "    x = track.t*z+track.x0\n",
    "    ax.plot(x,z,'r-')\n",
    "    display.clear_output(wait=False)\n",
    "    print(hits_next_event[0].timestamp_event-hits_next_event[0].timestamp-hits[-1].timestamp_event+hits[-1].timestamp)\n",
    "    # fig.savefig(\"fig_muon_decay_{}.jpg\".format(i))\n",
    "    display.display(fig)\n",
    "    kb = input()\n",
    "    i = i+1\n",
    "\n",
    "display.clear_output(wait=False)"
   ]
  },
  {
   "cell_type": "code",
   "execution_count": 23,
   "metadata": {},
   "outputs": [],
   "source": [
    "# Compute the time intervals between the muon tracks and the muon decays\n",
    "good_candidates = np.loadtxt(data_storage+\"final_muon_decay_candidates\"+suffix+\".txt\").astype(int)\n",
    "time_intervals = []\n",
    "t_clock_cycle = 6.25\n",
    "\n",
    "for i in good_candidates:\n",
    "    t_muon = df_hits.loc[i]['timestamp_event']\n",
    "    t_decay = df_hits_total.loc[i+1]['timestamp_event']\n",
    "    time_intervals.append((t_decay-t_muon)*t_clock_cycle)\n",
    "\n",
    "time_intervals = np.array(time_intervals)\n",
    "np.savetxt(data_storage+\"time_intervals\"+suffix+\".txt\",time_intervals)\n"
   ]
  }
 ],
 "metadata": {
  "kernelspec": {
   "display_name": "Python 3.9.13 ('TP4')",
   "language": "python",
   "name": "python3"
  },
  "language_info": {
   "codemirror_mode": {
    "name": "ipython",
    "version": 3
   },
   "file_extension": ".py",
   "mimetype": "text/x-python",
   "name": "python",
   "nbconvert_exporter": "python",
   "pygments_lexer": "ipython3",
   "version": "3.9.13"
  },
  "orig_nbformat": 4,
  "vscode": {
   "interpreter": {
    "hash": "1867fa988200979088d84bc4ce438c40759f9afa4e246357d770a8bf50c98f50"
   }
  }
 },
 "nbformat": 4,
 "nbformat_minor": 2
}
