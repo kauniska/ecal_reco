{
 "cells": [
  {
   "cell_type": "code",
   "execution_count": 118,
   "id": "7a2eb3f1",
   "metadata": {},
   "outputs": [],
   "source": [
    "import pandas as pd\n",
    "import uproot\n",
    "#import uproot3\n",
    "import numpy as np\n",
    "# import track_time_calibration as ttc\n",
    "from matplotlib import pyplot as plt\n",
    "import sys\n",
    "sys.path.insert(1, '/Users/dariaberezovska/ecal_rec2/ecal_reco/tracking')\n",
    "import track_reconstruction as tr\n",
    "# def merger(Array_of_paths):\n",
    "#     br_list_data = ['n_hits', 'tofpet_id', 'tofpet_channel', 'timestamp']#, 't_coarse', 't_fine', 'timestamp', 'v_coarse', 'v_fine', 'value', 'timestamp_cal_chi2', 'timestamp_cal_dof', 'value_cal_chi2', 'value_cal_dof', 'value_saturation']   \n",
    "#     df_general = pd.DataFrame(columns = br_list_data)\n",
    "#     for element in Array_of_paths:\n",
    "#         Tname = 'board_57'\n",
    "#         # Extract the data and transform it into a dataframe\n",
    "#         with uproot.open(element) as tree:\n",
    "#             dict_ecal = tree[Tname].arrays(br_list_data, library=\"np\")\n",
    "#         ## REALLY IMPORTANT, THE TIME CALIBRATION MUST BE DONE USIGN THE SAME DATAFRAME AS THE ONE USED TO RECONSTRUCT THE TRACK\n",
    "\n",
    "#         df = pd.DataFrame.from_dict(dict_ecal).query('n_hits>6')\n",
    "#         df['path_id'] = element\n",
    "#         df=df.query('n_hits<18')\n",
    "#         #print(df)\n",
    "#         df_general=df_general.append(df)\n",
    "#     print(df_general)\n",
    "#     return df_general\n",
    "## THUS FAR WE HAVE OPENED AND CREATED A GENERIC DATAFRAME ##\n",
    "\n",
    "\n"
   ]
  },
  {
   "cell_type": "code",
   "execution_count": 119,
   "id": "c52addab",
   "metadata": {},
   "outputs": [],
   "source": [
    "file_path = '/Users/dariaberezovska/!TP4a/test_tracking/10h/data_0000.root' ## later, one can use concatenation of data_0001.root - data_0008.root files as well. One is enough for testing\n",
    "\n",
    "hits_tree = 'board_57'\n",
    "evt_tree = 'event'\n",
    "# br_list_data = ['n_hits', 'tofpet_id', 'tofpet_channel', 'timestamp']#, 't_coarse', 't_fine', 'timestamp', 'v_coarse', 'v_fine', 'value', 'timestamp_cal_chi2', 'timestamp_cal_dof', 'value_cal_chi2', 'value_cal_dof', 'value_saturation']\n",
    "br_list_data = ['n_hits', 'tofpet_id', 'tofpet_channel', 'timestamp', 't_coarse', 't_fine', 'timestamp', 'v_coarse', 'v_fine', 'value']\n",
    "br_list_evt = ['timestamp', 'evt_number', 'flags']\n",
    "with uproot.open(file_path) as tree:\n",
    "    hits_dict = tree[hits_tree].arrays(br_list_data, library=\"np\")\n",
    "    evts_dict = tree[evt_tree].arrays(br_list_evt, library=\"np\")\n",
    "    \n",
    "# df_hits = pd.DataFrame.from_dict(hits_dict).query('n_hits > 3')\n",
    "df_hits = pd.DataFrame.from_dict(hits_dict)\n",
    "df_evts = pd.DataFrame.from_dict(evts_dict)\n",
    "\n"
   ]
  },
  {
   "cell_type": "code",
   "execution_count": 120,
   "id": "3bf664e0",
   "metadata": {},
   "outputs": [],
   "source": [
    "df_hits['timestamp_global'] = df_evts['timestamp']\n",
    "df_hits.query('n_hits > 2', inplace=True)"
   ]
  },
  {
   "cell_type": "code",
   "execution_count": 121,
   "id": "4f420a4d",
   "metadata": {},
   "outputs": [
    {
     "data": {
      "text/html": [
       "<div>\n",
       "<style scoped>\n",
       "    .dataframe tbody tr th:only-of-type {\n",
       "        vertical-align: middle;\n",
       "    }\n",
       "\n",
       "    .dataframe tbody tr th {\n",
       "        vertical-align: top;\n",
       "    }\n",
       "\n",
       "    .dataframe thead th {\n",
       "        text-align: right;\n",
       "    }\n",
       "</style>\n",
       "<table border=\"1\" class=\"dataframe\">\n",
       "  <thead>\n",
       "    <tr style=\"text-align: right;\">\n",
       "      <th></th>\n",
       "      <th>n_hits</th>\n",
       "      <th>tofpet_id</th>\n",
       "      <th>tofpet_channel</th>\n",
       "      <th>timestamp</th>\n",
       "      <th>t_coarse</th>\n",
       "      <th>t_fine</th>\n",
       "      <th>v_coarse</th>\n",
       "      <th>v_fine</th>\n",
       "      <th>value</th>\n",
       "      <th>timestamp_global</th>\n",
       "    </tr>\n",
       "  </thead>\n",
       "  <tbody>\n",
       "    <tr>\n",
       "      <th>18</th>\n",
       "      <td>21</td>\n",
       "      <td>[1, 4, 4, 0, 4, 2, 1, 2, 3, 0, 6, 6, 5, 7, 6, ...</td>\n",
       "      <td>[56, 20, 12, 51, 52, 56, 48, 36, 56, 23, 3, 47...</td>\n",
       "      <td>[0.36406112, 0.3387759, 0.22964606, 0.35876107...</td>\n",
       "      <td>[0, 0, 0, 0, 0, 0, 0, 0, 0, 0, 0, 0, 0, 0, 0, ...</td>\n",
       "      <td>[285, 301, 317, 304, 269, 279, 293, 253, 257, ...</td>\n",
       "      <td>[40, 48, 48, 40, 46, 40, 40, 44, 38, 32, 36, 4...</td>\n",
       "      <td>[57, 45, 49, 51, 47, 47, 56, 49, 49, 51, 48, 4...</td>\n",
       "      <td>[-0.3135891, -0.82231325, 0.24428469, -0.42816...</td>\n",
       "      <td>61420341</td>\n",
       "    </tr>\n",
       "    <tr>\n",
       "      <th>41</th>\n",
       "      <td>12</td>\n",
       "      <td>[1, 3, 6, 4, 6, 4, 3, 5, 7, 4, 6, 1]</td>\n",
       "      <td>[38, 38, 26, 54, 46, 8, 58, 44, 46, 38, 2, 34]</td>\n",
       "      <td>[0.46687505, 0.30044308, 0.13078116, 0.3160458...</td>\n",
       "      <td>[0, 0, 0, 0, 0, 0, 0, 0, 0, 0, 1, 1]</td>\n",
       "      <td>[260, 306, 316, 299, 308, 311, 223, 347, 309, ...</td>\n",
       "      <td>[36, 38, 36, 46, 38, 42, 36, 38, 40, 48, 36, 38]</td>\n",
       "      <td>[56, 64, 56, 55, 44, 56, 47, 62, 49, 49, 50, 58]</td>\n",
       "      <td>[-0.8448553, 1.4276503, 1.8902504, 0.35085836,...</td>\n",
       "      <td>67132904</td>\n",
       "    </tr>\n",
       "    <tr>\n",
       "      <th>60</th>\n",
       "      <td>9</td>\n",
       "      <td>[4, 3, 4, 5, 6, 7, 6, 1, 6]</td>\n",
       "      <td>[6, 33, 46, 50, 41, 41, 21, 34, 1]</td>\n",
       "      <td>[0.5811783, 0.8478426, 0.85727125, 0.4066967, ...</td>\n",
       "      <td>[0, 0, 0, 0, 0, 0, 0, 0, 1]</td>\n",
       "      <td>[260, 238, 203, 292, 208, 236, 236, 250, 308]</td>\n",
       "      <td>[48, 40, 46, 36, 38, 44, 38, 38, 32]</td>\n",
       "      <td>[46, 57, 49, 52, 46, 43, 44, 55, 42]</td>\n",
       "      <td>[-1.249579, -0.5120435, -1.8308084, 1.0668914,...</td>\n",
       "      <td>73883794</td>\n",
       "    </tr>\n",
       "    <tr>\n",
       "      <th>100</th>\n",
       "      <td>3</td>\n",
       "      <td>[0, 0, 0]</td>\n",
       "      <td>[56, 52, 60]</td>\n",
       "      <td>[0.8623718, 1.598726, 1.7553612]</td>\n",
       "      <td>[0, 1, 1]</td>\n",
       "      <td>[210, 233, 226]</td>\n",
       "      <td>[36, 38, 34]</td>\n",
       "      <td>[65, 48, 47]</td>\n",
       "      <td>[9.146994, -0.6701174, -0.7815415]</td>\n",
       "      <td>86093559</td>\n",
       "    </tr>\n",
       "    <tr>\n",
       "      <th>105</th>\n",
       "      <td>16</td>\n",
       "      <td>[6, 1, 7, 6, 4, 3, 1, 4, 4, 7, 4, 5, 7, 7, 6, 5]</td>\n",
       "      <td>[23, 35, 35, 32, 27, 48, 52, 31, 43, 51, 42, 4...</td>\n",
       "      <td>[0.98513347, 0.8066452, 1.1262498, 1.1203352, ...</td>\n",
       "      <td>[0, 0, 1, 1, 1, 1, 1, 1, 1, 1, 1, 1, 1, 1, 1, 1]</td>\n",
       "      <td>[181, 217, 311, 319, 286, 310, 349, 351, 306, ...</td>\n",
       "      <td>[36, 52, 38, 36, 48, 38, 48, 42, 48, 44, 44, 3...</td>\n",
       "      <td>[38, 64, 46, 50, 48, 50, 52, 54, 47, 49, 45, 5...</td>\n",
       "      <td>[-1.4876015, 1.7744374, 1.0992572, 0.35562634,...</td>\n",
       "      <td>87734096</td>\n",
       "    </tr>\n",
       "    <tr>\n",
       "      <th>...</th>\n",
       "      <td>...</td>\n",
       "      <td>...</td>\n",
       "      <td>...</td>\n",
       "      <td>...</td>\n",
       "      <td>...</td>\n",
       "      <td>...</td>\n",
       "      <td>...</td>\n",
       "      <td>...</td>\n",
       "      <td>...</td>\n",
       "      <td>...</td>\n",
       "    </tr>\n",
       "    <tr>\n",
       "      <th>999954</th>\n",
       "      <td>3</td>\n",
       "      <td>[5, 7, 7]</td>\n",
       "      <td>[55, 37, 57]</td>\n",
       "      <td>[0.34058174, 0.7885307, 1.2826744]</td>\n",
       "      <td>[0, 0, 1]</td>\n",
       "      <td>[279, 206, 289]</td>\n",
       "      <td>[42, 44, 38]</td>\n",
       "      <td>[51, 44, 47]</td>\n",
       "      <td>[-0.9956317, -0.22211297, -2.7059336]</td>\n",
       "      <td>324855889673</td>\n",
       "    </tr>\n",
       "    <tr>\n",
       "      <th>999962</th>\n",
       "      <td>8</td>\n",
       "      <td>[0, 0, 2, 1, 2, 1, 0, 3]</td>\n",
       "      <td>[1, 61, 53, 61, 25, 33, 29, 61]</td>\n",
       "      <td>[0.8390209, 0.6392428, 0.8770397, 0.5867053, 0...</td>\n",
       "      <td>[0, 0, 0, 0, 0, 0, 0, 1]</td>\n",
       "      <td>[219, 240, 216, 269, 230, 334, 333, 345]</td>\n",
       "      <td>[34, 38, 36, 38, 42, 38, 36, 32]</td>\n",
       "      <td>[47, 52, 54, 51, 45, 64, 49, 51]</td>\n",
       "      <td>[-1.827809, -0.43205178, 0.5614116, -1.0076048...</td>\n",
       "      <td>324858448575</td>\n",
       "    </tr>\n",
       "    <tr>\n",
       "      <th>999974</th>\n",
       "      <td>18</td>\n",
       "      <td>[1, 6, 0, 6, 7, 4, 2, 4, 5, 2, 7, 4, 4, 0, 3, ...</td>\n",
       "      <td>[50, 51, 50, 23, 35, 38, 63, 58, 32, 7, 59, 34...</td>\n",
       "      <td>[0.5743023, 0.9818414, 0.78290564, 0.48880604,...</td>\n",
       "      <td>[0, 0, 0, 0, 0, 0, 0, 0, 0, 0, 0, 0, 0, 0, 0, ...</td>\n",
       "      <td>[252, 175, 210, 261, 188, 307, 203, 263, 293, ...</td>\n",
       "      <td>[44, 36, 42, 36, 38, 48, 34, 40, 44, 36, 38, 4...</td>\n",
       "      <td>[44, 41, 46, 44, 39, 51, 52, 51, 52, 57, 45, 4...</td>\n",
       "      <td>[-1.494916, -2.2778494, -1.3322823, 1.0383793,...</td>\n",
       "      <td>324862521505</td>\n",
       "    </tr>\n",
       "    <tr>\n",
       "      <th>999978</th>\n",
       "      <td>18</td>\n",
       "      <td>[3, 0, 1, 1, 2, 7, 6, 2, 5, 4, 6, 6, 4, 5, 0, ...</td>\n",
       "      <td>[46, 55, 35, 63, 26, 50, 10, 2, 44, 36, 30, 54...</td>\n",
       "      <td>[0.52234226, 0.58917886, 0.40165895, 0.5720964...</td>\n",
       "      <td>[0, 0, 0, 0, 0, 0, 0, 0, 0, 0, 0, 0, 0, 0, 0, ...</td>\n",
       "      <td>[270, 256, 281, 252, 251, 310, 270, 223, 296, ...</td>\n",
       "      <td>[42, 38, 52, 42, 42, 38, 38, 40, 38, 40, 34, 3...</td>\n",
       "      <td>[44, 52, 65, 59, 48, 50, 46, 55, 58, 48, 41, 4...</td>\n",
       "      <td>[-1.382923, -0.6078804, 1.9445635, 0.94823724,...</td>\n",
       "      <td>324864186911</td>\n",
       "    </tr>\n",
       "    <tr>\n",
       "      <th>999988</th>\n",
       "      <td>16</td>\n",
       "      <td>[4, 4, 0, 0, 6, 2, 3, 2, 1, 4, 6, 7, 5, 0, 2, 6]</td>\n",
       "      <td>[51, 27, 27, 3, 25, 53, 41, 29, 43, 3, 49, 37,...</td>\n",
       "      <td>[0.9481537, 0.9488711, 1.0168998, 1.6371411, 1...</td>\n",
       "      <td>[0, 0, 0, 1, 1, 1, 1, 1, 1, 1, 1, 1, 1, 1, 2, 2]</td>\n",
       "      <td>[182, 199, 183, 261, 269, 273, 255, 255, 344, ...</td>\n",
       "      <td>[44, 48, 40, 36, 36, 36, 40, 36, 42, 42, 42, 4...</td>\n",
       "      <td>[41, 46, 50, 50, 51, 56, 49, 47, 52, 48, 39, 4...</td>\n",
       "      <td>[-0.39032555, -0.1979149, -0.5584596, 0.403617...</td>\n",
       "      <td>324868107351</td>\n",
       "    </tr>\n",
       "  </tbody>\n",
       "</table>\n",
       "<p>62632 rows × 10 columns</p>\n",
       "</div>"
      ],
      "text/plain": [
       "        n_hits                                          tofpet_id  \\\n",
       "18          21  [1, 4, 4, 0, 4, 2, 1, 2, 3, 0, 6, 6, 5, 7, 6, ...   \n",
       "41          12               [1, 3, 6, 4, 6, 4, 3, 5, 7, 4, 6, 1]   \n",
       "60           9                        [4, 3, 4, 5, 6, 7, 6, 1, 6]   \n",
       "100          3                                          [0, 0, 0]   \n",
       "105         16   [6, 1, 7, 6, 4, 3, 1, 4, 4, 7, 4, 5, 7, 7, 6, 5]   \n",
       "...        ...                                                ...   \n",
       "999954       3                                          [5, 7, 7]   \n",
       "999962       8                           [0, 0, 2, 1, 2, 1, 0, 3]   \n",
       "999974      18  [1, 6, 0, 6, 7, 4, 2, 4, 5, 2, 7, 4, 4, 0, 3, ...   \n",
       "999978      18  [3, 0, 1, 1, 2, 7, 6, 2, 5, 4, 6, 6, 4, 5, 0, ...   \n",
       "999988      16   [4, 4, 0, 0, 6, 2, 3, 2, 1, 4, 6, 7, 5, 0, 2, 6]   \n",
       "\n",
       "                                           tofpet_channel  \\\n",
       "18      [56, 20, 12, 51, 52, 56, 48, 36, 56, 23, 3, 47...   \n",
       "41         [38, 38, 26, 54, 46, 8, 58, 44, 46, 38, 2, 34]   \n",
       "60                     [6, 33, 46, 50, 41, 41, 21, 34, 1]   \n",
       "100                                          [56, 52, 60]   \n",
       "105     [23, 35, 35, 32, 27, 48, 52, 31, 43, 51, 42, 4...   \n",
       "...                                                   ...   \n",
       "999954                                       [55, 37, 57]   \n",
       "999962                    [1, 61, 53, 61, 25, 33, 29, 61]   \n",
       "999974  [50, 51, 50, 23, 35, 38, 63, 58, 32, 7, 59, 34...   \n",
       "999978  [46, 55, 35, 63, 26, 50, 10, 2, 44, 36, 30, 54...   \n",
       "999988  [51, 27, 27, 3, 25, 53, 41, 29, 43, 3, 49, 37,...   \n",
       "\n",
       "                                                timestamp  \\\n",
       "18      [0.36406112, 0.3387759, 0.22964606, 0.35876107...   \n",
       "41      [0.46687505, 0.30044308, 0.13078116, 0.3160458...   \n",
       "60      [0.5811783, 0.8478426, 0.85727125, 0.4066967, ...   \n",
       "100                      [0.8623718, 1.598726, 1.7553612]   \n",
       "105     [0.98513347, 0.8066452, 1.1262498, 1.1203352, ...   \n",
       "...                                                   ...   \n",
       "999954                 [0.34058174, 0.7885307, 1.2826744]   \n",
       "999962  [0.8390209, 0.6392428, 0.8770397, 0.5867053, 0...   \n",
       "999974  [0.5743023, 0.9818414, 0.78290564, 0.48880604,...   \n",
       "999978  [0.52234226, 0.58917886, 0.40165895, 0.5720964...   \n",
       "999988  [0.9481537, 0.9488711, 1.0168998, 1.6371411, 1...   \n",
       "\n",
       "                                                 t_coarse  \\\n",
       "18      [0, 0, 0, 0, 0, 0, 0, 0, 0, 0, 0, 0, 0, 0, 0, ...   \n",
       "41                   [0, 0, 0, 0, 0, 0, 0, 0, 0, 0, 1, 1]   \n",
       "60                            [0, 0, 0, 0, 0, 0, 0, 0, 1]   \n",
       "100                                             [0, 1, 1]   \n",
       "105      [0, 0, 1, 1, 1, 1, 1, 1, 1, 1, 1, 1, 1, 1, 1, 1]   \n",
       "...                                                   ...   \n",
       "999954                                          [0, 0, 1]   \n",
       "999962                           [0, 0, 0, 0, 0, 0, 0, 1]   \n",
       "999974  [0, 0, 0, 0, 0, 0, 0, 0, 0, 0, 0, 0, 0, 0, 0, ...   \n",
       "999978  [0, 0, 0, 0, 0, 0, 0, 0, 0, 0, 0, 0, 0, 0, 0, ...   \n",
       "999988   [0, 0, 0, 1, 1, 1, 1, 1, 1, 1, 1, 1, 1, 1, 2, 2]   \n",
       "\n",
       "                                                   t_fine  \\\n",
       "18      [285, 301, 317, 304, 269, 279, 293, 253, 257, ...   \n",
       "41      [260, 306, 316, 299, 308, 311, 223, 347, 309, ...   \n",
       "60          [260, 238, 203, 292, 208, 236, 236, 250, 308]   \n",
       "100                                       [210, 233, 226]   \n",
       "105     [181, 217, 311, 319, 286, 310, 349, 351, 306, ...   \n",
       "...                                                   ...   \n",
       "999954                                    [279, 206, 289]   \n",
       "999962           [219, 240, 216, 269, 230, 334, 333, 345]   \n",
       "999974  [252, 175, 210, 261, 188, 307, 203, 263, 293, ...   \n",
       "999978  [270, 256, 281, 252, 251, 310, 270, 223, 296, ...   \n",
       "999988  [182, 199, 183, 261, 269, 273, 255, 255, 344, ...   \n",
       "\n",
       "                                                 v_coarse  \\\n",
       "18      [40, 48, 48, 40, 46, 40, 40, 44, 38, 32, 36, 4...   \n",
       "41       [36, 38, 36, 46, 38, 42, 36, 38, 40, 48, 36, 38]   \n",
       "60                   [48, 40, 46, 36, 38, 44, 38, 38, 32]   \n",
       "100                                          [36, 38, 34]   \n",
       "105     [36, 52, 38, 36, 48, 38, 48, 42, 48, 44, 44, 3...   \n",
       "...                                                   ...   \n",
       "999954                                       [42, 44, 38]   \n",
       "999962                   [34, 38, 36, 38, 42, 38, 36, 32]   \n",
       "999974  [44, 36, 42, 36, 38, 48, 34, 40, 44, 36, 38, 4...   \n",
       "999978  [42, 38, 52, 42, 42, 38, 38, 40, 38, 40, 34, 3...   \n",
       "999988  [44, 48, 40, 36, 36, 36, 40, 36, 42, 42, 42, 4...   \n",
       "\n",
       "                                                   v_fine  \\\n",
       "18      [57, 45, 49, 51, 47, 47, 56, 49, 49, 51, 48, 4...   \n",
       "41       [56, 64, 56, 55, 44, 56, 47, 62, 49, 49, 50, 58]   \n",
       "60                   [46, 57, 49, 52, 46, 43, 44, 55, 42]   \n",
       "100                                          [65, 48, 47]   \n",
       "105     [38, 64, 46, 50, 48, 50, 52, 54, 47, 49, 45, 5...   \n",
       "...                                                   ...   \n",
       "999954                                       [51, 44, 47]   \n",
       "999962                   [47, 52, 54, 51, 45, 64, 49, 51]   \n",
       "999974  [44, 41, 46, 44, 39, 51, 52, 51, 52, 57, 45, 4...   \n",
       "999978  [44, 52, 65, 59, 48, 50, 46, 55, 58, 48, 41, 4...   \n",
       "999988  [41, 46, 50, 50, 51, 56, 49, 47, 52, 48, 39, 4...   \n",
       "\n",
       "                                                    value  timestamp_global  \n",
       "18      [-0.3135891, -0.82231325, 0.24428469, -0.42816...          61420341  \n",
       "41      [-0.8448553, 1.4276503, 1.8902504, 0.35085836,...          67132904  \n",
       "60      [-1.249579, -0.5120435, -1.8308084, 1.0668914,...          73883794  \n",
       "100                    [9.146994, -0.6701174, -0.7815415]          86093559  \n",
       "105     [-1.4876015, 1.7744374, 1.0992572, 0.35562634,...          87734096  \n",
       "...                                                   ...               ...  \n",
       "999954              [-0.9956317, -0.22211297, -2.7059336]      324855889673  \n",
       "999962  [-1.827809, -0.43205178, 0.5614116, -1.0076048...      324858448575  \n",
       "999974  [-1.494916, -2.2778494, -1.3322823, 1.0383793,...      324862521505  \n",
       "999978  [-1.382923, -0.6078804, 1.9445635, 0.94823724,...      324864186911  \n",
       "999988  [-0.39032555, -0.1979149, -0.5584596, 0.403617...      324868107351  \n",
       "\n",
       "[62632 rows x 10 columns]"
      ]
     },
     "execution_count": 121,
     "metadata": {},
     "output_type": "execute_result"
    }
   ],
   "source": [
    "df_hits"
   ]
  },
  {
   "cell_type": "code",
   "execution_count": 122,
   "id": "c63828a1",
   "metadata": {},
   "outputs": [
    {
     "data": {
      "text/plain": [
       "n_hits                                                             21\n",
       "tofpet_id           [1, 4, 4, 0, 4, 2, 1, 2, 3, 0, 6, 6, 5, 7, 6, ...\n",
       "tofpet_channel      [56, 20, 12, 51, 52, 56, 48, 36, 56, 23, 3, 47...\n",
       "timestamp           [0.36406112, 0.3387759, 0.22964606, 0.35876107...\n",
       "t_coarse            [0, 0, 0, 0, 0, 0, 0, 0, 0, 0, 0, 0, 0, 0, 0, ...\n",
       "t_fine              [285, 301, 317, 304, 269, 279, 293, 253, 257, ...\n",
       "v_coarse            [40, 48, 48, 40, 46, 40, 40, 44, 38, 32, 36, 4...\n",
       "v_fine              [57, 45, 49, 51, 47, 47, 56, 49, 49, 51, 48, 4...\n",
       "value               [-0.3135891, -0.82231325, 0.24428469, -0.42816...\n",
       "timestamp_global                                             61420341\n",
       "Name: 18, dtype: object"
      ]
     },
     "execution_count": 122,
     "metadata": {},
     "output_type": "execute_result"
    }
   ],
   "source": [
    "coord=df_hits.iloc[0]\n",
    "coord"
   ]
  },
  {
   "cell_type": "code",
   "execution_count": 123,
   "id": "9e97b8aa",
   "metadata": {},
   "outputs": [],
   "source": [
    "# Check that a is tofpet on the x side of the calorimeter\n",
    "def is_sidex(a):\n",
    "    if(a==0 or a==1 or a==4 or a==5):\n",
    "        return 1\n",
    "    else:\n",
    "        return 0\n",
    "    \n",
    "# Determine the (X,Z) or (Y,Z) coordinate of a hits, depending on what tofpet_id is entered. Triplet=[channel,t_id,layer]\n",
    "def Mapping2D(t_id,channel):\n",
    "    mapping=[[  [10 , 3], [22 , 3], [ 3 , 3], [15 , 3], [ 9 , 3], [21 , 3], [ 4 , 3], [16 , 3], [ 8 , 3], [20 , 3], [ 5 , 3], [17 , 3], [ 7 , 3], [19 , 3], [ 6 , 3], [18 , 3], [ 7 , 2], [24 , 2], [ 1 , 2], [13 , 2], [ 8 , 2], [23 , 2], [ 2 , 2], [14 , 2], [ 9 , 2], [22 , 2], [ 3 , 2], [15 , 2], [10 , 2], [21 , 2], [ 4 , 2], [16 , 2], [11 , 2], [20 , 2], [ 5 , 2], [17 , 2], [12 , 2], [19 , 2], [ 6 , 2], [18  ,2], [ 7 , 1], [24 , 1], [ 1 , 1], [13 , 1], [ 8 , 1], [23 , 1], [ 2 , 1], [14 , 1], [ 9 , 1], [22 , 1], [ 3 , 1], [15 , 1], [10 , 1], [21 , 1], [ 4 , 1], [16 , 1], [11  ,1], [20 , 1], [ 5 , 1], [17 , 1], [12 , 1], [19 , 1], [ 6 , 1], [18 , 1],[ 7,  4], [24,  4], [ 1,  4], [13,  4], [ 8,  4], [23,  4], [ 2,  4], [14,  4], [ 9,  4], [22,  4], [ 3,  4], [15,  4], [10,  4], [21,  4], [ 4,  4], [16,  4], [11,  4], [20,  4], [ 5,  4], [17,  4], [12,  4], [19,  4], [ 6,  4], [18,  4], [12,  3], [24,  3], [ 1,  3], [13,  3], [11,  3], [23,  3], [ 2,  3], [14,  3]],[[10,  7], [22,  7], [ 3,  7], [15,  7], [ 9,  7], [21,  7], [ 4,  7], [16,  7], [ 8,  7], [20,  7], [ 5,  7], [17,  7], [ 7,  7], [19,  7], [ 6,  7], [18,  7], [ 7,  6], [24,  6], [ 1,  6], [13,  6], [ 8,  6], [23,  6], [ 2,  6], [14,  6], [ 9,  6], [22,  6], [ 3,  6], [15,  6], [10 , 6], [21,  6], [ 4,  6], [16,  6], [11,  6], [20,  6], [ 5,  6], [17,  6], [12,  6], [19,  6], [ 6,  6], [18,  6], [ 7,  5], [24,  5], [ 1,  5], [13,  5], [ 8,  5], [23,  5], [ 2,  5], [14,  5], [ 9,  5], [22,  5], [ 3,  5], [15,  5], [10,  5], [21,  5], [ 4,  5], [16 , 5], [11,  5], [20,  5], [ 5,  5], [17,  5], [12,  5], [19,  5], [ 6,  5], [18,  5],[ 7 , 8], [24 , 8], [ 1 , 8], [13 , 8], [ 8 , 8], [23 , 8], [ 2 , 8], [14 , 8], [ 9 , 8], [22 , 8], [ 3 , 8], [15 , 8], [10,  8], [21 , 8], [ 4 , 8], [16 , 8], [11 , 8], [20 , 8], [ 5 , 8], [17 , 8], [12 , 8], [19 , 8], [ 6 , 8], [18 , 8], [12 , 7], [24 , 7], [ 1 , 7], [13 , 7], [11 , 7], [23 , 7], [ 2 , 7], [14 , 7]]] ##\n",
    "    if is_sidex(t_id):\n",
    "        return mapping[int(t_id/4)][channel+32*np.mod(t_id,2)]\n",
    "    else:\n",
    "        t_id=t_id-2\n",
    "        return mapping[int(t_id/4)][channel+32*np.mod(t_id,2)]"
   ]
  },
  {
   "cell_type": "code",
   "execution_count": 124,
   "id": "b2f0df49",
   "metadata": {},
   "outputs": [
    {
     "name": "stdout",
     "output_type": "stream",
     "text": [
      "[1 4 4 0 4 2 1 2 3 0 6 6 5 7 6 2 3 3 5 2 6]\n",
      "[56 20 12 51 52 56 48 36 56 23  3 47 50 47 27 44 59 35 54 48  7]\n"
     ]
    }
   ],
   "source": [
    "tofpet_iD=coord[1]\n",
    "tofpet_channeL=coord[2]\n",
    "print(tofpet_iD)\n",
    "print(tofpet_channeL)"
   ]
  },
  {
   "cell_type": "code",
   "execution_count": 125,
   "id": "ecf8aac8",
   "metadata": {},
   "outputs": [
    {
     "name": "stdout",
     "output_type": "stream",
     "text": [
      "[[12, 3], [8, 6], [7, 7], [15, 1], [10, 5], [11, 4], [14, 2], [5, 8], [6, 8]]\n",
      "[[11, 1], [12, 2], [12, 3], [15, 7], [14, 5], [16, 8], [15, 6], [8, 1], [13, 3], [13, 4], [9, 1], [16, 7]]\n"
     ]
    }
   ],
   "source": [
    "l=len(tofpet_iD)#number of events (i - number starting from 0)\n",
    "pts_x=[] #initialising a set(list) for coordinates (X,Z), pts=points\n",
    "pts_y=[] #initialising a set(list) for coordinates (Y,Z)\n",
    "for i in range(l):\n",
    "    if is_sidex(tofpet_iD[i]):\n",
    "         pts_x.append(Mapping2D(tofpet_iD[i],tofpet_channeL[i])) #adding coords to set for coordinates (X,Z)\n",
    "    else:\n",
    "         pts_y.append(Mapping2D(tofpet_iD[i],tofpet_channeL[i])) #adding coords to set for coordinates (Y,Z)\n",
    "    \n",
    "print(pts_x)\n",
    "print(pts_y)    \n",
    "    "
   ]
  },
  {
   "cell_type": "code",
   "execution_count": 126,
   "id": "f3adb9e7",
   "metadata": {},
   "outputs": [],
   "source": [
    "# map = np.zeros((8,24))\n",
    "# for hit in hits:\n",
    "#     map[int(hit.coord[1]-1),int(hit.coord[0]-1)]=1\n",
    "# plt.figure()\n",
    "# plt.matshow(map,origin='lower',extent=[0.5, 0.5+n_strips, 0.5, 0.5+n_layers])\n",
    "# plt.plot(x0m+tm*z,z,'r-')\n",
    "# plt.plot(x0o+to*z,z,'g-')"
   ]
  },
  {
   "cell_type": "code",
   "execution_count": 127,
   "id": "ad2e2ee2",
   "metadata": {},
   "outputs": [
    {
     "data": {
      "text/plain": [
       "<matplotlib.image.AxesImage at 0x7fba448b7310>"
      ]
     },
     "execution_count": 127,
     "metadata": {},
     "output_type": "execute_result"
    },
    {
     "data": {
      "text/plain": [
       "<Figure size 432x288 with 0 Axes>"
      ]
     },
     "metadata": {},
     "output_type": "display_data"
    },
    {
     "data": {
      "image/png": "[encoded data removed]",
      "text/plain": [
       "<Figure size 864x288 with 1 Axes>"
      ]
     },
     "metadata": {
      "needs_background": "light"
     },
     "output_type": "display_data"
    }
   ],
   "source": [
    "n_layers = 8\n",
    "n_strips = 24\n",
    "map = np.zeros((8,24))\n",
    "for coord in pts_x:\n",
    "    map[int(coord[1]-1),int(coord[0]-1)]=1\n",
    "plt.figure()\n",
    "plt.matshow(map,origin='lower',extent=[0.5, 0.5+n_strips, 0.5, 0.5+n_layers])"
   ]
  },
  {
   "cell_type": "code",
   "execution_count": 128,
   "id": "01177f33",
   "metadata": {},
   "outputs": [],
   "source": [
    "# findneighbours(center, candidates)\n",
    "def findneighbours(center, candidates):\n",
    "    neighbours = []\n",
    "    for i in range(len(candidates)):\n",
    "        for shift in [-1,1]:\n",
    "            if candidates[i] == [center[0],center[1]+shift] or candidates[i] == [center[0]+shift, center[1]]:  #center[0] - X coordinate and center[1] - Z coordinate\n",
    "                neighbours.append(candidates[i])\n",
    "    return neighbours"
   ]
  },
  {
   "cell_type": "code",
   "execution_count": 129,
   "id": "a0686c8d",
   "metadata": {},
   "outputs": [
    {
     "name": "stdout",
     "output_type": "stream",
     "text": [
      "[[5, 8], [6, 8]]\n"
     ]
    }
   ],
   "source": [
    "# hits=[]\n",
    "# hits.append(pts_x)\n",
    "# while len(hits)!=0:\n",
    "#   cluster=[]\n",
    "#   rootpoint=hits[0]\n",
    "#   cluster.append(rootpoint)\n",
    "#   hits.remove(rootpoint)\n",
    "#   neighbours=[]\n",
    "hits = []\n",
    "hits += pts_x #+= this is hits = hits + pts_x\n",
    "# rootpoint = hits[0]\n",
    "# print(rootpoint)\n",
    "while len(hits) != 0:\n",
    "    cluster = []\n",
    "    rootpoint = hits[0]\n",
    "    cluster.append(rootpoint)\n",
    "    hits.remove(rootpoint)\n",
    "    neighbours = []\n",
    "    neighbours = findneighbours(rootpoint, hits)\n",
    "    while len(neighbours)!=0:\n",
    "#         newcenter = []\n",
    "        newcenter = neighbours[0]\n",
    "        cluster.append(newcenter)\n",
    "        neighbours.remove(newcenter)\n",
    "        hits.remove(newcenter)\n",
    "        neighbours = neighbours + findneighbours(newcenter,hits) #no need bc we have to remove neighb of neighb from hits\n",
    "#         newcenter_neighbours=findneighbours(newcenter, hits)\n",
    "#         hits.remove(newcenter_neighbours)\n",
    "#         neighbours.append(newcenter_neighbours) \n",
    "        \n",
    "#     if len(neighbours) == 0:\n",
    "#         cluster.remove(rootpoint)\n",
    "#     else:\n",
    "#         cluster.append(neighbours)\n",
    "\n",
    "\n",
    "\n",
    "\n",
    "    if len(cluster)>1:\n",
    "        print(cluster)\n",
    "    \n",
    "#     print(neighbours)\n",
    "\n"
   ]
  },
  {
   "cell_type": "code",
   "execution_count": 130,
   "id": "48d6098e",
   "metadata": {},
   "outputs": [
    {
     "name": "stdout",
     "output_type": "stream",
     "text": [
      "[[5, 3], [2, 3], [1, 2], [2, 2], [1, 3], [2, 1]]\n"
     ]
    }
   ],
   "source": [
    "test1 = [[5,3],[2,3],[1,2]]\n",
    "test2 = [[2,2],[1,3],[2,1]]\n",
    "test1 = test1+test2\n",
    "print(test1)"
   ]
  },
  {
   "cell_type": "code",
   "execution_count": 131,
   "id": "134211b3",
   "metadata": {},
   "outputs": [],
   "source": [
    "# findneighbours(pts_x[-1],pts_x)"
   ]
  },
  {
   "cell_type": "code",
   "execution_count": 132,
   "id": "e11249a8",
   "metadata": {},
   "outputs": [
    {
     "data": {
      "text/plain": [
       "[[1, 2], [1, 0], [0, 1]]"
      ]
     },
     "execution_count": 132,
     "metadata": {},
     "output_type": "execute_result"
    }
   ],
   "source": [
    "pts_test=[[1,2],[1,0],[0,1],[4,1]]   #test of findneighbours function\n",
    "centerpoint=[1,1]\n",
    "findneighbours(centerpoint,pts_test)"
   ]
  },
  {
   "cell_type": "code",
   "execution_count": 133,
   "id": "39dbe966",
   "metadata": {},
   "outputs": [],
   "source": [
    "class clusters:\n",
    "    def __init__(self,points):\n",
    "        self.pts=points\n",
    "        self.l=len(points)"
   ]
  },
  {
   "cell_type": "code",
   "execution_count": 134,
   "id": "dcf2862c",
   "metadata": {},
   "outputs": [],
   "source": [
    "hits=[]\n",
    "hits+=pts_x\n",
    "outlist=[]\n",
    "while len(hits)!=0:\n",
    "    cluster=[]\n",
    "    rootpoint=hits[0]\n",
    "    cluster.append(rootpoint)\n",
    "    hits.remove(rootpoint)\n",
    "    neighbours=[]\n",
    "    neighbours+=findneighbours(rootpoint,hits)\n",
    "    #cluster+=neighbours\n",
    "    #hits=del_list(hits,neighbours)\n",
    "    while len(neighbours)!=0:\n",
    "        newcenter=neighbours[0]\n",
    "        hits.remove(newcenter)\n",
    "        neighbours.remove(newcenter)\n",
    "        cluster.append(newcenter)\n",
    "        neighbours+=findneighbours(newcenter,hits)\n",
    "    \n",
    "    if len(cluster)>1:\n",
    "        x=clusters(cluster)\n",
    "        outlist.append(x)\n",
    "    "
   ]
  },
  {
   "cell_type": "code",
   "execution_count": 135,
   "id": "0bb65b8d",
   "metadata": {},
   "outputs": [
    {
     "name": "stdout",
     "output_type": "stream",
     "text": [
      "[[5, 8], [6, 8]]\n"
     ]
    }
   ],
   "source": [
    "for i in range(len(outlist)):\n",
    "    print(outlist[i].pts)"
   ]
  },
  {
   "cell_type": "code",
   "execution_count": 136,
   "id": "95fe7724",
   "metadata": {},
   "outputs": [
    {
     "name": "stdout",
     "output_type": "stream",
     "text": [
      "[[5, 8], [6, 8]]\n"
     ]
    }
   ],
   "source": [
    "print(outlist[0].pts)"
   ]
  },
  {
   "cell_type": "code",
   "execution_count": null,
   "id": "67520615",
   "metadata": {},
   "outputs": [],
   "source": []
  }
 ],
 "metadata": {
  "kernelspec": {
   "display_name": "Python 3 (ipykernel)",
   "language": "python",
   "name": "python3"
  },
  "language_info": {
   "codemirror_mode": {
    "name": "ipython",
    "version": 3
   },
   "file_extension": ".py",
   "mimetype": "text/x-python",
   "name": "python",
   "nbconvert_exporter": "python",
   "pygments_lexer": "ipython3",
   "version": "3.9.12"
  }
 },
 "nbformat": 4,
 "nbformat_minor": 5
}
