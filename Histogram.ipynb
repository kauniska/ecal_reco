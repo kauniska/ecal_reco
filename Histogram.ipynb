{
 "cells": [
  {
   "cell_type": "code",
   "execution_count": 1,
   "id": "ad541fc2",
   "metadata": {},
   "outputs": [],
   "source": [
    "import pandas as pd\n",
    "import uproot\n",
    "#import uproot3\n",
    "import numpy as np\n",
    "# import track_time_calibration as ttc\n",
    "import matplotlib.pyplot as plt\n",
    "import sys\n",
    "sys.path.insert(1, '/Users/dariaberezovska/ecal_rec2/ecal_reco/tracking')\n",
    "import track_reconstruction as tr\n",
    "# def merger(Array_of_paths):\n",
    "#     br_list_data = ['n_hits', 'tofpet_id', 'tofpet_channel', 'timestamp']#, 't_coarse', 't_fine', 'timestamp', 'v_coarse', 'v_fine', 'value', 'timestamp_cal_chi2', 'timestamp_cal_dof', 'value_cal_chi2', 'value_cal_dof', 'value_saturation']   \n",
    "#     df_general = pd.DataFrame(columns = br_list_data)\n",
    "#     for element in Array_of_paths:\n",
    "#         Tname = 'board_57'\n",
    "#         # Extract the data and transform it into a dataframe\n",
    "#         with uproot.open(element) as tree:\n",
    "#             dict_ecal = tree[Tname].arrays(br_list_data, library=\"np\")\n",
    "#         ## REALLY IMPORTANT, THE TIME CALIBRATION MUST BE DONE USIGN THE SAME DATAFRAME AS THE ONE USED TO RECONSTRUCT THE TRACK\n",
    "\n",
    "#         df = pd.DataFrame.from_dict(dict_ecal).query('n_hits>6')\n",
    "#         df['path_id'] = element\n",
    "#         df=df.query('n_hits<18')\n",
    "#         #print(df)\n",
    "#         df_general=df_general.append(df)\n",
    "#     print(df_general)\n",
    "#     return df_general\n",
    "## THUS FAR WE HAVE OPENED AND CREATED A GENERIC DATAFRAME ##\n",
    "\n",
    "\n",
    "\n"
   ]
  },
  {
   "cell_type": "code",
   "execution_count": 2,
   "id": "64db8570",
   "metadata": {},
   "outputs": [],
   "source": [
    "file_path = '/Users/dariaberezovska/!TP4a/test_tracking/10h/data_0000.root' ## later, one can use concatenation of data_0001.root - data_0008.root files as well. One is enough for testing\n",
    "\n",
    "hits_tree = 'board_57'\n",
    "evt_tree = 'event'\n",
    "# br_list_data = ['n_hits', 'tofpet_id', 'tofpet_channel', 'timestamp']#, 't_coarse', 't_fine', 'timestamp', 'v_coarse', 'v_fine', 'value', 'timestamp_cal_chi2', 'timestamp_cal_dof', 'value_cal_chi2', 'value_cal_dof', 'value_saturation']\n",
    "br_list_data = ['n_hits', 'tofpet_id', 'tofpet_channel', 'timestamp', 't_coarse', 't_fine', 'timestamp', 'v_coarse', 'v_fine', 'value']\n",
    "br_list_evt = ['timestamp', 'evt_number', 'flags']\n",
    "with uproot.open(file_path) as tree:\n",
    "    hits_dict = tree[hits_tree].arrays(br_list_data, library=\"np\")\n",
    "    evts_dict = tree[evt_tree].arrays(br_list_evt, library=\"np\")\n",
    "    \n",
    "# df_hits = pd.DataFrame.from_dict(hits_dict).query('n_hits > 3')\n",
    "df_hits = pd.DataFrame.from_dict(hits_dict)\n",
    "df_evts = pd.DataFrame.from_dict(evts_dict)\n",
    "\n",
    "\n"
   ]
  },
  {
   "cell_type": "code",
   "execution_count": 3,
   "id": "c537dab3",
   "metadata": {},
   "outputs": [],
   "source": [
    "df_hits['timestamp_global'] = df_evts['timestamp']\n",
    "df_hits.query('n_hits > 2', inplace=True)"
   ]
  },
  {
   "cell_type": "code",
   "execution_count": 4,
   "id": "92ab0544",
   "metadata": {},
   "outputs": [
    {
     "data": {
      "text/plain": [
       "<matplotlib.legend.Legend at 0x7ff09e38f8e0>"
      ]
     },
     "execution_count": 4,
     "metadata": {},
     "output_type": "execute_result"
    },
    {
     "data": {
      "image/png": "[encoded data removed]",
      "text/plain": [
       "<Figure size 432x288 with 1 Axes>"
      ]
     },
     "metadata": {
      "needs_background": "light"
     },
     "output_type": "display_data"
    }
   ],
   "source": [
    "# basic histogram\n",
    "hits_table=df_hits['n_hits'].to_numpy()\n",
    "hits_table_cut=hits_table[hits_table>2]\n",
    "plt.hist(hits_table_cut,bins = 100,log = True)\n",
    "plt.xlabel('number of hits per event')\n",
    "plt.ylabel('number of events in bin')\n",
    "plt.legend('n')"
   ]
  },
  {
   "cell_type": "code",
   "execution_count": null,
   "id": "12137a91",
   "metadata": {},
   "outputs": [],
   "source": []
  }
 ],
 "metadata": {
  "kernelspec": {
   "display_name": "Python 3 (ipykernel)",
   "language": "python",
   "name": "python3"
  },
  "language_info": {
   "codemirror_mode": {
    "name": "ipython",
    "version": 3
   },
   "file_extension": ".py",
   "mimetype": "text/x-python",
   "name": "python",
   "nbconvert_exporter": "python",
   "pygments_lexer": "ipython3",
   "version": "3.9.12"
  }
 },
 "nbformat": 4,
 "nbformat_minor": 5
}
